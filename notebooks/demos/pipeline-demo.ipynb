{
 "cells": [
  {
   "cell_type": "markdown",
   "id": "63bd2590",
   "metadata": {},
   "source": [
    "This notebook explores sklearn [Pipelines](https://scikit-learn.org/stable/modules/generated/sklearn.pipeline.Pipeline.html), some dsmatch Transformers, and demonstrates the basic principles of building our sklearn models as series of several transformers.\n",
    "\n",
    "**Author:** Tom McTavish\n",
    "\n",
    "**Date:** March 22, 2022\n",
    "\n",
    "# Introduction\n",
    "\n",
    "A sklearn [Pipeline](https://scikit-learn.org/stable/modules/generated/sklearn.pipeline.Pipeline.html) is a series of [Transformers](https://scikit-learn.org/stable/data_transforms.html) that take a 1D or 2D array (or Series or DataFrame) and perform some sort of transformation to it.\n",
    "\n",
    "A model may need to perform several different operations as it computes outputs. When architecting these operations as individual Transformer objects and placing them into the Pipeline architecture, we can take advantage of the various mechanisms to visualize, interrogate, and understand the model."
   ]
  },
  {
   "cell_type": "code",
   "execution_count": 1,
   "id": "05101ab8",
   "metadata": {
    "scrolled": false
   },
   "outputs": [],
   "source": [
    "# %pip install -e \"git+ssh://git@bitbucket.org/dhigroupinc/dhi-match-datascience.git@MATCH-2391-create-submodel-demo#egg=dhi-dsmatch[training]&subdirectory=src/dhi-dsmatch\"\n",
    "import os\n",
    "import sys\n",
    "\n",
    "new_path = [os.path.abspath(os.path.join(os.getcwd(), '..', '..', 'src', 'dhi-dsmatch'))]\n",
    "new_path.extend(sys.path)\n",
    "sys.path = new_path"
   ]
  },
  {
   "cell_type": "code",
   "execution_count": 2,
   "id": "921e692f",
   "metadata": {
    "scrolled": false
   },
   "outputs": [],
   "source": [
    "# %pip install -U pandas\n",
    "# %pip install -U scipy\n",
    "# %pip install -U scikit-learn\n",
    "# %pip install -U numpy\n",
    "# %pip install -U matplotlib"
   ]
  },
  {
   "cell_type": "code",
   "execution_count": 3,
   "id": "52e7f7ed",
   "metadata": {},
   "outputs": [],
   "source": [
    "import numpy as np\n",
    "import pandas as pd\n",
    "import joblib\n",
    "from sklearn.compose import ColumnTransformer\n",
    "from sklearn.pipeline import Pipeline\n",
    "from sklearn.pipeline import FeatureUnion\n",
    "from sklearn.base import TransformerMixin\n",
    "from sklearn.preprocessing import FunctionTransformer\n",
    "from sklearn import set_config\n",
    "set_config(display='diagram')\n",
    "from IPython.core.display import HTML"
   ]
  },
  {
   "cell_type": "code",
   "execution_count": 4,
   "id": "b7db6324",
   "metadata": {},
   "outputs": [],
   "source": [
    "from dhi.dsmatch.sklearnmodeling.models.applytransformer import ApplyTransformer\n",
    "from dhi.dsmatch.sklearnmodeling.functiontransformermapper import applymap, applyrows, try_member_func\n",
    "from dhi.dsmatch.sklearnmodeling.models.featureuniondataframe import FeatureUnionDataFrame\n",
    "from dhi.dsmatch.sklearnmodeling.models.columntransformerdataframe import ColumnTransformerDataFrame\n",
    "from dhi.dsmatch.sklearnmodeling.models.mixins import FilterFunctionTransformer\n",
    "from dhi.dsmatch.sklearnmodeling.models.pipelinehelpers import FeatureNamesPipeline\n",
    "from dhi.dsmatch.sklearnmodeling.models.pipelinehelpers import findall_transformertype, leftjoin_pipeline\n",
    "from dhi.dsmatch.sklearnmodeling.transformercontext import intermediate_transforms"
   ]
  },
  {
   "cell_type": "markdown",
   "id": "f6998956",
   "metadata": {},
   "source": [
    "# Create a simple dataset."
   ]
  },
  {
   "cell_type": "code",
   "execution_count": 5,
   "id": "04739301",
   "metadata": {},
   "outputs": [
    {
     "data": {
      "text/html": [
       "<div>\n",
       "<style scoped>\n",
       "    .dataframe tbody tr th:only-of-type {\n",
       "        vertical-align: middle;\n",
       "    }\n",
       "\n",
       "    .dataframe tbody tr th {\n",
       "        vertical-align: top;\n",
       "    }\n",
       "\n",
       "    .dataframe thead th {\n",
       "        text-align: right;\n",
       "    }\n",
       "</style>\n",
       "<table border=\"1\" class=\"dataframe\">\n",
       "  <thead>\n",
       "    <tr style=\"text-align: right;\">\n",
       "      <th></th>\n",
       "      <th>first_name</th>\n",
       "      <th>last_name</th>\n",
       "      <th>age</th>\n",
       "    </tr>\n",
       "  </thead>\n",
       "  <tbody>\n",
       "    <tr>\n",
       "      <th>0</th>\n",
       "      <td>Anne</td>\n",
       "      <td>Bancroft</td>\n",
       "      <td>20</td>\n",
       "    </tr>\n",
       "    <tr>\n",
       "      <th>1</th>\n",
       "      <td>Bob</td>\n",
       "      <td>Dylan</td>\n",
       "      <td>21</td>\n",
       "    </tr>\n",
       "    <tr>\n",
       "      <th>2</th>\n",
       "      <td>Charlie</td>\n",
       "      <td>Chaplin</td>\n",
       "      <td>22</td>\n",
       "    </tr>\n",
       "    <tr>\n",
       "      <th>3</th>\n",
       "      <td>Bob</td>\n",
       "      <td>Marley</td>\n",
       "      <td>23</td>\n",
       "    </tr>\n",
       "  </tbody>\n",
       "</table>\n",
       "</div>"
      ],
      "text/plain": [
       "  first_name last_name  age\n",
       "0       Anne  Bancroft   20\n",
       "1        Bob     Dylan   21\n",
       "2    Charlie   Chaplin   22\n",
       "3        Bob    Marley   23"
      ]
     },
     "execution_count": 5,
     "metadata": {},
     "output_type": "execute_result"
    }
   ],
   "source": [
    "df = pd.DataFrame({\n",
    "    'first_name': ['Anne', 'Bob', 'Charlie', 'Bob'],\n",
    "    'last_name': ['Bancroft', 'Dylan', 'Chaplin', 'Marley'],\n",
    "    'age': [20, 21, 22, 23],\n",
    "})\n",
    "\n",
    "df"
   ]
  },
  {
   "cell_type": "markdown",
   "id": "2660696d",
   "metadata": {},
   "source": [
    "# Create some Transformers and look at their functionality.\n",
    "\n",
    "With our simple dataset, let's build some simple string manipulation Transformers.\n",
    "\n",
    "Here we use the [ApplyTransformer](https://bitbucket.org/dhigroupinc/dhi-match-datascience/src/master/src/dhi-dsmatch/dhi/dsmatch/sklearnmodeling/models/applytransformer.py) with [applymap](https://bitbucket.org/dhigroupinc/dhi-match-datascience/src/master/src/dhi-dsmatch/dhi/dsmatch/sklearnmodeling/functiontransformermapper.py) that apply a function across all cells of the DataFrame passed to it and will parallelize by splitting the DataFrame by rows if we are fitting or transforming a lot of data."
   ]
  },
  {
   "cell_type": "code",
   "execution_count": 6,
   "id": "9da93326",
   "metadata": {
    "scrolled": false
   },
   "outputs": [
    {
     "data": {
      "text/html": [
       "<div>\n",
       "<style scoped>\n",
       "    .dataframe tbody tr th:only-of-type {\n",
       "        vertical-align: middle;\n",
       "    }\n",
       "\n",
       "    .dataframe tbody tr th {\n",
       "        vertical-align: top;\n",
       "    }\n",
       "\n",
       "    .dataframe thead th {\n",
       "        text-align: right;\n",
       "    }\n",
       "</style>\n",
       "<table border=\"1\" class=\"dataframe\">\n",
       "  <thead>\n",
       "    <tr style=\"text-align: right;\">\n",
       "      <th></th>\n",
       "      <th>first_name</th>\n",
       "      <th>last_name</th>\n",
       "    </tr>\n",
       "  </thead>\n",
       "  <tbody>\n",
       "    <tr>\n",
       "      <th>0</th>\n",
       "      <td>anne</td>\n",
       "      <td>bancroft</td>\n",
       "    </tr>\n",
       "    <tr>\n",
       "      <th>1</th>\n",
       "      <td>bob</td>\n",
       "      <td>dylan</td>\n",
       "    </tr>\n",
       "    <tr>\n",
       "      <th>2</th>\n",
       "      <td>charlie</td>\n",
       "      <td>chaplin</td>\n",
       "    </tr>\n",
       "    <tr>\n",
       "      <th>3</th>\n",
       "      <td>bob</td>\n",
       "      <td>marley</td>\n",
       "    </tr>\n",
       "  </tbody>\n",
       "</table>\n",
       "</div>"
      ],
      "text/plain": [
       "  first_name last_name\n",
       "0       anne  bancroft\n",
       "1        bob     dylan\n",
       "2    charlie   chaplin\n",
       "3        bob    marley"
      ]
     },
     "execution_count": 6,
     "metadata": {},
     "output_type": "execute_result"
    }
   ],
   "source": [
    "lowercase_tx = ApplyTransformer(apply_func=applymap, func=str.lower)\n",
    "lowercase_tx.transform(df[['first_name', 'last_name']])"
   ]
  },
  {
   "cell_type": "markdown",
   "id": "7b0d55c2",
   "metadata": {},
   "source": [
    "Note that rather than sending specific columns in the `transform()` method, the ApplyTransformer (and other objects in dsmatch) use the [FilterTransformer](https://bitbucket.org/dhigroupinc/dhi-match-datascience/src/master/src/dhi-dsmatch/dhi/dsmatch/sklearnmodeling/models/mixins.py) to specify which columns to transform and we can send the whole DataFrame to the model's transform method. Since many transformers including ApplyTransformer may alter the original object even though it returns that object, we will send a copy of our original dataframe to these examples.\n",
    "\n",
    "### Filtering with keys as a list\n",
    "\n",
    "Here, we specify the keys to be modified, which replaces their values."
   ]
  },
  {
   "cell_type": "code",
   "execution_count": 7,
   "id": "5d1b0dac",
   "metadata": {},
   "outputs": [
    {
     "data": {
      "text/html": [
       "<div>\n",
       "<style scoped>\n",
       "    .dataframe tbody tr th:only-of-type {\n",
       "        vertical-align: middle;\n",
       "    }\n",
       "\n",
       "    .dataframe tbody tr th {\n",
       "        vertical-align: top;\n",
       "    }\n",
       "\n",
       "    .dataframe thead th {\n",
       "        text-align: right;\n",
       "    }\n",
       "</style>\n",
       "<table border=\"1\" class=\"dataframe\">\n",
       "  <thead>\n",
       "    <tr style=\"text-align: right;\">\n",
       "      <th></th>\n",
       "      <th>first_name</th>\n",
       "      <th>last_name</th>\n",
       "      <th>age</th>\n",
       "    </tr>\n",
       "  </thead>\n",
       "  <tbody>\n",
       "    <tr>\n",
       "      <th>0</th>\n",
       "      <td>anne</td>\n",
       "      <td>bancroft</td>\n",
       "      <td>20</td>\n",
       "    </tr>\n",
       "    <tr>\n",
       "      <th>1</th>\n",
       "      <td>bob</td>\n",
       "      <td>dylan</td>\n",
       "      <td>21</td>\n",
       "    </tr>\n",
       "    <tr>\n",
       "      <th>2</th>\n",
       "      <td>charlie</td>\n",
       "      <td>chaplin</td>\n",
       "      <td>22</td>\n",
       "    </tr>\n",
       "    <tr>\n",
       "      <th>3</th>\n",
       "      <td>bob</td>\n",
       "      <td>marley</td>\n",
       "      <td>23</td>\n",
       "    </tr>\n",
       "  </tbody>\n",
       "</table>\n",
       "</div>"
      ],
      "text/plain": [
       "  first_name last_name  age\n",
       "0       anne  bancroft   20\n",
       "1        bob     dylan   21\n",
       "2    charlie   chaplin   22\n",
       "3        bob    marley   23"
      ]
     },
     "execution_count": 7,
     "metadata": {},
     "output_type": "execute_result"
    }
   ],
   "source": [
    "lowercase_tx = ApplyTransformer(applymap, str.lower, keys=['first_name', 'last_name'])\n",
    "lowercase_tx.transform(df.copy())  # Pass the whole DataFrame                 "
   ]
  },
  {
   "cell_type": "markdown",
   "id": "8d9e2c5d",
   "metadata": {},
   "source": [
    "### Append by specifying input/output pairs as a dict\n",
    "\n",
    "Here we make `keys` a dict of `'<input>':'<output>'` pairs. This appends the output columns."
   ]
  },
  {
   "cell_type": "code",
   "execution_count": 8,
   "id": "36328b12",
   "metadata": {},
   "outputs": [
    {
     "data": {
      "text/html": [
       "<div>\n",
       "<style scoped>\n",
       "    .dataframe tbody tr th:only-of-type {\n",
       "        vertical-align: middle;\n",
       "    }\n",
       "\n",
       "    .dataframe tbody tr th {\n",
       "        vertical-align: top;\n",
       "    }\n",
       "\n",
       "    .dataframe thead th {\n",
       "        text-align: right;\n",
       "    }\n",
       "</style>\n",
       "<table border=\"1\" class=\"dataframe\">\n",
       "  <thead>\n",
       "    <tr style=\"text-align: right;\">\n",
       "      <th></th>\n",
       "      <th>first_name</th>\n",
       "      <th>last_name</th>\n",
       "      <th>age</th>\n",
       "      <th>first_lower</th>\n",
       "      <th>last_lower</th>\n",
       "    </tr>\n",
       "  </thead>\n",
       "  <tbody>\n",
       "    <tr>\n",
       "      <th>0</th>\n",
       "      <td>Anne</td>\n",
       "      <td>Bancroft</td>\n",
       "      <td>20</td>\n",
       "      <td>anne</td>\n",
       "      <td>bancroft</td>\n",
       "    </tr>\n",
       "    <tr>\n",
       "      <th>1</th>\n",
       "      <td>Bob</td>\n",
       "      <td>Dylan</td>\n",
       "      <td>21</td>\n",
       "      <td>bob</td>\n",
       "      <td>dylan</td>\n",
       "    </tr>\n",
       "    <tr>\n",
       "      <th>2</th>\n",
       "      <td>Charlie</td>\n",
       "      <td>Chaplin</td>\n",
       "      <td>22</td>\n",
       "      <td>charlie</td>\n",
       "      <td>chaplin</td>\n",
       "    </tr>\n",
       "    <tr>\n",
       "      <th>3</th>\n",
       "      <td>Bob</td>\n",
       "      <td>Marley</td>\n",
       "      <td>23</td>\n",
       "      <td>bob</td>\n",
       "      <td>marley</td>\n",
       "    </tr>\n",
       "  </tbody>\n",
       "</table>\n",
       "</div>"
      ],
      "text/plain": [
       "  first_name last_name  age first_lower last_lower\n",
       "0       Anne  Bancroft   20        anne   bancroft\n",
       "1        Bob     Dylan   21         bob      dylan\n",
       "2    Charlie   Chaplin   22     charlie    chaplin\n",
       "3        Bob    Marley   23         bob     marley"
      ]
     },
     "execution_count": 8,
     "metadata": {},
     "output_type": "execute_result"
    }
   ],
   "source": [
    "lowercase_tx = ApplyTransformer(\n",
    "    applymap, \n",
    "    str.lower, \n",
    "    keys={\n",
    "        'first_name': 'first_lower',\n",
    "        'last_name': 'last_lower'\n",
    "    }\n",
    ")\n",
    "lowercase_tx.transform(df.copy())  # Pass the whole DataFrame                 "
   ]
  },
  {
   "cell_type": "markdown",
   "id": "fa47ca1d",
   "metadata": {},
   "source": [
    "### Filter output by specifying `feature_names_out`\n",
    "\n",
    "The ApplyTransformer (and other dsmatch transformers) also incorporates the [FeatureNamesMixin](https://bitbucket.org/dhigroupinc/dhi-match-datascience/src/master/src/dhi-dsmatch/dhi/dsmatch/sklearnmodeling/models/mixins.py), which allows us to specify the output columns we want to keep."
   ]
  },
  {
   "cell_type": "code",
   "execution_count": 9,
   "id": "39115aad",
   "metadata": {},
   "outputs": [
    {
     "data": {
      "text/html": [
       "<div>\n",
       "<style scoped>\n",
       "    .dataframe tbody tr th:only-of-type {\n",
       "        vertical-align: middle;\n",
       "    }\n",
       "\n",
       "    .dataframe tbody tr th {\n",
       "        vertical-align: top;\n",
       "    }\n",
       "\n",
       "    .dataframe thead th {\n",
       "        text-align: right;\n",
       "    }\n",
       "</style>\n",
       "<table border=\"1\" class=\"dataframe\">\n",
       "  <thead>\n",
       "    <tr style=\"text-align: right;\">\n",
       "      <th></th>\n",
       "      <th>last_name</th>\n",
       "      <th>first_lower</th>\n",
       "    </tr>\n",
       "  </thead>\n",
       "  <tbody>\n",
       "    <tr>\n",
       "      <th>0</th>\n",
       "      <td>Bancroft</td>\n",
       "      <td>anne</td>\n",
       "    </tr>\n",
       "    <tr>\n",
       "      <th>1</th>\n",
       "      <td>Dylan</td>\n",
       "      <td>bob</td>\n",
       "    </tr>\n",
       "    <tr>\n",
       "      <th>2</th>\n",
       "      <td>Chaplin</td>\n",
       "      <td>charlie</td>\n",
       "    </tr>\n",
       "    <tr>\n",
       "      <th>3</th>\n",
       "      <td>Marley</td>\n",
       "      <td>bob</td>\n",
       "    </tr>\n",
       "  </tbody>\n",
       "</table>\n",
       "</div>"
      ],
      "text/plain": [
       "  last_name first_lower\n",
       "0  Bancroft        anne\n",
       "1     Dylan         bob\n",
       "2   Chaplin     charlie\n",
       "3    Marley         bob"
      ]
     },
     "execution_count": 9,
     "metadata": {},
     "output_type": "execute_result"
    }
   ],
   "source": [
    "lowercase_tx = ApplyTransformer(\n",
    "    applymap, \n",
    "    str.lower, \n",
    "    keys={'first_name': 'first_lower'},\n",
    "    feature_names_out=['last_name', 'first_lower']\n",
    ")\n",
    "lowercase_tx.transform(df.copy())  # Pass the whole DataFrame"
   ]
  },
  {
   "cell_type": "markdown",
   "id": "d92553c3",
   "metadata": {},
   "source": [
    "## Conjoining with keys of `keys` as a tuple\n",
    "\n",
    "#### FilterFunctionTransformer\n",
    "\n",
    "The FilterFunctionTransformer also takes keys. It is a sklearn [FunctionTransformer](https://scikit-learn.org/stable/modules/generated/sklearn.preprocessing.FunctionTransformer.html), but also takes `keys` for filtering inputs and `feature_names_out` for specifying outputs. This operates on the whole DataFrame, not just individual columns or cells in the DataFrame. In this example, the keys of the `keys` parameter are tuples so we can provide multiple columns as input to the transformation, but it provides only a single column as output, which we name `concat`."
   ]
  },
  {
   "cell_type": "code",
   "execution_count": 10,
   "id": "e49784ea",
   "metadata": {},
   "outputs": [
    {
     "data": {
      "text/html": [
       "<div>\n",
       "<style scoped>\n",
       "    .dataframe tbody tr th:only-of-type {\n",
       "        vertical-align: middle;\n",
       "    }\n",
       "\n",
       "    .dataframe tbody tr th {\n",
       "        vertical-align: top;\n",
       "    }\n",
       "\n",
       "    .dataframe thead th {\n",
       "        text-align: right;\n",
       "    }\n",
       "</style>\n",
       "<table border=\"1\" class=\"dataframe\">\n",
       "  <thead>\n",
       "    <tr style=\"text-align: right;\">\n",
       "      <th></th>\n",
       "      <th>age</th>\n",
       "      <th>concat</th>\n",
       "    </tr>\n",
       "  </thead>\n",
       "  <tbody>\n",
       "    <tr>\n",
       "      <th>0</th>\n",
       "      <td>20</td>\n",
       "      <td>Anne Bancroft</td>\n",
       "    </tr>\n",
       "    <tr>\n",
       "      <th>1</th>\n",
       "      <td>21</td>\n",
       "      <td>Bob Dylan</td>\n",
       "    </tr>\n",
       "    <tr>\n",
       "      <th>2</th>\n",
       "      <td>22</td>\n",
       "      <td>Charlie Chaplin</td>\n",
       "    </tr>\n",
       "    <tr>\n",
       "      <th>3</th>\n",
       "      <td>23</td>\n",
       "      <td>Bob Marley</td>\n",
       "    </tr>\n",
       "  </tbody>\n",
       "</table>\n",
       "</div>"
      ],
      "text/plain": [
       "   age           concat\n",
       "0   20    Anne Bancroft\n",
       "1   21        Bob Dylan\n",
       "2   22  Charlie Chaplin\n",
       "3   23       Bob Marley"
      ]
     },
     "execution_count": 10,
     "metadata": {},
     "output_type": "execute_result"
    }
   ],
   "source": [
    "def strcat_cols(df, fill=''):\n",
    "    return [f'{fill}'.join(row[1:]) for row in df.itertuples()]\n",
    "\n",
    "concat_tx = FilterFunctionTransformer(\n",
    "    strcat_cols, \n",
    "    keys={('first_name', 'last_name'): 'concat'},\n",
    "    feature_names_out=FilterFunctionTransformer.calling_feature_names_out,\n",
    "    kw_args=dict(fill=' ')\n",
    ")\n",
    "concat_tx.called_feature_names_out_ = ['age', 'concat']\n",
    "concat_tx.transform(df.copy())"
   ]
  },
  {
   "cell_type": "markdown",
   "id": "bf228236",
   "metadata": {},
   "source": [
    "## Splitting with values of `keys` as a tuple\n",
    "\n",
    "The following example shows that if a column splits into multiple columns, those outputs can be specified as a tuple in the value field."
   ]
  },
  {
   "cell_type": "code",
   "execution_count": 11,
   "id": "9fc6428e",
   "metadata": {
    "scrolled": false
   },
   "outputs": [
    {
     "data": {
      "text/html": [
       "<div>\n",
       "<style scoped>\n",
       "    .dataframe tbody tr th:only-of-type {\n",
       "        vertical-align: middle;\n",
       "    }\n",
       "\n",
       "    .dataframe tbody tr th {\n",
       "        vertical-align: top;\n",
       "    }\n",
       "\n",
       "    .dataframe thead th {\n",
       "        text-align: right;\n",
       "    }\n",
       "</style>\n",
       "<table border=\"1\" class=\"dataframe\">\n",
       "  <thead>\n",
       "    <tr style=\"text-align: right;\">\n",
       "      <th></th>\n",
       "      <th>age</th>\n",
       "      <th>upper</th>\n",
       "      <th>lower</th>\n",
       "    </tr>\n",
       "  </thead>\n",
       "  <tbody>\n",
       "    <tr>\n",
       "      <th>0</th>\n",
       "      <td>20</td>\n",
       "      <td>ANNE</td>\n",
       "      <td>anne</td>\n",
       "    </tr>\n",
       "    <tr>\n",
       "      <th>1</th>\n",
       "      <td>21</td>\n",
       "      <td>BOB</td>\n",
       "      <td>bob</td>\n",
       "    </tr>\n",
       "    <tr>\n",
       "      <th>2</th>\n",
       "      <td>22</td>\n",
       "      <td>CHARLIE</td>\n",
       "      <td>charlie</td>\n",
       "    </tr>\n",
       "    <tr>\n",
       "      <th>3</th>\n",
       "      <td>23</td>\n",
       "      <td>BOB</td>\n",
       "      <td>bob</td>\n",
       "    </tr>\n",
       "  </tbody>\n",
       "</table>\n",
       "</div>"
      ],
      "text/plain": [
       "   age    upper    lower\n",
       "0   20     ANNE     anne\n",
       "1   21      BOB      bob\n",
       "2   22  CHARLIE  charlie\n",
       "3   23      BOB      bob"
      ]
     },
     "execution_count": 11,
     "metadata": {},
     "output_type": "execute_result"
    }
   ],
   "source": [
    "def split_col(c):\n",
    "    return c.apply([str.upper, str.lower])\n",
    "\n",
    "concat_tx = FilterFunctionTransformer(\n",
    "    split_col, \n",
    "    keys={'first_name': ('upper', 'lower')},\n",
    "    feature_names_out=FilterFunctionTransformer.calling_feature_names_out,\n",
    ")\n",
    "concat_tx.called_feature_names_out_ = ['age', 'upper', 'lower']\n",
    "concat_tx.transform(df.copy())"
   ]
  },
  {
   "cell_type": "markdown",
   "id": "b99eb01f",
   "metadata": {},
   "source": [
    "We now go back to creating a bank of different transformers that we'll assemble into pipelines."
   ]
  },
  {
   "cell_type": "code",
   "execution_count": 12,
   "id": "e9ad8f8e",
   "metadata": {},
   "outputs": [
    {
     "data": {
      "text/html": [
       "<div>\n",
       "<style scoped>\n",
       "    .dataframe tbody tr th:only-of-type {\n",
       "        vertical-align: middle;\n",
       "    }\n",
       "\n",
       "    .dataframe tbody tr th {\n",
       "        vertical-align: top;\n",
       "    }\n",
       "\n",
       "    .dataframe thead th {\n",
       "        text-align: right;\n",
       "    }\n",
       "</style>\n",
       "<table border=\"1\" class=\"dataframe\">\n",
       "  <thead>\n",
       "    <tr style=\"text-align: right;\">\n",
       "      <th></th>\n",
       "      <th>first_name</th>\n",
       "      <th>last_name</th>\n",
       "    </tr>\n",
       "  </thead>\n",
       "  <tbody>\n",
       "    <tr>\n",
       "      <th>0</th>\n",
       "      <td>ANNE</td>\n",
       "      <td>BANCROFT</td>\n",
       "    </tr>\n",
       "    <tr>\n",
       "      <th>1</th>\n",
       "      <td>BOB</td>\n",
       "      <td>DYLAN</td>\n",
       "    </tr>\n",
       "    <tr>\n",
       "      <th>2</th>\n",
       "      <td>CHARLIE</td>\n",
       "      <td>CHAPLIN</td>\n",
       "    </tr>\n",
       "    <tr>\n",
       "      <th>3</th>\n",
       "      <td>BOB</td>\n",
       "      <td>MARLEY</td>\n",
       "    </tr>\n",
       "  </tbody>\n",
       "</table>\n",
       "</div>"
      ],
      "text/plain": [
       "  first_name last_name\n",
       "0       ANNE  BANCROFT\n",
       "1        BOB     DYLAN\n",
       "2    CHARLIE   CHAPLIN\n",
       "3        BOB    MARLEY"
      ]
     },
     "execution_count": 12,
     "metadata": {},
     "output_type": "execute_result"
    }
   ],
   "source": [
    "lowercase_tx = ApplyTransformer(applymap, str.lower)\n",
    "uppercase_tx = ApplyTransformer(applymap, str.upper)\n",
    "uppercase_tx.transform(df[['first_name', 'last_name']])"
   ]
  },
  {
   "cell_type": "markdown",
   "id": "6f91c3b8",
   "metadata": {},
   "source": [
    "### Reverse v1\n",
    "\n",
    "Here's a reversing transformer that uses a lambda function."
   ]
  },
  {
   "cell_type": "code",
   "execution_count": 13,
   "id": "8072483e",
   "metadata": {},
   "outputs": [
    {
     "data": {
      "text/html": [
       "<div>\n",
       "<style scoped>\n",
       "    .dataframe tbody tr th:only-of-type {\n",
       "        vertical-align: middle;\n",
       "    }\n",
       "\n",
       "    .dataframe tbody tr th {\n",
       "        vertical-align: top;\n",
       "    }\n",
       "\n",
       "    .dataframe thead th {\n",
       "        text-align: right;\n",
       "    }\n",
       "</style>\n",
       "<table border=\"1\" class=\"dataframe\">\n",
       "  <thead>\n",
       "    <tr style=\"text-align: right;\">\n",
       "      <th></th>\n",
       "      <th>first_name</th>\n",
       "      <th>last_name</th>\n",
       "    </tr>\n",
       "  </thead>\n",
       "  <tbody>\n",
       "    <tr>\n",
       "      <th>0</th>\n",
       "      <td>ennA</td>\n",
       "      <td>tforcnaB</td>\n",
       "    </tr>\n",
       "    <tr>\n",
       "      <th>1</th>\n",
       "      <td>boB</td>\n",
       "      <td>nalyD</td>\n",
       "    </tr>\n",
       "    <tr>\n",
       "      <th>2</th>\n",
       "      <td>eilrahC</td>\n",
       "      <td>nilpahC</td>\n",
       "    </tr>\n",
       "    <tr>\n",
       "      <th>3</th>\n",
       "      <td>boB</td>\n",
       "      <td>yelraM</td>\n",
       "    </tr>\n",
       "  </tbody>\n",
       "</table>\n",
       "</div>"
      ],
      "text/plain": [
       "  first_name last_name\n",
       "0       ennA  tforcnaB\n",
       "1        boB     nalyD\n",
       "2    eilrahC   nilpahC\n",
       "3        boB    yelraM"
      ]
     },
     "execution_count": 13,
     "metadata": {},
     "output_type": "execute_result"
    }
   ],
   "source": [
    "reverse_tx = ApplyTransformer(applymap, lambda x: x[::-1])\n",
    "reverse_tx.transform(df[['first_name', 'last_name']])"
   ]
  },
  {
   "cell_type": "markdown",
   "id": "f26fa2b4",
   "metadata": {},
   "source": [
    "# Avoid Lambda Functions because they aren't pickleable.\n",
    "\n",
    "While this transformer works as expected, models should avoid lambda functions because lambda functions in python are not pickleable and therefore the model cannot be saved and reloaded from disk. This is seen in the error below."
   ]
  },
  {
   "cell_type": "code",
   "execution_count": 14,
   "id": "4b7368c0",
   "metadata": {},
   "outputs": [
    {
     "ename": "PicklingError",
     "evalue": "Can't pickle <function <lambda> at 0x7f88faac6af0>: it's not found as __main__.<lambda>",
     "output_type": "error",
     "traceback": [
      "\u001b[0;31m---------------------------------------------------------------------------\u001b[0m",
      "\u001b[0;31mPicklingError\u001b[0m                             Traceback (most recent call last)",
      "\u001b[0;32m<ipython-input-14-db96409ba438>\u001b[0m in \u001b[0;36m<module>\u001b[0;34m\u001b[0m\n\u001b[1;32m      1\u001b[0m \u001b[0;32mwith\u001b[0m \u001b[0mopen\u001b[0m\u001b[0;34m(\u001b[0m\u001b[0;34m'temp.joblib'\u001b[0m\u001b[0;34m,\u001b[0m \u001b[0;34m'wb'\u001b[0m\u001b[0;34m)\u001b[0m \u001b[0;32mas\u001b[0m \u001b[0mf\u001b[0m\u001b[0;34m:\u001b[0m\u001b[0;34m\u001b[0m\u001b[0;34m\u001b[0m\u001b[0m\n\u001b[0;32m----> 2\u001b[0;31m     \u001b[0mjoblib\u001b[0m\u001b[0;34m.\u001b[0m\u001b[0mdump\u001b[0m\u001b[0;34m(\u001b[0m\u001b[0mreverse_tx\u001b[0m\u001b[0;34m,\u001b[0m \u001b[0mf\u001b[0m\u001b[0;34m)\u001b[0m\u001b[0;34m\u001b[0m\u001b[0;34m\u001b[0m\u001b[0m\n\u001b[0m",
      "\u001b[0;32m~/SageMaker/tom/.custom-miniconda/miniconda/envs/Python3.8/lib/python3.8/site-packages/joblib/numpy_pickle.py\u001b[0m in \u001b[0;36mdump\u001b[0;34m(value, filename, compress, protocol, cache_size)\u001b[0m\n\u001b[1;32m    480\u001b[0m             \u001b[0mNumpyPickler\u001b[0m\u001b[0;34m(\u001b[0m\u001b[0mf\u001b[0m\u001b[0;34m,\u001b[0m \u001b[0mprotocol\u001b[0m\u001b[0;34m=\u001b[0m\u001b[0mprotocol\u001b[0m\u001b[0;34m)\u001b[0m\u001b[0;34m.\u001b[0m\u001b[0mdump\u001b[0m\u001b[0;34m(\u001b[0m\u001b[0mvalue\u001b[0m\u001b[0;34m)\u001b[0m\u001b[0;34m\u001b[0m\u001b[0;34m\u001b[0m\u001b[0m\n\u001b[1;32m    481\u001b[0m     \u001b[0;32melse\u001b[0m\u001b[0;34m:\u001b[0m\u001b[0;34m\u001b[0m\u001b[0;34m\u001b[0m\u001b[0m\n\u001b[0;32m--> 482\u001b[0;31m         \u001b[0mNumpyPickler\u001b[0m\u001b[0;34m(\u001b[0m\u001b[0mfilename\u001b[0m\u001b[0;34m,\u001b[0m \u001b[0mprotocol\u001b[0m\u001b[0;34m=\u001b[0m\u001b[0mprotocol\u001b[0m\u001b[0;34m)\u001b[0m\u001b[0;34m.\u001b[0m\u001b[0mdump\u001b[0m\u001b[0;34m(\u001b[0m\u001b[0mvalue\u001b[0m\u001b[0;34m)\u001b[0m\u001b[0;34m\u001b[0m\u001b[0;34m\u001b[0m\u001b[0m\n\u001b[0m\u001b[1;32m    483\u001b[0m \u001b[0;34m\u001b[0m\u001b[0m\n\u001b[1;32m    484\u001b[0m     \u001b[0;31m# If the target container is a file object, nothing is returned.\u001b[0m\u001b[0;34m\u001b[0m\u001b[0;34m\u001b[0m\u001b[0;34m\u001b[0m\u001b[0m\n",
      "\u001b[0;32m~/SageMaker/tom/.custom-miniconda/miniconda/envs/Python3.8/lib/python3.8/pickle.py\u001b[0m in \u001b[0;36mdump\u001b[0;34m(self, obj)\u001b[0m\n\u001b[1;32m    485\u001b[0m         \u001b[0;32mif\u001b[0m \u001b[0mself\u001b[0m\u001b[0;34m.\u001b[0m\u001b[0mproto\u001b[0m \u001b[0;34m>=\u001b[0m \u001b[0;36m4\u001b[0m\u001b[0;34m:\u001b[0m\u001b[0;34m\u001b[0m\u001b[0;34m\u001b[0m\u001b[0m\n\u001b[1;32m    486\u001b[0m             \u001b[0mself\u001b[0m\u001b[0;34m.\u001b[0m\u001b[0mframer\u001b[0m\u001b[0;34m.\u001b[0m\u001b[0mstart_framing\u001b[0m\u001b[0;34m(\u001b[0m\u001b[0;34m)\u001b[0m\u001b[0;34m\u001b[0m\u001b[0;34m\u001b[0m\u001b[0m\n\u001b[0;32m--> 487\u001b[0;31m         \u001b[0mself\u001b[0m\u001b[0;34m.\u001b[0m\u001b[0msave\u001b[0m\u001b[0;34m(\u001b[0m\u001b[0mobj\u001b[0m\u001b[0;34m)\u001b[0m\u001b[0;34m\u001b[0m\u001b[0;34m\u001b[0m\u001b[0m\n\u001b[0m\u001b[1;32m    488\u001b[0m         \u001b[0mself\u001b[0m\u001b[0;34m.\u001b[0m\u001b[0mwrite\u001b[0m\u001b[0;34m(\u001b[0m\u001b[0mSTOP\u001b[0m\u001b[0;34m)\u001b[0m\u001b[0;34m\u001b[0m\u001b[0;34m\u001b[0m\u001b[0m\n\u001b[1;32m    489\u001b[0m         \u001b[0mself\u001b[0m\u001b[0;34m.\u001b[0m\u001b[0mframer\u001b[0m\u001b[0;34m.\u001b[0m\u001b[0mend_framing\u001b[0m\u001b[0;34m(\u001b[0m\u001b[0;34m)\u001b[0m\u001b[0;34m\u001b[0m\u001b[0;34m\u001b[0m\u001b[0m\n",
      "\u001b[0;32m~/SageMaker/tom/.custom-miniconda/miniconda/envs/Python3.8/lib/python3.8/site-packages/joblib/numpy_pickle.py\u001b[0m in \u001b[0;36msave\u001b[0;34m(self, obj)\u001b[0m\n\u001b[1;32m    280\u001b[0m             \u001b[0;32mreturn\u001b[0m\u001b[0;34m\u001b[0m\u001b[0;34m\u001b[0m\u001b[0m\n\u001b[1;32m    281\u001b[0m \u001b[0;34m\u001b[0m\u001b[0m\n\u001b[0;32m--> 282\u001b[0;31m         \u001b[0;32mreturn\u001b[0m \u001b[0mPickler\u001b[0m\u001b[0;34m.\u001b[0m\u001b[0msave\u001b[0m\u001b[0;34m(\u001b[0m\u001b[0mself\u001b[0m\u001b[0;34m,\u001b[0m \u001b[0mobj\u001b[0m\u001b[0;34m)\u001b[0m\u001b[0;34m\u001b[0m\u001b[0;34m\u001b[0m\u001b[0m\n\u001b[0m\u001b[1;32m    283\u001b[0m \u001b[0;34m\u001b[0m\u001b[0m\n\u001b[1;32m    284\u001b[0m \u001b[0;34m\u001b[0m\u001b[0m\n",
      "\u001b[0;32m~/SageMaker/tom/.custom-miniconda/miniconda/envs/Python3.8/lib/python3.8/pickle.py\u001b[0m in \u001b[0;36msave\u001b[0;34m(self, obj, save_persistent_id)\u001b[0m\n\u001b[1;32m    601\u001b[0m \u001b[0;34m\u001b[0m\u001b[0m\n\u001b[1;32m    602\u001b[0m         \u001b[0;31m# Save the reduce() output and finally memoize the object\u001b[0m\u001b[0;34m\u001b[0m\u001b[0;34m\u001b[0m\u001b[0;34m\u001b[0m\u001b[0m\n\u001b[0;32m--> 603\u001b[0;31m         \u001b[0mself\u001b[0m\u001b[0;34m.\u001b[0m\u001b[0msave_reduce\u001b[0m\u001b[0;34m(\u001b[0m\u001b[0mobj\u001b[0m\u001b[0;34m=\u001b[0m\u001b[0mobj\u001b[0m\u001b[0;34m,\u001b[0m \u001b[0;34m*\u001b[0m\u001b[0mrv\u001b[0m\u001b[0;34m)\u001b[0m\u001b[0;34m\u001b[0m\u001b[0;34m\u001b[0m\u001b[0m\n\u001b[0m\u001b[1;32m    604\u001b[0m \u001b[0;34m\u001b[0m\u001b[0m\n\u001b[1;32m    605\u001b[0m     \u001b[0;32mdef\u001b[0m \u001b[0mpersistent_id\u001b[0m\u001b[0;34m(\u001b[0m\u001b[0mself\u001b[0m\u001b[0;34m,\u001b[0m \u001b[0mobj\u001b[0m\u001b[0;34m)\u001b[0m\u001b[0;34m:\u001b[0m\u001b[0;34m\u001b[0m\u001b[0;34m\u001b[0m\u001b[0m\n",
      "\u001b[0;32m~/SageMaker/tom/.custom-miniconda/miniconda/envs/Python3.8/lib/python3.8/pickle.py\u001b[0m in \u001b[0;36msave_reduce\u001b[0;34m(self, func, args, state, listitems, dictitems, state_setter, obj)\u001b[0m\n\u001b[1;32m    715\u001b[0m         \u001b[0;32mif\u001b[0m \u001b[0mstate\u001b[0m \u001b[0;32mis\u001b[0m \u001b[0;32mnot\u001b[0m \u001b[0;32mNone\u001b[0m\u001b[0;34m:\u001b[0m\u001b[0;34m\u001b[0m\u001b[0;34m\u001b[0m\u001b[0m\n\u001b[1;32m    716\u001b[0m             \u001b[0;32mif\u001b[0m \u001b[0mstate_setter\u001b[0m \u001b[0;32mis\u001b[0m \u001b[0;32mNone\u001b[0m\u001b[0;34m:\u001b[0m\u001b[0;34m\u001b[0m\u001b[0;34m\u001b[0m\u001b[0m\n\u001b[0;32m--> 717\u001b[0;31m                 \u001b[0msave\u001b[0m\u001b[0;34m(\u001b[0m\u001b[0mstate\u001b[0m\u001b[0;34m)\u001b[0m\u001b[0;34m\u001b[0m\u001b[0;34m\u001b[0m\u001b[0m\n\u001b[0m\u001b[1;32m    718\u001b[0m                 \u001b[0mwrite\u001b[0m\u001b[0;34m(\u001b[0m\u001b[0mBUILD\u001b[0m\u001b[0;34m)\u001b[0m\u001b[0;34m\u001b[0m\u001b[0;34m\u001b[0m\u001b[0m\n\u001b[1;32m    719\u001b[0m             \u001b[0;32melse\u001b[0m\u001b[0;34m:\u001b[0m\u001b[0;34m\u001b[0m\u001b[0;34m\u001b[0m\u001b[0m\n",
      "\u001b[0;32m~/SageMaker/tom/.custom-miniconda/miniconda/envs/Python3.8/lib/python3.8/site-packages/joblib/numpy_pickle.py\u001b[0m in \u001b[0;36msave\u001b[0;34m(self, obj)\u001b[0m\n\u001b[1;32m    280\u001b[0m             \u001b[0;32mreturn\u001b[0m\u001b[0;34m\u001b[0m\u001b[0;34m\u001b[0m\u001b[0m\n\u001b[1;32m    281\u001b[0m \u001b[0;34m\u001b[0m\u001b[0m\n\u001b[0;32m--> 282\u001b[0;31m         \u001b[0;32mreturn\u001b[0m \u001b[0mPickler\u001b[0m\u001b[0;34m.\u001b[0m\u001b[0msave\u001b[0m\u001b[0;34m(\u001b[0m\u001b[0mself\u001b[0m\u001b[0;34m,\u001b[0m \u001b[0mobj\u001b[0m\u001b[0;34m)\u001b[0m\u001b[0;34m\u001b[0m\u001b[0;34m\u001b[0m\u001b[0m\n\u001b[0m\u001b[1;32m    283\u001b[0m \u001b[0;34m\u001b[0m\u001b[0m\n\u001b[1;32m    284\u001b[0m \u001b[0;34m\u001b[0m\u001b[0m\n",
      "\u001b[0;32m~/SageMaker/tom/.custom-miniconda/miniconda/envs/Python3.8/lib/python3.8/pickle.py\u001b[0m in \u001b[0;36msave\u001b[0;34m(self, obj, save_persistent_id)\u001b[0m\n\u001b[1;32m    558\u001b[0m             \u001b[0mf\u001b[0m \u001b[0;34m=\u001b[0m \u001b[0mself\u001b[0m\u001b[0;34m.\u001b[0m\u001b[0mdispatch\u001b[0m\u001b[0;34m.\u001b[0m\u001b[0mget\u001b[0m\u001b[0;34m(\u001b[0m\u001b[0mt\u001b[0m\u001b[0;34m)\u001b[0m\u001b[0;34m\u001b[0m\u001b[0;34m\u001b[0m\u001b[0m\n\u001b[1;32m    559\u001b[0m             \u001b[0;32mif\u001b[0m \u001b[0mf\u001b[0m \u001b[0;32mis\u001b[0m \u001b[0;32mnot\u001b[0m \u001b[0;32mNone\u001b[0m\u001b[0;34m:\u001b[0m\u001b[0;34m\u001b[0m\u001b[0;34m\u001b[0m\u001b[0m\n\u001b[0;32m--> 560\u001b[0;31m                 \u001b[0mf\u001b[0m\u001b[0;34m(\u001b[0m\u001b[0mself\u001b[0m\u001b[0;34m,\u001b[0m \u001b[0mobj\u001b[0m\u001b[0;34m)\u001b[0m  \u001b[0;31m# Call unbound method with explicit self\u001b[0m\u001b[0;34m\u001b[0m\u001b[0;34m\u001b[0m\u001b[0m\n\u001b[0m\u001b[1;32m    561\u001b[0m                 \u001b[0;32mreturn\u001b[0m\u001b[0;34m\u001b[0m\u001b[0;34m\u001b[0m\u001b[0m\n\u001b[1;32m    562\u001b[0m \u001b[0;34m\u001b[0m\u001b[0m\n",
      "\u001b[0;32m~/SageMaker/tom/.custom-miniconda/miniconda/envs/Python3.8/lib/python3.8/pickle.py\u001b[0m in \u001b[0;36msave_dict\u001b[0;34m(self, obj)\u001b[0m\n\u001b[1;32m    969\u001b[0m \u001b[0;34m\u001b[0m\u001b[0m\n\u001b[1;32m    970\u001b[0m         \u001b[0mself\u001b[0m\u001b[0;34m.\u001b[0m\u001b[0mmemoize\u001b[0m\u001b[0;34m(\u001b[0m\u001b[0mobj\u001b[0m\u001b[0;34m)\u001b[0m\u001b[0;34m\u001b[0m\u001b[0;34m\u001b[0m\u001b[0m\n\u001b[0;32m--> 971\u001b[0;31m         \u001b[0mself\u001b[0m\u001b[0;34m.\u001b[0m\u001b[0m_batch_setitems\u001b[0m\u001b[0;34m(\u001b[0m\u001b[0mobj\u001b[0m\u001b[0;34m.\u001b[0m\u001b[0mitems\u001b[0m\u001b[0;34m(\u001b[0m\u001b[0;34m)\u001b[0m\u001b[0;34m)\u001b[0m\u001b[0;34m\u001b[0m\u001b[0;34m\u001b[0m\u001b[0m\n\u001b[0m\u001b[1;32m    972\u001b[0m \u001b[0;34m\u001b[0m\u001b[0m\n\u001b[1;32m    973\u001b[0m     \u001b[0mdispatch\u001b[0m\u001b[0;34m[\u001b[0m\u001b[0mdict\u001b[0m\u001b[0;34m]\u001b[0m \u001b[0;34m=\u001b[0m \u001b[0msave_dict\u001b[0m\u001b[0;34m\u001b[0m\u001b[0;34m\u001b[0m\u001b[0m\n",
      "\u001b[0;32m~/SageMaker/tom/.custom-miniconda/miniconda/envs/Python3.8/lib/python3.8/pickle.py\u001b[0m in \u001b[0;36m_batch_setitems\u001b[0;34m(self, items)\u001b[0m\n\u001b[1;32m    995\u001b[0m                 \u001b[0;32mfor\u001b[0m \u001b[0mk\u001b[0m\u001b[0;34m,\u001b[0m \u001b[0mv\u001b[0m \u001b[0;32min\u001b[0m \u001b[0mtmp\u001b[0m\u001b[0;34m:\u001b[0m\u001b[0;34m\u001b[0m\u001b[0;34m\u001b[0m\u001b[0m\n\u001b[1;32m    996\u001b[0m                     \u001b[0msave\u001b[0m\u001b[0;34m(\u001b[0m\u001b[0mk\u001b[0m\u001b[0;34m)\u001b[0m\u001b[0;34m\u001b[0m\u001b[0;34m\u001b[0m\u001b[0m\n\u001b[0;32m--> 997\u001b[0;31m                     \u001b[0msave\u001b[0m\u001b[0;34m(\u001b[0m\u001b[0mv\u001b[0m\u001b[0;34m)\u001b[0m\u001b[0;34m\u001b[0m\u001b[0;34m\u001b[0m\u001b[0m\n\u001b[0m\u001b[1;32m    998\u001b[0m                 \u001b[0mwrite\u001b[0m\u001b[0;34m(\u001b[0m\u001b[0mSETITEMS\u001b[0m\u001b[0;34m)\u001b[0m\u001b[0;34m\u001b[0m\u001b[0;34m\u001b[0m\u001b[0m\n\u001b[1;32m    999\u001b[0m             \u001b[0;32melif\u001b[0m \u001b[0mn\u001b[0m\u001b[0;34m:\u001b[0m\u001b[0;34m\u001b[0m\u001b[0;34m\u001b[0m\u001b[0m\n",
      "\u001b[0;32m~/SageMaker/tom/.custom-miniconda/miniconda/envs/Python3.8/lib/python3.8/site-packages/joblib/numpy_pickle.py\u001b[0m in \u001b[0;36msave\u001b[0;34m(self, obj)\u001b[0m\n\u001b[1;32m    280\u001b[0m             \u001b[0;32mreturn\u001b[0m\u001b[0;34m\u001b[0m\u001b[0;34m\u001b[0m\u001b[0m\n\u001b[1;32m    281\u001b[0m \u001b[0;34m\u001b[0m\u001b[0m\n\u001b[0;32m--> 282\u001b[0;31m         \u001b[0;32mreturn\u001b[0m \u001b[0mPickler\u001b[0m\u001b[0;34m.\u001b[0m\u001b[0msave\u001b[0m\u001b[0;34m(\u001b[0m\u001b[0mself\u001b[0m\u001b[0;34m,\u001b[0m \u001b[0mobj\u001b[0m\u001b[0;34m)\u001b[0m\u001b[0;34m\u001b[0m\u001b[0;34m\u001b[0m\u001b[0m\n\u001b[0m\u001b[1;32m    283\u001b[0m \u001b[0;34m\u001b[0m\u001b[0m\n\u001b[1;32m    284\u001b[0m \u001b[0;34m\u001b[0m\u001b[0m\n",
      "\u001b[0;32m~/SageMaker/tom/.custom-miniconda/miniconda/envs/Python3.8/lib/python3.8/pickle.py\u001b[0m in \u001b[0;36msave\u001b[0;34m(self, obj, save_persistent_id)\u001b[0m\n\u001b[1;32m    558\u001b[0m             \u001b[0mf\u001b[0m \u001b[0;34m=\u001b[0m \u001b[0mself\u001b[0m\u001b[0;34m.\u001b[0m\u001b[0mdispatch\u001b[0m\u001b[0;34m.\u001b[0m\u001b[0mget\u001b[0m\u001b[0;34m(\u001b[0m\u001b[0mt\u001b[0m\u001b[0;34m)\u001b[0m\u001b[0;34m\u001b[0m\u001b[0;34m\u001b[0m\u001b[0m\n\u001b[1;32m    559\u001b[0m             \u001b[0;32mif\u001b[0m \u001b[0mf\u001b[0m \u001b[0;32mis\u001b[0m \u001b[0;32mnot\u001b[0m \u001b[0;32mNone\u001b[0m\u001b[0;34m:\u001b[0m\u001b[0;34m\u001b[0m\u001b[0;34m\u001b[0m\u001b[0m\n\u001b[0;32m--> 560\u001b[0;31m                 \u001b[0mf\u001b[0m\u001b[0;34m(\u001b[0m\u001b[0mself\u001b[0m\u001b[0;34m,\u001b[0m \u001b[0mobj\u001b[0m\u001b[0;34m)\u001b[0m  \u001b[0;31m# Call unbound method with explicit self\u001b[0m\u001b[0;34m\u001b[0m\u001b[0;34m\u001b[0m\u001b[0m\n\u001b[0m\u001b[1;32m    561\u001b[0m                 \u001b[0;32mreturn\u001b[0m\u001b[0;34m\u001b[0m\u001b[0;34m\u001b[0m\u001b[0m\n\u001b[1;32m    562\u001b[0m \u001b[0;34m\u001b[0m\u001b[0m\n",
      "\u001b[0;32m~/SageMaker/tom/.custom-miniconda/miniconda/envs/Python3.8/lib/python3.8/pickle.py\u001b[0m in \u001b[0;36msave_global\u001b[0;34m(self, obj, name)\u001b[0m\n\u001b[1;32m   1068\u001b[0m             \u001b[0mobj2\u001b[0m\u001b[0;34m,\u001b[0m \u001b[0mparent\u001b[0m \u001b[0;34m=\u001b[0m \u001b[0m_getattribute\u001b[0m\u001b[0;34m(\u001b[0m\u001b[0mmodule\u001b[0m\u001b[0;34m,\u001b[0m \u001b[0mname\u001b[0m\u001b[0;34m)\u001b[0m\u001b[0;34m\u001b[0m\u001b[0;34m\u001b[0m\u001b[0m\n\u001b[1;32m   1069\u001b[0m         \u001b[0;32mexcept\u001b[0m \u001b[0;34m(\u001b[0m\u001b[0mImportError\u001b[0m\u001b[0;34m,\u001b[0m \u001b[0mKeyError\u001b[0m\u001b[0;34m,\u001b[0m \u001b[0mAttributeError\u001b[0m\u001b[0;34m)\u001b[0m\u001b[0;34m:\u001b[0m\u001b[0;34m\u001b[0m\u001b[0;34m\u001b[0m\u001b[0m\n\u001b[0;32m-> 1070\u001b[0;31m             raise PicklingError(\n\u001b[0m\u001b[1;32m   1071\u001b[0m                 \u001b[0;34m\"Can't pickle %r: it's not found as %s.%s\"\u001b[0m \u001b[0;34m%\u001b[0m\u001b[0;34m\u001b[0m\u001b[0;34m\u001b[0m\u001b[0m\n\u001b[1;32m   1072\u001b[0m                 (obj, module_name, name)) from None\n",
      "\u001b[0;31mPicklingError\u001b[0m: Can't pickle <function <lambda> at 0x7f88faac6af0>: it's not found as __main__.<lambda>"
     ]
    }
   ],
   "source": [
    "with open('temp.joblib', 'wb') as f:\n",
    "    joblib.dump(reverse_tx, f)"
   ]
  },
  {
   "cell_type": "markdown",
   "id": "a6a85680",
   "metadata": {},
   "source": [
    "## Make simple functions instead of lambda functions.\n",
    "\n",
    "A simple workaround to not using lambda functions is to simply make a function that does the work instead.\n",
    "\n",
    "### Reverse v2."
   ]
  },
  {
   "cell_type": "code",
   "execution_count": 15,
   "id": "44158034",
   "metadata": {},
   "outputs": [
    {
     "data": {
      "text/html": [
       "<div>\n",
       "<style scoped>\n",
       "    .dataframe tbody tr th:only-of-type {\n",
       "        vertical-align: middle;\n",
       "    }\n",
       "\n",
       "    .dataframe tbody tr th {\n",
       "        vertical-align: top;\n",
       "    }\n",
       "\n",
       "    .dataframe thead th {\n",
       "        text-align: right;\n",
       "    }\n",
       "</style>\n",
       "<table border=\"1\" class=\"dataframe\">\n",
       "  <thead>\n",
       "    <tr style=\"text-align: right;\">\n",
       "      <th></th>\n",
       "      <th>first_name</th>\n",
       "      <th>last_name</th>\n",
       "    </tr>\n",
       "  </thead>\n",
       "  <tbody>\n",
       "    <tr>\n",
       "      <th>0</th>\n",
       "      <td>ennA</td>\n",
       "      <td>tforcnaB</td>\n",
       "    </tr>\n",
       "    <tr>\n",
       "      <th>1</th>\n",
       "      <td>boB</td>\n",
       "      <td>nalyD</td>\n",
       "    </tr>\n",
       "    <tr>\n",
       "      <th>2</th>\n",
       "      <td>eilrahC</td>\n",
       "      <td>nilpahC</td>\n",
       "    </tr>\n",
       "    <tr>\n",
       "      <th>3</th>\n",
       "      <td>boB</td>\n",
       "      <td>yelraM</td>\n",
       "    </tr>\n",
       "  </tbody>\n",
       "</table>\n",
       "</div>"
      ],
      "text/plain": [
       "  first_name last_name\n",
       "0       ennA  tforcnaB\n",
       "1        boB     nalyD\n",
       "2    eilrahC   nilpahC\n",
       "3        boB    yelraM"
      ]
     },
     "execution_count": 15,
     "metadata": {},
     "output_type": "execute_result"
    }
   ],
   "source": [
    "def reverse_text(x: str) -> str:\n",
    "    return x[::-1]\n",
    "\n",
    "reverse_tx = ApplyTransformer(applymap, reverse_text)\n",
    "reverse_tx.transform(df[['first_name', 'last_name']])"
   ]
  },
  {
   "cell_type": "markdown",
   "id": "6e5abf6f",
   "metadata": {},
   "source": [
    "### Write to disk and reload to confirm that the pickle works."
   ]
  },
  {
   "cell_type": "code",
   "execution_count": 16,
   "id": "1eb8a47e",
   "metadata": {},
   "outputs": [
    {
     "data": {
      "text/html": [
       "<div>\n",
       "<style scoped>\n",
       "    .dataframe tbody tr th:only-of-type {\n",
       "        vertical-align: middle;\n",
       "    }\n",
       "\n",
       "    .dataframe tbody tr th {\n",
       "        vertical-align: top;\n",
       "    }\n",
       "\n",
       "    .dataframe thead th {\n",
       "        text-align: right;\n",
       "    }\n",
       "</style>\n",
       "<table border=\"1\" class=\"dataframe\">\n",
       "  <thead>\n",
       "    <tr style=\"text-align: right;\">\n",
       "      <th></th>\n",
       "      <th>first_name</th>\n",
       "      <th>last_name</th>\n",
       "    </tr>\n",
       "  </thead>\n",
       "  <tbody>\n",
       "    <tr>\n",
       "      <th>0</th>\n",
       "      <td>ennA</td>\n",
       "      <td>tforcnaB</td>\n",
       "    </tr>\n",
       "    <tr>\n",
       "      <th>1</th>\n",
       "      <td>boB</td>\n",
       "      <td>nalyD</td>\n",
       "    </tr>\n",
       "    <tr>\n",
       "      <th>2</th>\n",
       "      <td>eilrahC</td>\n",
       "      <td>nilpahC</td>\n",
       "    </tr>\n",
       "    <tr>\n",
       "      <th>3</th>\n",
       "      <td>boB</td>\n",
       "      <td>yelraM</td>\n",
       "    </tr>\n",
       "  </tbody>\n",
       "</table>\n",
       "</div>"
      ],
      "text/plain": [
       "  first_name last_name\n",
       "0       ennA  tforcnaB\n",
       "1        boB     nalyD\n",
       "2    eilrahC   nilpahC\n",
       "3        boB    yelraM"
      ]
     },
     "execution_count": 16,
     "metadata": {},
     "output_type": "execute_result"
    }
   ],
   "source": [
    "with open('temp.joblib', 'wb') as f:\n",
    "    joblib.dump(reverse_tx, f)\n",
    "    \n",
    "with open('temp.joblib', 'rb') as f:\n",
    "    reverse_fromdisk_tx = joblib.load(f)\n",
    "    \n",
    "reverse_fromdisk_tx.transform(df[['first_name', 'last_name']])"
   ]
  },
  {
   "cell_type": "markdown",
   "id": "13073c7e",
   "metadata": {},
   "source": [
    "### We'll build a few more simple tranformers to work with."
   ]
  },
  {
   "cell_type": "code",
   "execution_count": 17,
   "id": "0e1003ef",
   "metadata": {},
   "outputs": [
    {
     "data": {
      "text/html": [
       "<div>\n",
       "<style scoped>\n",
       "    .dataframe tbody tr th:only-of-type {\n",
       "        vertical-align: middle;\n",
       "    }\n",
       "\n",
       "    .dataframe tbody tr th {\n",
       "        vertical-align: top;\n",
       "    }\n",
       "\n",
       "    .dataframe thead th {\n",
       "        text-align: right;\n",
       "    }\n",
       "</style>\n",
       "<table border=\"1\" class=\"dataframe\">\n",
       "  <thead>\n",
       "    <tr style=\"text-align: right;\">\n",
       "      <th></th>\n",
       "      <th>first_name</th>\n",
       "      <th>last_name</th>\n",
       "    </tr>\n",
       "  </thead>\n",
       "  <tbody>\n",
       "    <tr>\n",
       "      <th>0</th>\n",
       "      <td>Anne</td>\n",
       "      <td>Bancroft</td>\n",
       "    </tr>\n",
       "    <tr>\n",
       "      <th>1</th>\n",
       "      <td>Bob</td>\n",
       "      <td>Dylan</td>\n",
       "    </tr>\n",
       "    <tr>\n",
       "      <th>2</th>\n",
       "      <td>Charlie</td>\n",
       "      <td>Chaplin</td>\n",
       "    </tr>\n",
       "    <tr>\n",
       "      <th>3</th>\n",
       "      <td>Bob</td>\n",
       "      <td>Marley</td>\n",
       "    </tr>\n",
       "  </tbody>\n",
       "</table>\n",
       "</div>"
      ],
      "text/plain": [
       "  first_name last_name\n",
       "0       Anne  Bancroft\n",
       "1        Bob     Dylan\n",
       "2    Charlie   Chaplin\n",
       "3        Bob    Marley"
      ]
     },
     "execution_count": 17,
     "metadata": {},
     "output_type": "execute_result"
    }
   ],
   "source": [
    "def camelcase(x: str) -> str:\n",
    "    return x[0].upper() + x[1:].lower()\n",
    "\n",
    "camelcase_tx = ApplyTransformer(applymap, camelcase)\n",
    "camelcase_tx.transform(df[['first_name', 'last_name']])"
   ]
  },
  {
   "cell_type": "code",
   "execution_count": 18,
   "id": "509b6efb",
   "metadata": {},
   "outputs": [
    {
     "data": {
      "text/html": [
       "<div>\n",
       "<style scoped>\n",
       "    .dataframe tbody tr th:only-of-type {\n",
       "        vertical-align: middle;\n",
       "    }\n",
       "\n",
       "    .dataframe tbody tr th {\n",
       "        vertical-align: top;\n",
       "    }\n",
       "\n",
       "    .dataframe thead th {\n",
       "        text-align: right;\n",
       "    }\n",
       "</style>\n",
       "<table border=\"1\" class=\"dataframe\">\n",
       "  <thead>\n",
       "    <tr style=\"text-align: right;\">\n",
       "      <th></th>\n",
       "      <th>first_name</th>\n",
       "      <th>last_name</th>\n",
       "    </tr>\n",
       "  </thead>\n",
       "  <tbody>\n",
       "    <tr>\n",
       "      <th>0</th>\n",
       "      <td>A n n e</td>\n",
       "      <td>B a n c r o f t</td>\n",
       "    </tr>\n",
       "    <tr>\n",
       "      <th>1</th>\n",
       "      <td>B o b</td>\n",
       "      <td>D y l a n</td>\n",
       "    </tr>\n",
       "    <tr>\n",
       "      <th>2</th>\n",
       "      <td>C h a r l i e</td>\n",
       "      <td>C h a p l i n</td>\n",
       "    </tr>\n",
       "    <tr>\n",
       "      <th>3</th>\n",
       "      <td>B o b</td>\n",
       "      <td>M a r l e y</td>\n",
       "    </tr>\n",
       "  </tbody>\n",
       "</table>\n",
       "</div>"
      ],
      "text/plain": [
       "      first_name        last_name\n",
       "0        A n n e  B a n c r o f t\n",
       "1          B o b        D y l a n\n",
       "2  C h a r l i e    C h a p l i n\n",
       "3          B o b      M a r l e y"
      ]
     },
     "execution_count": 18,
     "metadata": {},
     "output_type": "execute_result"
    }
   ],
   "source": [
    "def space_text(x: str) -> str:\n",
    "    return ' '.join(x)\n",
    "    \n",
    "spacer_tx = ApplyTransformer(applymap, space_text)\n",
    "spacer_tx.transform(df[['first_name', 'last_name']])"
   ]
  },
  {
   "cell_type": "code",
   "execution_count": 19,
   "id": "cfeab397",
   "metadata": {},
   "outputs": [
    {
     "data": {
      "text/html": [
       "<div>\n",
       "<style scoped>\n",
       "    .dataframe tbody tr th:only-of-type {\n",
       "        vertical-align: middle;\n",
       "    }\n",
       "\n",
       "    .dataframe tbody tr th {\n",
       "        vertical-align: top;\n",
       "    }\n",
       "\n",
       "    .dataframe thead th {\n",
       "        text-align: right;\n",
       "    }\n",
       "</style>\n",
       "<table border=\"1\" class=\"dataframe\">\n",
       "  <thead>\n",
       "    <tr style=\"text-align: right;\">\n",
       "      <th></th>\n",
       "      <th>first_name</th>\n",
       "      <th>last_name</th>\n",
       "    </tr>\n",
       "  </thead>\n",
       "  <tbody>\n",
       "    <tr>\n",
       "      <th>0</th>\n",
       "      <td>PREPEND_Anne</td>\n",
       "      <td>PREPEND_Bancroft</td>\n",
       "    </tr>\n",
       "    <tr>\n",
       "      <th>1</th>\n",
       "      <td>PREPEND_Bob</td>\n",
       "      <td>PREPEND_Dylan</td>\n",
       "    </tr>\n",
       "    <tr>\n",
       "      <th>2</th>\n",
       "      <td>PREPEND_Charlie</td>\n",
       "      <td>PREPEND_Chaplin</td>\n",
       "    </tr>\n",
       "    <tr>\n",
       "      <th>3</th>\n",
       "      <td>PREPEND_Bob</td>\n",
       "      <td>PREPEND_Marley</td>\n",
       "    </tr>\n",
       "  </tbody>\n",
       "</table>\n",
       "</div>"
      ],
      "text/plain": [
       "        first_name         last_name\n",
       "0     PREPEND_Anne  PREPEND_Bancroft\n",
       "1      PREPEND_Bob     PREPEND_Dylan\n",
       "2  PREPEND_Charlie   PREPEND_Chaplin\n",
       "3      PREPEND_Bob    PREPEND_Marley"
      ]
     },
     "execution_count": 19,
     "metadata": {},
     "output_type": "execute_result"
    }
   ],
   "source": [
    "def prepend_text(x: str, prepend_str: str='PREPEND_') -> str:\n",
    "    return prepend_str + x\n",
    "\n",
    "prepend_tx = ApplyTransformer(applymap, prepend_text)\n",
    "prepend_tx.transform(df[['first_name', 'last_name']])"
   ]
  },
  {
   "cell_type": "code",
   "execution_count": 20,
   "id": "33634c9d",
   "metadata": {},
   "outputs": [
    {
     "data": {
      "text/html": [
       "<div>\n",
       "<style scoped>\n",
       "    .dataframe tbody tr th:only-of-type {\n",
       "        vertical-align: middle;\n",
       "    }\n",
       "\n",
       "    .dataframe tbody tr th {\n",
       "        vertical-align: top;\n",
       "    }\n",
       "\n",
       "    .dataframe thead th {\n",
       "        text-align: right;\n",
       "    }\n",
       "</style>\n",
       "<table border=\"1\" class=\"dataframe\">\n",
       "  <thead>\n",
       "    <tr style=\"text-align: right;\">\n",
       "      <th></th>\n",
       "      <th>first_name</th>\n",
       "      <th>last_name</th>\n",
       "    </tr>\n",
       "  </thead>\n",
       "  <tbody>\n",
       "    <tr>\n",
       "      <th>0</th>\n",
       "      <td>AnneAnneAnne</td>\n",
       "      <td>BancroftBancroftBancroft</td>\n",
       "    </tr>\n",
       "    <tr>\n",
       "      <th>1</th>\n",
       "      <td>BobBobBob</td>\n",
       "      <td>DylanDylanDylan</td>\n",
       "    </tr>\n",
       "    <tr>\n",
       "      <th>2</th>\n",
       "      <td>CharlieCharlieCharlie</td>\n",
       "      <td>ChaplinChaplinChaplin</td>\n",
       "    </tr>\n",
       "    <tr>\n",
       "      <th>3</th>\n",
       "      <td>BobBobBob</td>\n",
       "      <td>MarleyMarleyMarley</td>\n",
       "    </tr>\n",
       "  </tbody>\n",
       "</table>\n",
       "</div>"
      ],
      "text/plain": [
       "              first_name                 last_name\n",
       "0           AnneAnneAnne  BancroftBancroftBancroft\n",
       "1              BobBobBob           DylanDylanDylan\n",
       "2  CharlieCharlieCharlie     ChaplinChaplinChaplin\n",
       "3              BobBobBob        MarleyMarleyMarley"
      ]
     },
     "execution_count": 20,
     "metadata": {},
     "output_type": "execute_result"
    }
   ],
   "source": [
    "def repeat_factor(x, n=3):\n",
    "    return x*n\n",
    "\n",
    "factor_tx = ApplyTransformer(applymap, repeat_factor)\n",
    "factor_tx.transform(df[['first_name', 'last_name']])"
   ]
  },
  {
   "cell_type": "markdown",
   "id": "bf8b74eb",
   "metadata": {},
   "source": [
    "# Multiple column outputs.\n",
    "\n",
    "Here we explore what happens with a transformer that may provide more than one column for the given column passed in.\n",
    "\n",
    "Here, we use the Pandas [`agg()`](https://pandas.pydata.org/docs/reference/api/pandas.DataFrame.agg.html) function. We see that the columns are now a [MultiIndex](https://pandas.pydata.org/docs/reference/api/pandas.MultiIndex.html), keeping the name of the input columns at the highest level and taking the function name as the output. "
   ]
  },
  {
   "cell_type": "code",
   "execution_count": 21,
   "id": "3cbffaae",
   "metadata": {},
   "outputs": [
    {
     "data": {
      "text/html": [
       "<div>\n",
       "<style scoped>\n",
       "    .dataframe tbody tr th:only-of-type {\n",
       "        vertical-align: middle;\n",
       "    }\n",
       "\n",
       "    .dataframe tbody tr th {\n",
       "        vertical-align: top;\n",
       "    }\n",
       "\n",
       "    .dataframe thead tr th {\n",
       "        text-align: left;\n",
       "    }\n",
       "</style>\n",
       "<table border=\"1\" class=\"dataframe\">\n",
       "  <thead>\n",
       "    <tr>\n",
       "      <th></th>\n",
       "      <th colspan=\"2\" halign=\"left\">first_name</th>\n",
       "      <th colspan=\"2\" halign=\"left\">last_name</th>\n",
       "    </tr>\n",
       "    <tr>\n",
       "      <th></th>\n",
       "      <th>len</th>\n",
       "      <th>len_squared</th>\n",
       "      <th>len</th>\n",
       "      <th>len_squared</th>\n",
       "    </tr>\n",
       "  </thead>\n",
       "  <tbody>\n",
       "    <tr>\n",
       "      <th>0</th>\n",
       "      <td>4</td>\n",
       "      <td>16</td>\n",
       "      <td>8</td>\n",
       "      <td>64</td>\n",
       "    </tr>\n",
       "    <tr>\n",
       "      <th>1</th>\n",
       "      <td>3</td>\n",
       "      <td>9</td>\n",
       "      <td>5</td>\n",
       "      <td>25</td>\n",
       "    </tr>\n",
       "    <tr>\n",
       "      <th>2</th>\n",
       "      <td>7</td>\n",
       "      <td>49</td>\n",
       "      <td>7</td>\n",
       "      <td>49</td>\n",
       "    </tr>\n",
       "    <tr>\n",
       "      <th>3</th>\n",
       "      <td>3</td>\n",
       "      <td>9</td>\n",
       "      <td>6</td>\n",
       "      <td>36</td>\n",
       "    </tr>\n",
       "  </tbody>\n",
       "</table>\n",
       "</div>"
      ],
      "text/plain": [
       "  first_name             last_name            \n",
       "         len len_squared       len len_squared\n",
       "0          4          16         8          64\n",
       "1          3           9         5          25\n",
       "2          7          49         7          49\n",
       "3          3           9         6          36"
      ]
     },
     "execution_count": 21,
     "metadata": {},
     "output_type": "execute_result"
    }
   ],
   "source": [
    "def len_squared(x):\n",
    "    return len(x)**2\n",
    "\n",
    "df_ = df[['first_name', 'last_name']].agg([len, len_squared])\n",
    "df_"
   ]
  },
  {
   "cell_type": "markdown",
   "id": "7c887474",
   "metadata": {},
   "source": [
    "### Transformer versions of `agg()`\n",
    "\n",
    "We present two different transformer versions of the above."
   ]
  },
  {
   "cell_type": "code",
   "execution_count": 22,
   "id": "c4c79ec2",
   "metadata": {},
   "outputs": [
    {
     "data": {
      "text/html": [
       "<div>\n",
       "<style scoped>\n",
       "    .dataframe tbody tr th:only-of-type {\n",
       "        vertical-align: middle;\n",
       "    }\n",
       "\n",
       "    .dataframe tbody tr th {\n",
       "        vertical-align: top;\n",
       "    }\n",
       "\n",
       "    .dataframe thead tr th {\n",
       "        text-align: left;\n",
       "    }\n",
       "</style>\n",
       "<table border=\"1\" class=\"dataframe\">\n",
       "  <thead>\n",
       "    <tr>\n",
       "      <th></th>\n",
       "      <th colspan=\"2\" halign=\"left\">first_name</th>\n",
       "      <th colspan=\"2\" halign=\"left\">last_name</th>\n",
       "    </tr>\n",
       "    <tr>\n",
       "      <th></th>\n",
       "      <th>len</th>\n",
       "      <th>len_squared</th>\n",
       "      <th>len</th>\n",
       "      <th>len_squared</th>\n",
       "    </tr>\n",
       "  </thead>\n",
       "  <tbody>\n",
       "    <tr>\n",
       "      <th>0</th>\n",
       "      <td>4</td>\n",
       "      <td>16</td>\n",
       "      <td>8</td>\n",
       "      <td>64</td>\n",
       "    </tr>\n",
       "    <tr>\n",
       "      <th>1</th>\n",
       "      <td>3</td>\n",
       "      <td>9</td>\n",
       "      <td>5</td>\n",
       "      <td>25</td>\n",
       "    </tr>\n",
       "    <tr>\n",
       "      <th>2</th>\n",
       "      <td>7</td>\n",
       "      <td>49</td>\n",
       "      <td>7</td>\n",
       "      <td>49</td>\n",
       "    </tr>\n",
       "    <tr>\n",
       "      <th>3</th>\n",
       "      <td>3</td>\n",
       "      <td>9</td>\n",
       "      <td>6</td>\n",
       "      <td>36</td>\n",
       "    </tr>\n",
       "  </tbody>\n",
       "</table>\n",
       "</div>"
      ],
      "text/plain": [
       "  first_name             last_name            \n",
       "         len len_squared       len len_squared\n",
       "0          4          16         8          64\n",
       "1          3           9         5          25\n",
       "2          7          49         7          49\n",
       "3          3           9         6          36"
      ]
     },
     "execution_count": 22,
     "metadata": {},
     "output_type": "execute_result"
    }
   ],
   "source": [
    "tx = FunctionTransformer(\n",
    "    try_member_func, \n",
    "    kw_args=dict(member_func='agg', fkwargs=dict(func=[len, len_squared]))\n",
    ")\n",
    "Xt = tx.transform(df[['first_name', 'last_name']])\n",
    "Xt"
   ]
  },
  {
   "cell_type": "code",
   "execution_count": 23,
   "id": "f12afcf9",
   "metadata": {},
   "outputs": [
    {
     "data": {
      "text/html": [
       "<div>\n",
       "<style scoped>\n",
       "    .dataframe tbody tr th:only-of-type {\n",
       "        vertical-align: middle;\n",
       "    }\n",
       "\n",
       "    .dataframe tbody tr th {\n",
       "        vertical-align: top;\n",
       "    }\n",
       "\n",
       "    .dataframe thead tr th {\n",
       "        text-align: left;\n",
       "    }\n",
       "</style>\n",
       "<table border=\"1\" class=\"dataframe\">\n",
       "  <thead>\n",
       "    <tr>\n",
       "      <th></th>\n",
       "      <th colspan=\"2\" halign=\"left\">first_name</th>\n",
       "      <th colspan=\"2\" halign=\"left\">last_name</th>\n",
       "    </tr>\n",
       "    <tr>\n",
       "      <th></th>\n",
       "      <th>len</th>\n",
       "      <th>len_squared</th>\n",
       "      <th>len</th>\n",
       "      <th>len_squared</th>\n",
       "    </tr>\n",
       "  </thead>\n",
       "  <tbody>\n",
       "    <tr>\n",
       "      <th>0</th>\n",
       "      <td>4</td>\n",
       "      <td>16</td>\n",
       "      <td>8</td>\n",
       "      <td>64</td>\n",
       "    </tr>\n",
       "    <tr>\n",
       "      <th>1</th>\n",
       "      <td>3</td>\n",
       "      <td>9</td>\n",
       "      <td>5</td>\n",
       "      <td>25</td>\n",
       "    </tr>\n",
       "    <tr>\n",
       "      <th>2</th>\n",
       "      <td>7</td>\n",
       "      <td>49</td>\n",
       "      <td>7</td>\n",
       "      <td>49</td>\n",
       "    </tr>\n",
       "    <tr>\n",
       "      <th>3</th>\n",
       "      <td>3</td>\n",
       "      <td>9</td>\n",
       "      <td>6</td>\n",
       "      <td>36</td>\n",
       "    </tr>\n",
       "  </tbody>\n",
       "</table>\n",
       "</div>"
      ],
      "text/plain": [
       "  first_name             last_name            \n",
       "         len len_squared       len len_squared\n",
       "0          4          16         8          64\n",
       "1          3           9         5          25\n",
       "2          7          49         7          49\n",
       "3          3           9         6          36"
      ]
     },
     "execution_count": 23,
     "metadata": {},
     "output_type": "execute_result"
    }
   ],
   "source": [
    "pd.DataFrame(Xt.values, columns=pd.MultiIndex.from_tuples(Xt.columns.values.tolist()))"
   ]
  },
  {
   "cell_type": "markdown",
   "id": "21d43b13",
   "metadata": {},
   "source": [
    "Here's another, perhaps better version. It is better because ApplyTransformer can operate in parallel, splitting the data into chunks. Where this gets confusing is that there is a dict with `fkwargs` as a key whose value is another dict called `fkwargs`. This is because ApplyTransformer takes a `fkwargs` argument as does `try_member_func`."
   ]
  },
  {
   "cell_type": "code",
   "execution_count": 24,
   "id": "f7c3d639",
   "metadata": {},
   "outputs": [
    {
     "data": {
      "text/html": [
       "<div>\n",
       "<style scoped>\n",
       "    .dataframe tbody tr th:only-of-type {\n",
       "        vertical-align: middle;\n",
       "    }\n",
       "\n",
       "    .dataframe tbody tr th {\n",
       "        vertical-align: top;\n",
       "    }\n",
       "\n",
       "    .dataframe thead tr th {\n",
       "        text-align: left;\n",
       "    }\n",
       "</style>\n",
       "<table border=\"1\" class=\"dataframe\">\n",
       "  <thead>\n",
       "    <tr>\n",
       "      <th></th>\n",
       "      <th colspan=\"2\" halign=\"left\">first_name</th>\n",
       "      <th colspan=\"2\" halign=\"left\">last_name</th>\n",
       "    </tr>\n",
       "    <tr>\n",
       "      <th></th>\n",
       "      <th>len</th>\n",
       "      <th>len_squared</th>\n",
       "      <th>len</th>\n",
       "      <th>len_squared</th>\n",
       "    </tr>\n",
       "  </thead>\n",
       "  <tbody>\n",
       "    <tr>\n",
       "      <th>0</th>\n",
       "      <td>4</td>\n",
       "      <td>16</td>\n",
       "      <td>8</td>\n",
       "      <td>64</td>\n",
       "    </tr>\n",
       "    <tr>\n",
       "      <th>1</th>\n",
       "      <td>3</td>\n",
       "      <td>9</td>\n",
       "      <td>5</td>\n",
       "      <td>25</td>\n",
       "    </tr>\n",
       "    <tr>\n",
       "      <th>2</th>\n",
       "      <td>7</td>\n",
       "      <td>49</td>\n",
       "      <td>7</td>\n",
       "      <td>49</td>\n",
       "    </tr>\n",
       "    <tr>\n",
       "      <th>3</th>\n",
       "      <td>3</td>\n",
       "      <td>9</td>\n",
       "      <td>6</td>\n",
       "      <td>36</td>\n",
       "    </tr>\n",
       "  </tbody>\n",
       "</table>\n",
       "</div>"
      ],
      "text/plain": [
       "  first_name             last_name            \n",
       "         len len_squared       len len_squared\n",
       "0          4          16         8          64\n",
       "1          3           9         5          25\n",
       "2          7          49         7          49\n",
       "3          3           9         6          36"
      ]
     },
     "execution_count": 24,
     "metadata": {},
     "output_type": "execute_result"
    }
   ],
   "source": [
    "agg_tx = ApplyTransformer(\n",
    "    try_member_func, \n",
    "    'agg', \n",
    "    fkwargs=dict(\n",
    "        fkwargs=(dict(func=[len, len_squared]))\n",
    "    )\n",
    ")\n",
    "df2 = agg_tx.transform(df[['first_name', 'last_name']])\n",
    "df2"
   ]
  },
  {
   "cell_type": "markdown",
   "id": "bf6d2b08",
   "metadata": {},
   "source": [
    "# Multiple column inputs\n",
    "\n",
    "Let's now consider the case of a transformer that operates on a whole row. In this case, we will use the `applyrows()` function."
   ]
  },
  {
   "cell_type": "code",
   "execution_count": 25,
   "id": "ae1bda39",
   "metadata": {
    "scrolled": false
   },
   "outputs": [
    {
     "data": {
      "text/html": [
       "<div>\n",
       "<style scoped>\n",
       "    .dataframe tbody tr th:only-of-type {\n",
       "        vertical-align: middle;\n",
       "    }\n",
       "\n",
       "    .dataframe tbody tr th {\n",
       "        vertical-align: top;\n",
       "    }\n",
       "\n",
       "    .dataframe thead th {\n",
       "        text-align: right;\n",
       "    }\n",
       "</style>\n",
       "<table border=\"1\" class=\"dataframe\">\n",
       "  <thead>\n",
       "    <tr style=\"text-align: right;\">\n",
       "      <th></th>\n",
       "      <th>len_all</th>\n",
       "    </tr>\n",
       "  </thead>\n",
       "  <tbody>\n",
       "    <tr>\n",
       "      <th>0</th>\n",
       "      <td>12</td>\n",
       "    </tr>\n",
       "    <tr>\n",
       "      <th>1</th>\n",
       "      <td>8</td>\n",
       "    </tr>\n",
       "    <tr>\n",
       "      <th>2</th>\n",
       "      <td>14</td>\n",
       "    </tr>\n",
       "    <tr>\n",
       "      <th>3</th>\n",
       "      <td>9</td>\n",
       "    </tr>\n",
       "  </tbody>\n",
       "</table>\n",
       "</div>"
      ],
      "text/plain": [
       "   len_all\n",
       "0       12\n",
       "1        8\n",
       "2       14\n",
       "3        9"
      ]
     },
     "execution_count": 25,
     "metadata": {},
     "output_type": "execute_result"
    }
   ],
   "source": [
    "def len_all(x):  # x is a row of elements\n",
    "    return len(''.join(x))\n",
    "\n",
    "lenall_tx = ApplyTransformer(\n",
    "    applyrows, \n",
    "    len_all, \n",
    "    keys={('first_name', 'last_name'): 'len_all'},\n",
    "    feature_names_out=['len_all']\n",
    ")\n",
    "lenall_tx.transform(df)"
   ]
  },
  {
   "cell_type": "markdown",
   "id": "f2c386c4",
   "metadata": {},
   "source": [
    "# Splitting with FeatureUnionDataFrame\n",
    "\n",
    "A [FeatureUnion](https://scikit-learn.org/stable/modules/generated/sklearn.pipeline.FeatureUnion.html) is an sklearn object that concatenates the results of *n* Transformers. Let's take the Transformers above and put them into one FeatureUnion. Additionally, we use our subclass of FeatureUnion, [FeatureUnionDataFrame](https://bitbucket.org/dhigroupinc/dhi-match-datascience/src/836c7787da56fc5697315d07697b4fe243d28908/src/dhi-dsmatch/dhi/dsmatch/sklearnmodeling/models/featureuniondataframe.py?at=feature%2FMATCH-2084-refactor-composite-model-to-u) to place the outputs into a DataFrame instead of a 2D numpy array so we keep column labels.\n",
    "\n",
    "Additionally, these lines at the top of our notebook:\n",
    "\n",
    "```python\n",
    "from sklearn import set_config\n",
    "set_config(display='diagram')\n",
    "```\n",
    "give us an interactive visualization of our model. (Click on the ApplyTransformers to see some settings.)"
   ]
  },
  {
   "cell_type": "code",
   "execution_count": 26,
   "id": "514cc6c3",
   "metadata": {
    "scrolled": false
   },
   "outputs": [
    {
     "data": {
      "text/html": [
       "<style>#sk-3e94c019-7abf-450e-b7a0-5f07ecc17619 {color: black;background-color: white;}#sk-3e94c019-7abf-450e-b7a0-5f07ecc17619 pre{padding: 0;}#sk-3e94c019-7abf-450e-b7a0-5f07ecc17619 div.sk-toggleable {background-color: white;}#sk-3e94c019-7abf-450e-b7a0-5f07ecc17619 label.sk-toggleable__label {cursor: pointer;display: block;width: 100%;margin-bottom: 0;padding: 0.3em;box-sizing: border-box;text-align: center;}#sk-3e94c019-7abf-450e-b7a0-5f07ecc17619 label.sk-toggleable__label-arrow:before {content: \"▸\";float: left;margin-right: 0.25em;color: #696969;}#sk-3e94c019-7abf-450e-b7a0-5f07ecc17619 label.sk-toggleable__label-arrow:hover:before {color: black;}#sk-3e94c019-7abf-450e-b7a0-5f07ecc17619 div.sk-estimator:hover label.sk-toggleable__label-arrow:before {color: black;}#sk-3e94c019-7abf-450e-b7a0-5f07ecc17619 div.sk-toggleable__content {max-height: 0;max-width: 0;overflow: hidden;text-align: left;background-color: #f0f8ff;}#sk-3e94c019-7abf-450e-b7a0-5f07ecc17619 div.sk-toggleable__content pre {margin: 0.2em;color: black;border-radius: 0.25em;background-color: #f0f8ff;}#sk-3e94c019-7abf-450e-b7a0-5f07ecc17619 input.sk-toggleable__control:checked~div.sk-toggleable__content {max-height: 200px;max-width: 100%;overflow: auto;}#sk-3e94c019-7abf-450e-b7a0-5f07ecc17619 input.sk-toggleable__control:checked~label.sk-toggleable__label-arrow:before {content: \"▾\";}#sk-3e94c019-7abf-450e-b7a0-5f07ecc17619 div.sk-estimator input.sk-toggleable__control:checked~label.sk-toggleable__label {background-color: #d4ebff;}#sk-3e94c019-7abf-450e-b7a0-5f07ecc17619 div.sk-label input.sk-toggleable__control:checked~label.sk-toggleable__label {background-color: #d4ebff;}#sk-3e94c019-7abf-450e-b7a0-5f07ecc17619 input.sk-hidden--visually {border: 0;clip: rect(1px 1px 1px 1px);clip: rect(1px, 1px, 1px, 1px);height: 1px;margin: -1px;overflow: hidden;padding: 0;position: absolute;width: 1px;}#sk-3e94c019-7abf-450e-b7a0-5f07ecc17619 div.sk-estimator {font-family: monospace;background-color: #f0f8ff;border: 1px dotted black;border-radius: 0.25em;box-sizing: border-box;margin-bottom: 0.5em;}#sk-3e94c019-7abf-450e-b7a0-5f07ecc17619 div.sk-estimator:hover {background-color: #d4ebff;}#sk-3e94c019-7abf-450e-b7a0-5f07ecc17619 div.sk-parallel-item::after {content: \"\";width: 100%;border-bottom: 1px solid gray;flex-grow: 1;}#sk-3e94c019-7abf-450e-b7a0-5f07ecc17619 div.sk-label:hover label.sk-toggleable__label {background-color: #d4ebff;}#sk-3e94c019-7abf-450e-b7a0-5f07ecc17619 div.sk-serial::before {content: \"\";position: absolute;border-left: 1px solid gray;box-sizing: border-box;top: 2em;bottom: 0;left: 50%;}#sk-3e94c019-7abf-450e-b7a0-5f07ecc17619 div.sk-serial {display: flex;flex-direction: column;align-items: center;background-color: white;padding-right: 0.2em;padding-left: 0.2em;}#sk-3e94c019-7abf-450e-b7a0-5f07ecc17619 div.sk-item {z-index: 1;}#sk-3e94c019-7abf-450e-b7a0-5f07ecc17619 div.sk-parallel {display: flex;align-items: stretch;justify-content: center;background-color: white;}#sk-3e94c019-7abf-450e-b7a0-5f07ecc17619 div.sk-parallel::before {content: \"\";position: absolute;border-left: 1px solid gray;box-sizing: border-box;top: 2em;bottom: 0;left: 50%;}#sk-3e94c019-7abf-450e-b7a0-5f07ecc17619 div.sk-parallel-item {display: flex;flex-direction: column;position: relative;background-color: white;}#sk-3e94c019-7abf-450e-b7a0-5f07ecc17619 div.sk-parallel-item:first-child::after {align-self: flex-end;width: 50%;}#sk-3e94c019-7abf-450e-b7a0-5f07ecc17619 div.sk-parallel-item:last-child::after {align-self: flex-start;width: 50%;}#sk-3e94c019-7abf-450e-b7a0-5f07ecc17619 div.sk-parallel-item:only-child::after {width: 0;}#sk-3e94c019-7abf-450e-b7a0-5f07ecc17619 div.sk-dashed-wrapped {border: 1px dashed gray;margin: 0 0.4em 0.5em 0.4em;box-sizing: border-box;padding-bottom: 0.4em;background-color: white;position: relative;}#sk-3e94c019-7abf-450e-b7a0-5f07ecc17619 div.sk-label label {font-family: monospace;font-weight: bold;background-color: white;display: inline-block;line-height: 1.2em;}#sk-3e94c019-7abf-450e-b7a0-5f07ecc17619 div.sk-label-container {position: relative;z-index: 2;text-align: center;}#sk-3e94c019-7abf-450e-b7a0-5f07ecc17619 div.sk-container {/* jupyter's `normalize.less` sets `[hidden] { display: none; }` but bootstrap.min.css set `[hidden] { display: none !important; }` so we also need the `!important` here to be able to override the default hidden behavior on the sphinx rendered scikit-learn.org. See: https://github.com/scikit-learn/scikit-learn/issues/21755 */display: inline-block !important;position: relative;}#sk-3e94c019-7abf-450e-b7a0-5f07ecc17619 div.sk-text-repr-fallback {display: none;}</style><div id=\"sk-3e94c019-7abf-450e-b7a0-5f07ecc17619\" class=\"sk-top-container\"><div class=\"sk-text-repr-fallback\"><pre>FeatureUnionDataFrame(transformer_list=[(&#x27;lower&#x27;,\n",
       "                                         ApplyTransformer(apply_func=&lt;function applymap at 0x7f88fab56700&gt;, func=&lt;method &#x27;lower&#x27; of &#x27;str&#x27; objects&gt;)),\n",
       "                                        (&#x27;upper&#x27;,\n",
       "                                         ApplyTransformer(apply_func=&lt;function applymap at 0x7f88fab56700&gt;, func=&lt;method &#x27;upper&#x27; of &#x27;str&#x27; objects&gt;)),\n",
       "                                        (&#x27;ind_lengths&#x27;,\n",
       "                                         ApplyTransformer(apply_func=&lt;function try_member_func at 0x7f88fab568b0&gt;, func=&#x27;agg&#x27;)),\n",
       "                                        (&#x27;combined&#x27;,\n",
       "                                         ApplyTransformer(apply_func=&lt;function applyrows at 0x7f88fab56790&gt;, func=&lt;function len_all at 0x7f88fa9a2ee0&gt;)),\n",
       "                                        (&#x27;factor&#x27;,\n",
       "                                         ApplyTransformer(apply_func=&lt;function applymap at 0x7f88fab56700&gt;, func=&lt;function repeat_factor at 0x7f88fa9a2e50&gt;))])</pre><b>Please rerun this cell to show the HTML repr or trust the notebook.</b></div><div class=\"sk-container\" hidden><div class=\"sk-item sk-dashed-wrapped\"><div class=\"sk-label-container\"><div class=\"sk-label sk-toggleable\"><input class=\"sk-toggleable__control sk-hidden--visually\" id=\"17a1e69e-d37f-4ca4-a32a-eb1331947358\" type=\"checkbox\" ><label for=\"17a1e69e-d37f-4ca4-a32a-eb1331947358\" class=\"sk-toggleable__label sk-toggleable__label-arrow\">FeatureUnionDataFrame</label><div class=\"sk-toggleable__content\"><pre>FeatureUnionDataFrame(transformer_list=[(&#x27;lower&#x27;,\n",
       "                                         ApplyTransformer(apply_func=&lt;function applymap at 0x7f88fab56700&gt;, func=&lt;method &#x27;lower&#x27; of &#x27;str&#x27; objects&gt;)),\n",
       "                                        (&#x27;upper&#x27;,\n",
       "                                         ApplyTransformer(apply_func=&lt;function applymap at 0x7f88fab56700&gt;, func=&lt;method &#x27;upper&#x27; of &#x27;str&#x27; objects&gt;)),\n",
       "                                        (&#x27;ind_lengths&#x27;,\n",
       "                                         ApplyTransformer(apply_func=&lt;function try_member_func at 0x7f88fab568b0&gt;, func=&#x27;agg&#x27;)),\n",
       "                                        (&#x27;combined&#x27;,\n",
       "                                         ApplyTransformer(apply_func=&lt;function applyrows at 0x7f88fab56790&gt;, func=&lt;function len_all at 0x7f88fa9a2ee0&gt;)),\n",
       "                                        (&#x27;factor&#x27;,\n",
       "                                         ApplyTransformer(apply_func=&lt;function applymap at 0x7f88fab56700&gt;, func=&lt;function repeat_factor at 0x7f88fa9a2e50&gt;))])</pre></div></div></div><div class=\"sk-parallel\"><div class=\"sk-parallel-item\"><div class=\"sk-item\"><div class=\"sk-label-container\"><div class=\"sk-label sk-toggleable\"><label>lower</label></div></div><div class=\"sk-serial\"><div class=\"sk-item\"><div class=\"sk-estimator sk-toggleable\"><input class=\"sk-toggleable__control sk-hidden--visually\" id=\"07c5d267-cced-4308-b50c-a385c7b508a9\" type=\"checkbox\" ><label for=\"07c5d267-cced-4308-b50c-a385c7b508a9\" class=\"sk-toggleable__label sk-toggleable__label-arrow\">ApplyTransformer</label><div class=\"sk-toggleable__content\"><pre>ApplyTransformer(apply_func=applymap, func=lower)</pre></div></div></div></div></div></div><div class=\"sk-parallel-item\"><div class=\"sk-item\"><div class=\"sk-label-container\"><div class=\"sk-label sk-toggleable\"><label>upper</label></div></div><div class=\"sk-serial\"><div class=\"sk-item\"><div class=\"sk-estimator sk-toggleable\"><input class=\"sk-toggleable__control sk-hidden--visually\" id=\"4aeed475-e7eb-4a35-b794-da3abe3ef4e3\" type=\"checkbox\" ><label for=\"4aeed475-e7eb-4a35-b794-da3abe3ef4e3\" class=\"sk-toggleable__label sk-toggleable__label-arrow\">ApplyTransformer</label><div class=\"sk-toggleable__content\"><pre>ApplyTransformer(apply_func=applymap, func=upper)</pre></div></div></div></div></div></div><div class=\"sk-parallel-item\"><div class=\"sk-item\"><div class=\"sk-label-container\"><div class=\"sk-label sk-toggleable\"><label>ind_lengths</label></div></div><div class=\"sk-serial\"><div class=\"sk-item\"><div class=\"sk-estimator sk-toggleable\"><input class=\"sk-toggleable__control sk-hidden--visually\" id=\"3e168506-65c6-4c8a-a95e-917b884d0a17\" type=\"checkbox\" ><label for=\"3e168506-65c6-4c8a-a95e-917b884d0a17\" class=\"sk-toggleable__label sk-toggleable__label-arrow\">ApplyTransformer</label><div class=\"sk-toggleable__content\"><pre>ApplyTransformer(apply_func=try_member_func, func=agg)</pre></div></div></div></div></div></div><div class=\"sk-parallel-item\"><div class=\"sk-item\"><div class=\"sk-label-container\"><div class=\"sk-label sk-toggleable\"><label>combined</label></div></div><div class=\"sk-serial\"><div class=\"sk-item\"><div class=\"sk-estimator sk-toggleable\"><input class=\"sk-toggleable__control sk-hidden--visually\" id=\"545999ec-7eb0-4333-a72d-677d42b83aaa\" type=\"checkbox\" ><label for=\"545999ec-7eb0-4333-a72d-677d42b83aaa\" class=\"sk-toggleable__label sk-toggleable__label-arrow\">ApplyTransformer</label><div class=\"sk-toggleable__content\"><pre>ApplyTransformer(apply_func=applyrows, func=len_all)</pre></div></div></div></div></div></div><div class=\"sk-parallel-item\"><div class=\"sk-item\"><div class=\"sk-label-container\"><div class=\"sk-label sk-toggleable\"><label>factor</label></div></div><div class=\"sk-serial\"><div class=\"sk-item\"><div class=\"sk-estimator sk-toggleable\"><input class=\"sk-toggleable__control sk-hidden--visually\" id=\"0989288b-cda8-4ac8-b56a-f55030edf71d\" type=\"checkbox\" ><label for=\"0989288b-cda8-4ac8-b56a-f55030edf71d\" class=\"sk-toggleable__label sk-toggleable__label-arrow\">ApplyTransformer</label><div class=\"sk-toggleable__content\"><pre>ApplyTransformer(apply_func=applymap, func=repeat_factor)</pre></div></div></div></div></div></div></div></div></div></div>"
      ],
      "text/plain": [
       "FeatureUnionDataFrame(transformer_list=[('lower',\n",
       "                                         ApplyTransformer(apply_func=<function applymap at 0x7f88fab56700>, func=<method 'lower' of 'str' objects>)),\n",
       "                                        ('upper',\n",
       "                                         ApplyTransformer(apply_func=<function applymap at 0x7f88fab56700>, func=<method 'upper' of 'str' objects>)),\n",
       "                                        ('ind_lengths',\n",
       "                                         ApplyTransformer(apply_func=<function try_member_func at 0x7f88fab568b0>, func='agg')),\n",
       "                                        ('combined',\n",
       "                                         ApplyTransformer(apply_func=<function applyrows at 0x7f88fab56790>, func=<function len_all at 0x7f88fa9a2ee0>)),\n",
       "                                        ('factor',\n",
       "                                         ApplyTransformer(apply_func=<function applymap at 0x7f88fab56700>, func=<function repeat_factor at 0x7f88fa9a2e50>))])"
      ]
     },
     "execution_count": 26,
     "metadata": {},
     "output_type": "execute_result"
    }
   ],
   "source": [
    "fu_tx = FeatureUnionDataFrame(\n",
    "    [\n",
    "#         ('camel', camelcase_tx), \n",
    "        ('lower', lowercase_tx), \n",
    "        ('upper', uppercase_tx),\n",
    "        ('ind_lengths', agg_tx),\n",
    "        ('combined', lenall_tx),\n",
    "        ('factor', factor_tx),\n",
    "#         ('space', spacer_tx),\n",
    "#         ('reverse', reverse_tx),\n",
    "#         ('prepend', prepend_tx),                              \n",
    "    ]\n",
    ")\n",
    "\n",
    "fu_tx"
   ]
  },
  {
   "cell_type": "markdown",
   "id": "d5e902d4",
   "metadata": {},
   "source": [
    "And now, the output, when we run the DataFrame through our FeatureUnionDataFrame."
   ]
  },
  {
   "cell_type": "code",
   "execution_count": 27,
   "id": "7e7fadc3",
   "metadata": {},
   "outputs": [
    {
     "data": {
      "text/html": [
       "<div>\n",
       "<style scoped>\n",
       "    .dataframe tbody tr th:only-of-type {\n",
       "        vertical-align: middle;\n",
       "    }\n",
       "\n",
       "    .dataframe tbody tr th {\n",
       "        vertical-align: top;\n",
       "    }\n",
       "\n",
       "    .dataframe thead th {\n",
       "        text-align: right;\n",
       "    }\n",
       "</style>\n",
       "<table border=\"1\" class=\"dataframe\">\n",
       "  <thead>\n",
       "    <tr style=\"text-align: right;\">\n",
       "      <th></th>\n",
       "      <th>lower__first_name</th>\n",
       "      <th>lower__last_name</th>\n",
       "      <th>upper__first_name</th>\n",
       "      <th>upper__last_name</th>\n",
       "      <th>ind_lengths__('first_name', 'len')</th>\n",
       "      <th>ind_lengths__('first_name', 'len_squared')</th>\n",
       "      <th>ind_lengths__('last_name', 'len')</th>\n",
       "      <th>ind_lengths__('last_name', 'len_squared')</th>\n",
       "      <th>combined__len_all</th>\n",
       "      <th>factor__first_name</th>\n",
       "      <th>factor__last_name</th>\n",
       "      <th>factor__len_all</th>\n",
       "    </tr>\n",
       "  </thead>\n",
       "  <tbody>\n",
       "    <tr>\n",
       "      <th>0</th>\n",
       "      <td>anne</td>\n",
       "      <td>bancroft</td>\n",
       "      <td>ANNE</td>\n",
       "      <td>BANCROFT</td>\n",
       "      <td>4</td>\n",
       "      <td>16</td>\n",
       "      <td>8</td>\n",
       "      <td>64</td>\n",
       "      <td>12</td>\n",
       "      <td>AnneAnneAnne</td>\n",
       "      <td>BancroftBancroftBancroft</td>\n",
       "      <td>36</td>\n",
       "    </tr>\n",
       "    <tr>\n",
       "      <th>1</th>\n",
       "      <td>bob</td>\n",
       "      <td>dylan</td>\n",
       "      <td>BOB</td>\n",
       "      <td>DYLAN</td>\n",
       "      <td>3</td>\n",
       "      <td>9</td>\n",
       "      <td>5</td>\n",
       "      <td>25</td>\n",
       "      <td>8</td>\n",
       "      <td>BobBobBob</td>\n",
       "      <td>DylanDylanDylan</td>\n",
       "      <td>24</td>\n",
       "    </tr>\n",
       "    <tr>\n",
       "      <th>2</th>\n",
       "      <td>charlie</td>\n",
       "      <td>chaplin</td>\n",
       "      <td>CHARLIE</td>\n",
       "      <td>CHAPLIN</td>\n",
       "      <td>7</td>\n",
       "      <td>49</td>\n",
       "      <td>7</td>\n",
       "      <td>49</td>\n",
       "      <td>14</td>\n",
       "      <td>CharlieCharlieCharlie</td>\n",
       "      <td>ChaplinChaplinChaplin</td>\n",
       "      <td>42</td>\n",
       "    </tr>\n",
       "    <tr>\n",
       "      <th>3</th>\n",
       "      <td>bob</td>\n",
       "      <td>marley</td>\n",
       "      <td>BOB</td>\n",
       "      <td>MARLEY</td>\n",
       "      <td>3</td>\n",
       "      <td>9</td>\n",
       "      <td>6</td>\n",
       "      <td>36</td>\n",
       "      <td>9</td>\n",
       "      <td>BobBobBob</td>\n",
       "      <td>MarleyMarleyMarley</td>\n",
       "      <td>27</td>\n",
       "    </tr>\n",
       "  </tbody>\n",
       "</table>\n",
       "</div>"
      ],
      "text/plain": [
       "  lower__first_name lower__last_name upper__first_name upper__last_name  \\\n",
       "0              anne         bancroft              ANNE         BANCROFT   \n",
       "1               bob            dylan               BOB            DYLAN   \n",
       "2           charlie          chaplin           CHARLIE          CHAPLIN   \n",
       "3               bob           marley               BOB           MARLEY   \n",
       "\n",
       "  ind_lengths__('first_name', 'len')  \\\n",
       "0                                  4   \n",
       "1                                  3   \n",
       "2                                  7   \n",
       "3                                  3   \n",
       "\n",
       "  ind_lengths__('first_name', 'len_squared')  \\\n",
       "0                                         16   \n",
       "1                                          9   \n",
       "2                                         49   \n",
       "3                                          9   \n",
       "\n",
       "  ind_lengths__('last_name', 'len') ind_lengths__('last_name', 'len_squared')  \\\n",
       "0                                 8                                        64   \n",
       "1                                 5                                        25   \n",
       "2                                 7                                        49   \n",
       "3                                 6                                        36   \n",
       "\n",
       "  combined__len_all     factor__first_name         factor__last_name  \\\n",
       "0                12           AnneAnneAnne  BancroftBancroftBancroft   \n",
       "1                 8              BobBobBob           DylanDylanDylan   \n",
       "2                14  CharlieCharlieCharlie     ChaplinChaplinChaplin   \n",
       "3                 9              BobBobBob        MarleyMarleyMarley   \n",
       "\n",
       "  factor__len_all  \n",
       "0              36  \n",
       "1              24  \n",
       "2              42  \n",
       "3              27  "
      ]
     },
     "execution_count": 27,
     "metadata": {},
     "output_type": "execute_result"
    }
   ],
   "source": [
    "Xs = fu_tx.transform(df[['first_name', 'last_name']])\n",
    "Xs"
   ]
  },
  {
   "cell_type": "markdown",
   "id": "77192e33",
   "metadata": {},
   "source": [
    "# Fixing column names through `feature_names_out`.\n",
    "\n",
    "Column names using the `FeatureUnionDataFrame` or `ColumnTransformerDataFrame` uses the transformers' `get_feature_names_out()` function. "
   ]
  },
  {
   "cell_type": "code",
   "execution_count": 28,
   "id": "ee4afad7",
   "metadata": {},
   "outputs": [
    {
     "data": {
      "text/plain": [
       "array(['lower__first_name', 'lower__last_name', 'upper__first_name',\n",
       "       'upper__last_name', \"ind_lengths__('first_name', 'len')\",\n",
       "       \"ind_lengths__('first_name', 'len_squared')\",\n",
       "       \"ind_lengths__('last_name', 'len')\",\n",
       "       \"ind_lengths__('last_name', 'len_squared')\", 'combined__len_all',\n",
       "       'factor__first_name', 'factor__last_name', 'factor__len_all'],\n",
       "      dtype=object)"
      ]
     },
     "execution_count": 28,
     "metadata": {},
     "output_type": "execute_result"
    }
   ],
   "source": [
    "fu_tx.get_feature_names_out()"
   ]
  },
  {
   "cell_type": "markdown",
   "id": "664e989a",
   "metadata": {},
   "source": [
    "As seen above, some of these names now look a little off. In particular, the `agg_tx` transformer provided a hierarchical column index as shown in the cell below."
   ]
  },
  {
   "cell_type": "code",
   "execution_count": 29,
   "id": "8f09d41c",
   "metadata": {},
   "outputs": [
    {
     "data": {
      "text/plain": [
       "MultiIndex([('first_name',         'len'),\n",
       "            ('first_name', 'len_squared'),\n",
       "            ( 'last_name',         'len'),\n",
       "            ( 'last_name', 'len_squared')],\n",
       "           )"
      ]
     },
     "execution_count": 29,
     "metadata": {},
     "output_type": "execute_result"
    }
   ],
   "source": [
    "df_ = agg_tx.transform(df[['first_name', 'last_name']])\n",
    "df_.columns"
   ]
  },
  {
   "cell_type": "markdown",
   "id": "99b30556",
   "metadata": {},
   "source": [
    "`feature_names` are string-formatted versions of the column index."
   ]
  },
  {
   "cell_type": "code",
   "execution_count": 30,
   "id": "9fae3e7e",
   "metadata": {},
   "outputs": [
    {
     "data": {
      "text/plain": [
       "[\"('first_name', 'len')\",\n",
       " \"('first_name', 'len_squared')\",\n",
       " \"('last_name', 'len')\",\n",
       " \"('last_name', 'len_squared')\"]"
      ]
     },
     "execution_count": 30,
     "metadata": {},
     "output_type": "execute_result"
    }
   ],
   "source": [
    "agg_tx.get_feature_names_out()"
   ]
  },
  {
   "cell_type": "code",
   "execution_count": 31,
   "id": "90ed5905",
   "metadata": {},
   "outputs": [
    {
     "data": {
      "text/html": [
       "<div>\n",
       "<style scoped>\n",
       "    .dataframe tbody tr th:only-of-type {\n",
       "        vertical-align: middle;\n",
       "    }\n",
       "\n",
       "    .dataframe tbody tr th {\n",
       "        vertical-align: top;\n",
       "    }\n",
       "\n",
       "    .dataframe thead th {\n",
       "        text-align: right;\n",
       "    }\n",
       "</style>\n",
       "<table border=\"1\" class=\"dataframe\">\n",
       "  <thead>\n",
       "    <tr style=\"text-align: right;\">\n",
       "      <th></th>\n",
       "      <th>first_len</th>\n",
       "      <th>first_lensquared</th>\n",
       "      <th>last_len</th>\n",
       "      <th>last_lensquared</th>\n",
       "    </tr>\n",
       "  </thead>\n",
       "  <tbody>\n",
       "    <tr>\n",
       "      <th>0</th>\n",
       "      <td>4</td>\n",
       "      <td>16</td>\n",
       "      <td>8</td>\n",
       "      <td>64</td>\n",
       "    </tr>\n",
       "    <tr>\n",
       "      <th>1</th>\n",
       "      <td>3</td>\n",
       "      <td>9</td>\n",
       "      <td>5</td>\n",
       "      <td>25</td>\n",
       "    </tr>\n",
       "    <tr>\n",
       "      <th>2</th>\n",
       "      <td>7</td>\n",
       "      <td>49</td>\n",
       "      <td>7</td>\n",
       "      <td>49</td>\n",
       "    </tr>\n",
       "    <tr>\n",
       "      <th>3</th>\n",
       "      <td>3</td>\n",
       "      <td>9</td>\n",
       "      <td>6</td>\n",
       "      <td>36</td>\n",
       "    </tr>\n",
       "  </tbody>\n",
       "</table>\n",
       "</div>"
      ],
      "text/plain": [
       "   first_len  first_lensquared  last_len  last_lensquared\n",
       "0          4                16         8               64\n",
       "1          3                 9         5               25\n",
       "2          7                49         7               49\n",
       "3          3                 9         6               36"
      ]
     },
     "execution_count": 31,
     "metadata": {},
     "output_type": "execute_result"
    }
   ],
   "source": [
    "agg_tx = ApplyTransformer(\n",
    "    try_member_func, \n",
    "    'agg', \n",
    "    feature_names_out=[\n",
    "        'first_len', \n",
    "        'first_lensquared', \n",
    "        'last_len', \n",
    "        'last_lensquared'\n",
    "    ],\n",
    "    fkwargs=dict(\n",
    "        fkwargs=(dict(func=[len, len_squared]))\n",
    "    )\n",
    ")\n",
    "agg_tx.transform(df[['first_name', 'last_name']])"
   ]
  },
  {
   "cell_type": "markdown",
   "id": "d2625703",
   "metadata": {},
   "source": [
    "Note that calling the transformer directly does not change the output -- it still works the same as if one executed Pandas `agg()`. However, in the context of FeatureUnions and these cases where we have to concatenate results, we flatten the column names and we can use the `feature_names`. Here, we replace the `agg_tx` sub-tranformer with the one we just created and see that it is using the `feature_names` we just ascribed."
   ]
  },
  {
   "cell_type": "code",
   "execution_count": 32,
   "id": "31277442",
   "metadata": {},
   "outputs": [
    {
     "data": {
      "text/html": [
       "<div>\n",
       "<style scoped>\n",
       "    .dataframe tbody tr th:only-of-type {\n",
       "        vertical-align: middle;\n",
       "    }\n",
       "\n",
       "    .dataframe tbody tr th {\n",
       "        vertical-align: top;\n",
       "    }\n",
       "\n",
       "    .dataframe thead th {\n",
       "        text-align: right;\n",
       "    }\n",
       "</style>\n",
       "<table border=\"1\" class=\"dataframe\">\n",
       "  <thead>\n",
       "    <tr style=\"text-align: right;\">\n",
       "      <th></th>\n",
       "      <th>lower__first_name</th>\n",
       "      <th>lower__last_name</th>\n",
       "      <th>upper__first_name</th>\n",
       "      <th>upper__last_name</th>\n",
       "      <th>ind_lengths__first_len</th>\n",
       "      <th>ind_lengths__first_lensquared</th>\n",
       "      <th>ind_lengths__last_len</th>\n",
       "      <th>ind_lengths__last_lensquared</th>\n",
       "      <th>combined__len_all</th>\n",
       "      <th>factor__first_name</th>\n",
       "      <th>factor__last_name</th>\n",
       "      <th>factor__len_all</th>\n",
       "    </tr>\n",
       "  </thead>\n",
       "  <tbody>\n",
       "    <tr>\n",
       "      <th>0</th>\n",
       "      <td>anne</td>\n",
       "      <td>bancroft</td>\n",
       "      <td>ANNE</td>\n",
       "      <td>BANCROFT</td>\n",
       "      <td>4</td>\n",
       "      <td>16</td>\n",
       "      <td>8</td>\n",
       "      <td>64</td>\n",
       "      <td>12</td>\n",
       "      <td>AnneAnneAnne</td>\n",
       "      <td>BancroftBancroftBancroft</td>\n",
       "      <td>36</td>\n",
       "    </tr>\n",
       "    <tr>\n",
       "      <th>1</th>\n",
       "      <td>bob</td>\n",
       "      <td>dylan</td>\n",
       "      <td>BOB</td>\n",
       "      <td>DYLAN</td>\n",
       "      <td>3</td>\n",
       "      <td>9</td>\n",
       "      <td>5</td>\n",
       "      <td>25</td>\n",
       "      <td>8</td>\n",
       "      <td>BobBobBob</td>\n",
       "      <td>DylanDylanDylan</td>\n",
       "      <td>24</td>\n",
       "    </tr>\n",
       "    <tr>\n",
       "      <th>2</th>\n",
       "      <td>charlie</td>\n",
       "      <td>chaplin</td>\n",
       "      <td>CHARLIE</td>\n",
       "      <td>CHAPLIN</td>\n",
       "      <td>7</td>\n",
       "      <td>49</td>\n",
       "      <td>7</td>\n",
       "      <td>49</td>\n",
       "      <td>14</td>\n",
       "      <td>CharlieCharlieCharlie</td>\n",
       "      <td>ChaplinChaplinChaplin</td>\n",
       "      <td>42</td>\n",
       "    </tr>\n",
       "    <tr>\n",
       "      <th>3</th>\n",
       "      <td>bob</td>\n",
       "      <td>marley</td>\n",
       "      <td>BOB</td>\n",
       "      <td>MARLEY</td>\n",
       "      <td>3</td>\n",
       "      <td>9</td>\n",
       "      <td>6</td>\n",
       "      <td>36</td>\n",
       "      <td>9</td>\n",
       "      <td>BobBobBob</td>\n",
       "      <td>MarleyMarleyMarley</td>\n",
       "      <td>27</td>\n",
       "    </tr>\n",
       "  </tbody>\n",
       "</table>\n",
       "</div>"
      ],
      "text/plain": [
       "  lower__first_name lower__last_name upper__first_name upper__last_name  \\\n",
       "0              anne         bancroft              ANNE         BANCROFT   \n",
       "1               bob            dylan               BOB            DYLAN   \n",
       "2           charlie          chaplin           CHARLIE          CHAPLIN   \n",
       "3               bob           marley               BOB           MARLEY   \n",
       "\n",
       "  ind_lengths__first_len ind_lengths__first_lensquared ind_lengths__last_len  \\\n",
       "0                      4                            16                     8   \n",
       "1                      3                             9                     5   \n",
       "2                      7                            49                     7   \n",
       "3                      3                             9                     6   \n",
       "\n",
       "  ind_lengths__last_lensquared combined__len_all     factor__first_name  \\\n",
       "0                           64                12           AnneAnneAnne   \n",
       "1                           25                 8              BobBobBob   \n",
       "2                           49                14  CharlieCharlieCharlie   \n",
       "3                           36                 9              BobBobBob   \n",
       "\n",
       "          factor__last_name factor__len_all  \n",
       "0  BancroftBancroftBancroft              36  \n",
       "1           DylanDylanDylan              24  \n",
       "2     ChaplinChaplinChaplin              42  \n",
       "3        MarleyMarleyMarley              27  "
      ]
     },
     "execution_count": 32,
     "metadata": {},
     "output_type": "execute_result"
    }
   ],
   "source": [
    "fu_tx.transformer_list[2] = ('ind_lengths', agg_tx)\n",
    "Xs = fu_tx.transform(df[['first_name', 'last_name']])\n",
    "Xs"
   ]
  },
  {
   "cell_type": "code",
   "execution_count": 33,
   "id": "1e15526b",
   "metadata": {},
   "outputs": [
    {
     "data": {
      "text/plain": [
       "array(['lower__first_name', 'lower__last_name', 'upper__first_name',\n",
       "       'upper__last_name', 'ind_lengths__first_len',\n",
       "       'ind_lengths__first_lensquared', 'ind_lengths__last_len',\n",
       "       'ind_lengths__last_lensquared', 'combined__len_all',\n",
       "       'factor__first_name', 'factor__last_name', 'factor__len_all'],\n",
       "      dtype=object)"
      ]
     },
     "execution_count": 33,
     "metadata": {},
     "output_type": "execute_result"
    }
   ],
   "source": [
    "fu_tx.get_feature_names_out()"
   ]
  },
  {
   "cell_type": "markdown",
   "id": "e450e65a",
   "metadata": {},
   "source": [
    "Keeping the string-formatted version allows us to rebuild the hierarchy if we want. Alternatively, we can explicitly set the `feature_names` to be our flattened list."
   ]
  },
  {
   "cell_type": "markdown",
   "id": "25cafdc7",
   "metadata": {},
   "source": [
    "# Pipeline\n",
    "\n",
    "Let's put our Transformers into a Pipeline. \n",
    "\n",
    "> **Note** that the last step in pipelines should be a `passthrough` if the transformer does not implement `fit()`. It's probably easiest to get in the habit of always having a last step of `passthrough`."
   ]
  },
  {
   "cell_type": "code",
   "execution_count": 34,
   "id": "6bece975",
   "metadata": {},
   "outputs": [
    {
     "data": {
      "text/html": [
       "<style>#sk-5cbd104e-3c5e-4842-8a94-634a5fa39d24 {color: black;background-color: white;}#sk-5cbd104e-3c5e-4842-8a94-634a5fa39d24 pre{padding: 0;}#sk-5cbd104e-3c5e-4842-8a94-634a5fa39d24 div.sk-toggleable {background-color: white;}#sk-5cbd104e-3c5e-4842-8a94-634a5fa39d24 label.sk-toggleable__label {cursor: pointer;display: block;width: 100%;margin-bottom: 0;padding: 0.3em;box-sizing: border-box;text-align: center;}#sk-5cbd104e-3c5e-4842-8a94-634a5fa39d24 label.sk-toggleable__label-arrow:before {content: \"▸\";float: left;margin-right: 0.25em;color: #696969;}#sk-5cbd104e-3c5e-4842-8a94-634a5fa39d24 label.sk-toggleable__label-arrow:hover:before {color: black;}#sk-5cbd104e-3c5e-4842-8a94-634a5fa39d24 div.sk-estimator:hover label.sk-toggleable__label-arrow:before {color: black;}#sk-5cbd104e-3c5e-4842-8a94-634a5fa39d24 div.sk-toggleable__content {max-height: 0;max-width: 0;overflow: hidden;text-align: left;background-color: #f0f8ff;}#sk-5cbd104e-3c5e-4842-8a94-634a5fa39d24 div.sk-toggleable__content pre {margin: 0.2em;color: black;border-radius: 0.25em;background-color: #f0f8ff;}#sk-5cbd104e-3c5e-4842-8a94-634a5fa39d24 input.sk-toggleable__control:checked~div.sk-toggleable__content {max-height: 200px;max-width: 100%;overflow: auto;}#sk-5cbd104e-3c5e-4842-8a94-634a5fa39d24 input.sk-toggleable__control:checked~label.sk-toggleable__label-arrow:before {content: \"▾\";}#sk-5cbd104e-3c5e-4842-8a94-634a5fa39d24 div.sk-estimator input.sk-toggleable__control:checked~label.sk-toggleable__label {background-color: #d4ebff;}#sk-5cbd104e-3c5e-4842-8a94-634a5fa39d24 div.sk-label input.sk-toggleable__control:checked~label.sk-toggleable__label {background-color: #d4ebff;}#sk-5cbd104e-3c5e-4842-8a94-634a5fa39d24 input.sk-hidden--visually {border: 0;clip: rect(1px 1px 1px 1px);clip: rect(1px, 1px, 1px, 1px);height: 1px;margin: -1px;overflow: hidden;padding: 0;position: absolute;width: 1px;}#sk-5cbd104e-3c5e-4842-8a94-634a5fa39d24 div.sk-estimator {font-family: monospace;background-color: #f0f8ff;border: 1px dotted black;border-radius: 0.25em;box-sizing: border-box;margin-bottom: 0.5em;}#sk-5cbd104e-3c5e-4842-8a94-634a5fa39d24 div.sk-estimator:hover {background-color: #d4ebff;}#sk-5cbd104e-3c5e-4842-8a94-634a5fa39d24 div.sk-parallel-item::after {content: \"\";width: 100%;border-bottom: 1px solid gray;flex-grow: 1;}#sk-5cbd104e-3c5e-4842-8a94-634a5fa39d24 div.sk-label:hover label.sk-toggleable__label {background-color: #d4ebff;}#sk-5cbd104e-3c5e-4842-8a94-634a5fa39d24 div.sk-serial::before {content: \"\";position: absolute;border-left: 1px solid gray;box-sizing: border-box;top: 2em;bottom: 0;left: 50%;}#sk-5cbd104e-3c5e-4842-8a94-634a5fa39d24 div.sk-serial {display: flex;flex-direction: column;align-items: center;background-color: white;padding-right: 0.2em;padding-left: 0.2em;}#sk-5cbd104e-3c5e-4842-8a94-634a5fa39d24 div.sk-item {z-index: 1;}#sk-5cbd104e-3c5e-4842-8a94-634a5fa39d24 div.sk-parallel {display: flex;align-items: stretch;justify-content: center;background-color: white;}#sk-5cbd104e-3c5e-4842-8a94-634a5fa39d24 div.sk-parallel::before {content: \"\";position: absolute;border-left: 1px solid gray;box-sizing: border-box;top: 2em;bottom: 0;left: 50%;}#sk-5cbd104e-3c5e-4842-8a94-634a5fa39d24 div.sk-parallel-item {display: flex;flex-direction: column;position: relative;background-color: white;}#sk-5cbd104e-3c5e-4842-8a94-634a5fa39d24 div.sk-parallel-item:first-child::after {align-self: flex-end;width: 50%;}#sk-5cbd104e-3c5e-4842-8a94-634a5fa39d24 div.sk-parallel-item:last-child::after {align-self: flex-start;width: 50%;}#sk-5cbd104e-3c5e-4842-8a94-634a5fa39d24 div.sk-parallel-item:only-child::after {width: 0;}#sk-5cbd104e-3c5e-4842-8a94-634a5fa39d24 div.sk-dashed-wrapped {border: 1px dashed gray;margin: 0 0.4em 0.5em 0.4em;box-sizing: border-box;padding-bottom: 0.4em;background-color: white;position: relative;}#sk-5cbd104e-3c5e-4842-8a94-634a5fa39d24 div.sk-label label {font-family: monospace;font-weight: bold;background-color: white;display: inline-block;line-height: 1.2em;}#sk-5cbd104e-3c5e-4842-8a94-634a5fa39d24 div.sk-label-container {position: relative;z-index: 2;text-align: center;}#sk-5cbd104e-3c5e-4842-8a94-634a5fa39d24 div.sk-container {/* jupyter's `normalize.less` sets `[hidden] { display: none; }` but bootstrap.min.css set `[hidden] { display: none !important; }` so we also need the `!important` here to be able to override the default hidden behavior on the sphinx rendered scikit-learn.org. See: https://github.com/scikit-learn/scikit-learn/issues/21755 */display: inline-block !important;position: relative;}#sk-5cbd104e-3c5e-4842-8a94-634a5fa39d24 div.sk-text-repr-fallback {display: none;}</style><div id=\"sk-5cbd104e-3c5e-4842-8a94-634a5fa39d24\" class=\"sk-top-container\"><div class=\"sk-text-repr-fallback\"><pre>Pipeline(steps=[(&#x27;lower&#x27;,\n",
       "                 ApplyTransformer(apply_func=&lt;function applymap at 0x7f88fab56700&gt;, func=&lt;method &#x27;lower&#x27; of &#x27;str&#x27; objects&gt;)),\n",
       "                (&#x27;reverse&#x27;,\n",
       "                 ApplyTransformer(apply_func=&lt;function applymap at 0x7f88fab56700&gt;, func=&lt;function reverse_text at 0x7f88fa9a29d0&gt;)),\n",
       "                (&#x27;upper&#x27;,\n",
       "                 ApplyTransformer(apply_func=&lt;function applymap at 0x7f88fab56700&gt;, func=&lt;method &#x27;upper&#x27; of &#x27;str&#x27; objects...\n",
       "                 ApplyTransformer(apply_func=&lt;function applymap at 0x7f88fab56700&gt;, func=&lt;function camelcase at 0x7f896bc55e50&gt;)),\n",
       "                (&#x27;space&#x27;,\n",
       "                 ApplyTransformer(apply_func=&lt;function applymap at 0x7f88fab56700&gt;, func=&lt;function space_text at 0x7f88faac6790&gt;)),\n",
       "                (&#x27;prepend&#x27;,\n",
       "                 ApplyTransformer(apply_func=&lt;function applymap at 0x7f88fab56700&gt;, func=&lt;function prepend_text at 0x7f88faac6ca0&gt;)),\n",
       "                (&#x27;last&#x27;, &#x27;passthrough&#x27;)])</pre><b>Please rerun this cell to show the HTML repr or trust the notebook.</b></div><div class=\"sk-container\" hidden><div class=\"sk-item sk-dashed-wrapped\"><div class=\"sk-label-container\"><div class=\"sk-label sk-toggleable\"><input class=\"sk-toggleable__control sk-hidden--visually\" id=\"1e2dcdb4-5d3e-44ed-80c1-df26df453f7c\" type=\"checkbox\" ><label for=\"1e2dcdb4-5d3e-44ed-80c1-df26df453f7c\" class=\"sk-toggleable__label sk-toggleable__label-arrow\">Pipeline</label><div class=\"sk-toggleable__content\"><pre>Pipeline(steps=[(&#x27;lower&#x27;,\n",
       "                 ApplyTransformer(apply_func=&lt;function applymap at 0x7f88fab56700&gt;, func=&lt;method &#x27;lower&#x27; of &#x27;str&#x27; objects&gt;)),\n",
       "                (&#x27;reverse&#x27;,\n",
       "                 ApplyTransformer(apply_func=&lt;function applymap at 0x7f88fab56700&gt;, func=&lt;function reverse_text at 0x7f88fa9a29d0&gt;)),\n",
       "                (&#x27;upper&#x27;,\n",
       "                 ApplyTransformer(apply_func=&lt;function applymap at 0x7f88fab56700&gt;, func=&lt;method &#x27;upper&#x27; of &#x27;str&#x27; objects...\n",
       "                 ApplyTransformer(apply_func=&lt;function applymap at 0x7f88fab56700&gt;, func=&lt;function camelcase at 0x7f896bc55e50&gt;)),\n",
       "                (&#x27;space&#x27;,\n",
       "                 ApplyTransformer(apply_func=&lt;function applymap at 0x7f88fab56700&gt;, func=&lt;function space_text at 0x7f88faac6790&gt;)),\n",
       "                (&#x27;prepend&#x27;,\n",
       "                 ApplyTransformer(apply_func=&lt;function applymap at 0x7f88fab56700&gt;, func=&lt;function prepend_text at 0x7f88faac6ca0&gt;)),\n",
       "                (&#x27;last&#x27;, &#x27;passthrough&#x27;)])</pre></div></div></div><div class=\"sk-serial\"><div class=\"sk-item\"><div class=\"sk-estimator sk-toggleable\"><input class=\"sk-toggleable__control sk-hidden--visually\" id=\"5507913b-bf92-4166-8610-5f64b3dc8e46\" type=\"checkbox\" ><label for=\"5507913b-bf92-4166-8610-5f64b3dc8e46\" class=\"sk-toggleable__label sk-toggleable__label-arrow\">ApplyTransformer</label><div class=\"sk-toggleable__content\"><pre>ApplyTransformer(apply_func=applymap, func=lower)</pre></div></div></div><div class=\"sk-item\"><div class=\"sk-estimator sk-toggleable\"><input class=\"sk-toggleable__control sk-hidden--visually\" id=\"0140025b-454e-494d-bca4-a415be433be9\" type=\"checkbox\" ><label for=\"0140025b-454e-494d-bca4-a415be433be9\" class=\"sk-toggleable__label sk-toggleable__label-arrow\">ApplyTransformer</label><div class=\"sk-toggleable__content\"><pre>ApplyTransformer(apply_func=applymap, func=reverse_text)</pre></div></div></div><div class=\"sk-item\"><div class=\"sk-estimator sk-toggleable\"><input class=\"sk-toggleable__control sk-hidden--visually\" id=\"d65a30d9-8a0a-487c-8786-7579cbd8ad7a\" type=\"checkbox\" ><label for=\"d65a30d9-8a0a-487c-8786-7579cbd8ad7a\" class=\"sk-toggleable__label sk-toggleable__label-arrow\">ApplyTransformer</label><div class=\"sk-toggleable__content\"><pre>ApplyTransformer(apply_func=applymap, func=upper)</pre></div></div></div><div class=\"sk-item\"><div class=\"sk-estimator sk-toggleable\"><input class=\"sk-toggleable__control sk-hidden--visually\" id=\"2600d637-cce0-4567-8bad-9656fd31d341\" type=\"checkbox\" ><label for=\"2600d637-cce0-4567-8bad-9656fd31d341\" class=\"sk-toggleable__label sk-toggleable__label-arrow\">ApplyTransformer</label><div class=\"sk-toggleable__content\"><pre>ApplyTransformer(apply_func=applymap, func=repeat_factor)</pre></div></div></div><div class=\"sk-item\"><div class=\"sk-estimator sk-toggleable\"><input class=\"sk-toggleable__control sk-hidden--visually\" id=\"8d649bf2-f372-4a55-a48b-0b884c4e064c\" type=\"checkbox\" ><label for=\"8d649bf2-f372-4a55-a48b-0b884c4e064c\" class=\"sk-toggleable__label sk-toggleable__label-arrow\">ApplyTransformer</label><div class=\"sk-toggleable__content\"><pre>ApplyTransformer(apply_func=applymap, func=camelcase)</pre></div></div></div><div class=\"sk-item\"><div class=\"sk-estimator sk-toggleable\"><input class=\"sk-toggleable__control sk-hidden--visually\" id=\"51087c8e-4254-415c-807a-9dfe5f77b9cd\" type=\"checkbox\" ><label for=\"51087c8e-4254-415c-807a-9dfe5f77b9cd\" class=\"sk-toggleable__label sk-toggleable__label-arrow\">ApplyTransformer</label><div class=\"sk-toggleable__content\"><pre>ApplyTransformer(apply_func=applymap, func=space_text)</pre></div></div></div><div class=\"sk-item\"><div class=\"sk-estimator sk-toggleable\"><input class=\"sk-toggleable__control sk-hidden--visually\" id=\"fc6f4da6-6ae6-45f1-9c39-2e2ab6654473\" type=\"checkbox\" ><label for=\"fc6f4da6-6ae6-45f1-9c39-2e2ab6654473\" class=\"sk-toggleable__label sk-toggleable__label-arrow\">ApplyTransformer</label><div class=\"sk-toggleable__content\"><pre>ApplyTransformer(apply_func=applymap, func=prepend_text)</pre></div></div></div><div class=\"sk-item\"><div class=\"sk-estimator sk-toggleable\"><input class=\"sk-toggleable__control sk-hidden--visually\" id=\"b4abf839-675c-44af-983e-3a22bf454955\" type=\"checkbox\" ><label for=\"b4abf839-675c-44af-983e-3a22bf454955\" class=\"sk-toggleable__label sk-toggleable__label-arrow\">passthrough</label><div class=\"sk-toggleable__content\"><pre>passthrough</pre></div></div></div></div></div></div></div>"
      ],
      "text/plain": [
       "Pipeline(steps=[('lower',\n",
       "                 ApplyTransformer(apply_func=<function applymap at 0x7f88fab56700>, func=<method 'lower' of 'str' objects>)),\n",
       "                ('reverse',\n",
       "                 ApplyTransformer(apply_func=<function applymap at 0x7f88fab56700>, func=<function reverse_text at 0x7f88fa9a29d0>)),\n",
       "                ('upper',\n",
       "                 ApplyTransformer(apply_func=<function applymap at 0x7f88fab56700>, func=<method 'upper' of 'str' objects...\n",
       "                 ApplyTransformer(apply_func=<function applymap at 0x7f88fab56700>, func=<function camelcase at 0x7f896bc55e50>)),\n",
       "                ('space',\n",
       "                 ApplyTransformer(apply_func=<function applymap at 0x7f88fab56700>, func=<function space_text at 0x7f88faac6790>)),\n",
       "                ('prepend',\n",
       "                 ApplyTransformer(apply_func=<function applymap at 0x7f88fab56700>, func=<function prepend_text at 0x7f88faac6ca0>)),\n",
       "                ('last', 'passthrough')])"
      ]
     },
     "execution_count": 34,
     "metadata": {},
     "output_type": "execute_result"
    }
   ],
   "source": [
    "pipe_tx = Pipeline(\n",
    "    [\n",
    "        ('lower', lowercase_tx), \n",
    "        ('reverse', reverse_tx), \n",
    "        ('upper', uppercase_tx), \n",
    "        ('factor', factor_tx),\n",
    "        ('camel', camelcase_tx),\n",
    "        ('space', spacer_tx),\n",
    "        ('prepend', prepend_tx),\n",
    "        ('last', 'passthrough')\n",
    "    ]\n",
    ") \n",
    "pipe_tx"
   ]
  },
  {
   "cell_type": "markdown",
   "id": "f7ba8406",
   "metadata": {},
   "source": [
    "And the output of this model:"
   ]
  },
  {
   "cell_type": "code",
   "execution_count": 35,
   "id": "72cbb974",
   "metadata": {},
   "outputs": [
    {
     "data": {
      "text/html": [
       "<div>\n",
       "<style scoped>\n",
       "    .dataframe tbody tr th:only-of-type {\n",
       "        vertical-align: middle;\n",
       "    }\n",
       "\n",
       "    .dataframe tbody tr th {\n",
       "        vertical-align: top;\n",
       "    }\n",
       "\n",
       "    .dataframe thead th {\n",
       "        text-align: right;\n",
       "    }\n",
       "</style>\n",
       "<table border=\"1\" class=\"dataframe\">\n",
       "  <thead>\n",
       "    <tr style=\"text-align: right;\">\n",
       "      <th></th>\n",
       "      <th>first_name</th>\n",
       "      <th>last_name</th>\n",
       "    </tr>\n",
       "  </thead>\n",
       "  <tbody>\n",
       "    <tr>\n",
       "      <th>0</th>\n",
       "      <td>PREPEND_E n n a e n n a e n n a</td>\n",
       "      <td>PREPEND_T f o r c n a b t f o r c n a b t f o ...</td>\n",
       "    </tr>\n",
       "    <tr>\n",
       "      <th>1</th>\n",
       "      <td>PREPEND_B o b b o b b o b</td>\n",
       "      <td>PREPEND_N a l y d n a l y d n a l y d</td>\n",
       "    </tr>\n",
       "    <tr>\n",
       "      <th>2</th>\n",
       "      <td>PREPEND_E i l r a h c e i l r a h c e i l r a h c</td>\n",
       "      <td>PREPEND_N i l p a h c n i l p a h c n i l p a h c</td>\n",
       "    </tr>\n",
       "    <tr>\n",
       "      <th>3</th>\n",
       "      <td>PREPEND_B o b b o b b o b</td>\n",
       "      <td>PREPEND_Y e l r a m y e l r a m y e l r a m</td>\n",
       "    </tr>\n",
       "  </tbody>\n",
       "</table>\n",
       "</div>"
      ],
      "text/plain": [
       "                                          first_name  \\\n",
       "0                    PREPEND_E n n a e n n a e n n a   \n",
       "1                          PREPEND_B o b b o b b o b   \n",
       "2  PREPEND_E i l r a h c e i l r a h c e i l r a h c   \n",
       "3                          PREPEND_B o b b o b b o b   \n",
       "\n",
       "                                           last_name  \n",
       "0  PREPEND_T f o r c n a b t f o r c n a b t f o ...  \n",
       "1              PREPEND_N a l y d n a l y d n a l y d  \n",
       "2  PREPEND_N i l p a h c n i l p a h c n i l p a h c  \n",
       "3        PREPEND_Y e l r a m y e l r a m y e l r a m  "
      ]
     },
     "execution_count": 35,
     "metadata": {},
     "output_type": "execute_result"
    }
   ],
   "source": [
    "pipe_tx.transform(df[['first_name', 'last_name']])"
   ]
  },
  {
   "cell_type": "markdown",
   "id": "4a618a2f",
   "metadata": {},
   "source": [
    "# Intermediate results\n",
    "\n",
    "To see if this is working correctly, we can use the [intermediate_transforms context](https://bitbucket.org/dhigroupinc/dhi-match-datascience/src/master/src/dhi-dsmatch/dhi/dsmatch/sklearnmodeling/transformercontext.py), which shows us the transformations of each step in the pipeline."
   ]
  },
  {
   "cell_type": "code",
   "execution_count": 36,
   "id": "f2698a99",
   "metadata": {},
   "outputs": [
    {
     "data": {
      "text/html": [
       "<h3>lower</h3>"
      ],
      "text/plain": [
       "<IPython.core.display.HTML object>"
      ]
     },
     "metadata": {},
     "output_type": "display_data"
    },
    {
     "data": {
      "text/html": [
       "<div>\n",
       "<style scoped>\n",
       "    .dataframe tbody tr th:only-of-type {\n",
       "        vertical-align: middle;\n",
       "    }\n",
       "\n",
       "    .dataframe tbody tr th {\n",
       "        vertical-align: top;\n",
       "    }\n",
       "\n",
       "    .dataframe thead th {\n",
       "        text-align: right;\n",
       "    }\n",
       "</style>\n",
       "<table border=\"1\" class=\"dataframe\">\n",
       "  <thead>\n",
       "    <tr style=\"text-align: right;\">\n",
       "      <th></th>\n",
       "      <th>first_name</th>\n",
       "      <th>last_name</th>\n",
       "    </tr>\n",
       "  </thead>\n",
       "  <tbody>\n",
       "    <tr>\n",
       "      <th>0</th>\n",
       "      <td>anne</td>\n",
       "      <td>bancroft</td>\n",
       "    </tr>\n",
       "    <tr>\n",
       "      <th>1</th>\n",
       "      <td>bob</td>\n",
       "      <td>dylan</td>\n",
       "    </tr>\n",
       "    <tr>\n",
       "      <th>2</th>\n",
       "      <td>charlie</td>\n",
       "      <td>chaplin</td>\n",
       "    </tr>\n",
       "    <tr>\n",
       "      <th>3</th>\n",
       "      <td>bob</td>\n",
       "      <td>marley</td>\n",
       "    </tr>\n",
       "  </tbody>\n",
       "</table>\n",
       "</div>"
      ],
      "text/plain": [
       "  first_name last_name\n",
       "0       anne  bancroft\n",
       "1        bob     dylan\n",
       "2    charlie   chaplin\n",
       "3        bob    marley"
      ]
     },
     "metadata": {},
     "output_type": "display_data"
    },
    {
     "data": {
      "text/html": [
       "<h3>reverse</h3>"
      ],
      "text/plain": [
       "<IPython.core.display.HTML object>"
      ]
     },
     "metadata": {},
     "output_type": "display_data"
    },
    {
     "data": {
      "text/html": [
       "<div>\n",
       "<style scoped>\n",
       "    .dataframe tbody tr th:only-of-type {\n",
       "        vertical-align: middle;\n",
       "    }\n",
       "\n",
       "    .dataframe tbody tr th {\n",
       "        vertical-align: top;\n",
       "    }\n",
       "\n",
       "    .dataframe thead th {\n",
       "        text-align: right;\n",
       "    }\n",
       "</style>\n",
       "<table border=\"1\" class=\"dataframe\">\n",
       "  <thead>\n",
       "    <tr style=\"text-align: right;\">\n",
       "      <th></th>\n",
       "      <th>first_name</th>\n",
       "      <th>last_name</th>\n",
       "    </tr>\n",
       "  </thead>\n",
       "  <tbody>\n",
       "    <tr>\n",
       "      <th>0</th>\n",
       "      <td>enna</td>\n",
       "      <td>tforcnab</td>\n",
       "    </tr>\n",
       "    <tr>\n",
       "      <th>1</th>\n",
       "      <td>bob</td>\n",
       "      <td>nalyd</td>\n",
       "    </tr>\n",
       "    <tr>\n",
       "      <th>2</th>\n",
       "      <td>eilrahc</td>\n",
       "      <td>nilpahc</td>\n",
       "    </tr>\n",
       "    <tr>\n",
       "      <th>3</th>\n",
       "      <td>bob</td>\n",
       "      <td>yelram</td>\n",
       "    </tr>\n",
       "  </tbody>\n",
       "</table>\n",
       "</div>"
      ],
      "text/plain": [
       "  first_name last_name\n",
       "0       enna  tforcnab\n",
       "1        bob     nalyd\n",
       "2    eilrahc   nilpahc\n",
       "3        bob    yelram"
      ]
     },
     "metadata": {},
     "output_type": "display_data"
    },
    {
     "data": {
      "text/html": [
       "<h3>upper</h3>"
      ],
      "text/plain": [
       "<IPython.core.display.HTML object>"
      ]
     },
     "metadata": {},
     "output_type": "display_data"
    },
    {
     "data": {
      "text/html": [
       "<div>\n",
       "<style scoped>\n",
       "    .dataframe tbody tr th:only-of-type {\n",
       "        vertical-align: middle;\n",
       "    }\n",
       "\n",
       "    .dataframe tbody tr th {\n",
       "        vertical-align: top;\n",
       "    }\n",
       "\n",
       "    .dataframe thead th {\n",
       "        text-align: right;\n",
       "    }\n",
       "</style>\n",
       "<table border=\"1\" class=\"dataframe\">\n",
       "  <thead>\n",
       "    <tr style=\"text-align: right;\">\n",
       "      <th></th>\n",
       "      <th>first_name</th>\n",
       "      <th>last_name</th>\n",
       "    </tr>\n",
       "  </thead>\n",
       "  <tbody>\n",
       "    <tr>\n",
       "      <th>0</th>\n",
       "      <td>ENNA</td>\n",
       "      <td>TFORCNAB</td>\n",
       "    </tr>\n",
       "    <tr>\n",
       "      <th>1</th>\n",
       "      <td>BOB</td>\n",
       "      <td>NALYD</td>\n",
       "    </tr>\n",
       "    <tr>\n",
       "      <th>2</th>\n",
       "      <td>EILRAHC</td>\n",
       "      <td>NILPAHC</td>\n",
       "    </tr>\n",
       "    <tr>\n",
       "      <th>3</th>\n",
       "      <td>BOB</td>\n",
       "      <td>YELRAM</td>\n",
       "    </tr>\n",
       "  </tbody>\n",
       "</table>\n",
       "</div>"
      ],
      "text/plain": [
       "  first_name last_name\n",
       "0       ENNA  TFORCNAB\n",
       "1        BOB     NALYD\n",
       "2    EILRAHC   NILPAHC\n",
       "3        BOB    YELRAM"
      ]
     },
     "metadata": {},
     "output_type": "display_data"
    },
    {
     "data": {
      "text/html": [
       "<h3>factor</h3>"
      ],
      "text/plain": [
       "<IPython.core.display.HTML object>"
      ]
     },
     "metadata": {},
     "output_type": "display_data"
    },
    {
     "data": {
      "text/html": [
       "<div>\n",
       "<style scoped>\n",
       "    .dataframe tbody tr th:only-of-type {\n",
       "        vertical-align: middle;\n",
       "    }\n",
       "\n",
       "    .dataframe tbody tr th {\n",
       "        vertical-align: top;\n",
       "    }\n",
       "\n",
       "    .dataframe thead th {\n",
       "        text-align: right;\n",
       "    }\n",
       "</style>\n",
       "<table border=\"1\" class=\"dataframe\">\n",
       "  <thead>\n",
       "    <tr style=\"text-align: right;\">\n",
       "      <th></th>\n",
       "      <th>first_name</th>\n",
       "      <th>last_name</th>\n",
       "    </tr>\n",
       "  </thead>\n",
       "  <tbody>\n",
       "    <tr>\n",
       "      <th>0</th>\n",
       "      <td>ENNAENNAENNA</td>\n",
       "      <td>TFORCNABTFORCNABTFORCNAB</td>\n",
       "    </tr>\n",
       "    <tr>\n",
       "      <th>1</th>\n",
       "      <td>BOBBOBBOB</td>\n",
       "      <td>NALYDNALYDNALYD</td>\n",
       "    </tr>\n",
       "    <tr>\n",
       "      <th>2</th>\n",
       "      <td>EILRAHCEILRAHCEILRAHC</td>\n",
       "      <td>NILPAHCNILPAHCNILPAHC</td>\n",
       "    </tr>\n",
       "    <tr>\n",
       "      <th>3</th>\n",
       "      <td>BOBBOBBOB</td>\n",
       "      <td>YELRAMYELRAMYELRAM</td>\n",
       "    </tr>\n",
       "  </tbody>\n",
       "</table>\n",
       "</div>"
      ],
      "text/plain": [
       "              first_name                 last_name\n",
       "0           ENNAENNAENNA  TFORCNABTFORCNABTFORCNAB\n",
       "1              BOBBOBBOB           NALYDNALYDNALYD\n",
       "2  EILRAHCEILRAHCEILRAHC     NILPAHCNILPAHCNILPAHC\n",
       "3              BOBBOBBOB        YELRAMYELRAMYELRAM"
      ]
     },
     "metadata": {},
     "output_type": "display_data"
    },
    {
     "data": {
      "text/html": [
       "<h3>camel</h3>"
      ],
      "text/plain": [
       "<IPython.core.display.HTML object>"
      ]
     },
     "metadata": {},
     "output_type": "display_data"
    },
    {
     "data": {
      "text/html": [
       "<div>\n",
       "<style scoped>\n",
       "    .dataframe tbody tr th:only-of-type {\n",
       "        vertical-align: middle;\n",
       "    }\n",
       "\n",
       "    .dataframe tbody tr th {\n",
       "        vertical-align: top;\n",
       "    }\n",
       "\n",
       "    .dataframe thead th {\n",
       "        text-align: right;\n",
       "    }\n",
       "</style>\n",
       "<table border=\"1\" class=\"dataframe\">\n",
       "  <thead>\n",
       "    <tr style=\"text-align: right;\">\n",
       "      <th></th>\n",
       "      <th>first_name</th>\n",
       "      <th>last_name</th>\n",
       "    </tr>\n",
       "  </thead>\n",
       "  <tbody>\n",
       "    <tr>\n",
       "      <th>0</th>\n",
       "      <td>Ennaennaenna</td>\n",
       "      <td>Tforcnabtforcnabtforcnab</td>\n",
       "    </tr>\n",
       "    <tr>\n",
       "      <th>1</th>\n",
       "      <td>Bobbobbob</td>\n",
       "      <td>Nalydnalydnalyd</td>\n",
       "    </tr>\n",
       "    <tr>\n",
       "      <th>2</th>\n",
       "      <td>Eilrahceilrahceilrahc</td>\n",
       "      <td>Nilpahcnilpahcnilpahc</td>\n",
       "    </tr>\n",
       "    <tr>\n",
       "      <th>3</th>\n",
       "      <td>Bobbobbob</td>\n",
       "      <td>Yelramyelramyelram</td>\n",
       "    </tr>\n",
       "  </tbody>\n",
       "</table>\n",
       "</div>"
      ],
      "text/plain": [
       "              first_name                 last_name\n",
       "0           Ennaennaenna  Tforcnabtforcnabtforcnab\n",
       "1              Bobbobbob           Nalydnalydnalyd\n",
       "2  Eilrahceilrahceilrahc     Nilpahcnilpahcnilpahc\n",
       "3              Bobbobbob        Yelramyelramyelram"
      ]
     },
     "metadata": {},
     "output_type": "display_data"
    },
    {
     "data": {
      "text/html": [
       "<h3>space</h3>"
      ],
      "text/plain": [
       "<IPython.core.display.HTML object>"
      ]
     },
     "metadata": {},
     "output_type": "display_data"
    },
    {
     "data": {
      "text/html": [
       "<div>\n",
       "<style scoped>\n",
       "    .dataframe tbody tr th:only-of-type {\n",
       "        vertical-align: middle;\n",
       "    }\n",
       "\n",
       "    .dataframe tbody tr th {\n",
       "        vertical-align: top;\n",
       "    }\n",
       "\n",
       "    .dataframe thead th {\n",
       "        text-align: right;\n",
       "    }\n",
       "</style>\n",
       "<table border=\"1\" class=\"dataframe\">\n",
       "  <thead>\n",
       "    <tr style=\"text-align: right;\">\n",
       "      <th></th>\n",
       "      <th>first_name</th>\n",
       "      <th>last_name</th>\n",
       "    </tr>\n",
       "  </thead>\n",
       "  <tbody>\n",
       "    <tr>\n",
       "      <th>0</th>\n",
       "      <td>E n n a e n n a e n n a</td>\n",
       "      <td>T f o r c n a b t f o r c n a b t f o r c n a b</td>\n",
       "    </tr>\n",
       "    <tr>\n",
       "      <th>1</th>\n",
       "      <td>B o b b o b b o b</td>\n",
       "      <td>N a l y d n a l y d n a l y d</td>\n",
       "    </tr>\n",
       "    <tr>\n",
       "      <th>2</th>\n",
       "      <td>E i l r a h c e i l r a h c e i l r a h c</td>\n",
       "      <td>N i l p a h c n i l p a h c n i l p a h c</td>\n",
       "    </tr>\n",
       "    <tr>\n",
       "      <th>3</th>\n",
       "      <td>B o b b o b b o b</td>\n",
       "      <td>Y e l r a m y e l r a m y e l r a m</td>\n",
       "    </tr>\n",
       "  </tbody>\n",
       "</table>\n",
       "</div>"
      ],
      "text/plain": [
       "                                  first_name  \\\n",
       "0                    E n n a e n n a e n n a   \n",
       "1                          B o b b o b b o b   \n",
       "2  E i l r a h c e i l r a h c e i l r a h c   \n",
       "3                          B o b b o b b o b   \n",
       "\n",
       "                                         last_name  \n",
       "0  T f o r c n a b t f o r c n a b t f o r c n a b  \n",
       "1                    N a l y d n a l y d n a l y d  \n",
       "2        N i l p a h c n i l p a h c n i l p a h c  \n",
       "3              Y e l r a m y e l r a m y e l r a m  "
      ]
     },
     "metadata": {},
     "output_type": "display_data"
    },
    {
     "data": {
      "text/html": [
       "<h3>prepend</h3>"
      ],
      "text/plain": [
       "<IPython.core.display.HTML object>"
      ]
     },
     "metadata": {},
     "output_type": "display_data"
    },
    {
     "data": {
      "text/html": [
       "<div>\n",
       "<style scoped>\n",
       "    .dataframe tbody tr th:only-of-type {\n",
       "        vertical-align: middle;\n",
       "    }\n",
       "\n",
       "    .dataframe tbody tr th {\n",
       "        vertical-align: top;\n",
       "    }\n",
       "\n",
       "    .dataframe thead th {\n",
       "        text-align: right;\n",
       "    }\n",
       "</style>\n",
       "<table border=\"1\" class=\"dataframe\">\n",
       "  <thead>\n",
       "    <tr style=\"text-align: right;\">\n",
       "      <th></th>\n",
       "      <th>first_name</th>\n",
       "      <th>last_name</th>\n",
       "    </tr>\n",
       "  </thead>\n",
       "  <tbody>\n",
       "    <tr>\n",
       "      <th>0</th>\n",
       "      <td>PREPEND_E n n a e n n a e n n a</td>\n",
       "      <td>PREPEND_T f o r c n a b t f o r c n a b t f o ...</td>\n",
       "    </tr>\n",
       "    <tr>\n",
       "      <th>1</th>\n",
       "      <td>PREPEND_B o b b o b b o b</td>\n",
       "      <td>PREPEND_N a l y d n a l y d n a l y d</td>\n",
       "    </tr>\n",
       "    <tr>\n",
       "      <th>2</th>\n",
       "      <td>PREPEND_E i l r a h c e i l r a h c e i l r a h c</td>\n",
       "      <td>PREPEND_N i l p a h c n i l p a h c n i l p a h c</td>\n",
       "    </tr>\n",
       "    <tr>\n",
       "      <th>3</th>\n",
       "      <td>PREPEND_B o b b o b b o b</td>\n",
       "      <td>PREPEND_Y e l r a m y e l r a m y e l r a m</td>\n",
       "    </tr>\n",
       "  </tbody>\n",
       "</table>\n",
       "</div>"
      ],
      "text/plain": [
       "                                          first_name  \\\n",
       "0                    PREPEND_E n n a e n n a e n n a   \n",
       "1                          PREPEND_B o b b o b b o b   \n",
       "2  PREPEND_E i l r a h c e i l r a h c e i l r a h c   \n",
       "3                          PREPEND_B o b b o b b o b   \n",
       "\n",
       "                                           last_name  \n",
       "0  PREPEND_T f o r c n a b t f o r c n a b t f o ...  \n",
       "1              PREPEND_N a l y d n a l y d n a l y d  \n",
       "2  PREPEND_N i l p a h c n i l p a h c n i l p a h c  \n",
       "3        PREPEND_Y e l r a m y e l r a m y e l r a m  "
      ]
     },
     "metadata": {},
     "output_type": "display_data"
    }
   ],
   "source": [
    "with intermediate_transforms(pipe_tx):\n",
    "    Xt = pipe_tx.transform(df[['first_name', 'last_name']])\n",
    "    intermediate_results = pipe_tx.intermediate_results__\n",
    "\n",
    "for k, v in intermediate_results.items():\n",
    "    display(HTML(f'<h3>{k}</h3>'), v)"
   ]
  },
  {
   "cell_type": "markdown",
   "id": "1c2ebc46",
   "metadata": {},
   "source": [
    "Obviously, these are crazy transforms and meant to simply illustrate that the output of one transformer in the pipeline is the input to the next."
   ]
  },
  {
   "cell_type": "markdown",
   "id": "173c3d6f",
   "metadata": {},
   "source": [
    "## Splitting and Branching\n",
    "\n",
    "Let's look now at the following model that does more splitting and branching. It preprocesses data using the reverse transformer, sends that reversed data to a lower, upper, and factor transformer via a FeatureUnionDataFrame, and then sends all of that output to a spacer transformer."
   ]
  },
  {
   "cell_type": "code",
   "execution_count": 37,
   "id": "12d2e0ad",
   "metadata": {},
   "outputs": [
    {
     "data": {
      "text/html": [
       "<style>#sk-d8de92d5-3642-4b65-a7c4-f5d5ca169cf5 {color: black;background-color: white;}#sk-d8de92d5-3642-4b65-a7c4-f5d5ca169cf5 pre{padding: 0;}#sk-d8de92d5-3642-4b65-a7c4-f5d5ca169cf5 div.sk-toggleable {background-color: white;}#sk-d8de92d5-3642-4b65-a7c4-f5d5ca169cf5 label.sk-toggleable__label {cursor: pointer;display: block;width: 100%;margin-bottom: 0;padding: 0.3em;box-sizing: border-box;text-align: center;}#sk-d8de92d5-3642-4b65-a7c4-f5d5ca169cf5 label.sk-toggleable__label-arrow:before {content: \"▸\";float: left;margin-right: 0.25em;color: #696969;}#sk-d8de92d5-3642-4b65-a7c4-f5d5ca169cf5 label.sk-toggleable__label-arrow:hover:before {color: black;}#sk-d8de92d5-3642-4b65-a7c4-f5d5ca169cf5 div.sk-estimator:hover label.sk-toggleable__label-arrow:before {color: black;}#sk-d8de92d5-3642-4b65-a7c4-f5d5ca169cf5 div.sk-toggleable__content {max-height: 0;max-width: 0;overflow: hidden;text-align: left;background-color: #f0f8ff;}#sk-d8de92d5-3642-4b65-a7c4-f5d5ca169cf5 div.sk-toggleable__content pre {margin: 0.2em;color: black;border-radius: 0.25em;background-color: #f0f8ff;}#sk-d8de92d5-3642-4b65-a7c4-f5d5ca169cf5 input.sk-toggleable__control:checked~div.sk-toggleable__content {max-height: 200px;max-width: 100%;overflow: auto;}#sk-d8de92d5-3642-4b65-a7c4-f5d5ca169cf5 input.sk-toggleable__control:checked~label.sk-toggleable__label-arrow:before {content: \"▾\";}#sk-d8de92d5-3642-4b65-a7c4-f5d5ca169cf5 div.sk-estimator input.sk-toggleable__control:checked~label.sk-toggleable__label {background-color: #d4ebff;}#sk-d8de92d5-3642-4b65-a7c4-f5d5ca169cf5 div.sk-label input.sk-toggleable__control:checked~label.sk-toggleable__label {background-color: #d4ebff;}#sk-d8de92d5-3642-4b65-a7c4-f5d5ca169cf5 input.sk-hidden--visually {border: 0;clip: rect(1px 1px 1px 1px);clip: rect(1px, 1px, 1px, 1px);height: 1px;margin: -1px;overflow: hidden;padding: 0;position: absolute;width: 1px;}#sk-d8de92d5-3642-4b65-a7c4-f5d5ca169cf5 div.sk-estimator {font-family: monospace;background-color: #f0f8ff;border: 1px dotted black;border-radius: 0.25em;box-sizing: border-box;margin-bottom: 0.5em;}#sk-d8de92d5-3642-4b65-a7c4-f5d5ca169cf5 div.sk-estimator:hover {background-color: #d4ebff;}#sk-d8de92d5-3642-4b65-a7c4-f5d5ca169cf5 div.sk-parallel-item::after {content: \"\";width: 100%;border-bottom: 1px solid gray;flex-grow: 1;}#sk-d8de92d5-3642-4b65-a7c4-f5d5ca169cf5 div.sk-label:hover label.sk-toggleable__label {background-color: #d4ebff;}#sk-d8de92d5-3642-4b65-a7c4-f5d5ca169cf5 div.sk-serial::before {content: \"\";position: absolute;border-left: 1px solid gray;box-sizing: border-box;top: 2em;bottom: 0;left: 50%;}#sk-d8de92d5-3642-4b65-a7c4-f5d5ca169cf5 div.sk-serial {display: flex;flex-direction: column;align-items: center;background-color: white;padding-right: 0.2em;padding-left: 0.2em;}#sk-d8de92d5-3642-4b65-a7c4-f5d5ca169cf5 div.sk-item {z-index: 1;}#sk-d8de92d5-3642-4b65-a7c4-f5d5ca169cf5 div.sk-parallel {display: flex;align-items: stretch;justify-content: center;background-color: white;}#sk-d8de92d5-3642-4b65-a7c4-f5d5ca169cf5 div.sk-parallel::before {content: \"\";position: absolute;border-left: 1px solid gray;box-sizing: border-box;top: 2em;bottom: 0;left: 50%;}#sk-d8de92d5-3642-4b65-a7c4-f5d5ca169cf5 div.sk-parallel-item {display: flex;flex-direction: column;position: relative;background-color: white;}#sk-d8de92d5-3642-4b65-a7c4-f5d5ca169cf5 div.sk-parallel-item:first-child::after {align-self: flex-end;width: 50%;}#sk-d8de92d5-3642-4b65-a7c4-f5d5ca169cf5 div.sk-parallel-item:last-child::after {align-self: flex-start;width: 50%;}#sk-d8de92d5-3642-4b65-a7c4-f5d5ca169cf5 div.sk-parallel-item:only-child::after {width: 0;}#sk-d8de92d5-3642-4b65-a7c4-f5d5ca169cf5 div.sk-dashed-wrapped {border: 1px dashed gray;margin: 0 0.4em 0.5em 0.4em;box-sizing: border-box;padding-bottom: 0.4em;background-color: white;position: relative;}#sk-d8de92d5-3642-4b65-a7c4-f5d5ca169cf5 div.sk-label label {font-family: monospace;font-weight: bold;background-color: white;display: inline-block;line-height: 1.2em;}#sk-d8de92d5-3642-4b65-a7c4-f5d5ca169cf5 div.sk-label-container {position: relative;z-index: 2;text-align: center;}#sk-d8de92d5-3642-4b65-a7c4-f5d5ca169cf5 div.sk-container {/* jupyter's `normalize.less` sets `[hidden] { display: none; }` but bootstrap.min.css set `[hidden] { display: none !important; }` so we also need the `!important` here to be able to override the default hidden behavior on the sphinx rendered scikit-learn.org. See: https://github.com/scikit-learn/scikit-learn/issues/21755 */display: inline-block !important;position: relative;}#sk-d8de92d5-3642-4b65-a7c4-f5d5ca169cf5 div.sk-text-repr-fallback {display: none;}</style><div id=\"sk-d8de92d5-3642-4b65-a7c4-f5d5ca169cf5\" class=\"sk-top-container\"><div class=\"sk-text-repr-fallback\"><pre>Pipeline(steps=[(&#x27;reverse&#x27;,\n",
       "                 ApplyTransformer(apply_func=&lt;function applymap at 0x7f88fab56700&gt;, func=&lt;function reverse_text at 0x7f88fa9a29d0&gt;)),\n",
       "                (&#x27;branched&#x27;,\n",
       "                 FeatureUnionDataFrame(transformer_list=[(&#x27;lower&#x27;,\n",
       "                                                          ApplyTransformer(apply_func=&lt;function applymap at 0x7f88fab56700&gt;, func=&lt;method &#x27;lower&#x27; of &#x27;str&#x27; objects&gt;)),\n",
       "                                                         (&#x27;upper&#x27;,\n",
       "                                                          ApplyTransformer(apply_func=&lt;function applymap at 0x7f88fab56700&gt;, func=&lt;method &#x27;upper&#x27; of &#x27;str&#x27; objects&gt;)),\n",
       "                                                         (&#x27;factor&#x27;,\n",
       "                                                          ApplyTransformer(apply_func=&lt;function applymap at 0x7f88fab56700&gt;, func=&lt;function repeat_factor at 0x7f88fa9a2e50&gt;))])),\n",
       "                (&#x27;space&#x27;,\n",
       "                 ApplyTransformer(apply_func=&lt;function applymap at 0x7f88fab56700&gt;, func=&lt;function space_text at 0x7f88faac6790&gt;)),\n",
       "                (&#x27;last&#x27;, &#x27;passthrough&#x27;)])</pre><b>Please rerun this cell to show the HTML repr or trust the notebook.</b></div><div class=\"sk-container\" hidden><div class=\"sk-item sk-dashed-wrapped\"><div class=\"sk-label-container\"><div class=\"sk-label sk-toggleable\"><input class=\"sk-toggleable__control sk-hidden--visually\" id=\"6ea45d31-15e0-4505-9c0a-1b8bd4c411db\" type=\"checkbox\" ><label for=\"6ea45d31-15e0-4505-9c0a-1b8bd4c411db\" class=\"sk-toggleable__label sk-toggleable__label-arrow\">Pipeline</label><div class=\"sk-toggleable__content\"><pre>Pipeline(steps=[(&#x27;reverse&#x27;,\n",
       "                 ApplyTransformer(apply_func=&lt;function applymap at 0x7f88fab56700&gt;, func=&lt;function reverse_text at 0x7f88fa9a29d0&gt;)),\n",
       "                (&#x27;branched&#x27;,\n",
       "                 FeatureUnionDataFrame(transformer_list=[(&#x27;lower&#x27;,\n",
       "                                                          ApplyTransformer(apply_func=&lt;function applymap at 0x7f88fab56700&gt;, func=&lt;method &#x27;lower&#x27; of &#x27;str&#x27; objects&gt;)),\n",
       "                                                         (&#x27;upper&#x27;,\n",
       "                                                          ApplyTransformer(apply_func=&lt;function applymap at 0x7f88fab56700&gt;, func=&lt;method &#x27;upper&#x27; of &#x27;str&#x27; objects&gt;)),\n",
       "                                                         (&#x27;factor&#x27;,\n",
       "                                                          ApplyTransformer(apply_func=&lt;function applymap at 0x7f88fab56700&gt;, func=&lt;function repeat_factor at 0x7f88fa9a2e50&gt;))])),\n",
       "                (&#x27;space&#x27;,\n",
       "                 ApplyTransformer(apply_func=&lt;function applymap at 0x7f88fab56700&gt;, func=&lt;function space_text at 0x7f88faac6790&gt;)),\n",
       "                (&#x27;last&#x27;, &#x27;passthrough&#x27;)])</pre></div></div></div><div class=\"sk-serial\"><div class=\"sk-item\"><div class=\"sk-estimator sk-toggleable\"><input class=\"sk-toggleable__control sk-hidden--visually\" id=\"9cedd14a-554a-43c4-97e8-0d3bd4becd93\" type=\"checkbox\" ><label for=\"9cedd14a-554a-43c4-97e8-0d3bd4becd93\" class=\"sk-toggleable__label sk-toggleable__label-arrow\">ApplyTransformer</label><div class=\"sk-toggleable__content\"><pre>ApplyTransformer(apply_func=applymap, func=reverse_text)</pre></div></div></div><div class=\"sk-item sk-dashed-wrapped\"><div class=\"sk-label-container\"><div class=\"sk-label sk-toggleable\"><input class=\"sk-toggleable__control sk-hidden--visually\" id=\"ae26d7de-fbf3-406a-a9fb-1e5fa3fe435e\" type=\"checkbox\" ><label for=\"ae26d7de-fbf3-406a-a9fb-1e5fa3fe435e\" class=\"sk-toggleable__label sk-toggleable__label-arrow\">branched: FeatureUnionDataFrame</label><div class=\"sk-toggleable__content\"><pre>FeatureUnionDataFrame(transformer_list=[(&#x27;lower&#x27;,\n",
       "                                         ApplyTransformer(apply_func=&lt;function applymap at 0x7f88fab56700&gt;, func=&lt;method &#x27;lower&#x27; of &#x27;str&#x27; objects&gt;)),\n",
       "                                        (&#x27;upper&#x27;,\n",
       "                                         ApplyTransformer(apply_func=&lt;function applymap at 0x7f88fab56700&gt;, func=&lt;method &#x27;upper&#x27; of &#x27;str&#x27; objects&gt;)),\n",
       "                                        (&#x27;factor&#x27;,\n",
       "                                         ApplyTransformer(apply_func=&lt;function applymap at 0x7f88fab56700&gt;, func=&lt;function repeat_factor at 0x7f88fa9a2e50&gt;))])</pre></div></div></div><div class=\"sk-parallel\"><div class=\"sk-parallel-item\"><div class=\"sk-item\"><div class=\"sk-label-container\"><div class=\"sk-label sk-toggleable\"><label>lower</label></div></div><div class=\"sk-serial\"><div class=\"sk-item\"><div class=\"sk-estimator sk-toggleable\"><input class=\"sk-toggleable__control sk-hidden--visually\" id=\"10204dfc-efe7-4cd4-ade5-241d79265086\" type=\"checkbox\" ><label for=\"10204dfc-efe7-4cd4-ade5-241d79265086\" class=\"sk-toggleable__label sk-toggleable__label-arrow\">ApplyTransformer</label><div class=\"sk-toggleable__content\"><pre>ApplyTransformer(apply_func=applymap, func=lower)</pre></div></div></div></div></div></div><div class=\"sk-parallel-item\"><div class=\"sk-item\"><div class=\"sk-label-container\"><div class=\"sk-label sk-toggleable\"><label>upper</label></div></div><div class=\"sk-serial\"><div class=\"sk-item\"><div class=\"sk-estimator sk-toggleable\"><input class=\"sk-toggleable__control sk-hidden--visually\" id=\"725a2035-349b-48fc-a961-4b94ca68d812\" type=\"checkbox\" ><label for=\"725a2035-349b-48fc-a961-4b94ca68d812\" class=\"sk-toggleable__label sk-toggleable__label-arrow\">ApplyTransformer</label><div class=\"sk-toggleable__content\"><pre>ApplyTransformer(apply_func=applymap, func=upper)</pre></div></div></div></div></div></div><div class=\"sk-parallel-item\"><div class=\"sk-item\"><div class=\"sk-label-container\"><div class=\"sk-label sk-toggleable\"><label>factor</label></div></div><div class=\"sk-serial\"><div class=\"sk-item\"><div class=\"sk-estimator sk-toggleable\"><input class=\"sk-toggleable__control sk-hidden--visually\" id=\"1c533b13-78b0-42a8-9b6f-b4a82f330c7a\" type=\"checkbox\" ><label for=\"1c533b13-78b0-42a8-9b6f-b4a82f330c7a\" class=\"sk-toggleable__label sk-toggleable__label-arrow\">ApplyTransformer</label><div class=\"sk-toggleable__content\"><pre>ApplyTransformer(apply_func=applymap, func=repeat_factor)</pre></div></div></div></div></div></div></div></div><div class=\"sk-item\"><div class=\"sk-estimator sk-toggleable\"><input class=\"sk-toggleable__control sk-hidden--visually\" id=\"32fa4898-6015-426d-8df2-022ab48424eb\" type=\"checkbox\" ><label for=\"32fa4898-6015-426d-8df2-022ab48424eb\" class=\"sk-toggleable__label sk-toggleable__label-arrow\">ApplyTransformer</label><div class=\"sk-toggleable__content\"><pre>ApplyTransformer(apply_func=applymap, func=space_text)</pre></div></div></div><div class=\"sk-item\"><div class=\"sk-estimator sk-toggleable\"><input class=\"sk-toggleable__control sk-hidden--visually\" id=\"5b5553a2-d859-450c-ad80-7796ba58eaa0\" type=\"checkbox\" ><label for=\"5b5553a2-d859-450c-ad80-7796ba58eaa0\" class=\"sk-toggleable__label sk-toggleable__label-arrow\">passthrough</label><div class=\"sk-toggleable__content\"><pre>passthrough</pre></div></div></div></div></div></div></div>"
      ],
      "text/plain": [
       "Pipeline(steps=[('reverse',\n",
       "                 ApplyTransformer(apply_func=<function applymap at 0x7f88fab56700>, func=<function reverse_text at 0x7f88fa9a29d0>)),\n",
       "                ('branched',\n",
       "                 FeatureUnionDataFrame(transformer_list=[('lower',\n",
       "                                                          ApplyTransformer(apply_func=<function applymap at 0x7f88fab56700>, func=<method 'lower' of 'str' objects>)),\n",
       "                                                         ('upper',\n",
       "                                                          ApplyTransformer(apply_func=<function applymap at 0x7f88fab56700>, func=<method 'upper' of 'str' objects>)),\n",
       "                                                         ('factor',\n",
       "                                                          ApplyTransformer(apply_func=<function applymap at 0x7f88fab56700>, func=<function repeat_factor at 0x7f88fa9a2e50>))])),\n",
       "                ('space',\n",
       "                 ApplyTransformer(apply_func=<function applymap at 0x7f88fab56700>, func=<function space_text at 0x7f88faac6790>)),\n",
       "                ('last', 'passthrough')])"
      ]
     },
     "execution_count": 37,
     "metadata": {},
     "output_type": "execute_result"
    }
   ],
   "source": [
    "fu_tx = FeatureUnionDataFrame(\n",
    "    [\n",
    "        ('lower', lowercase_tx), \n",
    "        ('upper', uppercase_tx), \n",
    "        ('factor', factor_tx)\n",
    "    ]\n",
    ")\n",
    "\n",
    "pipe_tx = Pipeline(\n",
    "    [\n",
    "        ('reverse', reverse_tx), \n",
    "        ('branched', fu_tx),\n",
    "        ('space', spacer_tx),\n",
    "        ('last', 'passthrough')\n",
    "    ]\n",
    ")\n",
    "\n",
    "pipe_tx"
   ]
  },
  {
   "cell_type": "markdown",
   "id": "84df98a6",
   "metadata": {},
   "source": [
    "And looking at the intermediate steps..."
   ]
  },
  {
   "cell_type": "code",
   "execution_count": 38,
   "id": "37587920",
   "metadata": {},
   "outputs": [
    {
     "data": {
      "text/html": [
       "<h3>reverse</h3>"
      ],
      "text/plain": [
       "<IPython.core.display.HTML object>"
      ]
     },
     "metadata": {},
     "output_type": "display_data"
    },
    {
     "data": {
      "text/html": [
       "<div>\n",
       "<style scoped>\n",
       "    .dataframe tbody tr th:only-of-type {\n",
       "        vertical-align: middle;\n",
       "    }\n",
       "\n",
       "    .dataframe tbody tr th {\n",
       "        vertical-align: top;\n",
       "    }\n",
       "\n",
       "    .dataframe thead th {\n",
       "        text-align: right;\n",
       "    }\n",
       "</style>\n",
       "<table border=\"1\" class=\"dataframe\">\n",
       "  <thead>\n",
       "    <tr style=\"text-align: right;\">\n",
       "      <th></th>\n",
       "      <th>first_name</th>\n",
       "      <th>last_name</th>\n",
       "    </tr>\n",
       "  </thead>\n",
       "  <tbody>\n",
       "    <tr>\n",
       "      <th>0</th>\n",
       "      <td>ennA</td>\n",
       "      <td>tforcnaB</td>\n",
       "    </tr>\n",
       "    <tr>\n",
       "      <th>1</th>\n",
       "      <td>boB</td>\n",
       "      <td>nalyD</td>\n",
       "    </tr>\n",
       "    <tr>\n",
       "      <th>2</th>\n",
       "      <td>eilrahC</td>\n",
       "      <td>nilpahC</td>\n",
       "    </tr>\n",
       "    <tr>\n",
       "      <th>3</th>\n",
       "      <td>boB</td>\n",
       "      <td>yelraM</td>\n",
       "    </tr>\n",
       "  </tbody>\n",
       "</table>\n",
       "</div>"
      ],
      "text/plain": [
       "  first_name last_name\n",
       "0       ennA  tforcnaB\n",
       "1        boB     nalyD\n",
       "2    eilrahC   nilpahC\n",
       "3        boB    yelraM"
      ]
     },
     "metadata": {},
     "output_type": "display_data"
    },
    {
     "data": {
      "text/html": [
       "<h3>branched</h3>"
      ],
      "text/plain": [
       "<IPython.core.display.HTML object>"
      ]
     },
     "metadata": {},
     "output_type": "display_data"
    },
    {
     "data": {
      "text/html": [
       "<div>\n",
       "<style scoped>\n",
       "    .dataframe tbody tr th:only-of-type {\n",
       "        vertical-align: middle;\n",
       "    }\n",
       "\n",
       "    .dataframe tbody tr th {\n",
       "        vertical-align: top;\n",
       "    }\n",
       "\n",
       "    .dataframe thead th {\n",
       "        text-align: right;\n",
       "    }\n",
       "</style>\n",
       "<table border=\"1\" class=\"dataframe\">\n",
       "  <thead>\n",
       "    <tr style=\"text-align: right;\">\n",
       "      <th></th>\n",
       "      <th>lower__first_name</th>\n",
       "      <th>lower__last_name</th>\n",
       "      <th>upper__first_name</th>\n",
       "      <th>upper__last_name</th>\n",
       "      <th>factor__first_name</th>\n",
       "      <th>factor__last_name</th>\n",
       "    </tr>\n",
       "  </thead>\n",
       "  <tbody>\n",
       "    <tr>\n",
       "      <th>0</th>\n",
       "      <td>enna</td>\n",
       "      <td>tforcnab</td>\n",
       "      <td>ENNA</td>\n",
       "      <td>TFORCNAB</td>\n",
       "      <td>ennAennAennA</td>\n",
       "      <td>tforcnaBtforcnaBtforcnaB</td>\n",
       "    </tr>\n",
       "    <tr>\n",
       "      <th>1</th>\n",
       "      <td>bob</td>\n",
       "      <td>nalyd</td>\n",
       "      <td>BOB</td>\n",
       "      <td>NALYD</td>\n",
       "      <td>boBboBboB</td>\n",
       "      <td>nalyDnalyDnalyD</td>\n",
       "    </tr>\n",
       "    <tr>\n",
       "      <th>2</th>\n",
       "      <td>eilrahc</td>\n",
       "      <td>nilpahc</td>\n",
       "      <td>EILRAHC</td>\n",
       "      <td>NILPAHC</td>\n",
       "      <td>eilrahCeilrahCeilrahC</td>\n",
       "      <td>nilpahCnilpahCnilpahC</td>\n",
       "    </tr>\n",
       "    <tr>\n",
       "      <th>3</th>\n",
       "      <td>bob</td>\n",
       "      <td>yelram</td>\n",
       "      <td>BOB</td>\n",
       "      <td>YELRAM</td>\n",
       "      <td>boBboBboB</td>\n",
       "      <td>yelraMyelraMyelraM</td>\n",
       "    </tr>\n",
       "  </tbody>\n",
       "</table>\n",
       "</div>"
      ],
      "text/plain": [
       "  lower__first_name lower__last_name upper__first_name upper__last_name  \\\n",
       "0              enna         tforcnab              ENNA         TFORCNAB   \n",
       "1               bob            nalyd               BOB            NALYD   \n",
       "2           eilrahc          nilpahc           EILRAHC          NILPAHC   \n",
       "3               bob           yelram               BOB           YELRAM   \n",
       "\n",
       "      factor__first_name         factor__last_name  \n",
       "0           ennAennAennA  tforcnaBtforcnaBtforcnaB  \n",
       "1              boBboBboB           nalyDnalyDnalyD  \n",
       "2  eilrahCeilrahCeilrahC     nilpahCnilpahCnilpahC  \n",
       "3              boBboBboB        yelraMyelraMyelraM  "
      ]
     },
     "metadata": {},
     "output_type": "display_data"
    },
    {
     "data": {
      "text/html": [
       "<h3>space</h3>"
      ],
      "text/plain": [
       "<IPython.core.display.HTML object>"
      ]
     },
     "metadata": {},
     "output_type": "display_data"
    },
    {
     "data": {
      "text/html": [
       "<div>\n",
       "<style scoped>\n",
       "    .dataframe tbody tr th:only-of-type {\n",
       "        vertical-align: middle;\n",
       "    }\n",
       "\n",
       "    .dataframe tbody tr th {\n",
       "        vertical-align: top;\n",
       "    }\n",
       "\n",
       "    .dataframe thead th {\n",
       "        text-align: right;\n",
       "    }\n",
       "</style>\n",
       "<table border=\"1\" class=\"dataframe\">\n",
       "  <thead>\n",
       "    <tr style=\"text-align: right;\">\n",
       "      <th></th>\n",
       "      <th>lower__first_name</th>\n",
       "      <th>lower__last_name</th>\n",
       "      <th>upper__first_name</th>\n",
       "      <th>upper__last_name</th>\n",
       "      <th>factor__first_name</th>\n",
       "      <th>factor__last_name</th>\n",
       "    </tr>\n",
       "  </thead>\n",
       "  <tbody>\n",
       "    <tr>\n",
       "      <th>0</th>\n",
       "      <td>e n n a</td>\n",
       "      <td>t f o r c n a b</td>\n",
       "      <td>E N N A</td>\n",
       "      <td>T F O R C N A B</td>\n",
       "      <td>e n n A e n n A e n n A</td>\n",
       "      <td>t f o r c n a B t f o r c n a B t f o r c n a B</td>\n",
       "    </tr>\n",
       "    <tr>\n",
       "      <th>1</th>\n",
       "      <td>b o b</td>\n",
       "      <td>n a l y d</td>\n",
       "      <td>B O B</td>\n",
       "      <td>N A L Y D</td>\n",
       "      <td>b o B b o B b o B</td>\n",
       "      <td>n a l y D n a l y D n a l y D</td>\n",
       "    </tr>\n",
       "    <tr>\n",
       "      <th>2</th>\n",
       "      <td>e i l r a h c</td>\n",
       "      <td>n i l p a h c</td>\n",
       "      <td>E I L R A H C</td>\n",
       "      <td>N I L P A H C</td>\n",
       "      <td>e i l r a h C e i l r a h C e i l r a h C</td>\n",
       "      <td>n i l p a h C n i l p a h C n i l p a h C</td>\n",
       "    </tr>\n",
       "    <tr>\n",
       "      <th>3</th>\n",
       "      <td>b o b</td>\n",
       "      <td>y e l r a m</td>\n",
       "      <td>B O B</td>\n",
       "      <td>Y E L R A M</td>\n",
       "      <td>b o B b o B b o B</td>\n",
       "      <td>y e l r a M y e l r a M y e l r a M</td>\n",
       "    </tr>\n",
       "  </tbody>\n",
       "</table>\n",
       "</div>"
      ],
      "text/plain": [
       "  lower__first_name lower__last_name upper__first_name upper__last_name  \\\n",
       "0           e n n a  t f o r c n a b           E N N A  T F O R C N A B   \n",
       "1             b o b        n a l y d             B O B        N A L Y D   \n",
       "2     e i l r a h c    n i l p a h c     E I L R A H C    N I L P A H C   \n",
       "3             b o b      y e l r a m             B O B      Y E L R A M   \n",
       "\n",
       "                          factor__first_name  \\\n",
       "0                    e n n A e n n A e n n A   \n",
       "1                          b o B b o B b o B   \n",
       "2  e i l r a h C e i l r a h C e i l r a h C   \n",
       "3                          b o B b o B b o B   \n",
       "\n",
       "                                 factor__last_name  \n",
       "0  t f o r c n a B t f o r c n a B t f o r c n a B  \n",
       "1                    n a l y D n a l y D n a l y D  \n",
       "2        n i l p a h C n i l p a h C n i l p a h C  \n",
       "3              y e l r a M y e l r a M y e l r a M  "
      ]
     },
     "metadata": {},
     "output_type": "display_data"
    }
   ],
   "source": [
    "with intermediate_transforms(pipe_tx):\n",
    "    Xt = pipe_tx.transform(df[['first_name', 'last_name']])\n",
    "    intermediate_results = pipe_tx.intermediate_results__\n",
    "\n",
    "for k, v in intermediate_results.items():\n",
    "    display(HTML(f'<h3>{k}</h3>'), v)"
   ]
  },
  {
   "cell_type": "markdown",
   "id": "8c046882",
   "metadata": {},
   "source": [
    "# Pipelines in FeatureUnions\n",
    "\n",
    "Now let's consider sub-pipelines in feature unions. In this case, our main pipeline preprocesses by reversing its input. This then goes to a FeatureUnion that has two pipelines. In one pipeline, we lowercase and then space the characters. In the other pipeline, we uppercase and factor it. Finally, both outputs are sent to a camelcase transformer.\n",
    "\n",
    "### FeatureNamesPipeline\n",
    "\n",
    "Pipelines in sklearn do not include `get_feature_names()` like many other transformers. The `ColumnTransformerDataFrame` and `FeatureUnionDataFrame` objects, however, need its transformers to supply this. The `FeatureNamesPipeline` object permits this functionality by taking the `get_feature_names()` of its last transformer.\n",
    "\n",
    "In the example below, we explore using feature names as well as having sub-pipelines."
   ]
  },
  {
   "cell_type": "code",
   "execution_count": 39,
   "id": "2e218f57",
   "metadata": {},
   "outputs": [
    {
     "data": {
      "text/html": [
       "<style>#sk-2af8ec64-8b84-4a9b-a5cc-81cec9b6258d {color: black;background-color: white;}#sk-2af8ec64-8b84-4a9b-a5cc-81cec9b6258d pre{padding: 0;}#sk-2af8ec64-8b84-4a9b-a5cc-81cec9b6258d div.sk-toggleable {background-color: white;}#sk-2af8ec64-8b84-4a9b-a5cc-81cec9b6258d label.sk-toggleable__label {cursor: pointer;display: block;width: 100%;margin-bottom: 0;padding: 0.3em;box-sizing: border-box;text-align: center;}#sk-2af8ec64-8b84-4a9b-a5cc-81cec9b6258d label.sk-toggleable__label-arrow:before {content: \"▸\";float: left;margin-right: 0.25em;color: #696969;}#sk-2af8ec64-8b84-4a9b-a5cc-81cec9b6258d label.sk-toggleable__label-arrow:hover:before {color: black;}#sk-2af8ec64-8b84-4a9b-a5cc-81cec9b6258d div.sk-estimator:hover label.sk-toggleable__label-arrow:before {color: black;}#sk-2af8ec64-8b84-4a9b-a5cc-81cec9b6258d div.sk-toggleable__content {max-height: 0;max-width: 0;overflow: hidden;text-align: left;background-color: #f0f8ff;}#sk-2af8ec64-8b84-4a9b-a5cc-81cec9b6258d div.sk-toggleable__content pre {margin: 0.2em;color: black;border-radius: 0.25em;background-color: #f0f8ff;}#sk-2af8ec64-8b84-4a9b-a5cc-81cec9b6258d input.sk-toggleable__control:checked~div.sk-toggleable__content {max-height: 200px;max-width: 100%;overflow: auto;}#sk-2af8ec64-8b84-4a9b-a5cc-81cec9b6258d input.sk-toggleable__control:checked~label.sk-toggleable__label-arrow:before {content: \"▾\";}#sk-2af8ec64-8b84-4a9b-a5cc-81cec9b6258d div.sk-estimator input.sk-toggleable__control:checked~label.sk-toggleable__label {background-color: #d4ebff;}#sk-2af8ec64-8b84-4a9b-a5cc-81cec9b6258d div.sk-label input.sk-toggleable__control:checked~label.sk-toggleable__label {background-color: #d4ebff;}#sk-2af8ec64-8b84-4a9b-a5cc-81cec9b6258d input.sk-hidden--visually {border: 0;clip: rect(1px 1px 1px 1px);clip: rect(1px, 1px, 1px, 1px);height: 1px;margin: -1px;overflow: hidden;padding: 0;position: absolute;width: 1px;}#sk-2af8ec64-8b84-4a9b-a5cc-81cec9b6258d div.sk-estimator {font-family: monospace;background-color: #f0f8ff;border: 1px dotted black;border-radius: 0.25em;box-sizing: border-box;margin-bottom: 0.5em;}#sk-2af8ec64-8b84-4a9b-a5cc-81cec9b6258d div.sk-estimator:hover {background-color: #d4ebff;}#sk-2af8ec64-8b84-4a9b-a5cc-81cec9b6258d div.sk-parallel-item::after {content: \"\";width: 100%;border-bottom: 1px solid gray;flex-grow: 1;}#sk-2af8ec64-8b84-4a9b-a5cc-81cec9b6258d div.sk-label:hover label.sk-toggleable__label {background-color: #d4ebff;}#sk-2af8ec64-8b84-4a9b-a5cc-81cec9b6258d div.sk-serial::before {content: \"\";position: absolute;border-left: 1px solid gray;box-sizing: border-box;top: 2em;bottom: 0;left: 50%;}#sk-2af8ec64-8b84-4a9b-a5cc-81cec9b6258d div.sk-serial {display: flex;flex-direction: column;align-items: center;background-color: white;padding-right: 0.2em;padding-left: 0.2em;}#sk-2af8ec64-8b84-4a9b-a5cc-81cec9b6258d div.sk-item {z-index: 1;}#sk-2af8ec64-8b84-4a9b-a5cc-81cec9b6258d div.sk-parallel {display: flex;align-items: stretch;justify-content: center;background-color: white;}#sk-2af8ec64-8b84-4a9b-a5cc-81cec9b6258d div.sk-parallel::before {content: \"\";position: absolute;border-left: 1px solid gray;box-sizing: border-box;top: 2em;bottom: 0;left: 50%;}#sk-2af8ec64-8b84-4a9b-a5cc-81cec9b6258d div.sk-parallel-item {display: flex;flex-direction: column;position: relative;background-color: white;}#sk-2af8ec64-8b84-4a9b-a5cc-81cec9b6258d div.sk-parallel-item:first-child::after {align-self: flex-end;width: 50%;}#sk-2af8ec64-8b84-4a9b-a5cc-81cec9b6258d div.sk-parallel-item:last-child::after {align-self: flex-start;width: 50%;}#sk-2af8ec64-8b84-4a9b-a5cc-81cec9b6258d div.sk-parallel-item:only-child::after {width: 0;}#sk-2af8ec64-8b84-4a9b-a5cc-81cec9b6258d div.sk-dashed-wrapped {border: 1px dashed gray;margin: 0 0.4em 0.5em 0.4em;box-sizing: border-box;padding-bottom: 0.4em;background-color: white;position: relative;}#sk-2af8ec64-8b84-4a9b-a5cc-81cec9b6258d div.sk-label label {font-family: monospace;font-weight: bold;background-color: white;display: inline-block;line-height: 1.2em;}#sk-2af8ec64-8b84-4a9b-a5cc-81cec9b6258d div.sk-label-container {position: relative;z-index: 2;text-align: center;}#sk-2af8ec64-8b84-4a9b-a5cc-81cec9b6258d div.sk-container {/* jupyter's `normalize.less` sets `[hidden] { display: none; }` but bootstrap.min.css set `[hidden] { display: none !important; }` so we also need the `!important` here to be able to override the default hidden behavior on the sphinx rendered scikit-learn.org. See: https://github.com/scikit-learn/scikit-learn/issues/21755 */display: inline-block !important;position: relative;}#sk-2af8ec64-8b84-4a9b-a5cc-81cec9b6258d div.sk-text-repr-fallback {display: none;}</style><div id=\"sk-2af8ec64-8b84-4a9b-a5cc-81cec9b6258d\" class=\"sk-top-container\"><div class=\"sk-text-repr-fallback\"><pre>Pipeline(steps=[(&#x27;reverse&#x27;,\n",
       "                 ApplyTransformer(apply_func=&lt;function applymap at 0x7f88fab56700&gt;, func=&lt;function reverse_text at 0x7f88fa9a29d0&gt;)),\n",
       "                (&#x27;branched&#x27;,\n",
       "                 FeatureUnionDataFrame(transformer_list=[(&#x27;pipe_lowerspace&#x27;,\n",
       "                                                          FeatureNamesPipeline(steps=[(&#x27;lower&#x27;,\n",
       "                                                                                       ApplyTransformer(apply_func=&lt;function applymap at 0x7f88fab56700&gt;, func=&lt;method &#x27;lower&#x27; of &#x27;str&#x27; objects&gt;)),\n",
       "                                                                                      (&#x27;spac...\n",
       "                                                                                       ApplyTransformer(apply_func=&lt;function applymap at 0x7f88fab56700&gt;, func=&lt;method &#x27;upper&#x27; of &#x27;str&#x27; objects&gt;)),\n",
       "                                                                                      (&#x27;factor&#x27;,\n",
       "                                                                                       ApplyTransformer(apply_func=&lt;function applymap at 0x7f88fab56700&gt;, func=&lt;function repeat_factor at 0x7f88fa9a2e50&gt;)),\n",
       "                                                                                      (&#x27;last&#x27;,\n",
       "                                                                                       &#x27;passthrough&#x27;)]))])),\n",
       "                (&#x27;prepend&#x27;,\n",
       "                 ApplyTransformer(apply_func=&lt;function applymap at 0x7f88fab56700&gt;, func=&lt;function prepend_text at 0x7f88faac6ca0&gt;)),\n",
       "                (&#x27;last&#x27;, &#x27;passthrough&#x27;)])</pre><b>Please rerun this cell to show the HTML repr or trust the notebook.</b></div><div class=\"sk-container\" hidden><div class=\"sk-item sk-dashed-wrapped\"><div class=\"sk-label-container\"><div class=\"sk-label sk-toggleable\"><input class=\"sk-toggleable__control sk-hidden--visually\" id=\"05cc9244-3743-4f4c-8924-c392f845e378\" type=\"checkbox\" ><label for=\"05cc9244-3743-4f4c-8924-c392f845e378\" class=\"sk-toggleable__label sk-toggleable__label-arrow\">Pipeline</label><div class=\"sk-toggleable__content\"><pre>Pipeline(steps=[(&#x27;reverse&#x27;,\n",
       "                 ApplyTransformer(apply_func=&lt;function applymap at 0x7f88fab56700&gt;, func=&lt;function reverse_text at 0x7f88fa9a29d0&gt;)),\n",
       "                (&#x27;branched&#x27;,\n",
       "                 FeatureUnionDataFrame(transformer_list=[(&#x27;pipe_lowerspace&#x27;,\n",
       "                                                          FeatureNamesPipeline(steps=[(&#x27;lower&#x27;,\n",
       "                                                                                       ApplyTransformer(apply_func=&lt;function applymap at 0x7f88fab56700&gt;, func=&lt;method &#x27;lower&#x27; of &#x27;str&#x27; objects&gt;)),\n",
       "                                                                                      (&#x27;spac...\n",
       "                                                                                       ApplyTransformer(apply_func=&lt;function applymap at 0x7f88fab56700&gt;, func=&lt;method &#x27;upper&#x27; of &#x27;str&#x27; objects&gt;)),\n",
       "                                                                                      (&#x27;factor&#x27;,\n",
       "                                                                                       ApplyTransformer(apply_func=&lt;function applymap at 0x7f88fab56700&gt;, func=&lt;function repeat_factor at 0x7f88fa9a2e50&gt;)),\n",
       "                                                                                      (&#x27;last&#x27;,\n",
       "                                                                                       &#x27;passthrough&#x27;)]))])),\n",
       "                (&#x27;prepend&#x27;,\n",
       "                 ApplyTransformer(apply_func=&lt;function applymap at 0x7f88fab56700&gt;, func=&lt;function prepend_text at 0x7f88faac6ca0&gt;)),\n",
       "                (&#x27;last&#x27;, &#x27;passthrough&#x27;)])</pre></div></div></div><div class=\"sk-serial\"><div class=\"sk-item\"><div class=\"sk-estimator sk-toggleable\"><input class=\"sk-toggleable__control sk-hidden--visually\" id=\"2cdb4de9-62ee-4e02-aa2b-3984699910c1\" type=\"checkbox\" ><label for=\"2cdb4de9-62ee-4e02-aa2b-3984699910c1\" class=\"sk-toggleable__label sk-toggleable__label-arrow\">ApplyTransformer</label><div class=\"sk-toggleable__content\"><pre>ApplyTransformer(apply_func=applymap, func=reverse_text)</pre></div></div></div><div class=\"sk-item sk-dashed-wrapped\"><div class=\"sk-label-container\"><div class=\"sk-label sk-toggleable\"><input class=\"sk-toggleable__control sk-hidden--visually\" id=\"874a570c-5f32-4d6e-ae92-5dfaf5c8cab9\" type=\"checkbox\" ><label for=\"874a570c-5f32-4d6e-ae92-5dfaf5c8cab9\" class=\"sk-toggleable__label sk-toggleable__label-arrow\">branched: FeatureUnionDataFrame</label><div class=\"sk-toggleable__content\"><pre>FeatureUnionDataFrame(transformer_list=[(&#x27;pipe_lowerspace&#x27;,\n",
       "                                         FeatureNamesPipeline(steps=[(&#x27;lower&#x27;,\n",
       "                                                                      ApplyTransformer(apply_func=&lt;function applymap at 0x7f88fab56700&gt;, func=&lt;method &#x27;lower&#x27; of &#x27;str&#x27; objects&gt;)),\n",
       "                                                                     (&#x27;space&#x27;,\n",
       "                                                                      ApplyTransformer(apply_func=&lt;function applymap at 0x7f88fab56700&gt;, func=&lt;function space_text at 0x7f88faac6790&gt;)),\n",
       "                                                                     (&#x27;last&#x27;,\n",
       "                                                                      &#x27;passthrough&#x27;)])),\n",
       "                                        (&#x27;pipe_upperfactor&#x27;,\n",
       "                                         FeatureNamesPipeline(steps=[(&#x27;upper&#x27;,\n",
       "                                                                      ApplyTransformer(apply_func=&lt;function applymap at 0x7f88fab56700&gt;, func=&lt;method &#x27;upper&#x27; of &#x27;str&#x27; objects&gt;)),\n",
       "                                                                     (&#x27;factor&#x27;,\n",
       "                                                                      ApplyTransformer(apply_func=&lt;function applymap at 0x7f88fab56700&gt;, func=&lt;function repeat_factor at 0x7f88fa9a2e50&gt;)),\n",
       "                                                                     (&#x27;last&#x27;,\n",
       "                                                                      &#x27;passthrough&#x27;)]))])</pre></div></div></div><div class=\"sk-parallel\"><div class=\"sk-parallel-item\"><div class=\"sk-item\"><div class=\"sk-label-container\"><div class=\"sk-label sk-toggleable\"><label>pipe_lowerspace</label></div></div><div class=\"sk-serial\"><div class=\"sk-item\"><div class=\"sk-serial\"><div class=\"sk-item\"><div class=\"sk-estimator sk-toggleable\"><input class=\"sk-toggleable__control sk-hidden--visually\" id=\"dbeeee58-9ccf-4de9-b577-d03ada5ee0e3\" type=\"checkbox\" ><label for=\"dbeeee58-9ccf-4de9-b577-d03ada5ee0e3\" class=\"sk-toggleable__label sk-toggleable__label-arrow\">ApplyTransformer</label><div class=\"sk-toggleable__content\"><pre>ApplyTransformer(apply_func=applymap, func=lower)</pre></div></div></div><div class=\"sk-item\"><div class=\"sk-estimator sk-toggleable\"><input class=\"sk-toggleable__control sk-hidden--visually\" id=\"12fd3e17-5cf4-4ac8-964a-f5d94f017202\" type=\"checkbox\" ><label for=\"12fd3e17-5cf4-4ac8-964a-f5d94f017202\" class=\"sk-toggleable__label sk-toggleable__label-arrow\">ApplyTransformer</label><div class=\"sk-toggleable__content\"><pre>ApplyTransformer(apply_func=applymap, func=space_text)</pre></div></div></div><div class=\"sk-item\"><div class=\"sk-estimator sk-toggleable\"><input class=\"sk-toggleable__control sk-hidden--visually\" id=\"8e1cf67e-07d0-4cb1-a61e-2b929b1403d9\" type=\"checkbox\" ><label for=\"8e1cf67e-07d0-4cb1-a61e-2b929b1403d9\" class=\"sk-toggleable__label sk-toggleable__label-arrow\">passthrough</label><div class=\"sk-toggleable__content\"><pre>passthrough</pre></div></div></div></div></div></div></div></div><div class=\"sk-parallel-item\"><div class=\"sk-item\"><div class=\"sk-label-container\"><div class=\"sk-label sk-toggleable\"><label>pipe_upperfactor</label></div></div><div class=\"sk-serial\"><div class=\"sk-item\"><div class=\"sk-serial\"><div class=\"sk-item\"><div class=\"sk-estimator sk-toggleable\"><input class=\"sk-toggleable__control sk-hidden--visually\" id=\"d4aa111c-f61a-42fe-8bb7-e2d2eec72d94\" type=\"checkbox\" ><label for=\"d4aa111c-f61a-42fe-8bb7-e2d2eec72d94\" class=\"sk-toggleable__label sk-toggleable__label-arrow\">ApplyTransformer</label><div class=\"sk-toggleable__content\"><pre>ApplyTransformer(apply_func=applymap, func=upper)</pre></div></div></div><div class=\"sk-item\"><div class=\"sk-estimator sk-toggleable\"><input class=\"sk-toggleable__control sk-hidden--visually\" id=\"21c92f92-e2a3-4e97-a6ab-04e2886d6b23\" type=\"checkbox\" ><label for=\"21c92f92-e2a3-4e97-a6ab-04e2886d6b23\" class=\"sk-toggleable__label sk-toggleable__label-arrow\">ApplyTransformer</label><div class=\"sk-toggleable__content\"><pre>ApplyTransformer(apply_func=applymap, func=repeat_factor)</pre></div></div></div><div class=\"sk-item\"><div class=\"sk-estimator sk-toggleable\"><input class=\"sk-toggleable__control sk-hidden--visually\" id=\"3f588b61-3c35-4cfa-b18b-9016b2cdaad2\" type=\"checkbox\" ><label for=\"3f588b61-3c35-4cfa-b18b-9016b2cdaad2\" class=\"sk-toggleable__label sk-toggleable__label-arrow\">passthrough</label><div class=\"sk-toggleable__content\"><pre>passthrough</pre></div></div></div></div></div></div></div></div></div></div><div class=\"sk-item\"><div class=\"sk-estimator sk-toggleable\"><input class=\"sk-toggleable__control sk-hidden--visually\" id=\"70d1fcc5-e585-496e-8359-aa3cf255f6bb\" type=\"checkbox\" ><label for=\"70d1fcc5-e585-496e-8359-aa3cf255f6bb\" class=\"sk-toggleable__label sk-toggleable__label-arrow\">ApplyTransformer</label><div class=\"sk-toggleable__content\"><pre>ApplyTransformer(apply_func=applymap, func=prepend_text)</pre></div></div></div><div class=\"sk-item\"><div class=\"sk-estimator sk-toggleable\"><input class=\"sk-toggleable__control sk-hidden--visually\" id=\"83565054-4204-453c-9fcd-4ada46e80bfd\" type=\"checkbox\" ><label for=\"83565054-4204-453c-9fcd-4ada46e80bfd\" class=\"sk-toggleable__label sk-toggleable__label-arrow\">passthrough</label><div class=\"sk-toggleable__content\"><pre>passthrough</pre></div></div></div></div></div></div></div>"
      ],
      "text/plain": [
       "Pipeline(steps=[('reverse',\n",
       "                 ApplyTransformer(apply_func=<function applymap at 0x7f88fab56700>, func=<function reverse_text at 0x7f88fa9a29d0>)),\n",
       "                ('branched',\n",
       "                 FeatureUnionDataFrame(transformer_list=[('pipe_lowerspace',\n",
       "                                                          FeatureNamesPipeline(steps=[('lower',\n",
       "                                                                                       ApplyTransformer(apply_func=<function applymap at 0x7f88fab56700>, func=<method 'lower' of 'str' objects>)),\n",
       "                                                                                      ('spac...\n",
       "                                                                                       ApplyTransformer(apply_func=<function applymap at 0x7f88fab56700>, func=<method 'upper' of 'str' objects>)),\n",
       "                                                                                      ('factor',\n",
       "                                                                                       ApplyTransformer(apply_func=<function applymap at 0x7f88fab56700>, func=<function repeat_factor at 0x7f88fa9a2e50>)),\n",
       "                                                                                      ('last',\n",
       "                                                                                       'passthrough')]))])),\n",
       "                ('prepend',\n",
       "                 ApplyTransformer(apply_func=<function applymap at 0x7f88fab56700>, func=<function prepend_text at 0x7f88faac6ca0>)),\n",
       "                ('last', 'passthrough')])"
      ]
     },
     "execution_count": 39,
     "metadata": {},
     "output_type": "execute_result"
    }
   ],
   "source": [
    "prepend_tx = ApplyTransformer(applymap, prepend_text)\n",
    "reverse_tx = ApplyTransformer(applymap, reverse_text)\n",
    "uppercase_tx = ApplyTransformer(applymap, str.upper)\n",
    "\n",
    "pipe_lowerspace = FeatureNamesPipeline(\n",
    "    [\n",
    "        ('lower', lowercase_tx), \n",
    "        ('space', spacer_tx), \n",
    "        ('last', 'passthrough')\n",
    "    ]\n",
    ")\n",
    "\n",
    "pipe_upperfactor = FeatureNamesPipeline(\n",
    "    [\n",
    "        ('upper', uppercase_tx), \n",
    "        ('factor', factor_tx), \n",
    "        ('last', 'passthrough')\n",
    "    ]\n",
    ")\n",
    "\n",
    "fu_tx = FeatureUnionDataFrame(\n",
    "    [\n",
    "        ('pipe_lowerspace', pipe_lowerspace), \n",
    "        ('pipe_upperfactor', pipe_upperfactor)\n",
    "    ]\n",
    ")\n",
    "\n",
    "pipe_tx = Pipeline(\n",
    "    [\n",
    "        ('reverse', reverse_tx), \n",
    "        ('branched', fu_tx),\n",
    "        ('prepend', prepend_tx),\n",
    "        ('last', 'passthrough')\n",
    "    ]\n",
    ")\n",
    "\n",
    "pipe_tx"
   ]
  },
  {
   "cell_type": "code",
   "execution_count": 40,
   "id": "a37f4a34",
   "metadata": {},
   "outputs": [
    {
     "data": {
      "text/html": [
       "<div>\n",
       "<style scoped>\n",
       "    .dataframe tbody tr th:only-of-type {\n",
       "        vertical-align: middle;\n",
       "    }\n",
       "\n",
       "    .dataframe tbody tr th {\n",
       "        vertical-align: top;\n",
       "    }\n",
       "\n",
       "    .dataframe thead th {\n",
       "        text-align: right;\n",
       "    }\n",
       "</style>\n",
       "<table border=\"1\" class=\"dataframe\">\n",
       "  <thead>\n",
       "    <tr style=\"text-align: right;\">\n",
       "      <th></th>\n",
       "      <th>pipe_lowerspace__first_name</th>\n",
       "      <th>pipe_lowerspace__last_name</th>\n",
       "      <th>pipe_upperfactor__first_name</th>\n",
       "      <th>pipe_upperfactor__last_name</th>\n",
       "    </tr>\n",
       "  </thead>\n",
       "  <tbody>\n",
       "    <tr>\n",
       "      <th>0</th>\n",
       "      <td>PREPEND_e n n a</td>\n",
       "      <td>PREPEND_t f o r c n a b</td>\n",
       "      <td>PREPEND_ENNAENNAENNA</td>\n",
       "      <td>PREPEND_TFORCNABTFORCNABTFORCNAB</td>\n",
       "    </tr>\n",
       "    <tr>\n",
       "      <th>1</th>\n",
       "      <td>PREPEND_b o b</td>\n",
       "      <td>PREPEND_n a l y d</td>\n",
       "      <td>PREPEND_BOBBOBBOB</td>\n",
       "      <td>PREPEND_NALYDNALYDNALYD</td>\n",
       "    </tr>\n",
       "    <tr>\n",
       "      <th>2</th>\n",
       "      <td>PREPEND_e i l r a h c</td>\n",
       "      <td>PREPEND_n i l p a h c</td>\n",
       "      <td>PREPEND_EILRAHCEILRAHCEILRAHC</td>\n",
       "      <td>PREPEND_NILPAHCNILPAHCNILPAHC</td>\n",
       "    </tr>\n",
       "    <tr>\n",
       "      <th>3</th>\n",
       "      <td>PREPEND_b o b</td>\n",
       "      <td>PREPEND_y e l r a m</td>\n",
       "      <td>PREPEND_BOBBOBBOB</td>\n",
       "      <td>PREPEND_YELRAMYELRAMYELRAM</td>\n",
       "    </tr>\n",
       "  </tbody>\n",
       "</table>\n",
       "</div>"
      ],
      "text/plain": [
       "  pipe_lowerspace__first_name pipe_lowerspace__last_name  \\\n",
       "0             PREPEND_e n n a    PREPEND_t f o r c n a b   \n",
       "1               PREPEND_b o b          PREPEND_n a l y d   \n",
       "2       PREPEND_e i l r a h c      PREPEND_n i l p a h c   \n",
       "3               PREPEND_b o b        PREPEND_y e l r a m   \n",
       "\n",
       "    pipe_upperfactor__first_name       pipe_upperfactor__last_name  \n",
       "0           PREPEND_ENNAENNAENNA  PREPEND_TFORCNABTFORCNABTFORCNAB  \n",
       "1              PREPEND_BOBBOBBOB           PREPEND_NALYDNALYDNALYD  \n",
       "2  PREPEND_EILRAHCEILRAHCEILRAHC     PREPEND_NILPAHCNILPAHCNILPAHC  \n",
       "3              PREPEND_BOBBOBBOB        PREPEND_YELRAMYELRAMYELRAM  "
      ]
     },
     "execution_count": 40,
     "metadata": {},
     "output_type": "execute_result"
    }
   ],
   "source": [
    "pipe_tx.transform(df[['first_name', 'last_name']])"
   ]
  },
  {
   "cell_type": "markdown",
   "id": "a631d512",
   "metadata": {},
   "source": [
    "### Looking at the intermediate steps."
   ]
  },
  {
   "cell_type": "code",
   "execution_count": 41,
   "id": "6de841fe",
   "metadata": {},
   "outputs": [
    {
     "data": {
      "text/html": [
       "<h3>reverse</h3>"
      ],
      "text/plain": [
       "<IPython.core.display.HTML object>"
      ]
     },
     "metadata": {},
     "output_type": "display_data"
    },
    {
     "data": {
      "text/html": [
       "<div>\n",
       "<style scoped>\n",
       "    .dataframe tbody tr th:only-of-type {\n",
       "        vertical-align: middle;\n",
       "    }\n",
       "\n",
       "    .dataframe tbody tr th {\n",
       "        vertical-align: top;\n",
       "    }\n",
       "\n",
       "    .dataframe thead th {\n",
       "        text-align: right;\n",
       "    }\n",
       "</style>\n",
       "<table border=\"1\" class=\"dataframe\">\n",
       "  <thead>\n",
       "    <tr style=\"text-align: right;\">\n",
       "      <th></th>\n",
       "      <th>first_name</th>\n",
       "      <th>last_name</th>\n",
       "    </tr>\n",
       "  </thead>\n",
       "  <tbody>\n",
       "    <tr>\n",
       "      <th>0</th>\n",
       "      <td>ennA</td>\n",
       "      <td>tforcnaB</td>\n",
       "    </tr>\n",
       "    <tr>\n",
       "      <th>1</th>\n",
       "      <td>boB</td>\n",
       "      <td>nalyD</td>\n",
       "    </tr>\n",
       "    <tr>\n",
       "      <th>2</th>\n",
       "      <td>eilrahC</td>\n",
       "      <td>nilpahC</td>\n",
       "    </tr>\n",
       "    <tr>\n",
       "      <th>3</th>\n",
       "      <td>boB</td>\n",
       "      <td>yelraM</td>\n",
       "    </tr>\n",
       "  </tbody>\n",
       "</table>\n",
       "</div>"
      ],
      "text/plain": [
       "  first_name last_name\n",
       "0       ennA  tforcnaB\n",
       "1        boB     nalyD\n",
       "2    eilrahC   nilpahC\n",
       "3        boB    yelraM"
      ]
     },
     "metadata": {},
     "output_type": "display_data"
    },
    {
     "data": {
      "text/html": [
       "<h3>branched__lower</h3>"
      ],
      "text/plain": [
       "<IPython.core.display.HTML object>"
      ]
     },
     "metadata": {},
     "output_type": "display_data"
    },
    {
     "data": {
      "text/html": [
       "<div>\n",
       "<style scoped>\n",
       "    .dataframe tbody tr th:only-of-type {\n",
       "        vertical-align: middle;\n",
       "    }\n",
       "\n",
       "    .dataframe tbody tr th {\n",
       "        vertical-align: top;\n",
       "    }\n",
       "\n",
       "    .dataframe thead th {\n",
       "        text-align: right;\n",
       "    }\n",
       "</style>\n",
       "<table border=\"1\" class=\"dataframe\">\n",
       "  <thead>\n",
       "    <tr style=\"text-align: right;\">\n",
       "      <th></th>\n",
       "      <th>first_name</th>\n",
       "      <th>last_name</th>\n",
       "    </tr>\n",
       "  </thead>\n",
       "  <tbody>\n",
       "    <tr>\n",
       "      <th>0</th>\n",
       "      <td>enna</td>\n",
       "      <td>tforcnab</td>\n",
       "    </tr>\n",
       "    <tr>\n",
       "      <th>1</th>\n",
       "      <td>bob</td>\n",
       "      <td>nalyd</td>\n",
       "    </tr>\n",
       "    <tr>\n",
       "      <th>2</th>\n",
       "      <td>eilrahc</td>\n",
       "      <td>nilpahc</td>\n",
       "    </tr>\n",
       "    <tr>\n",
       "      <th>3</th>\n",
       "      <td>bob</td>\n",
       "      <td>yelram</td>\n",
       "    </tr>\n",
       "  </tbody>\n",
       "</table>\n",
       "</div>"
      ],
      "text/plain": [
       "  first_name last_name\n",
       "0       enna  tforcnab\n",
       "1        bob     nalyd\n",
       "2    eilrahc   nilpahc\n",
       "3        bob    yelram"
      ]
     },
     "metadata": {},
     "output_type": "display_data"
    },
    {
     "data": {
      "text/html": [
       "<h3>branched__space</h3>"
      ],
      "text/plain": [
       "<IPython.core.display.HTML object>"
      ]
     },
     "metadata": {},
     "output_type": "display_data"
    },
    {
     "data": {
      "text/html": [
       "<div>\n",
       "<style scoped>\n",
       "    .dataframe tbody tr th:only-of-type {\n",
       "        vertical-align: middle;\n",
       "    }\n",
       "\n",
       "    .dataframe tbody tr th {\n",
       "        vertical-align: top;\n",
       "    }\n",
       "\n",
       "    .dataframe thead th {\n",
       "        text-align: right;\n",
       "    }\n",
       "</style>\n",
       "<table border=\"1\" class=\"dataframe\">\n",
       "  <thead>\n",
       "    <tr style=\"text-align: right;\">\n",
       "      <th></th>\n",
       "      <th>first_name</th>\n",
       "      <th>last_name</th>\n",
       "    </tr>\n",
       "  </thead>\n",
       "  <tbody>\n",
       "    <tr>\n",
       "      <th>0</th>\n",
       "      <td>e n n a</td>\n",
       "      <td>t f o r c n a b</td>\n",
       "    </tr>\n",
       "    <tr>\n",
       "      <th>1</th>\n",
       "      <td>b o b</td>\n",
       "      <td>n a l y d</td>\n",
       "    </tr>\n",
       "    <tr>\n",
       "      <th>2</th>\n",
       "      <td>e i l r a h c</td>\n",
       "      <td>n i l p a h c</td>\n",
       "    </tr>\n",
       "    <tr>\n",
       "      <th>3</th>\n",
       "      <td>b o b</td>\n",
       "      <td>y e l r a m</td>\n",
       "    </tr>\n",
       "  </tbody>\n",
       "</table>\n",
       "</div>"
      ],
      "text/plain": [
       "      first_name        last_name\n",
       "0        e n n a  t f o r c n a b\n",
       "1          b o b        n a l y d\n",
       "2  e i l r a h c    n i l p a h c\n",
       "3          b o b      y e l r a m"
      ]
     },
     "metadata": {},
     "output_type": "display_data"
    },
    {
     "data": {
      "text/html": [
       "<h3>branched__upper</h3>"
      ],
      "text/plain": [
       "<IPython.core.display.HTML object>"
      ]
     },
     "metadata": {},
     "output_type": "display_data"
    },
    {
     "data": {
      "text/html": [
       "<div>\n",
       "<style scoped>\n",
       "    .dataframe tbody tr th:only-of-type {\n",
       "        vertical-align: middle;\n",
       "    }\n",
       "\n",
       "    .dataframe tbody tr th {\n",
       "        vertical-align: top;\n",
       "    }\n",
       "\n",
       "    .dataframe thead th {\n",
       "        text-align: right;\n",
       "    }\n",
       "</style>\n",
       "<table border=\"1\" class=\"dataframe\">\n",
       "  <thead>\n",
       "    <tr style=\"text-align: right;\">\n",
       "      <th></th>\n",
       "      <th>first_name</th>\n",
       "      <th>last_name</th>\n",
       "    </tr>\n",
       "  </thead>\n",
       "  <tbody>\n",
       "    <tr>\n",
       "      <th>0</th>\n",
       "      <td>ENNA</td>\n",
       "      <td>TFORCNAB</td>\n",
       "    </tr>\n",
       "    <tr>\n",
       "      <th>1</th>\n",
       "      <td>BOB</td>\n",
       "      <td>NALYD</td>\n",
       "    </tr>\n",
       "    <tr>\n",
       "      <th>2</th>\n",
       "      <td>EILRAHC</td>\n",
       "      <td>NILPAHC</td>\n",
       "    </tr>\n",
       "    <tr>\n",
       "      <th>3</th>\n",
       "      <td>BOB</td>\n",
       "      <td>YELRAM</td>\n",
       "    </tr>\n",
       "  </tbody>\n",
       "</table>\n",
       "</div>"
      ],
      "text/plain": [
       "  first_name last_name\n",
       "0       ENNA  TFORCNAB\n",
       "1        BOB     NALYD\n",
       "2    EILRAHC   NILPAHC\n",
       "3        BOB    YELRAM"
      ]
     },
     "metadata": {},
     "output_type": "display_data"
    },
    {
     "data": {
      "text/html": [
       "<h3>branched__factor</h3>"
      ],
      "text/plain": [
       "<IPython.core.display.HTML object>"
      ]
     },
     "metadata": {},
     "output_type": "display_data"
    },
    {
     "data": {
      "text/html": [
       "<div>\n",
       "<style scoped>\n",
       "    .dataframe tbody tr th:only-of-type {\n",
       "        vertical-align: middle;\n",
       "    }\n",
       "\n",
       "    .dataframe tbody tr th {\n",
       "        vertical-align: top;\n",
       "    }\n",
       "\n",
       "    .dataframe thead th {\n",
       "        text-align: right;\n",
       "    }\n",
       "</style>\n",
       "<table border=\"1\" class=\"dataframe\">\n",
       "  <thead>\n",
       "    <tr style=\"text-align: right;\">\n",
       "      <th></th>\n",
       "      <th>first_name</th>\n",
       "      <th>last_name</th>\n",
       "    </tr>\n",
       "  </thead>\n",
       "  <tbody>\n",
       "    <tr>\n",
       "      <th>0</th>\n",
       "      <td>ENNAENNAENNA</td>\n",
       "      <td>TFORCNABTFORCNABTFORCNAB</td>\n",
       "    </tr>\n",
       "    <tr>\n",
       "      <th>1</th>\n",
       "      <td>BOBBOBBOB</td>\n",
       "      <td>NALYDNALYDNALYD</td>\n",
       "    </tr>\n",
       "    <tr>\n",
       "      <th>2</th>\n",
       "      <td>EILRAHCEILRAHCEILRAHC</td>\n",
       "      <td>NILPAHCNILPAHCNILPAHC</td>\n",
       "    </tr>\n",
       "    <tr>\n",
       "      <th>3</th>\n",
       "      <td>BOBBOBBOB</td>\n",
       "      <td>YELRAMYELRAMYELRAM</td>\n",
       "    </tr>\n",
       "  </tbody>\n",
       "</table>\n",
       "</div>"
      ],
      "text/plain": [
       "              first_name                 last_name\n",
       "0           ENNAENNAENNA  TFORCNABTFORCNABTFORCNAB\n",
       "1              BOBBOBBOB           NALYDNALYDNALYD\n",
       "2  EILRAHCEILRAHCEILRAHC     NILPAHCNILPAHCNILPAHC\n",
       "3              BOBBOBBOB        YELRAMYELRAMYELRAM"
      ]
     },
     "metadata": {},
     "output_type": "display_data"
    },
    {
     "data": {
      "text/html": [
       "<h3>branched</h3>"
      ],
      "text/plain": [
       "<IPython.core.display.HTML object>"
      ]
     },
     "metadata": {},
     "output_type": "display_data"
    },
    {
     "data": {
      "text/html": [
       "<div>\n",
       "<style scoped>\n",
       "    .dataframe tbody tr th:only-of-type {\n",
       "        vertical-align: middle;\n",
       "    }\n",
       "\n",
       "    .dataframe tbody tr th {\n",
       "        vertical-align: top;\n",
       "    }\n",
       "\n",
       "    .dataframe thead th {\n",
       "        text-align: right;\n",
       "    }\n",
       "</style>\n",
       "<table border=\"1\" class=\"dataframe\">\n",
       "  <thead>\n",
       "    <tr style=\"text-align: right;\">\n",
       "      <th></th>\n",
       "      <th>pipe_lowerspace__first_name</th>\n",
       "      <th>pipe_lowerspace__last_name</th>\n",
       "      <th>pipe_upperfactor__first_name</th>\n",
       "      <th>pipe_upperfactor__last_name</th>\n",
       "    </tr>\n",
       "  </thead>\n",
       "  <tbody>\n",
       "    <tr>\n",
       "      <th>0</th>\n",
       "      <td>e n n a</td>\n",
       "      <td>t f o r c n a b</td>\n",
       "      <td>ENNAENNAENNA</td>\n",
       "      <td>TFORCNABTFORCNABTFORCNAB</td>\n",
       "    </tr>\n",
       "    <tr>\n",
       "      <th>1</th>\n",
       "      <td>b o b</td>\n",
       "      <td>n a l y d</td>\n",
       "      <td>BOBBOBBOB</td>\n",
       "      <td>NALYDNALYDNALYD</td>\n",
       "    </tr>\n",
       "    <tr>\n",
       "      <th>2</th>\n",
       "      <td>e i l r a h c</td>\n",
       "      <td>n i l p a h c</td>\n",
       "      <td>EILRAHCEILRAHCEILRAHC</td>\n",
       "      <td>NILPAHCNILPAHCNILPAHC</td>\n",
       "    </tr>\n",
       "    <tr>\n",
       "      <th>3</th>\n",
       "      <td>b o b</td>\n",
       "      <td>y e l r a m</td>\n",
       "      <td>BOBBOBBOB</td>\n",
       "      <td>YELRAMYELRAMYELRAM</td>\n",
       "    </tr>\n",
       "  </tbody>\n",
       "</table>\n",
       "</div>"
      ],
      "text/plain": [
       "  pipe_lowerspace__first_name pipe_lowerspace__last_name  \\\n",
       "0                     e n n a            t f o r c n a b   \n",
       "1                       b o b                  n a l y d   \n",
       "2               e i l r a h c              n i l p a h c   \n",
       "3                       b o b                y e l r a m   \n",
       "\n",
       "  pipe_upperfactor__first_name pipe_upperfactor__last_name  \n",
       "0                 ENNAENNAENNA    TFORCNABTFORCNABTFORCNAB  \n",
       "1                    BOBBOBBOB             NALYDNALYDNALYD  \n",
       "2        EILRAHCEILRAHCEILRAHC       NILPAHCNILPAHCNILPAHC  \n",
       "3                    BOBBOBBOB          YELRAMYELRAMYELRAM  "
      ]
     },
     "metadata": {},
     "output_type": "display_data"
    },
    {
     "data": {
      "text/html": [
       "<h3>prepend</h3>"
      ],
      "text/plain": [
       "<IPython.core.display.HTML object>"
      ]
     },
     "metadata": {},
     "output_type": "display_data"
    },
    {
     "data": {
      "text/html": [
       "<div>\n",
       "<style scoped>\n",
       "    .dataframe tbody tr th:only-of-type {\n",
       "        vertical-align: middle;\n",
       "    }\n",
       "\n",
       "    .dataframe tbody tr th {\n",
       "        vertical-align: top;\n",
       "    }\n",
       "\n",
       "    .dataframe thead th {\n",
       "        text-align: right;\n",
       "    }\n",
       "</style>\n",
       "<table border=\"1\" class=\"dataframe\">\n",
       "  <thead>\n",
       "    <tr style=\"text-align: right;\">\n",
       "      <th></th>\n",
       "      <th>pipe_lowerspace__first_name</th>\n",
       "      <th>pipe_lowerspace__last_name</th>\n",
       "      <th>pipe_upperfactor__first_name</th>\n",
       "      <th>pipe_upperfactor__last_name</th>\n",
       "    </tr>\n",
       "  </thead>\n",
       "  <tbody>\n",
       "    <tr>\n",
       "      <th>0</th>\n",
       "      <td>PREPEND_e n n a</td>\n",
       "      <td>PREPEND_t f o r c n a b</td>\n",
       "      <td>PREPEND_ENNAENNAENNA</td>\n",
       "      <td>PREPEND_TFORCNABTFORCNABTFORCNAB</td>\n",
       "    </tr>\n",
       "    <tr>\n",
       "      <th>1</th>\n",
       "      <td>PREPEND_b o b</td>\n",
       "      <td>PREPEND_n a l y d</td>\n",
       "      <td>PREPEND_BOBBOBBOB</td>\n",
       "      <td>PREPEND_NALYDNALYDNALYD</td>\n",
       "    </tr>\n",
       "    <tr>\n",
       "      <th>2</th>\n",
       "      <td>PREPEND_e i l r a h c</td>\n",
       "      <td>PREPEND_n i l p a h c</td>\n",
       "      <td>PREPEND_EILRAHCEILRAHCEILRAHC</td>\n",
       "      <td>PREPEND_NILPAHCNILPAHCNILPAHC</td>\n",
       "    </tr>\n",
       "    <tr>\n",
       "      <th>3</th>\n",
       "      <td>PREPEND_b o b</td>\n",
       "      <td>PREPEND_y e l r a m</td>\n",
       "      <td>PREPEND_BOBBOBBOB</td>\n",
       "      <td>PREPEND_YELRAMYELRAMYELRAM</td>\n",
       "    </tr>\n",
       "  </tbody>\n",
       "</table>\n",
       "</div>"
      ],
      "text/plain": [
       "  pipe_lowerspace__first_name pipe_lowerspace__last_name  \\\n",
       "0             PREPEND_e n n a    PREPEND_t f o r c n a b   \n",
       "1               PREPEND_b o b          PREPEND_n a l y d   \n",
       "2       PREPEND_e i l r a h c      PREPEND_n i l p a h c   \n",
       "3               PREPEND_b o b        PREPEND_y e l r a m   \n",
       "\n",
       "    pipe_upperfactor__first_name       pipe_upperfactor__last_name  \n",
       "0           PREPEND_ENNAENNAENNA  PREPEND_TFORCNABTFORCNABTFORCNAB  \n",
       "1              PREPEND_BOBBOBBOB           PREPEND_NALYDNALYDNALYD  \n",
       "2  PREPEND_EILRAHCEILRAHCEILRAHC     PREPEND_NILPAHCNILPAHCNILPAHC  \n",
       "3              PREPEND_BOBBOBBOB        PREPEND_YELRAMYELRAMYELRAM  "
      ]
     },
     "metadata": {},
     "output_type": "display_data"
    }
   ],
   "source": [
    "with intermediate_transforms(pipe_tx):\n",
    "    Xt = pipe_tx.transform(df[['first_name', 'last_name']])\n",
    "    intermediate_results = pipe_tx.intermediate_results__\n",
    "\n",
    "for k, v in intermediate_results.items():\n",
    "    display(HTML(f'<h3>{k}</h3>'), v)"
   ]
  },
  {
   "cell_type": "markdown",
   "id": "78d0e7a7",
   "metadata": {},
   "source": [
    "# Joining Pipelines\n",
    "\n",
    "We may want to make a Pipeline that has one particular flow, and, independently, have another Pipeline that has its own particular flow, too. These two pipelines might have shared preprocessing steps and in certain conditions, we want to use the two pipelines simultaneously and have them share the preprocessing part. This can be accomplished using `leftjoin_pipeline()` as illustrated below. \n",
    "\n",
    "In this case, we instantiate two Pipelines that have the same preprocessing steps. We instantiate two different versions of those steps in the two pipelines and do the left join, which uses the preprocessing instances of the left when it conjoins with the right.\n",
    "\n",
    "Actually, we demonstrate how the left preprocessing steps *may* contain extra steps in its pipeline, but where the pipelines join, they must be sufficiently equivalent with taking the same number of inputs and even the same input columns. We insert an \"ignored\" transformation to illustrate the point, which becomes clearer when viewing the intermediate transforms."
   ]
  },
  {
   "cell_type": "code",
   "execution_count": 42,
   "id": "04bf5b93",
   "metadata": {},
   "outputs": [
    {
     "data": {
      "text/html": [
       "<style>#sk-49fad6a3-2e28-403b-9c6d-85e2ed12c21c {color: black;background-color: white;}#sk-49fad6a3-2e28-403b-9c6d-85e2ed12c21c pre{padding: 0;}#sk-49fad6a3-2e28-403b-9c6d-85e2ed12c21c div.sk-toggleable {background-color: white;}#sk-49fad6a3-2e28-403b-9c6d-85e2ed12c21c label.sk-toggleable__label {cursor: pointer;display: block;width: 100%;margin-bottom: 0;padding: 0.3em;box-sizing: border-box;text-align: center;}#sk-49fad6a3-2e28-403b-9c6d-85e2ed12c21c label.sk-toggleable__label-arrow:before {content: \"▸\";float: left;margin-right: 0.25em;color: #696969;}#sk-49fad6a3-2e28-403b-9c6d-85e2ed12c21c label.sk-toggleable__label-arrow:hover:before {color: black;}#sk-49fad6a3-2e28-403b-9c6d-85e2ed12c21c div.sk-estimator:hover label.sk-toggleable__label-arrow:before {color: black;}#sk-49fad6a3-2e28-403b-9c6d-85e2ed12c21c div.sk-toggleable__content {max-height: 0;max-width: 0;overflow: hidden;text-align: left;background-color: #f0f8ff;}#sk-49fad6a3-2e28-403b-9c6d-85e2ed12c21c div.sk-toggleable__content pre {margin: 0.2em;color: black;border-radius: 0.25em;background-color: #f0f8ff;}#sk-49fad6a3-2e28-403b-9c6d-85e2ed12c21c input.sk-toggleable__control:checked~div.sk-toggleable__content {max-height: 200px;max-width: 100%;overflow: auto;}#sk-49fad6a3-2e28-403b-9c6d-85e2ed12c21c input.sk-toggleable__control:checked~label.sk-toggleable__label-arrow:before {content: \"▾\";}#sk-49fad6a3-2e28-403b-9c6d-85e2ed12c21c div.sk-estimator input.sk-toggleable__control:checked~label.sk-toggleable__label {background-color: #d4ebff;}#sk-49fad6a3-2e28-403b-9c6d-85e2ed12c21c div.sk-label input.sk-toggleable__control:checked~label.sk-toggleable__label {background-color: #d4ebff;}#sk-49fad6a3-2e28-403b-9c6d-85e2ed12c21c input.sk-hidden--visually {border: 0;clip: rect(1px 1px 1px 1px);clip: rect(1px, 1px, 1px, 1px);height: 1px;margin: -1px;overflow: hidden;padding: 0;position: absolute;width: 1px;}#sk-49fad6a3-2e28-403b-9c6d-85e2ed12c21c div.sk-estimator {font-family: monospace;background-color: #f0f8ff;border: 1px dotted black;border-radius: 0.25em;box-sizing: border-box;margin-bottom: 0.5em;}#sk-49fad6a3-2e28-403b-9c6d-85e2ed12c21c div.sk-estimator:hover {background-color: #d4ebff;}#sk-49fad6a3-2e28-403b-9c6d-85e2ed12c21c div.sk-parallel-item::after {content: \"\";width: 100%;border-bottom: 1px solid gray;flex-grow: 1;}#sk-49fad6a3-2e28-403b-9c6d-85e2ed12c21c div.sk-label:hover label.sk-toggleable__label {background-color: #d4ebff;}#sk-49fad6a3-2e28-403b-9c6d-85e2ed12c21c div.sk-serial::before {content: \"\";position: absolute;border-left: 1px solid gray;box-sizing: border-box;top: 2em;bottom: 0;left: 50%;}#sk-49fad6a3-2e28-403b-9c6d-85e2ed12c21c div.sk-serial {display: flex;flex-direction: column;align-items: center;background-color: white;padding-right: 0.2em;padding-left: 0.2em;}#sk-49fad6a3-2e28-403b-9c6d-85e2ed12c21c div.sk-item {z-index: 1;}#sk-49fad6a3-2e28-403b-9c6d-85e2ed12c21c div.sk-parallel {display: flex;align-items: stretch;justify-content: center;background-color: white;}#sk-49fad6a3-2e28-403b-9c6d-85e2ed12c21c div.sk-parallel::before {content: \"\";position: absolute;border-left: 1px solid gray;box-sizing: border-box;top: 2em;bottom: 0;left: 50%;}#sk-49fad6a3-2e28-403b-9c6d-85e2ed12c21c div.sk-parallel-item {display: flex;flex-direction: column;position: relative;background-color: white;}#sk-49fad6a3-2e28-403b-9c6d-85e2ed12c21c div.sk-parallel-item:first-child::after {align-self: flex-end;width: 50%;}#sk-49fad6a3-2e28-403b-9c6d-85e2ed12c21c div.sk-parallel-item:last-child::after {align-self: flex-start;width: 50%;}#sk-49fad6a3-2e28-403b-9c6d-85e2ed12c21c div.sk-parallel-item:only-child::after {width: 0;}#sk-49fad6a3-2e28-403b-9c6d-85e2ed12c21c div.sk-dashed-wrapped {border: 1px dashed gray;margin: 0 0.4em 0.5em 0.4em;box-sizing: border-box;padding-bottom: 0.4em;background-color: white;position: relative;}#sk-49fad6a3-2e28-403b-9c6d-85e2ed12c21c div.sk-label label {font-family: monospace;font-weight: bold;background-color: white;display: inline-block;line-height: 1.2em;}#sk-49fad6a3-2e28-403b-9c6d-85e2ed12c21c div.sk-label-container {position: relative;z-index: 2;text-align: center;}#sk-49fad6a3-2e28-403b-9c6d-85e2ed12c21c div.sk-container {/* jupyter's `normalize.less` sets `[hidden] { display: none; }` but bootstrap.min.css set `[hidden] { display: none !important; }` so we also need the `!important` here to be able to override the default hidden behavior on the sphinx rendered scikit-learn.org. See: https://github.com/scikit-learn/scikit-learn/issues/21755 */display: inline-block !important;position: relative;}#sk-49fad6a3-2e28-403b-9c6d-85e2ed12c21c div.sk-text-repr-fallback {display: none;}</style><div id=\"sk-49fad6a3-2e28-403b-9c6d-85e2ed12c21c\" class=\"sk-top-container\"><div class=\"sk-text-repr-fallback\"><pre>FeatureNamesPipeline(steps=[(&#x27;pre&#x27;,\n",
       "                             FeatureNamesPipeline(steps=[(&#x27;reverse&#x27;,\n",
       "                                                          ApplyTransformer(apply_func=&lt;function applymap at 0x7f88fab56700&gt;, func=&lt;function reverse_text at 0x7f88fa9a29d0&gt;)),\n",
       "                                                         (&#x27;ignored&#x27;,\n",
       "                                                          ApplyTransformer(apply_func=&lt;function applymap at 0x7f88fab56700&gt;, func=&lt;function repeat_factor at 0x7f88fa9a2e50&gt;)),\n",
       "                                                         (&#x27;prepend&#x27;,\n",
       "                                                          ApplyTransformer(apply_func=&lt;functi...\n",
       "                                                                                                   ApplyTransformer(apply_func=&lt;function applymap at 0x7f88fab56700&gt;, func=&lt;method &#x27;lower&#x27; of &#x27;str&#x27; objects&gt;)),\n",
       "                                                                                                  (&#x27;space&#x27;,\n",
       "                                                                                                   ApplyTransformer(apply_func=&lt;function applymap at 0x7f88fab56700&gt;, func=&lt;function space_text at 0x7f88faac6790&gt;)),\n",
       "                                                                                                  (&#x27;last&#x27;,\n",
       "                                                                                                   &#x27;passthrough&#x27;)])),\n",
       "                                                                     (&#x27;right&#x27;,\n",
       "                                                                      FeatureNamesPipeline(steps=[(&#x27;upper&#x27;,\n",
       "                                                                                                   ApplyTransformer(apply_func=&lt;function applymap at 0x7f88fab56700&gt;, func=&lt;method &#x27;upper&#x27; of &#x27;str&#x27; objects&gt;)),\n",
       "                                                                                                  (&#x27;last&#x27;,\n",
       "                                                                                                   &#x27;passthrough&#x27;)]))]))])</pre><b>Please rerun this cell to show the HTML repr or trust the notebook.</b></div><div class=\"sk-container\" hidden><div class=\"sk-item sk-dashed-wrapped\"><div class=\"sk-label-container\"><div class=\"sk-label sk-toggleable\"><input class=\"sk-toggleable__control sk-hidden--visually\" id=\"804b83c0-dd41-47e3-9853-2fad38aa410c\" type=\"checkbox\" ><label for=\"804b83c0-dd41-47e3-9853-2fad38aa410c\" class=\"sk-toggleable__label sk-toggleable__label-arrow\">FeatureNamesPipeline</label><div class=\"sk-toggleable__content\"><pre>FeatureNamesPipeline(steps=[(&#x27;pre&#x27;,\n",
       "                             FeatureNamesPipeline(steps=[(&#x27;reverse&#x27;,\n",
       "                                                          ApplyTransformer(apply_func=&lt;function applymap at 0x7f88fab56700&gt;, func=&lt;function reverse_text at 0x7f88fa9a29d0&gt;)),\n",
       "                                                         (&#x27;ignored&#x27;,\n",
       "                                                          ApplyTransformer(apply_func=&lt;function applymap at 0x7f88fab56700&gt;, func=&lt;function repeat_factor at 0x7f88fa9a2e50&gt;)),\n",
       "                                                         (&#x27;prepend&#x27;,\n",
       "                                                          ApplyTransformer(apply_func=&lt;functi...\n",
       "                                                                                                   ApplyTransformer(apply_func=&lt;function applymap at 0x7f88fab56700&gt;, func=&lt;method &#x27;lower&#x27; of &#x27;str&#x27; objects&gt;)),\n",
       "                                                                                                  (&#x27;space&#x27;,\n",
       "                                                                                                   ApplyTransformer(apply_func=&lt;function applymap at 0x7f88fab56700&gt;, func=&lt;function space_text at 0x7f88faac6790&gt;)),\n",
       "                                                                                                  (&#x27;last&#x27;,\n",
       "                                                                                                   &#x27;passthrough&#x27;)])),\n",
       "                                                                     (&#x27;right&#x27;,\n",
       "                                                                      FeatureNamesPipeline(steps=[(&#x27;upper&#x27;,\n",
       "                                                                                                   ApplyTransformer(apply_func=&lt;function applymap at 0x7f88fab56700&gt;, func=&lt;method &#x27;upper&#x27; of &#x27;str&#x27; objects&gt;)),\n",
       "                                                                                                  (&#x27;last&#x27;,\n",
       "                                                                                                   &#x27;passthrough&#x27;)]))]))])</pre></div></div></div><div class=\"sk-serial\"><div class=\"sk-item\"><div class=\"sk-label-container\"><div class=\"sk-label sk-toggleable\"><input class=\"sk-toggleable__control sk-hidden--visually\" id=\"010838d3-454d-48eb-88ae-5ae4960f0876\" type=\"checkbox\" ><label for=\"010838d3-454d-48eb-88ae-5ae4960f0876\" class=\"sk-toggleable__label sk-toggleable__label-arrow\">pre: FeatureNamesPipeline</label><div class=\"sk-toggleable__content\"><pre>FeatureNamesPipeline(steps=[(&#x27;reverse&#x27;,\n",
       "                             ApplyTransformer(apply_func=&lt;function applymap at 0x7f88fab56700&gt;, func=&lt;function reverse_text at 0x7f88fa9a29d0&gt;)),\n",
       "                            (&#x27;ignored&#x27;,\n",
       "                             ApplyTransformer(apply_func=&lt;function applymap at 0x7f88fab56700&gt;, func=&lt;function repeat_factor at 0x7f88fa9a2e50&gt;)),\n",
       "                            (&#x27;prepend&#x27;,\n",
       "                             ApplyTransformer(apply_func=&lt;function applymap at 0x7f88fab56700&gt;, func=&lt;function prepend_text at 0x7f88faac6ca0&gt;))])</pre></div></div></div><div class=\"sk-serial\"><div class=\"sk-item\"><div class=\"sk-estimator sk-toggleable\"><input class=\"sk-toggleable__control sk-hidden--visually\" id=\"03b2b04a-5aab-48a7-90a1-7420dcc42496\" type=\"checkbox\" ><label for=\"03b2b04a-5aab-48a7-90a1-7420dcc42496\" class=\"sk-toggleable__label sk-toggleable__label-arrow\">ApplyTransformer</label><div class=\"sk-toggleable__content\"><pre>ApplyTransformer(apply_func=applymap, func=reverse_text)</pre></div></div></div><div class=\"sk-item\"><div class=\"sk-estimator sk-toggleable\"><input class=\"sk-toggleable__control sk-hidden--visually\" id=\"235abf9e-1373-4a01-aaad-3a5041bfc86c\" type=\"checkbox\" ><label for=\"235abf9e-1373-4a01-aaad-3a5041bfc86c\" class=\"sk-toggleable__label sk-toggleable__label-arrow\">ApplyTransformer</label><div class=\"sk-toggleable__content\"><pre>ApplyTransformer(apply_func=applymap, func=repeat_factor)</pre></div></div></div><div class=\"sk-item\"><div class=\"sk-estimator sk-toggleable\"><input class=\"sk-toggleable__control sk-hidden--visually\" id=\"3f2f2205-75f5-4672-9d0a-0ae990f2cf23\" type=\"checkbox\" ><label for=\"3f2f2205-75f5-4672-9d0a-0ae990f2cf23\" class=\"sk-toggleable__label sk-toggleable__label-arrow\">ApplyTransformer</label><div class=\"sk-toggleable__content\"><pre>ApplyTransformer(apply_func=applymap, func=prepend_text)</pre></div></div></div></div></div><div class=\"sk-item sk-dashed-wrapped\"><div class=\"sk-label-container\"><div class=\"sk-label sk-toggleable\"><input class=\"sk-toggleable__control sk-hidden--visually\" id=\"a700129d-3ff0-4697-a11d-e40762e65af7\" type=\"checkbox\" ><label for=\"a700129d-3ff0-4697-a11d-e40762e65af7\" class=\"sk-toggleable__label sk-toggleable__label-arrow\">branch: FeatureUnionDataFrame</label><div class=\"sk-toggleable__content\"><pre>FeatureUnionDataFrame(transformer_list=[(&#x27;left&#x27;,\n",
       "                                         FeatureNamesPipeline(steps=[(&#x27;lower&#x27;,\n",
       "                                                                      ApplyTransformer(apply_func=&lt;function applymap at 0x7f88fab56700&gt;, func=&lt;method &#x27;lower&#x27; of &#x27;str&#x27; objects&gt;)),\n",
       "                                                                     (&#x27;space&#x27;,\n",
       "                                                                      ApplyTransformer(apply_func=&lt;function applymap at 0x7f88fab56700&gt;, func=&lt;function space_text at 0x7f88faac6790&gt;)),\n",
       "                                                                     (&#x27;last&#x27;,\n",
       "                                                                      &#x27;passthrough&#x27;)])),\n",
       "                                        (&#x27;right&#x27;,\n",
       "                                         FeatureNamesPipeline(steps=[(&#x27;upper&#x27;,\n",
       "                                                                      ApplyTransformer(apply_func=&lt;function applymap at 0x7f88fab56700&gt;, func=&lt;method &#x27;upper&#x27; of &#x27;str&#x27; objects&gt;)),\n",
       "                                                                     (&#x27;last&#x27;,\n",
       "                                                                      &#x27;passthrough&#x27;)]))])</pre></div></div></div><div class=\"sk-parallel\"><div class=\"sk-parallel-item\"><div class=\"sk-item\"><div class=\"sk-label-container\"><div class=\"sk-label sk-toggleable\"><label>left</label></div></div><div class=\"sk-serial\"><div class=\"sk-item\"><div class=\"sk-serial\"><div class=\"sk-item\"><div class=\"sk-estimator sk-toggleable\"><input class=\"sk-toggleable__control sk-hidden--visually\" id=\"15430c3f-ed29-43f3-99ad-1866bf57c06a\" type=\"checkbox\" ><label for=\"15430c3f-ed29-43f3-99ad-1866bf57c06a\" class=\"sk-toggleable__label sk-toggleable__label-arrow\">ApplyTransformer</label><div class=\"sk-toggleable__content\"><pre>ApplyTransformer(apply_func=applymap, func=lower)</pre></div></div></div><div class=\"sk-item\"><div class=\"sk-estimator sk-toggleable\"><input class=\"sk-toggleable__control sk-hidden--visually\" id=\"252cde98-37fa-46dc-ba4d-1047ab28f7be\" type=\"checkbox\" ><label for=\"252cde98-37fa-46dc-ba4d-1047ab28f7be\" class=\"sk-toggleable__label sk-toggleable__label-arrow\">ApplyTransformer</label><div class=\"sk-toggleable__content\"><pre>ApplyTransformer(apply_func=applymap, func=space_text)</pre></div></div></div><div class=\"sk-item\"><div class=\"sk-estimator sk-toggleable\"><input class=\"sk-toggleable__control sk-hidden--visually\" id=\"3f1783f2-0e47-4e39-81c4-85b084e46938\" type=\"checkbox\" ><label for=\"3f1783f2-0e47-4e39-81c4-85b084e46938\" class=\"sk-toggleable__label sk-toggleable__label-arrow\">passthrough</label><div class=\"sk-toggleable__content\"><pre>passthrough</pre></div></div></div></div></div></div></div></div><div class=\"sk-parallel-item\"><div class=\"sk-item\"><div class=\"sk-label-container\"><div class=\"sk-label sk-toggleable\"><label>right</label></div></div><div class=\"sk-serial\"><div class=\"sk-item\"><div class=\"sk-serial\"><div class=\"sk-item\"><div class=\"sk-estimator sk-toggleable\"><input class=\"sk-toggleable__control sk-hidden--visually\" id=\"55090101-8a6b-4153-9b99-2a61cbfeb822\" type=\"checkbox\" ><label for=\"55090101-8a6b-4153-9b99-2a61cbfeb822\" class=\"sk-toggleable__label sk-toggleable__label-arrow\">ApplyTransformer</label><div class=\"sk-toggleable__content\"><pre>ApplyTransformer(apply_func=applymap, func=upper)</pre></div></div></div><div class=\"sk-item\"><div class=\"sk-estimator sk-toggleable\"><input class=\"sk-toggleable__control sk-hidden--visually\" id=\"ec05c256-ccc1-4b0a-b3b2-2e4420a9ea73\" type=\"checkbox\" ><label for=\"ec05c256-ccc1-4b0a-b3b2-2e4420a9ea73\" class=\"sk-toggleable__label sk-toggleable__label-arrow\">passthrough</label><div class=\"sk-toggleable__content\"><pre>passthrough</pre></div></div></div></div></div></div></div></div></div></div></div></div></div></div>"
      ],
      "text/plain": [
       "FeatureNamesPipeline(steps=[('pre',\n",
       "                             FeatureNamesPipeline(steps=[('reverse',\n",
       "                                                          ApplyTransformer(apply_func=<function applymap at 0x7f88fab56700>, func=<function reverse_text at 0x7f88fa9a29d0>)),\n",
       "                                                         ('ignored',\n",
       "                                                          ApplyTransformer(apply_func=<function applymap at 0x7f88fab56700>, func=<function repeat_factor at 0x7f88fa9a2e50>)),\n",
       "                                                         ('prepend',\n",
       "                                                          ApplyTransformer(apply_func=<functi...\n",
       "                                                                                                   ApplyTransformer(apply_func=<function applymap at 0x7f88fab56700>, func=<method 'lower' of 'str' objects>)),\n",
       "                                                                                                  ('space',\n",
       "                                                                                                   ApplyTransformer(apply_func=<function applymap at 0x7f88fab56700>, func=<function space_text at 0x7f88faac6790>)),\n",
       "                                                                                                  ('last',\n",
       "                                                                                                   'passthrough')])),\n",
       "                                                                     ('right',\n",
       "                                                                      FeatureNamesPipeline(steps=[('upper',\n",
       "                                                                                                   ApplyTransformer(apply_func=<function applymap at 0x7f88fab56700>, func=<method 'upper' of 'str' objects>)),\n",
       "                                                                                                  ('last',\n",
       "                                                                                                   'passthrough')]))]))])"
      ]
     },
     "execution_count": 42,
     "metadata": {},
     "output_type": "execute_result"
    }
   ],
   "source": [
    "# Create the left pipeline\n",
    "reverse_tx = ApplyTransformer(applymap, reverse_text, keys=['first_name', 'last_name'])\n",
    "ignored_tx = ApplyTransformer(\n",
    "    applymap, \n",
    "    repeat_factor, \n",
    "    keys={'first_name': 'fn_repeat_ignored', 'last_name': 'ln_repeat_ignored'}\n",
    ")\n",
    "\n",
    "prepend_tx = ApplyTransformer(\n",
    "    applymap, \n",
    "    prepend_text, \n",
    "    keys={'first_name': 'fnew', 'last_name': 'lnew'},\n",
    "    feature_names_out=['fnew', 'lnew']\n",
    ")\n",
    "\n",
    "uppercase_tx = ApplyTransformer(\n",
    "    applymap, \n",
    "    str.upper, \n",
    "    keys={'fnew': 'fnoo', 'lnew': 'lnoo'}  # We create new columns: fnoo and lnoo\n",
    ")\n",
    "\n",
    "pipe_a_tx = Pipeline(\n",
    "    [\n",
    "        ('reverse', reverse_tx),\n",
    "        ('ignored', ignored_tx),\n",
    "        ('prepend', prepend_tx),\n",
    "        ('lower', lowercase_tx),\n",
    "        ('space', spacer_tx),\n",
    "        ('last', 'passthrough')\n",
    "    ]\n",
    ")\n",
    "\n",
    "# Make another \"right\" pipeline to join with the one we just created. We duplicate the\n",
    "# same functionality of the reverse and prepend transformers to illustrate that they\n",
    "# are different instances that get spliced out in the join.\n",
    "reverse2_tx = ApplyTransformer(applymap, reverse_text, keys=['first_name', 'last_name'])\n",
    "\n",
    "prepend2_tx = ApplyTransformer(\n",
    "    applymap, \n",
    "    prepend_text, \n",
    "    keys={'first_name': 'fnew', 'last_name': 'lnew'},\n",
    "    feature_names_out=['fnew', 'lnew']\n",
    ")\n",
    "\n",
    "pipe_b_tx = Pipeline(\n",
    "    [\n",
    "        ('reverse2', reverse2_tx), \n",
    "        ('prepend2', prepend2_tx),\n",
    "        ('upper', uppercase_tx),\n",
    "        ('last', 'passthrough')\n",
    "    ]\n",
    ")\n",
    "\n",
    "# Do the join\n",
    "joined_tx = leftjoin_pipeline(pipe_a_tx, pipe_b_tx, left_on='prepend', right_on='prepend2')\n",
    "joined_tx"
   ]
  },
  {
   "cell_type": "code",
   "execution_count": 43,
   "id": "5607b109",
   "metadata": {},
   "outputs": [
    {
     "data": {
      "text/html": [
       "<div>\n",
       "<style scoped>\n",
       "    .dataframe tbody tr th:only-of-type {\n",
       "        vertical-align: middle;\n",
       "    }\n",
       "\n",
       "    .dataframe tbody tr th {\n",
       "        vertical-align: top;\n",
       "    }\n",
       "\n",
       "    .dataframe thead th {\n",
       "        text-align: right;\n",
       "    }\n",
       "</style>\n",
       "<table border=\"1\" class=\"dataframe\">\n",
       "  <thead>\n",
       "    <tr style=\"text-align: right;\">\n",
       "      <th></th>\n",
       "      <th>left__fnew</th>\n",
       "      <th>left__lnew</th>\n",
       "      <th>right__fnew</th>\n",
       "      <th>right__lnew</th>\n",
       "      <th>right__fnoo</th>\n",
       "      <th>right__lnoo</th>\n",
       "    </tr>\n",
       "  </thead>\n",
       "  <tbody>\n",
       "    <tr>\n",
       "      <th>0</th>\n",
       "      <td>p r e p e n d _ e n n a</td>\n",
       "      <td>p r e p e n d _ t f o r c n a b</td>\n",
       "      <td>PREPEND_ennA</td>\n",
       "      <td>PREPEND_tforcnaB</td>\n",
       "      <td>PREPEND_ENNA</td>\n",
       "      <td>PREPEND_TFORCNAB</td>\n",
       "    </tr>\n",
       "    <tr>\n",
       "      <th>1</th>\n",
       "      <td>p r e p e n d _ b o b</td>\n",
       "      <td>p r e p e n d _ n a l y d</td>\n",
       "      <td>PREPEND_boB</td>\n",
       "      <td>PREPEND_nalyD</td>\n",
       "      <td>PREPEND_BOB</td>\n",
       "      <td>PREPEND_NALYD</td>\n",
       "    </tr>\n",
       "    <tr>\n",
       "      <th>2</th>\n",
       "      <td>p r e p e n d _ e i l r a h c</td>\n",
       "      <td>p r e p e n d _ n i l p a h c</td>\n",
       "      <td>PREPEND_eilrahC</td>\n",
       "      <td>PREPEND_nilpahC</td>\n",
       "      <td>PREPEND_EILRAHC</td>\n",
       "      <td>PREPEND_NILPAHC</td>\n",
       "    </tr>\n",
       "    <tr>\n",
       "      <th>3</th>\n",
       "      <td>p r e p e n d _ b o b</td>\n",
       "      <td>p r e p e n d _ y e l r a m</td>\n",
       "      <td>PREPEND_boB</td>\n",
       "      <td>PREPEND_yelraM</td>\n",
       "      <td>PREPEND_BOB</td>\n",
       "      <td>PREPEND_YELRAM</td>\n",
       "    </tr>\n",
       "  </tbody>\n",
       "</table>\n",
       "</div>"
      ],
      "text/plain": [
       "                      left__fnew                       left__lnew  \\\n",
       "0        p r e p e n d _ e n n a  p r e p e n d _ t f o r c n a b   \n",
       "1          p r e p e n d _ b o b        p r e p e n d _ n a l y d   \n",
       "2  p r e p e n d _ e i l r a h c    p r e p e n d _ n i l p a h c   \n",
       "3          p r e p e n d _ b o b      p r e p e n d _ y e l r a m   \n",
       "\n",
       "       right__fnew       right__lnew      right__fnoo       right__lnoo  \n",
       "0     PREPEND_ennA  PREPEND_tforcnaB     PREPEND_ENNA  PREPEND_TFORCNAB  \n",
       "1      PREPEND_boB     PREPEND_nalyD      PREPEND_BOB     PREPEND_NALYD  \n",
       "2  PREPEND_eilrahC   PREPEND_nilpahC  PREPEND_EILRAHC   PREPEND_NILPAHC  \n",
       "3      PREPEND_boB    PREPEND_yelraM      PREPEND_BOB    PREPEND_YELRAM  "
      ]
     },
     "execution_count": 43,
     "metadata": {},
     "output_type": "execute_result"
    }
   ],
   "source": [
    "joined_tx.transform(df)"
   ]
  },
  {
   "cell_type": "markdown",
   "id": "c73bbfed",
   "metadata": {},
   "source": [
    "Notice that the joined pipeline uses the preprocessing pipeline from the left pipeline, but not the right."
   ]
  },
  {
   "cell_type": "code",
   "execution_count": 44,
   "id": "5bfaf989",
   "metadata": {},
   "outputs": [
    {
     "data": {
      "text/plain": [
       "True"
      ]
     },
     "execution_count": 44,
     "metadata": {},
     "output_type": "execute_result"
    }
   ],
   "source": [
    "joined_tx.named_steps['pre'].named_steps['prepend'] == prepend_tx"
   ]
  },
  {
   "cell_type": "code",
   "execution_count": 45,
   "id": "d7799906",
   "metadata": {},
   "outputs": [
    {
     "data": {
      "text/plain": [
       "False"
      ]
     },
     "execution_count": 45,
     "metadata": {},
     "output_type": "execute_result"
    }
   ],
   "source": [
    "joined_tx.named_steps['pre'].named_steps['prepend'] == prepend2_tx"
   ]
  },
  {
   "cell_type": "code",
   "execution_count": 46,
   "id": "5019545c",
   "metadata": {
    "scrolled": false
   },
   "outputs": [
    {
     "data": {
      "text/html": [
       "<h3>pre__reverse</h3>"
      ],
      "text/plain": [
       "<IPython.core.display.HTML object>"
      ]
     },
     "metadata": {},
     "output_type": "display_data"
    },
    {
     "data": {
      "text/html": [
       "<div>\n",
       "<style scoped>\n",
       "    .dataframe tbody tr th:only-of-type {\n",
       "        vertical-align: middle;\n",
       "    }\n",
       "\n",
       "    .dataframe tbody tr th {\n",
       "        vertical-align: top;\n",
       "    }\n",
       "\n",
       "    .dataframe thead th {\n",
       "        text-align: right;\n",
       "    }\n",
       "</style>\n",
       "<table border=\"1\" class=\"dataframe\">\n",
       "  <thead>\n",
       "    <tr style=\"text-align: right;\">\n",
       "      <th></th>\n",
       "      <th>first_name</th>\n",
       "      <th>last_name</th>\n",
       "    </tr>\n",
       "  </thead>\n",
       "  <tbody>\n",
       "    <tr>\n",
       "      <th>0</th>\n",
       "      <td>Anne</td>\n",
       "      <td>Bancroft</td>\n",
       "    </tr>\n",
       "    <tr>\n",
       "      <th>1</th>\n",
       "      <td>Bob</td>\n",
       "      <td>Dylan</td>\n",
       "    </tr>\n",
       "    <tr>\n",
       "      <th>2</th>\n",
       "      <td>Charlie</td>\n",
       "      <td>Chaplin</td>\n",
       "    </tr>\n",
       "    <tr>\n",
       "      <th>3</th>\n",
       "      <td>Bob</td>\n",
       "      <td>Marley</td>\n",
       "    </tr>\n",
       "  </tbody>\n",
       "</table>\n",
       "</div>"
      ],
      "text/plain": [
       "  first_name last_name\n",
       "0       Anne  Bancroft\n",
       "1        Bob     Dylan\n",
       "2    Charlie   Chaplin\n",
       "3        Bob    Marley"
      ]
     },
     "metadata": {},
     "output_type": "display_data"
    },
    {
     "data": {
      "text/html": [
       "<h3>pre__ignored</h3>"
      ],
      "text/plain": [
       "<IPython.core.display.HTML object>"
      ]
     },
     "metadata": {},
     "output_type": "display_data"
    },
    {
     "data": {
      "text/html": [
       "<div>\n",
       "<style scoped>\n",
       "    .dataframe tbody tr th:only-of-type {\n",
       "        vertical-align: middle;\n",
       "    }\n",
       "\n",
       "    .dataframe tbody tr th {\n",
       "        vertical-align: top;\n",
       "    }\n",
       "\n",
       "    .dataframe thead th {\n",
       "        text-align: right;\n",
       "    }\n",
       "</style>\n",
       "<table border=\"1\" class=\"dataframe\">\n",
       "  <thead>\n",
       "    <tr style=\"text-align: right;\">\n",
       "      <th></th>\n",
       "      <th>first_name</th>\n",
       "      <th>last_name</th>\n",
       "      <th>fn_repeat_ignored</th>\n",
       "      <th>ln_repeat_ignored</th>\n",
       "    </tr>\n",
       "  </thead>\n",
       "  <tbody>\n",
       "    <tr>\n",
       "      <th>0</th>\n",
       "      <td>Anne</td>\n",
       "      <td>Bancroft</td>\n",
       "      <td>AnneAnneAnne</td>\n",
       "      <td>BancroftBancroftBancroft</td>\n",
       "    </tr>\n",
       "    <tr>\n",
       "      <th>1</th>\n",
       "      <td>Bob</td>\n",
       "      <td>Dylan</td>\n",
       "      <td>BobBobBob</td>\n",
       "      <td>DylanDylanDylan</td>\n",
       "    </tr>\n",
       "    <tr>\n",
       "      <th>2</th>\n",
       "      <td>Charlie</td>\n",
       "      <td>Chaplin</td>\n",
       "      <td>CharlieCharlieCharlie</td>\n",
       "      <td>ChaplinChaplinChaplin</td>\n",
       "    </tr>\n",
       "    <tr>\n",
       "      <th>3</th>\n",
       "      <td>Bob</td>\n",
       "      <td>Marley</td>\n",
       "      <td>BobBobBob</td>\n",
       "      <td>MarleyMarleyMarley</td>\n",
       "    </tr>\n",
       "  </tbody>\n",
       "</table>\n",
       "</div>"
      ],
      "text/plain": [
       "  first_name last_name      fn_repeat_ignored         ln_repeat_ignored\n",
       "0       Anne  Bancroft           AnneAnneAnne  BancroftBancroftBancroft\n",
       "1        Bob     Dylan              BobBobBob           DylanDylanDylan\n",
       "2    Charlie   Chaplin  CharlieCharlieCharlie     ChaplinChaplinChaplin\n",
       "3        Bob    Marley              BobBobBob        MarleyMarleyMarley"
      ]
     },
     "metadata": {},
     "output_type": "display_data"
    },
    {
     "data": {
      "text/html": [
       "<h3>pre__prepend</h3>"
      ],
      "text/plain": [
       "<IPython.core.display.HTML object>"
      ]
     },
     "metadata": {},
     "output_type": "display_data"
    },
    {
     "data": {
      "text/html": [
       "<div>\n",
       "<style scoped>\n",
       "    .dataframe tbody tr th:only-of-type {\n",
       "        vertical-align: middle;\n",
       "    }\n",
       "\n",
       "    .dataframe tbody tr th {\n",
       "        vertical-align: top;\n",
       "    }\n",
       "\n",
       "    .dataframe thead th {\n",
       "        text-align: right;\n",
       "    }\n",
       "</style>\n",
       "<table border=\"1\" class=\"dataframe\">\n",
       "  <thead>\n",
       "    <tr style=\"text-align: right;\">\n",
       "      <th></th>\n",
       "      <th>fnew</th>\n",
       "      <th>lnew</th>\n",
       "    </tr>\n",
       "  </thead>\n",
       "  <tbody>\n",
       "    <tr>\n",
       "      <th>0</th>\n",
       "      <td>PREPEND_Anne</td>\n",
       "      <td>PREPEND_Bancroft</td>\n",
       "    </tr>\n",
       "    <tr>\n",
       "      <th>1</th>\n",
       "      <td>PREPEND_Bob</td>\n",
       "      <td>PREPEND_Dylan</td>\n",
       "    </tr>\n",
       "    <tr>\n",
       "      <th>2</th>\n",
       "      <td>PREPEND_Charlie</td>\n",
       "      <td>PREPEND_Chaplin</td>\n",
       "    </tr>\n",
       "    <tr>\n",
       "      <th>3</th>\n",
       "      <td>PREPEND_Bob</td>\n",
       "      <td>PREPEND_Marley</td>\n",
       "    </tr>\n",
       "  </tbody>\n",
       "</table>\n",
       "</div>"
      ],
      "text/plain": [
       "              fnew              lnew\n",
       "0     PREPEND_Anne  PREPEND_Bancroft\n",
       "1      PREPEND_Bob     PREPEND_Dylan\n",
       "2  PREPEND_Charlie   PREPEND_Chaplin\n",
       "3      PREPEND_Bob    PREPEND_Marley"
      ]
     },
     "metadata": {},
     "output_type": "display_data"
    },
    {
     "data": {
      "text/html": [
       "<h3>pre</h3>"
      ],
      "text/plain": [
       "<IPython.core.display.HTML object>"
      ]
     },
     "metadata": {},
     "output_type": "display_data"
    },
    {
     "data": {
      "text/html": [
       "<div>\n",
       "<style scoped>\n",
       "    .dataframe tbody tr th:only-of-type {\n",
       "        vertical-align: middle;\n",
       "    }\n",
       "\n",
       "    .dataframe tbody tr th {\n",
       "        vertical-align: top;\n",
       "    }\n",
       "\n",
       "    .dataframe thead th {\n",
       "        text-align: right;\n",
       "    }\n",
       "</style>\n",
       "<table border=\"1\" class=\"dataframe\">\n",
       "  <thead>\n",
       "    <tr style=\"text-align: right;\">\n",
       "      <th></th>\n",
       "      <th>fnew</th>\n",
       "      <th>lnew</th>\n",
       "    </tr>\n",
       "  </thead>\n",
       "  <tbody>\n",
       "    <tr>\n",
       "      <th>0</th>\n",
       "      <td>PREPEND_Anne</td>\n",
       "      <td>PREPEND_Bancroft</td>\n",
       "    </tr>\n",
       "    <tr>\n",
       "      <th>1</th>\n",
       "      <td>PREPEND_Bob</td>\n",
       "      <td>PREPEND_Dylan</td>\n",
       "    </tr>\n",
       "    <tr>\n",
       "      <th>2</th>\n",
       "      <td>PREPEND_Charlie</td>\n",
       "      <td>PREPEND_Chaplin</td>\n",
       "    </tr>\n",
       "    <tr>\n",
       "      <th>3</th>\n",
       "      <td>PREPEND_Bob</td>\n",
       "      <td>PREPEND_Marley</td>\n",
       "    </tr>\n",
       "  </tbody>\n",
       "</table>\n",
       "</div>"
      ],
      "text/plain": [
       "              fnew              lnew\n",
       "0     PREPEND_Anne  PREPEND_Bancroft\n",
       "1      PREPEND_Bob     PREPEND_Dylan\n",
       "2  PREPEND_Charlie   PREPEND_Chaplin\n",
       "3      PREPEND_Bob    PREPEND_Marley"
      ]
     },
     "metadata": {},
     "output_type": "display_data"
    },
    {
     "data": {
      "text/html": [
       "<h3>branch__lower</h3>"
      ],
      "text/plain": [
       "<IPython.core.display.HTML object>"
      ]
     },
     "metadata": {},
     "output_type": "display_data"
    },
    {
     "data": {
      "text/html": [
       "<div>\n",
       "<style scoped>\n",
       "    .dataframe tbody tr th:only-of-type {\n",
       "        vertical-align: middle;\n",
       "    }\n",
       "\n",
       "    .dataframe tbody tr th {\n",
       "        vertical-align: top;\n",
       "    }\n",
       "\n",
       "    .dataframe thead th {\n",
       "        text-align: right;\n",
       "    }\n",
       "</style>\n",
       "<table border=\"1\" class=\"dataframe\">\n",
       "  <thead>\n",
       "    <tr style=\"text-align: right;\">\n",
       "      <th></th>\n",
       "      <th>fnew</th>\n",
       "      <th>lnew</th>\n",
       "    </tr>\n",
       "  </thead>\n",
       "  <tbody>\n",
       "    <tr>\n",
       "      <th>0</th>\n",
       "      <td>prepend_anne</td>\n",
       "      <td>prepend_bancroft</td>\n",
       "    </tr>\n",
       "    <tr>\n",
       "      <th>1</th>\n",
       "      <td>prepend_bob</td>\n",
       "      <td>prepend_dylan</td>\n",
       "    </tr>\n",
       "    <tr>\n",
       "      <th>2</th>\n",
       "      <td>prepend_charlie</td>\n",
       "      <td>prepend_chaplin</td>\n",
       "    </tr>\n",
       "    <tr>\n",
       "      <th>3</th>\n",
       "      <td>prepend_bob</td>\n",
       "      <td>prepend_marley</td>\n",
       "    </tr>\n",
       "  </tbody>\n",
       "</table>\n",
       "</div>"
      ],
      "text/plain": [
       "              fnew              lnew\n",
       "0     prepend_anne  prepend_bancroft\n",
       "1      prepend_bob     prepend_dylan\n",
       "2  prepend_charlie   prepend_chaplin\n",
       "3      prepend_bob    prepend_marley"
      ]
     },
     "metadata": {},
     "output_type": "display_data"
    },
    {
     "data": {
      "text/html": [
       "<h3>branch__space</h3>"
      ],
      "text/plain": [
       "<IPython.core.display.HTML object>"
      ]
     },
     "metadata": {},
     "output_type": "display_data"
    },
    {
     "data": {
      "text/html": [
       "<div>\n",
       "<style scoped>\n",
       "    .dataframe tbody tr th:only-of-type {\n",
       "        vertical-align: middle;\n",
       "    }\n",
       "\n",
       "    .dataframe tbody tr th {\n",
       "        vertical-align: top;\n",
       "    }\n",
       "\n",
       "    .dataframe thead th {\n",
       "        text-align: right;\n",
       "    }\n",
       "</style>\n",
       "<table border=\"1\" class=\"dataframe\">\n",
       "  <thead>\n",
       "    <tr style=\"text-align: right;\">\n",
       "      <th></th>\n",
       "      <th>fnew</th>\n",
       "      <th>lnew</th>\n",
       "    </tr>\n",
       "  </thead>\n",
       "  <tbody>\n",
       "    <tr>\n",
       "      <th>0</th>\n",
       "      <td>p r e p e n d _ a n n e</td>\n",
       "      <td>p r e p e n d _ b a n c r o f t</td>\n",
       "    </tr>\n",
       "    <tr>\n",
       "      <th>1</th>\n",
       "      <td>p r e p e n d _ b o b</td>\n",
       "      <td>p r e p e n d _ d y l a n</td>\n",
       "    </tr>\n",
       "    <tr>\n",
       "      <th>2</th>\n",
       "      <td>p r e p e n d _ c h a r l i e</td>\n",
       "      <td>p r e p e n d _ c h a p l i n</td>\n",
       "    </tr>\n",
       "    <tr>\n",
       "      <th>3</th>\n",
       "      <td>p r e p e n d _ b o b</td>\n",
       "      <td>p r e p e n d _ m a r l e y</td>\n",
       "    </tr>\n",
       "  </tbody>\n",
       "</table>\n",
       "</div>"
      ],
      "text/plain": [
       "                            fnew                             lnew\n",
       "0        p r e p e n d _ a n n e  p r e p e n d _ b a n c r o f t\n",
       "1          p r e p e n d _ b o b        p r e p e n d _ d y l a n\n",
       "2  p r e p e n d _ c h a r l i e    p r e p e n d _ c h a p l i n\n",
       "3          p r e p e n d _ b o b      p r e p e n d _ m a r l e y"
      ]
     },
     "metadata": {},
     "output_type": "display_data"
    },
    {
     "data": {
      "text/html": [
       "<h3>branch__upper</h3>"
      ],
      "text/plain": [
       "<IPython.core.display.HTML object>"
      ]
     },
     "metadata": {},
     "output_type": "display_data"
    },
    {
     "data": {
      "text/html": [
       "<div>\n",
       "<style scoped>\n",
       "    .dataframe tbody tr th:only-of-type {\n",
       "        vertical-align: middle;\n",
       "    }\n",
       "\n",
       "    .dataframe tbody tr th {\n",
       "        vertical-align: top;\n",
       "    }\n",
       "\n",
       "    .dataframe thead th {\n",
       "        text-align: right;\n",
       "    }\n",
       "</style>\n",
       "<table border=\"1\" class=\"dataframe\">\n",
       "  <thead>\n",
       "    <tr style=\"text-align: right;\">\n",
       "      <th></th>\n",
       "      <th>fnew</th>\n",
       "      <th>lnew</th>\n",
       "      <th>fnoo</th>\n",
       "      <th>lnoo</th>\n",
       "    </tr>\n",
       "  </thead>\n",
       "  <tbody>\n",
       "    <tr>\n",
       "      <th>0</th>\n",
       "      <td>PREPEND_Anne</td>\n",
       "      <td>PREPEND_Bancroft</td>\n",
       "      <td>PREPEND_ANNE</td>\n",
       "      <td>PREPEND_BANCROFT</td>\n",
       "    </tr>\n",
       "    <tr>\n",
       "      <th>1</th>\n",
       "      <td>PREPEND_Bob</td>\n",
       "      <td>PREPEND_Dylan</td>\n",
       "      <td>PREPEND_BOB</td>\n",
       "      <td>PREPEND_DYLAN</td>\n",
       "    </tr>\n",
       "    <tr>\n",
       "      <th>2</th>\n",
       "      <td>PREPEND_Charlie</td>\n",
       "      <td>PREPEND_Chaplin</td>\n",
       "      <td>PREPEND_CHARLIE</td>\n",
       "      <td>PREPEND_CHAPLIN</td>\n",
       "    </tr>\n",
       "    <tr>\n",
       "      <th>3</th>\n",
       "      <td>PREPEND_Bob</td>\n",
       "      <td>PREPEND_Marley</td>\n",
       "      <td>PREPEND_BOB</td>\n",
       "      <td>PREPEND_MARLEY</td>\n",
       "    </tr>\n",
       "  </tbody>\n",
       "</table>\n",
       "</div>"
      ],
      "text/plain": [
       "              fnew              lnew             fnoo              lnoo\n",
       "0     PREPEND_Anne  PREPEND_Bancroft     PREPEND_ANNE  PREPEND_BANCROFT\n",
       "1      PREPEND_Bob     PREPEND_Dylan      PREPEND_BOB     PREPEND_DYLAN\n",
       "2  PREPEND_Charlie   PREPEND_Chaplin  PREPEND_CHARLIE   PREPEND_CHAPLIN\n",
       "3      PREPEND_Bob    PREPEND_Marley      PREPEND_BOB    PREPEND_MARLEY"
      ]
     },
     "metadata": {},
     "output_type": "display_data"
    },
    {
     "data": {
      "text/html": [
       "<h3>branch</h3>"
      ],
      "text/plain": [
       "<IPython.core.display.HTML object>"
      ]
     },
     "metadata": {},
     "output_type": "display_data"
    },
    {
     "data": {
      "text/html": [
       "<div>\n",
       "<style scoped>\n",
       "    .dataframe tbody tr th:only-of-type {\n",
       "        vertical-align: middle;\n",
       "    }\n",
       "\n",
       "    .dataframe tbody tr th {\n",
       "        vertical-align: top;\n",
       "    }\n",
       "\n",
       "    .dataframe thead th {\n",
       "        text-align: right;\n",
       "    }\n",
       "</style>\n",
       "<table border=\"1\" class=\"dataframe\">\n",
       "  <thead>\n",
       "    <tr style=\"text-align: right;\">\n",
       "      <th></th>\n",
       "      <th>left__fnew</th>\n",
       "      <th>left__lnew</th>\n",
       "      <th>left__fnoo</th>\n",
       "      <th>left__lnoo</th>\n",
       "      <th>right__fnew</th>\n",
       "      <th>right__lnew</th>\n",
       "      <th>right__fnoo</th>\n",
       "      <th>right__lnoo</th>\n",
       "    </tr>\n",
       "  </thead>\n",
       "  <tbody>\n",
       "    <tr>\n",
       "      <th>0</th>\n",
       "      <td>p r e p e n d _ a n n e</td>\n",
       "      <td>p r e p e n d _ b a n c r o f t</td>\n",
       "      <td>p r e p e n d _ a n n e</td>\n",
       "      <td>p r e p e n d _ b a n c r o f t</td>\n",
       "      <td>PREPEND_Anne</td>\n",
       "      <td>PREPEND_Bancroft</td>\n",
       "      <td>PREPEND_ANNE</td>\n",
       "      <td>PREPEND_BANCROFT</td>\n",
       "    </tr>\n",
       "    <tr>\n",
       "      <th>1</th>\n",
       "      <td>p r e p e n d _ b o b</td>\n",
       "      <td>p r e p e n d _ d y l a n</td>\n",
       "      <td>p r e p e n d _ b o b</td>\n",
       "      <td>p r e p e n d _ d y l a n</td>\n",
       "      <td>PREPEND_Bob</td>\n",
       "      <td>PREPEND_Dylan</td>\n",
       "      <td>PREPEND_BOB</td>\n",
       "      <td>PREPEND_DYLAN</td>\n",
       "    </tr>\n",
       "    <tr>\n",
       "      <th>2</th>\n",
       "      <td>p r e p e n d _ c h a r l i e</td>\n",
       "      <td>p r e p e n d _ c h a p l i n</td>\n",
       "      <td>p r e p e n d _ c h a r l i e</td>\n",
       "      <td>p r e p e n d _ c h a p l i n</td>\n",
       "      <td>PREPEND_Charlie</td>\n",
       "      <td>PREPEND_Chaplin</td>\n",
       "      <td>PREPEND_CHARLIE</td>\n",
       "      <td>PREPEND_CHAPLIN</td>\n",
       "    </tr>\n",
       "    <tr>\n",
       "      <th>3</th>\n",
       "      <td>p r e p e n d _ b o b</td>\n",
       "      <td>p r e p e n d _ m a r l e y</td>\n",
       "      <td>p r e p e n d _ b o b</td>\n",
       "      <td>p r e p e n d _ m a r l e y</td>\n",
       "      <td>PREPEND_Bob</td>\n",
       "      <td>PREPEND_Marley</td>\n",
       "      <td>PREPEND_BOB</td>\n",
       "      <td>PREPEND_MARLEY</td>\n",
       "    </tr>\n",
       "  </tbody>\n",
       "</table>\n",
       "</div>"
      ],
      "text/plain": [
       "                      left__fnew                       left__lnew  \\\n",
       "0        p r e p e n d _ a n n e  p r e p e n d _ b a n c r o f t   \n",
       "1          p r e p e n d _ b o b        p r e p e n d _ d y l a n   \n",
       "2  p r e p e n d _ c h a r l i e    p r e p e n d _ c h a p l i n   \n",
       "3          p r e p e n d _ b o b      p r e p e n d _ m a r l e y   \n",
       "\n",
       "                      left__fnoo                       left__lnoo  \\\n",
       "0        p r e p e n d _ a n n e  p r e p e n d _ b a n c r o f t   \n",
       "1          p r e p e n d _ b o b        p r e p e n d _ d y l a n   \n",
       "2  p r e p e n d _ c h a r l i e    p r e p e n d _ c h a p l i n   \n",
       "3          p r e p e n d _ b o b      p r e p e n d _ m a r l e y   \n",
       "\n",
       "       right__fnew       right__lnew      right__fnoo       right__lnoo  \n",
       "0     PREPEND_Anne  PREPEND_Bancroft     PREPEND_ANNE  PREPEND_BANCROFT  \n",
       "1      PREPEND_Bob     PREPEND_Dylan      PREPEND_BOB     PREPEND_DYLAN  \n",
       "2  PREPEND_Charlie   PREPEND_Chaplin  PREPEND_CHARLIE   PREPEND_CHAPLIN  \n",
       "3      PREPEND_Bob    PREPEND_Marley      PREPEND_BOB    PREPEND_MARLEY  "
      ]
     },
     "metadata": {},
     "output_type": "display_data"
    }
   ],
   "source": [
    "with intermediate_transforms(joined_tx):\n",
    "    Xt = joined_tx.transform(df[['first_name', 'last_name']])\n",
    "    intermediate_results = joined_tx.intermediate_results__\n",
    "\n",
    "for k, v in intermediate_results.items():\n",
    "    display(HTML(f'<h3>{k}</h3>'), v)"
   ]
  },
  {
   "cell_type": "markdown",
   "id": "2016ff52",
   "metadata": {},
   "source": [
    "# Splitting with ColumnTransformer\n",
    "\n",
    "The sklearn [ColumnTransformer](https://scikit-learn.org/stable/modules/generated/sklearn.compose.ColumnTransformer.html) takes a DataFrame and sends particular columns to different streams. Here, we are going to make the `lower__first_name` and `upper__first_name` columns go to a spacer transformer and the `lower__last_name`, `upper__last_name`, and `lower__first_name` columns to the prepend transformer. Notice that the `lower__first_name` column goes to *both* transformers. And, finally, those columns that went to the factor transformer will continue to pass through."
   ]
  },
  {
   "cell_type": "code",
   "execution_count": 47,
   "id": "99853bca",
   "metadata": {},
   "outputs": [
    {
     "data": {
      "text/html": [
       "<style>#sk-0c96a510-4baf-4a9e-aa8d-805f439ad3c3 {color: black;background-color: white;}#sk-0c96a510-4baf-4a9e-aa8d-805f439ad3c3 pre{padding: 0;}#sk-0c96a510-4baf-4a9e-aa8d-805f439ad3c3 div.sk-toggleable {background-color: white;}#sk-0c96a510-4baf-4a9e-aa8d-805f439ad3c3 label.sk-toggleable__label {cursor: pointer;display: block;width: 100%;margin-bottom: 0;padding: 0.3em;box-sizing: border-box;text-align: center;}#sk-0c96a510-4baf-4a9e-aa8d-805f439ad3c3 label.sk-toggleable__label-arrow:before {content: \"▸\";float: left;margin-right: 0.25em;color: #696969;}#sk-0c96a510-4baf-4a9e-aa8d-805f439ad3c3 label.sk-toggleable__label-arrow:hover:before {color: black;}#sk-0c96a510-4baf-4a9e-aa8d-805f439ad3c3 div.sk-estimator:hover label.sk-toggleable__label-arrow:before {color: black;}#sk-0c96a510-4baf-4a9e-aa8d-805f439ad3c3 div.sk-toggleable__content {max-height: 0;max-width: 0;overflow: hidden;text-align: left;background-color: #f0f8ff;}#sk-0c96a510-4baf-4a9e-aa8d-805f439ad3c3 div.sk-toggleable__content pre {margin: 0.2em;color: black;border-radius: 0.25em;background-color: #f0f8ff;}#sk-0c96a510-4baf-4a9e-aa8d-805f439ad3c3 input.sk-toggleable__control:checked~div.sk-toggleable__content {max-height: 200px;max-width: 100%;overflow: auto;}#sk-0c96a510-4baf-4a9e-aa8d-805f439ad3c3 input.sk-toggleable__control:checked~label.sk-toggleable__label-arrow:before {content: \"▾\";}#sk-0c96a510-4baf-4a9e-aa8d-805f439ad3c3 div.sk-estimator input.sk-toggleable__control:checked~label.sk-toggleable__label {background-color: #d4ebff;}#sk-0c96a510-4baf-4a9e-aa8d-805f439ad3c3 div.sk-label input.sk-toggleable__control:checked~label.sk-toggleable__label {background-color: #d4ebff;}#sk-0c96a510-4baf-4a9e-aa8d-805f439ad3c3 input.sk-hidden--visually {border: 0;clip: rect(1px 1px 1px 1px);clip: rect(1px, 1px, 1px, 1px);height: 1px;margin: -1px;overflow: hidden;padding: 0;position: absolute;width: 1px;}#sk-0c96a510-4baf-4a9e-aa8d-805f439ad3c3 div.sk-estimator {font-family: monospace;background-color: #f0f8ff;border: 1px dotted black;border-radius: 0.25em;box-sizing: border-box;margin-bottom: 0.5em;}#sk-0c96a510-4baf-4a9e-aa8d-805f439ad3c3 div.sk-estimator:hover {background-color: #d4ebff;}#sk-0c96a510-4baf-4a9e-aa8d-805f439ad3c3 div.sk-parallel-item::after {content: \"\";width: 100%;border-bottom: 1px solid gray;flex-grow: 1;}#sk-0c96a510-4baf-4a9e-aa8d-805f439ad3c3 div.sk-label:hover label.sk-toggleable__label {background-color: #d4ebff;}#sk-0c96a510-4baf-4a9e-aa8d-805f439ad3c3 div.sk-serial::before {content: \"\";position: absolute;border-left: 1px solid gray;box-sizing: border-box;top: 2em;bottom: 0;left: 50%;}#sk-0c96a510-4baf-4a9e-aa8d-805f439ad3c3 div.sk-serial {display: flex;flex-direction: column;align-items: center;background-color: white;padding-right: 0.2em;padding-left: 0.2em;}#sk-0c96a510-4baf-4a9e-aa8d-805f439ad3c3 div.sk-item {z-index: 1;}#sk-0c96a510-4baf-4a9e-aa8d-805f439ad3c3 div.sk-parallel {display: flex;align-items: stretch;justify-content: center;background-color: white;}#sk-0c96a510-4baf-4a9e-aa8d-805f439ad3c3 div.sk-parallel::before {content: \"\";position: absolute;border-left: 1px solid gray;box-sizing: border-box;top: 2em;bottom: 0;left: 50%;}#sk-0c96a510-4baf-4a9e-aa8d-805f439ad3c3 div.sk-parallel-item {display: flex;flex-direction: column;position: relative;background-color: white;}#sk-0c96a510-4baf-4a9e-aa8d-805f439ad3c3 div.sk-parallel-item:first-child::after {align-self: flex-end;width: 50%;}#sk-0c96a510-4baf-4a9e-aa8d-805f439ad3c3 div.sk-parallel-item:last-child::after {align-self: flex-start;width: 50%;}#sk-0c96a510-4baf-4a9e-aa8d-805f439ad3c3 div.sk-parallel-item:only-child::after {width: 0;}#sk-0c96a510-4baf-4a9e-aa8d-805f439ad3c3 div.sk-dashed-wrapped {border: 1px dashed gray;margin: 0 0.4em 0.5em 0.4em;box-sizing: border-box;padding-bottom: 0.4em;background-color: white;position: relative;}#sk-0c96a510-4baf-4a9e-aa8d-805f439ad3c3 div.sk-label label {font-family: monospace;font-weight: bold;background-color: white;display: inline-block;line-height: 1.2em;}#sk-0c96a510-4baf-4a9e-aa8d-805f439ad3c3 div.sk-label-container {position: relative;z-index: 2;text-align: center;}#sk-0c96a510-4baf-4a9e-aa8d-805f439ad3c3 div.sk-container {/* jupyter's `normalize.less` sets `[hidden] { display: none; }` but bootstrap.min.css set `[hidden] { display: none !important; }` so we also need the `!important` here to be able to override the default hidden behavior on the sphinx rendered scikit-learn.org. See: https://github.com/scikit-learn/scikit-learn/issues/21755 */display: inline-block !important;position: relative;}#sk-0c96a510-4baf-4a9e-aa8d-805f439ad3c3 div.sk-text-repr-fallback {display: none;}</style><div id=\"sk-0c96a510-4baf-4a9e-aa8d-805f439ad3c3\" class=\"sk-top-container\"><div class=\"sk-text-repr-fallback\"><pre>Pipeline(steps=[(&#x27;reverse&#x27;,\n",
       "                 ApplyTransformer(apply_func=&lt;function applymap at 0x7f88fab56700&gt;, func=&lt;function reverse_text at 0x7f88fa9a29d0&gt;)),\n",
       "                (&#x27;branched&#x27;,\n",
       "                 FeatureUnionDataFrame(transformer_list=[(&#x27;pipe_lowerspace&#x27;,\n",
       "                                                          FeatureNamesPipeline(steps=[(&#x27;lower&#x27;,\n",
       "                                                                                       ApplyTransformer(apply_func=&lt;function applymap at 0x7f88fab56700&gt;, func=&lt;method &#x27;lower&#x27; of &#x27;str&#x27; objects&gt;)),\n",
       "                                                                                      (&#x27;spac...\n",
       "                                                                                        ApplyTransformer(apply_func=&lt;function try_member_func at 0x7f88fab568b0&gt;, func=&#x27;agg&#x27;))]),\n",
       "                                                           [&#x27;pipe_lowerspace__first_name&#x27;,\n",
       "                                                            &#x27;pipe_upperfactor__first_name&#x27;]),\n",
       "                                                          (&#x27;prepends&#x27;,\n",
       "                                                           ApplyTransformer(apply_func=&lt;function applymap at 0x7f88fab56700&gt;, func=&lt;function prepend_text at 0x7f88faac6ca0&gt;),\n",
       "                                                           [&#x27;pipe_lowerspace__last_name&#x27;,\n",
       "                                                            &#x27;pipe_upperfactor__last_name&#x27;,\n",
       "                                                            &#x27;pipe_lowerspace__first_name&#x27;])])),\n",
       "                (&#x27;last&#x27;, &#x27;passthrough&#x27;)])</pre><b>Please rerun this cell to show the HTML repr or trust the notebook.</b></div><div class=\"sk-container\" hidden><div class=\"sk-item sk-dashed-wrapped\"><div class=\"sk-label-container\"><div class=\"sk-label sk-toggleable\"><input class=\"sk-toggleable__control sk-hidden--visually\" id=\"832c3144-7954-4d1c-ac33-5f5433db5cfb\" type=\"checkbox\" ><label for=\"832c3144-7954-4d1c-ac33-5f5433db5cfb\" class=\"sk-toggleable__label sk-toggleable__label-arrow\">Pipeline</label><div class=\"sk-toggleable__content\"><pre>Pipeline(steps=[(&#x27;reverse&#x27;,\n",
       "                 ApplyTransformer(apply_func=&lt;function applymap at 0x7f88fab56700&gt;, func=&lt;function reverse_text at 0x7f88fa9a29d0&gt;)),\n",
       "                (&#x27;branched&#x27;,\n",
       "                 FeatureUnionDataFrame(transformer_list=[(&#x27;pipe_lowerspace&#x27;,\n",
       "                                                          FeatureNamesPipeline(steps=[(&#x27;lower&#x27;,\n",
       "                                                                                       ApplyTransformer(apply_func=&lt;function applymap at 0x7f88fab56700&gt;, func=&lt;method &#x27;lower&#x27; of &#x27;str&#x27; objects&gt;)),\n",
       "                                                                                      (&#x27;spac...\n",
       "                                                                                        ApplyTransformer(apply_func=&lt;function try_member_func at 0x7f88fab568b0&gt;, func=&#x27;agg&#x27;))]),\n",
       "                                                           [&#x27;pipe_lowerspace__first_name&#x27;,\n",
       "                                                            &#x27;pipe_upperfactor__first_name&#x27;]),\n",
       "                                                          (&#x27;prepends&#x27;,\n",
       "                                                           ApplyTransformer(apply_func=&lt;function applymap at 0x7f88fab56700&gt;, func=&lt;function prepend_text at 0x7f88faac6ca0&gt;),\n",
       "                                                           [&#x27;pipe_lowerspace__last_name&#x27;,\n",
       "                                                            &#x27;pipe_upperfactor__last_name&#x27;,\n",
       "                                                            &#x27;pipe_lowerspace__first_name&#x27;])])),\n",
       "                (&#x27;last&#x27;, &#x27;passthrough&#x27;)])</pre></div></div></div><div class=\"sk-serial\"><div class=\"sk-item\"><div class=\"sk-estimator sk-toggleable\"><input class=\"sk-toggleable__control sk-hidden--visually\" id=\"0dfb7d2b-3ddc-4157-920f-54324260b3ed\" type=\"checkbox\" ><label for=\"0dfb7d2b-3ddc-4157-920f-54324260b3ed\" class=\"sk-toggleable__label sk-toggleable__label-arrow\">ApplyTransformer</label><div class=\"sk-toggleable__content\"><pre>ApplyTransformer(apply_func=applymap, func=reverse_text)</pre></div></div></div><div class=\"sk-item sk-dashed-wrapped\"><div class=\"sk-label-container\"><div class=\"sk-label sk-toggleable\"><input class=\"sk-toggleable__control sk-hidden--visually\" id=\"9f9627b0-4c08-44aa-901d-87c8f402f078\" type=\"checkbox\" ><label for=\"9f9627b0-4c08-44aa-901d-87c8f402f078\" class=\"sk-toggleable__label sk-toggleable__label-arrow\">branched: FeatureUnionDataFrame</label><div class=\"sk-toggleable__content\"><pre>FeatureUnionDataFrame(transformer_list=[(&#x27;pipe_lowerspace&#x27;,\n",
       "                                         FeatureNamesPipeline(steps=[(&#x27;lower&#x27;,\n",
       "                                                                      ApplyTransformer(apply_func=&lt;function applymap at 0x7f88fab56700&gt;, func=&lt;method &#x27;lower&#x27; of &#x27;str&#x27; objects&gt;)),\n",
       "                                                                     (&#x27;space&#x27;,\n",
       "                                                                      ApplyTransformer(apply_func=&lt;function applymap at 0x7f88fab56700&gt;, func=&lt;function space_text at 0x7f88faac6790&gt;)),\n",
       "                                                                     (&#x27;last&#x27;,\n",
       "                                                                      &#x27;passthrough&#x27;)])),\n",
       "                                        (&#x27;pipe_upperfactor&#x27;,\n",
       "                                         FeatureNamesPipeline(steps=[(&#x27;upper&#x27;,\n",
       "                                                                      ApplyTransformer(apply_func=&lt;function applymap at 0x7f88fab56700&gt;, func=&lt;method &#x27;upper&#x27; of &#x27;str&#x27; objects&gt;)),\n",
       "                                                                     (&#x27;factor&#x27;,\n",
       "                                                                      ApplyTransformer(apply_func=&lt;function applymap at 0x7f88fab56700&gt;, func=&lt;function repeat_factor at 0x7f88fa9a2e50&gt;)),\n",
       "                                                                     (&#x27;last&#x27;,\n",
       "                                                                      &#x27;passthrough&#x27;)]))])</pre></div></div></div><div class=\"sk-parallel\"><div class=\"sk-parallel-item\"><div class=\"sk-item\"><div class=\"sk-label-container\"><div class=\"sk-label sk-toggleable\"><label>pipe_lowerspace</label></div></div><div class=\"sk-serial\"><div class=\"sk-item\"><div class=\"sk-serial\"><div class=\"sk-item\"><div class=\"sk-estimator sk-toggleable\"><input class=\"sk-toggleable__control sk-hidden--visually\" id=\"781d28d3-b3f9-4f83-92d7-dec42167f3ff\" type=\"checkbox\" ><label for=\"781d28d3-b3f9-4f83-92d7-dec42167f3ff\" class=\"sk-toggleable__label sk-toggleable__label-arrow\">ApplyTransformer</label><div class=\"sk-toggleable__content\"><pre>ApplyTransformer(apply_func=applymap, func=lower)</pre></div></div></div><div class=\"sk-item\"><div class=\"sk-estimator sk-toggleable\"><input class=\"sk-toggleable__control sk-hidden--visually\" id=\"380f23eb-558f-44e2-b1f0-86202b5626ad\" type=\"checkbox\" ><label for=\"380f23eb-558f-44e2-b1f0-86202b5626ad\" class=\"sk-toggleable__label sk-toggleable__label-arrow\">ApplyTransformer</label><div class=\"sk-toggleable__content\"><pre>ApplyTransformer(apply_func=applymap, func=space_text)</pre></div></div></div><div class=\"sk-item\"><div class=\"sk-estimator sk-toggleable\"><input class=\"sk-toggleable__control sk-hidden--visually\" id=\"70f4d4a6-0b6e-487c-998a-272deb46714a\" type=\"checkbox\" ><label for=\"70f4d4a6-0b6e-487c-998a-272deb46714a\" class=\"sk-toggleable__label sk-toggleable__label-arrow\">passthrough</label><div class=\"sk-toggleable__content\"><pre>passthrough</pre></div></div></div></div></div></div></div></div><div class=\"sk-parallel-item\"><div class=\"sk-item\"><div class=\"sk-label-container\"><div class=\"sk-label sk-toggleable\"><label>pipe_upperfactor</label></div></div><div class=\"sk-serial\"><div class=\"sk-item\"><div class=\"sk-serial\"><div class=\"sk-item\"><div class=\"sk-estimator sk-toggleable\"><input class=\"sk-toggleable__control sk-hidden--visually\" id=\"30ab14e5-07f0-423a-8f57-d46c5c4c01c5\" type=\"checkbox\" ><label for=\"30ab14e5-07f0-423a-8f57-d46c5c4c01c5\" class=\"sk-toggleable__label sk-toggleable__label-arrow\">ApplyTransformer</label><div class=\"sk-toggleable__content\"><pre>ApplyTransformer(apply_func=applymap, func=upper)</pre></div></div></div><div class=\"sk-item\"><div class=\"sk-estimator sk-toggleable\"><input class=\"sk-toggleable__control sk-hidden--visually\" id=\"d8b2ce9e-9d7c-4e25-a5aa-b54497eb2a7c\" type=\"checkbox\" ><label for=\"d8b2ce9e-9d7c-4e25-a5aa-b54497eb2a7c\" class=\"sk-toggleable__label sk-toggleable__label-arrow\">ApplyTransformer</label><div class=\"sk-toggleable__content\"><pre>ApplyTransformer(apply_func=applymap, func=repeat_factor)</pre></div></div></div><div class=\"sk-item\"><div class=\"sk-estimator sk-toggleable\"><input class=\"sk-toggleable__control sk-hidden--visually\" id=\"4c008a91-d77d-4962-a361-d437a1a0e3ed\" type=\"checkbox\" ><label for=\"4c008a91-d77d-4962-a361-d437a1a0e3ed\" class=\"sk-toggleable__label sk-toggleable__label-arrow\">passthrough</label><div class=\"sk-toggleable__content\"><pre>passthrough</pre></div></div></div></div></div></div></div></div></div></div><div class=\"sk-item sk-dashed-wrapped\"><div class=\"sk-label-container\"><div class=\"sk-label sk-toggleable\"><input class=\"sk-toggleable__control sk-hidden--visually\" id=\"c5ffb954-235b-4ccb-b6b3-cc12e924953e\" type=\"checkbox\" ><label for=\"c5ffb954-235b-4ccb-b6b3-cc12e924953e\" class=\"sk-toggleable__label sk-toggleable__label-arrow\">columntx: ColumnTransformerDataFrame</label><div class=\"sk-toggleable__content\"><pre>ColumnTransformerDataFrame(remainder=&#x27;passthrough&#x27;,\n",
       "                           transformers=[(&#x27;subpipe&#x27;,\n",
       "                                          FeatureNamesPipeline(steps=[(&#x27;spacer&#x27;,\n",
       "                                                                       ApplyTransformer(apply_func=&lt;function applymap at 0x7f88fab56700&gt;, func=&lt;function space_text at 0x7f88faac6790&gt;)),\n",
       "                                                                      (&#x27;agg&#x27;,\n",
       "                                                                       ApplyTransformer(apply_func=&lt;function try_member_func at 0x7f88fab568b0&gt;, func=&#x27;agg&#x27;))]),\n",
       "                                          [&#x27;pipe_lowerspace__first_name&#x27;,\n",
       "                                           &#x27;pipe_upperfactor__first_name&#x27;]),\n",
       "                                         (&#x27;prepends&#x27;,\n",
       "                                          ApplyTransformer(apply_func=&lt;function applymap at 0x7f88fab56700&gt;, func=&lt;function prepend_text at 0x7f88faac6ca0&gt;),\n",
       "                                          [&#x27;pipe_lowerspace__last_name&#x27;,\n",
       "                                           &#x27;pipe_upperfactor__last_name&#x27;,\n",
       "                                           &#x27;pipe_lowerspace__first_name&#x27;])])</pre></div></div></div><div class=\"sk-parallel\"><div class=\"sk-parallel-item\"><div class=\"sk-item\"><div class=\"sk-label-container\"><div class=\"sk-label sk-toggleable\"><input class=\"sk-toggleable__control sk-hidden--visually\" id=\"e9fbe674-4aae-43e5-b67f-b908cb8cb962\" type=\"checkbox\" ><label for=\"e9fbe674-4aae-43e5-b67f-b908cb8cb962\" class=\"sk-toggleable__label sk-toggleable__label-arrow\">subpipe</label><div class=\"sk-toggleable__content\"><pre>[&#x27;pipe_lowerspace__first_name&#x27;, &#x27;pipe_upperfactor__first_name&#x27;]</pre></div></div></div><div class=\"sk-serial\"><div class=\"sk-item\"><div class=\"sk-serial\"><div class=\"sk-item\"><div class=\"sk-estimator sk-toggleable\"><input class=\"sk-toggleable__control sk-hidden--visually\" id=\"5abc5dac-5c03-4321-a372-d719c3e1e455\" type=\"checkbox\" ><label for=\"5abc5dac-5c03-4321-a372-d719c3e1e455\" class=\"sk-toggleable__label sk-toggleable__label-arrow\">ApplyTransformer</label><div class=\"sk-toggleable__content\"><pre>ApplyTransformer(apply_func=applymap, func=space_text)</pre></div></div></div><div class=\"sk-item\"><div class=\"sk-estimator sk-toggleable\"><input class=\"sk-toggleable__control sk-hidden--visually\" id=\"08a7517a-312d-4b29-bf60-cbef9a3f02d0\" type=\"checkbox\" ><label for=\"08a7517a-312d-4b29-bf60-cbef9a3f02d0\" class=\"sk-toggleable__label sk-toggleable__label-arrow\">ApplyTransformer</label><div class=\"sk-toggleable__content\"><pre>ApplyTransformer(apply_func=try_member_func, func=agg)</pre></div></div></div></div></div></div></div></div><div class=\"sk-parallel-item\"><div class=\"sk-item\"><div class=\"sk-label-container\"><div class=\"sk-label sk-toggleable\"><input class=\"sk-toggleable__control sk-hidden--visually\" id=\"e6e1163b-f36a-4955-88d2-172235d1ac39\" type=\"checkbox\" ><label for=\"e6e1163b-f36a-4955-88d2-172235d1ac39\" class=\"sk-toggleable__label sk-toggleable__label-arrow\">prepends</label><div class=\"sk-toggleable__content\"><pre>[&#x27;pipe_lowerspace__last_name&#x27;, &#x27;pipe_upperfactor__last_name&#x27;, &#x27;pipe_lowerspace__first_name&#x27;]</pre></div></div></div><div class=\"sk-serial\"><div class=\"sk-item\"><div class=\"sk-estimator sk-toggleable\"><input class=\"sk-toggleable__control sk-hidden--visually\" id=\"3f0ec1f4-f470-4edb-b2ab-41f98f3ebe52\" type=\"checkbox\" ><label for=\"3f0ec1f4-f470-4edb-b2ab-41f98f3ebe52\" class=\"sk-toggleable__label sk-toggleable__label-arrow\">ApplyTransformer</label><div class=\"sk-toggleable__content\"><pre>ApplyTransformer(apply_func=applymap, func=prepend_text)</pre></div></div></div></div></div></div><div class=\"sk-parallel-item\"><div class=\"sk-item\"><div class=\"sk-label-container\"><div class=\"sk-label sk-toggleable\"><input class=\"sk-toggleable__control sk-hidden--visually\" id=\"ebe4703c-457a-45b9-ad5a-5d4876e1fe18\" type=\"checkbox\" ><label for=\"ebe4703c-457a-45b9-ad5a-5d4876e1fe18\" class=\"sk-toggleable__label sk-toggleable__label-arrow\">remainder</label><div class=\"sk-toggleable__content\"><pre></pre></div></div></div><div class=\"sk-serial\"><div class=\"sk-item\"><div class=\"sk-estimator sk-toggleable\"><input class=\"sk-toggleable__control sk-hidden--visually\" id=\"5e27d456-7270-4e0e-9844-4a67d819c31c\" type=\"checkbox\" ><label for=\"5e27d456-7270-4e0e-9844-4a67d819c31c\" class=\"sk-toggleable__label sk-toggleable__label-arrow\">passthrough</label><div class=\"sk-toggleable__content\"><pre>passthrough</pre></div></div></div></div></div></div></div></div><div class=\"sk-item\"><div class=\"sk-estimator sk-toggleable\"><input class=\"sk-toggleable__control sk-hidden--visually\" id=\"6ef8253b-2402-420f-b05b-8a10decd777d\" type=\"checkbox\" ><label for=\"6ef8253b-2402-420f-b05b-8a10decd777d\" class=\"sk-toggleable__label sk-toggleable__label-arrow\">passthrough</label><div class=\"sk-toggleable__content\"><pre>passthrough</pre></div></div></div></div></div></div></div>"
      ],
      "text/plain": [
       "Pipeline(steps=[('reverse',\n",
       "                 ApplyTransformer(apply_func=<function applymap at 0x7f88fab56700>, func=<function reverse_text at 0x7f88fa9a29d0>)),\n",
       "                ('branched',\n",
       "                 FeatureUnionDataFrame(transformer_list=[('pipe_lowerspace',\n",
       "                                                          FeatureNamesPipeline(steps=[('lower',\n",
       "                                                                                       ApplyTransformer(apply_func=<function applymap at 0x7f88fab56700>, func=<method 'lower' of 'str' objects>)),\n",
       "                                                                                      ('spac...\n",
       "                                                                                        ApplyTransformer(apply_func=<function try_member_func at 0x7f88fab568b0>, func='agg'))]),\n",
       "                                                           ['pipe_lowerspace__first_name',\n",
       "                                                            'pipe_upperfactor__first_name']),\n",
       "                                                          ('prepends',\n",
       "                                                           ApplyTransformer(apply_func=<function applymap at 0x7f88fab56700>, func=<function prepend_text at 0x7f88faac6ca0>),\n",
       "                                                           ['pipe_lowerspace__last_name',\n",
       "                                                            'pipe_upperfactor__last_name',\n",
       "                                                            'pipe_lowerspace__first_name'])])),\n",
       "                ('last', 'passthrough')])"
      ]
     },
     "execution_count": 47,
     "metadata": {},
     "output_type": "execute_result"
    }
   ],
   "source": [
    "# Reset our Transformers. Above, we specified filtering keys that are not used below.\n",
    "prepend_tx = ApplyTransformer(applymap, prepend_text)\n",
    "reverse_tx = ApplyTransformer(applymap, reverse_text)\n",
    "lowercase_tx = ApplyTransformer(applymap, str.lower)\n",
    "uppercase_tx = ApplyTransformer(applymap, str.upper)\n",
    "spacer_tx = ApplyTransformer(applymap, space_text)\n",
    "factor_tx = ApplyTransformer(applymap, repeat_factor)\n",
    "agg_tx = ApplyTransformer(\n",
    "    try_member_func, \n",
    "    'agg', \n",
    "    feature_names_out=['first_len', 'first_lensquared', 'last_len', 'last_lensquared'],\n",
    "    fkwargs=dict(\n",
    "        fkwargs=(dict(func=[len, len_squared]))\n",
    "    )\n",
    ")\n",
    "\n",
    "pipe_lowerspace = FeatureNamesPipeline(\n",
    "    [\n",
    "        ('lower', lowercase_tx), \n",
    "        ('space', spacer_tx), \n",
    "        ('last', 'passthrough')\n",
    "    ]\n",
    ")\n",
    "\n",
    "pipe_upperfactor = FeatureNamesPipeline(\n",
    "    [\n",
    "        ('upper', uppercase_tx), \n",
    "        ('factor', factor_tx), \n",
    "        ('last', 'passthrough')\n",
    "    ]\n",
    ")\n",
    "\n",
    "fu_tx = FeatureUnionDataFrame(\n",
    "    [\n",
    "        ('pipe_lowerspace', pipe_lowerspace), \n",
    "        ('pipe_upperfactor', pipe_upperfactor)\n",
    "    ]\n",
    ")\n",
    "\n",
    "subpipe = FeatureNamesPipeline(\n",
    "    [\n",
    "        ('spacer', spacer_tx),\n",
    "        ('agg', agg_tx)\n",
    "    ]\n",
    ")\n",
    "\n",
    "col_tx = ColumnTransformerDataFrame(\n",
    "    [\n",
    "        ('subpipe', subpipe,\n",
    "         [\n",
    "             'pipe_lowerspace__first_name', \n",
    "             'pipe_upperfactor__first_name'\n",
    "         ]\n",
    "        ),\n",
    "        ('prepends', prepend_tx, \n",
    "         [\n",
    "             'pipe_lowerspace__last_name',\n",
    "             'pipe_upperfactor__last_name',\n",
    "             'pipe_lowerspace__first_name'\n",
    "         ]\n",
    "        )\n",
    "    ],\n",
    "    remainder='passthrough'\n",
    ")\n",
    "\n",
    "pipe_tx = Pipeline(\n",
    "    [\n",
    "        ('reverse', reverse_tx), \n",
    "        ('branched', fu_tx),\n",
    "        ('columntx', col_tx),\n",
    "        ('last', 'passthrough')\n",
    "    ]\n",
    ")\n",
    "\n",
    "pipe_tx"
   ]
  },
  {
   "cell_type": "markdown",
   "id": "6039deaf",
   "metadata": {},
   "source": [
    "Let's execute it. (This results in an error addressed below.)"
   ]
  },
  {
   "cell_type": "code",
   "execution_count": 48,
   "id": "8880d7b3",
   "metadata": {},
   "outputs": [
    {
     "ename": "NotFittedError",
     "evalue": "This ColumnTransformerDataFrame instance is not fitted yet. Call 'fit' with appropriate arguments before using this estimator.",
     "output_type": "error",
     "traceback": [
      "\u001b[0;31m---------------------------------------------------------------------------\u001b[0m",
      "\u001b[0;31mNotFittedError\u001b[0m                            Traceback (most recent call last)",
      "\u001b[0;32m<ipython-input-48-f23107899152>\u001b[0m in \u001b[0;36m<module>\u001b[0;34m\u001b[0m\n\u001b[0;32m----> 1\u001b[0;31m \u001b[0mpipe_tx\u001b[0m\u001b[0;34m.\u001b[0m\u001b[0mtransform\u001b[0m\u001b[0;34m(\u001b[0m\u001b[0mdf\u001b[0m\u001b[0;34m[\u001b[0m\u001b[0;34m[\u001b[0m\u001b[0;34m'first_name'\u001b[0m\u001b[0;34m,\u001b[0m \u001b[0;34m'last_name'\u001b[0m\u001b[0;34m]\u001b[0m\u001b[0;34m]\u001b[0m\u001b[0;34m)\u001b[0m\u001b[0;34m\u001b[0m\u001b[0;34m\u001b[0m\u001b[0m\n\u001b[0m",
      "\u001b[0;32m~/SageMaker/tom/.custom-miniconda/miniconda/envs/Python3.8/lib/python3.8/site-packages/sklearn/utils/metaestimators.py\u001b[0m in \u001b[0;36m<lambda>\u001b[0;34m(*args, **kwargs)\u001b[0m\n\u001b[1;32m    111\u001b[0m \u001b[0;34m\u001b[0m\u001b[0m\n\u001b[1;32m    112\u001b[0m             \u001b[0;31m# lambda, but not partial, allows help() to work with update_wrapper\u001b[0m\u001b[0;34m\u001b[0m\u001b[0;34m\u001b[0m\u001b[0;34m\u001b[0m\u001b[0m\n\u001b[0;32m--> 113\u001b[0;31m             \u001b[0mout\u001b[0m \u001b[0;34m=\u001b[0m \u001b[0;32mlambda\u001b[0m \u001b[0;34m*\u001b[0m\u001b[0margs\u001b[0m\u001b[0;34m,\u001b[0m \u001b[0;34m**\u001b[0m\u001b[0mkwargs\u001b[0m\u001b[0;34m:\u001b[0m \u001b[0mself\u001b[0m\u001b[0;34m.\u001b[0m\u001b[0mfn\u001b[0m\u001b[0;34m(\u001b[0m\u001b[0mobj\u001b[0m\u001b[0;34m,\u001b[0m \u001b[0;34m*\u001b[0m\u001b[0margs\u001b[0m\u001b[0;34m,\u001b[0m \u001b[0;34m**\u001b[0m\u001b[0mkwargs\u001b[0m\u001b[0;34m)\u001b[0m  \u001b[0;31m# noqa\u001b[0m\u001b[0;34m\u001b[0m\u001b[0;34m\u001b[0m\u001b[0m\n\u001b[0m\u001b[1;32m    114\u001b[0m         \u001b[0;32melse\u001b[0m\u001b[0;34m:\u001b[0m\u001b[0;34m\u001b[0m\u001b[0;34m\u001b[0m\u001b[0m\n\u001b[1;32m    115\u001b[0m \u001b[0;34m\u001b[0m\u001b[0m\n",
      "\u001b[0;32m~/SageMaker/tom/.custom-miniconda/miniconda/envs/Python3.8/lib/python3.8/site-packages/sklearn/pipeline.py\u001b[0m in \u001b[0;36mtransform\u001b[0;34m(self, X)\u001b[0m\n\u001b[1;32m    645\u001b[0m         \u001b[0mXt\u001b[0m \u001b[0;34m=\u001b[0m \u001b[0mX\u001b[0m\u001b[0;34m\u001b[0m\u001b[0;34m\u001b[0m\u001b[0m\n\u001b[1;32m    646\u001b[0m         \u001b[0;32mfor\u001b[0m \u001b[0m_\u001b[0m\u001b[0;34m,\u001b[0m \u001b[0m_\u001b[0m\u001b[0;34m,\u001b[0m \u001b[0mtransform\u001b[0m \u001b[0;32min\u001b[0m \u001b[0mself\u001b[0m\u001b[0;34m.\u001b[0m\u001b[0m_iter\u001b[0m\u001b[0;34m(\u001b[0m\u001b[0;34m)\u001b[0m\u001b[0;34m:\u001b[0m\u001b[0;34m\u001b[0m\u001b[0;34m\u001b[0m\u001b[0m\n\u001b[0;32m--> 647\u001b[0;31m             \u001b[0mXt\u001b[0m \u001b[0;34m=\u001b[0m \u001b[0mtransform\u001b[0m\u001b[0;34m.\u001b[0m\u001b[0mtransform\u001b[0m\u001b[0;34m(\u001b[0m\u001b[0mXt\u001b[0m\u001b[0;34m)\u001b[0m\u001b[0;34m\u001b[0m\u001b[0;34m\u001b[0m\u001b[0m\n\u001b[0m\u001b[1;32m    648\u001b[0m         \u001b[0;32mreturn\u001b[0m \u001b[0mXt\u001b[0m\u001b[0;34m\u001b[0m\u001b[0;34m\u001b[0m\u001b[0m\n\u001b[1;32m    649\u001b[0m \u001b[0;34m\u001b[0m\u001b[0m\n",
      "\u001b[0;32m~/SageMaker/tom/dhi-match-datascience/src/dhi-dsmatch/dhi/dsmatch/sklearnmodeling/models/mixins.py\u001b[0m in \u001b[0;36mtransform\u001b[0;34m(self, X)\u001b[0m\n\u001b[1;32m    159\u001b[0m \u001b[0;34m\u001b[0m\u001b[0m\n\u001b[1;32m    160\u001b[0m     \u001b[0;32mdef\u001b[0m \u001b[0mtransform\u001b[0m\u001b[0;34m(\u001b[0m\u001b[0mself\u001b[0m\u001b[0;34m,\u001b[0m \u001b[0mX\u001b[0m\u001b[0;34m)\u001b[0m\u001b[0;34m:\u001b[0m\u001b[0;34m\u001b[0m\u001b[0;34m\u001b[0m\u001b[0m\n\u001b[0;32m--> 161\u001b[0;31m         \u001b[0mXt\u001b[0m \u001b[0;34m=\u001b[0m \u001b[0msuper\u001b[0m\u001b[0;34m(\u001b[0m\u001b[0;34m)\u001b[0m\u001b[0;34m.\u001b[0m\u001b[0mtransform\u001b[0m\u001b[0;34m(\u001b[0m\u001b[0mX\u001b[0m\u001b[0;34m)\u001b[0m\u001b[0;34m\u001b[0m\u001b[0;34m\u001b[0m\u001b[0m\n\u001b[0m\u001b[1;32m    162\u001b[0m         \u001b[0;32mreturn\u001b[0m \u001b[0mself\u001b[0m\u001b[0;34m.\u001b[0m\u001b[0m_post_process\u001b[0m\u001b[0;34m(\u001b[0m\u001b[0mXt\u001b[0m\u001b[0;34m)\u001b[0m\u001b[0;34m\u001b[0m\u001b[0;34m\u001b[0m\u001b[0m\n\u001b[1;32m    163\u001b[0m \u001b[0;34m\u001b[0m\u001b[0m\n",
      "\u001b[0;32m~/SageMaker/tom/.custom-miniconda/miniconda/envs/Python3.8/lib/python3.8/site-packages/sklearn/compose/_column_transformer.py\u001b[0m in \u001b[0;36mtransform\u001b[0;34m(self, X)\u001b[0m\n\u001b[1;32m    716\u001b[0m             \u001b[0msparse\u001b[0m \u001b[0mmatrices\u001b[0m\u001b[0;34m.\u001b[0m\u001b[0;34m\u001b[0m\u001b[0;34m\u001b[0m\u001b[0m\n\u001b[1;32m    717\u001b[0m         \"\"\"\n\u001b[0;32m--> 718\u001b[0;31m         \u001b[0mcheck_is_fitted\u001b[0m\u001b[0;34m(\u001b[0m\u001b[0mself\u001b[0m\u001b[0;34m)\u001b[0m\u001b[0;34m\u001b[0m\u001b[0;34m\u001b[0m\u001b[0m\n\u001b[0m\u001b[1;32m    719\u001b[0m         \u001b[0mX\u001b[0m \u001b[0;34m=\u001b[0m \u001b[0m_check_X\u001b[0m\u001b[0;34m(\u001b[0m\u001b[0mX\u001b[0m\u001b[0;34m)\u001b[0m\u001b[0;34m\u001b[0m\u001b[0;34m\u001b[0m\u001b[0m\n\u001b[1;32m    720\u001b[0m \u001b[0;34m\u001b[0m\u001b[0m\n",
      "\u001b[0;32m~/SageMaker/tom/.custom-miniconda/miniconda/envs/Python3.8/lib/python3.8/site-packages/sklearn/utils/validation.py\u001b[0m in \u001b[0;36mcheck_is_fitted\u001b[0;34m(estimator, attributes, msg, all_or_any)\u001b[0m\n\u001b[1;32m   1220\u001b[0m \u001b[0;34m\u001b[0m\u001b[0m\n\u001b[1;32m   1221\u001b[0m     \u001b[0;32mif\u001b[0m \u001b[0;32mnot\u001b[0m \u001b[0mfitted\u001b[0m\u001b[0;34m:\u001b[0m\u001b[0;34m\u001b[0m\u001b[0;34m\u001b[0m\u001b[0m\n\u001b[0;32m-> 1222\u001b[0;31m         \u001b[0;32mraise\u001b[0m \u001b[0mNotFittedError\u001b[0m\u001b[0;34m(\u001b[0m\u001b[0mmsg\u001b[0m \u001b[0;34m%\u001b[0m \u001b[0;34m{\u001b[0m\u001b[0;34m\"name\"\u001b[0m\u001b[0;34m:\u001b[0m \u001b[0mtype\u001b[0m\u001b[0;34m(\u001b[0m\u001b[0mestimator\u001b[0m\u001b[0;34m)\u001b[0m\u001b[0;34m.\u001b[0m\u001b[0m__name__\u001b[0m\u001b[0;34m}\u001b[0m\u001b[0;34m)\u001b[0m\u001b[0;34m\u001b[0m\u001b[0;34m\u001b[0m\u001b[0m\n\u001b[0m\u001b[1;32m   1223\u001b[0m \u001b[0;34m\u001b[0m\u001b[0m\n\u001b[1;32m   1224\u001b[0m \u001b[0;34m\u001b[0m\u001b[0m\n",
      "\u001b[0;31mNotFittedError\u001b[0m: This ColumnTransformerDataFrame instance is not fitted yet. Call 'fit' with appropriate arguments before using this estimator."
     ]
    }
   ],
   "source": [
    "pipe_tx.transform(df[['first_name', 'last_name']])"
   ]
  },
  {
   "cell_type": "markdown",
   "id": "d5c2dd20",
   "metadata": {},
   "source": [
    "### Be sure to `fit()` or `fit_transform()` when using the ColumnTransformer.\n",
    "\n",
    "To avoid the error above, we have to call `fit()` or `fit_transform()` on the model."
   ]
  },
  {
   "cell_type": "code",
   "execution_count": 49,
   "id": "3d916581",
   "metadata": {},
   "outputs": [
    {
     "data": {
      "text/html": [
       "<style>#sk-8a1e3009-9a2f-4887-9fbf-c9fb76a62c8d {color: black;background-color: white;}#sk-8a1e3009-9a2f-4887-9fbf-c9fb76a62c8d pre{padding: 0;}#sk-8a1e3009-9a2f-4887-9fbf-c9fb76a62c8d div.sk-toggleable {background-color: white;}#sk-8a1e3009-9a2f-4887-9fbf-c9fb76a62c8d label.sk-toggleable__label {cursor: pointer;display: block;width: 100%;margin-bottom: 0;padding: 0.3em;box-sizing: border-box;text-align: center;}#sk-8a1e3009-9a2f-4887-9fbf-c9fb76a62c8d label.sk-toggleable__label-arrow:before {content: \"▸\";float: left;margin-right: 0.25em;color: #696969;}#sk-8a1e3009-9a2f-4887-9fbf-c9fb76a62c8d label.sk-toggleable__label-arrow:hover:before {color: black;}#sk-8a1e3009-9a2f-4887-9fbf-c9fb76a62c8d div.sk-estimator:hover label.sk-toggleable__label-arrow:before {color: black;}#sk-8a1e3009-9a2f-4887-9fbf-c9fb76a62c8d div.sk-toggleable__content {max-height: 0;max-width: 0;overflow: hidden;text-align: left;background-color: #f0f8ff;}#sk-8a1e3009-9a2f-4887-9fbf-c9fb76a62c8d div.sk-toggleable__content pre {margin: 0.2em;color: black;border-radius: 0.25em;background-color: #f0f8ff;}#sk-8a1e3009-9a2f-4887-9fbf-c9fb76a62c8d input.sk-toggleable__control:checked~div.sk-toggleable__content {max-height: 200px;max-width: 100%;overflow: auto;}#sk-8a1e3009-9a2f-4887-9fbf-c9fb76a62c8d input.sk-toggleable__control:checked~label.sk-toggleable__label-arrow:before {content: \"▾\";}#sk-8a1e3009-9a2f-4887-9fbf-c9fb76a62c8d div.sk-estimator input.sk-toggleable__control:checked~label.sk-toggleable__label {background-color: #d4ebff;}#sk-8a1e3009-9a2f-4887-9fbf-c9fb76a62c8d div.sk-label input.sk-toggleable__control:checked~label.sk-toggleable__label {background-color: #d4ebff;}#sk-8a1e3009-9a2f-4887-9fbf-c9fb76a62c8d input.sk-hidden--visually {border: 0;clip: rect(1px 1px 1px 1px);clip: rect(1px, 1px, 1px, 1px);height: 1px;margin: -1px;overflow: hidden;padding: 0;position: absolute;width: 1px;}#sk-8a1e3009-9a2f-4887-9fbf-c9fb76a62c8d div.sk-estimator {font-family: monospace;background-color: #f0f8ff;border: 1px dotted black;border-radius: 0.25em;box-sizing: border-box;margin-bottom: 0.5em;}#sk-8a1e3009-9a2f-4887-9fbf-c9fb76a62c8d div.sk-estimator:hover {background-color: #d4ebff;}#sk-8a1e3009-9a2f-4887-9fbf-c9fb76a62c8d div.sk-parallel-item::after {content: \"\";width: 100%;border-bottom: 1px solid gray;flex-grow: 1;}#sk-8a1e3009-9a2f-4887-9fbf-c9fb76a62c8d div.sk-label:hover label.sk-toggleable__label {background-color: #d4ebff;}#sk-8a1e3009-9a2f-4887-9fbf-c9fb76a62c8d div.sk-serial::before {content: \"\";position: absolute;border-left: 1px solid gray;box-sizing: border-box;top: 2em;bottom: 0;left: 50%;}#sk-8a1e3009-9a2f-4887-9fbf-c9fb76a62c8d div.sk-serial {display: flex;flex-direction: column;align-items: center;background-color: white;padding-right: 0.2em;padding-left: 0.2em;}#sk-8a1e3009-9a2f-4887-9fbf-c9fb76a62c8d div.sk-item {z-index: 1;}#sk-8a1e3009-9a2f-4887-9fbf-c9fb76a62c8d div.sk-parallel {display: flex;align-items: stretch;justify-content: center;background-color: white;}#sk-8a1e3009-9a2f-4887-9fbf-c9fb76a62c8d div.sk-parallel::before {content: \"\";position: absolute;border-left: 1px solid gray;box-sizing: border-box;top: 2em;bottom: 0;left: 50%;}#sk-8a1e3009-9a2f-4887-9fbf-c9fb76a62c8d div.sk-parallel-item {display: flex;flex-direction: column;position: relative;background-color: white;}#sk-8a1e3009-9a2f-4887-9fbf-c9fb76a62c8d div.sk-parallel-item:first-child::after {align-self: flex-end;width: 50%;}#sk-8a1e3009-9a2f-4887-9fbf-c9fb76a62c8d div.sk-parallel-item:last-child::after {align-self: flex-start;width: 50%;}#sk-8a1e3009-9a2f-4887-9fbf-c9fb76a62c8d div.sk-parallel-item:only-child::after {width: 0;}#sk-8a1e3009-9a2f-4887-9fbf-c9fb76a62c8d div.sk-dashed-wrapped {border: 1px dashed gray;margin: 0 0.4em 0.5em 0.4em;box-sizing: border-box;padding-bottom: 0.4em;background-color: white;position: relative;}#sk-8a1e3009-9a2f-4887-9fbf-c9fb76a62c8d div.sk-label label {font-family: monospace;font-weight: bold;background-color: white;display: inline-block;line-height: 1.2em;}#sk-8a1e3009-9a2f-4887-9fbf-c9fb76a62c8d div.sk-label-container {position: relative;z-index: 2;text-align: center;}#sk-8a1e3009-9a2f-4887-9fbf-c9fb76a62c8d div.sk-container {/* jupyter's `normalize.less` sets `[hidden] { display: none; }` but bootstrap.min.css set `[hidden] { display: none !important; }` so we also need the `!important` here to be able to override the default hidden behavior on the sphinx rendered scikit-learn.org. See: https://github.com/scikit-learn/scikit-learn/issues/21755 */display: inline-block !important;position: relative;}#sk-8a1e3009-9a2f-4887-9fbf-c9fb76a62c8d div.sk-text-repr-fallback {display: none;}</style><div id=\"sk-8a1e3009-9a2f-4887-9fbf-c9fb76a62c8d\" class=\"sk-top-container\"><div class=\"sk-text-repr-fallback\"><pre>Pipeline(steps=[(&#x27;reverse&#x27;,\n",
       "                 ApplyTransformer(apply_func=&lt;function applymap at 0x7f88fab56700&gt;, func=&lt;function reverse_text at 0x7f88fa9a29d0&gt;)),\n",
       "                (&#x27;branched&#x27;,\n",
       "                 FeatureUnionDataFrame(transformer_list=[(&#x27;pipe_lowerspace&#x27;,\n",
       "                                                          FeatureNamesPipeline(steps=[(&#x27;lower&#x27;,\n",
       "                                                                                       ApplyTransformer(apply_func=&lt;function applymap at 0x7f88fab56700&gt;, func=&lt;method &#x27;lower&#x27; of &#x27;str&#x27; objects&gt;)),\n",
       "                                                                                      (&#x27;spac...\n",
       "                                                                                        ApplyTransformer(apply_func=&lt;function try_member_func at 0x7f88fab568b0&gt;, func=&#x27;agg&#x27;))]),\n",
       "                                                           [&#x27;pipe_lowerspace__first_name&#x27;,\n",
       "                                                            &#x27;pipe_upperfactor__first_name&#x27;]),\n",
       "                                                          (&#x27;prepends&#x27;,\n",
       "                                                           ApplyTransformer(apply_func=&lt;function applymap at 0x7f88fab56700&gt;, func=&lt;function prepend_text at 0x7f88faac6ca0&gt;),\n",
       "                                                           [&#x27;pipe_lowerspace__last_name&#x27;,\n",
       "                                                            &#x27;pipe_upperfactor__last_name&#x27;,\n",
       "                                                            &#x27;pipe_lowerspace__first_name&#x27;])])),\n",
       "                (&#x27;last&#x27;, &#x27;passthrough&#x27;)])</pre><b>Please rerun this cell to show the HTML repr or trust the notebook.</b></div><div class=\"sk-container\" hidden><div class=\"sk-item sk-dashed-wrapped\"><div class=\"sk-label-container\"><div class=\"sk-label sk-toggleable\"><input class=\"sk-toggleable__control sk-hidden--visually\" id=\"d1b1c809-bc59-4318-bcb0-285b77db2e5d\" type=\"checkbox\" ><label for=\"d1b1c809-bc59-4318-bcb0-285b77db2e5d\" class=\"sk-toggleable__label sk-toggleable__label-arrow\">Pipeline</label><div class=\"sk-toggleable__content\"><pre>Pipeline(steps=[(&#x27;reverse&#x27;,\n",
       "                 ApplyTransformer(apply_func=&lt;function applymap at 0x7f88fab56700&gt;, func=&lt;function reverse_text at 0x7f88fa9a29d0&gt;)),\n",
       "                (&#x27;branched&#x27;,\n",
       "                 FeatureUnionDataFrame(transformer_list=[(&#x27;pipe_lowerspace&#x27;,\n",
       "                                                          FeatureNamesPipeline(steps=[(&#x27;lower&#x27;,\n",
       "                                                                                       ApplyTransformer(apply_func=&lt;function applymap at 0x7f88fab56700&gt;, func=&lt;method &#x27;lower&#x27; of &#x27;str&#x27; objects&gt;)),\n",
       "                                                                                      (&#x27;spac...\n",
       "                                                                                        ApplyTransformer(apply_func=&lt;function try_member_func at 0x7f88fab568b0&gt;, func=&#x27;agg&#x27;))]),\n",
       "                                                           [&#x27;pipe_lowerspace__first_name&#x27;,\n",
       "                                                            &#x27;pipe_upperfactor__first_name&#x27;]),\n",
       "                                                          (&#x27;prepends&#x27;,\n",
       "                                                           ApplyTransformer(apply_func=&lt;function applymap at 0x7f88fab56700&gt;, func=&lt;function prepend_text at 0x7f88faac6ca0&gt;),\n",
       "                                                           [&#x27;pipe_lowerspace__last_name&#x27;,\n",
       "                                                            &#x27;pipe_upperfactor__last_name&#x27;,\n",
       "                                                            &#x27;pipe_lowerspace__first_name&#x27;])])),\n",
       "                (&#x27;last&#x27;, &#x27;passthrough&#x27;)])</pre></div></div></div><div class=\"sk-serial\"><div class=\"sk-item\"><div class=\"sk-estimator sk-toggleable\"><input class=\"sk-toggleable__control sk-hidden--visually\" id=\"1d78cef0-cfbd-4e35-8750-f43611efcaf3\" type=\"checkbox\" ><label for=\"1d78cef0-cfbd-4e35-8750-f43611efcaf3\" class=\"sk-toggleable__label sk-toggleable__label-arrow\">ApplyTransformer</label><div class=\"sk-toggleable__content\"><pre>ApplyTransformer(apply_func=applymap, func=reverse_text)</pre></div></div></div><div class=\"sk-item sk-dashed-wrapped\"><div class=\"sk-label-container\"><div class=\"sk-label sk-toggleable\"><input class=\"sk-toggleable__control sk-hidden--visually\" id=\"01e05506-a4aa-4675-9552-271fcbdcdaca\" type=\"checkbox\" ><label for=\"01e05506-a4aa-4675-9552-271fcbdcdaca\" class=\"sk-toggleable__label sk-toggleable__label-arrow\">branched: FeatureUnionDataFrame</label><div class=\"sk-toggleable__content\"><pre>FeatureUnionDataFrame(transformer_list=[(&#x27;pipe_lowerspace&#x27;,\n",
       "                                         FeatureNamesPipeline(steps=[(&#x27;lower&#x27;,\n",
       "                                                                      ApplyTransformer(apply_func=&lt;function applymap at 0x7f88fab56700&gt;, func=&lt;method &#x27;lower&#x27; of &#x27;str&#x27; objects&gt;)),\n",
       "                                                                     (&#x27;space&#x27;,\n",
       "                                                                      ApplyTransformer(apply_func=&lt;function applymap at 0x7f88fab56700&gt;, func=&lt;function space_text at 0x7f88faac6790&gt;)),\n",
       "                                                                     (&#x27;last&#x27;,\n",
       "                                                                      &#x27;passthrough&#x27;)])),\n",
       "                                        (&#x27;pipe_upperfactor&#x27;,\n",
       "                                         FeatureNamesPipeline(steps=[(&#x27;upper&#x27;,\n",
       "                                                                      ApplyTransformer(apply_func=&lt;function applymap at 0x7f88fab56700&gt;, func=&lt;method &#x27;upper&#x27; of &#x27;str&#x27; objects&gt;)),\n",
       "                                                                     (&#x27;factor&#x27;,\n",
       "                                                                      ApplyTransformer(apply_func=&lt;function applymap at 0x7f88fab56700&gt;, func=&lt;function repeat_factor at 0x7f88fa9a2e50&gt;)),\n",
       "                                                                     (&#x27;last&#x27;,\n",
       "                                                                      &#x27;passthrough&#x27;)]))])</pre></div></div></div><div class=\"sk-parallel\"><div class=\"sk-parallel-item\"><div class=\"sk-item\"><div class=\"sk-label-container\"><div class=\"sk-label sk-toggleable\"><label>pipe_lowerspace</label></div></div><div class=\"sk-serial\"><div class=\"sk-item\"><div class=\"sk-serial\"><div class=\"sk-item\"><div class=\"sk-estimator sk-toggleable\"><input class=\"sk-toggleable__control sk-hidden--visually\" id=\"b20177af-5b00-447e-8bdb-6fa341ee5b45\" type=\"checkbox\" ><label for=\"b20177af-5b00-447e-8bdb-6fa341ee5b45\" class=\"sk-toggleable__label sk-toggleable__label-arrow\">ApplyTransformer</label><div class=\"sk-toggleable__content\"><pre>ApplyTransformer(apply_func=applymap, func=lower)</pre></div></div></div><div class=\"sk-item\"><div class=\"sk-estimator sk-toggleable\"><input class=\"sk-toggleable__control sk-hidden--visually\" id=\"df2feeb7-6506-4f85-9119-4188f77223d5\" type=\"checkbox\" ><label for=\"df2feeb7-6506-4f85-9119-4188f77223d5\" class=\"sk-toggleable__label sk-toggleable__label-arrow\">ApplyTransformer</label><div class=\"sk-toggleable__content\"><pre>ApplyTransformer(apply_func=applymap, func=space_text)</pre></div></div></div><div class=\"sk-item\"><div class=\"sk-estimator sk-toggleable\"><input class=\"sk-toggleable__control sk-hidden--visually\" id=\"a471eea9-9263-4980-82f0-120fb51a4b37\" type=\"checkbox\" ><label for=\"a471eea9-9263-4980-82f0-120fb51a4b37\" class=\"sk-toggleable__label sk-toggleable__label-arrow\">passthrough</label><div class=\"sk-toggleable__content\"><pre>passthrough</pre></div></div></div></div></div></div></div></div><div class=\"sk-parallel-item\"><div class=\"sk-item\"><div class=\"sk-label-container\"><div class=\"sk-label sk-toggleable\"><label>pipe_upperfactor</label></div></div><div class=\"sk-serial\"><div class=\"sk-item\"><div class=\"sk-serial\"><div class=\"sk-item\"><div class=\"sk-estimator sk-toggleable\"><input class=\"sk-toggleable__control sk-hidden--visually\" id=\"c685b774-d79e-43de-bd14-28474e49c088\" type=\"checkbox\" ><label for=\"c685b774-d79e-43de-bd14-28474e49c088\" class=\"sk-toggleable__label sk-toggleable__label-arrow\">ApplyTransformer</label><div class=\"sk-toggleable__content\"><pre>ApplyTransformer(apply_func=applymap, func=upper)</pre></div></div></div><div class=\"sk-item\"><div class=\"sk-estimator sk-toggleable\"><input class=\"sk-toggleable__control sk-hidden--visually\" id=\"34cff2d1-768f-4cde-9c7a-6b2ee8d81871\" type=\"checkbox\" ><label for=\"34cff2d1-768f-4cde-9c7a-6b2ee8d81871\" class=\"sk-toggleable__label sk-toggleable__label-arrow\">ApplyTransformer</label><div class=\"sk-toggleable__content\"><pre>ApplyTransformer(apply_func=applymap, func=repeat_factor)</pre></div></div></div><div class=\"sk-item\"><div class=\"sk-estimator sk-toggleable\"><input class=\"sk-toggleable__control sk-hidden--visually\" id=\"cb3f7918-6cc1-4133-b584-aa19b8ac823d\" type=\"checkbox\" ><label for=\"cb3f7918-6cc1-4133-b584-aa19b8ac823d\" class=\"sk-toggleable__label sk-toggleable__label-arrow\">passthrough</label><div class=\"sk-toggleable__content\"><pre>passthrough</pre></div></div></div></div></div></div></div></div></div></div><div class=\"sk-item sk-dashed-wrapped\"><div class=\"sk-label-container\"><div class=\"sk-label sk-toggleable\"><input class=\"sk-toggleable__control sk-hidden--visually\" id=\"71fcecb1-282c-465d-a42b-e4537198a6de\" type=\"checkbox\" ><label for=\"71fcecb1-282c-465d-a42b-e4537198a6de\" class=\"sk-toggleable__label sk-toggleable__label-arrow\">columntx: ColumnTransformerDataFrame</label><div class=\"sk-toggleable__content\"><pre>ColumnTransformerDataFrame(remainder=&#x27;passthrough&#x27;,\n",
       "                           transformers=[(&#x27;subpipe&#x27;,\n",
       "                                          FeatureNamesPipeline(steps=[(&#x27;spacer&#x27;,\n",
       "                                                                       ApplyTransformer(apply_func=&lt;function applymap at 0x7f88fab56700&gt;, func=&lt;function space_text at 0x7f88faac6790&gt;)),\n",
       "                                                                      (&#x27;agg&#x27;,\n",
       "                                                                       ApplyTransformer(apply_func=&lt;function try_member_func at 0x7f88fab568b0&gt;, func=&#x27;agg&#x27;))]),\n",
       "                                          [&#x27;pipe_lowerspace__first_name&#x27;,\n",
       "                                           &#x27;pipe_upperfactor__first_name&#x27;]),\n",
       "                                         (&#x27;prepends&#x27;,\n",
       "                                          ApplyTransformer(apply_func=&lt;function applymap at 0x7f88fab56700&gt;, func=&lt;function prepend_text at 0x7f88faac6ca0&gt;),\n",
       "                                          [&#x27;pipe_lowerspace__last_name&#x27;,\n",
       "                                           &#x27;pipe_upperfactor__last_name&#x27;,\n",
       "                                           &#x27;pipe_lowerspace__first_name&#x27;])])</pre></div></div></div><div class=\"sk-parallel\"><div class=\"sk-parallel-item\"><div class=\"sk-item\"><div class=\"sk-label-container\"><div class=\"sk-label sk-toggleable\"><input class=\"sk-toggleable__control sk-hidden--visually\" id=\"58d3c2a7-226c-43da-82ad-d8c5f1cad6cd\" type=\"checkbox\" ><label for=\"58d3c2a7-226c-43da-82ad-d8c5f1cad6cd\" class=\"sk-toggleable__label sk-toggleable__label-arrow\">subpipe</label><div class=\"sk-toggleable__content\"><pre>[&#x27;pipe_lowerspace__first_name&#x27;, &#x27;pipe_upperfactor__first_name&#x27;]</pre></div></div></div><div class=\"sk-serial\"><div class=\"sk-item\"><div class=\"sk-serial\"><div class=\"sk-item\"><div class=\"sk-estimator sk-toggleable\"><input class=\"sk-toggleable__control sk-hidden--visually\" id=\"a1aa3064-fb14-4eb1-9bd3-242194345d7c\" type=\"checkbox\" ><label for=\"a1aa3064-fb14-4eb1-9bd3-242194345d7c\" class=\"sk-toggleable__label sk-toggleable__label-arrow\">ApplyTransformer</label><div class=\"sk-toggleable__content\"><pre>ApplyTransformer(apply_func=applymap, func=space_text)</pre></div></div></div><div class=\"sk-item\"><div class=\"sk-estimator sk-toggleable\"><input class=\"sk-toggleable__control sk-hidden--visually\" id=\"c1af0c1e-5810-4926-9dca-1b18a7461b35\" type=\"checkbox\" ><label for=\"c1af0c1e-5810-4926-9dca-1b18a7461b35\" class=\"sk-toggleable__label sk-toggleable__label-arrow\">ApplyTransformer</label><div class=\"sk-toggleable__content\"><pre>ApplyTransformer(apply_func=try_member_func, func=agg)</pre></div></div></div></div></div></div></div></div><div class=\"sk-parallel-item\"><div class=\"sk-item\"><div class=\"sk-label-container\"><div class=\"sk-label sk-toggleable\"><input class=\"sk-toggleable__control sk-hidden--visually\" id=\"3c4d122e-d81d-4ed6-aa7b-ca7f7ae389b1\" type=\"checkbox\" ><label for=\"3c4d122e-d81d-4ed6-aa7b-ca7f7ae389b1\" class=\"sk-toggleable__label sk-toggleable__label-arrow\">prepends</label><div class=\"sk-toggleable__content\"><pre>[&#x27;pipe_lowerspace__last_name&#x27;, &#x27;pipe_upperfactor__last_name&#x27;, &#x27;pipe_lowerspace__first_name&#x27;]</pre></div></div></div><div class=\"sk-serial\"><div class=\"sk-item\"><div class=\"sk-estimator sk-toggleable\"><input class=\"sk-toggleable__control sk-hidden--visually\" id=\"e6e663fb-106b-45ac-9bad-d27cca69bc20\" type=\"checkbox\" ><label for=\"e6e663fb-106b-45ac-9bad-d27cca69bc20\" class=\"sk-toggleable__label sk-toggleable__label-arrow\">ApplyTransformer</label><div class=\"sk-toggleable__content\"><pre>ApplyTransformer(apply_func=applymap, func=prepend_text)</pre></div></div></div></div></div></div><div class=\"sk-parallel-item\"><div class=\"sk-item\"><div class=\"sk-label-container\"><div class=\"sk-label sk-toggleable\"><input class=\"sk-toggleable__control sk-hidden--visually\" id=\"392c4ff8-e42c-4118-a1e6-4738406fe82b\" type=\"checkbox\" ><label for=\"392c4ff8-e42c-4118-a1e6-4738406fe82b\" class=\"sk-toggleable__label sk-toggleable__label-arrow\">remainder</label><div class=\"sk-toggleable__content\"><pre>[]</pre></div></div></div><div class=\"sk-serial\"><div class=\"sk-item\"><div class=\"sk-estimator sk-toggleable\"><input class=\"sk-toggleable__control sk-hidden--visually\" id=\"c7726af3-c1f1-4437-850f-a12f1425e71b\" type=\"checkbox\" ><label for=\"c7726af3-c1f1-4437-850f-a12f1425e71b\" class=\"sk-toggleable__label sk-toggleable__label-arrow\">passthrough</label><div class=\"sk-toggleable__content\"><pre>passthrough</pre></div></div></div></div></div></div></div></div><div class=\"sk-item\"><div class=\"sk-estimator sk-toggleable\"><input class=\"sk-toggleable__control sk-hidden--visually\" id=\"944eb751-fa38-401d-ad62-880abfd2cf62\" type=\"checkbox\" ><label for=\"944eb751-fa38-401d-ad62-880abfd2cf62\" class=\"sk-toggleable__label sk-toggleable__label-arrow\">passthrough</label><div class=\"sk-toggleable__content\"><pre>passthrough</pre></div></div></div></div></div></div></div>"
      ],
      "text/plain": [
       "Pipeline(steps=[('reverse',\n",
       "                 ApplyTransformer(apply_func=<function applymap at 0x7f88fab56700>, func=<function reverse_text at 0x7f88fa9a29d0>)),\n",
       "                ('branched',\n",
       "                 FeatureUnionDataFrame(transformer_list=[('pipe_lowerspace',\n",
       "                                                          FeatureNamesPipeline(steps=[('lower',\n",
       "                                                                                       ApplyTransformer(apply_func=<function applymap at 0x7f88fab56700>, func=<method 'lower' of 'str' objects>)),\n",
       "                                                                                      ('spac...\n",
       "                                                                                        ApplyTransformer(apply_func=<function try_member_func at 0x7f88fab568b0>, func='agg'))]),\n",
       "                                                           ['pipe_lowerspace__first_name',\n",
       "                                                            'pipe_upperfactor__first_name']),\n",
       "                                                          ('prepends',\n",
       "                                                           ApplyTransformer(apply_func=<function applymap at 0x7f88fab56700>, func=<function prepend_text at 0x7f88faac6ca0>),\n",
       "                                                           ['pipe_lowerspace__last_name',\n",
       "                                                            'pipe_upperfactor__last_name',\n",
       "                                                            'pipe_lowerspace__first_name'])])),\n",
       "                ('last', 'passthrough')])"
      ]
     },
     "execution_count": 49,
     "metadata": {},
     "output_type": "execute_result"
    }
   ],
   "source": [
    "pipe_tx.fit(df[['first_name', 'last_name']])"
   ]
  },
  {
   "cell_type": "code",
   "execution_count": 50,
   "id": "4e341b73",
   "metadata": {},
   "outputs": [
    {
     "data": {
      "text/html": [
       "<div>\n",
       "<style scoped>\n",
       "    .dataframe tbody tr th:only-of-type {\n",
       "        vertical-align: middle;\n",
       "    }\n",
       "\n",
       "    .dataframe tbody tr th {\n",
       "        vertical-align: top;\n",
       "    }\n",
       "\n",
       "    .dataframe thead th {\n",
       "        text-align: right;\n",
       "    }\n",
       "</style>\n",
       "<table border=\"1\" class=\"dataframe\">\n",
       "  <thead>\n",
       "    <tr style=\"text-align: right;\">\n",
       "      <th></th>\n",
       "      <th>subpipe__first_len</th>\n",
       "      <th>subpipe__first_lensquared</th>\n",
       "      <th>subpipe__last_len</th>\n",
       "      <th>subpipe__last_lensquared</th>\n",
       "      <th>prepends__pipe_lowerspace__last_name</th>\n",
       "      <th>prepends__pipe_upperfactor__last_name</th>\n",
       "      <th>prepends__pipe_lowerspace__first_name</th>\n",
       "    </tr>\n",
       "  </thead>\n",
       "  <tbody>\n",
       "    <tr>\n",
       "      <th>0</th>\n",
       "      <td>13</td>\n",
       "      <td>169</td>\n",
       "      <td>23</td>\n",
       "      <td>529</td>\n",
       "      <td>PREPEND_b a n c r o f t</td>\n",
       "      <td>PREPEND_BANCROFTBANCROFTBANCROFT</td>\n",
       "      <td>PREPEND_a n n e</td>\n",
       "    </tr>\n",
       "    <tr>\n",
       "      <th>1</th>\n",
       "      <td>9</td>\n",
       "      <td>81</td>\n",
       "      <td>17</td>\n",
       "      <td>289</td>\n",
       "      <td>PREPEND_d y l a n</td>\n",
       "      <td>PREPEND_DYLANDYLANDYLAN</td>\n",
       "      <td>PREPEND_b o b</td>\n",
       "    </tr>\n",
       "    <tr>\n",
       "      <th>2</th>\n",
       "      <td>25</td>\n",
       "      <td>625</td>\n",
       "      <td>41</td>\n",
       "      <td>1681</td>\n",
       "      <td>PREPEND_c h a p l i n</td>\n",
       "      <td>PREPEND_CHAPLINCHAPLINCHAPLIN</td>\n",
       "      <td>PREPEND_c h a r l i e</td>\n",
       "    </tr>\n",
       "    <tr>\n",
       "      <th>3</th>\n",
       "      <td>9</td>\n",
       "      <td>81</td>\n",
       "      <td>17</td>\n",
       "      <td>289</td>\n",
       "      <td>PREPEND_m a r l e y</td>\n",
       "      <td>PREPEND_MARLEYMARLEYMARLEY</td>\n",
       "      <td>PREPEND_b o b</td>\n",
       "    </tr>\n",
       "  </tbody>\n",
       "</table>\n",
       "</div>"
      ],
      "text/plain": [
       "  subpipe__first_len subpipe__first_lensquared subpipe__last_len  \\\n",
       "0                 13                       169                23   \n",
       "1                  9                        81                17   \n",
       "2                 25                       625                41   \n",
       "3                  9                        81                17   \n",
       "\n",
       "  subpipe__last_lensquared prepends__pipe_lowerspace__last_name  \\\n",
       "0                      529              PREPEND_b a n c r o f t   \n",
       "1                      289                    PREPEND_d y l a n   \n",
       "2                     1681                PREPEND_c h a p l i n   \n",
       "3                      289                  PREPEND_m a r l e y   \n",
       "\n",
       "  prepends__pipe_upperfactor__last_name prepends__pipe_lowerspace__first_name  \n",
       "0      PREPEND_BANCROFTBANCROFTBANCROFT                       PREPEND_a n n e  \n",
       "1               PREPEND_DYLANDYLANDYLAN                         PREPEND_b o b  \n",
       "2         PREPEND_CHAPLINCHAPLINCHAPLIN                 PREPEND_c h a r l i e  \n",
       "3            PREPEND_MARLEYMARLEYMARLEY                         PREPEND_b o b  "
      ]
     },
     "execution_count": 50,
     "metadata": {},
     "output_type": "execute_result"
    }
   ],
   "source": [
    "pipe_tx.transform(df[['first_name', 'last_name']])"
   ]
  },
  {
   "cell_type": "markdown",
   "id": "93a31082",
   "metadata": {},
   "source": [
    "### Intermediate results again.\n",
    "\n",
    "As before, we can look at intermediate results."
   ]
  },
  {
   "cell_type": "code",
   "execution_count": 51,
   "id": "af5fa9c6",
   "metadata": {
    "scrolled": false
   },
   "outputs": [
    {
     "data": {
      "text/html": [
       "<h3>reverse</h3>"
      ],
      "text/plain": [
       "<IPython.core.display.HTML object>"
      ]
     },
     "metadata": {},
     "output_type": "display_data"
    },
    {
     "data": {
      "text/html": [
       "<div>\n",
       "<style scoped>\n",
       "    .dataframe tbody tr th:only-of-type {\n",
       "        vertical-align: middle;\n",
       "    }\n",
       "\n",
       "    .dataframe tbody tr th {\n",
       "        vertical-align: top;\n",
       "    }\n",
       "\n",
       "    .dataframe thead th {\n",
       "        text-align: right;\n",
       "    }\n",
       "</style>\n",
       "<table border=\"1\" class=\"dataframe\">\n",
       "  <thead>\n",
       "    <tr style=\"text-align: right;\">\n",
       "      <th></th>\n",
       "      <th>first_name</th>\n",
       "      <th>last_name</th>\n",
       "    </tr>\n",
       "  </thead>\n",
       "  <tbody>\n",
       "    <tr>\n",
       "      <th>0</th>\n",
       "      <td>Anne</td>\n",
       "      <td>Bancroft</td>\n",
       "    </tr>\n",
       "    <tr>\n",
       "      <th>1</th>\n",
       "      <td>Bob</td>\n",
       "      <td>Dylan</td>\n",
       "    </tr>\n",
       "    <tr>\n",
       "      <th>2</th>\n",
       "      <td>Charlie</td>\n",
       "      <td>Chaplin</td>\n",
       "    </tr>\n",
       "    <tr>\n",
       "      <th>3</th>\n",
       "      <td>Bob</td>\n",
       "      <td>Marley</td>\n",
       "    </tr>\n",
       "  </tbody>\n",
       "</table>\n",
       "</div>"
      ],
      "text/plain": [
       "  first_name last_name\n",
       "0       Anne  Bancroft\n",
       "1        Bob     Dylan\n",
       "2    Charlie   Chaplin\n",
       "3        Bob    Marley"
      ]
     },
     "metadata": {},
     "output_type": "display_data"
    },
    {
     "data": {
      "text/html": [
       "<h3>branched__lower</h3>"
      ],
      "text/plain": [
       "<IPython.core.display.HTML object>"
      ]
     },
     "metadata": {},
     "output_type": "display_data"
    },
    {
     "data": {
      "text/html": [
       "<div>\n",
       "<style scoped>\n",
       "    .dataframe tbody tr th:only-of-type {\n",
       "        vertical-align: middle;\n",
       "    }\n",
       "\n",
       "    .dataframe tbody tr th {\n",
       "        vertical-align: top;\n",
       "    }\n",
       "\n",
       "    .dataframe thead th {\n",
       "        text-align: right;\n",
       "    }\n",
       "</style>\n",
       "<table border=\"1\" class=\"dataframe\">\n",
       "  <thead>\n",
       "    <tr style=\"text-align: right;\">\n",
       "      <th></th>\n",
       "      <th>first_name</th>\n",
       "      <th>last_name</th>\n",
       "    </tr>\n",
       "  </thead>\n",
       "  <tbody>\n",
       "    <tr>\n",
       "      <th>0</th>\n",
       "      <td>anne</td>\n",
       "      <td>bancroft</td>\n",
       "    </tr>\n",
       "    <tr>\n",
       "      <th>1</th>\n",
       "      <td>bob</td>\n",
       "      <td>dylan</td>\n",
       "    </tr>\n",
       "    <tr>\n",
       "      <th>2</th>\n",
       "      <td>charlie</td>\n",
       "      <td>chaplin</td>\n",
       "    </tr>\n",
       "    <tr>\n",
       "      <th>3</th>\n",
       "      <td>bob</td>\n",
       "      <td>marley</td>\n",
       "    </tr>\n",
       "  </tbody>\n",
       "</table>\n",
       "</div>"
      ],
      "text/plain": [
       "  first_name last_name\n",
       "0       anne  bancroft\n",
       "1        bob     dylan\n",
       "2    charlie   chaplin\n",
       "3        bob    marley"
      ]
     },
     "metadata": {},
     "output_type": "display_data"
    },
    {
     "data": {
      "text/html": [
       "<h3>branched__space</h3>"
      ],
      "text/plain": [
       "<IPython.core.display.HTML object>"
      ]
     },
     "metadata": {},
     "output_type": "display_data"
    },
    {
     "data": {
      "text/html": [
       "<div>\n",
       "<style scoped>\n",
       "    .dataframe tbody tr th:only-of-type {\n",
       "        vertical-align: middle;\n",
       "    }\n",
       "\n",
       "    .dataframe tbody tr th {\n",
       "        vertical-align: top;\n",
       "    }\n",
       "\n",
       "    .dataframe thead th {\n",
       "        text-align: right;\n",
       "    }\n",
       "</style>\n",
       "<table border=\"1\" class=\"dataframe\">\n",
       "  <thead>\n",
       "    <tr style=\"text-align: right;\">\n",
       "      <th></th>\n",
       "      <th>first_name</th>\n",
       "      <th>last_name</th>\n",
       "    </tr>\n",
       "  </thead>\n",
       "  <tbody>\n",
       "    <tr>\n",
       "      <th>0</th>\n",
       "      <td>a n n e</td>\n",
       "      <td>b a n c r o f t</td>\n",
       "    </tr>\n",
       "    <tr>\n",
       "      <th>1</th>\n",
       "      <td>b o b</td>\n",
       "      <td>d y l a n</td>\n",
       "    </tr>\n",
       "    <tr>\n",
       "      <th>2</th>\n",
       "      <td>c h a r l i e</td>\n",
       "      <td>c h a p l i n</td>\n",
       "    </tr>\n",
       "    <tr>\n",
       "      <th>3</th>\n",
       "      <td>b o b</td>\n",
       "      <td>m a r l e y</td>\n",
       "    </tr>\n",
       "  </tbody>\n",
       "</table>\n",
       "</div>"
      ],
      "text/plain": [
       "      first_name        last_name\n",
       "0        a n n e  b a n c r o f t\n",
       "1          b o b        d y l a n\n",
       "2  c h a r l i e    c h a p l i n\n",
       "3          b o b      m a r l e y"
      ]
     },
     "metadata": {},
     "output_type": "display_data"
    },
    {
     "data": {
      "text/html": [
       "<h3>branched__upper</h3>"
      ],
      "text/plain": [
       "<IPython.core.display.HTML object>"
      ]
     },
     "metadata": {},
     "output_type": "display_data"
    },
    {
     "data": {
      "text/html": [
       "<div>\n",
       "<style scoped>\n",
       "    .dataframe tbody tr th:only-of-type {\n",
       "        vertical-align: middle;\n",
       "    }\n",
       "\n",
       "    .dataframe tbody tr th {\n",
       "        vertical-align: top;\n",
       "    }\n",
       "\n",
       "    .dataframe thead th {\n",
       "        text-align: right;\n",
       "    }\n",
       "</style>\n",
       "<table border=\"1\" class=\"dataframe\">\n",
       "  <thead>\n",
       "    <tr style=\"text-align: right;\">\n",
       "      <th></th>\n",
       "      <th>first_name</th>\n",
       "      <th>last_name</th>\n",
       "    </tr>\n",
       "  </thead>\n",
       "  <tbody>\n",
       "    <tr>\n",
       "      <th>0</th>\n",
       "      <td>ANNE</td>\n",
       "      <td>BANCROFT</td>\n",
       "    </tr>\n",
       "    <tr>\n",
       "      <th>1</th>\n",
       "      <td>BOB</td>\n",
       "      <td>DYLAN</td>\n",
       "    </tr>\n",
       "    <tr>\n",
       "      <th>2</th>\n",
       "      <td>CHARLIE</td>\n",
       "      <td>CHAPLIN</td>\n",
       "    </tr>\n",
       "    <tr>\n",
       "      <th>3</th>\n",
       "      <td>BOB</td>\n",
       "      <td>MARLEY</td>\n",
       "    </tr>\n",
       "  </tbody>\n",
       "</table>\n",
       "</div>"
      ],
      "text/plain": [
       "  first_name last_name\n",
       "0       ANNE  BANCROFT\n",
       "1        BOB     DYLAN\n",
       "2    CHARLIE   CHAPLIN\n",
       "3        BOB    MARLEY"
      ]
     },
     "metadata": {},
     "output_type": "display_data"
    },
    {
     "data": {
      "text/html": [
       "<h3>branched__factor</h3>"
      ],
      "text/plain": [
       "<IPython.core.display.HTML object>"
      ]
     },
     "metadata": {},
     "output_type": "display_data"
    },
    {
     "data": {
      "text/html": [
       "<div>\n",
       "<style scoped>\n",
       "    .dataframe tbody tr th:only-of-type {\n",
       "        vertical-align: middle;\n",
       "    }\n",
       "\n",
       "    .dataframe tbody tr th {\n",
       "        vertical-align: top;\n",
       "    }\n",
       "\n",
       "    .dataframe thead th {\n",
       "        text-align: right;\n",
       "    }\n",
       "</style>\n",
       "<table border=\"1\" class=\"dataframe\">\n",
       "  <thead>\n",
       "    <tr style=\"text-align: right;\">\n",
       "      <th></th>\n",
       "      <th>first_name</th>\n",
       "      <th>last_name</th>\n",
       "    </tr>\n",
       "  </thead>\n",
       "  <tbody>\n",
       "    <tr>\n",
       "      <th>0</th>\n",
       "      <td>ANNEANNEANNE</td>\n",
       "      <td>BANCROFTBANCROFTBANCROFT</td>\n",
       "    </tr>\n",
       "    <tr>\n",
       "      <th>1</th>\n",
       "      <td>BOBBOBBOB</td>\n",
       "      <td>DYLANDYLANDYLAN</td>\n",
       "    </tr>\n",
       "    <tr>\n",
       "      <th>2</th>\n",
       "      <td>CHARLIECHARLIECHARLIE</td>\n",
       "      <td>CHAPLINCHAPLINCHAPLIN</td>\n",
       "    </tr>\n",
       "    <tr>\n",
       "      <th>3</th>\n",
       "      <td>BOBBOBBOB</td>\n",
       "      <td>MARLEYMARLEYMARLEY</td>\n",
       "    </tr>\n",
       "  </tbody>\n",
       "</table>\n",
       "</div>"
      ],
      "text/plain": [
       "              first_name                 last_name\n",
       "0           ANNEANNEANNE  BANCROFTBANCROFTBANCROFT\n",
       "1              BOBBOBBOB           DYLANDYLANDYLAN\n",
       "2  CHARLIECHARLIECHARLIE     CHAPLINCHAPLINCHAPLIN\n",
       "3              BOBBOBBOB        MARLEYMARLEYMARLEY"
      ]
     },
     "metadata": {},
     "output_type": "display_data"
    },
    {
     "data": {
      "text/html": [
       "<h3>branched</h3>"
      ],
      "text/plain": [
       "<IPython.core.display.HTML object>"
      ]
     },
     "metadata": {},
     "output_type": "display_data"
    },
    {
     "data": {
      "text/html": [
       "<div>\n",
       "<style scoped>\n",
       "    .dataframe tbody tr th:only-of-type {\n",
       "        vertical-align: middle;\n",
       "    }\n",
       "\n",
       "    .dataframe tbody tr th {\n",
       "        vertical-align: top;\n",
       "    }\n",
       "\n",
       "    .dataframe thead th {\n",
       "        text-align: right;\n",
       "    }\n",
       "</style>\n",
       "<table border=\"1\" class=\"dataframe\">\n",
       "  <thead>\n",
       "    <tr style=\"text-align: right;\">\n",
       "      <th></th>\n",
       "      <th>pipe_lowerspace__first_name</th>\n",
       "      <th>pipe_lowerspace__last_name</th>\n",
       "      <th>pipe_upperfactor__first_name</th>\n",
       "      <th>pipe_upperfactor__last_name</th>\n",
       "    </tr>\n",
       "  </thead>\n",
       "  <tbody>\n",
       "    <tr>\n",
       "      <th>0</th>\n",
       "      <td>a n n e</td>\n",
       "      <td>b a n c r o f t</td>\n",
       "      <td>ANNEANNEANNE</td>\n",
       "      <td>BANCROFTBANCROFTBANCROFT</td>\n",
       "    </tr>\n",
       "    <tr>\n",
       "      <th>1</th>\n",
       "      <td>b o b</td>\n",
       "      <td>d y l a n</td>\n",
       "      <td>BOBBOBBOB</td>\n",
       "      <td>DYLANDYLANDYLAN</td>\n",
       "    </tr>\n",
       "    <tr>\n",
       "      <th>2</th>\n",
       "      <td>c h a r l i e</td>\n",
       "      <td>c h a p l i n</td>\n",
       "      <td>CHARLIECHARLIECHARLIE</td>\n",
       "      <td>CHAPLINCHAPLINCHAPLIN</td>\n",
       "    </tr>\n",
       "    <tr>\n",
       "      <th>3</th>\n",
       "      <td>b o b</td>\n",
       "      <td>m a r l e y</td>\n",
       "      <td>BOBBOBBOB</td>\n",
       "      <td>MARLEYMARLEYMARLEY</td>\n",
       "    </tr>\n",
       "  </tbody>\n",
       "</table>\n",
       "</div>"
      ],
      "text/plain": [
       "  pipe_lowerspace__first_name pipe_lowerspace__last_name  \\\n",
       "0                     a n n e            b a n c r o f t   \n",
       "1                       b o b                  d y l a n   \n",
       "2               c h a r l i e              c h a p l i n   \n",
       "3                       b o b                m a r l e y   \n",
       "\n",
       "  pipe_upperfactor__first_name pipe_upperfactor__last_name  \n",
       "0                 ANNEANNEANNE    BANCROFTBANCROFTBANCROFT  \n",
       "1                    BOBBOBBOB             DYLANDYLANDYLAN  \n",
       "2        CHARLIECHARLIECHARLIE       CHAPLINCHAPLINCHAPLIN  \n",
       "3                    BOBBOBBOB          MARLEYMARLEYMARLEY  "
      ]
     },
     "metadata": {},
     "output_type": "display_data"
    },
    {
     "data": {
      "text/html": [
       "<h3>subpipe__spacer</h3>"
      ],
      "text/plain": [
       "<IPython.core.display.HTML object>"
      ]
     },
     "metadata": {},
     "output_type": "display_data"
    },
    {
     "data": {
      "text/html": [
       "<div>\n",
       "<style scoped>\n",
       "    .dataframe tbody tr th:only-of-type {\n",
       "        vertical-align: middle;\n",
       "    }\n",
       "\n",
       "    .dataframe tbody tr th {\n",
       "        vertical-align: top;\n",
       "    }\n",
       "\n",
       "    .dataframe thead th {\n",
       "        text-align: right;\n",
       "    }\n",
       "</style>\n",
       "<table border=\"1\" class=\"dataframe\">\n",
       "  <thead>\n",
       "    <tr style=\"text-align: right;\">\n",
       "      <th></th>\n",
       "      <th>pipe_lowerspace__first_name</th>\n",
       "      <th>pipe_upperfactor__first_name</th>\n",
       "    </tr>\n",
       "  </thead>\n",
       "  <tbody>\n",
       "    <tr>\n",
       "      <th>0</th>\n",
       "      <td>a   n   n   e</td>\n",
       "      <td>A N N E A N N E A N N E</td>\n",
       "    </tr>\n",
       "    <tr>\n",
       "      <th>1</th>\n",
       "      <td>b   o   b</td>\n",
       "      <td>B O B B O B B O B</td>\n",
       "    </tr>\n",
       "    <tr>\n",
       "      <th>2</th>\n",
       "      <td>c   h   a   r   l   i   e</td>\n",
       "      <td>C H A R L I E C H A R L I E C H A R L I E</td>\n",
       "    </tr>\n",
       "    <tr>\n",
       "      <th>3</th>\n",
       "      <td>b   o   b</td>\n",
       "      <td>B O B B O B B O B</td>\n",
       "    </tr>\n",
       "  </tbody>\n",
       "</table>\n",
       "</div>"
      ],
      "text/plain": [
       "  pipe_lowerspace__first_name               pipe_upperfactor__first_name\n",
       "0               a   n   n   e                    A N N E A N N E A N N E\n",
       "1                   b   o   b                          B O B B O B B O B\n",
       "2   c   h   a   r   l   i   e  C H A R L I E C H A R L I E C H A R L I E\n",
       "3                   b   o   b                          B O B B O B B O B"
      ]
     },
     "metadata": {},
     "output_type": "display_data"
    },
    {
     "data": {
      "text/html": [
       "<h3>subpipe__agg</h3>"
      ],
      "text/plain": [
       "<IPython.core.display.HTML object>"
      ]
     },
     "metadata": {},
     "output_type": "display_data"
    },
    {
     "data": {
      "text/html": [
       "<div>\n",
       "<style scoped>\n",
       "    .dataframe tbody tr th:only-of-type {\n",
       "        vertical-align: middle;\n",
       "    }\n",
       "\n",
       "    .dataframe tbody tr th {\n",
       "        vertical-align: top;\n",
       "    }\n",
       "\n",
       "    .dataframe thead th {\n",
       "        text-align: right;\n",
       "    }\n",
       "</style>\n",
       "<table border=\"1\" class=\"dataframe\">\n",
       "  <thead>\n",
       "    <tr style=\"text-align: right;\">\n",
       "      <th></th>\n",
       "      <th>first_len</th>\n",
       "      <th>first_lensquared</th>\n",
       "      <th>last_len</th>\n",
       "      <th>last_lensquared</th>\n",
       "    </tr>\n",
       "  </thead>\n",
       "  <tbody>\n",
       "    <tr>\n",
       "      <th>0</th>\n",
       "      <td>13</td>\n",
       "      <td>169</td>\n",
       "      <td>23</td>\n",
       "      <td>529</td>\n",
       "    </tr>\n",
       "    <tr>\n",
       "      <th>1</th>\n",
       "      <td>9</td>\n",
       "      <td>81</td>\n",
       "      <td>17</td>\n",
       "      <td>289</td>\n",
       "    </tr>\n",
       "    <tr>\n",
       "      <th>2</th>\n",
       "      <td>25</td>\n",
       "      <td>625</td>\n",
       "      <td>41</td>\n",
       "      <td>1681</td>\n",
       "    </tr>\n",
       "    <tr>\n",
       "      <th>3</th>\n",
       "      <td>9</td>\n",
       "      <td>81</td>\n",
       "      <td>17</td>\n",
       "      <td>289</td>\n",
       "    </tr>\n",
       "  </tbody>\n",
       "</table>\n",
       "</div>"
      ],
      "text/plain": [
       "   first_len  first_lensquared  last_len  last_lensquared\n",
       "0         13               169        23              529\n",
       "1          9                81        17              289\n",
       "2         25               625        41             1681\n",
       "3          9                81        17              289"
      ]
     },
     "metadata": {},
     "output_type": "display_data"
    },
    {
     "data": {
      "text/html": [
       "<h3>prepends</h3>"
      ],
      "text/plain": [
       "<IPython.core.display.HTML object>"
      ]
     },
     "metadata": {},
     "output_type": "display_data"
    },
    {
     "data": {
      "text/html": [
       "<div>\n",
       "<style scoped>\n",
       "    .dataframe tbody tr th:only-of-type {\n",
       "        vertical-align: middle;\n",
       "    }\n",
       "\n",
       "    .dataframe tbody tr th {\n",
       "        vertical-align: top;\n",
       "    }\n",
       "\n",
       "    .dataframe thead th {\n",
       "        text-align: right;\n",
       "    }\n",
       "</style>\n",
       "<table border=\"1\" class=\"dataframe\">\n",
       "  <thead>\n",
       "    <tr style=\"text-align: right;\">\n",
       "      <th></th>\n",
       "      <th>subpipe__first_len</th>\n",
       "      <th>subpipe__first_lensquared</th>\n",
       "      <th>subpipe__last_len</th>\n",
       "      <th>subpipe__last_lensquared</th>\n",
       "      <th>prepends__pipe_lowerspace__last_name</th>\n",
       "      <th>prepends__pipe_upperfactor__last_name</th>\n",
       "      <th>prepends__pipe_lowerspace__first_name</th>\n",
       "    </tr>\n",
       "  </thead>\n",
       "  <tbody>\n",
       "    <tr>\n",
       "      <th>0</th>\n",
       "      <td>13</td>\n",
       "      <td>169</td>\n",
       "      <td>23</td>\n",
       "      <td>529</td>\n",
       "      <td>PREPEND_b a n c r o f t</td>\n",
       "      <td>PREPEND_BANCROFTBANCROFTBANCROFT</td>\n",
       "      <td>PREPEND_a n n e</td>\n",
       "    </tr>\n",
       "    <tr>\n",
       "      <th>1</th>\n",
       "      <td>9</td>\n",
       "      <td>81</td>\n",
       "      <td>17</td>\n",
       "      <td>289</td>\n",
       "      <td>PREPEND_d y l a n</td>\n",
       "      <td>PREPEND_DYLANDYLANDYLAN</td>\n",
       "      <td>PREPEND_b o b</td>\n",
       "    </tr>\n",
       "    <tr>\n",
       "      <th>2</th>\n",
       "      <td>25</td>\n",
       "      <td>625</td>\n",
       "      <td>41</td>\n",
       "      <td>1681</td>\n",
       "      <td>PREPEND_c h a p l i n</td>\n",
       "      <td>PREPEND_CHAPLINCHAPLINCHAPLIN</td>\n",
       "      <td>PREPEND_c h a r l i e</td>\n",
       "    </tr>\n",
       "    <tr>\n",
       "      <th>3</th>\n",
       "      <td>9</td>\n",
       "      <td>81</td>\n",
       "      <td>17</td>\n",
       "      <td>289</td>\n",
       "      <td>PREPEND_m a r l e y</td>\n",
       "      <td>PREPEND_MARLEYMARLEYMARLEY</td>\n",
       "      <td>PREPEND_b o b</td>\n",
       "    </tr>\n",
       "  </tbody>\n",
       "</table>\n",
       "</div>"
      ],
      "text/plain": [
       "  subpipe__first_len subpipe__first_lensquared subpipe__last_len  \\\n",
       "0                 13                       169                23   \n",
       "1                  9                        81                17   \n",
       "2                 25                       625                41   \n",
       "3                  9                        81                17   \n",
       "\n",
       "  subpipe__last_lensquared prepends__pipe_lowerspace__last_name  \\\n",
       "0                      529              PREPEND_b a n c r o f t   \n",
       "1                      289                    PREPEND_d y l a n   \n",
       "2                     1681                PREPEND_c h a p l i n   \n",
       "3                      289                  PREPEND_m a r l e y   \n",
       "\n",
       "  prepends__pipe_upperfactor__last_name prepends__pipe_lowerspace__first_name  \n",
       "0      PREPEND_BANCROFTBANCROFTBANCROFT                       PREPEND_a n n e  \n",
       "1               PREPEND_DYLANDYLANDYLAN                         PREPEND_b o b  \n",
       "2         PREPEND_CHAPLINCHAPLINCHAPLIN                 PREPEND_c h a r l i e  \n",
       "3            PREPEND_MARLEYMARLEYMARLEY                         PREPEND_b o b  "
      ]
     },
     "metadata": {},
     "output_type": "display_data"
    }
   ],
   "source": [
    "with intermediate_transforms(pipe_tx):\n",
    "    Xt = pipe_tx.transform(df[['first_name', 'last_name']])\n",
    "    intermediate_results = pipe_tx.intermediate_results__\n",
    "\n",
    "for k, v in intermediate_results.items():\n",
    "    display(HTML(f'<h3>{k}</h3>'), v)"
   ]
  },
  {
   "cell_type": "markdown",
   "id": "39ac2716",
   "metadata": {},
   "source": [
    "# Looping through a ColumnTransformer\n",
    "\n",
    "The final code snippet shows how we can loop through pipelines of a ColumnTransformer. Note that if the subtransformers of the ColumnTransformer are not Pipeline objects, then this method will fail."
   ]
  },
  {
   "cell_type": "code",
   "execution_count": 52,
   "id": "8e93b6e7",
   "metadata": {
    "scrolled": false
   },
   "outputs": [
    {
     "data": {
      "text/html": [
       "<style>#sk-b7086e01-eea5-4e44-bf68-06b960c98867 {color: black;background-color: white;}#sk-b7086e01-eea5-4e44-bf68-06b960c98867 pre{padding: 0;}#sk-b7086e01-eea5-4e44-bf68-06b960c98867 div.sk-toggleable {background-color: white;}#sk-b7086e01-eea5-4e44-bf68-06b960c98867 label.sk-toggleable__label {cursor: pointer;display: block;width: 100%;margin-bottom: 0;padding: 0.3em;box-sizing: border-box;text-align: center;}#sk-b7086e01-eea5-4e44-bf68-06b960c98867 label.sk-toggleable__label-arrow:before {content: \"▸\";float: left;margin-right: 0.25em;color: #696969;}#sk-b7086e01-eea5-4e44-bf68-06b960c98867 label.sk-toggleable__label-arrow:hover:before {color: black;}#sk-b7086e01-eea5-4e44-bf68-06b960c98867 div.sk-estimator:hover label.sk-toggleable__label-arrow:before {color: black;}#sk-b7086e01-eea5-4e44-bf68-06b960c98867 div.sk-toggleable__content {max-height: 0;max-width: 0;overflow: hidden;text-align: left;background-color: #f0f8ff;}#sk-b7086e01-eea5-4e44-bf68-06b960c98867 div.sk-toggleable__content pre {margin: 0.2em;color: black;border-radius: 0.25em;background-color: #f0f8ff;}#sk-b7086e01-eea5-4e44-bf68-06b960c98867 input.sk-toggleable__control:checked~div.sk-toggleable__content {max-height: 200px;max-width: 100%;overflow: auto;}#sk-b7086e01-eea5-4e44-bf68-06b960c98867 input.sk-toggleable__control:checked~label.sk-toggleable__label-arrow:before {content: \"▾\";}#sk-b7086e01-eea5-4e44-bf68-06b960c98867 div.sk-estimator input.sk-toggleable__control:checked~label.sk-toggleable__label {background-color: #d4ebff;}#sk-b7086e01-eea5-4e44-bf68-06b960c98867 div.sk-label input.sk-toggleable__control:checked~label.sk-toggleable__label {background-color: #d4ebff;}#sk-b7086e01-eea5-4e44-bf68-06b960c98867 input.sk-hidden--visually {border: 0;clip: rect(1px 1px 1px 1px);clip: rect(1px, 1px, 1px, 1px);height: 1px;margin: -1px;overflow: hidden;padding: 0;position: absolute;width: 1px;}#sk-b7086e01-eea5-4e44-bf68-06b960c98867 div.sk-estimator {font-family: monospace;background-color: #f0f8ff;border: 1px dotted black;border-radius: 0.25em;box-sizing: border-box;margin-bottom: 0.5em;}#sk-b7086e01-eea5-4e44-bf68-06b960c98867 div.sk-estimator:hover {background-color: #d4ebff;}#sk-b7086e01-eea5-4e44-bf68-06b960c98867 div.sk-parallel-item::after {content: \"\";width: 100%;border-bottom: 1px solid gray;flex-grow: 1;}#sk-b7086e01-eea5-4e44-bf68-06b960c98867 div.sk-label:hover label.sk-toggleable__label {background-color: #d4ebff;}#sk-b7086e01-eea5-4e44-bf68-06b960c98867 div.sk-serial::before {content: \"\";position: absolute;border-left: 1px solid gray;box-sizing: border-box;top: 2em;bottom: 0;left: 50%;}#sk-b7086e01-eea5-4e44-bf68-06b960c98867 div.sk-serial {display: flex;flex-direction: column;align-items: center;background-color: white;padding-right: 0.2em;padding-left: 0.2em;}#sk-b7086e01-eea5-4e44-bf68-06b960c98867 div.sk-item {z-index: 1;}#sk-b7086e01-eea5-4e44-bf68-06b960c98867 div.sk-parallel {display: flex;align-items: stretch;justify-content: center;background-color: white;}#sk-b7086e01-eea5-4e44-bf68-06b960c98867 div.sk-parallel::before {content: \"\";position: absolute;border-left: 1px solid gray;box-sizing: border-box;top: 2em;bottom: 0;left: 50%;}#sk-b7086e01-eea5-4e44-bf68-06b960c98867 div.sk-parallel-item {display: flex;flex-direction: column;position: relative;background-color: white;}#sk-b7086e01-eea5-4e44-bf68-06b960c98867 div.sk-parallel-item:first-child::after {align-self: flex-end;width: 50%;}#sk-b7086e01-eea5-4e44-bf68-06b960c98867 div.sk-parallel-item:last-child::after {align-self: flex-start;width: 50%;}#sk-b7086e01-eea5-4e44-bf68-06b960c98867 div.sk-parallel-item:only-child::after {width: 0;}#sk-b7086e01-eea5-4e44-bf68-06b960c98867 div.sk-dashed-wrapped {border: 1px dashed gray;margin: 0 0.4em 0.5em 0.4em;box-sizing: border-box;padding-bottom: 0.4em;background-color: white;position: relative;}#sk-b7086e01-eea5-4e44-bf68-06b960c98867 div.sk-label label {font-family: monospace;font-weight: bold;background-color: white;display: inline-block;line-height: 1.2em;}#sk-b7086e01-eea5-4e44-bf68-06b960c98867 div.sk-label-container {position: relative;z-index: 2;text-align: center;}#sk-b7086e01-eea5-4e44-bf68-06b960c98867 div.sk-container {/* jupyter's `normalize.less` sets `[hidden] { display: none; }` but bootstrap.min.css set `[hidden] { display: none !important; }` so we also need the `!important` here to be able to override the default hidden behavior on the sphinx rendered scikit-learn.org. See: https://github.com/scikit-learn/scikit-learn/issues/21755 */display: inline-block !important;position: relative;}#sk-b7086e01-eea5-4e44-bf68-06b960c98867 div.sk-text-repr-fallback {display: none;}</style><div id=\"sk-b7086e01-eea5-4e44-bf68-06b960c98867\" class=\"sk-top-container\"><div class=\"sk-text-repr-fallback\"><pre>ColumnTransformerDataFrame(remainder=&#x27;passthrough&#x27;,\n",
       "                           transformers=[(&#x27;pipefirst&#x27;,\n",
       "                                          FeatureNamesPipeline(steps=[(&#x27;pipereverseupper&#x27;,\n",
       "                                                                       FeatureNamesPipeline(steps=[(&#x27;reverse&#x27;,\n",
       "                                                                                                    ApplyTransformer(apply_func=&lt;function applymap at 0x7f88fab56700&gt;, func=&lt;function reverse_text at 0x7f88fa9a29d0&gt;)),\n",
       "                                                                                                   (&#x27;upper&#x27;,\n",
       "                                                                                                    ApplyTransformer(apply_func=&lt;function applymap at 0x7f88fab56700&gt;, func...\n",
       "                                                                      (&#x27;last&#x27;,\n",
       "                                                                       &#x27;passthrough&#x27;)]),\n",
       "                                          [&#x27;first_name&#x27;]),\n",
       "                                         (&#x27;pipelast&#x27;,\n",
       "                                          FeatureNamesPipeline(steps=[(&#x27;factor&#x27;,\n",
       "                                                                       ApplyTransformer(apply_func=&lt;function applymap at 0x7f88fab56700&gt;, func=&lt;function repeat_factor at 0x7f88fa9a2e50&gt;)),\n",
       "                                                                      (&#x27;camel&#x27;,\n",
       "                                                                       ApplyTransformer(apply_func=&lt;function applymap at 0x7f88fab56700&gt;, func=&lt;function camelcase at 0x7f896bc55e50&gt;)),\n",
       "                                                                      (&#x27;last&#x27;,\n",
       "                                                                       &#x27;passthrough&#x27;)]),\n",
       "                                          [&#x27;last_name&#x27;])])</pre><b>Please rerun this cell to show the HTML repr or trust the notebook.</b></div><div class=\"sk-container\" hidden><div class=\"sk-item sk-dashed-wrapped\"><div class=\"sk-label-container\"><div class=\"sk-label sk-toggleable\"><input class=\"sk-toggleable__control sk-hidden--visually\" id=\"f7aefbb0-77b2-48dc-9846-4e13d6f06f5b\" type=\"checkbox\" ><label for=\"f7aefbb0-77b2-48dc-9846-4e13d6f06f5b\" class=\"sk-toggleable__label sk-toggleable__label-arrow\">ColumnTransformerDataFrame</label><div class=\"sk-toggleable__content\"><pre>ColumnTransformerDataFrame(remainder=&#x27;passthrough&#x27;,\n",
       "                           transformers=[(&#x27;pipefirst&#x27;,\n",
       "                                          FeatureNamesPipeline(steps=[(&#x27;pipereverseupper&#x27;,\n",
       "                                                                       FeatureNamesPipeline(steps=[(&#x27;reverse&#x27;,\n",
       "                                                                                                    ApplyTransformer(apply_func=&lt;function applymap at 0x7f88fab56700&gt;, func=&lt;function reverse_text at 0x7f88fa9a29d0&gt;)),\n",
       "                                                                                                   (&#x27;upper&#x27;,\n",
       "                                                                                                    ApplyTransformer(apply_func=&lt;function applymap at 0x7f88fab56700&gt;, func...\n",
       "                                                                      (&#x27;last&#x27;,\n",
       "                                                                       &#x27;passthrough&#x27;)]),\n",
       "                                          [&#x27;first_name&#x27;]),\n",
       "                                         (&#x27;pipelast&#x27;,\n",
       "                                          FeatureNamesPipeline(steps=[(&#x27;factor&#x27;,\n",
       "                                                                       ApplyTransformer(apply_func=&lt;function applymap at 0x7f88fab56700&gt;, func=&lt;function repeat_factor at 0x7f88fa9a2e50&gt;)),\n",
       "                                                                      (&#x27;camel&#x27;,\n",
       "                                                                       ApplyTransformer(apply_func=&lt;function applymap at 0x7f88fab56700&gt;, func=&lt;function camelcase at 0x7f896bc55e50&gt;)),\n",
       "                                                                      (&#x27;last&#x27;,\n",
       "                                                                       &#x27;passthrough&#x27;)]),\n",
       "                                          [&#x27;last_name&#x27;])])</pre></div></div></div><div class=\"sk-parallel\"><div class=\"sk-parallel-item\"><div class=\"sk-item\"><div class=\"sk-label-container\"><div class=\"sk-label sk-toggleable\"><input class=\"sk-toggleable__control sk-hidden--visually\" id=\"9d605567-488e-426e-a612-729c0761c031\" type=\"checkbox\" ><label for=\"9d605567-488e-426e-a612-729c0761c031\" class=\"sk-toggleable__label sk-toggleable__label-arrow\">pipefirst</label><div class=\"sk-toggleable__content\"><pre>[&#x27;first_name&#x27;]</pre></div></div></div><div class=\"sk-serial\"><div class=\"sk-item\"><div class=\"sk-serial\"><div class=\"sk-item\"><div class=\"sk-label-container\"><div class=\"sk-label sk-toggleable\"><input class=\"sk-toggleable__control sk-hidden--visually\" id=\"4cfc2227-5ba3-4e2c-9f6f-2598452f7714\" type=\"checkbox\" ><label for=\"4cfc2227-5ba3-4e2c-9f6f-2598452f7714\" class=\"sk-toggleable__label sk-toggleable__label-arrow\">pipereverseupper: FeatureNamesPipeline</label><div class=\"sk-toggleable__content\"><pre>FeatureNamesPipeline(steps=[(&#x27;reverse&#x27;,\n",
       "                             ApplyTransformer(apply_func=&lt;function applymap at 0x7f88fab56700&gt;, func=&lt;function reverse_text at 0x7f88fa9a29d0&gt;)),\n",
       "                            (&#x27;upper&#x27;,\n",
       "                             ApplyTransformer(apply_func=&lt;function applymap at 0x7f88fab56700&gt;, func=&lt;method &#x27;upper&#x27; of &#x27;str&#x27; objects&gt;)),\n",
       "                            (&#x27;last&#x27;, &#x27;passthrough&#x27;)])</pre></div></div></div><div class=\"sk-serial\"><div class=\"sk-item\"><div class=\"sk-estimator sk-toggleable\"><input class=\"sk-toggleable__control sk-hidden--visually\" id=\"e030e5d0-bc4c-4aad-939d-a8a5dd2c376a\" type=\"checkbox\" ><label for=\"e030e5d0-bc4c-4aad-939d-a8a5dd2c376a\" class=\"sk-toggleable__label sk-toggleable__label-arrow\">ApplyTransformer</label><div class=\"sk-toggleable__content\"><pre>ApplyTransformer(apply_func=applymap, func=reverse_text)</pre></div></div></div><div class=\"sk-item\"><div class=\"sk-estimator sk-toggleable\"><input class=\"sk-toggleable__control sk-hidden--visually\" id=\"b1bf4b87-fd0c-4e13-b90f-86e00d1fc6f9\" type=\"checkbox\" ><label for=\"b1bf4b87-fd0c-4e13-b90f-86e00d1fc6f9\" class=\"sk-toggleable__label sk-toggleable__label-arrow\">ApplyTransformer</label><div class=\"sk-toggleable__content\"><pre>ApplyTransformer(apply_func=applymap, func=upper)</pre></div></div></div><div class=\"sk-item\"><div class=\"sk-estimator sk-toggleable\"><input class=\"sk-toggleable__control sk-hidden--visually\" id=\"39ba272c-2653-4c2b-9551-a7ce1f692461\" type=\"checkbox\" ><label for=\"39ba272c-2653-4c2b-9551-a7ce1f692461\" class=\"sk-toggleable__label sk-toggleable__label-arrow\">passthrough</label><div class=\"sk-toggleable__content\"><pre>passthrough</pre></div></div></div></div></div><div class=\"sk-item\"><div class=\"sk-estimator sk-toggleable\"><input class=\"sk-toggleable__control sk-hidden--visually\" id=\"208aca59-be9a-41f5-9c0c-3cc4a730b016\" type=\"checkbox\" ><label for=\"208aca59-be9a-41f5-9c0c-3cc4a730b016\" class=\"sk-toggleable__label sk-toggleable__label-arrow\">ApplyTransformer</label><div class=\"sk-toggleable__content\"><pre>ApplyTransformer(apply_func=try_member_func, func=agg)</pre></div></div></div><div class=\"sk-item\"><div class=\"sk-estimator sk-toggleable\"><input class=\"sk-toggleable__control sk-hidden--visually\" id=\"d2f80384-7890-443f-971c-5986bf860364\" type=\"checkbox\" ><label for=\"d2f80384-7890-443f-971c-5986bf860364\" class=\"sk-toggleable__label sk-toggleable__label-arrow\">passthrough</label><div class=\"sk-toggleable__content\"><pre>passthrough</pre></div></div></div></div></div></div></div></div><div class=\"sk-parallel-item\"><div class=\"sk-item\"><div class=\"sk-label-container\"><div class=\"sk-label sk-toggleable\"><input class=\"sk-toggleable__control sk-hidden--visually\" id=\"3bdd2c11-8138-47a5-b569-ab818de6c09f\" type=\"checkbox\" ><label for=\"3bdd2c11-8138-47a5-b569-ab818de6c09f\" class=\"sk-toggleable__label sk-toggleable__label-arrow\">pipelast</label><div class=\"sk-toggleable__content\"><pre>[&#x27;last_name&#x27;]</pre></div></div></div><div class=\"sk-serial\"><div class=\"sk-item\"><div class=\"sk-serial\"><div class=\"sk-item\"><div class=\"sk-estimator sk-toggleable\"><input class=\"sk-toggleable__control sk-hidden--visually\" id=\"eb6ff2ed-264b-412d-aa28-02206cc84f0a\" type=\"checkbox\" ><label for=\"eb6ff2ed-264b-412d-aa28-02206cc84f0a\" class=\"sk-toggleable__label sk-toggleable__label-arrow\">ApplyTransformer</label><div class=\"sk-toggleable__content\"><pre>ApplyTransformer(apply_func=applymap, func=repeat_factor)</pre></div></div></div><div class=\"sk-item\"><div class=\"sk-estimator sk-toggleable\"><input class=\"sk-toggleable__control sk-hidden--visually\" id=\"e24ae57f-f0c9-4546-9246-e1e68c10f52e\" type=\"checkbox\" ><label for=\"e24ae57f-f0c9-4546-9246-e1e68c10f52e\" class=\"sk-toggleable__label sk-toggleable__label-arrow\">ApplyTransformer</label><div class=\"sk-toggleable__content\"><pre>ApplyTransformer(apply_func=applymap, func=camelcase)</pre></div></div></div><div class=\"sk-item\"><div class=\"sk-estimator sk-toggleable\"><input class=\"sk-toggleable__control sk-hidden--visually\" id=\"f4f93326-e093-4671-b5b6-1e3b38e4f73f\" type=\"checkbox\" ><label for=\"f4f93326-e093-4671-b5b6-1e3b38e4f73f\" class=\"sk-toggleable__label sk-toggleable__label-arrow\">passthrough</label><div class=\"sk-toggleable__content\"><pre>passthrough</pre></div></div></div></div></div></div></div></div><div class=\"sk-parallel-item\"><div class=\"sk-item\"><div class=\"sk-label-container\"><div class=\"sk-label sk-toggleable\"><input class=\"sk-toggleable__control sk-hidden--visually\" id=\"5e786abd-7318-47be-8ef7-25c00391fe04\" type=\"checkbox\" ><label for=\"5e786abd-7318-47be-8ef7-25c00391fe04\" class=\"sk-toggleable__label sk-toggleable__label-arrow\">remainder</label><div class=\"sk-toggleable__content\"><pre>[&#x27;age&#x27;, &#x27;len_all&#x27;]</pre></div></div></div><div class=\"sk-serial\"><div class=\"sk-item\"><div class=\"sk-estimator sk-toggleable\"><input class=\"sk-toggleable__control sk-hidden--visually\" id=\"7f508206-877f-410c-99da-4d4d9c974d17\" type=\"checkbox\" ><label for=\"7f508206-877f-410c-99da-4d4d9c974d17\" class=\"sk-toggleable__label sk-toggleable__label-arrow\">passthrough</label><div class=\"sk-toggleable__content\"><pre>passthrough</pre></div></div></div></div></div></div></div></div></div></div>"
      ],
      "text/plain": [
       "ColumnTransformerDataFrame(remainder='passthrough',\n",
       "                           transformers=[('pipefirst',\n",
       "                                          FeatureNamesPipeline(steps=[('pipereverseupper',\n",
       "                                                                       FeatureNamesPipeline(steps=[('reverse',\n",
       "                                                                                                    ApplyTransformer(apply_func=<function applymap at 0x7f88fab56700>, func=<function reverse_text at 0x7f88fa9a29d0>)),\n",
       "                                                                                                   ('upper',\n",
       "                                                                                                    ApplyTransformer(apply_func=<function applymap at 0x7f88fab56700>, func...\n",
       "                                                                      ('last',\n",
       "                                                                       'passthrough')]),\n",
       "                                          ['first_name']),\n",
       "                                         ('pipelast',\n",
       "                                          FeatureNamesPipeline(steps=[('factor',\n",
       "                                                                       ApplyTransformer(apply_func=<function applymap at 0x7f88fab56700>, func=<function repeat_factor at 0x7f88fa9a2e50>)),\n",
       "                                                                      ('camel',\n",
       "                                                                       ApplyTransformer(apply_func=<function applymap at 0x7f88fab56700>, func=<function camelcase at 0x7f896bc55e50>)),\n",
       "                                                                      ('last',\n",
       "                                                                       'passthrough')]),\n",
       "                                          ['last_name'])])"
      ]
     },
     "execution_count": 52,
     "metadata": {},
     "output_type": "execute_result"
    }
   ],
   "source": [
    "agg_tx = ApplyTransformer(\n",
    "    try_member_func, \n",
    "    'agg', \n",
    "    feature_names_out=['first_len', 'first_lensquared'],\n",
    "    fkwargs=dict(\n",
    "        fkwargs=(dict(func=[len, len_squared]))\n",
    "    )\n",
    ")\n",
    "\n",
    "pipereverseupper = FeatureNamesPipeline(\n",
    "    [\n",
    "        ('reverse', reverse_tx),\n",
    "        ('upper', uppercase_tx),\n",
    "        ('last', 'passthrough'),\n",
    "    ]\n",
    ")\n",
    "\n",
    "pipefactorcamel = FeatureNamesPipeline(\n",
    "    [\n",
    "        ('factor', factor_tx),\n",
    "        ('camel', camelcase_tx),\n",
    "        ('last', 'passthrough'),\n",
    "    ]\n",
    ")\n",
    "\n",
    "pipereverseupper_agg = FeatureNamesPipeline(\n",
    "    [\n",
    "        ('pipereverseupper', pipereverseupper),\n",
    "        ('agg', agg_tx),\n",
    "        ('last', 'passthrough'),\n",
    "    ]\n",
    ")\n",
    "\n",
    "col_tx1 = ColumnTransformerDataFrame(\n",
    "    [\n",
    "        ('pipefirst', pipereverseupper_agg, ['first_name']),\n",
    "        ('pipelast', pipefactorcamel, ['last_name']),\n",
    "    ],\n",
    "    remainder='passthrough'\n",
    ")\n",
    "\n",
    "col_tx1.fit(df)"
   ]
  },
  {
   "cell_type": "code",
   "execution_count": 53,
   "id": "f2b6db24",
   "metadata": {},
   "outputs": [
    {
     "data": {
      "text/html": [
       "<h3>pipefirst__pipereverseupper__reverse</h3>"
      ],
      "text/plain": [
       "<IPython.core.display.HTML object>"
      ]
     },
     "metadata": {},
     "output_type": "display_data"
    },
    {
     "data": {
      "text/html": [
       "<div>\n",
       "<style scoped>\n",
       "    .dataframe tbody tr th:only-of-type {\n",
       "        vertical-align: middle;\n",
       "    }\n",
       "\n",
       "    .dataframe tbody tr th {\n",
       "        vertical-align: top;\n",
       "    }\n",
       "\n",
       "    .dataframe thead th {\n",
       "        text-align: right;\n",
       "    }\n",
       "</style>\n",
       "<table border=\"1\" class=\"dataframe\">\n",
       "  <thead>\n",
       "    <tr style=\"text-align: right;\">\n",
       "      <th></th>\n",
       "      <th>first_name</th>\n",
       "    </tr>\n",
       "  </thead>\n",
       "  <tbody>\n",
       "    <tr>\n",
       "      <th>0</th>\n",
       "      <td>Anne</td>\n",
       "    </tr>\n",
       "    <tr>\n",
       "      <th>1</th>\n",
       "      <td>Bob</td>\n",
       "    </tr>\n",
       "    <tr>\n",
       "      <th>2</th>\n",
       "      <td>Charlie</td>\n",
       "    </tr>\n",
       "    <tr>\n",
       "      <th>3</th>\n",
       "      <td>Bob</td>\n",
       "    </tr>\n",
       "  </tbody>\n",
       "</table>\n",
       "</div>"
      ],
      "text/plain": [
       "  first_name\n",
       "0       Anne\n",
       "1        Bob\n",
       "2    Charlie\n",
       "3        Bob"
      ]
     },
     "metadata": {},
     "output_type": "display_data"
    },
    {
     "data": {
      "text/html": [
       "<h3>pipefirst__pipereverseupper__upper</h3>"
      ],
      "text/plain": [
       "<IPython.core.display.HTML object>"
      ]
     },
     "metadata": {},
     "output_type": "display_data"
    },
    {
     "data": {
      "text/html": [
       "<div>\n",
       "<style scoped>\n",
       "    .dataframe tbody tr th:only-of-type {\n",
       "        vertical-align: middle;\n",
       "    }\n",
       "\n",
       "    .dataframe tbody tr th {\n",
       "        vertical-align: top;\n",
       "    }\n",
       "\n",
       "    .dataframe thead th {\n",
       "        text-align: right;\n",
       "    }\n",
       "</style>\n",
       "<table border=\"1\" class=\"dataframe\">\n",
       "  <thead>\n",
       "    <tr style=\"text-align: right;\">\n",
       "      <th></th>\n",
       "      <th>first_name</th>\n",
       "    </tr>\n",
       "  </thead>\n",
       "  <tbody>\n",
       "    <tr>\n",
       "      <th>0</th>\n",
       "      <td>ANNE</td>\n",
       "    </tr>\n",
       "    <tr>\n",
       "      <th>1</th>\n",
       "      <td>BOB</td>\n",
       "    </tr>\n",
       "    <tr>\n",
       "      <th>2</th>\n",
       "      <td>CHARLIE</td>\n",
       "    </tr>\n",
       "    <tr>\n",
       "      <th>3</th>\n",
       "      <td>BOB</td>\n",
       "    </tr>\n",
       "  </tbody>\n",
       "</table>\n",
       "</div>"
      ],
      "text/plain": [
       "  first_name\n",
       "0       ANNE\n",
       "1        BOB\n",
       "2    CHARLIE\n",
       "3        BOB"
      ]
     },
     "metadata": {},
     "output_type": "display_data"
    },
    {
     "data": {
      "text/html": [
       "<h3>pipefirst__pipereverseupper</h3>"
      ],
      "text/plain": [
       "<IPython.core.display.HTML object>"
      ]
     },
     "metadata": {},
     "output_type": "display_data"
    },
    {
     "data": {
      "text/html": [
       "<div>\n",
       "<style scoped>\n",
       "    .dataframe tbody tr th:only-of-type {\n",
       "        vertical-align: middle;\n",
       "    }\n",
       "\n",
       "    .dataframe tbody tr th {\n",
       "        vertical-align: top;\n",
       "    }\n",
       "\n",
       "    .dataframe thead th {\n",
       "        text-align: right;\n",
       "    }\n",
       "</style>\n",
       "<table border=\"1\" class=\"dataframe\">\n",
       "  <thead>\n",
       "    <tr style=\"text-align: right;\">\n",
       "      <th></th>\n",
       "      <th>first_name</th>\n",
       "    </tr>\n",
       "  </thead>\n",
       "  <tbody>\n",
       "    <tr>\n",
       "      <th>0</th>\n",
       "      <td>ANNE</td>\n",
       "    </tr>\n",
       "    <tr>\n",
       "      <th>1</th>\n",
       "      <td>BOB</td>\n",
       "    </tr>\n",
       "    <tr>\n",
       "      <th>2</th>\n",
       "      <td>CHARLIE</td>\n",
       "    </tr>\n",
       "    <tr>\n",
       "      <th>3</th>\n",
       "      <td>BOB</td>\n",
       "    </tr>\n",
       "  </tbody>\n",
       "</table>\n",
       "</div>"
      ],
      "text/plain": [
       "  first_name\n",
       "0       ANNE\n",
       "1        BOB\n",
       "2    CHARLIE\n",
       "3        BOB"
      ]
     },
     "metadata": {},
     "output_type": "display_data"
    },
    {
     "data": {
      "text/html": [
       "<h3>pipefirst__agg</h3>"
      ],
      "text/plain": [
       "<IPython.core.display.HTML object>"
      ]
     },
     "metadata": {},
     "output_type": "display_data"
    },
    {
     "data": {
      "text/html": [
       "<div>\n",
       "<style scoped>\n",
       "    .dataframe tbody tr th:only-of-type {\n",
       "        vertical-align: middle;\n",
       "    }\n",
       "\n",
       "    .dataframe tbody tr th {\n",
       "        vertical-align: top;\n",
       "    }\n",
       "\n",
       "    .dataframe thead th {\n",
       "        text-align: right;\n",
       "    }\n",
       "</style>\n",
       "<table border=\"1\" class=\"dataframe\">\n",
       "  <thead>\n",
       "    <tr style=\"text-align: right;\">\n",
       "      <th></th>\n",
       "      <th>first_len</th>\n",
       "      <th>first_lensquared</th>\n",
       "    </tr>\n",
       "  </thead>\n",
       "  <tbody>\n",
       "    <tr>\n",
       "      <th>0</th>\n",
       "      <td>4</td>\n",
       "      <td>16</td>\n",
       "    </tr>\n",
       "    <tr>\n",
       "      <th>1</th>\n",
       "      <td>3</td>\n",
       "      <td>9</td>\n",
       "    </tr>\n",
       "    <tr>\n",
       "      <th>2</th>\n",
       "      <td>7</td>\n",
       "      <td>49</td>\n",
       "    </tr>\n",
       "    <tr>\n",
       "      <th>3</th>\n",
       "      <td>3</td>\n",
       "      <td>9</td>\n",
       "    </tr>\n",
       "  </tbody>\n",
       "</table>\n",
       "</div>"
      ],
      "text/plain": [
       "   first_len  first_lensquared\n",
       "0          4                16\n",
       "1          3                 9\n",
       "2          7                49\n",
       "3          3                 9"
      ]
     },
     "metadata": {},
     "output_type": "display_data"
    },
    {
     "data": {
      "text/html": [
       "<h3>pipelast__factor</h3>"
      ],
      "text/plain": [
       "<IPython.core.display.HTML object>"
      ]
     },
     "metadata": {},
     "output_type": "display_data"
    },
    {
     "data": {
      "text/html": [
       "<div>\n",
       "<style scoped>\n",
       "    .dataframe tbody tr th:only-of-type {\n",
       "        vertical-align: middle;\n",
       "    }\n",
       "\n",
       "    .dataframe tbody tr th {\n",
       "        vertical-align: top;\n",
       "    }\n",
       "\n",
       "    .dataframe thead th {\n",
       "        text-align: right;\n",
       "    }\n",
       "</style>\n",
       "<table border=\"1\" class=\"dataframe\">\n",
       "  <thead>\n",
       "    <tr style=\"text-align: right;\">\n",
       "      <th></th>\n",
       "      <th>last_name</th>\n",
       "    </tr>\n",
       "  </thead>\n",
       "  <tbody>\n",
       "    <tr>\n",
       "      <th>0</th>\n",
       "      <td>tforcnaBtforcnaBtforcnaB</td>\n",
       "    </tr>\n",
       "    <tr>\n",
       "      <th>1</th>\n",
       "      <td>nalyDnalyDnalyD</td>\n",
       "    </tr>\n",
       "    <tr>\n",
       "      <th>2</th>\n",
       "      <td>nilpahCnilpahCnilpahC</td>\n",
       "    </tr>\n",
       "    <tr>\n",
       "      <th>3</th>\n",
       "      <td>yelraMyelraMyelraM</td>\n",
       "    </tr>\n",
       "  </tbody>\n",
       "</table>\n",
       "</div>"
      ],
      "text/plain": [
       "                  last_name\n",
       "0  tforcnaBtforcnaBtforcnaB\n",
       "1           nalyDnalyDnalyD\n",
       "2     nilpahCnilpahCnilpahC\n",
       "3        yelraMyelraMyelraM"
      ]
     },
     "metadata": {},
     "output_type": "display_data"
    },
    {
     "data": {
      "text/html": [
       "<h3>pipelast__camel</h3>"
      ],
      "text/plain": [
       "<IPython.core.display.HTML object>"
      ]
     },
     "metadata": {},
     "output_type": "display_data"
    },
    {
     "data": {
      "text/html": [
       "<div>\n",
       "<style scoped>\n",
       "    .dataframe tbody tr th:only-of-type {\n",
       "        vertical-align: middle;\n",
       "    }\n",
       "\n",
       "    .dataframe tbody tr th {\n",
       "        vertical-align: top;\n",
       "    }\n",
       "\n",
       "    .dataframe thead th {\n",
       "        text-align: right;\n",
       "    }\n",
       "</style>\n",
       "<table border=\"1\" class=\"dataframe\">\n",
       "  <thead>\n",
       "    <tr style=\"text-align: right;\">\n",
       "      <th></th>\n",
       "      <th>last_name</th>\n",
       "    </tr>\n",
       "  </thead>\n",
       "  <tbody>\n",
       "    <tr>\n",
       "      <th>0</th>\n",
       "      <td>Tforcnabtforcnabtforcnab</td>\n",
       "    </tr>\n",
       "    <tr>\n",
       "      <th>1</th>\n",
       "      <td>Nalydnalydnalyd</td>\n",
       "    </tr>\n",
       "    <tr>\n",
       "      <th>2</th>\n",
       "      <td>Nilpahcnilpahcnilpahc</td>\n",
       "    </tr>\n",
       "    <tr>\n",
       "      <th>3</th>\n",
       "      <td>Yelramyelramyelram</td>\n",
       "    </tr>\n",
       "  </tbody>\n",
       "</table>\n",
       "</div>"
      ],
      "text/plain": [
       "                  last_name\n",
       "0  Tforcnabtforcnabtforcnab\n",
       "1           Nalydnalydnalyd\n",
       "2     Nilpahcnilpahcnilpahc\n",
       "3        Yelramyelramyelram"
      ]
     },
     "metadata": {},
     "output_type": "display_data"
    },
    {
     "data": {
      "text/html": [
       "<h3>Composite Transformation</h3>"
      ],
      "text/plain": [
       "<IPython.core.display.HTML object>"
      ]
     },
     "metadata": {},
     "output_type": "display_data"
    },
    {
     "data": {
      "text/html": [
       "<div>\n",
       "<style scoped>\n",
       "    .dataframe tbody tr th:only-of-type {\n",
       "        vertical-align: middle;\n",
       "    }\n",
       "\n",
       "    .dataframe tbody tr th {\n",
       "        vertical-align: top;\n",
       "    }\n",
       "\n",
       "    .dataframe thead th {\n",
       "        text-align: right;\n",
       "    }\n",
       "</style>\n",
       "<table border=\"1\" class=\"dataframe\">\n",
       "  <thead>\n",
       "    <tr style=\"text-align: right;\">\n",
       "      <th></th>\n",
       "      <th>pipefirst__first_len</th>\n",
       "      <th>pipefirst__first_lensquared</th>\n",
       "      <th>pipelast__last_name</th>\n",
       "      <th>remainder__age</th>\n",
       "      <th>remainder__len_all</th>\n",
       "    </tr>\n",
       "  </thead>\n",
       "  <tbody>\n",
       "    <tr>\n",
       "      <th>0</th>\n",
       "      <td>4</td>\n",
       "      <td>16</td>\n",
       "      <td>Tforcnabtforcnabtforcnab</td>\n",
       "      <td>20</td>\n",
       "      <td>12</td>\n",
       "    </tr>\n",
       "    <tr>\n",
       "      <th>1</th>\n",
       "      <td>3</td>\n",
       "      <td>9</td>\n",
       "      <td>Nalydnalydnalyd</td>\n",
       "      <td>21</td>\n",
       "      <td>8</td>\n",
       "    </tr>\n",
       "    <tr>\n",
       "      <th>2</th>\n",
       "      <td>7</td>\n",
       "      <td>49</td>\n",
       "      <td>Nilpahcnilpahcnilpahc</td>\n",
       "      <td>22</td>\n",
       "      <td>14</td>\n",
       "    </tr>\n",
       "    <tr>\n",
       "      <th>3</th>\n",
       "      <td>3</td>\n",
       "      <td>9</td>\n",
       "      <td>Yelramyelramyelram</td>\n",
       "      <td>23</td>\n",
       "      <td>9</td>\n",
       "    </tr>\n",
       "  </tbody>\n",
       "</table>\n",
       "</div>"
      ],
      "text/plain": [
       "  pipefirst__first_len pipefirst__first_lensquared       pipelast__last_name  \\\n",
       "0                    4                          16  Tforcnabtforcnabtforcnab   \n",
       "1                    3                           9           Nalydnalydnalyd   \n",
       "2                    7                          49     Nilpahcnilpahcnilpahc   \n",
       "3                    3                           9        Yelramyelramyelram   \n",
       "\n",
       "  remainder__age remainder__len_all  \n",
       "0             20                 12  \n",
       "1             21                  8  \n",
       "2             22                 14  \n",
       "3             23                  9  "
      ]
     },
     "metadata": {},
     "output_type": "display_data"
    }
   ],
   "source": [
    "intermediate_results = {}\n",
    "for name, transformer, cols in col_tx1.transformers_:\n",
    "    if transformer == 'passthrough' or name == 'remainder':\n",
    "        continue\n",
    "    with intermediate_transforms(transformer):\n",
    "        Xt = transformer.transform(df[cols])\n",
    "        intermediate_results_sub = transformer.intermediate_results__\n",
    "\n",
    "    for key_sub in intermediate_results_sub.keys():\n",
    "        sub_name = name + '__' + key_sub\n",
    "        intermediate_results[sub_name] = intermediate_results_sub[key_sub]\n",
    "\n",
    "for k, v in intermediate_results.items():\n",
    "    display(HTML(f'<h3>{k}</h3>'), v)\n",
    "    \n",
    "display(HTML(f'<h3>Composite Transformation</h3>'), col_tx1.transform(df))"
   ]
  },
  {
   "cell_type": "markdown",
   "id": "7c56947b",
   "metadata": {},
   "source": [
    "# Conclusion\n",
    "\n",
    "This notebook demonstrates the utility of using the sklearn Pipeline architecture, with branching and splitting. Models can obviously be made rather complex with the branching and splitting capabilities, but through graphical tools and vieweing intermediate results, these approaches can help in the debugging and explainability of our models.\n",
    "\n",
    "With respect to our models, inputs will largely come as a formatted DataFrame, so ColumnTransformerDataFrame should be the object that splits columns into other FeatureNamesPipeline objects. This also requires careful use of the `feature_names` properties of the transformers.\n"
   ]
  }
 ],
 "metadata": {
  "kernelspec": {
   "display_name": "Custom (Python3.8)",
   "language": "python",
   "name": "python3.8"
  },
  "language_info": {
   "codemirror_mode": {
    "name": "ipython",
    "version": 3
   },
   "file_extension": ".py",
   "mimetype": "text/x-python",
   "name": "python",
   "nbconvert_exporter": "python",
   "pygments_lexer": "ipython3",
   "version": "3.8.10"
  }
 },
 "nbformat": 4,
 "nbformat_minor": 5
}
