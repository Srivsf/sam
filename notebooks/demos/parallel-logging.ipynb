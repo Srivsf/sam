{
 "cells": [
  {
   "cell_type": "markdown",
   "metadata": {},
   "source": [
    "This notebook illustrates using the logging mechanism of Python with joblib.Parallel. In a notebook, sys.stdout and sys.stderr do not work as expected.\n",
    "\n",
    "Resources:\n",
    "  * https://cvw.cac.cornell.edu/python/otherparallel\n",
    "  * https://github.com/joblib/joblib/issues/634#issuecomment-367321025\n",
    " "
   ]
  },
  {
   "cell_type": "code",
   "execution_count": 1,
   "metadata": {
    "scrolled": false
   },
   "outputs": [],
   "source": [
    "import os\n",
    "try:\n",
    "    os.remove('parallel-logging.log')\n",
    "except FileNotFoundError:\n",
    "    pass\n",
    "\n",
    "import time\n",
    "\n",
    "from joblib import Parallel, delayed\n",
    "from dhi.dsmatch.util.parallel import ParallelFileLogger\n",
    "\n",
    "def func(i, pfl):\n",
    "    logger = pfl.get_logger()\n",
    "    logger.warning(f\"Function calling {i}\")\n",
    "    time.sleep(0.5)\n",
    "\n",
    "pfl = ParallelFileLogger(filename='parallel-logging.log')\n",
    "\n",
    "with Parallel(n_jobs=2) as parallel:\n",
    "    parallel(delayed(func)(i, pfl) for i in range(10))"
   ]
  },
  {
   "cell_type": "code",
   "execution_count": null,
   "metadata": {},
   "outputs": [],
   "source": []
  }
 ],
 "metadata": {
  "kernelspec": {
   "display_name": "conda_python3",
   "language": "python",
   "name": "conda_python3"
  },
  "language_info": {
   "codemirror_mode": {
    "name": "ipython",
    "version": 3
   },
   "file_extension": ".py",
   "mimetype": "text/x-python",
   "name": "python",
   "nbconvert_exporter": "python",
   "pygments_lexer": "ipython3",
   "version": "3.6.10"
  }
 },
 "nbformat": 4,
 "nbformat_minor": 4
}
