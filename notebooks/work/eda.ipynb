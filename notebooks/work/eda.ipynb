{
 "cells": [
  {
   "cell_type": "code",
   "execution_count": 1,
   "id": "66941c17",
   "metadata": {},
   "outputs": [],
   "source": [
    "# %pip install dhi-dsmatch[training]==1.1.22"
   ]
  },
  {
   "cell_type": "code",
   "execution_count": 2,
   "id": "df7aefba",
   "metadata": {},
   "outputs": [],
   "source": [
    "import os\n",
    "import pandas as pd\n",
    "import numpy as np\n",
    "import matplotlib.pyplot as plt\n",
    "\n",
    "from IPython.display import HTML\n",
    "from tqdm.auto import tqdm\n",
    "from pyathena import connect\n",
    "from pyathena.pandas.cursor import PandasCursor\n",
    "cursor = connect(s3_staging_dir='s3://aws-athena-query-results-229357985605-us-east-1/',\n",
    "                 region_name='us-east-1',\n",
    "                 cursor_class=PandasCursor).cursor()\n",
    "\n",
    "\n",
    "from dhi.dsmatch import local_bucket\n",
    "from dhi.dsmatch.sklearnmodeling.models.applytransformer import ApplyTransformer\n",
    "from dhi.dsmatch.sklearnmodeling.functiontransformermapper import applymap"
   ]
  },
  {
   "cell_type": "code",
   "execution_count": 3,
   "id": "151502e0",
   "metadata": {},
   "outputs": [],
   "source": [
    "# data = pd.read_csv (os.path.join(local_bucket,'data','dice','new-bg-parsing-2022','parsed-data-10000-rec.csv'))\n"
   ]
  },
  {
   "cell_type": "code",
   "execution_count": 4,
   "id": "7f734d58",
   "metadata": {},
   "outputs": [],
   "source": [
    "\n",
    "# new_df = []\n",
    "# for (y, m), g in tqdm(data.groupby(['year', 'month'])):\n",
    "#     snapshot_ids = g.snapshot_id.unique()\n",
    "#     sql=f\"\"\"SELECT  year, month, day, snapshot_id, profile_id, array_join(array_agg(skill_name), ':: ') as profile_skill_data_pond\n",
    "#                 , array_join(array_agg(skill_years_of_experience), ', ') as profile_skills_exp\n",
    "#         FROM prod_matchology_annotations.profile_skills \n",
    "#         WHERE snapshot_id in {tuple(snapshot_ids)}\n",
    "#         AND year='{y}'\n",
    "#         AND month='{m:02d}'\n",
    "#         GROUP BY snapshot_id, profile_id, year, month, day\n",
    "#         \"\"\"\n",
    "#     d1 = cursor.execute(sql).as_pandas()\n",
    "#     new_df.append(d1)\n",
    "# df = pd.concat(new_df, ignore_index = True)\n",
    "\n"
   ]
  },
  {
   "cell_type": "markdown",
   "id": "fcf54866",
   "metadata": {},
   "source": [
    "# converting str into int for years, month and days"
   ]
  },
  {
   "cell_type": "code",
   "execution_count": 5,
   "id": "65308b18",
   "metadata": {},
   "outputs": [],
   "source": [
    "# def max_val(x):\n",
    "#     try:\n",
    "#         return max(map(int,x.split(',')))\n",
    "#     except:\n",
    "#         pass\n",
    "#     return np.nan\n",
    "# df['overall_exp_profile'] = df['profile_skills_exp'].apply(max_val)\n",
    "# df['overall_exp_profile'] [:2]"
   ]
  },
  {
   "cell_type": "code",
   "execution_count": 6,
   "id": "e783e8a2",
   "metadata": {},
   "outputs": [],
   "source": [
    "# data = pd.merge(data,df , how='left')\n",
    "# data = data.rename(columns={'overall_experience_resume':'overall_exp_bg' })\n",
    "# data.to_csv(os.path.join(local_bucket,'data','dice','new-bg-parsing-2022','parsed-data-10000-rec-with-profile-exp.csv'),index=False)\n"
   ]
  },
  {
   "cell_type": "markdown",
   "id": "959f1f2b",
   "metadata": {},
   "source": [
    "Parsing resume overall experience"
   ]
  },
  {
   "cell_type": "code",
   "execution_count": 7,
   "id": "10f70007",
   "metadata": {},
   "outputs": [],
   "source": [
    "# from dhi.dsmatch.preprocess.bgprocessing import datetime_to_julian\n",
    "# from jsonpath_ng import parse\n",
    "# def match_with_present(x,present):\n",
    "\n",
    "#     try:\n",
    "#         return int(x)\n",
    "#     except ValueError:\n",
    "#         pass\n",
    "#     return present\n",
    "\n",
    "# def extract_resume_overall_experience(d: dict) -> int:\n",
    "#     \"\"\"\n",
    "#     \"\"\"\n",
    "#     try:\n",
    "#         explist = d['responseData']['ResDoc']['resume']['experience']\n",
    "#         if not isinstance(explist, list):\n",
    "#             explist = [explist]\n",
    "\n",
    "#         try:\n",
    "#             present = int(d['responseData']['ResDoc']['resume']['@present'])\n",
    "#         except KeyError:\n",
    "#             present = datetime_to_julian(datetime.today())\n",
    "#         min_start = present\n",
    "#         max_end = present\n",
    "        \n",
    "        \n",
    "        \n",
    "#         try:\n",
    "#             jsonpath_expr = parse(f'$..@end')\n",
    "#             ends = list(map(int, [match.value for match in jsonpath_expr.find(d)]))\n",
    "#             jsonpath_expr = parse(f'$..daterange.end.@days')\n",
    "#             ends2 = list(map(int, [match.value for match in jsonpath_expr.find(d)]))\n",
    "#             ends.extend(ends2)\n",
    "#             max_end = np.max(ends)\n",
    "#         except ValueError:\n",
    "#             pass\n",
    "        \n",
    "        \n",
    "#         try:\n",
    "#             jsonpath_expr = parse(f'$..@start')\n",
    "            \n",
    "#             starts = list(map(int, [match.value for match in jsonpath_expr.find(d)]))\n",
    "#             jsonpath_expr = parse(f'$..daterange.start.@days')\n",
    "#             matches = [match.value for match in jsonpath_expr.find(d)]\n",
    "            \n",
    "#             starts2 = list(map(lambda x: match_with_present(x,present), matches))\n",
    "#             starts.extend(starts2)\n",
    "            \n",
    "#             min_start = np.min(starts)\n",
    "            \n",
    "#         except ValueError:\n",
    "#             pass\n",
    "        \n",
    "#         diff = max_end - min_start  # In days\n",
    "#         if diff> 0 :\n",
    "#             return diff\n",
    "        \n",
    "         \n",
    "    \n",
    "#     except KeyError:\n",
    "#         pass\n",
    "#     return -1"
   ]
  },
  {
   "cell_type": "code",
   "execution_count": 8,
   "id": "f6cf07dc",
   "metadata": {},
   "outputs": [],
   "source": [
    "# data['resume_new_bg_parse']= data['resume_new_bg_parse'].apply(eval)"
   ]
  },
  {
   "cell_type": "code",
   "execution_count": 9,
   "id": "700b1c91",
   "metadata": {},
   "outputs": [],
   "source": [
    "\n",
    "# tx = ApplyTransformer(applymap, extract_resume_overall_experience)\n",
    "# data['overall_experience_bg'] = tx.transform(data['resume_new_bg_parse'])\n",
    "# idxs = data[data['overall_experience_bg'] > -1].index\n",
    "# data.loc[idxs, 'overall_experience_bg'] /= 365\n",
    "# data['overall_experience_bg'].value_counts(normalize=True)"
   ]
  },
  {
   "cell_type": "code",
   "execution_count": 10,
   "id": "52e29926",
   "metadata": {},
   "outputs": [],
   "source": [
    "# data.to_csv(os.path.join(local_bucket,'data','dice','new-bg-parsing-2022','parsed-data-10000-rec-with-profile-exp.csv'),index=False)\n"
   ]
  },
  {
   "cell_type": "markdown",
   "id": "0aeeb73a",
   "metadata": {},
   "source": [
    "The above cell takes more than 30 min to run, so we have saved the data. It is advisable to run all the cell below."
   ]
  },
  {
   "cell_type": "code",
   "execution_count": 11,
   "id": "301eafb9",
   "metadata": {},
   "outputs": [],
   "source": [
    "data = pd.read_csv(os.path.join(local_bucket,'data','dice','new-bg-parsing-2022','parsed-data-10000-rec-with-profile-exp.csv'))\n"
   ]
  },
  {
   "cell_type": "code",
   "execution_count": 12,
   "id": "a7bd067c",
   "metadata": {},
   "outputs": [
    {
     "data": {
      "text/html": [
       "<div>\n",
       "<style scoped>\n",
       "    .dataframe tbody tr th:only-of-type {\n",
       "        vertical-align: middle;\n",
       "    }\n",
       "\n",
       "    .dataframe tbody tr th {\n",
       "        vertical-align: top;\n",
       "    }\n",
       "\n",
       "    .dataframe thead th {\n",
       "        text-align: right;\n",
       "    }\n",
       "</style>\n",
       "<table border=\"1\" class=\"dataframe\">\n",
       "  <thead>\n",
       "    <tr style=\"text-align: right;\">\n",
       "      <th></th>\n",
       "      <th>snapshot_id</th>\n",
       "      <th>profile_id</th>\n",
       "      <th>year</th>\n",
       "      <th>month</th>\n",
       "      <th>day</th>\n",
       "      <th>previous_title</th>\n",
       "      <th>current_title</th>\n",
       "      <th>profile_skills</th>\n",
       "      <th>job_skills</th>\n",
       "      <th>desired_title</th>\n",
       "      <th>...</th>\n",
       "      <th>resume_skill_experience</th>\n",
       "      <th>resume_new_bg_skills</th>\n",
       "      <th>resume_new_len_skills</th>\n",
       "      <th>resume_new_len_experience_skills</th>\n",
       "      <th>resume_frac_skills_with_experience</th>\n",
       "      <th>resume_job_experience</th>\n",
       "      <th>profile_skill_data_pond</th>\n",
       "      <th>profile_skills_exp</th>\n",
       "      <th>overall_exp_profile</th>\n",
       "      <th>overall_experience_bg</th>\n",
       "    </tr>\n",
       "  </thead>\n",
       "  <tbody>\n",
       "    <tr>\n",
       "      <th>0</th>\n",
       "      <td>4350cf17-f757-5c8a-b2e4-97a772b758a8</td>\n",
       "      <td>9e3468c4014bac5737dd0864543ab978</td>\n",
       "      <td>2021</td>\n",
       "      <td>2</td>\n",
       "      <td>24</td>\n",
       "      <td>Network Engineer I:: Technical Solutions Analyst</td>\n",
       "      <td>Network Engineer</td>\n",
       "      <td>NaN</td>\n",
       "      <td>yaml:: amazon web services:: devops:: python::...</td>\n",
       "      <td>Network Engineer</td>\n",
       "      <td>...</td>\n",
       "      <td>{'Ansible': {'duration': 3.750684931506849, 'l...</td>\n",
       "      <td>['Ansible', 'Business-to-Business', 'Cisco', '...</td>\n",
       "      <td>26</td>\n",
       "      <td>19</td>\n",
       "      <td>0.730769</td>\n",
       "      <td>[{'bgtocc': '15-1199.02', 'duration': 3.750684...</td>\n",
       "      <td>Network engineering:: VPN:: Network:: Tier 3::...</td>\n",
       "      <td>2, 2, 2, 2, 2, 2, 2, 2, 2, 2, 2, 2, 2, 2, 2, 2...</td>\n",
       "      <td>5.0</td>\n",
       "      <td>5.830137</td>\n",
       "    </tr>\n",
       "    <tr>\n",
       "      <th>1</th>\n",
       "      <td>1b18511f-3339-44c4-92b4-8ac7418aa227</td>\n",
       "      <td>7c486ad56923319f8369f3cabf9778aa</td>\n",
       "      <td>2021</td>\n",
       "      <td>11</td>\n",
       "      <td>19</td>\n",
       "      <td>NaN</td>\n",
       "      <td>Android Developer</td>\n",
       "      <td>Software:: Android:: JSON:: RESTful:: Web serv...</td>\n",
       "      <td>cocoa:: xcode 10.x:: ios sdk:: swift</td>\n",
       "      <td>Android Developer</td>\n",
       "      <td>...</td>\n",
       "      <td>{'Android Software Development Kit (SDK)': {'d...</td>\n",
       "      <td>['Android Software Development Kit (SDK)', 'An...</td>\n",
       "      <td>68</td>\n",
       "      <td>44</td>\n",
       "      <td>0.647059</td>\n",
       "      <td>[{'bgtocc': '15-1131.92', 'duration': 6.172602...</td>\n",
       "      <td>Software:: Android:: JSON:: RESTful:: Web serv...</td>\n",
       "      <td>8, 7, 7, 7, 7, 7, 7, 7, 6, 5, 5, 4, 4, 4, 4, 4...</td>\n",
       "      <td>8.0</td>\n",
       "      <td>11.249315</td>\n",
       "    </tr>\n",
       "    <tr>\n",
       "      <th>2</th>\n",
       "      <td>421a2d27-06d8-5e86-8045-75df5bd32c41</td>\n",
       "      <td>9f8a9cbbfd69c11429f0576f77710129</td>\n",
       "      <td>2021</td>\n",
       "      <td>4</td>\n",
       "      <td>20</td>\n",
       "      <td>NaN</td>\n",
       "      <td>NaN</td>\n",
       "      <td>NaN</td>\n",
       "      <td>NaN</td>\n",
       "      <td>Sr. Project Manager</td>\n",
       "      <td>...</td>\n",
       "      <td>{'Account Adjustment': {'duration': 21.2547945...</td>\n",
       "      <td>['Account Adjustment', 'Agile Project Manageme...</td>\n",
       "      <td>65</td>\n",
       "      <td>43</td>\n",
       "      <td>0.661538</td>\n",
       "      <td>[{'bgtocc': '15-1199.09', 'duration': 21.25479...</td>\n",
       "      <td>Microsoft Windows:: Agile/Scrum:: Active liste...</td>\n",
       "      <td>10, 7, 15, 15, 10, 9, 15, 14, 14, 7, 15, 10, 7...</td>\n",
       "      <td>37.0</td>\n",
       "      <td>21.254795</td>\n",
       "    </tr>\n",
       "    <tr>\n",
       "      <th>3</th>\n",
       "      <td>68436bfa-c2c4-5849-b5e5-3252b97ae6af</td>\n",
       "      <td>744187a046aa197acad39dd325b43a07</td>\n",
       "      <td>2021</td>\n",
       "      <td>8</td>\n",
       "      <td>31</td>\n",
       "      <td>Field Service Technician:: Integration Special...</td>\n",
       "      <td>NaN</td>\n",
       "      <td>Repair:: Network:: Technician:: Field service:...</td>\n",
       "      <td>it support:: desktop</td>\n",
       "      <td>Field Service Technician</td>\n",
       "      <td>...</td>\n",
       "      <td>{'Cabling': {'duration': 9.246575342465754, 'l...</td>\n",
       "      <td>['Articulate', 'Building Effective Relationshi...</td>\n",
       "      <td>45</td>\n",
       "      <td>15</td>\n",
       "      <td>0.333333</td>\n",
       "      <td>[{'bgtocc': '15-1142.00', 'duration': 9.246575...</td>\n",
       "      <td>Repair:: Network:: Technician:: Field service:...</td>\n",
       "      <td>6, 5, 4, 3, 3, 3, 3, 3, 3, 3, 3, 3, 3, 3, 3, 2...</td>\n",
       "      <td>6.0</td>\n",
       "      <td>15.252055</td>\n",
       "    </tr>\n",
       "    <tr>\n",
       "      <th>4</th>\n",
       "      <td>22e4dfce-db6c-5a98-bb2f-87ad33ac40d0</td>\n",
       "      <td>b32f76fef50fc6d9fa874ef2c35fb47e</td>\n",
       "      <td>2020</td>\n",
       "      <td>12</td>\n",
       "      <td>28</td>\n",
       "      <td>NaN</td>\n",
       "      <td>NaN</td>\n",
       "      <td>NaN</td>\n",
       "      <td>.net core reactjs developer</td>\n",
       "      <td>Stack Developer</td>\n",
       "      <td>...</td>\n",
       "      <td>{'.NET': {'duration': 12.087671232876712, 'las...</td>\n",
       "      <td>['.NET', '.NET Core', 'AJAX', 'API Management'...</td>\n",
       "      <td>186</td>\n",
       "      <td>185</td>\n",
       "      <td>0.994624</td>\n",
       "      <td>[{'bgtocc': '15-1131.00', 'duration': 3.578082...</td>\n",
       "      <td>Web applications:: Web services:: C#:: ASP.NET...</td>\n",
       "      <td>10, 10, 10, 10, 10, 10, 10, 10, 10, 9, 9, 9, 8...</td>\n",
       "      <td>10.0</td>\n",
       "      <td>12.087671</td>\n",
       "    </tr>\n",
       "  </tbody>\n",
       "</table>\n",
       "<p>5 rows × 38 columns</p>\n",
       "</div>"
      ],
      "text/plain": [
       "                            snapshot_id                        profile_id  \\\n",
       "0  4350cf17-f757-5c8a-b2e4-97a772b758a8  9e3468c4014bac5737dd0864543ab978   \n",
       "1  1b18511f-3339-44c4-92b4-8ac7418aa227  7c486ad56923319f8369f3cabf9778aa   \n",
       "2  421a2d27-06d8-5e86-8045-75df5bd32c41  9f8a9cbbfd69c11429f0576f77710129   \n",
       "3  68436bfa-c2c4-5849-b5e5-3252b97ae6af  744187a046aa197acad39dd325b43a07   \n",
       "4  22e4dfce-db6c-5a98-bb2f-87ad33ac40d0  b32f76fef50fc6d9fa874ef2c35fb47e   \n",
       "\n",
       "   year  month  day                                     previous_title  \\\n",
       "0  2021      2   24   Network Engineer I:: Technical Solutions Analyst   \n",
       "1  2021     11   19                                                NaN   \n",
       "2  2021      4   20                                                NaN   \n",
       "3  2021      8   31  Field Service Technician:: Integration Special...   \n",
       "4  2020     12   28                                                NaN   \n",
       "\n",
       "       current_title                                     profile_skills  \\\n",
       "0   Network Engineer                                                NaN   \n",
       "1  Android Developer  Software:: Android:: JSON:: RESTful:: Web serv...   \n",
       "2                NaN                                                NaN   \n",
       "3                NaN  Repair:: Network:: Technician:: Field service:...   \n",
       "4                NaN                                                NaN   \n",
       "\n",
       "                                          job_skills  \\\n",
       "0  yaml:: amazon web services:: devops:: python::...   \n",
       "1               cocoa:: xcode 10.x:: ios sdk:: swift   \n",
       "2                                                NaN   \n",
       "3                               it support:: desktop   \n",
       "4                        .net core reactjs developer   \n",
       "\n",
       "              desired_title  ...  \\\n",
       "0          Network Engineer  ...   \n",
       "1         Android Developer  ...   \n",
       "2       Sr. Project Manager  ...   \n",
       "3  Field Service Technician  ...   \n",
       "4           Stack Developer  ...   \n",
       "\n",
       "                             resume_skill_experience  \\\n",
       "0  {'Ansible': {'duration': 3.750684931506849, 'l...   \n",
       "1  {'Android Software Development Kit (SDK)': {'d...   \n",
       "2  {'Account Adjustment': {'duration': 21.2547945...   \n",
       "3  {'Cabling': {'duration': 9.246575342465754, 'l...   \n",
       "4  {'.NET': {'duration': 12.087671232876712, 'las...   \n",
       "\n",
       "                                resume_new_bg_skills resume_new_len_skills  \\\n",
       "0  ['Ansible', 'Business-to-Business', 'Cisco', '...                    26   \n",
       "1  ['Android Software Development Kit (SDK)', 'An...                    68   \n",
       "2  ['Account Adjustment', 'Agile Project Manageme...                    65   \n",
       "3  ['Articulate', 'Building Effective Relationshi...                    45   \n",
       "4  ['.NET', '.NET Core', 'AJAX', 'API Management'...                   186   \n",
       "\n",
       "  resume_new_len_experience_skills resume_frac_skills_with_experience  \\\n",
       "0                               19                           0.730769   \n",
       "1                               44                           0.647059   \n",
       "2                               43                           0.661538   \n",
       "3                               15                           0.333333   \n",
       "4                              185                           0.994624   \n",
       "\n",
       "                               resume_job_experience  \\\n",
       "0  [{'bgtocc': '15-1199.02', 'duration': 3.750684...   \n",
       "1  [{'bgtocc': '15-1131.92', 'duration': 6.172602...   \n",
       "2  [{'bgtocc': '15-1199.09', 'duration': 21.25479...   \n",
       "3  [{'bgtocc': '15-1142.00', 'duration': 9.246575...   \n",
       "4  [{'bgtocc': '15-1131.00', 'duration': 3.578082...   \n",
       "\n",
       "                             profile_skill_data_pond  \\\n",
       "0  Network engineering:: VPN:: Network:: Tier 3::...   \n",
       "1  Software:: Android:: JSON:: RESTful:: Web serv...   \n",
       "2  Microsoft Windows:: Agile/Scrum:: Active liste...   \n",
       "3  Repair:: Network:: Technician:: Field service:...   \n",
       "4  Web applications:: Web services:: C#:: ASP.NET...   \n",
       "\n",
       "                                  profile_skills_exp overall_exp_profile  \\\n",
       "0  2, 2, 2, 2, 2, 2, 2, 2, 2, 2, 2, 2, 2, 2, 2, 2...                 5.0   \n",
       "1  8, 7, 7, 7, 7, 7, 7, 7, 6, 5, 5, 4, 4, 4, 4, 4...                 8.0   \n",
       "2  10, 7, 15, 15, 10, 9, 15, 14, 14, 7, 15, 10, 7...                37.0   \n",
       "3  6, 5, 4, 3, 3, 3, 3, 3, 3, 3, 3, 3, 3, 3, 3, 2...                 6.0   \n",
       "4  10, 10, 10, 10, 10, 10, 10, 10, 10, 9, 9, 9, 8...                10.0   \n",
       "\n",
       "  overall_experience_bg  \n",
       "0              5.830137  \n",
       "1             11.249315  \n",
       "2             21.254795  \n",
       "3             15.252055  \n",
       "4             12.087671  \n",
       "\n",
       "[5 rows x 38 columns]"
      ]
     },
     "execution_count": 12,
     "metadata": {},
     "output_type": "execute_result"
    }
   ],
   "source": [
    "data.head()"
   ]
  },
  {
   "cell_type": "markdown",
   "id": "3f0a1606",
   "metadata": {},
   "source": [
    "preprocessing before analysis"
   ]
  },
  {
   "cell_type": "code",
   "execution_count": 13,
   "id": "5192ebd4",
   "metadata": {},
   "outputs": [],
   "source": [
    "data['year'] = data['year'].astype(int)# converting into int\n",
    "data['month'] = data['month'].astype(int)\n",
    "data['day'] = data['day'].astype(int)\n",
    "data['job_minyrsexp'] = data['job_minyrsexp'].str.replace('NOT FOUND','-1')\n",
    "data['job_minyrsexp'] = data['job_minyrsexp'].astype(float)\n",
    "\n",
    "\n",
    "data['description_experience_min'] = data['description_experience_min'].str.replace('NOT FOUND','-12')\n",
    "data['description_experience_min'] = data['description_experience_min'].astype(float)\n",
    "data['description_experience_min'] = data['description_experience_min']/12\n",
    "\n"
   ]
  },
  {
   "cell_type": "code",
   "execution_count": 14,
   "id": "b88f8260",
   "metadata": {},
   "outputs": [
    {
     "data": {
      "text/html": [
       "<div>\n",
       "<style scoped>\n",
       "    .dataframe tbody tr th:only-of-type {\n",
       "        vertical-align: middle;\n",
       "    }\n",
       "\n",
       "    .dataframe tbody tr th {\n",
       "        vertical-align: top;\n",
       "    }\n",
       "\n",
       "    .dataframe thead th {\n",
       "        text-align: right;\n",
       "    }\n",
       "</style>\n",
       "<table border=\"1\" class=\"dataframe\">\n",
       "  <thead>\n",
       "    <tr style=\"text-align: right;\">\n",
       "      <th></th>\n",
       "      <th>job_description</th>\n",
       "      <th>overall_experience_bg</th>\n",
       "      <th>overall_exp_profile</th>\n",
       "      <th>job_minyrsexp</th>\n",
       "      <th>description_experience_min</th>\n",
       "    </tr>\n",
       "  </thead>\n",
       "  <tbody>\n",
       "    <tr>\n",
       "      <th>0</th>\n",
       "      <td>&lt;!DOCTYPE html&gt;&lt;html&gt;&lt;head&gt;&lt;/head&gt;&lt;body&gt;&lt;p&gt;&lt;st...</td>\n",
       "      <td>5.830137</td>\n",
       "      <td>5.0</td>\n",
       "      <td>2.0</td>\n",
       "      <td>5.0</td>\n",
       "    </tr>\n",
       "    <tr>\n",
       "      <th>1</th>\n",
       "      <td>&lt;!DOCTYPE html&gt;&lt;html&gt;&lt;head&gt;&lt;/head&gt;&lt;body&gt;&lt;p&gt;&lt;sp...</td>\n",
       "      <td>11.249315</td>\n",
       "      <td>8.0</td>\n",
       "      <td>-1.0</td>\n",
       "      <td>6.0</td>\n",
       "    </tr>\n",
       "  </tbody>\n",
       "</table>\n",
       "</div>"
      ],
      "text/plain": [
       "                                     job_description  overall_experience_bg  \\\n",
       "0  <!DOCTYPE html><html><head></head><body><p><st...               5.830137   \n",
       "1  <!DOCTYPE html><html><head></head><body><p><sp...              11.249315   \n",
       "\n",
       "   overall_exp_profile  job_minyrsexp  description_experience_min  \n",
       "0                  5.0            2.0                         5.0  \n",
       "1                  8.0           -1.0                         6.0  "
      ]
     },
     "execution_count": 14,
     "metadata": {},
     "output_type": "execute_result"
    }
   ],
   "source": [
    "cols = ['job_description','overall_experience_bg','overall_exp_profile','job_minyrsexp','description_experience_min']\n",
    "data = data[['job_description','overall_experience_bg','overall_exp_profile','job_minyrsexp','description_experience_min']]\n",
    "data.head(2)"
   ]
  },
  {
   "cell_type": "markdown",
   "id": "daf7637b",
   "metadata": {},
   "source": [
    "Data which is zero or less than zero.There are 42% of the 10000 records in job_minyrsexp are empty. If we consider to filling the gap of job_minyrsexp experience with description_experience_min. We can leverage the empty or zero records of job_minyrsexp by filling the gaps with description_experience_min to consider it as overall experience for job descrition.\n"
   ]
  },
  {
   "cell_type": "code",
   "execution_count": 15,
   "id": "00b4b909",
   "metadata": {},
   "outputs": [
    {
     "data": {
      "text/html": [
       "<font color=blue>Records present</font>"
      ],
      "text/plain": [
       "<IPython.core.display.HTML object>"
      ]
     },
     "metadata": {},
     "output_type": "display_data"
    },
    {
     "name": "stdout",
     "output_type": "stream",
     "text": [
      "overall_experience_bg: 92.72%\n",
      "overall_exp_profile: 98.72999999999999%\n",
      "job_minyrsexp: 57.50999999999999%\n",
      "description_experience_min: 55.63%\n"
     ]
    }
   ],
   "source": [
    "display(HTML(f'<font color=blue>Records present</font>'))\n",
    "for c in cols[1:]:\n",
    "    print(f'{c}:', f'{((data[data[c]>0].shape[0]/data.shape[0])*100)}%')"
   ]
  },
  {
   "cell_type": "markdown",
   "id": "74e18a1c",
   "metadata": {},
   "source": [
    "# Job"
   ]
  },
  {
   "cell_type": "markdown",
   "id": "8c075113",
   "metadata": {},
   "source": [
    "To check the relaibility of some of records we visulaize on box plot. By looking the below graph `job_minyrsexp` have way more outliers than `description_experience_min`. "
   ]
  },
  {
   "cell_type": "code",
   "execution_count": 16,
   "id": "6460c3cc",
   "metadata": {},
   "outputs": [
    {
     "data": {
      "text/plain": [
       "Text(0.5, 0, 'years of expe}rience in job description(job_minyrsexp)')"
      ]
     },
     "execution_count": 16,
     "metadata": {},
     "output_type": "execute_result"
    },
    {
     "data": {
      "image/png": "[encoded data removed]",
      "text/plain": [
       "<Figure size 432x288 with 1 Axes>"
      ]
     },
     "metadata": {
      "needs_background": "light"
     },
     "output_type": "display_data"
    }
   ],
   "source": [
    "import seaborn as sns\n",
    "g = sns.boxplot(x=data['job_minyrsexp'])\n",
    "g.set_xlabel('years of expe}rience in job description(job_minyrsexp)') \n"
   ]
  },
  {
   "cell_type": "code",
   "execution_count": 17,
   "id": "56f296a0",
   "metadata": {},
   "outputs": [
    {
     "data": {
      "text/plain": [
       "Text(0.5, 0, 'years of experience in job description(description_experience_min)')"
      ]
     },
     "execution_count": 17,
     "metadata": {},
     "output_type": "execute_result"
    },
    {
     "data": {
      "image/png": "[encoded data removed]",
      "text/plain": [
       "<Figure size 432x288 with 1 Axes>"
      ]
     },
     "metadata": {
      "needs_background": "light"
     },
     "output_type": "display_data"
    }
   ],
   "source": [
    "g = sns.boxplot(x=data['description_experience_min'])\n",
    "g.set_xlabel('years of experience in job description(description_experience_min)') "
   ]
  },
  {
   "cell_type": "markdown",
   "id": "35d977c9",
   "metadata": {},
   "source": [
    "The above graph of job_minyrsexp says there are some JDs asking forom 50-80 years of expereince. By check few example over 30 years we have found that it is picking the values of companies age (number of years in the business) as a years of experience. These records are risky to use it, instead we should not use it at all. Below are some of the example where it is picking company's age.\n"
   ]
  },
  {
   "cell_type": "code",
   "execution_count": 18,
   "id": "1ad24717",
   "metadata": {
    "scrolled": true
   },
   "outputs": [
    {
     "name": "stdout",
     "output_type": "stream",
     "text": [
      "job_minyrsexp : 20.0\n",
      "description_experience_min : -1.0\n"
     ]
    },
    {
     "data": {
      "text/html": [
       "<br /><br />We are hiring for a Senior QA to be responsible for performing software testing activities, using a variety of testing approaches and techniques, typically providing functional, black-box and user acceptance testing expertise.  <br /> <br /><br /> <br />APPLY NOW!<br /><br /><br />Essential Skills:<br /><br /><br />- Understand risk-based testing, not only focused on requirement testing<br /> <br />- Familiar with both UI and Backend testing<br /> <br />- Prior experience as a Quality Assurance Analyst (senior-level), working on large, complex applications<br /> <br />- Attention to detail and the ability to work in a team-oriented environment<br /> <br />- Experience in an Agile/Scrum environment<br /> <br />- Familiar with different type of testing Risk Based, System, Integration, Black Box., etc.<br /> <br />- Ability to adapt to new situations and learn quickly<br /> <br />- Listening, verbal and written communication skills, with the ability to present information to a variety of audiences <br /><br /><br />Plusses:<br /><br /><br />- Experience working with TFS/ADO <br /><br /><br /><br />* * * * * * * * * * * * * * * * * * * * * * * * * * * * * *<br /><br /><br />Please click the Apply Now button to apply for the job.<br /><br />We will review your resume and call if you are qualified.<br /><br />Resumes will NOT be sent to clients without your approval.<br /><br /><br /><br /><b>REFERRALS WANTED - $&nbsp;500 REWARD!</b><br /><br />Refer a colleague to us, and Precision will give you $&nbsp;500 if we find a job for that person!<br /><br /><small>(The fine print: The referred candidate must be previously unknown to us. Start date must be within 6 months of referral.)</small><br /> <br /> <br />* * * * * * * * * * * * * * * * * * * * * * * * * * * * * *<br /> <br /><br /> <br /><B>THERE ARE MANY IT STAFFING FIRMS YOU CAN WORK WITH.</B><br /> <br /><B>WHY WORK WITH PRECISION? </B><br /> <br /><br /> <br /><br /> <br /><U>Our Clients.</U>  We work with the best.<br /> <br /><br /> <br />- We are direct vendors to Fortune 500 companies across North America<br /> <br /><br /> <br />- We're the top provider of contract IT professionals to many of our clients<br /> <br /><br /> <br /><U>Our Experience.</U>  We know how to sell our candidates to clients.<br /> <br /><br /> <br />- We've been in business for over 20 years, and have made thousands of successful placements<br /> <br /><br /> <br /><U>Our Background.</U>  Precision is run by former IT professionals.<br /> <br /><br /> <br />- We know what it is like to be an IT consultant working in a large organization.<br /> <br /><br /> <br />- We actually understand your skills.  We'll make sure that you are right for the job, and that the job is right for you.<br /> <br /><br /> <br /><U>Our Reputation for Quality.</U>  Clients favor Precision's candidates.<br /> <br /><br /> <br />- We take the time to learn about you so that we can best match you to our openings and sell you to our clients.  <br /> <br /><br /> <br />- Our clients know from experience that Precision's consultants are the most qualified and the best fit for their project teams.<br /> <br /><br /> <br /><U>Our Ethics.</U>  We pride ourselves on our ethical business practices.<br /> <br /><br /> <br />- We never submit your resume without your permission, and we never give your resume to other staffing companies<br /> <br /><br /> <br />- We are up front about pay rates and the interviewing process, and provide you with constant feedback.<br /> <br /><br /> <br /><U>Our Responsibility.</U> We take seriously our obligations to our consultants.<br /> <br /><br /> <br />- We always pay on time<br /> <br /><br /> <br />- We offer highly competitive pay rates, as well as an opportunity to participate in our group health insurance, long term disability and 401(k) plans.<br /> <br /><br /> <br />- When required, we carefully manage H1-B and  applications, and involve you at every step.<br /> <br /><br /> <br />- We have dedicated HR personnel that will answer the phone when you call.<br /> <br /><br /> <br /><B>THE STAFFING FIRM YOU WORK WITH MATTERS. </B><br /> <br /><B>WORK WITH PRECISION. </B><br /> <br /><br /> <br /><br /> <br /><br /><br />Job ID 4362DI-0018<br />"
      ],
      "text/plain": [
       "<IPython.core.display.HTML object>"
      ]
     },
     "execution_count": 18,
     "metadata": {},
     "output_type": "execute_result"
    }
   ],
   "source": [
    "#35 none pickeup any correct records\n",
    "#50 description_experience_min is accurate\n",
    "# 12 index[2], job_minyrsexp is more accurate for our model\n",
    "#21 index[0] a good example , and index[1] is picking company's experience\n",
    "n  = data[data['job_minyrsexp']>15].reset_index()\n",
    "n = n['index'][7]\n",
    "for c in ['job_minyrsexp','description_experience_min']:\n",
    "    print(c,\":\",data[c][n])\n",
    "HTML(data.job_description[n])"
   ]
  },
  {
   "cell_type": "markdown",
   "id": "bae87599",
   "metadata": {},
   "source": [
    "Taking a sampl of 100 revods to visulize them"
   ]
  },
  {
   "cell_type": "code",
   "execution_count": 19,
   "id": "36a568be",
   "metadata": {},
   "outputs": [],
   "source": [
    "df_2 = data.sample( n=100)\n"
   ]
  },
  {
   "cell_type": "code",
   "execution_count": 20,
   "id": "39b9e3f0",
   "metadata": {},
   "outputs": [
    {
     "data": {
      "image/png": "[encoded data removed]",
      "text/plain": [
       "<Figure size 432x288 with 1 Axes>"
      ]
     },
     "metadata": {
      "needs_background": "light"
     },
     "output_type": "display_data"
    }
   ],
   "source": [
    "import matplotlib.pyplot as plt\n",
    "fig, ax = plt.subplots()\n",
    "df_2.plot.scatter('job_minyrsexp','description_experience_min', ax=ax);\n",
    "# ax.plot([0, 35], [0, 35], color='black', lw=.7)\n",
    "ax.grid()"
   ]
  },
  {
   "cell_type": "code",
   "execution_count": 21,
   "id": "fc867595",
   "metadata": {},
   "outputs": [
    {
     "name": "stdout",
     "output_type": "stream",
     "text": [
      "99 percentile:  12.0\n",
      "Max value:  15.0\n",
      "Min value:  -1.0\n"
     ]
    },
    {
     "data": {
      "image/png": "[encoded data removed]",
      "text/plain": [
       "<Figure size 432x288 with 1 Axes>"
      ]
     },
     "metadata": {
      "needs_background": "light"
     },
     "output_type": "display_data"
    }
   ],
   "source": [
    "val  = data['description_experience_min']\n",
    "print(\"99 percentile: \",val.quantile(.994))\n",
    "print(\"Max value: \",val.max())\n",
    "print(\"Min value: \",val.min())\n",
    "bins = np.arange(-1.5,data['description_experience_min'].max()+1)\n",
    "fig, ax=plt.subplots()\n",
    "ax.hist(data['description_experience_min'].apply(round), bins)\n",
    "ax.set_xlabel('description_experience_min')\n",
    "ax.title.set_text('Distribution of experience in Bg feature description_experience_min');\n"
   ]
  },
  {
   "cell_type": "markdown",
   "id": "4ba7b150",
   "metadata": {},
   "source": [
    "Cliping the description_experience_min values uptill 15 years and converting all -1 into NaNs"
   ]
  },
  {
   "cell_type": "code",
   "execution_count": 22,
   "id": "ed0ed772",
   "metadata": {},
   "outputs": [],
   "source": [
    "data['description_experience_min']  = data['description_experience_min'].clip(lower=-1, upper=15)\n",
    "data['description_experience_min'] = data['description_experience_min'].replace(-1,np.nan)\n",
    "data = data.rename(columns={'description_experience_min':'job_overall_exp'})"
   ]
  },
  {
   "cell_type": "markdown",
   "id": "a917557d",
   "metadata": {},
   "source": [
    "We have made a decision on using description_experience_min as overall years of experience in job."
   ]
  },
  {
   "cell_type": "markdown",
   "id": "ed70acda",
   "metadata": {},
   "source": [
    "# Resume\n",
    "As per the previous analysis we have decided to combine the BG and profile expereince and take a mean of those."
   ]
  },
  {
   "cell_type": "code",
   "execution_count": 23,
   "id": "ef92a15a",
   "metadata": {},
   "outputs": [
    {
     "data": {
      "image/png": "[encoded data removed]",
      "text/plain": [
       "<Figure size 432x288 with 2 Axes>"
      ]
     },
     "metadata": {
      "needs_background": "light"
     },
     "output_type": "display_data"
    }
   ],
   "source": [
    "fig, (ax0, ax1) = plt.subplots(1,2)\n",
    "ax0.hist(data['overall_experience_bg'])\n",
    "ax0.set_xlabel('overall_experience_bg');\n",
    "\n",
    "ax1.hist(data['overall_exp_profile'])\n",
    "ax1.set_xlabel('overall_exp_profile');"
   ]
  },
  {
   "cell_type": "code",
   "execution_count": 24,
   "id": "c71d1a1a",
   "metadata": {},
   "outputs": [
    {
     "data": {
      "text/html": [
       "Total records when data are present in both columns: 99.38%"
      ],
      "text/plain": [
       "<IPython.core.display.HTML object>"
      ]
     },
     "metadata": {},
     "output_type": "display_data"
    }
   ],
   "source": [
    "res = (data[(data['overall_experience_bg'].notnull())& data['overall_exp_profile'].notnull()].shape[0]/data.shape[0])*100\n",
    "display(HTML(f'Total records when data are present in both columns: {res}%'))"
   ]
  },
  {
   "cell_type": "markdown",
   "id": "70a57f00",
   "metadata": {},
   "source": [
    "Distribution of both the features BG and profile experience"
   ]
  },
  {
   "cell_type": "code",
   "execution_count": 25,
   "id": "d1850855",
   "metadata": {},
   "outputs": [
    {
     "data": {
      "image/png": "[encoded data removed]",
      "text/plain": [
       "<Figure size 432x288 with 1 Axes>"
      ]
     },
     "metadata": {
      "needs_background": "light"
     },
     "output_type": "display_data"
    }
   ],
   "source": [
    "\n",
    "fig, ax = plt.subplots()\n",
    "data.plot.scatter('overall_experience_bg', 'overall_exp_profile', ax=ax);\n",
    "ax.plot([0, 35], [0, 35], color='black', lw=.7)\n",
    "ax.grid()"
   ]
  },
  {
   "cell_type": "markdown",
   "id": "1db1e9f6",
   "metadata": {},
   "source": [
    "Checking the outliers"
   ]
  },
  {
   "cell_type": "code",
   "execution_count": 26,
   "id": "a663ff98",
   "metadata": {},
   "outputs": [
    {
     "data": {
      "text/plain": [
       "Text(0.5, 0, 'years of experience in resume (overall_exp_profile)')"
      ]
     },
     "execution_count": 26,
     "metadata": {},
     "output_type": "execute_result"
    },
    {
     "data": {
      "image/png": "[encoded data removed]",
      "text/plain": [
       "<Figure size 432x288 with 1 Axes>"
      ]
     },
     "metadata": {
      "needs_background": "light"
     },
     "output_type": "display_data"
    }
   ],
   "source": [
    "\n",
    "g = sns.boxplot(x=data['overall_exp_profile'])\n",
    "g.set_xlabel('years of experience in resume (overall_exp_profile)') "
   ]
  },
  {
   "cell_type": "code",
   "execution_count": 27,
   "id": "98807fc5",
   "metadata": {},
   "outputs": [
    {
     "data": {
      "text/plain": [
       "Text(0.5, 0, 'years of experience in resume(overall_experience_bg)')"
      ]
     },
     "execution_count": 27,
     "metadata": {},
     "output_type": "execute_result"
    },
    {
     "data": {
      "image/png": "[encoded data removed]",
      "text/plain": [
       "<Figure size 432x288 with 1 Axes>"
      ]
     },
     "metadata": {
      "needs_background": "light"
     },
     "output_type": "display_data"
    }
   ],
   "source": [
    "\n",
    "g = sns.boxplot(x=data['overall_experience_bg'])\n",
    "g.set_xlabel('years of experience in resume(overall_experience_bg)') "
   ]
  },
  {
   "cell_type": "code",
   "execution_count": 28,
   "id": "613647d4",
   "metadata": {},
   "outputs": [],
   "source": [
    "data['overall_exp_profile'] = data['overall_exp_profile'].clip(lower=-1, upper=25)\n",
    "data['overall_exp_profile'] = data['overall_exp_profile'].replace(-1,np.nan)"
   ]
  },
  {
   "cell_type": "markdown",
   "id": "e8d432f4",
   "metadata": {},
   "source": [
    "The overall_exp_profile has way many outliers. the 96 percentile is 25 or less years of experience. We are making a decision on converting values greater than 25 into 25 and anything less than 0 will be a NaN. The below distribution after removing outliers."
   ]
  },
  {
   "cell_type": "code",
   "execution_count": 29,
   "id": "c82c4ee4",
   "metadata": {},
   "outputs": [
    {
     "data": {
      "image/png": "[encoded data removed]",
      "text/plain": [
       "<Figure size 432x288 with 1 Axes>"
      ]
     },
     "metadata": {
      "needs_background": "light"
     },
     "output_type": "display_data"
    }
   ],
   "source": [
    "bins = np.arange(-1.5,data['overall_exp_profile'].max()+1)\n",
    "\n",
    "plt.hist(data['overall_exp_profile']);\n"
   ]
  },
  {
   "cell_type": "markdown",
   "id": "5864a36c",
   "metadata": {},
   "source": [
    "As decided before we are going to add BG and profile experience and use the mean score as "
   ]
  },
  {
   "cell_type": "code",
   "execution_count": 30,
   "id": "6cc31f11",
   "metadata": {},
   "outputs": [],
   "source": [
    "data['overall_experience_bg'] = data['overall_experience_bg'].clip(lower=-1, upper=25)#cliping value between -1 and 25\n",
    "data['overall_experience_bg'] = data['overall_experience_bg'].replace(-1,np.nan)# converting -1 as NaNs.\n",
    "data['overall_experience_bg'] = data['overall_experience_bg'].fillna(data['overall_exp_profile'])#filling NaNs with profile data\n",
    "data['overall_exp_profile']   = data['overall_exp_profile'].fillna(data['overall_experience_bg'])#filling NaNs with BG data"
   ]
  },
  {
   "cell_type": "markdown",
   "id": "a5c0a210",
   "metadata": {},
   "source": [
    "# Final calculation of Overall experience for resume"
   ]
  },
  {
   "cell_type": "code",
   "execution_count": 31,
   "id": "f4e373cb",
   "metadata": {},
   "outputs": [],
   "source": [
    "\n",
    "data['resume_overall_exp'] =  (data['overall_exp_profile']+data['overall_experience_bg'])/2"
   ]
  },
  {
   "cell_type": "code",
   "execution_count": 32,
   "id": "217ba37e",
   "metadata": {},
   "outputs": [
    {
     "data": {
      "image/png": "[encoded data removed]",
      "text/plain": [
       "<Figure size 432x288 with 1 Axes>"
      ]
     },
     "metadata": {
      "needs_background": "light"
     },
     "output_type": "display_data"
    }
   ],
   "source": [
    "data['resume_overall_exp'].hist();"
   ]
  },
  {
   "cell_type": "markdown",
   "id": "fe8fe1a0",
   "metadata": {},
   "source": [
    "Now we have data which we can use in the model, we are going to check the availability of the data.\n"
   ]
  },
  {
   "cell_type": "code",
   "execution_count": 33,
   "id": "e3c624f9",
   "metadata": {},
   "outputs": [
    {
     "data": {
      "text/html": [
       "Total non zero resume records: 99.66%"
      ],
      "text/plain": [
       "<IPython.core.display.HTML object>"
      ]
     },
     "metadata": {},
     "output_type": "display_data"
    },
    {
     "data": {
      "text/html": [
       "Total non zero job records: 55.63%"
      ],
      "text/plain": [
       "<IPython.core.display.HTML object>"
      ]
     },
     "metadata": {},
     "output_type": "display_data"
    }
   ],
   "source": [
    "res = (data['resume_overall_exp'][data['resume_overall_exp']>0].shape[0]/data.shape[0])*100\n",
    "display(HTML(f'Total non zero resume records: {round(res,2)}%'))\n",
    "\n",
    "res = (data['job_overall_exp'][data['job_overall_exp']>0].shape[0]/data.shape[0])*100\n",
    "display(HTML(f'Total non zero job records: {round(res,2)}%'))"
   ]
  },
  {
   "cell_type": "markdown",
   "id": "d4f37b91",
   "metadata": {},
   "source": [
    "# Availibility"
   ]
  },
  {
   "cell_type": "code",
   "execution_count": 34,
   "id": "aa75ccef",
   "metadata": {},
   "outputs": [
    {
     "data": {
      "image/png": "[encoded data removed]",
      "text/plain": [
       "<Figure size 432x288 with 1 Axes>"
      ]
     },
     "metadata": {
      "needs_background": "light"
     },
     "output_type": "display_data"
    }
   ],
   "source": [
    "fig, ax = plt.subplots()\n",
    "data.plot.scatter('job_overall_exp','resume_overall_exp', ax=ax);\n",
    "# ax.plot([0, 35], [0, 35], color='black', lw=.7)\n",
    "ax.grid()"
   ]
  },
  {
   "cell_type": "code",
   "execution_count": 35,
   "id": "eecde10e",
   "metadata": {},
   "outputs": [],
   "source": [
    "# Meets overall experience "
   ]
  },
  {
   "cell_type": "code",
   "execution_count": 36,
   "id": "3249fd7c",
   "metadata": {},
   "outputs": [
    {
     "data": {
      "text/html": [
       "<font color=blue>Data where resume experience is equal and more than jobs</font>"
      ],
      "text/plain": [
       "<IPython.core.display.HTML object>"
      ]
     },
     "metadata": {},
     "output_type": "display_data"
    },
    {
     "data": {
      "text/plain": [
       "False    5337\n",
       "True     4663\n",
       "Name: meets_experience, dtype: int64"
      ]
     },
     "execution_count": 36,
     "metadata": {},
     "output_type": "execute_result"
    }
   ],
   "source": [
    "display(HTML(f'<font color=blue>Data where resume experience is equal and more than jobs</font>'))\n",
    "data['meets_experience'] = (data['resume_overall_exp']>=data['job_overall_exp']) \n",
    "data['meets_experience'].value_counts()"
   ]
  },
  {
   "cell_type": "code",
   "execution_count": 37,
   "id": "8d95155b",
   "metadata": {},
   "outputs": [
    {
     "data": {
      "text/html": [
       "<font color=blue>Data which is not null and where resume experience is equal and more than jobs</font>"
      ],
      "text/plain": [
       "<IPython.core.display.HTML object>"
      ]
     },
     "metadata": {},
     "output_type": "display_data"
    },
    {
     "data": {
      "text/plain": [
       "True     4663\n",
       "False     899\n",
       "Name: meets_experience, dtype: int64"
      ]
     },
     "execution_count": 37,
     "metadata": {},
     "output_type": "execute_result"
    }
   ],
   "source": [
    "display(HTML(f'<font color=blue>Data which is not null and where resume experience is equal and more than jobs</font>'))\n",
    "data['meets_experience'][(data['job_overall_exp'].notnull())&(data['resume_overall_exp'].notnull())].value_counts()"
   ]
  },
  {
   "cell_type": "code",
   "execution_count": 38,
   "id": "b1b81c7c",
   "metadata": {},
   "outputs": [
    {
     "data": {
      "text/html": [
       "<font color=blue>Data present in both side:</font> 55.62%"
      ],
      "text/plain": [
       "<IPython.core.display.HTML object>"
      ]
     },
     "metadata": {},
     "output_type": "display_data"
    }
   ],
   "source": [
    "res = (data[(data['job_overall_exp'].notnull())&(data['resume_overall_exp'].notnull())].shape[0]/data.shape[0])*100\n",
    "display(HTML(f'<font color=blue>Data present in both side:</font> {round(res,2)}%'))"
   ]
  },
  {
   "cell_type": "markdown",
   "id": "4fb20d5d",
   "metadata": {},
   "source": [
    "Looking thise 899 records where resume is less than job experiences"
   ]
  },
  {
   "cell_type": "code",
   "execution_count": 39,
   "id": "6aaf63c6",
   "metadata": {
    "scrolled": true
   },
   "outputs": [
    {
     "name": "stdout",
     "output_type": "stream",
     "text": [
      "job_overall_exp 10.0\n",
      "resume_overall_exp 9.92054794520548\n",
      "meets_experience False\n"
     ]
    },
    {
     "data": {
      "text/html": [
       "<img src=\"https://counter.adcourier.com/cmVlbWEubWF0aHBhbC42MTcwNi40MDczQG1hbnBvd2VyZ3JvdXBidWxsaG9ybi5hcGxpdHJhay5jb20.gif\"><br /><br /><p><br /><span style=\"font-size: 12pt;\"><strong>URGENT NEED - Lead Business Analyst (Healthcare/ Clinical) - Multinational Client from Health IT &amp; Clinical research industry</strong>.</span></p><br /><p><span style=\"font-size: 10pt;\">We are seeking experienced Lead Business Analysts responsible for analyzing user requirements, procedures and problems to automate or improve existing systems and review computer system capabilities, workflow and scheduling limitations. </span><br /><span style=\"font-size: 10pt;\">There are multiple projects going on therefore we need 3 Lead Business Analysts to manage the teams of BA as well as client/ relationship management ensuring quality deliverables within deadline.</span></p><br /><p><em><span style=\"text-decoration: underline;\"><strong><span style=\"font-size: 10pt;\">NOTE - Must have Clinical and Salesforce experience otherwise resume won't be considered. This is Sr Lead BA role with min 10 years of required experience.</span></strong></span></em></p><br /><p><strong><span style=\"font-size: 10pt;\">Location: Bridgewater, NJ (#Remote work allowed; Will be required to go onsite occasionally for meetings (at own expense) therefore prefer local candidates)</span></strong><br /><strong><span style=\"font-size: 10pt;\">Duration: 12 months contract (possibility of further extensions/ conversion into FTE)</span></strong><br /><strong><span style=\"font-size: 10pt;\">Interview: 2 rounds video call</span></strong></p><br /><p><span style=\"font-size: 10pt;\"><strong>Job Responsibilities:</strong> </span><br /><span style=\"font-size: 10pt;\">* Client facing role communicating with users, stakeholders as well as developers, testers (onsite-offshore)</span><br /><span style=\"font-size: 10pt;\">* Lead and supervise the team of Business Analysts working on SFHC implementation. </span><br /><span style=\"font-size: 10pt;\">* Agile being used in requirement phase and Waterfall in testing phase. </span><br /><span style=\"font-size: 10pt;\">* Advise management on current system principles and necessary updates and recommendations. </span><br /><span style=\"font-size: 10pt;\">* Supervise the expansion or modification of system to serve new purposes or improve work flow. Interview or survey workers, observe job performance or perform the job to determine what information is processed and how it is processed. </span></p><br /><p><br /><span style=\"font-size: 10pt;\"><strong>Skills:</strong> </span><br /><span style=\"font-size: 10pt;\">* Bachelor's degree in a technical field such as computer science, computer engineering or related field required. </span><br /><span style=\"font-size: 10pt;\">* 10+ years-experience required working as Business Analyst including 2-3 years of recent Lead experience. </span><br /><span style=\"font-size: 10pt;\">* Must have Healthcare industry experience preferably in clinical space.</span><br /><span style=\"font-size: 10pt;\">* Must have experience working on Salesforce CRM (SFHC is preferred but not must have).</span><br /><span style=\"font-size: 10pt;\">* Experience gathering requirements for Salesforce implementation project (know the modules, how salesforce.com works, navigation, etc.)</span><br /><span style=\"font-size: 10pt;\">* Must have Agile and waterfall experience</span><br /><span style=\"font-size: 10pt;\">* Verbal and written communication skills, problem solving skills, attention to detail and interpersonal skills. </span><br /><span style=\"font-size: 10pt;\">* Expert ability to work independently and manage ones time. Expert leadership and mentoring skills necessary to provide support and constructive performance feedback. </span><br /> <br /><span style=\"font-size: 10pt;\"># Clinical #Healthcare #Salesforce #SFHC #SalesforceHealthCloud</span></p><br /><p> </p><br /><p> </p>"
      ],
      "text/plain": [
       "<IPython.core.display.HTML object>"
      ]
     },
     "execution_count": 39,
     "metadata": {},
     "output_type": "execute_result"
    }
   ],
   "source": [
    "df_ = data[(data['job_overall_exp'].notnull())&(data['resume_overall_exp'].notnull())]\n",
    "n = df_[df_['meets_experience']==False].reset_index()\n",
    "n = n['index'][1]\n",
    "for c in ['job_overall_exp','resume_overall_exp','meets_experience']:\n",
    "    print(c, df_[c][n])\n",
    "HTML(df_['job_description'][n])"
   ]
  },
  {
   "cell_type": "markdown",
   "id": "64a3446c",
   "metadata": {},
   "source": [
    "Distribution of differnce of resume and job experience value, 50 percent of the resume have 5 or more years of than aksed in job."
   ]
  },
  {
   "cell_type": "code",
   "execution_count": 44,
   "id": "a85a9b91",
   "metadata": {},
   "outputs": [
    {
     "data": {
      "image/png": "[encoded data removed]",
      "text/plain": [
       "<Figure size 432x288 with 1 Axes>"
      ]
     },
     "metadata": {
      "needs_background": "light"
     },
     "output_type": "display_data"
    }
   ],
   "source": [
    "dd = data[(data['job_overall_exp'].notnull())&(data['resume_overall_exp'].notnull())]\n",
    "\n",
    "dd['dist'] = dd['resume_overall_exp']-dd['job_overall_exp']\n",
    "\n",
    "fig, ax=plt.subplots()\n",
    "dd['dist'].hist(bins = np.arange(-15,35))\n",
    "\n",
    "ax.axvline(dd['dist'].quantile(.5),color='red');"
   ]
  },
  {
   "cell_type": "markdown",
   "id": "b61c95b8",
   "metadata": {},
   "source": [
    "Distribution of 899 records where candidate experierce is less than asked in the job, 50% of the resume are 2 or less yaers of experience to qualify for a match. This is somthing we need to make a decision, on consedering ot as a match or not."
   ]
  },
  {
   "cell_type": "code",
   "execution_count": 43,
   "id": "4039e05b",
   "metadata": {},
   "outputs": [
    {
     "data": {
      "image/png": "[encoded data removed]",
      "text/plain": [
       "<Figure size 432x288 with 1 Axes>"
      ]
     },
     "metadata": {
      "needs_background": "light"
     },
     "output_type": "display_data"
    }
   ],
   "source": [
    "fig, ax=plt.subplots()\n",
    "d_ = df_[df_['meets_experience']==False]\n",
    "d_['dist'].hist(bins = np.arange(-15,5))\n",
    "d_['dist'].quantile(.5)\n",
    "ax.axvline(d_['dist'].quantile(.5),color='red')\n",
    "ax.set_xlabel('Difference of resume and job experience')\n",
    "ax.title.set_text('Resume having less experience asked in job');"
   ]
  },
  {
   "cell_type": "code",
   "execution_count": 49,
   "id": "6f0f2223",
   "metadata": {},
   "outputs": [],
   "source": [
    "# lab_df = pd.read_csv(os.path.join(local_bucket, 'data','dice','v2','dice_labeled_20220307_experience_consensus_sandbox.csv'))"
   ]
  },
  {
   "cell_type": "markdown",
   "id": "f9c7d9f0",
   "metadata": {},
   "source": [
    "**Results**\n",
    "- We have non-zero 99%  resume records and 55% job records.\n",
    "- 55% of records have non-zero experience on both sides (resume and job).\n",
    "- 46% of resumes have above experience than the asking experience in the job.\n",
    "\n",
    "**Conclusion:**\n",
    "We will use the mean of combined scores of BG parsing and maximum skills experience present in the profile as resume overall experience if present on both sides else either one is present. For job we are using @experience-min as job overall experience.  We have checked the quality of the data and made it ready for use. \n",
    "\n",
    "\n",
    "**Next Steps**\n",
    "- Decision on an applied resume that is 1 or 2 away from the match.\n",
    "- Make a binary classifier that can fit into the composite model.\n",
    "- Exploring other gradients on the distribution of the difference between resumes and job experience.\n",
    "- Getting training data ready with new BG parsings and profile data extraction from profile experience and Train and exploring labeled data set signals."
   ]
  },
  {
   "cell_type": "code",
   "execution_count": null,
   "id": "d4f7cadc",
   "metadata": {},
   "outputs": [],
   "source": []
  }
 ],
 "metadata": {
  "kernelspec": {
   "display_name": "Custom (Python3.8)",
   "language": "python",
   "name": "python3.8"
  },
  "language_info": {
   "codemirror_mode": {
    "name": "ipython",
    "version": 3
   },
   "file_extension": ".py",
   "mimetype": "text/x-python",
   "name": "python",
   "nbconvert_exporter": "python",
   "pygments_lexer": "ipython3",
   "version": "3.8.12"
  }
 },
 "nbformat": 4,
 "nbformat_minor": 5
}
