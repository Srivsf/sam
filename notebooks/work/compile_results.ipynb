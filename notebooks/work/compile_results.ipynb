{
 "cells": [
  {
   "cell_type": "markdown",
   "id": "6de61e29",
   "metadata": {},
   "source": [
    "This notebook creates [this Confluence page](https://confluence.dhigroupinc.com/display/MT/Composite+Model+Results).\n",
    "\n",
    ">**Note:** One needs to set up a [Personal Access Token](https://confluence.dhigroupinc.com/display/MT/Writing+and+editing+Confluence+pages+with+Python) and paste down below. We should utilize more of a file read authentication in the future."
   ]
  },
  {
   "cell_type": "code",
   "execution_count": null,
   "id": "e933f3bb",
   "metadata": {},
   "outputs": [],
   "source": [
    "%pip install atlassian-python-api"
   ]
  },
  {
   "cell_type": "code",
   "execution_count": null,
   "id": "dc6bf8b5",
   "metadata": {},
   "outputs": [],
   "source": [
    "import os\n",
    "import re\n",
    "import json\n",
    "from itertools import chain\n",
    "\n",
    "from IPython.display import HTML, Markdown as md\n",
    "import pandas as pd\n",
    "import yaml\n",
    "\n",
    "with open('config.yml', 'r') as f:\n",
    "    params = yaml.load(f, Loader=yaml.FullLoader)\n",
    "params"
   ]
  },
  {
   "cell_type": "code",
   "execution_count": null,
   "id": "5a0ad66e",
   "metadata": {},
   "outputs": [],
   "source": [
    "# Sort descending model versions\n",
    "model_dirs = [tuple(map(int, f.split('.'))) for f in os.listdir(params['model_dir']) \n",
    "              if (os.path.isdir(os.path.join(params['model_dir'], f))\n",
    "                  and re.match(r'^\\d+.\\d+.\\d+$', f) is not None)]\n",
    "model_dirs = sorted(model_dirs, key=lambda x: (x[2], x[1], x[0]))[::-1]\n",
    "model_dirs = list(map(lambda x: '.'.join(map(str, x)), model_dirs))\n",
    "model_dirs"
   ]
  },
  {
   "cell_type": "code",
   "execution_count": null,
   "id": "35f98c60",
   "metadata": {},
   "outputs": [],
   "source": [
    "def get_xtab_html(xtab, column='overall'):\n",
    "    df = pd.DataFrame(xtab)\n",
    "    df.columns = [int(eval(c)) for c in df.columns]\n",
    "    return df.rename_axis(index='pred', columns=column).to_html().replace(\n",
    "        '<table border=\"1\" class=\"dataframe\">', '<table border=\"1\" style=\"float: left; margin-top:0; margin-right:10px\">')"
   ]
  },
  {
   "cell_type": "code",
   "execution_count": null,
   "id": "c9b67f42",
   "metadata": {},
   "outputs": [],
   "source": [
    "def get_stats_table_html(d):\n",
    "    stat_keys = ['disk_mb', 'importances', 'prediction_thresholds', 'n_records', 'n_correct', \n",
    "                 'absolute_accuracy', 'one_half_accuracy', 'gaussian_accuracy'][::-1]\n",
    "    stat_prec = [2, 2, 3, 0, 0, 3, 3, 3][::-1]\n",
    "    htmlstr = \"\"\"\n",
    "<table border=\"1\" style=\"float: left; margin-right:10px\">\"\"\"\n",
    "      \n",
    "    for (k, prec) in zip(stat_keys, stat_prec):\n",
    "        if k in d:\n",
    "            htmlstr += f\"\"\"\n",
    "  <tr>\n",
    "    <th>{k}</th>\"\"\"\n",
    "            if isinstance(d[k], int):\n",
    "                htmlstr += f\"\"\"\n",
    "      <td>{d[k]}</td>\"\"\"\n",
    "            elif isinstance(d[k], list):\n",
    "                htmlstr += f\"\"\"\n",
    "      <td>{', '.join(f\"{i:0.{prec}f}\" for i in d[k])}</td>\"\"\"\n",
    "            else:\n",
    "                htmlstr += f\"\"\"\n",
    "      <td>{d[k]:.{prec}f}</td>\"\"\"\n",
    "            htmlstr += \"\"\"\n",
    "  </tr>\"\"\"\n",
    "    if 'timing' in d:\n",
    "        htmlstr += f\"\"\"\n",
    "  <tr>\n",
    "    <th>timing median ms</th><td>{d['timing']['median']:.0f}</td>\n",
    "  </tr>\"\"\"\n",
    "\n",
    "    htmlstr += \"\"\"\n",
    "</table>\"\"\"\n",
    "    return htmlstr\n"
   ]
  },
  {
   "cell_type": "code",
   "execution_count": null,
   "id": "d3891118",
   "metadata": {},
   "outputs": [],
   "source": [
    "def get_html_results(d, name=None):\n",
    "    htmlstr = ''\n",
    "    name = d['name']\n",
    "    if name == 'composite':\n",
    "        tag = 'H2'\n",
    "        htmlstr += f\"\"\"<H1>Model {d['config']['version']}</H1>\"\"\"\n",
    "    else:\n",
    "        tag = 'H3'\n",
    "\n",
    "    htmlstr += f\"\"\"\n",
    "    <{tag}>{name} results<br/></{tag}><br/>\"\"\"\n",
    "    \n",
    "    htmlstr += get_stats_table_html(d)\n",
    "        \n",
    "    if 'xtab' in d:\n",
    "        htmlstr += get_xtab_html(d['xtab'])\n",
    "        \n",
    "    if 'skills' in d:\n",
    "        htmlstr += '<div style=\"display: inline-table;margin-left: 30px\">'\n",
    "        htmlstr += '<H4>Skills subset</H4>'\n",
    "        htmlstr += get_stats_table_html(d['skills'])\n",
    "    if 'skills_xtab' in d:\n",
    "        htmlstr += get_xtab_html(d['skills_xtab'], 'skills')\n",
    "    if 'skills' in d:\n",
    "        htmlstr += \"\"\"\n",
    "            </div>\"\"\"\n",
    "\n",
    "\n",
    "    if 'submodels' in d:\n",
    "        htmlstr += '<hr style=\"width:50%;text-align:left;margin-left:0\"></hr>'\n",
    "        for i, sub in enumerate(d['submodels']):\n",
    "            htmlstr += get_html_results(sub) + '<p></p>'\n",
    "            if i < len(d['submodels']) - 1:\n",
    "                htmlstr += '<hr style=\"width:25%;text-align:left;margin-left:0\"></hr>'\n",
    "    return htmlstr\n"
   ]
  },
  {
   "cell_type": "code",
   "execution_count": null,
   "id": "272672e9",
   "metadata": {
    "scrolled": false
   },
   "outputs": [],
   "source": [
    "htmlstr = \"\"\"\n",
    "\"\"\"\n",
    "recs = []\n",
    "for m in model_dirs:\n",
    "    with open(os.path.join(params['model_dir'], m, 'results.json'), 'rb') as f:\n",
    "        d = json.load(f)\n",
    "        if 'config' not in d:\n",
    "            d['config'] = {'version': m}\n",
    "        rec = {\n",
    "            'model': m,\n",
    "        }\n",
    "        if 'dsmatch_version' in d:\n",
    "            rec['dsmatch_version'] = d['dsmatch_version']\n",
    "        if 'timing' in d:\n",
    "            rec['timing median ms'] = int(d['timing']['median'])\n",
    "        for c in ['disk_mb', 'n_records', 'n_correct', 'absolute_accuracy', 'one_half_accuracy', 'gaussian_accuracy']:\n",
    "            if c in d:\n",
    "                rec[c] = d[c]\n",
    "        if 'config' in d:\n",
    "            for c in ['train_data', 'labeled_data', 'skills_labeled_data']:\n",
    "                if c in d['config']:\n",
    "                    rec[c] = d['config'][c]\n",
    "        recs.append(rec)\n",
    "        htmlstr += get_html_results(d)\n",
    "        htmlstr += '<hr style=\"width:100%;height=5px;text-align:left;margin-left:0\"></hr>'\n",
    "header = \"\"\"\n",
    "This page summarizes various composite models. For particular model descriptions, please see the \n",
    "<a href=\"https://bitbucket.org/dhigroupinc/dhi-match-model-composite/src/3.0.x/changelog.md\">changelog</a>.\n",
    "This page is automatically created when running <a href=\"https://bitbucket.org/dhigroupinc/dhi-match-model-composite/src/3.0.x/scripts/compile_results.ipynb\">\n",
    "this notebook</a>.\n",
    "<H1>Summary Results</H1>\n",
    "\"\"\"\n",
    "header += f\"\"\"\n",
    "{pd.DataFrame.from_records(recs).fillna('').set_index('model').to_html()}\n",
    "\"\"\"\n",
    "\n",
    "htmlstr = '<html>' + header + htmlstr + '</html>'"
   ]
  },
  {
   "cell_type": "code",
   "execution_count": null,
   "id": "74f914c7",
   "metadata": {
    "scrolled": false
   },
   "outputs": [],
   "source": [
    "# print(htmlstr)"
   ]
  },
  {
   "cell_type": "code",
   "execution_count": null,
   "id": "1d2ca68f",
   "metadata": {
    "scrolled": false
   },
   "outputs": [],
   "source": [
    "# HTML(htmlstr)"
   ]
  },
  {
   "cell_type": "code",
   "execution_count": null,
   "id": "5d768cb5",
   "metadata": {
    "scrolled": false
   },
   "outputs": [],
   "source": [
    "# set auth token and get the basic auth code\n",
    "from atlassian import Confluence\n",
    "# auth_token = \"EXECUTE WITH A PERSONAL APP TOKEN\"\n",
    "confluence = Confluence(url='https://confluence.dhigroupinc.com', token=auth_token)\n",
    "space = 'MT'\n",
    "parent_title = 'Unsupervised Composite Match Model'\n",
    "title = 'Composite Model Results'\n",
    "parent_id = confluence.get_page_id(space, parent_title)  # This actually returns a string that can be cast to an int.\n",
    "# Update page or create it if it does not exist\n",
    "confluence.update_or_create(parent_id, title, body=htmlstr, representation='storage');"
   ]
  },
  {
   "cell_type": "code",
   "execution_count": null,
   "id": "0a04c6dc",
   "metadata": {},
   "outputs": [],
   "source": []
  }
 ],
 "metadata": {
  "kernelspec": {
   "display_name": "Custom (Python3.8)",
   "language": "python",
   "name": "python3.8"
  },
  "language_info": {
   "codemirror_mode": {
    "name": "ipython",
    "version": 3
   },
   "file_extension": ".py",
   "mimetype": "text/x-python",
   "name": "python",
   "nbconvert_exporter": "python",
   "pygments_lexer": "ipython3",
   "version": "3.8.10"
  }
 },
 "nbformat": 4,
 "nbformat_minor": 5
}
