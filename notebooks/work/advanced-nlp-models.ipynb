{
 "cells": [
  {
   "cell_type": "markdown",
   "metadata": {},
   "source": [
    "Summary: Performed research on various NLP models that we can use in our current models. \n",
    "\n",
    "[**Confluence**](https://confluence.dhigroupinc.com/pages/editpage.action?pageId=121563351)\n",
    "\n",
    "Author: Sfurti Srivastava\n"
   ]
  },
  {
   "cell_type": "code",
   "execution_count": 85,
   "metadata": {},
   "outputs": [],
   "source": [
    "# ! pip install \"tensorflow>=2.0.0\"\n",
    "# ! pip install --upgrade tensorflow-hub\n",
    "#!pip install sent2vec\n",
    "#!pip install -U sentence-transformers"
   ]
  },
  {
   "cell_type": "markdown",
   "metadata": {},
   "source": [
    "Downloading Glove file"
   ]
  },
  {
   "cell_type": "code",
   "execution_count": 24,
   "metadata": {},
   "outputs": [
    {
     "name": "stderr",
     "output_type": "stream",
     "text": [
      "[nltk_data] Downloading package punkt to /home/ec2-user/nltk_data...\n",
      "[nltk_data]   Package punkt is already up-to-date!\n"
     ]
    }
   ],
   "source": [
    "\n",
    "import os\n",
    "import pandas as pd\n",
    "import numpy as np\n",
    "from scipy import spatial\n",
    "import matplotlib.pyplot as plt\n",
    "from sklearn.manifold import TSNE\n",
    "import nltk\n",
    "nltk.download('punkt')\n",
    "from nltk.tokenize import word_tokenize\n",
    "from IPython.display import HTML\n",
    "from dsmatch import local_bucket\n",
    "from dsmatch.analytics.modelevaluation import labeled_xtab, aggregate_stats_from_xtab, print_aggregate_stats"
   ]
  },
  {
   "cell_type": "code",
   "execution_count": 2,
   "metadata": {},
   "outputs": [],
   "source": [
    "# !wget http://nlp.stanford.edu/data/glove.42B.300d.zip\n",
    "# !apt install unzip\n",
    "# !unzip \"glove.42B.300d.zip\""
   ]
  },
  {
   "cell_type": "markdown",
   "metadata": {},
   "source": [
    "Getting dice test data"
   ]
  },
  {
   "cell_type": "code",
   "execution_count": 4,
   "metadata": {},
   "outputs": [
    {
     "name": "stdout",
     "output_type": "stream",
     "text": [
      "path = /home/ec2-user/SageMaker/sfurti/analytics-py-candidatematch/data/consolidated_annotations/bg_test_data.csv\n"
     ]
    },
    {
     "data": {
      "text/html": [
       "<div>\n",
       "<style scoped>\n",
       "    .dataframe tbody tr th:only-of-type {\n",
       "        vertical-align: middle;\n",
       "    }\n",
       "\n",
       "    .dataframe tbody tr th {\n",
       "        vertical-align: top;\n",
       "    }\n",
       "\n",
       "    .dataframe thead th {\n",
       "        text-align: right;\n",
       "    }\n",
       "</style>\n",
       "<table border=\"1\" class=\"dataframe\">\n",
       "  <thead>\n",
       "    <tr style=\"text-align: right;\">\n",
       "      <th></th>\n",
       "      <th>Unnamed: 0</th>\n",
       "      <th>Application ID</th>\n",
       "      <th>Job ID</th>\n",
       "      <th>Applicant Profile ID</th>\n",
       "      <th>jobTitle</th>\n",
       "      <th>jobSkills</th>\n",
       "      <th>jobDescription</th>\n",
       "      <th>profileCurrentTitle</th>\n",
       "      <th>profileDesiredTitle</th>\n",
       "      <th>profilePreviousTitle</th>\n",
       "      <th>profileSkills</th>\n",
       "      <th>user_score</th>\n",
       "    </tr>\n",
       "  </thead>\n",
       "  <tbody>\n",
       "    <tr>\n",
       "      <th>0</th>\n",
       "      <td>348</td>\n",
       "      <td>243418029</td>\n",
       "      <td>0488010ad26992bdfb587b8834e3ace2</td>\n",
       "      <td>c0781818d9489e0e246ec824cd90a3d4</td>\n",
       "      <td>Senior SQL Server Database Administrator( Need...</td>\n",
       "      <td>sql server , performance tuning, dba, ssis, ss...</td>\n",
       "      <td>&lt;p&gt;&amp;nbsp;&lt;/p&gt;&lt;p&gt;&lt;strong&gt;Job Title: Senior SQL ...</td>\n",
       "      <td>Full-stack .NET Developer</td>\n",
       "      <td>Full-stack .NET Developer</td>\n",
       "      <td>Full-stack .NET Developer,Sr.Net Developer,Sr ...</td>\n",
       "      <td>vb . net,microsoft . net,c # . net,asp . net,a...</td>\n",
       "      <td>2.0</td>\n",
       "    </tr>\n",
       "    <tr>\n",
       "      <th>1</th>\n",
       "      <td>483</td>\n",
       "      <td>223328274</td>\n",
       "      <td>00305b6e944dc77465e73dba5df5e184</td>\n",
       "      <td>ec3fb8df40b19e582431f4aeca96cdd3</td>\n",
       "      <td>Full Stack Developer</td>\n",
       "      <td>agile, consulting, database, developer, develo...</td>\n",
       "      <td>&lt;br&gt;&lt;span style=\"color:#222222\"&gt; &lt;span style=\"...</td>\n",
       "      <td>Software developer</td>\n",
       "      <td>Software developer</td>\n",
       "      <td>Altonica. C++ programmer,Software Engineer,Dir...</td>\n",
       "      <td>ajax,asp,photoshop,angularjs,animation,subvers...</td>\n",
       "      <td>4.0</td>\n",
       "    </tr>\n",
       "  </tbody>\n",
       "</table>\n",
       "</div>"
      ],
      "text/plain": [
       "   Unnamed: 0 Application ID                            Job ID  \\\n",
       "0         348      243418029  0488010ad26992bdfb587b8834e3ace2   \n",
       "1         483      223328274  00305b6e944dc77465e73dba5df5e184   \n",
       "\n",
       "               Applicant Profile ID  \\\n",
       "0  c0781818d9489e0e246ec824cd90a3d4   \n",
       "1  ec3fb8df40b19e582431f4aeca96cdd3   \n",
       "\n",
       "                                            jobTitle  \\\n",
       "0  Senior SQL Server Database Administrator( Need...   \n",
       "1                               Full Stack Developer   \n",
       "\n",
       "                                           jobSkills  \\\n",
       "0  sql server , performance tuning, dba, ssis, ss...   \n",
       "1  agile, consulting, database, developer, develo...   \n",
       "\n",
       "                                      jobDescription  \\\n",
       "0  <p>&nbsp;</p><p><strong>Job Title: Senior SQL ...   \n",
       "1  <br><span style=\"color:#222222\"> <span style=\"...   \n",
       "\n",
       "         profileCurrentTitle        profileDesiredTitle  \\\n",
       "0  Full-stack .NET Developer  Full-stack .NET Developer   \n",
       "1         Software developer         Software developer   \n",
       "\n",
       "                                profilePreviousTitle  \\\n",
       "0  Full-stack .NET Developer,Sr.Net Developer,Sr ...   \n",
       "1  Altonica. C++ programmer,Software Engineer,Dir...   \n",
       "\n",
       "                                       profileSkills  user_score  \n",
       "0  vb . net,microsoft . net,c # . net,asp . net,a...         2.0  \n",
       "1  ajax,asp,photoshop,angularjs,animation,subvers...         4.0  "
      ]
     },
     "execution_count": 4,
     "metadata": {},
     "output_type": "execute_result"
    }
   ],
   "source": [
    "#sfurtianalytics-py-candidatematchdataconsolidated_annotations\n",
    "path = '/home/ec2-user/SageMaker/sfurti/analytics-py-candidatematch/data/consolidated_annotations/bg_test_data.csv'\n",
    "\n",
    "print('path =',path)\n",
    "test_data=pd.read_csv(path)\n",
    "test_data[\"jobSkills\"]=test_data[\"jobSkills\"].str.lower()\n",
    "test_data[\"profileSkills\"]=test_data[\"profileSkills\"].str.lower()\n",
    "\n",
    "test_data.head(2)"
   ]
  },
  {
   "cell_type": "code",
   "execution_count": 5,
   "metadata": {},
   "outputs": [
    {
     "name": "stdout",
     "output_type": "stream",
     "text": [
      "(123, 12)\n",
      "(120, 12)\n"
     ]
    }
   ],
   "source": [
    "print(test_data.shape)\n",
    "test_data=test_data.dropna(subset=[\"jobSkills\"])\n",
    "print(test_data.shape)\n",
    "try:\n",
    "    test_data[\"token_jobSkills\"]=test_data[\"jobSkills\"].apply(word_tokenize)\n",
    "except TypeError as e:\n",
    "    pass\n",
    "    \n"
   ]
  },
  {
   "cell_type": "markdown",
   "metadata": {},
   "source": [
    "Lets check how many words vector of dice test_data is not present in the glove model?\n"
   ]
  },
  {
   "cell_type": "code",
   "execution_count": 6,
   "metadata": {},
   "outputs": [
    {
     "name": "stdout",
     "output_type": "stream",
     "text": [
      "['5+', 'cert/s', 'cocoapods', 'cocoapods', 'agile-waterfall', 'winforms/reporting', '5+', '5+', 'browserstack/sauce', '5+', 'philly/nj', 'asp.net,5+', 'ca/rally', '.net', '.net', 'directory/ad', 'springboot', 'html/html5', 'master/business', 'documentation/', 'pan-os', 'c/c++', '.net', 'cert/s', '.net', '.net', '.net', 'cocoapods', '.net', '5+', 'agile/devops', '.net', '.net', '.net', 'microservices', 'react.js', '.net', 'microservices', '.net', '.net', '.net', 'html/html5', 'module,3-5', '2016/', 'owb/odi']\n"
     ]
    }
   ],
   "source": [
    "import csv\n",
    "def glove2dict(glove_filename):\n",
    "    with open(glove_filename, encoding='utf-8') as f:\n",
    "        reader = csv.reader(f, delimiter=' ',quoting=csv.QUOTE_NONE)\n",
    "        embed = {line[0]: np.array(list(map(float, line[1:])))\n",
    "                for line in reader}\n",
    "    return embed\n",
    "glove_path = \"glove.42B.300d.txt\"\n",
    "pre_glove = glove2dict(glove_path)\n",
    "oov=[]\n",
    "for brown_nonstop in test_data[\"token_jobSkills\"]:\n",
    "    k = [token for token in brown_nonstop if token not in pre_glove.keys()]\n",
    "    if k!=[]:\n",
    "        #print (k)\n",
    "        oov.append(k)\n",
    "\n",
    "oov=list(map(lambda x: str(x[0]), oov))\n",
    "print(oov)"
   ]
  },
  {
   "cell_type": "markdown",
   "metadata": {},
   "source": [
    "Word found in out of vocabulary looks like most of them can be used to get the vectors.A little preprocessing is required to fix those words and get the vectors."
   ]
  },
  {
   "cell_type": "code",
   "execution_count": 7,
   "metadata": {},
   "outputs": [
    {
     "name": "stdout",
     "output_type": "stream",
     "text": [
      "length of the model:1917494 words\n"
     ]
    }
   ],
   "source": [
    "embeddings_dict = {}\n",
    "with open(\"glove.42B.300d.txt\", 'r', encoding=\"utf-8\") as f:\n",
    "    for line in f:\n",
    "        values = line.split()\n",
    "        word = values[0]\n",
    "        vector = np.asarray(values[1:], \"float32\")\n",
    "        embeddings_dict[word] = vector\n",
    "print(f\"length of the model:{len(embeddings_dict)} words\")"
   ]
  },
  {
   "cell_type": "markdown",
   "metadata": {},
   "source": [
    "Here we can explore what words surround around a perticular word. We are taking first 5 words."
   ]
  },
  {
   "cell_type": "code",
   "execution_count": 38,
   "metadata": {},
   "outputs": [
    {
     "data": {
      "text/html": [
       "First 5 closest_embeddings"
      ],
      "text/plain": [
       "<IPython.core.display.HTML object>"
      ]
     },
     "metadata": {},
     "output_type": "display_data"
    },
    {
     "data": {
      "text/html": [
       "<u>vb.net</u>"
      ],
      "text/plain": [
       "<IPython.core.display.HTML object>"
      ]
     },
     "metadata": {},
     "output_type": "display_data"
    },
    {
     "name": "stdout",
     "output_type": "stream",
     "text": [
      "['vb6', 'vb', 'asp.net', 'vbscript']\n"
     ]
    },
    {
     "data": {
      "text/html": [
       "<u>dotnet</u>"
      ],
      "text/plain": [
       "<IPython.core.display.HTML object>"
      ]
     },
     "metadata": {},
     "output_type": "display_data"
    },
    {
     "name": "stdout",
     "output_type": "stream",
     "text": [
      "['vb.net', 'vb', 'systemidletimer', 'static-detail']\n"
     ]
    }
   ],
   "source": [
    "def find_closest_embeddings(embedding):\n",
    "    res=sorted(embeddings_dict.keys(), key=lambda word: spatial.distance.euclidean(embeddings_dict[word], embedding))\n",
    "    res=res[0:5]\n",
    "    res=[res]\n",
    "    return res\n",
    "A=find_closest_embeddings(embeddings_dict[\"vb.net\"])\n",
    "B=find_closest_embeddings(embeddings_dict[\"dotnet\"])\n",
    "display(HTML(\"First 5 closest_embeddings\"))\n",
    "display(HTML(f\"<u>{A[0][0]}</u>\"))\n",
    "print(A[0][1:])\n",
    "display(HTML(f\"<u>{B[0][0]}</u>\"))\n",
    "print(B[0][1:])\n"
   ]
  },
  {
   "cell_type": "markdown",
   "metadata": {},
   "source": [
    "`Toy Problem` to get the similarity scores between 2 sets of skills, lets say col_1 and col_2 are the lists of skills."
   ]
  },
  {
   "cell_type": "code",
   "execution_count": 39,
   "metadata": {},
   "outputs": [
    {
     "data": {
      "text/html": [
       "<div>\n",
       "<style scoped>\n",
       "    .dataframe tbody tr th:only-of-type {\n",
       "        vertical-align: middle;\n",
       "    }\n",
       "\n",
       "    .dataframe tbody tr th {\n",
       "        vertical-align: top;\n",
       "    }\n",
       "\n",
       "    .dataframe thead th {\n",
       "        text-align: right;\n",
       "    }\n",
       "</style>\n",
       "<table border=\"1\" class=\"dataframe\">\n",
       "  <thead>\n",
       "    <tr style=\"text-align: right;\">\n",
       "      <th></th>\n",
       "      <th>col_1</th>\n",
       "      <th>col_2</th>\n",
       "    </tr>\n",
       "  </thead>\n",
       "  <tbody>\n",
       "    <tr>\n",
       "      <th>0</th>\n",
       "      <td>[vb.net, vb6, vb, asp.net, vbscript]</td>\n",
       "      <td>[dotnet, vb.net, vb, systemidletimer, static-d...</td>\n",
       "    </tr>\n",
       "  </tbody>\n",
       "</table>\n",
       "</div>"
      ],
      "text/plain": [
       "                                  col_1  \\\n",
       "0  [vb.net, vb6, vb, asp.net, vbscript]   \n",
       "\n",
       "                                               col_2  \n",
       "0  [dotnet, vb.net, vb, systemidletimer, static-d...  "
      ]
     },
     "execution_count": 39,
     "metadata": {},
     "output_type": "execute_result"
    }
   ],
   "source": [
    "df_ = pd.DataFrame(columns=[\"col_1\",\"col_2\"])\n",
    "df_[\"col_1\"]=A\n",
    "df_[\"col_2\"]=B\n",
    "df_"
   ]
  },
  {
   "cell_type": "code",
   "execution_count": 13,
   "metadata": {},
   "outputs": [
    {
     "data": {
      "text/html": [
       "<div>\n",
       "<style scoped>\n",
       "    .dataframe tbody tr th:only-of-type {\n",
       "        vertical-align: middle;\n",
       "    }\n",
       "\n",
       "    .dataframe tbody tr th {\n",
       "        vertical-align: top;\n",
       "    }\n",
       "\n",
       "    .dataframe thead th {\n",
       "        text-align: right;\n",
       "    }\n",
       "</style>\n",
       "<table border=\"1\" class=\"dataframe\">\n",
       "  <thead>\n",
       "    <tr style=\"text-align: right;\">\n",
       "      <th></th>\n",
       "      <th>col_1</th>\n",
       "      <th>col_2</th>\n",
       "    </tr>\n",
       "  </thead>\n",
       "  <tbody>\n",
       "    <tr>\n",
       "      <th>0</th>\n",
       "      <td>vb.net</td>\n",
       "      <td>[dotnet, vb.net, vb, systemidletimer, static-d...</td>\n",
       "    </tr>\n",
       "    <tr>\n",
       "      <th>1</th>\n",
       "      <td>vb6</td>\n",
       "      <td>[dotnet, vb.net, vb, systemidletimer, static-d...</td>\n",
       "    </tr>\n",
       "    <tr>\n",
       "      <th>2</th>\n",
       "      <td>vb</td>\n",
       "      <td>[dotnet, vb.net, vb, systemidletimer, static-d...</td>\n",
       "    </tr>\n",
       "    <tr>\n",
       "      <th>3</th>\n",
       "      <td>asp.net</td>\n",
       "      <td>[dotnet, vb.net, vb, systemidletimer, static-d...</td>\n",
       "    </tr>\n",
       "    <tr>\n",
       "      <th>4</th>\n",
       "      <td>vbscript</td>\n",
       "      <td>[dotnet, vb.net, vb, systemidletimer, static-d...</td>\n",
       "    </tr>\n",
       "  </tbody>\n",
       "</table>\n",
       "</div>"
      ],
      "text/plain": [
       "      col_1                                              col_2\n",
       "0    vb.net  [dotnet, vb.net, vb, systemidletimer, static-d...\n",
       "1       vb6  [dotnet, vb.net, vb, systemidletimer, static-d...\n",
       "2        vb  [dotnet, vb.net, vb, systemidletimer, static-d...\n",
       "3   asp.net  [dotnet, vb.net, vb, systemidletimer, static-d...\n",
       "4  vbscript  [dotnet, vb.net, vb, systemidletimer, static-d..."
      ]
     },
     "execution_count": 13,
     "metadata": {},
     "output_type": "execute_result"
    }
   ],
   "source": [
    "df_exp=df_.explode('col_1')\n",
    "df_exp.reset_index(inplace=True)\n",
    "df_exp=df_exp.drop(columns=\"index\")\n",
    "df_exp"
   ]
  },
  {
   "cell_type": "markdown",
   "metadata": {},
   "source": [
    "Getting its Cosine similarity"
   ]
  },
  {
   "cell_type": "code",
   "execution_count": 14,
   "metadata": {},
   "outputs": [
    {
     "data": {
      "text/html": [
       "<div>\n",
       "<style scoped>\n",
       "    .dataframe tbody tr th:only-of-type {\n",
       "        vertical-align: middle;\n",
       "    }\n",
       "\n",
       "    .dataframe tbody tr th {\n",
       "        vertical-align: top;\n",
       "    }\n",
       "\n",
       "    .dataframe thead th {\n",
       "        text-align: right;\n",
       "    }\n",
       "</style>\n",
       "<table border=\"1\" class=\"dataframe\">\n",
       "  <thead>\n",
       "    <tr style=\"text-align: right;\">\n",
       "      <th></th>\n",
       "      <th>col_1</th>\n",
       "      <th>col_2</th>\n",
       "      <th>cosine_score</th>\n",
       "      <th>min</th>\n",
       "      <th>max</th>\n",
       "      <th>mean</th>\n",
       "    </tr>\n",
       "  </thead>\n",
       "  <tbody>\n",
       "    <tr>\n",
       "      <th>0</th>\n",
       "      <td>vb.net</td>\n",
       "      <td>[dotnet, vb.net, vb, systemidletimer, static-d...</td>\n",
       "      <td>[0.6601479389185724, 1.0, 0.719454824288189, 0...</td>\n",
       "      <td>0.168903</td>\n",
       "      <td>1.000000</td>\n",
       "      <td>0.591865</td>\n",
       "    </tr>\n",
       "    <tr>\n",
       "      <th>1</th>\n",
       "      <td>vb6</td>\n",
       "      <td>[dotnet, vb.net, vb, systemidletimer, static-d...</td>\n",
       "      <td>[0.4898636955393918, 0.7656895397964274, 0.651...</td>\n",
       "      <td>0.126589</td>\n",
       "      <td>0.765690</td>\n",
       "      <td>0.475317</td>\n",
       "    </tr>\n",
       "    <tr>\n",
       "      <th>2</th>\n",
       "      <td>vb</td>\n",
       "      <td>[dotnet, vb.net, vb, systemidletimer, static-d...</td>\n",
       "      <td>[0.5703884329575297, 0.719454824288189, 1.0, 0...</td>\n",
       "      <td>0.061652</td>\n",
       "      <td>1.000000</td>\n",
       "      <td>0.552051</td>\n",
       "    </tr>\n",
       "    <tr>\n",
       "      <th>3</th>\n",
       "      <td>asp.net</td>\n",
       "      <td>[dotnet, vb.net, vb, systemidletimer, static-d...</td>\n",
       "      <td>[0.5637284830193972, 0.748919528091196, 0.5872...</td>\n",
       "      <td>0.147627</td>\n",
       "      <td>0.748920</td>\n",
       "      <td>0.496888</td>\n",
       "    </tr>\n",
       "    <tr>\n",
       "      <th>4</th>\n",
       "      <td>vbscript</td>\n",
       "      <td>[dotnet, vb.net, vb, systemidletimer, static-d...</td>\n",
       "      <td>[0.42715952646160105, 0.6877714786083069, 0.62...</td>\n",
       "      <td>0.132094</td>\n",
       "      <td>0.687771</td>\n",
       "      <td>0.463385</td>\n",
       "    </tr>\n",
       "  </tbody>\n",
       "</table>\n",
       "</div>"
      ],
      "text/plain": [
       "      col_1                                              col_2  \\\n",
       "0    vb.net  [dotnet, vb.net, vb, systemidletimer, static-d...   \n",
       "1       vb6  [dotnet, vb.net, vb, systemidletimer, static-d...   \n",
       "2        vb  [dotnet, vb.net, vb, systemidletimer, static-d...   \n",
       "3   asp.net  [dotnet, vb.net, vb, systemidletimer, static-d...   \n",
       "4  vbscript  [dotnet, vb.net, vb, systemidletimer, static-d...   \n",
       "\n",
       "                                        cosine_score       min       max  \\\n",
       "0  [0.6601479389185724, 1.0, 0.719454824288189, 0...  0.168903  1.000000   \n",
       "1  [0.4898636955393918, 0.7656895397964274, 0.651...  0.126589  0.765690   \n",
       "2  [0.5703884329575297, 0.719454824288189, 1.0, 0...  0.061652  1.000000   \n",
       "3  [0.5637284830193972, 0.748919528091196, 0.5872...  0.147627  0.748920   \n",
       "4  [0.42715952646160105, 0.6877714786083069, 0.62...  0.132094  0.687771   \n",
       "\n",
       "       mean  \n",
       "0  0.591865  \n",
       "1  0.475317  \n",
       "2  0.552051  \n",
       "3  0.496888  \n",
       "4  0.463385  "
      ]
     },
     "execution_count": 14,
     "metadata": {},
     "output_type": "execute_result"
    }
   ],
   "source": [
    " \n",
    "\n",
    "\n",
    "try:\n",
    "    k=[]\n",
    "    for label,row in df_exp.iterrows():\n",
    "        \n",
    "\n",
    "        z=[]\n",
    "        x = row[0]\n",
    "        for y in row[1]:\n",
    "            #print(y)\n",
    "#             if y!=row[0] :\n",
    "                #print(\"----------------------\")\n",
    "                #print(f'x : {x} and y : {y}')\n",
    "            v1= embeddings_dict[x]\n",
    "            v2=embeddings_dict[y]\n",
    "            X=np.array([v1,v2])\n",
    "            val=(1-(spatial.distance.pdist(X,'cosine')[0]))\n",
    "            z.append(val)\n",
    "            \n",
    "                \n",
    "        k.append(z)\n",
    "    score=pd.Series(k)\n",
    "    df_exp[\"cosine_score\"]=pd.DataFrame(score)\n",
    "    minimum=[]\n",
    "    maximum=[]\n",
    "    mean=[]\n",
    "    for c in df_exp[\"cosine_score\"]:\n",
    "        minimum.append(min(c))\n",
    "        maximum.append(max(c))\n",
    "        mean.append(sum(c) / len(c))\n",
    "    df_exp[\"min\"]=pd.DataFrame(minimum)\n",
    "    df_exp[\"max\"]=pd.DataFrame(maximum)\n",
    "    df_exp[\"mean\"]=pd.DataFrame(mean)\n",
    "\n",
    "               \n",
    "except TypeError:\n",
    "    pass\n",
    "\n",
    "df_exp           \n",
    "            \n",
    "\n",
    "       \n",
    "\n",
    "       "
   ]
  },
  {
   "cell_type": "code",
   "execution_count": 58,
   "metadata": {},
   "outputs": [
    {
     "data": {
      "text/plain": [
       "0.6886931397646269"
      ]
     },
     "execution_count": 58,
     "metadata": {},
     "output_type": "execute_result"
    }
   ],
   "source": [
    "v1= embeddings_dict[\"c++\"]\n",
    "v2=embeddings_dict[\"c/c\"]\n",
    "X=np.array([v1,v2])\n",
    "val=(1-(spatial.distance.pdist(X,'cosine')[0]))\n",
    "val"
   ]
  },
  {
   "cell_type": "markdown",
   "metadata": {},
   "source": [
    "**BERT**"
   ]
  },
  {
   "cell_type": "code",
   "execution_count": 47,
   "metadata": {},
   "outputs": [
    {
     "data": {
      "application/vnd.jupyter.widget-view+json": {
       "model_id": "9499d2fe9392461d80909d091f33554a",
       "version_major": 2,
       "version_minor": 0
      },
      "text/plain": [
       "HBox(children=(FloatProgress(value=0.0, description='Downloading', max=461.0, style=ProgressStyle(description_…"
      ]
     },
     "metadata": {},
     "output_type": "display_data"
    },
    {
     "name": "stdout",
     "output_type": "stream",
     "text": [
      "\n"
     ]
    },
    {
     "data": {
      "application/vnd.jupyter.widget-view+json": {
       "model_id": "8dbcf5536a46488ebab4a705e8502349",
       "version_major": 2,
       "version_minor": 0
      },
      "text/plain": [
       "HBox(children=(FloatProgress(value=0.0, description='Downloading', max=231508.0, style=ProgressStyle(descripti…"
      ]
     },
     "metadata": {},
     "output_type": "display_data"
    },
    {
     "name": "stdout",
     "output_type": "stream",
     "text": [
      "\n"
     ]
    },
    {
     "data": {
      "application/vnd.jupyter.widget-view+json": {
       "model_id": "26ff2618797e4e3695cc705277384f03",
       "version_major": 2,
       "version_minor": 0
      },
      "text/plain": [
       "HBox(children=(FloatProgress(value=0.0, description='Downloading', max=2.0, style=ProgressStyle(description_wi…"
      ]
     },
     "metadata": {},
     "output_type": "display_data"
    },
    {
     "name": "stdout",
     "output_type": "stream",
     "text": [
      "\n"
     ]
    },
    {
     "data": {
      "application/vnd.jupyter.widget-view+json": {
       "model_id": "4dde2ae1de01440694af6e6f716a6b6f",
       "version_major": 2,
       "version_minor": 0
      },
      "text/plain": [
       "HBox(children=(FloatProgress(value=0.0, description='Downloading', max=112.0, style=ProgressStyle(description_…"
      ]
     },
     "metadata": {},
     "output_type": "display_data"
    },
    {
     "name": "stdout",
     "output_type": "stream",
     "text": [
      "\n"
     ]
    },
    {
     "data": {
      "application/vnd.jupyter.widget-view+json": {
       "model_id": "b3070b4b56eb43548911506e52d9f5a6",
       "version_major": 2,
       "version_minor": 0
      },
      "text/plain": [
       "HBox(children=(FloatProgress(value=0.0, description='Downloading', max=438006864.0, style=ProgressStyle(descri…"
      ]
     },
     "metadata": {},
     "output_type": "display_data"
    },
    {
     "name": "stdout",
     "output_type": "stream",
     "text": [
      "\n"
     ]
    }
   ],
   "source": [
    "from sent2vec.vectorizer import Vectorizer\n",
    "from sentence_transformers import SentenceTransformer\n",
    "from transformers import AutoTokenizer, AutoModel\n",
    "from scipy import spatial\n",
    "tokenizer = AutoTokenizer.from_pretrained(\"sentence-transformers/bert-base-nli-mean-tokens\")\n",
    "model = AutoModel.from_pretrained(\"sentence-transformers/bert-base-nli-mean-tokens\")\n"
   ]
  },
  {
   "cell_type": "code",
   "execution_count": 48,
   "metadata": {},
   "outputs": [],
   "source": [
    "path = '/home/ec2-user/SageMaker/sfurti/analytics-py-candidatematch/data/consolidated_annotations/bg_test_data.csv'\n",
    "\n",
    "test_data=pd.read_csv(path)\n",
    "test_data[\"jobSkills\"]=test_data[\"jobSkills\"].str.lower()\n",
    "test_data[\"profileSkills\"]=test_data[\"profileSkills\"].str.lower()\n",
    "\n",
    "\n",
    "test_data=test_data.dropna(subset=[\"jobSkills\",\"profileSkills\"])\n"
   ]
  },
  {
   "cell_type": "code",
   "execution_count": 49,
   "metadata": {},
   "outputs": [],
   "source": [
    "for x in test_data[\"jobSkills\"]:\n",
    "    l=len(x)\n",
    "    if l >= 1700:\n",
    "        print(l)"
   ]
  },
  {
   "cell_type": "markdown",
   "metadata": {},
   "source": [
    "Exploring BERT model, here the maximum characters it is taking is less 1727, which is constarin because profile skills length is more. To check the model I am splitting the characters after 1700.But we can get the vector of any thing. "
   ]
  },
  {
   "cell_type": "markdown",
   "metadata": {},
   "source": [
    "**Toy problem**"
   ]
  },
  {
   "cell_type": "code",
   "execution_count": 55,
   "metadata": {},
   "outputs": [
    {
     "data": {
      "text/plain": [
       "0.9183284044265747"
      ]
     },
     "execution_count": 55,
     "metadata": {},
     "output_type": "execute_result"
    }
   ],
   "source": [
    "\n",
    "sen=[\"c++\",\"dotnet\"]\n",
    "vectorizer = Vectorizer()\n",
    "vectorizer.bert(sen)\n",
    "vectors_bert = vectorizer.vectors\n",
    "cosine_bert = (1-spatial.distance.cosine(vectors_bert[0], vectors_bert[1]))\n",
    "cosine_bert"
   ]
  },
  {
   "cell_type": "code",
   "execution_count": 59,
   "metadata": {},
   "outputs": [
    {
     "data": {
      "text/plain": [
       "1726"
      ]
     },
     "execution_count": 59,
     "metadata": {},
     "output_type": "execute_result"
    }
   ],
   "source": [
    "\n",
    "r=[]\n",
    "for k in test_data[\"profileSkills\"]:\n",
    "    k=k[0:1726]\n",
    "    r.append(k)\n",
    "test_data[\"Length_ps\"]=pd.DataFrame(r) \n",
    "len(test_data[\"Length_ps\"][0])\n",
    "\n"
   ]
  },
  {
   "cell_type": "code",
   "execution_count": 60,
   "metadata": {},
   "outputs": [
    {
     "name": "stderr",
     "output_type": "stream",
     "text": [
      "/home/ec2-user/anaconda3/envs/python3/lib/python3.6/site-packages/ipykernel/__main__.py:14: SettingWithCopyWarning: \n",
      "A value is trying to be set on a copy of a slice from a DataFrame.\n",
      "Try using .loc[row_indexer,col_indexer] = value instead\n",
      "\n",
      "See the caveats in the documentation: https://pandas.pydata.org/pandas-docs/stable/user_guide/indexing.html#returning-a-view-versus-a-copy\n"
     ]
    }
   ],
   "source": [
    "k=test_data[0:20]\n",
    "p=[]\n",
    "for idx, row in k.iterrows():\n",
    "    a=row[\"jobSkills\"]\n",
    "    b=row[\"Length_ps\"]\n",
    "    sentences = [a,b] \n",
    "    vectorizer = Vectorizer()\n",
    "    vectorizer.bert(sentences)\n",
    "    vectors_bert = vectorizer.vectors\n",
    "    cosine_bert = (1-spatial.distance.cosine(vectors_bert[0], vectors_bert[1]))\n",
    "    #print(cosine_bert)\n",
    "    p.append(cosine_bert)\n",
    "    \n",
    "k[\"cosine_bert\"]=pd.DataFrame(p) \n",
    "\n",
    "    \n",
    "\n",
    "    \n"
   ]
  },
  {
   "cell_type": "markdown",
   "metadata": {},
   "source": [
    "Checking the cosine similarirty by sending 1726 characters of profile skills and job skills "
   ]
  },
  {
   "cell_type": "markdown",
   "metadata": {},
   "source": [
    "**if score is < 20 its a 1**\n",
    "\n",
    "**if score is between  20-40 its a 2**\n",
    "\n",
    "**if score is between  40-60 its a 3**\n",
    "\n",
    "**if score is between  60-80 its a 4**\n",
    "\n",
    "**if score is between  80-100 its a 5**"
   ]
  },
  {
   "cell_type": "code",
   "execution_count": 73,
   "metadata": {},
   "outputs": [
    {
     "name": "stderr",
     "output_type": "stream",
     "text": [
      "/home/ec2-user/anaconda3/envs/python3/lib/python3.6/site-packages/ipykernel/__main__.py:15: SettingWithCopyWarning: \n",
      "A value is trying to be set on a copy of a slice from a DataFrame.\n",
      "Try using .loc[row_indexer,col_indexer] = value instead\n",
      "\n",
      "See the caveats in the documentation: https://pandas.pydata.org/pandas-docs/stable/user_guide/indexing.html#returning-a-view-versus-a-copy\n"
     ]
    },
    {
     "data": {
      "text/html": [
       "<div>\n",
       "<style scoped>\n",
       "    .dataframe tbody tr th:only-of-type {\n",
       "        vertical-align: middle;\n",
       "    }\n",
       "\n",
       "    .dataframe tbody tr th {\n",
       "        vertical-align: top;\n",
       "    }\n",
       "\n",
       "    .dataframe thead th {\n",
       "        text-align: right;\n",
       "    }\n",
       "</style>\n",
       "<table border=\"1\" class=\"dataframe\">\n",
       "  <thead>\n",
       "    <tr style=\"text-align: right;\">\n",
       "      <th></th>\n",
       "      <th>user_score</th>\n",
       "      <th>cosine_bert</th>\n",
       "      <th>BERT_score</th>\n",
       "    </tr>\n",
       "  </thead>\n",
       "  <tbody>\n",
       "    <tr>\n",
       "      <th>0</th>\n",
       "      <td>2.0</td>\n",
       "      <td>0.535574</td>\n",
       "      <td>3.0</td>\n",
       "    </tr>\n",
       "    <tr>\n",
       "      <th>1</th>\n",
       "      <td>4.0</td>\n",
       "      <td>0.608466</td>\n",
       "      <td>4.0</td>\n",
       "    </tr>\n",
       "    <tr>\n",
       "      <th>2</th>\n",
       "      <td>4.0</td>\n",
       "      <td>0.620449</td>\n",
       "      <td>4.0</td>\n",
       "    </tr>\n",
       "    <tr>\n",
       "      <th>3</th>\n",
       "      <td>4.0</td>\n",
       "      <td>0.488343</td>\n",
       "      <td>3.0</td>\n",
       "    </tr>\n",
       "    <tr>\n",
       "      <th>5</th>\n",
       "      <td>3.0</td>\n",
       "      <td>0.610064</td>\n",
       "      <td>4.0</td>\n",
       "    </tr>\n",
       "  </tbody>\n",
       "</table>\n",
       "</div>"
      ],
      "text/plain": [
       "   user_score  cosine_bert  BERT_score\n",
       "0         2.0     0.535574         3.0\n",
       "1         4.0     0.608466         4.0\n",
       "2         4.0     0.620449         4.0\n",
       "3         4.0     0.488343         3.0\n",
       "5         3.0     0.610064         4.0"
      ]
     },
     "execution_count": 73,
     "metadata": {},
     "output_type": "execute_result"
    }
   ],
   "source": [
    "e=[]\n",
    "for x in k[\"cosine_bert\"]:\n",
    "    if x<.20:\n",
    "        d=1\n",
    "    elif x >.20 and x< .40:\n",
    "        d=2\n",
    "    elif x >.40 and x< .60:\n",
    "        d=3\n",
    "    elif x >.60 and x< .80:\n",
    "        d=4\n",
    "    else :\n",
    "        d=5\n",
    "    e.append(d)\n",
    "\n",
    "k[\"BERT_score\"]=pd.DataFrame(e) \n",
    "k[[\"user_score\",\"cosine_bert\",\"BERT_score\"]][0:5]\n",
    "    "
   ]
  },
  {
   "cell_type": "code",
   "execution_count": 77,
   "metadata": {},
   "outputs": [
    {
     "name": "stdout",
     "output_type": "stream",
     "text": [
      "Total number of records: 18\n",
      "Total exact matches: 1\n",
      "Percent exact: 5.6%\n",
      "Percent one-half 1 off: 36.1%\n",
      "Percent Gaussian rolloff: 45.6%\n"
     ]
    },
    {
     "data": {
      "text/html": [
       "<table border=\"1\" class=\"dataframe\">\n",
       "  <thead>\n",
       "    <tr style=\"text-align: right;\">\n",
       "      <th>user_score</th>\n",
       "      <th>1.0</th>\n",
       "      <th>2.0</th>\n",
       "      <th>3.0</th>\n",
       "      <th>4.0</th>\n",
       "    </tr>\n",
       "    <tr>\n",
       "      <th>BERT_score</th>\n",
       "      <th></th>\n",
       "      <th></th>\n",
       "      <th></th>\n",
       "      <th></th>\n",
       "    </tr>\n",
       "  </thead>\n",
       "  <tbody>\n",
       "    <tr>\n",
       "      <th>3.0</th>\n",
       "      <td>1</td>\n",
       "      <td>4</td>\n",
       "      <td>1</td>\n",
       "      <td>2</td>\n",
       "    </tr>\n",
       "    <tr>\n",
       "      <th>4.0</th>\n",
       "      <td>1</td>\n",
       "      <td>0</td>\n",
       "      <td>4</td>\n",
       "      <td>3</td>\n",
       "    </tr>\n",
       "    <tr>\n",
       "      <th>5.0</th>\n",
       "      <td>0</td>\n",
       "      <td>2</td>\n",
       "      <td>0</td>\n",
       "      <td>0</td>\n",
       "    </tr>\n",
       "  </tbody>\n",
       "</table>"
      ],
      "text/plain": [
       "<IPython.core.display.HTML object>"
      ]
     },
     "metadata": {},
     "output_type": "display_data"
    }
   ],
   "source": [
    "\n",
    "df_xtab = labeled_xtab(k, pred_col='BERT_score', labeled_col='user_score')\n",
    "d_stats = aggregate_stats_from_xtab(df_xtab)\n",
    "print_aggregate_stats(d_stats)\n",
    "display(HTML(df_xtab.to_html()))"
   ]
  },
  {
   "cell_type": "code",
   "execution_count": 413,
   "metadata": {},
   "outputs": [
    {
     "data": {
      "text/html": [
       "<div>\n",
       "<style scoped>\n",
       "    .dataframe tbody tr th:only-of-type {\n",
       "        vertical-align: middle;\n",
       "    }\n",
       "\n",
       "    .dataframe tbody tr th {\n",
       "        vertical-align: top;\n",
       "    }\n",
       "\n",
       "    .dataframe thead th {\n",
       "        text-align: right;\n",
       "    }\n",
       "</style>\n",
       "<table border=\"1\" class=\"dataframe\">\n",
       "  <thead>\n",
       "    <tr style=\"text-align: right;\">\n",
       "      <th></th>\n",
       "      <th>user_score</th>\n",
       "      <th>cosine_bert</th>\n",
       "    </tr>\n",
       "  </thead>\n",
       "  <tbody>\n",
       "    <tr>\n",
       "      <th>0</th>\n",
       "      <td>2.0</td>\n",
       "      <td>0.535574</td>\n",
       "    </tr>\n",
       "    <tr>\n",
       "      <th>1</th>\n",
       "      <td>4.0</td>\n",
       "      <td>0.608466</td>\n",
       "    </tr>\n",
       "    <tr>\n",
       "      <th>2</th>\n",
       "      <td>4.0</td>\n",
       "      <td>0.620449</td>\n",
       "    </tr>\n",
       "    <tr>\n",
       "      <th>3</th>\n",
       "      <td>4.0</td>\n",
       "      <td>0.488343</td>\n",
       "    </tr>\n",
       "    <tr>\n",
       "      <th>5</th>\n",
       "      <td>3.0</td>\n",
       "      <td>0.610064</td>\n",
       "    </tr>\n",
       "  </tbody>\n",
       "</table>\n",
       "</div>"
      ],
      "text/plain": [
       "   user_score  cosine_bert\n",
       "0         2.0     0.535574\n",
       "1         4.0     0.608466\n",
       "2         4.0     0.620449\n",
       "3         4.0     0.488343\n",
       "5         3.0     0.610064"
      ]
     },
     "execution_count": 413,
     "metadata": {},
     "output_type": "execute_result"
    }
   ],
   "source": [
    "k[[\"user_score\",\"cosine_bert\"]][0:5]"
   ]
  },
  {
   "cell_type": "code",
   "execution_count": 78,
   "metadata": {},
   "outputs": [
    {
     "data": {
      "text/plain": [
       "Index(['Unnamed: 0', 'Application ID', 'Job ID', 'Applicant Profile ID',\n",
       "       'jobTitle', 'jobSkills', 'jobDescription', 'profileCurrentTitle',\n",
       "       'profileDesiredTitle', 'profilePreviousTitle', 'profileSkills',\n",
       "       'user_score', 'Length_ps', 'cosine_bert', 'BERT_score'],\n",
       "      dtype='object')"
      ]
     },
     "execution_count": 78,
     "metadata": {},
     "output_type": "execute_result"
    }
   ],
   "source": [
    "k.columns"
   ]
  },
  {
   "cell_type": "markdown",
   "metadata": {},
   "source": [
    "let check on job Titles "
   ]
  },
  {
   "cell_type": "code",
   "execution_count": 79,
   "metadata": {},
   "outputs": [
    {
     "name": "stderr",
     "output_type": "stream",
     "text": [
      "/home/ec2-user/anaconda3/envs/python3/lib/python3.6/site-packages/ipykernel/__main__.py:14: SettingWithCopyWarning: \n",
      "A value is trying to be set on a copy of a slice from a DataFrame.\n",
      "Try using .loc[row_indexer,col_indexer] = value instead\n",
      "\n",
      "See the caveats in the documentation: https://pandas.pydata.org/pandas-docs/stable/user_guide/indexing.html#returning-a-view-versus-a-copy\n"
     ]
    }
   ],
   "source": [
    "k=test_data[0:20]\n",
    "p=[]\n",
    "for idx, row in k.iterrows():\n",
    "    a=row[\"jobTitle\"]\n",
    "    b=row[\"profileCurrentTitle\"]\n",
    "    sentences = [a,b] \n",
    "    vectorizer = Vectorizer()\n",
    "    vectorizer.bert(sentences)\n",
    "    vectors_bert = vectorizer.vectors\n",
    "    cosine_bert = (1-spatial.distance.cosine(vectors_bert[0], vectors_bert[1]))\n",
    "    #print(cosine_bert)\n",
    "    p.append(cosine_bert)\n",
    "    \n",
    "k[\"cosine_bert\"]=pd.DataFrame(p) \n"
   ]
  },
  {
   "cell_type": "code",
   "execution_count": 80,
   "metadata": {},
   "outputs": [
    {
     "data": {
      "text/html": [
       "<div>\n",
       "<style scoped>\n",
       "    .dataframe tbody tr th:only-of-type {\n",
       "        vertical-align: middle;\n",
       "    }\n",
       "\n",
       "    .dataframe tbody tr th {\n",
       "        vertical-align: top;\n",
       "    }\n",
       "\n",
       "    .dataframe thead th {\n",
       "        text-align: right;\n",
       "    }\n",
       "</style>\n",
       "<table border=\"1\" class=\"dataframe\">\n",
       "  <thead>\n",
       "    <tr style=\"text-align: right;\">\n",
       "      <th></th>\n",
       "      <th>jobTitle</th>\n",
       "      <th>profileCurrentTitle</th>\n",
       "      <th>cosine_bert</th>\n",
       "    </tr>\n",
       "  </thead>\n",
       "  <tbody>\n",
       "    <tr>\n",
       "      <th>0</th>\n",
       "      <td>Senior SQL Server Database Administrator( Need...</td>\n",
       "      <td>Full-stack .NET Developer</td>\n",
       "      <td>0.846741</td>\n",
       "    </tr>\n",
       "    <tr>\n",
       "      <th>1</th>\n",
       "      <td>Full Stack Developer</td>\n",
       "      <td>Software developer</td>\n",
       "      <td>0.957192</td>\n",
       "    </tr>\n",
       "    <tr>\n",
       "      <th>2</th>\n",
       "      <td>Scrum Master</td>\n",
       "      <td>Business Development Manager,Freelancing finan...</td>\n",
       "      <td>0.826734</td>\n",
       "    </tr>\n",
       "    <tr>\n",
       "      <th>3</th>\n",
       "      <td>Sr. Oracle DBA</td>\n",
       "      <td>Senior Software Engineer</td>\n",
       "      <td>0.833804</td>\n",
       "    </tr>\n",
       "    <tr>\n",
       "      <th>5</th>\n",
       "      <td>Business Analyst / Project Manager</td>\n",
       "      <td>Sr. Business System Analyst</td>\n",
       "      <td>0.820757</td>\n",
       "    </tr>\n",
       "  </tbody>\n",
       "</table>\n",
       "</div>"
      ],
      "text/plain": [
       "                                            jobTitle  \\\n",
       "0  Senior SQL Server Database Administrator( Need...   \n",
       "1                               Full Stack Developer   \n",
       "2                                       Scrum Master   \n",
       "3                                     Sr. Oracle DBA   \n",
       "5                 Business Analyst / Project Manager   \n",
       "\n",
       "                                 profileCurrentTitle  cosine_bert  \n",
       "0                          Full-stack .NET Developer     0.846741  \n",
       "1                                 Software developer     0.957192  \n",
       "2  Business Development Manager,Freelancing finan...     0.826734  \n",
       "3                           Senior Software Engineer     0.833804  \n",
       "5                        Sr. Business System Analyst     0.820757  "
      ]
     },
     "execution_count": 80,
     "metadata": {},
     "output_type": "execute_result"
    }
   ],
   "source": [
    "k[[\"jobTitle\",\"profileCurrentTitle\",\"cosine_bert\"]][0:5]"
   ]
  },
  {
   "cell_type": "code",
   "execution_count": null,
   "metadata": {},
   "outputs": [],
   "source": [
    "e=[]\n",
    "for x in k[\"cosine_bert\"]:\n",
    "    if x<.20:\n",
    "        d=1\n",
    "    elif x >.20 and x< .40:\n",
    "        d=2\n",
    "    elif x >.40 and x< .60:\n",
    "        d=3\n",
    "    elif x >.60 and x< .80:\n",
    "        d=4\n",
    "    else :\n",
    "        d=5\n",
    "    e.append(d)\n",
    "\n",
    "k[\"BERT_score\"]=pd.DataFrame(e) \n",
    "k[[\"user_score\",\"jobTitle\",\"profileCurrentTitle\",\"cosine_bert\",\"BERT_score\"]][0:5]"
   ]
  },
  {
   "cell_type": "code",
   "execution_count": 84,
   "metadata": {},
   "outputs": [
    {
     "data": {
      "text/html": [
       "<div>\n",
       "<style scoped>\n",
       "    .dataframe tbody tr th:only-of-type {\n",
       "        vertical-align: middle;\n",
       "    }\n",
       "\n",
       "    .dataframe tbody tr th {\n",
       "        vertical-align: top;\n",
       "    }\n",
       "\n",
       "    .dataframe thead th {\n",
       "        text-align: right;\n",
       "    }\n",
       "</style>\n",
       "<table border=\"1\" class=\"dataframe\">\n",
       "  <thead>\n",
       "    <tr style=\"text-align: right;\">\n",
       "      <th></th>\n",
       "      <th>user_score</th>\n",
       "      <th>jobTitle</th>\n",
       "      <th>profileCurrentTitle</th>\n",
       "      <th>cosine_bert</th>\n",
       "      <th>BERT_score</th>\n",
       "    </tr>\n",
       "  </thead>\n",
       "  <tbody>\n",
       "    <tr>\n",
       "      <th>0</th>\n",
       "      <td>2.0</td>\n",
       "      <td>Senior SQL Server Database Administrator( Need...</td>\n",
       "      <td>Full-stack .NET Developer</td>\n",
       "      <td>0.846741</td>\n",
       "      <td>5.0</td>\n",
       "    </tr>\n",
       "    <tr>\n",
       "      <th>1</th>\n",
       "      <td>4.0</td>\n",
       "      <td>Full Stack Developer</td>\n",
       "      <td>Software developer</td>\n",
       "      <td>0.957192</td>\n",
       "      <td>5.0</td>\n",
       "    </tr>\n",
       "    <tr>\n",
       "      <th>2</th>\n",
       "      <td>4.0</td>\n",
       "      <td>Scrum Master</td>\n",
       "      <td>Business Development Manager,Freelancing finan...</td>\n",
       "      <td>0.826734</td>\n",
       "      <td>5.0</td>\n",
       "    </tr>\n",
       "    <tr>\n",
       "      <th>3</th>\n",
       "      <td>4.0</td>\n",
       "      <td>Sr. Oracle DBA</td>\n",
       "      <td>Senior Software Engineer</td>\n",
       "      <td>0.833804</td>\n",
       "      <td>5.0</td>\n",
       "    </tr>\n",
       "    <tr>\n",
       "      <th>5</th>\n",
       "      <td>3.0</td>\n",
       "      <td>Business Analyst / Project Manager</td>\n",
       "      <td>Sr. Business System Analyst</td>\n",
       "      <td>0.820757</td>\n",
       "      <td>5.0</td>\n",
       "    </tr>\n",
       "    <tr>\n",
       "      <th>6</th>\n",
       "      <td>3.0</td>\n",
       "      <td>Information Security Assurance Analyst</td>\n",
       "      <td>IT GOVERNANCE, RISK, and COMPLIANCE AUDITS</td>\n",
       "      <td>0.960751</td>\n",
       "      <td>5.0</td>\n",
       "    </tr>\n",
       "    <tr>\n",
       "      <th>7</th>\n",
       "      <td>3.0</td>\n",
       "      <td>Solutions Engineer</td>\n",
       "      <td>Pro, Software Engineer</td>\n",
       "      <td>0.804113</td>\n",
       "      <td>5.0</td>\n",
       "    </tr>\n",
       "    <tr>\n",
       "      <th>8</th>\n",
       "      <td>2.0</td>\n",
       "      <td>Active Directory Engineer</td>\n",
       "      <td>JWICS(SCI) Technician,JWICS(SCI) Technician,JW...</td>\n",
       "      <td>0.926829</td>\n",
       "      <td>5.0</td>\n",
       "    </tr>\n",
       "    <tr>\n",
       "      <th>9</th>\n",
       "      <td>2.0</td>\n",
       "      <td>Developer</td>\n",
       "      <td>Sr. SOA Developer</td>\n",
       "      <td>0.805089</td>\n",
       "      <td>5.0</td>\n",
       "    </tr>\n",
       "    <tr>\n",
       "      <th>10</th>\n",
       "      <td>1.0</td>\n",
       "      <td>Developer</td>\n",
       "      <td>Sr. API/IIB Developer</td>\n",
       "      <td>0.967520</td>\n",
       "      <td>5.0</td>\n",
       "    </tr>\n",
       "  </tbody>\n",
       "</table>\n",
       "</div>"
      ],
      "text/plain": [
       "    user_score                                           jobTitle  \\\n",
       "0          2.0  Senior SQL Server Database Administrator( Need...   \n",
       "1          4.0                               Full Stack Developer   \n",
       "2          4.0                                       Scrum Master   \n",
       "3          4.0                                     Sr. Oracle DBA   \n",
       "5          3.0                 Business Analyst / Project Manager   \n",
       "6          3.0             Information Security Assurance Analyst   \n",
       "7          3.0                                 Solutions Engineer   \n",
       "8          2.0                          Active Directory Engineer   \n",
       "9          2.0                                          Developer   \n",
       "10         1.0                                          Developer   \n",
       "\n",
       "                                  profileCurrentTitle  cosine_bert  BERT_score  \n",
       "0                           Full-stack .NET Developer     0.846741         5.0  \n",
       "1                                  Software developer     0.957192         5.0  \n",
       "2   Business Development Manager,Freelancing finan...     0.826734         5.0  \n",
       "3                            Senior Software Engineer     0.833804         5.0  \n",
       "5                         Sr. Business System Analyst     0.820757         5.0  \n",
       "6          IT GOVERNANCE, RISK, and COMPLIANCE AUDITS     0.960751         5.0  \n",
       "7                              Pro, Software Engineer     0.804113         5.0  \n",
       "8   JWICS(SCI) Technician,JWICS(SCI) Technician,JW...     0.926829         5.0  \n",
       "9                                   Sr. SOA Developer     0.805089         5.0  \n",
       "10                              Sr. API/IIB Developer     0.967520         5.0  "
      ]
     },
     "execution_count": 84,
     "metadata": {},
     "output_type": "execute_result"
    }
   ],
   "source": [
    "k[[\"user_score\",\"jobTitle\",\"profileCurrentTitle\",\"cosine_bert\",\"BERT_score\"]][0:10]"
   ]
  },
  {
   "cell_type": "markdown",
   "metadata": {},
   "source": [
    "In the Job Titles Bert has scored 5 to all the Job titles. Even if we ignore the user score is the overall score for skills and Job Titles, still it is not making a 5. "
   ]
  },
  {
   "cell_type": "markdown",
   "metadata": {},
   "source": [
    "**Recommendation:** Recommending to use the GloVe pre-trained model, we can build a model on the top of the Glove model for classification. It has its inbuilt corpus and we do not require to build our own.  For the missing vocabulary, we can add it as well. It can be used for skill to skill mapping. It is faster than other new NLP models to train, scalable to huge corpora, and easier to implement. Not to use BERT at this time because our document length is bigger than its limit, takes a much longer time to train the model, and the process is slower. \n",
    "\n"
   ]
  },
  {
   "cell_type": "code",
   "execution_count": null,
   "metadata": {},
   "outputs": [],
   "source": []
  }
 ],
 "metadata": {
  "kernelspec": {
   "display_name": "conda_python3",
   "language": "python",
   "name": "conda_python3"
  },
  "language_info": {
   "codemirror_mode": {
    "name": "ipython",
    "version": 3
   },
   "file_extension": ".py",
   "mimetype": "text/x-python",
   "name": "python",
   "nbconvert_exporter": "python",
   "pygments_lexer": "ipython3",
   "version": "3.6.10"
  }
 },
 "nbformat": 4,
 "nbformat_minor": 4
}
