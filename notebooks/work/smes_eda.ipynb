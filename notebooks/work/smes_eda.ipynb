{
 "cells": [
  {
   "cell_type": "markdown",
   "id": "9b5cd3d2",
   "metadata": {},
   "source": [
    "**Summary:** \n",
    "\n",
    "After finding that we have enough records available to build a model, we compared it with SME's labels with our scores to find any signals/patterns between them. We can see some patterns which correspond to SME labels. \n",
    "\n",
    "We are a bit close to the SMEs score in defining the good and worst matches.\n",
    "- SMEs considering a good match for over-experienced and under-experienced(1 or 2 years less experience) candidates.\n",
    "- SMEs are considering not just experience but other signals for scoring.\n",
    "\n",
    "**Objective:**\n",
    "\n",
    "To identify the patterns between SMEs scores and overall years of experience scoring.\n",
    "\n",
    "- Why SMEs scored as great matches when our data says worst and vice-a-versa?\n",
    "- What patterns we can see which can define the worst and great matches?\n",
    "\n",
    "**Data:**\n",
    "\n",
    "[labelled data with consensus between 2 labellers](https://s3.console.aws.amazon.com/s3/object/dev-matchology-datascience?region=us-east-1&prefix=data/dice/v2/dice_labeled_20220307_experience_consensus_sandbox.csv)\n",
    "\n",
    "Features:\n",
    "\n",
    "- SMEs scores: experience\n",
    "\n",
    "- BG parsed JD: description_bg_parse_sandbox\n",
    "\n",
    "- BG parsed resume: resume_bg_parse_sandbox\n",
    "\n",
    "- Experience extracted from profile data from the database: profile_skills_exp"
   ]
  },
  {
   "cell_type": "code",
   "execution_count": 1,
   "id": "32bfef72",
   "metadata": {},
   "outputs": [],
   "source": [
    "import os\n",
    "import pandas as pd\n",
    "import numpy as np\n",
    "import json\n",
    "import datetime\n",
    "\n",
    "\n",
    "from jsonpath_ng import parse\n",
    "from IPython.display import HTML\n",
    "from datetime import datetime, timedelta\n",
    "from pyathena import connect\n",
    "from pyathena.pandas.cursor import PandasCursor\n",
    "cursor = connect(s3_staging_dir='s3://aws-athena-query-results-229357985605-us-east-1/',\n",
    "                 region_name='us-east-1',\n",
    "                 cursor_class=PandasCursor).cursor()\n",
    "\n",
    "from dhi.dsmatch import local_bucket\n",
    "from dhi.dsmatch.sklearnmodeling.models.applytransformer import ApplyTransformer\n",
    "from dhi.dsmatch.sklearnmodeling.functiontransformermapper import applymap\n",
    "from dhi.dsmatch.util.io import read_csv\n",
    "from dhi.dsmatch.preprocess.bgprocessing import datetime_to_julian"
   ]
  },
  {
   "cell_type": "code",
   "execution_count": 2,
   "id": "0a490f7b",
   "metadata": {},
   "outputs": [],
   "source": [
    "# # data = read_csv('s3://dev-matchology-datascience/data/dice/v2/dice_labeled_20220307_experience_consensus_sandbox.csv')\n",
    "# data.head()"
   ]
  },
  {
   "cell_type": "markdown",
   "id": "cdda4b6d",
   "metadata": {},
   "source": [
    "# Pulling profile experience from data pond"
   ]
  },
  {
   "cell_type": "code",
   "execution_count": 3,
   "id": "cc6069ea",
   "metadata": {},
   "outputs": [],
   "source": [
    "# sets = data['snapshot_id'].to_list()\n",
    "# sql=f\"\"\"SELECT  snapshot_id, profile_id, array_join(array_agg(skill_name), ':: ') as profile_skill_data_pond\n",
    "#                 , array_join(array_agg(skill_years_of_experience), ', ') as profile_skills_exp\n",
    "#         FROM prod_matchology_annotations.profile_skills \n",
    "#         Where snapshot_id in {tuple(sets)}\n",
    "\n",
    "#         GROUP BY  snapshot_id, profile_id\n",
    "#         \"\"\"\n",
    "# d1 = cursor.execute(sql).as_pandas()\n",
    "# data = pd.merge(data,d1, on=['snapshot_id','profile_id'])"
   ]
  },
  {
   "cell_type": "code",
   "execution_count": 4,
   "id": "7da6e0fc",
   "metadata": {},
   "outputs": [],
   "source": [
    "# data['profile_skill_data_pond'] = data['profile_skill_data_pond'].str.split('::')\n",
    "# data['profile_skills_exp'] = data['profile_skills_exp'].str.split(', ')\n",
    "# data['overall_exp_res_prof'] = data['profile_skills_exp'].apply(lambda x: int(max(x)))\n",
    "# data['overall_exp_res_prof'] =data['overall_exp_res_prof'].clip(lower=-1, upper=25)"
   ]
  },
  {
   "cell_type": "code",
   "execution_count": 5,
   "id": "ccdfd6e4",
   "metadata": {},
   "outputs": [],
   "source": [
    "# data.to_csv(os.path.join(local_bucket,'data', 'dice', 'new-bg-parsing-2022','labeled_data_exp.csv'),index=False)\n"
   ]
  },
  {
   "cell_type": "markdown",
   "id": "bb051eae",
   "metadata": {},
   "source": [
    "# BG parsing"
   ]
  },
  {
   "cell_type": "code",
   "execution_count": 6,
   "id": "3b21d13c",
   "metadata": {},
   "outputs": [],
   "source": [
    "data = read_csv(os.path.join(local_bucket,'data', 'dice', 'new-bg-parsing-2022','labeled_data_exp.csv'))"
   ]
  },
  {
   "cell_type": "code",
   "execution_count": 9,
   "id": "f28968ca",
   "metadata": {},
   "outputs": [],
   "source": [
    "def job_field_parsing(d, match_pattern):\n",
    "    jsonpath_expr = parse(match_pattern)\n",
    "    matches = [match.value for match in jsonpath_expr.find(d)]\n",
    "    ret = ', '.join(matches)\n",
    "    if len(ret) == 0:\n",
    "        return '-1'\n",
    "    return ret\n",
    "\n",
    "def extract_resume_overall_experience(d: dict) -> int:\n",
    "    \"\"\"\n",
    "    \"\"\"\n",
    "    try:\n",
    "        explist = d['responseData']['ResDoc']['resume']['experience']\n",
    "        if not isinstance(explist, list):\n",
    "            explist = [explist]\n",
    "        try:\n",
    "            max_end = int(d['responseData']['ResDoc']['resume']['@present'])\n",
    "        except KeyError:\n",
    "            max_end = datetime_to_julian(datetime.today())\n",
    "        \n",
    "        try:\n",
    "            min_start = int(d['responseData']['ResDoc']['resume']['@present'])\n",
    "        except KeyError:\n",
    "            min_start = datetime_to_julian(datetime.today())\n",
    "        \n",
    "        try:\n",
    "            jsonpath_expr = parse(f'$..@end')\n",
    "            ends = np.array(list(map(int, [match.value for match in jsonpath_expr.find(d)])))\n",
    "            max_end = ends.max()\n",
    "        except:\n",
    "            pass\n",
    "        \n",
    "        try:\n",
    "            jsonpath_expr = parse(f'$..@start')\n",
    "            starts = np.array(list(map(int, [match.value for match in jsonpath_expr.find(d)])))\n",
    "            min_start = starts.min()\n",
    "        except:\n",
    "            pass\n",
    "        \n",
    "        return max_end - min_start  # In days\n",
    "    \n",
    "    except KeyError:\n",
    "        pass\n",
    "    return -1"
   ]
  },
  {
   "cell_type": "markdown",
   "id": "e20122bc",
   "metadata": {},
   "source": [
    "JSON loads"
   ]
  },
  {
   "cell_type": "code",
   "execution_count": 8,
   "id": "043d0aad",
   "metadata": {},
   "outputs": [
    {
     "data": {
      "application/vnd.jupyter.widget-view+json": {
       "model_id": "6650f6ed848b4f16877f8a30a5a56de6",
       "version_major": 2,
       "version_minor": 0
      },
      "text/plain": [
       "loads:   0%|          | 0/45 [00:00<?, ?it/s]"
      ]
     },
     "metadata": {},
     "output_type": "display_data"
    },
    {
     "data": {
      "text/html": [
       "<div>\n",
       "<style scoped>\n",
       "    .dataframe tbody tr th:only-of-type {\n",
       "        vertical-align: middle;\n",
       "    }\n",
       "\n",
       "    .dataframe tbody tr th {\n",
       "        vertical-align: top;\n",
       "    }\n",
       "\n",
       "    .dataframe thead th {\n",
       "        text-align: right;\n",
       "    }\n",
       "</style>\n",
       "<table border=\"1\" class=\"dataframe\">\n",
       "  <thead>\n",
       "    <tr style=\"text-align: right;\">\n",
       "      <th></th>\n",
       "      <th>snapshot_id</th>\n",
       "      <th>year</th>\n",
       "      <th>month</th>\n",
       "      <th>day</th>\n",
       "      <th>worker_email</th>\n",
       "      <th>experience</th>\n",
       "      <th>titles</th>\n",
       "      <th>skills</th>\n",
       "      <th>overall</th>\n",
       "      <th>previous_title</th>\n",
       "      <th>...</th>\n",
       "      <th>application_id</th>\n",
       "      <th>resume_detected_lang</th>\n",
       "      <th>set</th>\n",
       "      <th>resume_bg_parse_sandbox</th>\n",
       "      <th>description_bg_parse_sandbox</th>\n",
       "      <th>description_bg_skills_sandbox</th>\n",
       "      <th>resume_bg_skills_sandbox</th>\n",
       "      <th>profile_skill_data_pond</th>\n",
       "      <th>profile_skills_exp</th>\n",
       "      <th>overall_exp_res_prof</th>\n",
       "    </tr>\n",
       "  </thead>\n",
       "  <tbody>\n",
       "    <tr>\n",
       "      <th>0</th>\n",
       "      <td>f699d3fa-5fcd-553d-9326-8b6d9a7ab0b6</td>\n",
       "      <td>2021</td>\n",
       "      <td>2</td>\n",
       "      <td>5</td>\n",
       "      <td>thellmuth@iqclarity.com</td>\n",
       "      <td>5.0</td>\n",
       "      <td>4.0</td>\n",
       "      <td>4.0</td>\n",
       "      <td>4.0</td>\n",
       "      <td>NaN</td>\n",
       "      <td>...</td>\n",
       "      <td>2c928082773ade8c017774437af72b66</td>\n",
       "      <td>en</td>\n",
       "      <td>test</td>\n",
       "      <td>{'status': True, 'statusCode': 'OK', 'requestI...</td>\n",
       "      <td>{'status': True, 'statusCode': 'OK', 'requestI...</td>\n",
       "      <td>['Apigee', 'TIBCO']</td>\n",
       "      <td>['ANSI X12', 'Apache Subversion (SVN)', 'Apige...</td>\n",
       "      <td>['Integration', ' TIBCO', ' WTX', ' ASC X12', ...</td>\n",
       "      <td>['10', '10', '10', '10', '10', '10', '10', '10...</td>\n",
       "      <td>10</td>\n",
       "    </tr>\n",
       "    <tr>\n",
       "      <th>1</th>\n",
       "      <td>6781e17d-0d57-5339-91c7-b9ea89aa0f66</td>\n",
       "      <td>2021</td>\n",
       "      <td>2</td>\n",
       "      <td>5</td>\n",
       "      <td>thellmuth@iqclarity.com</td>\n",
       "      <td>3.0</td>\n",
       "      <td>2.0</td>\n",
       "      <td>2.0</td>\n",
       "      <td>2.0</td>\n",
       "      <td>Network / Security Architect:: Network / Secur...</td>\n",
       "      <td>...</td>\n",
       "      <td>2c928082773ade8c01777346a4a26f88</td>\n",
       "      <td>en</td>\n",
       "      <td>test</td>\n",
       "      <td>{'status': True, 'statusCode': 'OK', 'requestI...</td>\n",
       "      <td>{'status': True, 'statusCode': 'OK', 'requestI...</td>\n",
       "      <td>['AWS Elastic Compute Cloud (EC2)', 'Ansible',...</td>\n",
       "      <td>['AWS Lambda', 'Accounting Systems', 'Apache A...</td>\n",
       "      <td>['Architecture', ' VoIP', ' Ubuntu', ' Data ce...</td>\n",
       "      <td>['35', '29', '29', '27', '26', '25', '25', '25...</td>\n",
       "      <td>25</td>\n",
       "    </tr>\n",
       "    <tr>\n",
       "      <th>2</th>\n",
       "      <td>8f026a65-0404-5a03-b96f-32f13535347e</td>\n",
       "      <td>2021</td>\n",
       "      <td>2</td>\n",
       "      <td>3</td>\n",
       "      <td>thellmuth@iqclarity.com</td>\n",
       "      <td>3.0</td>\n",
       "      <td>3.0</td>\n",
       "      <td>3.0</td>\n",
       "      <td>3.0</td>\n",
       "      <td>NaN</td>\n",
       "      <td>...</td>\n",
       "      <td>2c928082773ade8c01776647527f5c07</td>\n",
       "      <td>en</td>\n",
       "      <td>train</td>\n",
       "      <td>{'status': True, 'statusCode': 'OK', 'requestI...</td>\n",
       "      <td>{'status': True, 'statusCode': 'OK', 'requestI...</td>\n",
       "      <td>['Code Reviews', 'Communication Skills', 'Cont...</td>\n",
       "      <td>['Authentication', 'AutoCAD', 'Calculus', 'Cat...</td>\n",
       "      <td>['CSS', ' Express.js', ' GitHub', ' HTML', ' H...</td>\n",
       "      <td>['2', '2', '1', '2', '2', '2', '0', '2', '2', ...</td>\n",
       "      <td>2</td>\n",
       "    </tr>\n",
       "    <tr>\n",
       "      <th>3</th>\n",
       "      <td>9dc1f84a-dc8d-5e2b-bddd-a0d38a9b5248</td>\n",
       "      <td>2021</td>\n",
       "      <td>2</td>\n",
       "      <td>7</td>\n",
       "      <td>thellmuth@iqclarity.com</td>\n",
       "      <td>4.0</td>\n",
       "      <td>4.0</td>\n",
       "      <td>4.0</td>\n",
       "      <td>4.0</td>\n",
       "      <td>Senior IT Security Assessment Analyst:: Securi...</td>\n",
       "      <td>...</td>\n",
       "      <td>2c928082773adea001777a5f70073d8b</td>\n",
       "      <td>en</td>\n",
       "      <td>test</td>\n",
       "      <td>{'status': True, 'statusCode': 'OK', 'requestI...</td>\n",
       "      <td>{'status': True, 'statusCode': 'OK', 'requestI...</td>\n",
       "      <td>['Agency Selection', 'Bash', 'Change Managemen...</td>\n",
       "      <td>['Anomaly Detection', 'Authentication', 'COBIT...</td>\n",
       "      <td>['DNS', ' Security operations', ' Authenticati...</td>\n",
       "      <td>['5', '4', '4', '4', '4', '4', '4', '4', '3', ...</td>\n",
       "      <td>5</td>\n",
       "    </tr>\n",
       "    <tr>\n",
       "      <th>4</th>\n",
       "      <td>010d401d-295d-56f6-883d-188b9d2e82fb</td>\n",
       "      <td>2021</td>\n",
       "      <td>2</td>\n",
       "      <td>5</td>\n",
       "      <td>thellmuth@iqclarity.com</td>\n",
       "      <td>4.0</td>\n",
       "      <td>4.0</td>\n",
       "      <td>4.0</td>\n",
       "      <td>4.0</td>\n",
       "      <td>Python Developer:: DevOps Systems Engineer:: S...</td>\n",
       "      <td>...</td>\n",
       "      <td>2c928082773ade9a0177701809f548f5</td>\n",
       "      <td>en</td>\n",
       "      <td>test</td>\n",
       "      <td>{'status': True, 'statusCode': 'OK', 'requestI...</td>\n",
       "      <td>{'status': True, 'statusCode': 'OK', 'requestI...</td>\n",
       "      <td>['C++', 'Data Science', 'Data Structures', 'De...</td>\n",
       "      <td>['API Management', 'AWS CodeBuild', 'AWS Elast...</td>\n",
       "      <td>['javascript / nodejs', ' DevOps Systems Autom...</td>\n",
       "      <td>['3', '7', '2', '3', '10', '7', '4', '2', '11'...</td>\n",
       "      <td>9</td>\n",
       "    </tr>\n",
       "  </tbody>\n",
       "</table>\n",
       "<p>5 rows × 29 columns</p>\n",
       "</div>"
      ],
      "text/plain": [
       "                            snapshot_id  year  month  day  \\\n",
       "0  f699d3fa-5fcd-553d-9326-8b6d9a7ab0b6  2021      2    5   \n",
       "1  6781e17d-0d57-5339-91c7-b9ea89aa0f66  2021      2    5   \n",
       "2  8f026a65-0404-5a03-b96f-32f13535347e  2021      2    3   \n",
       "3  9dc1f84a-dc8d-5e2b-bddd-a0d38a9b5248  2021      2    7   \n",
       "4  010d401d-295d-56f6-883d-188b9d2e82fb  2021      2    5   \n",
       "\n",
       "              worker_email  experience  titles  skills  overall  \\\n",
       "0  thellmuth@iqclarity.com         5.0     4.0     4.0      4.0   \n",
       "1  thellmuth@iqclarity.com         3.0     2.0     2.0      2.0   \n",
       "2  thellmuth@iqclarity.com         3.0     3.0     3.0      3.0   \n",
       "3  thellmuth@iqclarity.com         4.0     4.0     4.0      4.0   \n",
       "4  thellmuth@iqclarity.com         4.0     4.0     4.0      4.0   \n",
       "\n",
       "                                      previous_title  ...  \\\n",
       "0                                                NaN  ...   \n",
       "1  Network / Security Architect:: Network / Secur...  ...   \n",
       "2                                                NaN  ...   \n",
       "3  Senior IT Security Assessment Analyst:: Securi...  ...   \n",
       "4  Python Developer:: DevOps Systems Engineer:: S...  ...   \n",
       "\n",
       "                     application_id resume_detected_lang    set  \\\n",
       "0  2c928082773ade8c017774437af72b66                   en   test   \n",
       "1  2c928082773ade8c01777346a4a26f88                   en   test   \n",
       "2  2c928082773ade8c01776647527f5c07                   en  train   \n",
       "3  2c928082773adea001777a5f70073d8b                   en   test   \n",
       "4  2c928082773ade9a0177701809f548f5                   en   test   \n",
       "\n",
       "                             resume_bg_parse_sandbox  \\\n",
       "0  {'status': True, 'statusCode': 'OK', 'requestI...   \n",
       "1  {'status': True, 'statusCode': 'OK', 'requestI...   \n",
       "2  {'status': True, 'statusCode': 'OK', 'requestI...   \n",
       "3  {'status': True, 'statusCode': 'OK', 'requestI...   \n",
       "4  {'status': True, 'statusCode': 'OK', 'requestI...   \n",
       "\n",
       "                        description_bg_parse_sandbox  \\\n",
       "0  {'status': True, 'statusCode': 'OK', 'requestI...   \n",
       "1  {'status': True, 'statusCode': 'OK', 'requestI...   \n",
       "2  {'status': True, 'statusCode': 'OK', 'requestI...   \n",
       "3  {'status': True, 'statusCode': 'OK', 'requestI...   \n",
       "4  {'status': True, 'statusCode': 'OK', 'requestI...   \n",
       "\n",
       "                       description_bg_skills_sandbox  \\\n",
       "0                                ['Apigee', 'TIBCO']   \n",
       "1  ['AWS Elastic Compute Cloud (EC2)', 'Ansible',...   \n",
       "2  ['Code Reviews', 'Communication Skills', 'Cont...   \n",
       "3  ['Agency Selection', 'Bash', 'Change Managemen...   \n",
       "4  ['C++', 'Data Science', 'Data Structures', 'De...   \n",
       "\n",
       "                            resume_bg_skills_sandbox  \\\n",
       "0  ['ANSI X12', 'Apache Subversion (SVN)', 'Apige...   \n",
       "1  ['AWS Lambda', 'Accounting Systems', 'Apache A...   \n",
       "2  ['Authentication', 'AutoCAD', 'Calculus', 'Cat...   \n",
       "3  ['Anomaly Detection', 'Authentication', 'COBIT...   \n",
       "4  ['API Management', 'AWS CodeBuild', 'AWS Elast...   \n",
       "\n",
       "                             profile_skill_data_pond  \\\n",
       "0  ['Integration', ' TIBCO', ' WTX', ' ASC X12', ...   \n",
       "1  ['Architecture', ' VoIP', ' Ubuntu', ' Data ce...   \n",
       "2  ['CSS', ' Express.js', ' GitHub', ' HTML', ' H...   \n",
       "3  ['DNS', ' Security operations', ' Authenticati...   \n",
       "4  ['javascript / nodejs', ' DevOps Systems Autom...   \n",
       "\n",
       "                                  profile_skills_exp overall_exp_res_prof  \n",
       "0  ['10', '10', '10', '10', '10', '10', '10', '10...                   10  \n",
       "1  ['35', '29', '29', '27', '26', '25', '25', '25...                   25  \n",
       "2  ['2', '2', '1', '2', '2', '2', '0', '2', '2', ...                    2  \n",
       "3  ['5', '4', '4', '4', '4', '4', '4', '4', '3', ...                    5  \n",
       "4  ['3', '7', '2', '3', '10', '7', '4', '2', '11'...                    9  \n",
       "\n",
       "[5 rows x 29 columns]"
      ]
     },
     "execution_count": 8,
     "metadata": {},
     "output_type": "execute_result"
    }
   ],
   "source": [
    "jsonloads_tx = ApplyTransformer(applymap, json.loads, keys=['description_bg_parse_sandbox', 'resume_bg_parse_sandbox'])\n",
    "jsonloads_tx.transform(data)\n",
    "data.head()"
   ]
  },
  {
   "cell_type": "markdown",
   "id": "07d35efe",
   "metadata": {},
   "source": [
    "# Job extraction"
   ]
  },
  {
   "cell_type": "code",
   "execution_count": 10,
   "id": "60371e2b",
   "metadata": {},
   "outputs": [
    {
     "data": {
      "application/vnd.jupyter.widget-view+json": {
       "model_id": "8446ee7a704d44a3b8d414d460a11242",
       "version_major": 2,
       "version_minor": 0
      },
      "text/plain": [
       "job_field_parsing:   0%|          | 0/45 [00:00<?, ?it/s]"
      ]
     },
     "metadata": {},
     "output_type": "display_data"
    }
   ],
   "source": [
    "\n",
    "\n",
    "tx = ApplyTransformer(applymap, job_field_parsing, \n",
    "                      fkwargs=dict(match_pattern='$..@experience-min'))\n",
    "data['overall_experience_job'] = tx.transform(data['description_bg_parse_sandbox'])\n",
    "data['overall_experience_job'] = data['overall_experience_job'].astype(float)\n",
    "idxs = data[data['overall_experience_job'] > -1].index\n",
    "data.loc[idxs, 'overall_experience_job'] /= 12\n"
   ]
  },
  {
   "cell_type": "code",
   "execution_count": 11,
   "id": "60c6e123",
   "metadata": {},
   "outputs": [
    {
     "data": {
      "text/plain": [
       "<AxesSubplot:>"
      ]
     },
     "execution_count": 11,
     "metadata": {},
     "output_type": "execute_result"
    },
    {
     "data": {
      "image/png": "[encoded data removed]",
      "text/plain": [
       "<Figure size 432x288 with 1 Axes>"
      ]
     },
     "metadata": {
      "needs_background": "light"
     },
     "output_type": "display_data"
    }
   ],
   "source": [
    "data['overall_experience_job'].hist()"
   ]
  },
  {
   "cell_type": "code",
   "execution_count": 13,
   "id": "a8092a0a",
   "metadata": {},
   "outputs": [],
   "source": [
    "data['overall_experience_job'] = data['overall_experience_job'].apply(lambda x : x if x>0 else np.nan)\n"
   ]
  },
  {
   "cell_type": "markdown",
   "id": "869f8525",
   "metadata": {},
   "source": [
    "# Resume experience Parsing from BG"
   ]
  },
  {
   "cell_type": "code",
   "execution_count": 14,
   "id": "18c2e90e",
   "metadata": {},
   "outputs": [
    {
     "data": {
      "application/vnd.jupyter.widget-view+json": {
       "model_id": "82752c69cef54c89a2fa182872e0ded6",
       "version_major": 2,
       "version_minor": 0
      },
      "text/plain": [
       "extract_resume_overall_experience:   0%|          | 0/45 [00:00<?, ?it/s]"
      ]
     },
     "metadata": {},
     "output_type": "display_data"
    }
   ],
   "source": [
    "tx = ApplyTransformer(applymap, extract_resume_overall_experience)\n",
    "data['overall_exp_res_bg'] = tx.transform(data['resume_bg_parse_sandbox'])\n",
    "idxs = data[data['overall_exp_res_bg'] > -1].index\n",
    "data.loc[idxs, 'overall_exp_res_bg'] /= 365\n",
    "data['overall_exp_res_bg'] =data['overall_exp_res_bg'].clip(lower=-1, upper=25)\n"
   ]
  },
  {
   "cell_type": "code",
   "execution_count": 15,
   "id": "9b5aed46",
   "metadata": {},
   "outputs": [
    {
     "data": {
      "text/plain": [
       "<AxesSubplot:>"
      ]
     },
     "execution_count": 15,
     "metadata": {},
     "output_type": "execute_result"
    },
    {
     "data": {
      "image/png": "[encoded data removed]",
      "text/plain": [
       "<Figure size 432x288 with 1 Axes>"
      ]
     },
     "metadata": {
      "needs_background": "light"
     },
     "output_type": "display_data"
    }
   ],
   "source": [
    "data['overall_exp_res_bg'].hist()"
   ]
  },
  {
   "cell_type": "markdown",
   "id": "78aa7028",
   "metadata": {},
   "source": [
    "# combining BG and profile experience and taking a mean as overall exp of resume."
   ]
  },
  {
   "cell_type": "code",
   "execution_count": 16,
   "id": "e045403c",
   "metadata": {},
   "outputs": [],
   "source": [
    "data['overall_exp_res_bg'] =data['overall_exp_res_bg'].apply(lambda x : x if x>0 else np.nan)\n",
    "data['overall_exp_res_prof'] =data['overall_exp_res_prof'].apply(lambda x : x if x>0 else np.nan)\n",
    "\n",
    "data['overall_exp_res_prof'] = data['overall_exp_res_prof'].fillna(data['overall_exp_res_bg'])#filling NaNs with profile data\n",
    "data['overall_exp_res_bg']   = data['overall_exp_res_bg'].fillna(data['overall_exp_res_prof'])#filling NaNs with BG data\n",
    "\n",
    "data['overall_experience_resume'] =  (data['overall_exp_res_prof']+data['overall_exp_res_bg'])/2\n"
   ]
  },
  {
   "cell_type": "code",
   "execution_count": 17,
   "id": "062fcfe3",
   "metadata": {},
   "outputs": [
    {
     "data": {
      "text/plain": [
       "<AxesSubplot:>"
      ]
     },
     "execution_count": 17,
     "metadata": {},
     "output_type": "execute_result"
    },
    {
     "data": {
      "image/png": "[encoded data removed]",
      "text/plain": [
       "<Figure size 432x288 with 1 Axes>"
      ]
     },
     "metadata": {
      "needs_background": "light"
     },
     "output_type": "display_data"
    }
   ],
   "source": [
    "data['overall_experience_resume'] .hist()"
   ]
  },
  {
   "cell_type": "markdown",
   "id": "6ca4314d",
   "metadata": {},
   "source": [
    "Final overall experince features"
   ]
  },
  {
   "cell_type": "code",
   "execution_count": 18,
   "id": "75eaf1fa",
   "metadata": {},
   "outputs": [
    {
     "data": {
      "text/html": [
       "<div>\n",
       "<style scoped>\n",
       "    .dataframe tbody tr th:only-of-type {\n",
       "        vertical-align: middle;\n",
       "    }\n",
       "\n",
       "    .dataframe tbody tr th {\n",
       "        vertical-align: top;\n",
       "    }\n",
       "\n",
       "    .dataframe thead th {\n",
       "        text-align: right;\n",
       "    }\n",
       "</style>\n",
       "<table border=\"1\" class=\"dataframe\">\n",
       "  <thead>\n",
       "    <tr style=\"text-align: right;\">\n",
       "      <th></th>\n",
       "      <th>overall_experience_resume</th>\n",
       "      <th>overall_experience_job</th>\n",
       "    </tr>\n",
       "  </thead>\n",
       "  <tbody>\n",
       "    <tr>\n",
       "      <th>0</th>\n",
       "      <td>11.045205</td>\n",
       "      <td>0.5</td>\n",
       "    </tr>\n",
       "    <tr>\n",
       "      <th>1</th>\n",
       "      <td>25.000000</td>\n",
       "      <td>8.0</td>\n",
       "    </tr>\n",
       "    <tr>\n",
       "      <th>2</th>\n",
       "      <td>2.000000</td>\n",
       "      <td>7.0</td>\n",
       "    </tr>\n",
       "    <tr>\n",
       "      <th>3</th>\n",
       "      <td>8.087671</td>\n",
       "      <td>NaN</td>\n",
       "    </tr>\n",
       "    <tr>\n",
       "      <th>4</th>\n",
       "      <td>10.754795</td>\n",
       "      <td>NaN</td>\n",
       "    </tr>\n",
       "    <tr>\n",
       "      <th>...</th>\n",
       "      <td>...</td>\n",
       "      <td>...</td>\n",
       "    </tr>\n",
       "    <tr>\n",
       "      <th>1428</th>\n",
       "      <td>7.713699</td>\n",
       "      <td>NaN</td>\n",
       "    </tr>\n",
       "    <tr>\n",
       "      <th>1429</th>\n",
       "      <td>15.927397</td>\n",
       "      <td>NaN</td>\n",
       "    </tr>\n",
       "    <tr>\n",
       "      <th>1430</th>\n",
       "      <td>15.000000</td>\n",
       "      <td>4.0</td>\n",
       "    </tr>\n",
       "    <tr>\n",
       "      <th>1431</th>\n",
       "      <td>1.501370</td>\n",
       "      <td>2.0</td>\n",
       "    </tr>\n",
       "    <tr>\n",
       "      <th>1432</th>\n",
       "      <td>15.500000</td>\n",
       "      <td>10.0</td>\n",
       "    </tr>\n",
       "  </tbody>\n",
       "</table>\n",
       "<p>1433 rows × 2 columns</p>\n",
       "</div>"
      ],
      "text/plain": [
       "      overall_experience_resume  overall_experience_job\n",
       "0                     11.045205                     0.5\n",
       "1                     25.000000                     8.0\n",
       "2                      2.000000                     7.0\n",
       "3                      8.087671                     NaN\n",
       "4                     10.754795                     NaN\n",
       "...                         ...                     ...\n",
       "1428                   7.713699                     NaN\n",
       "1429                  15.927397                     NaN\n",
       "1430                  15.000000                     4.0\n",
       "1431                   1.501370                     2.0\n",
       "1432                  15.500000                    10.0\n",
       "\n",
       "[1433 rows x 2 columns]"
      ]
     },
     "execution_count": 18,
     "metadata": {},
     "output_type": "execute_result"
    }
   ],
   "source": [
    "data[['overall_experience_resume','overall_experience_job']]"
   ]
  },
  {
   "cell_type": "code",
   "execution_count": 19,
   "id": "efaafed7",
   "metadata": {},
   "outputs": [],
   "source": [
    "# data.to_csv(os.path.join(local_bucket,'data', 'dice', 'new-bg-parsing-2022','labeled_data_for_victor_EDA_analysis.csv'))"
   ]
  },
  {
   "cell_type": "code",
   "execution_count": 20,
   "id": "62ac4f29",
   "metadata": {},
   "outputs": [
    {
     "data": {
      "text/plain": [
       "23     0.331507\n",
       "70     0.249315\n",
       "835    0.583562\n",
       "Name: overall_experience_resume, dtype: float64"
      ]
     },
     "execution_count": 20,
     "metadata": {},
     "output_type": "execute_result"
    }
   ],
   "source": [
    "data['overall_experience_resume'] = data['overall_experience_resume'].apply(lambda x : x if x>0 else np.nan)\n"
   ]
  },
  {
   "cell_type": "markdown",
   "id": "60046b11",
   "metadata": {},
   "source": [
    "We compared the SMS scores to the overall job and Resume year of experience. Here we rae substracting resume with job experice and call it as distance from job to qualify for a mtach."
   ]
  },
  {
   "cell_type": "code",
   "execution_count": 21,
   "id": "d9e54ce9",
   "metadata": {},
   "outputs": [],
   "source": [
    "def calc_distance(data):\n",
    "    dist = []\n",
    "    for j, r in zip(data['overall_experience_job'],data['overall_experience_resume']):\n",
    "        \n",
    "        if (j!=np.nan) | (r!=np.nan):\n",
    "            d = r-j\n",
    "            dist.append(d)\n",
    "        else:\n",
    "            dist.append(np.nan)\n",
    "    data['dist'] = dist\n",
    "    return data\n",
    "data = calc_distance(data)"
   ]
  },
  {
   "cell_type": "code",
   "execution_count": 22,
   "id": "a94af40e",
   "metadata": {},
   "outputs": [
    {
     "data": {
      "text/html": [
       "<div>\n",
       "<style scoped>\n",
       "    .dataframe tbody tr th:only-of-type {\n",
       "        vertical-align: middle;\n",
       "    }\n",
       "\n",
       "    .dataframe tbody tr th {\n",
       "        vertical-align: top;\n",
       "    }\n",
       "\n",
       "    .dataframe thead th {\n",
       "        text-align: right;\n",
       "    }\n",
       "</style>\n",
       "<table border=\"1\" class=\"dataframe\">\n",
       "  <thead>\n",
       "    <tr style=\"text-align: right;\">\n",
       "      <th></th>\n",
       "      <th>overall_experience_job</th>\n",
       "      <th>overall_experience_resume</th>\n",
       "      <th>dist</th>\n",
       "    </tr>\n",
       "  </thead>\n",
       "  <tbody>\n",
       "    <tr>\n",
       "      <th>0</th>\n",
       "      <td>0.5</td>\n",
       "      <td>11.045205</td>\n",
       "      <td>10.545205</td>\n",
       "    </tr>\n",
       "    <tr>\n",
       "      <th>1</th>\n",
       "      <td>8.0</td>\n",
       "      <td>25.000000</td>\n",
       "      <td>17.000000</td>\n",
       "    </tr>\n",
       "    <tr>\n",
       "      <th>2</th>\n",
       "      <td>7.0</td>\n",
       "      <td>2.000000</td>\n",
       "      <td>-5.000000</td>\n",
       "    </tr>\n",
       "    <tr>\n",
       "      <th>3</th>\n",
       "      <td>NaN</td>\n",
       "      <td>8.087671</td>\n",
       "      <td>NaN</td>\n",
       "    </tr>\n",
       "    <tr>\n",
       "      <th>4</th>\n",
       "      <td>NaN</td>\n",
       "      <td>10.754795</td>\n",
       "      <td>NaN</td>\n",
       "    </tr>\n",
       "    <tr>\n",
       "      <th>...</th>\n",
       "      <td>...</td>\n",
       "      <td>...</td>\n",
       "      <td>...</td>\n",
       "    </tr>\n",
       "    <tr>\n",
       "      <th>1428</th>\n",
       "      <td>NaN</td>\n",
       "      <td>7.713699</td>\n",
       "      <td>NaN</td>\n",
       "    </tr>\n",
       "    <tr>\n",
       "      <th>1429</th>\n",
       "      <td>NaN</td>\n",
       "      <td>15.927397</td>\n",
       "      <td>NaN</td>\n",
       "    </tr>\n",
       "    <tr>\n",
       "      <th>1430</th>\n",
       "      <td>4.0</td>\n",
       "      <td>15.000000</td>\n",
       "      <td>11.000000</td>\n",
       "    </tr>\n",
       "    <tr>\n",
       "      <th>1431</th>\n",
       "      <td>2.0</td>\n",
       "      <td>1.501370</td>\n",
       "      <td>-0.498630</td>\n",
       "    </tr>\n",
       "    <tr>\n",
       "      <th>1432</th>\n",
       "      <td>10.0</td>\n",
       "      <td>15.500000</td>\n",
       "      <td>5.500000</td>\n",
       "    </tr>\n",
       "  </tbody>\n",
       "</table>\n",
       "<p>1433 rows × 3 columns</p>\n",
       "</div>"
      ],
      "text/plain": [
       "      overall_experience_job  overall_experience_resume       dist\n",
       "0                        0.5                  11.045205  10.545205\n",
       "1                        8.0                  25.000000  17.000000\n",
       "2                        7.0                   2.000000  -5.000000\n",
       "3                        NaN                   8.087671        NaN\n",
       "4                        NaN                  10.754795        NaN\n",
       "...                      ...                        ...        ...\n",
       "1428                     NaN                   7.713699        NaN\n",
       "1429                     NaN                  15.927397        NaN\n",
       "1430                     4.0                  15.000000  11.000000\n",
       "1431                     2.0                   1.501370  -0.498630\n",
       "1432                    10.0                  15.500000   5.500000\n",
       "\n",
       "[1433 rows x 3 columns]"
      ]
     },
     "execution_count": 22,
     "metadata": {},
     "output_type": "execute_result"
    }
   ],
   "source": [
    "data [['overall_experience_job','overall_experience_resume','dist']]"
   ]
  },
  {
   "cell_type": "markdown",
   "id": "c1c1e0f3",
   "metadata": {},
   "source": [
    "Normal dist distribution where negetive says less experince to qualify for a match on job scale. positive is a good match."
   ]
  },
  {
   "cell_type": "code",
   "execution_count": 23,
   "id": "6eb89265",
   "metadata": {},
   "outputs": [
    {
     "data": {
      "image/png": "[encoded data removed]",
      "text/plain": [
       "<Figure size 432x288 with 1 Axes>"
      ]
     },
     "metadata": {
      "needs_background": "light"
     },
     "output_type": "display_data"
    }
   ],
   "source": [
    "data['dist'][data['dist'].notnull()].hist();"
   ]
  },
  {
   "cell_type": "markdown",
   "id": "70d78fbe",
   "metadata": {},
   "source": [
    "Resume that have same or above experinec mentined in  job. "
   ]
  },
  {
   "cell_type": "code",
   "execution_count": 24,
   "id": "678df4de",
   "metadata": {},
   "outputs": [
    {
     "data": {
      "text/html": [
       "<h2>0.4521981856245639% data have more or same experinece as mentioned in Job</h2>"
      ],
      "text/plain": [
       "<IPython.core.display.HTML object>"
      ]
     },
     "metadata": {},
     "output_type": "display_data"
    },
    {
     "data": {
      "image/png": "[encoded data removed]",
      "text/plain": [
       "<Figure size 432x288 with 1 Axes>"
      ]
     },
     "metadata": {
      "needs_background": "light"
     },
     "output_type": "display_data"
    }
   ],
   "source": [
    "data_ = data['dist'][data['dist']>=0]\n",
    "display(HTML(f'<h2>{data_.shape[0]/data.shape[0]}% data have more or same experinece as mentioned in Job</h2>'))\n",
    "data_.hist();"
   ]
  },
  {
   "cell_type": "markdown",
   "id": "9acfa46c",
   "metadata": {},
   "source": [
    "The graph below showing the SME labels in color where jobs on y-axis and resume experience on x_axis. The black diagonal line is presenting a threshold where good match(red,orangeand green dots) should be below the line and worst matches(dark blue and skyblue) above the line. There is  not quite clear signals but mostly lighter color dots are above the line and darker below the line."
   ]
  },
  {
   "cell_type": "code",
   "execution_count": 58,
   "id": "f851b13b",
   "metadata": {},
   "outputs": [
    {
     "data": {
      "image/png": "[encoded data removed]",
      "text/plain": [
       "<Figure size 576x504 with 2 Axes>"
      ]
     },
     "metadata": {
      "needs_background": "light"
     },
     "output_type": "display_data"
    }
   ],
   "source": [
    "import matplotlib.pyplot as plt\n",
    "fig = plt.figure(figsize=(8,7))\n",
    "ax = fig.add_axes([.1, .1, .8, .8])\n",
    "cax =ax.scatter(data['overall_experience_resume'], data['overall_experience_job'], \n",
    "               c=data['experience'],\n",
    "               cmap='jet', s=40)\n",
    "ax.set_xlabel(\"Resume experience\")\n",
    "ax.set_ylabel(\"Job experience\")\n",
    "ax.plot([0, 17], [0, 17], color='black', lw=1.5)\n",
    "cbar = fig.colorbar(cax, ticks=[1, 2, 3,4,5], orientation='horizontal')\n",
    "cbar.set_label(\"SME's scores\", labelpad=10, y=10, rotation=0)\n",
    "cbar.ax.set_xticklabels(['1', '2', '3', '4', '5']) ;"
   ]
  },
  {
   "cell_type": "markdown",
   "id": "fa91d8dc",
   "metadata": {},
   "source": [
    "The graph below showing the SME's scores on distance between resume and job to qualify for a match, where -getive numbers are saying the resume does not have experinnce above than the experinece asked in the job. For example candidate has 8 years of experince where job is asking for 10 years. To qualify for a good or ok kind of match the red green and orange dots must lie between the two black lines shown in the graph.We can see most of the blue and green dots are left side of the line, but still not a clear pattern to define then SME's leabels in our dataset.."
   ]
  },
  {
   "cell_type": "code",
   "execution_count": 26,
   "id": "68ad60de",
   "metadata": {},
   "outputs": [
    {
     "data": {
      "image/png": "[encoded data removed]",
      "text/plain": [
       "<Figure size 576x504 with 2 Axes>"
      ]
     },
     "metadata": {
      "needs_background": "light"
     },
     "output_type": "display_data"
    }
   ],
   "source": [
    "import matplotlib.pyplot as plt\n",
    "fig = plt.figure(figsize=(8,7))\n",
    "ax = fig.add_axes([.1, .1, .8, .8])\n",
    "cax =ax.scatter(data['dist'], data['overall_experience_job'], \n",
    "               c=data['experience'],\n",
    "               cmap='jet', s=40)\n",
    "ax.set_xlabel(\"Distance from the Job\")\n",
    "ax.set_ylabel(\"Job\")\n",
    "ax.plot([0, 0], [0, 15], color='black', lw=2)\n",
    "ax.plot([10, 10], [0, 15], color='black', lw=2)\n",
    "cbar = fig.colorbar(cax, ticks=[1, 2, 3, 4, 5], orientation='horizontal')\n",
    "cbar.set_label(\"SME's scores\", labelpad=10, y=10, rotation=0)\n",
    "cbar.ax.set_xticklabels(['1', '2', '3', '4', '5']) ;"
   ]
  },
  {
   "cell_type": "markdown",
   "id": "c7391eb2",
   "metadata": {},
   "source": [
    "Data where SME's has rates less but we are scoring as a good match. lesser the distance(but greater than zero), better is the macth.\n",
    "\n",
    "- index 304 not have relevent experinece in the same domain which seems like SME not just looking the overall expreience but experience in relevent domain for scoring.\n",
    "- 394 BG parsing is incorrect\n",
    "- 493 mentioned incorrect profile skill experience\n",
    "- 999 disagree with SME's scores\n",
    "- 1002"
   ]
  },
  {
   "cell_type": "code",
   "execution_count": 27,
   "id": "c679140a",
   "metadata": {},
   "outputs": [],
   "source": [
    "d_ = data[(data['dist']>0) & (data['dist']<2)].reset_index()\n",
    "d_ = d_[d_['experience']<3]"
   ]
  },
  {
   "cell_type": "code",
   "execution_count": 28,
   "id": "d17eab14",
   "metadata": {},
   "outputs": [
    {
     "data": {
      "text/html": [
       "<div>\n",
       "<style scoped>\n",
       "    .dataframe tbody tr th:only-of-type {\n",
       "        vertical-align: middle;\n",
       "    }\n",
       "\n",
       "    .dataframe tbody tr th {\n",
       "        vertical-align: top;\n",
       "    }\n",
       "\n",
       "    .dataframe thead th {\n",
       "        text-align: right;\n",
       "    }\n",
       "</style>\n",
       "<table border=\"1\" class=\"dataframe\">\n",
       "  <thead>\n",
       "    <tr style=\"text-align: right;\">\n",
       "      <th></th>\n",
       "      <th>index</th>\n",
       "      <th>overall_experience_job</th>\n",
       "      <th>overall_exp_res_prof</th>\n",
       "      <th>overall_exp_res_bg</th>\n",
       "      <th>overall_experience_resume</th>\n",
       "      <th>dist</th>\n",
       "      <th>experience</th>\n",
       "    </tr>\n",
       "  </thead>\n",
       "  <tbody>\n",
       "    <tr>\n",
       "      <th>19</th>\n",
       "      <td>304</td>\n",
       "      <td>4.0</td>\n",
       "      <td>2.0</td>\n",
       "      <td>7.167123</td>\n",
       "      <td>4.583562</td>\n",
       "      <td>0.583562</td>\n",
       "      <td>2.0</td>\n",
       "    </tr>\n",
       "    <tr>\n",
       "      <th>30</th>\n",
       "      <td>394</td>\n",
       "      <td>5.0</td>\n",
       "      <td>3.0</td>\n",
       "      <td>7.457534</td>\n",
       "      <td>5.228767</td>\n",
       "      <td>0.228767</td>\n",
       "      <td>2.0</td>\n",
       "    </tr>\n",
       "    <tr>\n",
       "      <th>35</th>\n",
       "      <td>493</td>\n",
       "      <td>5.0</td>\n",
       "      <td>6.0</td>\n",
       "      <td>4.169863</td>\n",
       "      <td>5.084932</td>\n",
       "      <td>0.084932</td>\n",
       "      <td>2.0</td>\n",
       "    </tr>\n",
       "    <tr>\n",
       "      <th>36</th>\n",
       "      <td>499</td>\n",
       "      <td>5.0</td>\n",
       "      <td>6.0</td>\n",
       "      <td>5.169863</td>\n",
       "      <td>5.584932</td>\n",
       "      <td>0.584932</td>\n",
       "      <td>2.0</td>\n",
       "    </tr>\n",
       "    <tr>\n",
       "      <th>42</th>\n",
       "      <td>605</td>\n",
       "      <td>5.0</td>\n",
       "      <td>5.0</td>\n",
       "      <td>6.257534</td>\n",
       "      <td>5.628767</td>\n",
       "      <td>0.628767</td>\n",
       "      <td>2.0</td>\n",
       "    </tr>\n",
       "    <tr>\n",
       "      <th>45</th>\n",
       "      <td>616</td>\n",
       "      <td>5.0</td>\n",
       "      <td>9.0</td>\n",
       "      <td>3.589041</td>\n",
       "      <td>6.294521</td>\n",
       "      <td>1.294521</td>\n",
       "      <td>2.0</td>\n",
       "    </tr>\n",
       "    <tr>\n",
       "      <th>47</th>\n",
       "      <td>693</td>\n",
       "      <td>4.0</td>\n",
       "      <td>1.0</td>\n",
       "      <td>8.838356</td>\n",
       "      <td>4.919178</td>\n",
       "      <td>0.919178</td>\n",
       "      <td>2.0</td>\n",
       "    </tr>\n",
       "    <tr>\n",
       "      <th>48</th>\n",
       "      <td>694</td>\n",
       "      <td>8.0</td>\n",
       "      <td>5.0</td>\n",
       "      <td>13.090411</td>\n",
       "      <td>9.045205</td>\n",
       "      <td>1.045205</td>\n",
       "      <td>1.0</td>\n",
       "    </tr>\n",
       "    <tr>\n",
       "      <th>53</th>\n",
       "      <td>807</td>\n",
       "      <td>5.0</td>\n",
       "      <td>4.0</td>\n",
       "      <td>6.591781</td>\n",
       "      <td>5.295890</td>\n",
       "      <td>0.295890</td>\n",
       "      <td>1.0</td>\n",
       "    </tr>\n",
       "    <tr>\n",
       "      <th>58</th>\n",
       "      <td>893</td>\n",
       "      <td>2.0</td>\n",
       "      <td>2.0</td>\n",
       "      <td>4.589041</td>\n",
       "      <td>3.294521</td>\n",
       "      <td>1.294521</td>\n",
       "      <td>2.0</td>\n",
       "    </tr>\n",
       "    <tr>\n",
       "      <th>64</th>\n",
       "      <td>999</td>\n",
       "      <td>10.0</td>\n",
       "      <td>7.0</td>\n",
       "      <td>16.178082</td>\n",
       "      <td>11.589041</td>\n",
       "      <td>1.589041</td>\n",
       "      <td>2.0</td>\n",
       "    </tr>\n",
       "    <tr>\n",
       "      <th>65</th>\n",
       "      <td>1002</td>\n",
       "      <td>5.0</td>\n",
       "      <td>9.0</td>\n",
       "      <td>2.756164</td>\n",
       "      <td>5.878082</td>\n",
       "      <td>0.878082</td>\n",
       "      <td>2.0</td>\n",
       "    </tr>\n",
       "    <tr>\n",
       "      <th>66</th>\n",
       "      <td>1028</td>\n",
       "      <td>5.0</td>\n",
       "      <td>6.0</td>\n",
       "      <td>7.676712</td>\n",
       "      <td>6.838356</td>\n",
       "      <td>1.838356</td>\n",
       "      <td>2.0</td>\n",
       "    </tr>\n",
       "    <tr>\n",
       "      <th>68</th>\n",
       "      <td>1073</td>\n",
       "      <td>5.0</td>\n",
       "      <td>8.0</td>\n",
       "      <td>3.504110</td>\n",
       "      <td>5.752055</td>\n",
       "      <td>0.752055</td>\n",
       "      <td>2.0</td>\n",
       "    </tr>\n",
       "    <tr>\n",
       "      <th>69</th>\n",
       "      <td>1074</td>\n",
       "      <td>8.0</td>\n",
       "      <td>6.0</td>\n",
       "      <td>10.761644</td>\n",
       "      <td>8.380822</td>\n",
       "      <td>0.380822</td>\n",
       "      <td>2.0</td>\n",
       "    </tr>\n",
       "    <tr>\n",
       "      <th>73</th>\n",
       "      <td>1121</td>\n",
       "      <td>3.0</td>\n",
       "      <td>2.0</td>\n",
       "      <td>4.841096</td>\n",
       "      <td>3.420548</td>\n",
       "      <td>0.420548</td>\n",
       "      <td>2.0</td>\n",
       "    </tr>\n",
       "    <tr>\n",
       "      <th>74</th>\n",
       "      <td>1131</td>\n",
       "      <td>3.0</td>\n",
       "      <td>2.0</td>\n",
       "      <td>4.586301</td>\n",
       "      <td>3.293151</td>\n",
       "      <td>0.293151</td>\n",
       "      <td>2.0</td>\n",
       "    </tr>\n",
       "    <tr>\n",
       "      <th>75</th>\n",
       "      <td>1139</td>\n",
       "      <td>3.0</td>\n",
       "      <td>3.0</td>\n",
       "      <td>3.589041</td>\n",
       "      <td>3.294521</td>\n",
       "      <td>0.294521</td>\n",
       "      <td>1.0</td>\n",
       "    </tr>\n",
       "    <tr>\n",
       "      <th>79</th>\n",
       "      <td>1183</td>\n",
       "      <td>7.0</td>\n",
       "      <td>7.0</td>\n",
       "      <td>7.172603</td>\n",
       "      <td>7.086301</td>\n",
       "      <td>0.086301</td>\n",
       "      <td>2.0</td>\n",
       "    </tr>\n",
       "    <tr>\n",
       "      <th>83</th>\n",
       "      <td>1207</td>\n",
       "      <td>3.0</td>\n",
       "      <td>2.0</td>\n",
       "      <td>5.756164</td>\n",
       "      <td>3.878082</td>\n",
       "      <td>0.878082</td>\n",
       "      <td>2.0</td>\n",
       "    </tr>\n",
       "    <tr>\n",
       "      <th>84</th>\n",
       "      <td>1221</td>\n",
       "      <td>2.0</td>\n",
       "      <td>2.0</td>\n",
       "      <td>3.671233</td>\n",
       "      <td>2.835616</td>\n",
       "      <td>0.835616</td>\n",
       "      <td>2.0</td>\n",
       "    </tr>\n",
       "    <tr>\n",
       "      <th>91</th>\n",
       "      <td>1323</td>\n",
       "      <td>5.0</td>\n",
       "      <td>8.0</td>\n",
       "      <td>5.008219</td>\n",
       "      <td>6.504110</td>\n",
       "      <td>1.504110</td>\n",
       "      <td>1.0</td>\n",
       "    </tr>\n",
       "    <tr>\n",
       "      <th>93</th>\n",
       "      <td>1348</td>\n",
       "      <td>8.0</td>\n",
       "      <td>8.0</td>\n",
       "      <td>9.093151</td>\n",
       "      <td>8.546575</td>\n",
       "      <td>0.546575</td>\n",
       "      <td>1.0</td>\n",
       "    </tr>\n",
       "    <tr>\n",
       "      <th>98</th>\n",
       "      <td>1380</td>\n",
       "      <td>8.0</td>\n",
       "      <td>5.0</td>\n",
       "      <td>13.594521</td>\n",
       "      <td>9.297260</td>\n",
       "      <td>1.297260</td>\n",
       "      <td>1.0</td>\n",
       "    </tr>\n",
       "    <tr>\n",
       "      <th>100</th>\n",
       "      <td>1385</td>\n",
       "      <td>5.0</td>\n",
       "      <td>6.0</td>\n",
       "      <td>5.002740</td>\n",
       "      <td>5.501370</td>\n",
       "      <td>0.501370</td>\n",
       "      <td>1.0</td>\n",
       "    </tr>\n",
       "  </tbody>\n",
       "</table>\n",
       "</div>"
      ],
      "text/plain": [
       "     index  overall_experience_job  overall_exp_res_prof  overall_exp_res_bg  \\\n",
       "19     304                     4.0                   2.0            7.167123   \n",
       "30     394                     5.0                   3.0            7.457534   \n",
       "35     493                     5.0                   6.0            4.169863   \n",
       "36     499                     5.0                   6.0            5.169863   \n",
       "42     605                     5.0                   5.0            6.257534   \n",
       "45     616                     5.0                   9.0            3.589041   \n",
       "47     693                     4.0                   1.0            8.838356   \n",
       "48     694                     8.0                   5.0           13.090411   \n",
       "53     807                     5.0                   4.0            6.591781   \n",
       "58     893                     2.0                   2.0            4.589041   \n",
       "64     999                    10.0                   7.0           16.178082   \n",
       "65    1002                     5.0                   9.0            2.756164   \n",
       "66    1028                     5.0                   6.0            7.676712   \n",
       "68    1073                     5.0                   8.0            3.504110   \n",
       "69    1074                     8.0                   6.0           10.761644   \n",
       "73    1121                     3.0                   2.0            4.841096   \n",
       "74    1131                     3.0                   2.0            4.586301   \n",
       "75    1139                     3.0                   3.0            3.589041   \n",
       "79    1183                     7.0                   7.0            7.172603   \n",
       "83    1207                     3.0                   2.0            5.756164   \n",
       "84    1221                     2.0                   2.0            3.671233   \n",
       "91    1323                     5.0                   8.0            5.008219   \n",
       "93    1348                     8.0                   8.0            9.093151   \n",
       "98    1380                     8.0                   5.0           13.594521   \n",
       "100   1385                     5.0                   6.0            5.002740   \n",
       "\n",
       "     overall_experience_resume      dist  experience  \n",
       "19                    4.583562  0.583562         2.0  \n",
       "30                    5.228767  0.228767         2.0  \n",
       "35                    5.084932  0.084932         2.0  \n",
       "36                    5.584932  0.584932         2.0  \n",
       "42                    5.628767  0.628767         2.0  \n",
       "45                    6.294521  1.294521         2.0  \n",
       "47                    4.919178  0.919178         2.0  \n",
       "48                    9.045205  1.045205         1.0  \n",
       "53                    5.295890  0.295890         1.0  \n",
       "58                    3.294521  1.294521         2.0  \n",
       "64                   11.589041  1.589041         2.0  \n",
       "65                    5.878082  0.878082         2.0  \n",
       "66                    6.838356  1.838356         2.0  \n",
       "68                    5.752055  0.752055         2.0  \n",
       "69                    8.380822  0.380822         2.0  \n",
       "73                    3.420548  0.420548         2.0  \n",
       "74                    3.293151  0.293151         2.0  \n",
       "75                    3.294521  0.294521         1.0  \n",
       "79                    7.086301  0.086301         2.0  \n",
       "83                    3.878082  0.878082         2.0  \n",
       "84                    2.835616  0.835616         2.0  \n",
       "91                    6.504110  1.504110         1.0  \n",
       "93                    8.546575  0.546575         1.0  \n",
       "98                    9.297260  1.297260         1.0  \n",
       "100                   5.501370  0.501370         1.0  "
      ]
     },
     "execution_count": 28,
     "metadata": {},
     "output_type": "execute_result"
    }
   ],
   "source": [
    "\n",
    "cols = ['index','overall_experience_job','overall_exp_res_prof','overall_exp_res_bg','overall_experience_resume','dist','experience']\n",
    "d_[cols][d_['dist']>-2]"
   ]
  },
  {
   "cell_type": "code",
   "execution_count": 29,
   "id": "452a603f",
   "metadata": {
    "scrolled": true
   },
   "outputs": [
    {
     "data": {
      "text/html": [
       "overall_experience_job: 5.0"
      ],
      "text/plain": [
       "<IPython.core.display.HTML object>"
      ]
     },
     "metadata": {},
     "output_type": "display_data"
    },
    {
     "data": {
      "text/html": [
       "overall_exp_res_prof: 9.0"
      ],
      "text/plain": [
       "<IPython.core.display.HTML object>"
      ]
     },
     "metadata": {},
     "output_type": "display_data"
    },
    {
     "data": {
      "text/html": [
       "overall_exp_res_bg: 2.756164383561644"
      ],
      "text/plain": [
       "<IPython.core.display.HTML object>"
      ]
     },
     "metadata": {},
     "output_type": "display_data"
    },
    {
     "data": {
      "text/html": [
       "overall_experience_resume: 5.8780821917808215"
      ],
      "text/plain": [
       "<IPython.core.display.HTML object>"
      ]
     },
     "metadata": {},
     "output_type": "display_data"
    },
    {
     "data": {
      "text/html": [
       "dist: 0.8780821917808215"
      ],
      "text/plain": [
       "<IPython.core.display.HTML object>"
      ]
     },
     "metadata": {},
     "output_type": "display_data"
    },
    {
     "data": {
      "text/html": [
       "experience: 2.0"
      ],
      "text/plain": [
       "<IPython.core.display.HTML object>"
      ]
     },
     "metadata": {},
     "output_type": "display_data"
    },
    {
     "data": {
      "text/html": [
       "<p><b>Company: Exelixis<br /> Location: San Jose, CA<br /> Contract length: 6 months contract to hire or just contract what ever they want!</b></p> <p><b>Location: remote until January 2021 or remote until COVID clears up </b></p> <p>MUST HAVE:</p> <ul> <li><b>Strong SAS programming skills required</b></li> <li><b>Experience in using Business Intelligence (BI) and visualization tools, in Tableau required</b></li> <li><b>Biotech/Pharmaceutical industry preferred.</b></li> <li><b>Ask about tumor experience but not a must-have just preferred </b></li> </ul> <p>  </p> <p>Performs statistical analysis on data related to product development in a research and development environment. Uses statistical software (SAS, R, etc.) to create and maintain listings, tabulations, graphical summaries, and formal statistical estimates and tests. Creates datasets in a standard format (i.e. SDTM), analysis datasets (i.e. ADaM), assesses quality of data analysis programs, and develops automated analysis tools, where appropriate. Develops programs to assist with data review such as edit checks and custom listings. May be responsible for data integration used for clinical summaries and/or creation and quality control of statistical submission components to regulatory agencies. May partner with biostatisticians and clinical data management staff in establishing standards for clinical data collection, management and/or reporting of data.</p> <p><br /> <b><u>ESSENTIAL DUTIES AND RESPONSIBILITIES:</u></b><br /> Independently develops SAS or other programs, and specifications (e.g. SDTM, ADaM), for use in study or other analyses, such Integrated Safety Summaries.<br /> Must be able to program defensively, check results, and consistently produce accurate output.<br /> Independently verifies other programmer's results.<br /> Serves as oversight, point-of-contact, and quality control for datasets in SDTM and ADaM format as well as tables, listings, and figures (TLFs) produced by CROs, including clear documentation of the process that was followed in the form of specifications, trackers, and checklists.<br /> Adheres to FDA regulations and company policies regarding training records, guidelines, and SOPs.<br /> Supports ad-hoc requests as needed.<br /> Works on multiple tasks at the same time and prioritize tasks to meet business needs.<br /> Trouble-shoots technical and project issues.<br /> Helps with the infrastructure development of the department.<br /> Assists team to ensure timelines for the study and/or project are met.<br /> Assists with training new employees and contractors, in particular on study specifics and departmental programming conventions and standards.<br /> Communicates with outside departments and/or CROs.<br /> Meets timelines on a regular basis.<br /> <br /> <b><u>Education:</u></b><br /> BS/BA degree in related discipline and five years of related experience; or,<br /> MS/MA degree in related discipline and three years of related experience; or,<br /> PhD in related discipline and one year of related experience, or;<br /> Equivalent combination of education and experience.<br /> May require certification in assigned area.<br /> <br /> <b><u>Experience:</u></b></p> <p>Experience in using Business Intelligence (BI) and visualization tools, such as Tableau required<br /> At least 5 years experience in statistical programming with clinical data and SAS.<br /> Strong SAS programming skills required, with proficiency in SAS/Base, SAS/Stat and SAS Macros.<br /> UNIX, S-Plus, CDISC, and SAS/GRAPH experience desirable.<br /> Ability to communicate verbally and in writing in a clear and timely manner.<br /> Experience in Biotech/Pharmaceutical industry preferred.<br /> <br /> <b><u>Knowledge/Skills/Abilities:</u></b><br /> Has extensive experience in relevant industry/profession and area of specialization.<br /> Uses professional concepts and company objectives to resolve complex issues in creative and effective ways.<br /> Identifies and implements methods and procedures to achieve results.<br /> Leads or manages the work of others by providing guidance to subordinates or teams based on organizational goals and company policy, with responsibility for results, including costs, methods and staffing.<br /> Performs a variety of complicated tasks with a wide degree of creativity and latitude.<br /> Has complete understanding and wide application of technical principles, theories, concepts and techniques.<br /> Has good general knowledge of other related disciplines.<br /> Applies strong analytical and business communication skills.</p> <p> </p> <p>  </p> <p>Regards<br /> Upen Saxena<br /> Recruitment Head<br /> <br /> <b>A:</b><b> </b>3240 E State st ext Hamilton, NJ 08619<br /> <b>M:</b>  | <b>E:</b> <a href=\"mailto:\" style=\"color:blue; text-decoration:underline\"></a><br /> <b>W:</b> <a href=\"http://www.kpgtech.com/\" style=\"color:blue; text-decoration:underline\">www.kpgtech.com</a></p> <p>  </p>"
      ],
      "text/plain": [
       "<IPython.core.display.HTML object>"
      ]
     },
     "metadata": {},
     "output_type": "display_data"
    },
    {
     "data": {
      "text/html": [
       "﻿                                                                                                                                                                                                                           \r\n",
       "                                                   \r\n",
       "\r\n",
       "Sr. UI Developer\r\n",
       "\t\r\n",
       "NINE ZERO ONE-FOUR FOUR FOUR-THREE ONE FIVE THREE\r\n",
       "\r\n",
       "Professional Summary:\r\n",
       "\r\n",
       "· 12 Years of experience in Analysis and developing web based, client/server, distributed architecture applications using Java and W3C technologies.\r\n",
       "· Strong experience in the entire Software Development cycle, which involves Analysis, design, development, coding, testing and implementation phases. \r\n",
       "· Expert in Web/User Interface development using HTML, HTML5, CSS CSS3, Bootstrap, Java Script, JQuery,   React JS, Typescript, Node JS,  Angular  2 ,4 6 ,7,8 Versions.\r\n",
       "· Experienced in implementing MVC Frameworks such as AngularJS, Spring and JSF.\r\n",
       "· Experienced in Developing and Deploying Applications using Node.js, GULP, Grunt, Bower, Web sphere Application Server, Web Logic Application Server, Apache Tomcat\r\n",
       "· High working knowledge of ID E’s including Eclipse, Net Beans, STS \r\n",
       "· Experience using build tools like Gradle, Ant, Maven\r\n",
       "· Strong experience in writing and creating XML, XHTML, XML Schema (XS D’s), XML Parsers like SAX and DOM, XSLT\r\n",
       "· Experience in working with different operating systems Windows, UNIX, LINUX, MAC OS\r\n",
       "· Experience in Implementing RUP Methodology, Water Fall Model and Agile/Scrum Development of Software Development Life cycle.\r\n",
       "· Experienced in writing Test plans to do rigorous testing and implementing in various applications developed. \r\n",
       "· Experienced in Defining and creating Technical, Designing and Functional documents.\r\n",
       "· Good working knowledge on Log4j and Junit, Jasmine \r\n",
       "· Good experience on version management tools CVS, SVN and GIT.\r\n",
       "· Excellent in databases like Oracle 8i/9i/10g, SQL Server 2000, MySQL.\r\n",
       "· Expertise in writing complex Oracle SQL queries and PL-SQL Stored Procedures using Oracle 10g and higher.\r\n",
       "· Experience with Profiling, Performance Monitoring & Analysis.\r\n",
       "· Experience in working under high stress environment to meet the project deadlines. \r\n",
       "· Capable team player who works well with people at all levels.\r\n",
       "· Excellent written and verbal communication, analytical, interpersonal and presentation skills.\r\n",
       "\r\n",
       "Technical Knowledge:\r\n",
       "\r\n",
       "Languages:\r\n",
       "Java, SQL, PL/SQL, C, UML               \r\n",
       "Java/J2EE Technologies:\r\n",
       "J2EE, Servlets, JSP, EJB, JSTL, JDBC, JSF, Java Beans, Struts, MVC, Hibernate, Spring ANT, MAVEN, Log4j, XML, JAXP, DOM, JUNIT, Web services\r\n",
       "Web Technologies:\r\n",
       "HTML, JavaScript, JQuery, CSS, CSS3, HTML5, AngularJS, Bootstrap\r\n",
       "Frameworks and ID E’s\r\n",
       "Eclipse, STS, Sublime, Brackets, Net beans                           \r\n",
       "Web/Application Servers\r\n",
       " Grunt, Gulp, Bower, Node.js, WebLogic, Tomcat, JBOSS\r\n",
       "Database Environments\r\n",
       "Oracle   My SQL\r\n",
       "Internet Protocols:\r\n",
       "FTP, HTTP, HTTPS, IMAP, SSL, SSH, SOAP, TCP/IP, POP3, SMTP.\r\n",
       "Operating Systems:\t\r\n",
       "Windows, UNIX, LINUX, SUN OS, MAC OS\r\n",
       "Web Service Technologies:\r\n",
       "SOAP, XSD, WSDL Restful Webservices\r\n",
       "Version Control Tools:\r\n",
       "CVS, SVN, GIT\r\n",
       "Build Script:\t\r\n",
       "Gradle, ANT, MAVEN, shell scripts, batch scripts.\r\n",
       "Patterns\r\n",
       "MVC, Core J2EE design patterns (MVC, DAO, DTO, Singleton, etc).\r\n",
       "\r\n",
       "Methodologies\r\n",
       "Agile, Scrum, Waterfall\r\n",
       "\r\n",
       "Education & Certifications :\r\n",
       "\r\n",
       "· Bachelor’s in computer science and Information Technology  \r\n",
       "· Brain bench Certified Java/UI Developer.\r\n",
       "\r\n",
       "Professional Experience: \r\n",
       "\r\n",
       "\r\n",
       "\r\n",
       "Client: \tAT&T                                                                                                                                          Jun’19 –Till Date\r\n",
       " Position: Sr. UI Developer                                                                                                         \r\n",
       "Project:  Product Landing Page ( PLP – Search )  \r\n",
       "\r\n",
       "Project Scope:\r\n",
       "\r\n",
       "                  Product Landing Page Search is a high traffic application where consumers buy phones , accessories  by    searching for the products.The goal is to Consolidate multiple search platforms in to one search platform powered by LW fusion (that uses open-source SOLR under the hood)  to leverage better capabilities, maximizing the value of current investments while also leveraging best-in-class search experience for the customer. Ability to deploy unified\r\n",
       "Search experience quickly across AT&T. \r\n",
       "\r\n",
       "Responsibilities\r\n",
       "Ø Building Responsive front end code  using Angular7, SASS, for the application which will be deployable at various platform devices like desktop, mobile, iPad etc.\r\n",
       "Ø Wrote Unit test cases using JIT and Karma \r\n",
       "Ø Attend Daily Standup meetings, Sprint planning meetings, Backlog grooming meetings, Retrospective and provide updates and inputs in Agile Craft\r\n",
       "Ø Update the tasks and hours spent on a task in JIRA.\r\n",
       "Ø Commit the code in GIT and do regular pulls and merge the code when committing.\r\n",
       "Ø Create Pull Request for approval and merge the code to latest branch version in GIT.\r\n",
       "Ø Deploy and Test the code in local dev environments and test the changes and update the tester the build is ready for testing.\r\n",
       "Ø Used ag-Grid for populating the tabular data with Angular7\r\n",
       "Ø Perform Test executions by checking application and  modifying various widths and testing on different devices\r\n",
       "Ø Run Sonar and achieve maximum test coverage for the code .\r\n",
       "Ø Deploy the application using CD Pipeline and Eco on various test environments.\r\n",
       "Ø Build Reusable Components and views using the component framework of Angular7 .\r\n",
       "Ø Used NGRX to maintain data throughout the application.\r\n",
       "Ø Get Data from various Catalog API’s and solar by Restful call to the API\r\n",
       "Ø Used NGRX stores, reducers and redux patterns.\r\n",
       "Ø Build Application that is Cross- browser compatible.\r\n",
       "Ø Adhere to Code standards and make recommendations after the Code Review meetings by Creating Components following OOP Principles.\r\n",
       "Ø Attend the code release meetings to production and Demo meetings\r\n",
       "Ø Involved in automated and Manual E2E testing for the application.\r\n",
       "Ø Fix the Defects assigned after the code deployment and maintain the code and update in the JIRA.\r\n",
       "Ø Collaborate with Team Members and Scrum master, Product Owners in defining the deadlines and deliverables\r\n",
       "Environment :JAVA/J2EE,  Angular7, Handlebars TypeScript, NodeJS Spring Framework, Spring Boot, Micro services, Splunk, DevOps ,Jenkins, CI/CD pipeline, REST API, JUnit, JSON, SQL / NoSQL, Git, Multithreading, JSP, HTML ,ES6 , Struts, Webservices, WebLogic, Cloud ,Jenkins ,Kubernetes/ Docker, \r\n",
       "Cassandra, NGRX, Agile, JIRA, App/Service Deployment, UML, Cache (Hazelcast), Node.js, Bower,Grunt ,Junit, JIT, JSP ,CSS, Sass, JavaScript, jQuery.\r\n",
       "\r\n",
       "\r\n",
       "Client: DELL(VCE), Richardson TX                                                                                                 Jan’16 – May’19\r\n",
       "Position: Sr. UI Tech Developer                                                                                                        \r\n",
       "Project:  XACT\r\n",
       "\r\n",
       "Project Scope :\r\n",
       "XACT is a “Design” Tool which allows Users in the field to much more quickly create Configurations and\r\n",
       "Iterative pricing. allows creation of a design and runs it against Multiple Systems to help the field guide the customer to the correct system much more quickly. Allow users to efficiently/quickly order/configure the system by inputting different hardware types like VBlock, VXBlock .\r\n",
       "\r\n",
       "Responsibilities:\r\n",
       "Ø Advised, collaborated with, and synthesized feedback from BA’s, UX designers and stakeholders.\r\n",
       "Ø Worked in Agile/Scrum environment with a two week deliverable Sprints.\r\n",
       "Ø Delivered innovative, engaging prototypes using the latest in front-end technologies like AngularJS\r\n",
       "Ø Collaborated with the development team, QA, Security, collaborative groups/clients and other cross functional teams to define and test deliverables.\r\n",
       "Ø Configuration of Wizards in the VSW tool\r\n",
       "Ø Used GRUNT as JavaScript task runner to automate daily tasks\r\n",
       "Ø Built Rich Prototypes and Applications using Angular7 , ES6, CSS ,SASS, Babel, Nodejs JSON, Redux. Java ,node modules\r\n",
       "Ø Developed responsive UI using latest web Technologies like Angular and ES6,SASS\r\n",
       "Ø Created Individual Angular Components for Each functionality in the application \r\n",
       "Ø Created interactive pills, menu, Filters , Popup modals etc \r\n",
       "Ø Consumed data through Restful web services from Catalog API and Solar.\r\n",
       "Ø Used GIT Version control system to push and pull codes to and from various branches.\r\n",
       "Ø Participated in code Reviews and Creating Pull Request and merging the codes to feature branches.\r\n",
       "Ø Used Continuous Integration and Continuous Deployment tools like Eco Pipeline and Jenkins to monitor and push the builds to various environments.\r\n",
       "Ø Created UI by receiving UX designs and extracting the exact CSS.\r\n",
       "Ø Used Just in Time to create unit test cases.\r\n",
       "Ø Used Postman to understand the JSON data fetches from   API.\r\n",
       "Ø Served as a mentor for junior developers and peers \r\n",
       "Environment:  JAVA/J2EE, Angular7,  TypeScript, Spring Framework, Spring Boot, Micro services, Splunk, DevOps ,Jenkins, CI/CD pipeline, REST API, JUnit, JSON, SQL / NoSQL, Git, Multithreading,  HTML ,ES6 , Webservices,  Agile, JIRA, App/Service Deployment, UML, Node.js, Bower,Grunt ,Junit, JIT, ,CSS, Sass, JavaScript.\r\n",
       "\r\n",
       "Client: American Airlines, Fort Worth TX                                                                                                  Oct’14 – Dec’15\r\n",
       "Position: Sr. UI Developer                                                                                                         \r\n",
       "Project:  AA.COM                                                                                                                      \r\n",
       "\r\n",
       "Project Scope :\r\n",
       "AA. Com is a primary Airline user facing website, which is built with multiple projects and involves in developing new and enhancing existing webpages to more of   user friendly and responsive pages. Making   AA.com primary usage like Booking, check in path Accessible, aa.com is also the first fully accessible aviation websites that will allow individuals with accessibility difficulties to sign up for notifications via aa.com, using a mouse, keyboard, and other third-party software.  \r\n",
       "\r\n",
       "Merge My Accounts: The purpose of this project is to support several elements of the Single Frequent Flyer     Program functionality, including:\r\n",
       "· The ability to ‘Merge’ 2 AA Advantage accounts\r\n",
       "· The ability to see details on the DM balances transferred to the AADV account if applicable\r\n",
       "· The ability to see that the member’s AADV account is still in the process of being merged to their ‘matched’ DM account\r\n",
       "The features above are supported in English, Spanish & Portuguese \r\n",
       "Session timeout: This project implements the Session warning and Session timeout dialog boxes on all Spring MVC and legacy code pages in booking path, check in, View Res. The session warning dialog will display on all pages in the booking path including the Travelers page and will\r\n",
       "\r\n",
       "· Display warning message when session has been inactive for 13 minutes \r\n",
       "· Allow the user to continue their session for an unlimited amount of times.\r\n",
       "· Dialog is fully accessible and meets A11Y(accessibility) standards.\r\n",
       "\r\n",
       "\r\n",
       "Responsibilities:\r\n",
       "Ø Worked under Agile Environment by participating in daily scrum, planning and retro meetings and involving in Agile assessments.\r\n",
       "Ø Involved in Design and Development of the project and Understanding business requirements from Product Owners and BA.\r\n",
       "Ø Created Responsive webpages by using CSS3 and HTML5\r\n",
       "Ø Written CSS code in generalized functions by using style sheet language SASS\r\n",
       "Ø Used Compass to generate CSS files out of SASS.\r\n",
       "Ø Involved in migration of project code to AngularJS.\r\n",
       "Ø Installed/Injected dependencies to Angular through Bower.\r\n",
       "Ø Used Various Gulp commands to build through the project\r\n",
       "Ø Build several SPA's through angularjs inbuilt directives, by utilization of services\r\n",
       "Ø Used Controller as syntax over $scope to create more readable controller code.\r\n",
       "Ø Used Angularjs UI routing to navigate through views.\r\n",
       "Ø Used Rest angular to make different http calls and retrieved data in the form of JSON.\r\n",
       "Ø Converted old pages and developed new webpages to be Accessible, so that user with disabilities could also use the web page with ease.\r\n",
       "Ø Developed Responsive webpages for a better user experience.\r\n",
       "Ø Used Team site to create, modify publishing content files.\r\n",
       "Ø Used Gradle as build tool to deploy code and update pub content file.\r\n",
       "Ø Parsed JSON data and used as data exchange format between restful webservices call.\r\n",
       "Ø Used Spring tool suite and sublime text as IDE\r\n",
       "Ø Used Tomcat server for all deployments.\r\n",
       "Ø Involved in creating a JavaScript sandbox for reusing the patterns in jsp’s.\r\n",
       "Ø Spring MVC, Struts and JDBC are the backend layers.\r\n",
       "Ø Used JMeter as performance analysis tool\r\n",
       "Ø Used Progressive enhancements approach for web development.\r\n",
       "Ø Used Rally for User story updates and Task Development.\r\n",
       "Ø Accurev was the version control system used for promoting the code.\r\n",
       " \r\n",
       "Environment:  Java/J2EE, Spring MVC, JMeter JQuery, HTML, HTML5, CSS3, SASS, Compass, Angular7, Angular,Gulp, Bower, RESTFUL Web services, STS, Gradle, Accurev, Tc Server, Rally, JSON, Oracle, XML, Junit, log4j\r\n",
       "\r\n",
       "Client: \tBarclays, McKinney TX                                                                                                        OCT’13 –OCT’14\r\n",
       "Position: Sr. UI Developer                                                                                                         \r\n",
       "Project:  Digital Features Store (DFS)\r\n",
       "\r\n",
       "Environment:  Java, Spring MVC, AngularJS, GRUNT, NodeJS HTML, HTML5, Bootstrap, CSS3, RESTFUL Webservices, JSON, Hibernate, Oracle, WSDL, JUnit, Log4j, GIT, Tomcat, IntelliJ\r\n",
       "\r\n",
       "\r\n",
       "Client: \tExcentus, Dallas, TX                                                                                                             May’13 – Oct'13\r\n",
       "Position: Sr. UI Developer                                                                                                         \r\n",
       "Project:  Fuel Rewards (www.fuelrewards.com)                                                                                                                           \r\n",
       "\r\n",
       "Environment:  Java/J2EE, Spring MVC, JavaScript, JQuery, HTML, d3js Apache Tomcat, JSP, Servlets, Magnolia, CMS, Web services, JSON, Hibernate, Oracle, XML, XSLT, SOAP, WSDL, JUnit, Log4j, ANT, SVN, Eclipse.,Unix\r\n",
       "\r\n",
       "Client: \tFedEx, Collierville TN                                                                                                          Jun’12 –Apr’13\r\n",
       "Position: Sr. Java Developer                                                                                                         \r\n",
       "Project:  WSSO Group Cleanup                                                                                                                              \r\n",
       "\r\n",
       "Environment: Java J2EE, JSP, JDBC, Spring Framework (Message Locale, Velocity, etc.), Tiles, JQuery, AJAX, JSON, XML, CSS, HTML/XHTML, JavaScript, JQuery, PHP, CGI, LDAP, Weblogic, Eclipse\r\n",
       "\r\n",
       "Client: \t JP Morgan Chase, Columbus, OH                                                                                                             Aug'11 – May’12\r\n",
       "Position: Sr. Java Developer                                                                                                         \r\n",
       "Project:  BoKS Self Service Portal                                                                                                                              \r\n",
       "\r\n",
       "Environment: Java/J2EE, Spring MVC, Spring LDAP, Spring JDBC, Hibernate PL/SQL, Eclipse, HTML, CSS, JSP, Servlets, Web Services, Oracle, JSON, OO- JavaScript, SOAP, WSDL, JUnit, Log4j, ANT, Maven, SVN, Tomcat, Red Hat Linux, JIRA, Jasper, BIRT, iReports.\r\n",
       "\r\n",
       "\r\n",
       "Client: \t HP, TX                                                                                                                                     Mar'11 –Aug’11\r\n",
       " Position: Sr. Java Developer                                                                                                         \r\n",
       "Project:  Agilaire                                                                                                                                         \r\n",
       "\r\n",
       "Environment: Java/J2EE, Oracle ADF, JSF2.0, PL/SQLEclipse, Java Script, HTML, GWT, JSP, Servlets, Web Services, POJOs, Oracle, JMS, Mdbs XML, XSD, SOAP, RESTFUL WSDL, JAXB, JUnit, Log4j, Maven, GIT, Jboss, Red Hat Linux, Rally\r\n",
       "\r\n",
       "Client: \tFedEx, TN                                                                                                                              Jan’10 -Feb'11\r\n",
       "Position: Java/J2EE Programmer                                                                                                            \r\n",
       "Project:   ITG 11369/111370-Green Export/Tdpr-ErrorCorrection                                       \r\n",
       "\r\n",
       "\r\n",
       "Environment:  Java/J2EE, Spring, JSF, Java Script, HTML, Java, Apache Tomcat, JSP, Servlets, Web services, Unix, POJOs, DOA, Hibernate, Oracle, JMS, XML, XSLT, SOAP, WSDL, JUnit, Log4j, ANT, Weblogic, svn, clear case\r\n",
       "\r\n",
       "Client: Daimler Chrysler, MI                                                                                                                  Jul’08- Jan’10\r\n",
       "Position: Java/J2EE Developer\r\n",
       "Project:   Improve Member Product Pre-Approvals          \r\n",
       "                                                                                                                                                          \r\n",
       "\r\n",
       "Environment: Java, JSP, Eclipse, Servlets, JDBC, XML, multi threading, APACHE, Rational Rose, UML, spring, Struts, UNIX, WebServices, JUnit, WebSphere"
      ],
      "text/plain": [
       "<IPython.core.display.HTML object>"
      ]
     },
     "metadata": {},
     "output_type": "display_data"
    }
   ],
   "source": [
    "n=1002\n",
    "cols = ['index','overall_experience_job','overall_exp_res_prof','overall_exp_res_bg','overall_experience_resume','dist','experience']\n",
    "for c in cols[1:]:\n",
    "    display(HTML(f'{c}: {data[c][n]}'))\n",
    "display(HTML(data['job_description'][n]))\n",
    "display(HTML(data['resume'][n]))\n"
   ]
  },
  {
   "cell_type": "markdown",
   "id": "88a09752",
   "metadata": {},
   "source": [
    "While eyeballing some of the examples we found the SME's are scoring experince on the basis of skills and experince\n",
    "\n",
    "- index 0 do not agree with SME's scores, it is asking 6 month experince and 10 years expert applied and SME's scored as 5.\n",
    "- index 9 over qualified people gets a score 5."
   ]
  },
  {
   "cell_type": "code",
   "execution_count": 30,
   "id": "9fd0c2a5",
   "metadata": {},
   "outputs": [
    {
     "data": {
      "text/html": [
       "<div>\n",
       "<style scoped>\n",
       "    .dataframe tbody tr th:only-of-type {\n",
       "        vertical-align: middle;\n",
       "    }\n",
       "\n",
       "    .dataframe tbody tr th {\n",
       "        vertical-align: top;\n",
       "    }\n",
       "\n",
       "    .dataframe thead th {\n",
       "        text-align: right;\n",
       "    }\n",
       "</style>\n",
       "<table border=\"1\" class=\"dataframe\">\n",
       "  <thead>\n",
       "    <tr style=\"text-align: right;\">\n",
       "      <th></th>\n",
       "      <th>index</th>\n",
       "      <th>overall_experience_job</th>\n",
       "      <th>overall_exp_res_prof</th>\n",
       "      <th>overall_exp_res_bg</th>\n",
       "      <th>overall_experience_resume</th>\n",
       "      <th>dist</th>\n",
       "      <th>experience</th>\n",
       "    </tr>\n",
       "  </thead>\n",
       "  <tbody>\n",
       "    <tr>\n",
       "      <th>0</th>\n",
       "      <td>0</td>\n",
       "      <td>0.5</td>\n",
       "      <td>10.0</td>\n",
       "      <td>12.090411</td>\n",
       "      <td>11.045205</td>\n",
       "      <td>10.545205</td>\n",
       "      <td>5.0</td>\n",
       "    </tr>\n",
       "    <tr>\n",
       "      <th>1</th>\n",
       "      <td>9</td>\n",
       "      <td>6.0</td>\n",
       "      <td>8.0</td>\n",
       "      <td>23.602740</td>\n",
       "      <td>15.801370</td>\n",
       "      <td>9.801370</td>\n",
       "      <td>5.0</td>\n",
       "    </tr>\n",
       "    <tr>\n",
       "      <th>2</th>\n",
       "      <td>10</td>\n",
       "      <td>2.0</td>\n",
       "      <td>9.0</td>\n",
       "      <td>9.506849</td>\n",
       "      <td>9.253425</td>\n",
       "      <td>7.253425</td>\n",
       "      <td>3.0</td>\n",
       "    </tr>\n",
       "    <tr>\n",
       "      <th>3</th>\n",
       "      <td>16</td>\n",
       "      <td>5.0</td>\n",
       "      <td>8.0</td>\n",
       "      <td>13.928767</td>\n",
       "      <td>10.964384</td>\n",
       "      <td>5.964384</td>\n",
       "      <td>3.0</td>\n",
       "    </tr>\n",
       "    <tr>\n",
       "      <th>4</th>\n",
       "      <td>33</td>\n",
       "      <td>1.0</td>\n",
       "      <td>9.0</td>\n",
       "      <td>9.594521</td>\n",
       "      <td>9.297260</td>\n",
       "      <td>8.297260</td>\n",
       "      <td>3.0</td>\n",
       "    </tr>\n",
       "    <tr>\n",
       "      <th>...</th>\n",
       "      <td>...</td>\n",
       "      <td>...</td>\n",
       "      <td>...</td>\n",
       "      <td>...</td>\n",
       "      <td>...</td>\n",
       "      <td>...</td>\n",
       "      <td>...</td>\n",
       "    </tr>\n",
       "    <tr>\n",
       "      <th>294</th>\n",
       "      <td>1408</td>\n",
       "      <td>5.0</td>\n",
       "      <td>9.0</td>\n",
       "      <td>14.673973</td>\n",
       "      <td>11.836986</td>\n",
       "      <td>6.836986</td>\n",
       "      <td>4.0</td>\n",
       "    </tr>\n",
       "    <tr>\n",
       "      <th>295</th>\n",
       "      <td>1424</td>\n",
       "      <td>2.0</td>\n",
       "      <td>9.0</td>\n",
       "      <td>10.169863</td>\n",
       "      <td>9.584932</td>\n",
       "      <td>7.584932</td>\n",
       "      <td>3.0</td>\n",
       "    </tr>\n",
       "    <tr>\n",
       "      <th>296</th>\n",
       "      <td>1426</td>\n",
       "      <td>3.0</td>\n",
       "      <td>9.0</td>\n",
       "      <td>15.178082</td>\n",
       "      <td>12.089041</td>\n",
       "      <td>9.089041</td>\n",
       "      <td>5.0</td>\n",
       "    </tr>\n",
       "    <tr>\n",
       "      <th>297</th>\n",
       "      <td>1430</td>\n",
       "      <td>4.0</td>\n",
       "      <td>5.0</td>\n",
       "      <td>25.000000</td>\n",
       "      <td>15.000000</td>\n",
       "      <td>11.000000</td>\n",
       "      <td>3.0</td>\n",
       "    </tr>\n",
       "    <tr>\n",
       "      <th>298</th>\n",
       "      <td>1432</td>\n",
       "      <td>10.0</td>\n",
       "      <td>6.0</td>\n",
       "      <td>25.000000</td>\n",
       "      <td>15.500000</td>\n",
       "      <td>5.500000</td>\n",
       "      <td>4.0</td>\n",
       "    </tr>\n",
       "  </tbody>\n",
       "</table>\n",
       "<p>258 rows × 7 columns</p>\n",
       "</div>"
      ],
      "text/plain": [
       "     index  overall_experience_job  overall_exp_res_prof  overall_exp_res_bg  \\\n",
       "0        0                     0.5                  10.0           12.090411   \n",
       "1        9                     6.0                   8.0           23.602740   \n",
       "2       10                     2.0                   9.0            9.506849   \n",
       "3       16                     5.0                   8.0           13.928767   \n",
       "4       33                     1.0                   9.0            9.594521   \n",
       "..     ...                     ...                   ...                 ...   \n",
       "294   1408                     5.0                   9.0           14.673973   \n",
       "295   1424                     2.0                   9.0           10.169863   \n",
       "296   1426                     3.0                   9.0           15.178082   \n",
       "297   1430                     4.0                   5.0           25.000000   \n",
       "298   1432                    10.0                   6.0           25.000000   \n",
       "\n",
       "     overall_experience_resume       dist  experience  \n",
       "0                    11.045205  10.545205         5.0  \n",
       "1                    15.801370   9.801370         5.0  \n",
       "2                     9.253425   7.253425         3.0  \n",
       "3                    10.964384   5.964384         3.0  \n",
       "4                     9.297260   8.297260         3.0  \n",
       "..                         ...        ...         ...  \n",
       "294                  11.836986   6.836986         4.0  \n",
       "295                   9.584932   7.584932         3.0  \n",
       "296                  12.089041   9.089041         5.0  \n",
       "297                  15.000000  11.000000         3.0  \n",
       "298                  15.500000   5.500000         4.0  \n",
       "\n",
       "[258 rows x 7 columns]"
      ]
     },
     "execution_count": 30,
     "metadata": {},
     "output_type": "execute_result"
    }
   ],
   "source": [
    "d_ = data[(data['dist']<12) & (data['dist']>5)].reset_index()\n",
    "d_ = d_[d_['experience']>2]\n",
    "cols = ['index','overall_experience_job','overall_exp_res_prof','overall_exp_res_bg','overall_experience_resume','dist','experience']\n",
    "d_[cols][d_['dist']>-2]"
   ]
  },
  {
   "cell_type": "code",
   "execution_count": 31,
   "id": "4ad057cc",
   "metadata": {},
   "outputs": [
    {
     "data": {
      "text/html": [
       "overall_experience_job: 2.0"
      ],
      "text/plain": [
       "<IPython.core.display.HTML object>"
      ]
     },
     "metadata": {},
     "output_type": "display_data"
    },
    {
     "data": {
      "text/html": [
       "overall_exp_res_prof: 9.0"
      ],
      "text/plain": [
       "<IPython.core.display.HTML object>"
      ]
     },
     "metadata": {},
     "output_type": "display_data"
    },
    {
     "data": {
      "text/html": [
       "overall_exp_res_bg: 9.506849315068493"
      ],
      "text/plain": [
       "<IPython.core.display.HTML object>"
      ]
     },
     "metadata": {},
     "output_type": "display_data"
    },
    {
     "data": {
      "text/html": [
       "overall_experience_resume: 9.253424657534246"
      ],
      "text/plain": [
       "<IPython.core.display.HTML object>"
      ]
     },
     "metadata": {},
     "output_type": "display_data"
    },
    {
     "data": {
      "text/html": [
       "dist: 7.2534246575342465"
      ],
      "text/plain": [
       "<IPython.core.display.HTML object>"
      ]
     },
     "metadata": {},
     "output_type": "display_data"
    },
    {
     "data": {
      "text/html": [
       "experience: 3.0"
      ],
      "text/plain": [
       "<IPython.core.display.HTML object>"
      ]
     },
     "metadata": {},
     "output_type": "display_data"
    },
    {
     "data": {
      "text/html": [
       "<!DOCTYPE html><html><head></head><body><p>Content</p><ul><li>Contribute to the content ideas and create content for various channels and asset types, including evergreen web content and blog posts, email, social posts, infographics/video scripts, ads, presentations, and collateral &ndash; ensuring consistent tone of voice across all channels.</li><li>Assist with developing communication strategies and editorial calendars</li><li>Research and understand applicable subject matter</li><li>Understand audience-specific relevance and messaging nuances; build storylines</li><li>Manage internal review process and coordinate with other team members on the execution</li></ul><p>&nbsp;</p><p>Social Media</p><ul><li>Manage social presence and social editorial calendar for a meaningful social presence; monitor effectiveness of posts to continuously improve engagement</li></ul><p>&nbsp;</p><ul><li>&nbsp;&nbsp;&nbsp;&nbsp;&nbsp;&nbsp;&nbsp;Online Reputation</li></ul><ul><li>Coordinate online reputation management:</li><li>Monitor incoming reviews/post, post responses where needed, funnel issues internally to right person, consolidate monthly report and list of suggestions</li><li>Act as day-to-day liaison for reputation vendor</li></ul><p>&nbsp;</p><p>Paid Media</p><ul><li>Conduct paid media campaigns/SEM either in-house or in conjunction with an agency</li><li>Where an agency is involved, act as day-to-day liaison, coordinate efforts, and ensure timely and accurate completion of agency&rsquo;s deliverables</li><li>Collaborate with other team members on the set-up of campaigns, including landing pages, assets, UTMs, Salesforce/Pardot campaigns, reports &amp; dashboards</li><li>Use testing to continuously improve campaign results</li></ul><p>&nbsp;</p><p>Other Marketing</p><ul><li>Help with inbound lead cleaning and research in Salesforce</li><li>Stay abreast of new methodologies, tools and technologies</li><li>Work with marketing peers and cross-functional teams to</li><li>Support overall integrated campaign strategy and plans, working with the Marketing team to implement key themes and messages</li><li>Conduct A/B tests, share learnings with Marketing team for decisions on how to optimize</li><li>Manage lead source tracking for campaigns using inbound links in coordination with team</li><li>Help out with design-related tasks, execution/deployment of content, and other department/administrative/operational efforts as needed.</li></ul><p>Education/Experience:&nbsp;</p><ul><li>BA</li><li>Minimum of 2-3 years of experience</li><li>Copywriting</li><li>MS Office (Excel/Word/PowerPoint)</li><li>Google Analytics</li><li>SEM tools</li></ul><p>Other Skills:&nbsp;&nbsp;&nbsp;&nbsp;&nbsp;&nbsp;&nbsp;</p><ul><li>Ability to understand complex information (such as insurance regulations), distill difficult subject matter into easy-to-understand content, and to do that from the lens of the customer, with constant focus on why is this relevant, what it means, and how it impacts the customer</li><li>General understanding of content and language on SEO</li><li>Understand the logistics and parameters of conversion tracking to assure proper lead source identification (e.g. UTMs, ideally their Google Analytics implications and Salesforce integration)</li><li>Proven problem-solving aptitude along with critical and data analysis skills</li><li>Self-starter with initiative and the natural inclination to go get answers</li><li>Quick learner who can take on to new challenges easily</li><li>High attention to detail, deadlines and processes</li><li>Works well in team and matrix organization</li><li>Exemplary work ethic and follow-through with results</li></ul><p>&nbsp;</p></body></html>"
      ],
      "text/plain": [
       "<IPython.core.display.HTML object>"
      ]
     },
     "metadata": {},
     "output_type": "display_data"
    },
    {
     "data": {
      "text/html": [
       "\r\n",
       "Bayside, NY 11364\r\n",
       "\r\n",
       "\r\n",
       "\r\n",
       "#readytowork\r\n",
       "\r\n",
       "Work Experience\r\n",
       "\r\n",
       "Typist/Editor\r\n",
       "Vecchione, Vecchione, Connors & Cano LLP - Garden City Park, NY\r\n",
       "January 2019 to Present\r\n",
       "Duties: Editing hearing reports, Transcription, Editing appeals/rebuttals; Fact-checking documents;\r\n",
       "Case \r\n",
       "Law, Billing, etc.\r\n",
       "\r\n",
       "Dance teacher and Receptionist\r\n",
       "Thea's Dance Studio - Bayside, NY\r\n",
       "September 2012 to September 2018\r\n",
       "Duties: Teaching kids of different ages the techniques necessary to dance, receptionist, taking tuition\r\n",
       "payments, administrative/ front desk work, the originator/editor of the studio's website, etc.\r\n",
       "\r\n",
       "On staff Writer\r\n",
       "myEPK Media - Jericho, NY\r\n",
       "January 2018 to March 2018\r\n",
       "Duties: Researching, blogging, marketing, advertising, sales, writing SEO Articles, editing, etc.\r\n",
       "\r\n",
       "Writing Tutor / Editor of Campus Newsletter\r\n",
       "Queensborough Community College - Bayside, NY\r\n",
       "January 2017 to January 2018\r\n",
       "Duties: Helping students improve their writing through editing, proofreading & guiding students in\r\n",
       "the right direction with their writing abilities; E-tutoring and clerical/administrative work; editing/\r\n",
       "proofreading the campus newsletter.\r\n",
       "\r\n",
       "Education\r\n",
       "\r\n",
       "Bachelor's Degree in English in English\r\n",
       "Queens College/ City University of New York - Flushing, NY\r\n",
       "2014 to 2016\r\n",
       "\r\n",
       "Associates Degree in Liberal Arts in Liberal Arts\r\n",
       "Queensborough Community College - Bayside, NY\r\n",
       "2012 to 2014\r\n",
       "\r\n",
       "Diploma\r\n",
       " Benjamin N. Cardozo High School - Bayside, NY\r\n",
       " September 2008 to June 2012\r\n",
       "\r\n",
       " Skills\r\n",
       "\r\n",
       "•  Fact Checking\r\n",
       "•  Blogging\r\n",
       "•  Proofreading\r\n",
       "•  Dancing\r\n",
       "•  WordPress\r\n",
       "•  Proofreading\r\n",
       "•  Fact Checking\r\n",
       "•  Dancing\r\n",
       "•  Copywriting\r\n",
       "•  Blogging\r\n",
       "•  Sales Experience\r\n",
       "•  Transcription\r\n",
       "•  Marketing\r\n",
       "•  Advertising"
      ],
      "text/plain": [
       "<IPython.core.display.HTML object>"
      ]
     },
     "metadata": {},
     "output_type": "display_data"
    }
   ],
   "source": [
    "n=10\n",
    "cols = ['index','overall_experience_job','overall_exp_res_prof','overall_exp_res_bg','overall_experience_resume','dist','experience']\n",
    "for c in cols[1:]:\n",
    "    display(HTML(f'{c}: {data[c][n]}'))\n",
    "display(HTML(data['job_description'][n]))\n",
    "display(HTML(data['resume'][n]))"
   ]
  },
  {
   "cell_type": "markdown",
   "id": "ff476e9c",
   "metadata": {},
   "source": [
    "distribution of SMS's scores and oyr scoring as the distance increasing toward positive matcjes also increaing. This says SME's are not penelizing overqualified candidates."
   ]
  },
  {
   "cell_type": "code",
   "execution_count": 36,
   "id": "d9d8514c",
   "metadata": {},
   "outputs": [
    {
     "data": {
      "image/png": "[encoded data removed]",
      "text/plain": [
       "<Figure size 432x288 with 1 Axes>"
      ]
     },
     "metadata": {
      "needs_background": "light"
     },
     "output_type": "display_data"
    }
   ],
   "source": [
    "from itertools import tee\n",
    "def pairwise(iterable):\n",
    "    \"s -> (s0,s1), (s1,s2), (s2, s3), ...\"\n",
    "    a, b = tee(iterable)\n",
    "    next(b, None)\n",
    "    return zip(a, b)\n",
    "bins = np.linspace(-5, 25, 20)\n",
    "colors = []\n",
    "c= ['b','g','y','r','o']\n",
    "for b1,b2 in pairwise(bins):\n",
    "    colors.append(data['experience'][(data['dist']>=b1) & (data['dist']<b2)].mean())\n",
    "plt.plot(bins[:-1], colors);\n"
   ]
  },
  {
   "cell_type": "markdown",
   "id": "6949e84b",
   "metadata": {},
   "source": [
    "# To analyse the SME's scoring when resume has less experince than the job."
   ]
  },
  {
   "cell_type": "code",
   "execution_count": 40,
   "id": "31da712e",
   "metadata": {
    "scrolled": true
   },
   "outputs": [
    {
     "data": {
      "text/html": [
       "<div>\n",
       "<style scoped>\n",
       "    .dataframe tbody tr th:only-of-type {\n",
       "        vertical-align: middle;\n",
       "    }\n",
       "\n",
       "    .dataframe tbody tr th {\n",
       "        vertical-align: top;\n",
       "    }\n",
       "\n",
       "    .dataframe thead th {\n",
       "        text-align: right;\n",
       "    }\n",
       "</style>\n",
       "<table border=\"1\" class=\"dataframe\">\n",
       "  <thead>\n",
       "    <tr style=\"text-align: right;\">\n",
       "      <th></th>\n",
       "      <th>index</th>\n",
       "      <th>overall_experience_job</th>\n",
       "      <th>overall_exp_res_prof</th>\n",
       "      <th>overall_exp_res_bg</th>\n",
       "      <th>overall_experience_resume</th>\n",
       "      <th>dist</th>\n",
       "      <th>experience</th>\n",
       "    </tr>\n",
       "  </thead>\n",
       "  <tbody>\n",
       "    <tr>\n",
       "      <th>1</th>\n",
       "      <td>12</td>\n",
       "      <td>15.0</td>\n",
       "      <td>9.0</td>\n",
       "      <td>19.180822</td>\n",
       "      <td>14.090411</td>\n",
       "      <td>-0.909589</td>\n",
       "      <td>4.0</td>\n",
       "    </tr>\n",
       "    <tr>\n",
       "      <th>4</th>\n",
       "      <td>103</td>\n",
       "      <td>10.0</td>\n",
       "      <td>7.0</td>\n",
       "      <td>7.758904</td>\n",
       "      <td>7.379452</td>\n",
       "      <td>-2.620548</td>\n",
       "      <td>5.0</td>\n",
       "    </tr>\n",
       "    <tr>\n",
       "      <th>8</th>\n",
       "      <td>165</td>\n",
       "      <td>12.0</td>\n",
       "      <td>9.0</td>\n",
       "      <td>10.010959</td>\n",
       "      <td>9.505479</td>\n",
       "      <td>-2.494521</td>\n",
       "      <td>5.0</td>\n",
       "    </tr>\n",
       "    <tr>\n",
       "      <th>10</th>\n",
       "      <td>218</td>\n",
       "      <td>10.0</td>\n",
       "      <td>7.0</td>\n",
       "      <td>8.424658</td>\n",
       "      <td>7.712329</td>\n",
       "      <td>-2.287671</td>\n",
       "      <td>4.0</td>\n",
       "    </tr>\n",
       "    <tr>\n",
       "      <th>12</th>\n",
       "      <td>238</td>\n",
       "      <td>10.0</td>\n",
       "      <td>8.0</td>\n",
       "      <td>10.342466</td>\n",
       "      <td>9.171233</td>\n",
       "      <td>-0.828767</td>\n",
       "      <td>5.0</td>\n",
       "    </tr>\n",
       "    <tr>\n",
       "      <th>14</th>\n",
       "      <td>278</td>\n",
       "      <td>8.0</td>\n",
       "      <td>9.0</td>\n",
       "      <td>3.917808</td>\n",
       "      <td>6.458904</td>\n",
       "      <td>-1.541096</td>\n",
       "      <td>5.0</td>\n",
       "    </tr>\n",
       "    <tr>\n",
       "      <th>18</th>\n",
       "      <td>377</td>\n",
       "      <td>9.0</td>\n",
       "      <td>6.0</td>\n",
       "      <td>9.506849</td>\n",
       "      <td>7.753425</td>\n",
       "      <td>-1.246575</td>\n",
       "      <td>5.0</td>\n",
       "    </tr>\n",
       "    <tr>\n",
       "      <th>20</th>\n",
       "      <td>405</td>\n",
       "      <td>10.0</td>\n",
       "      <td>7.0</td>\n",
       "      <td>9.424658</td>\n",
       "      <td>8.212329</td>\n",
       "      <td>-1.787671</td>\n",
       "      <td>4.0</td>\n",
       "    </tr>\n",
       "    <tr>\n",
       "      <th>24</th>\n",
       "      <td>452</td>\n",
       "      <td>10.0</td>\n",
       "      <td>8.0</td>\n",
       "      <td>9.846575</td>\n",
       "      <td>8.923288</td>\n",
       "      <td>-1.076712</td>\n",
       "      <td>4.0</td>\n",
       "    </tr>\n",
       "    <tr>\n",
       "      <th>25</th>\n",
       "      <td>464</td>\n",
       "      <td>4.0</td>\n",
       "      <td>2.0</td>\n",
       "      <td>5.172603</td>\n",
       "      <td>3.586301</td>\n",
       "      <td>-0.413699</td>\n",
       "      <td>5.0</td>\n",
       "    </tr>\n",
       "    <tr>\n",
       "      <th>26</th>\n",
       "      <td>494</td>\n",
       "      <td>5.0</td>\n",
       "      <td>3.0</td>\n",
       "      <td>0.917808</td>\n",
       "      <td>1.958904</td>\n",
       "      <td>-3.041096</td>\n",
       "      <td>5.0</td>\n",
       "    </tr>\n",
       "    <tr>\n",
       "      <th>27</th>\n",
       "      <td>505</td>\n",
       "      <td>10.0</td>\n",
       "      <td>8.0</td>\n",
       "      <td>11.013699</td>\n",
       "      <td>9.506849</td>\n",
       "      <td>-0.493151</td>\n",
       "      <td>4.0</td>\n",
       "    </tr>\n",
       "    <tr>\n",
       "      <th>39</th>\n",
       "      <td>646</td>\n",
       "      <td>4.0</td>\n",
       "      <td>1.0</td>\n",
       "      <td>5.421918</td>\n",
       "      <td>3.210959</td>\n",
       "      <td>-0.789041</td>\n",
       "      <td>4.0</td>\n",
       "    </tr>\n",
       "    <tr>\n",
       "      <th>40</th>\n",
       "      <td>654</td>\n",
       "      <td>12.0</td>\n",
       "      <td>6.0</td>\n",
       "      <td>9.838356</td>\n",
       "      <td>7.919178</td>\n",
       "      <td>-4.080822</td>\n",
       "      <td>4.0</td>\n",
       "    </tr>\n",
       "    <tr>\n",
       "      <th>41</th>\n",
       "      <td>656</td>\n",
       "      <td>5.0</td>\n",
       "      <td>1.0</td>\n",
       "      <td>3.756164</td>\n",
       "      <td>2.378082</td>\n",
       "      <td>-2.621918</td>\n",
       "      <td>4.0</td>\n",
       "    </tr>\n",
       "    <tr>\n",
       "      <th>43</th>\n",
       "      <td>666</td>\n",
       "      <td>10.0</td>\n",
       "      <td>7.0</td>\n",
       "      <td>8.339726</td>\n",
       "      <td>7.669863</td>\n",
       "      <td>-2.330137</td>\n",
       "      <td>4.0</td>\n",
       "    </tr>\n",
       "    <tr>\n",
       "      <th>44</th>\n",
       "      <td>677</td>\n",
       "      <td>8.0</td>\n",
       "      <td>5.0</td>\n",
       "      <td>8.591781</td>\n",
       "      <td>6.795890</td>\n",
       "      <td>-1.204110</td>\n",
       "      <td>4.0</td>\n",
       "    </tr>\n",
       "    <tr>\n",
       "      <th>49</th>\n",
       "      <td>708</td>\n",
       "      <td>5.0</td>\n",
       "      <td>3.0</td>\n",
       "      <td>3.087671</td>\n",
       "      <td>3.043836</td>\n",
       "      <td>-1.956164</td>\n",
       "      <td>4.0</td>\n",
       "    </tr>\n",
       "    <tr>\n",
       "      <th>54</th>\n",
       "      <td>800</td>\n",
       "      <td>8.0</td>\n",
       "      <td>6.0</td>\n",
       "      <td>7.843836</td>\n",
       "      <td>6.921918</td>\n",
       "      <td>-1.078082</td>\n",
       "      <td>4.0</td>\n",
       "    </tr>\n",
       "    <tr>\n",
       "      <th>56</th>\n",
       "      <td>829</td>\n",
       "      <td>10.0</td>\n",
       "      <td>8.0</td>\n",
       "      <td>8.676712</td>\n",
       "      <td>8.338356</td>\n",
       "      <td>-1.661644</td>\n",
       "      <td>4.0</td>\n",
       "    </tr>\n",
       "    <tr>\n",
       "      <th>58</th>\n",
       "      <td>848</td>\n",
       "      <td>12.0</td>\n",
       "      <td>8.0</td>\n",
       "      <td>10.175342</td>\n",
       "      <td>9.087671</td>\n",
       "      <td>-2.912329</td>\n",
       "      <td>4.0</td>\n",
       "    </tr>\n",
       "    <tr>\n",
       "      <th>59</th>\n",
       "      <td>858</td>\n",
       "      <td>5.0</td>\n",
       "      <td>3.0</td>\n",
       "      <td>4.504110</td>\n",
       "      <td>3.752055</td>\n",
       "      <td>-1.247945</td>\n",
       "      <td>4.0</td>\n",
       "    </tr>\n",
       "    <tr>\n",
       "      <th>61</th>\n",
       "      <td>952</td>\n",
       "      <td>3.0</td>\n",
       "      <td>1.0</td>\n",
       "      <td>1.002740</td>\n",
       "      <td>1.001370</td>\n",
       "      <td>-1.998630</td>\n",
       "      <td>4.0</td>\n",
       "    </tr>\n",
       "    <tr>\n",
       "      <th>63</th>\n",
       "      <td>982</td>\n",
       "      <td>7.0</td>\n",
       "      <td>5.0</td>\n",
       "      <td>6.339726</td>\n",
       "      <td>5.669863</td>\n",
       "      <td>-1.330137</td>\n",
       "      <td>5.0</td>\n",
       "    </tr>\n",
       "    <tr>\n",
       "      <th>66</th>\n",
       "      <td>1038</td>\n",
       "      <td>10.0</td>\n",
       "      <td>7.0</td>\n",
       "      <td>9.923288</td>\n",
       "      <td>8.461644</td>\n",
       "      <td>-1.538356</td>\n",
       "      <td>5.0</td>\n",
       "    </tr>\n",
       "    <tr>\n",
       "      <th>67</th>\n",
       "      <td>1047</td>\n",
       "      <td>10.0</td>\n",
       "      <td>9.0</td>\n",
       "      <td>9.000000</td>\n",
       "      <td>9.000000</td>\n",
       "      <td>-1.000000</td>\n",
       "      <td>5.0</td>\n",
       "    </tr>\n",
       "    <tr>\n",
       "      <th>69</th>\n",
       "      <td>1063</td>\n",
       "      <td>8.0</td>\n",
       "      <td>8.0</td>\n",
       "      <td>5.002740</td>\n",
       "      <td>6.501370</td>\n",
       "      <td>-1.498630</td>\n",
       "      <td>4.0</td>\n",
       "    </tr>\n",
       "    <tr>\n",
       "      <th>71</th>\n",
       "      <td>1092</td>\n",
       "      <td>15.0</td>\n",
       "      <td>9.0</td>\n",
       "      <td>17.764384</td>\n",
       "      <td>13.382192</td>\n",
       "      <td>-1.617808</td>\n",
       "      <td>4.0</td>\n",
       "    </tr>\n",
       "    <tr>\n",
       "      <th>72</th>\n",
       "      <td>1094</td>\n",
       "      <td>10.0</td>\n",
       "      <td>9.0</td>\n",
       "      <td>10.509589</td>\n",
       "      <td>9.754795</td>\n",
       "      <td>-0.245205</td>\n",
       "      <td>5.0</td>\n",
       "    </tr>\n",
       "    <tr>\n",
       "      <th>74</th>\n",
       "      <td>1127</td>\n",
       "      <td>10.0</td>\n",
       "      <td>7.0</td>\n",
       "      <td>10.841096</td>\n",
       "      <td>8.920548</td>\n",
       "      <td>-1.079452</td>\n",
       "      <td>4.0</td>\n",
       "    </tr>\n",
       "    <tr>\n",
       "      <th>79</th>\n",
       "      <td>1220</td>\n",
       "      <td>15.0</td>\n",
       "      <td>7.0</td>\n",
       "      <td>16.849315</td>\n",
       "      <td>11.924658</td>\n",
       "      <td>-3.075342</td>\n",
       "      <td>4.0</td>\n",
       "    </tr>\n",
       "    <tr>\n",
       "      <th>80</th>\n",
       "      <td>1271</td>\n",
       "      <td>14.0</td>\n",
       "      <td>7.0</td>\n",
       "      <td>15.178082</td>\n",
       "      <td>11.089041</td>\n",
       "      <td>-2.910959</td>\n",
       "      <td>4.0</td>\n",
       "    </tr>\n",
       "    <tr>\n",
       "      <th>81</th>\n",
       "      <td>1293</td>\n",
       "      <td>7.0</td>\n",
       "      <td>5.0</td>\n",
       "      <td>7.424658</td>\n",
       "      <td>6.212329</td>\n",
       "      <td>-0.787671</td>\n",
       "      <td>5.0</td>\n",
       "    </tr>\n",
       "    <tr>\n",
       "      <th>82</th>\n",
       "      <td>1295</td>\n",
       "      <td>12.0</td>\n",
       "      <td>9.0</td>\n",
       "      <td>13.846575</td>\n",
       "      <td>11.423288</td>\n",
       "      <td>-0.576712</td>\n",
       "      <td>5.0</td>\n",
       "    </tr>\n",
       "    <tr>\n",
       "      <th>83</th>\n",
       "      <td>1306</td>\n",
       "      <td>15.0</td>\n",
       "      <td>7.0</td>\n",
       "      <td>16.682192</td>\n",
       "      <td>11.841096</td>\n",
       "      <td>-3.158904</td>\n",
       "      <td>4.0</td>\n",
       "    </tr>\n",
       "    <tr>\n",
       "      <th>84</th>\n",
       "      <td>1311</td>\n",
       "      <td>10.0</td>\n",
       "      <td>6.0</td>\n",
       "      <td>7.920548</td>\n",
       "      <td>6.960274</td>\n",
       "      <td>-3.039726</td>\n",
       "      <td>5.0</td>\n",
       "    </tr>\n",
       "    <tr>\n",
       "      <th>89</th>\n",
       "      <td>1361</td>\n",
       "      <td>5.0</td>\n",
       "      <td>4.0</td>\n",
       "      <td>5.756164</td>\n",
       "      <td>4.878082</td>\n",
       "      <td>-0.121918</td>\n",
       "      <td>4.0</td>\n",
       "    </tr>\n",
       "  </tbody>\n",
       "</table>\n",
       "</div>"
      ],
      "text/plain": [
       "    index  overall_experience_job  overall_exp_res_prof  overall_exp_res_bg  \\\n",
       "1      12                    15.0                   9.0           19.180822   \n",
       "4     103                    10.0                   7.0            7.758904   \n",
       "8     165                    12.0                   9.0           10.010959   \n",
       "10    218                    10.0                   7.0            8.424658   \n",
       "12    238                    10.0                   8.0           10.342466   \n",
       "14    278                     8.0                   9.0            3.917808   \n",
       "18    377                     9.0                   6.0            9.506849   \n",
       "20    405                    10.0                   7.0            9.424658   \n",
       "24    452                    10.0                   8.0            9.846575   \n",
       "25    464                     4.0                   2.0            5.172603   \n",
       "26    494                     5.0                   3.0            0.917808   \n",
       "27    505                    10.0                   8.0           11.013699   \n",
       "39    646                     4.0                   1.0            5.421918   \n",
       "40    654                    12.0                   6.0            9.838356   \n",
       "41    656                     5.0                   1.0            3.756164   \n",
       "43    666                    10.0                   7.0            8.339726   \n",
       "44    677                     8.0                   5.0            8.591781   \n",
       "49    708                     5.0                   3.0            3.087671   \n",
       "54    800                     8.0                   6.0            7.843836   \n",
       "56    829                    10.0                   8.0            8.676712   \n",
       "58    848                    12.0                   8.0           10.175342   \n",
       "59    858                     5.0                   3.0            4.504110   \n",
       "61    952                     3.0                   1.0            1.002740   \n",
       "63    982                     7.0                   5.0            6.339726   \n",
       "66   1038                    10.0                   7.0            9.923288   \n",
       "67   1047                    10.0                   9.0            9.000000   \n",
       "69   1063                     8.0                   8.0            5.002740   \n",
       "71   1092                    15.0                   9.0           17.764384   \n",
       "72   1094                    10.0                   9.0           10.509589   \n",
       "74   1127                    10.0                   7.0           10.841096   \n",
       "79   1220                    15.0                   7.0           16.849315   \n",
       "80   1271                    14.0                   7.0           15.178082   \n",
       "81   1293                     7.0                   5.0            7.424658   \n",
       "82   1295                    12.0                   9.0           13.846575   \n",
       "83   1306                    15.0                   7.0           16.682192   \n",
       "84   1311                    10.0                   6.0            7.920548   \n",
       "89   1361                     5.0                   4.0            5.756164   \n",
       "\n",
       "    overall_experience_resume      dist  experience  \n",
       "1                   14.090411 -0.909589         4.0  \n",
       "4                    7.379452 -2.620548         5.0  \n",
       "8                    9.505479 -2.494521         5.0  \n",
       "10                   7.712329 -2.287671         4.0  \n",
       "12                   9.171233 -0.828767         5.0  \n",
       "14                   6.458904 -1.541096         5.0  \n",
       "18                   7.753425 -1.246575         5.0  \n",
       "20                   8.212329 -1.787671         4.0  \n",
       "24                   8.923288 -1.076712         4.0  \n",
       "25                   3.586301 -0.413699         5.0  \n",
       "26                   1.958904 -3.041096         5.0  \n",
       "27                   9.506849 -0.493151         4.0  \n",
       "39                   3.210959 -0.789041         4.0  \n",
       "40                   7.919178 -4.080822         4.0  \n",
       "41                   2.378082 -2.621918         4.0  \n",
       "43                   7.669863 -2.330137         4.0  \n",
       "44                   6.795890 -1.204110         4.0  \n",
       "49                   3.043836 -1.956164         4.0  \n",
       "54                   6.921918 -1.078082         4.0  \n",
       "56                   8.338356 -1.661644         4.0  \n",
       "58                   9.087671 -2.912329         4.0  \n",
       "59                   3.752055 -1.247945         4.0  \n",
       "61                   1.001370 -1.998630         4.0  \n",
       "63                   5.669863 -1.330137         5.0  \n",
       "66                   8.461644 -1.538356         5.0  \n",
       "67                   9.000000 -1.000000         5.0  \n",
       "69                   6.501370 -1.498630         4.0  \n",
       "71                  13.382192 -1.617808         4.0  \n",
       "72                   9.754795 -0.245205         5.0  \n",
       "74                   8.920548 -1.079452         4.0  \n",
       "79                  11.924658 -3.075342         4.0  \n",
       "80                  11.089041 -2.910959         4.0  \n",
       "81                   6.212329 -0.787671         5.0  \n",
       "82                  11.423288 -0.576712         5.0  \n",
       "83                  11.841096 -3.158904         4.0  \n",
       "84                   6.960274 -3.039726         5.0  \n",
       "89                   4.878082 -0.121918         4.0  "
      ]
     },
     "execution_count": 40,
     "metadata": {},
     "output_type": "execute_result"
    }
   ],
   "source": [
    "d_ = data[(data['dist']<0) & (data['dist']>-5)].reset_index()\n",
    "d_ = d_[d_['experience']>3]\n",
    "cols = ['index','overall_experience_job','overall_exp_res_prof','overall_exp_res_bg','overall_experience_resume','dist','experience']\n",
    "d_[cols]"
   ]
  },
  {
   "cell_type": "code",
   "execution_count": 41,
   "id": "ad7bfb03",
   "metadata": {},
   "outputs": [
    {
     "data": {
      "text/html": [
       "overall_experience_job: 15.0"
      ],
      "text/plain": [
       "<IPython.core.display.HTML object>"
      ]
     },
     "metadata": {},
     "output_type": "display_data"
    },
    {
     "data": {
      "text/html": [
       "overall_exp_res_prof: 9.0"
      ],
      "text/plain": [
       "<IPython.core.display.HTML object>"
      ]
     },
     "metadata": {},
     "output_type": "display_data"
    },
    {
     "data": {
      "text/html": [
       "overall_exp_res_bg: 19.18082191780822"
      ],
      "text/plain": [
       "<IPython.core.display.HTML object>"
      ]
     },
     "metadata": {},
     "output_type": "display_data"
    },
    {
     "data": {
      "text/html": [
       "overall_experience_resume: 14.09041095890411"
      ],
      "text/plain": [
       "<IPython.core.display.HTML object>"
      ]
     },
     "metadata": {},
     "output_type": "display_data"
    },
    {
     "data": {
      "text/html": [
       "dist: -0.9095890410958898"
      ],
      "text/plain": [
       "<IPython.core.display.HTML object>"
      ]
     },
     "metadata": {},
     "output_type": "display_data"
    },
    {
     "data": {
      "text/html": [
       "experience: 4.0"
      ],
      "text/plain": [
       "<IPython.core.display.HTML object>"
      ]
     },
     "metadata": {},
     "output_type": "display_data"
    },
    {
     "data": {
      "text/html": [
       "<!DOCTYPE html><html><head></head><body><p><strong>Director of QA and Validation - Medical Devices</strong></p><p><strong>Northern Chicago</strong></p><p><strong>Full time, Direct hire</strong></p><p><strong>Contact Mary Nugent at </strong></p><p>&nbsp;</p><p><strong>Required Skills:</strong></p><ul><li class=\"x\">Bachelor&rsquo;s Degree in Science with at least 15 years&rsquo; experience in medical device industry, working within quality system framework for software design controls and validation.</li><li class=\"x\">Knowledge of cGMP (FDA and HC QSR) and ISO regulations.</li><li class=\"x\">English</li><li class=\"x\">Microsoft Word, Outlook, Excel, PowerPoint, Access</li><li class=\"x\">In depth understanding of Design Controls and Validation requirements in support of Software products. Strong communication and interpersonal skills. Ability to obtain cooperation, develop a consensus and lead or influence cross-functional teams.</li><li class=\"x\">In conjunction with Corporate staff, develop and formulate final decisions on key regulatory and compliance issues affecting Sysmex products, services and customer support issues. Manage departmental budget and objectives to achieve business goals and project timelines.</li><li class=\"x\">Must be able to assimilate relevant technical, regulatory and compliance information and formulate suitable strategies and tactics to satisfactorily resolve complex problems.</li><li class=\"x\">Strong practical knowledge of compliance and regulatory environments. Knowledge of hematology products and marketplace preferred but not required.</li><li class=\"x\">10% &ndash; 15% travel</li></ul><p class=\"x\">&nbsp;</p><p class=\"x\"><strong>Contact:</strong></p><p class=\"x\">Mary Nugent</p><p class=\"x\">Senior Recruiting Consultant</p><p class=\"x\">Forbes Technical Consulting</p><p class=\"x\">Chicago, IL</p><p class=\"x\"></p><p>&nbsp;</p></body></html>"
      ],
      "text/plain": [
       "<IPython.core.display.HTML object>"
      ]
     },
     "metadata": {},
     "output_type": "display_data"
    },
    {
     "data": {
      "text/html": [
       "﻿ Alexandros \r\n",
       "\r\n",
       "EXECUTIVE SUMMARY\r\n",
       "\r\n",
       "My goal is to lead individuals to create and maintain best in class quality and / or validation programs.  These programs are the cornerstone of any Quality Management System. \r\n",
       "\r\n",
       "PROFESSIONAL EXPERIENCE\r\n",
       "\r\n",
       "Azzur Group – Chicago Office\t\t\t\t\t8/20 to 1/21\r\n",
       "Senior Consultant\r\n",
       "Ø Author / Execute Validation Master Plan, Protocols, Reports, SOP’s for laboratory and manufacturing equipment.\r\n",
       "Ø Assist in sourcing business for the newly established Chicago office\r\n",
       "\r\n",
       "JUUL LABS – Deerfield, IL\t\t\t\t\t6/19 to 7/20\r\n",
       "Validation Manager\r\n",
       "Ø Author / Execute Validation Master Plan, Protocols, Reports, edited and approved SOPs site-wide protocols and provided primary PMTA validation support.\r\n",
       "Ø Managerial -  hire consultants and permanent of 3 Senior Validation Quality Engineers and 6 Consultant Validation Engineers.  \r\n",
       "Ø Responsible for multi site greenfield startups of various filling and packaging equipment.\r\n",
       "\r\n",
       "FLEX – Buffalo Grove, IL\r\n",
       "\r\n",
       "Sterilization Laboratory Manager                                                                                                                     3/18 to 6/19\r\n",
       "Ø Author Validation Master Plans, hire consultants and permanent employees, ensure timelines and deliverables were met  \r\n",
       "Ø Authored, edited and approved SOPs site-wide protocols and provided primary FDA, MHRA and ISO agency interface\r\n",
       "Ø Strong knowledge of sterilization processes such as EO, ETO, E-Beam and Gamma\r\n",
       "Ø Responsible for oversight of clean room specification to ISO 8 and ISO 7, validation of cleanroom environments.\r\n",
       "Ø Responsible for establishing and monitoring conformance to sterilization and endotoxin specification for medical devices.\r\n",
       "\r\n",
       "Sterilization Engineer                                                                                                                                    04/16 to 3/18\r\n",
       "Ø Author Validation Master Plans, hire consultants and permanent employees, ensure timelines and deliverables were met  \r\n",
       "Ø Authored, edited and approved SOPs site-wide protocols and provided primary FDA, MHRA and ISO agency interface\r\n",
       "Ø Strong knowledge of sterilization processes such as EO, ETO, E-Beam and Gamma\r\n",
       "Ø Responsible for oversight of clean room specification to ISO 8 and ISO 7, validation of environment.\r\n",
       "Ø Responsible for establishing and monitoring conformance to sterilization and endotoxin specification for medical devices.\r\n",
       "MERZ NORTH AMERICA – Franksville, WI\t\t\t\t\t10/15 – 04/16\r\n",
       "Validation Manager Consultant\t\t\t\t\t\t\t\t\t\r\n",
       "Ø Established a best in class Validation Program for Merz Aesthetics Wisconsin operations\r\n",
       "Ø Authored Validation Master Plans, hired consultants and permanent employees, ensured timelines and deliverables were met  \r\n",
       "Ø Authored, edited  and approved SOPs cite-wide protocols and provided primary FDA, MHRA and ISO agency interface\r\n",
       "Ø Strong knowledge of sterilization processes such as EO, ETO, E-Beam and Gamma\r\n",
       "\r\n",
       "FRESENIUS KABI – Melrose Park, IL\t\t\t\t\t02/15 – 10/15\r\n",
       "Validation Manager\t\t\t\t\t\t\t\t\t\t\r\n",
       "Ø Maintained a best in class equipment Validation Program for operations\r\n",
       "Ø Authored Validation Master Plans, hired consultants and permanent employees, ensured timelines and deliverables were met for new projects and revalidation schedules\r\n",
       "Ø  Authored, edited and approved SOPs cite-wide protocols and provided primary FDA, MHRA and ISO agency interface\r\n",
       "Ø Provided daily support of manufacturing change control process  \r\n",
       "MERZ NORTH AMERICA – Franksville, WI\t\t\t\t\t10/12 – 02/15\r\n",
       "Validation Manager\t\t\t\t\t\t\t\t\t\t\r\n",
       "Ø Establish a best in class Validation Program for Merz Aesthetics Wisconsin operations\r\n",
       "Ø Authored Validation Master Plans, hired consultants and permanent employees, ensured timelines and deliverables were met  \r\n",
       "Ø Authored, edited  and approved SOPs cite-wide protocols and provided primary FDA, MHRA and ISO agency interface\r\n",
       "Ø Applied sterilization techniques such as EO, ETO, E-Beam and Gamma\r\n",
       "\r\n",
       "ABBOTT LABORATORIES / HOSPIRA – Clayton, North Carolina\t\t\t\t\t03/11 – 10/12\t  \t\t\t\r\n",
       "Biological Quality Manager\r\n",
       "Ø Provided supervision directly to two exempt level supervisors, three exempt investigators and ten non-exempts (indirectly)\r\n",
       "Ø Responsible for qualification of technicians responsible for laboratory equipment and system validation, assigning tasks for all microbiology laboratories and 1337M budget.  Total of 15 reporting individuals\r\n",
       "Ø Quality approver Standard Operating Procedures and validation protocols (DQ/IQ/OQ/PQ) for Laboratory systems, test methods and equipment\r\n",
       "Ø Maintained and supported the Environmental Monitoring program, maintained product cycle time for BQ samples \r\n",
       "Ø Extensive agency direct interface during audit activity\r\n",
       "Validation Manager / Section Manager \t\t\t\t\t\t\t\t04/07- 03/11\r\n",
       "Ø Provided supervision to five validation technicians and 12 contractors.  \r\n",
       "Ø Responsible for coaching and qualification of technicians and contractors.  Total of 17 reporting individuals  \r\n",
       "Ø Primary interface for third party and regulatory agency for four audits including prior approval inspection audit for Propofol (successful approval), additional audit activity through direct interface and provision of documents\r\n",
       "Ø Maintained FDA commitments for remediation activities, responsible for adhering to Validation Master Plans \r\n",
       "Ø Approved Standard Operating Procedures, calibration documentation and validation protocols (DQ/IQ/OQ/PQ) for computerized systems, Laboratory systems, test methods, process validations and equipment\r\n",
       "\r\n",
       "ABBOTT LABORATORIES / Hospira – North Chicago, IL\t         \t\t\t03/05 – 04/07\r\n",
       "Quality Systems Senior Group Leader\t\t\t\t\t\t\r\n",
       "Ø Provided supervision to three exempt supervisors and one exempt level programmer directly\r\n",
       "Ø Responsible for qualification of technicians, assisting with tasks for codes laboratories, and training on computerized system validation.  Total of 21 reporting individuals.\r\n",
       "Ø Approved and generated drug code Certificates of Analysis for third party and internal departments to ensure timely execution of the manufacturing schedule\r\n",
       "Ø Maintained and supported Thermolabs (stability), Millennium, Environmental Monitoring LIMS, Product Quality LIMS and directed implementation of Supplier Quality LIMS\r\n",
       "Ø Supported agency audit activity through direct interface and provision of documents\r\n",
       "Ø Quality approver Standard Operating Procedures, calibration documentation and validation protocols (DQ/IQ/OQ/PQ) for computerized systems, Laboratory systems, test methods, process validations and equipment\r\n",
       "Biological Quality Group Leader\t\t\t\t\t\t       \t\t\t08/03 – 03/05\r\n",
       "Ø Provided supervision to one exempt level programmer directly and 13 non-exempts\r\n",
       "Ø Responsible for qualification of technicians responsible for laboratory equipment, system validation, assigning tasks for microchallenge laboratory and training on computerized system validation.  Total of 14 reporting individuals\r\n",
       "Ø Quality approver Standard Operating Procedures and validation protocols (DQ/IQ/OQ/PQ) for computerized systems, Laboratory systems, test methods and equipment\r\n",
       "Ø Maintained and supported Environmental Monitoring LIMS, assisted with implementation of Product Quality LIMS  \r\n",
       "Ø Supported agency audit activity through direct interface and provision of documents.\r\n",
       "\r\n",
       "ABBOTT LABORATORIES – North Chicago, IL\t\t\t\t\t11/01 – 08/03\r\n",
       "HOSPITAL PRODUCT DIVISION\r\n",
       "Validation Engineer\t\t\t\t\t\r\n",
       "Ø Authored and executed validation protocols (DQ/IQ/OQ/PQ) for computerized systems, HVAC systems and equipment\r\n",
       "Ø Assisted Abbott Austin plant with agency remediation efforts\r\n",
       "Ø Supervised Validation Engineering Technician, responsible for assigning tasks, training on computerized system validation, administrative tasks\r\n",
       "\r\n",
       "\r\n",
       "EDUCATION\r\n",
       "Bachelor of Science – May 1998\r\n",
       "University of Illinois at Urbana-Champaign\r\n",
       "Major: Microbiology\r\n",
       "Minor: Chemistry\r\n",
       "Minor: Comparative Literature\r\n",
       "\r\n",
       "\r\n",
       "\r\n",
       "AWARDS and RECOGNITION \r\n",
       "Abbott HPD President’s award for commission of Hull 1, lyophilizer (2003)\r\n",
       "3-time Abbott / Hospira North Chicago Staff Award Recipient (8/04, 8/05, 11/05)\r\n",
       "Parenteral Drug Association Chapter Volunteer Award 4/2006"
      ],
      "text/plain": [
       "<IPython.core.display.HTML object>"
      ]
     },
     "metadata": {},
     "output_type": "display_data"
    }
   ],
   "source": [
    "n=12\n",
    "cols = ['index','overall_experience_job','overall_exp_res_prof','overall_exp_res_bg','overall_experience_resume','dist','experience']\n",
    "for c in cols[1:]:\n",
    "    display(HTML(f'{c}: {data[c][n]}'))\n",
    "display(HTML(data['job_description'][n]))\n",
    "display(HTML(data['resume'][n]))"
   ]
  },
  {
   "cell_type": "markdown",
   "id": "d2ce67a2",
   "metadata": {},
   "source": [
    "Why we have mostly blue and sky blue dots on the left side of the black line?\n",
    "- index 382, incorrect parsing, incorrect mentioned skills experience\n",
    "- index 1076, not a good match\n",
    "\n",
    "\n"
   ]
  },
  {
   "cell_type": "code",
   "execution_count": 51,
   "id": "475941e4",
   "metadata": {},
   "outputs": [
    {
     "data": {
      "text/html": [
       "<div>\n",
       "<style scoped>\n",
       "    .dataframe tbody tr th:only-of-type {\n",
       "        vertical-align: middle;\n",
       "    }\n",
       "\n",
       "    .dataframe tbody tr th {\n",
       "        vertical-align: top;\n",
       "    }\n",
       "\n",
       "    .dataframe thead th {\n",
       "        text-align: right;\n",
       "    }\n",
       "</style>\n",
       "<table border=\"1\" class=\"dataframe\">\n",
       "  <thead>\n",
       "    <tr style=\"text-align: right;\">\n",
       "      <th></th>\n",
       "      <th>index</th>\n",
       "      <th>overall_experience_job</th>\n",
       "      <th>overall_exp_res_prof</th>\n",
       "      <th>overall_exp_res_bg</th>\n",
       "      <th>overall_experience_resume</th>\n",
       "      <th>dist</th>\n",
       "      <th>experience</th>\n",
       "    </tr>\n",
       "  </thead>\n",
       "  <tbody>\n",
       "    <tr>\n",
       "      <th>2</th>\n",
       "      <td>29</td>\n",
       "      <td>7.0</td>\n",
       "      <td>5.0</td>\n",
       "      <td>1.586301</td>\n",
       "      <td>3.293151</td>\n",
       "      <td>-3.706849</td>\n",
       "      <td>2.0</td>\n",
       "    </tr>\n",
       "    <tr>\n",
       "      <th>11</th>\n",
       "      <td>224</td>\n",
       "      <td>5.0</td>\n",
       "      <td>5.0</td>\n",
       "      <td>4.504110</td>\n",
       "      <td>4.752055</td>\n",
       "      <td>-0.247945</td>\n",
       "      <td>2.0</td>\n",
       "    </tr>\n",
       "    <tr>\n",
       "      <th>17</th>\n",
       "      <td>362</td>\n",
       "      <td>10.0</td>\n",
       "      <td>5.0</td>\n",
       "      <td>5.589041</td>\n",
       "      <td>5.294521</td>\n",
       "      <td>-4.705479</td>\n",
       "      <td>2.0</td>\n",
       "    </tr>\n",
       "    <tr>\n",
       "      <th>19</th>\n",
       "      <td>382</td>\n",
       "      <td>5.0</td>\n",
       "      <td>4.0</td>\n",
       "      <td>4.583562</td>\n",
       "      <td>4.291781</td>\n",
       "      <td>-0.708219</td>\n",
       "      <td>1.0</td>\n",
       "    </tr>\n",
       "    <tr>\n",
       "      <th>22</th>\n",
       "      <td>437</td>\n",
       "      <td>8.0</td>\n",
       "      <td>7.0</td>\n",
       "      <td>5.005479</td>\n",
       "      <td>6.002740</td>\n",
       "      <td>-1.997260</td>\n",
       "      <td>2.0</td>\n",
       "    </tr>\n",
       "    <tr>\n",
       "      <th>23</th>\n",
       "      <td>448</td>\n",
       "      <td>8.0</td>\n",
       "      <td>3.0</td>\n",
       "      <td>11.846575</td>\n",
       "      <td>7.423288</td>\n",
       "      <td>-0.576712</td>\n",
       "      <td>1.0</td>\n",
       "    </tr>\n",
       "    <tr>\n",
       "      <th>29</th>\n",
       "      <td>524</td>\n",
       "      <td>8.0</td>\n",
       "      <td>7.0</td>\n",
       "      <td>6.843836</td>\n",
       "      <td>6.921918</td>\n",
       "      <td>-1.078082</td>\n",
       "      <td>2.0</td>\n",
       "    </tr>\n",
       "    <tr>\n",
       "      <th>30</th>\n",
       "      <td>538</td>\n",
       "      <td>3.0</td>\n",
       "      <td>1.0</td>\n",
       "      <td>3.421918</td>\n",
       "      <td>2.210959</td>\n",
       "      <td>-0.789041</td>\n",
       "      <td>2.0</td>\n",
       "    </tr>\n",
       "    <tr>\n",
       "      <th>32</th>\n",
       "      <td>563</td>\n",
       "      <td>6.0</td>\n",
       "      <td>2.0</td>\n",
       "      <td>3.506849</td>\n",
       "      <td>2.753425</td>\n",
       "      <td>-3.246575</td>\n",
       "      <td>1.0</td>\n",
       "    </tr>\n",
       "    <tr>\n",
       "      <th>33</th>\n",
       "      <td>565</td>\n",
       "      <td>5.0</td>\n",
       "      <td>2.0</td>\n",
       "      <td>1.334247</td>\n",
       "      <td>1.667123</td>\n",
       "      <td>-3.332877</td>\n",
       "      <td>2.0</td>\n",
       "    </tr>\n",
       "    <tr>\n",
       "      <th>34</th>\n",
       "      <td>596</td>\n",
       "      <td>10.0</td>\n",
       "      <td>3.0</td>\n",
       "      <td>16.010959</td>\n",
       "      <td>9.505479</td>\n",
       "      <td>-0.494521</td>\n",
       "      <td>2.0</td>\n",
       "    </tr>\n",
       "    <tr>\n",
       "      <th>36</th>\n",
       "      <td>602</td>\n",
       "      <td>8.0</td>\n",
       "      <td>5.0</td>\n",
       "      <td>3.331507</td>\n",
       "      <td>4.165753</td>\n",
       "      <td>-3.834247</td>\n",
       "      <td>2.0</td>\n",
       "    </tr>\n",
       "    <tr>\n",
       "      <th>37</th>\n",
       "      <td>620</td>\n",
       "      <td>5.0</td>\n",
       "      <td>2.0</td>\n",
       "      <td>3.668493</td>\n",
       "      <td>2.834247</td>\n",
       "      <td>-2.165753</td>\n",
       "      <td>1.0</td>\n",
       "    </tr>\n",
       "    <tr>\n",
       "      <th>45</th>\n",
       "      <td>680</td>\n",
       "      <td>5.0</td>\n",
       "      <td>4.0</td>\n",
       "      <td>5.509589</td>\n",
       "      <td>4.754795</td>\n",
       "      <td>-0.245205</td>\n",
       "      <td>2.0</td>\n",
       "    </tr>\n",
       "    <tr>\n",
       "      <th>46</th>\n",
       "      <td>684</td>\n",
       "      <td>4.0</td>\n",
       "      <td>2.0</td>\n",
       "      <td>2.000000</td>\n",
       "      <td>2.000000</td>\n",
       "      <td>-2.000000</td>\n",
       "      <td>2.0</td>\n",
       "    </tr>\n",
       "    <tr>\n",
       "      <th>50</th>\n",
       "      <td>713</td>\n",
       "      <td>10.0</td>\n",
       "      <td>5.0</td>\n",
       "      <td>7.843836</td>\n",
       "      <td>6.421918</td>\n",
       "      <td>-3.578082</td>\n",
       "      <td>1.0</td>\n",
       "    </tr>\n",
       "    <tr>\n",
       "      <th>51</th>\n",
       "      <td>773</td>\n",
       "      <td>3.0</td>\n",
       "      <td>3.0</td>\n",
       "      <td>0.753425</td>\n",
       "      <td>1.876712</td>\n",
       "      <td>-1.123288</td>\n",
       "      <td>2.0</td>\n",
       "    </tr>\n",
       "    <tr>\n",
       "      <th>60</th>\n",
       "      <td>904</td>\n",
       "      <td>5.0</td>\n",
       "      <td>4.0</td>\n",
       "      <td>2.254795</td>\n",
       "      <td>3.127397</td>\n",
       "      <td>-1.872603</td>\n",
       "      <td>2.0</td>\n",
       "    </tr>\n",
       "    <tr>\n",
       "      <th>62</th>\n",
       "      <td>956</td>\n",
       "      <td>6.0</td>\n",
       "      <td>3.0</td>\n",
       "      <td>0.504110</td>\n",
       "      <td>1.752055</td>\n",
       "      <td>-4.247945</td>\n",
       "      <td>2.0</td>\n",
       "    </tr>\n",
       "    <tr>\n",
       "      <th>70</th>\n",
       "      <td>1076</td>\n",
       "      <td>6.0</td>\n",
       "      <td>2.0</td>\n",
       "      <td>3.084932</td>\n",
       "      <td>2.542466</td>\n",
       "      <td>-3.457534</td>\n",
       "      <td>1.0</td>\n",
       "    </tr>\n",
       "    <tr>\n",
       "      <th>76</th>\n",
       "      <td>1154</td>\n",
       "      <td>7.0</td>\n",
       "      <td>7.0</td>\n",
       "      <td>3.000000</td>\n",
       "      <td>5.000000</td>\n",
       "      <td>-2.000000</td>\n",
       "      <td>2.0</td>\n",
       "    </tr>\n",
       "    <tr>\n",
       "      <th>77</th>\n",
       "      <td>1164</td>\n",
       "      <td>8.0</td>\n",
       "      <td>4.0</td>\n",
       "      <td>10.800000</td>\n",
       "      <td>7.400000</td>\n",
       "      <td>-0.600000</td>\n",
       "      <td>2.0</td>\n",
       "    </tr>\n",
       "    <tr>\n",
       "      <th>78</th>\n",
       "      <td>1219</td>\n",
       "      <td>8.0</td>\n",
       "      <td>4.0</td>\n",
       "      <td>3.000000</td>\n",
       "      <td>3.500000</td>\n",
       "      <td>-4.500000</td>\n",
       "      <td>1.0</td>\n",
       "    </tr>\n",
       "    <tr>\n",
       "      <th>85</th>\n",
       "      <td>1312</td>\n",
       "      <td>8.0</td>\n",
       "      <td>1.0</td>\n",
       "      <td>10.161644</td>\n",
       "      <td>5.580822</td>\n",
       "      <td>-2.419178</td>\n",
       "      <td>2.0</td>\n",
       "    </tr>\n",
       "    <tr>\n",
       "      <th>87</th>\n",
       "      <td>1329</td>\n",
       "      <td>5.0</td>\n",
       "      <td>2.0</td>\n",
       "      <td>4.169863</td>\n",
       "      <td>3.084932</td>\n",
       "      <td>-1.915068</td>\n",
       "      <td>2.0</td>\n",
       "    </tr>\n",
       "    <tr>\n",
       "      <th>91</th>\n",
       "      <td>1431</td>\n",
       "      <td>2.0</td>\n",
       "      <td>1.0</td>\n",
       "      <td>2.002740</td>\n",
       "      <td>1.501370</td>\n",
       "      <td>-0.498630</td>\n",
       "      <td>2.0</td>\n",
       "    </tr>\n",
       "  </tbody>\n",
       "</table>\n",
       "</div>"
      ],
      "text/plain": [
       "    index  overall_experience_job  overall_exp_res_prof  overall_exp_res_bg  \\\n",
       "2      29                     7.0                   5.0            1.586301   \n",
       "11    224                     5.0                   5.0            4.504110   \n",
       "17    362                    10.0                   5.0            5.589041   \n",
       "19    382                     5.0                   4.0            4.583562   \n",
       "22    437                     8.0                   7.0            5.005479   \n",
       "23    448                     8.0                   3.0           11.846575   \n",
       "29    524                     8.0                   7.0            6.843836   \n",
       "30    538                     3.0                   1.0            3.421918   \n",
       "32    563                     6.0                   2.0            3.506849   \n",
       "33    565                     5.0                   2.0            1.334247   \n",
       "34    596                    10.0                   3.0           16.010959   \n",
       "36    602                     8.0                   5.0            3.331507   \n",
       "37    620                     5.0                   2.0            3.668493   \n",
       "45    680                     5.0                   4.0            5.509589   \n",
       "46    684                     4.0                   2.0            2.000000   \n",
       "50    713                    10.0                   5.0            7.843836   \n",
       "51    773                     3.0                   3.0            0.753425   \n",
       "60    904                     5.0                   4.0            2.254795   \n",
       "62    956                     6.0                   3.0            0.504110   \n",
       "70   1076                     6.0                   2.0            3.084932   \n",
       "76   1154                     7.0                   7.0            3.000000   \n",
       "77   1164                     8.0                   4.0           10.800000   \n",
       "78   1219                     8.0                   4.0            3.000000   \n",
       "85   1312                     8.0                   1.0           10.161644   \n",
       "87   1329                     5.0                   2.0            4.169863   \n",
       "91   1431                     2.0                   1.0            2.002740   \n",
       "\n",
       "    overall_experience_resume      dist  experience  \n",
       "2                    3.293151 -3.706849         2.0  \n",
       "11                   4.752055 -0.247945         2.0  \n",
       "17                   5.294521 -4.705479         2.0  \n",
       "19                   4.291781 -0.708219         1.0  \n",
       "22                   6.002740 -1.997260         2.0  \n",
       "23                   7.423288 -0.576712         1.0  \n",
       "29                   6.921918 -1.078082         2.0  \n",
       "30                   2.210959 -0.789041         2.0  \n",
       "32                   2.753425 -3.246575         1.0  \n",
       "33                   1.667123 -3.332877         2.0  \n",
       "34                   9.505479 -0.494521         2.0  \n",
       "36                   4.165753 -3.834247         2.0  \n",
       "37                   2.834247 -2.165753         1.0  \n",
       "45                   4.754795 -0.245205         2.0  \n",
       "46                   2.000000 -2.000000         2.0  \n",
       "50                   6.421918 -3.578082         1.0  \n",
       "51                   1.876712 -1.123288         2.0  \n",
       "60                   3.127397 -1.872603         2.0  \n",
       "62                   1.752055 -4.247945         2.0  \n",
       "70                   2.542466 -3.457534         1.0  \n",
       "76                   5.000000 -2.000000         2.0  \n",
       "77                   7.400000 -0.600000         2.0  \n",
       "78                   3.500000 -4.500000         1.0  \n",
       "85                   5.580822 -2.419178         2.0  \n",
       "87                   3.084932 -1.915068         2.0  \n",
       "91                   1.501370 -0.498630         2.0  "
      ]
     },
     "execution_count": 51,
     "metadata": {},
     "output_type": "execute_result"
    }
   ],
   "source": [
    "d_ = data[(data['dist']<0) & (data['dist']>-5)].reset_index()\n",
    "d_ = d_[d_['experience']<3]\n",
    "cols = ['index','overall_experience_job','overall_exp_res_prof','overall_exp_res_bg','overall_experience_resume','dist','experience']\n",
    "d_[cols]"
   ]
  },
  {
   "cell_type": "code",
   "execution_count": 52,
   "id": "429da05c",
   "metadata": {},
   "outputs": [
    {
     "data": {
      "text/html": [
       "overall_experience_job: 8.0"
      ],
      "text/plain": [
       "<IPython.core.display.HTML object>"
      ]
     },
     "metadata": {},
     "output_type": "display_data"
    },
    {
     "data": {
      "text/html": [
       "overall_exp_res_prof: 7.0"
      ],
      "text/plain": [
       "<IPython.core.display.HTML object>"
      ]
     },
     "metadata": {},
     "output_type": "display_data"
    },
    {
     "data": {
      "text/html": [
       "overall_exp_res_bg: 6.843835616438356"
      ],
      "text/plain": [
       "<IPython.core.display.HTML object>"
      ]
     },
     "metadata": {},
     "output_type": "display_data"
    },
    {
     "data": {
      "text/html": [
       "overall_experience_resume: 6.9219178082191775"
      ],
      "text/plain": [
       "<IPython.core.display.HTML object>"
      ]
     },
     "metadata": {},
     "output_type": "display_data"
    },
    {
     "data": {
      "text/html": [
       "dist: -1.0780821917808225"
      ],
      "text/plain": [
       "<IPython.core.display.HTML object>"
      ]
     },
     "metadata": {},
     "output_type": "display_data"
    },
    {
     "data": {
      "text/html": [
       "experience: 2.0"
      ],
      "text/plain": [
       "<IPython.core.display.HTML object>"
      ]
     },
     "metadata": {},
     "output_type": "display_data"
    },
    {
     "data": {
      "text/html": [
       "<!DOCTYPE html><html><head></head><body><p><strong>Title: Project Manager / Project </strong><strong>Coordinator</strong></p><p><strong>Location: Dallas, TX (Remote till Covid)</strong></p><p>&nbsp;</p><p>We have new required an Onsite Project Coordinator/Project Management. Below is the JD that the client shared. This would be remote till Covid and then would be based out of Dallas, TX.&nbsp; An <strong>exposure to REIT/data center</strong> would be beneficial, from a technical standpoint <strong><em>exposure to network technologies would be handy but not required</em></strong>.</p><ul><li>Lead highly strategic cross-functional and cross-organizational initiatives, managing over 10 million in capex projects</li><li>Create and manage cross-functional plans via Smartsheets, collaborating cross-functionally with internal teams (and external vendors if applicable) to define requirements and manage timelines.</li><li>Engage and provide critical information to leadership, cross-functional teams and stakeholders (Network Engineering, Optical Engineering, Carrier Management, Deployment, Transport Engineering)</li><li>Clearly communicate roadmaps, progress, risks, mitigation plans and impacts to senior management and internal cross-functional and remote project teams. Steer teams based on business objectives, constantly align teams to those objectives, in the face of ambiguity and aggressive deadlines.</li><li>Self-directed (directing cross-functional teams and management).</li><li>Lives a proactive delivery mindset, role-filling as necessary to meet program goals.</li></ul><p>&nbsp;</p><p><strong>Required Experience, Skills or Abilities:</strong></p><ul><li>Experience leading global, multi-disciplinary teams in fast-paced, change-intensive environments</li><li>Extensive knowledge of project and program management processes, tools, templates, and management techniques</li><li>Exceptional problem solving and negotiation skills, with the ability to work across organizational boundaries to drive closure of complex delivery challenges</li><li>Take responsibility for release schedules and milestones, keeping up a high velocity in a fast-paced environment.</li><li>Strong business acumen and technical background, with the ability to quickly understand and communicate technical concepts and challenges across a wide range of audiences</li><li>Strong written and verbal communication skills, with the professional confidence and credibility to effectively engage and interact with senior and executive management</li><li>Comfortable hosting senior level leaders and providing statprogram updates</li><li>Comfortable talking about technical matters with businesspeople and business matters with technical people.</li><li>Able to express complex concepts in plain language to reach broader audiences</li><li>Ability to effectively manage multiple competing priorities, meet aggressive deadlines</li><li>Manage program/project schedules and associated dependencies, identify possible issues/risks/actions and clearly work with key stakeholders to mitigate for them.</li><li>Drive issues to logical closure.</li></ul><p>&nbsp;</p><p><strong>Qualifications:</strong></p><ul><li>BA/BS degree or equivalent work experience</li><li>Minimum of 8 years of related industry experience managing moderately sized projects and programs from start to finish within highly complex operating environments.</li><li>You can operate effectively in a high demand, rapidly shifting / fluid environment.</li><li>You have a proven track record of on time and high-quality project delivery</li><li>You are comfortable communicating at all levels of an organization from executives to project teams</li></ul><p>&nbsp;</p></body></html>"
      ],
      "text/plain": [
       "<IPython.core.display.HTML object>"
      ]
     },
     "metadata": {},
     "output_type": "display_data"
    },
    {
     "data": {
      "text/html": [
       "﻿ S. \r\n",
       "Windermere, FL 34786 •  •  • LinkedIn\r\n",
       "Project Management Professional\r\n",
       "Resourceful and detail-oriented professional with hands-on experience driving the success of several projects while defining and meeting project scopes, budgets, timelines, and achieving consistently high levels of productivity.\r\n",
       "— Key Qualifications —\r\n",
       "· Skilled in coordination and management of projects’ schedules, logistics, and life cycle tasks to make valuable contributions across all facets of implementation and execution. \r\n",
       "· Proven success in tracking project activities, collaborating with and motivating staff, and distributing vital information across project teams to ensure on-time and on-budget project completion.\r\n",
       "· Excellent interpersonal skills; ability to get along with diverse personalities while exhibiting versatility, adaptability, and professional attitude within multicultural environment.\r\n",
       "· Technically proficient in BlueBeam, Egnyte, Adobe Photoshop, Printshop, Quickbooks, Procore, and Salesforce.\r\n",
       "Professional Experience\r\n",
       "Intercontinental Hotels Group – Atlanta, GA\r\n",
       "Project Planner, 3/2020 to Present\r\n",
       "Recommend and implement modifications to improve effectiveness and attain project milestones. Prepare and present regular internal and external project reports for management. Maintain a record of previously used vendors/contractors for future use and reference.\r\n",
       "Selected Contribution:\r\n",
       "· Successfully cleared an invoice backlog greater than 1 year in just six months.\r\n",
       "Project Development Services, Inc. – Orlando, FL\r\n",
       "Project Coordinator, 05/2015 to 03/2020\r\n",
       "Enhanced work efficiency and proficiency as an integral reopening team member of a resort in the Florida Keys significantly damaged by Hurricane Irma. Played a key role in the InterContinental San Juan renovation, back-filling information relating to contracts, invoicing, and FF&E.\r\n",
       "Selected Contribution:\r\n",
       "· Successfully accomplished 30+ projects within budgetary and time scale. \r\n",
       "Additional Experience as Sales Representative at American Turf and Carpet and as In-House Vacation Advisor at Marriott Vacation Club International.\r\n",
       "Educational Background\r\n",
       "Bachelor of Arts, History and Political Science, magna cum laude | Florida State University, Tallahassee, FL\r\n",
       "Law – (In progress) | Chapman University, Orange, CA"
      ],
      "text/plain": [
       "<IPython.core.display.HTML object>"
      ]
     },
     "metadata": {},
     "output_type": "display_data"
    }
   ],
   "source": [
    "n=524\n",
    "cols = ['index','overall_experience_job','overall_exp_res_prof','overall_exp_res_bg','overall_experience_resume','dist','experience']\n",
    "for c in cols[1:]:\n",
    "    display(HTML(f'{c}: {data[c][n]}'))\n",
    "display(HTML(data['job_description'][n]))\n",
    "display(HTML(data['resume'][n]))"
   ]
  },
  {
   "cell_type": "markdown",
   "id": "00b0deed",
   "metadata": {},
   "source": [
    "# Distribution of SME's scores and distance to qualify for a match.\n",
    "\n",
    "We can see below when SME is scoring 5 they are not penelizing candidates which are closer to the match. they are scoring good matches when candidate have less experince than asked in the job. And they are not penelizing for overqualified candiates in the figure they have scored % to the candidate those have 10 years over experince than asked. "
   ]
  },
  {
   "cell_type": "code",
   "execution_count": 64,
   "id": "7c658406",
   "metadata": {},
   "outputs": [
    {
     "data": {
      "image/png": "[encoded data removed]",
      "text/plain": [
       "<Figure size 432x288 with 1 Axes>"
      ]
     },
     "metadata": {
      "needs_background": "light"
     },
     "output_type": "display_data"
    }
   ],
   "source": [
    "fig, ax = plt.subplots()\n",
    "ax.hist(data['dist'][data['experience']==5])\n",
    "ax.set_title('Distribution when SMEs scored 5(great match)')\n",
    "ax.set_xlabel(\"Distance of candidate experince to qualify for a Job experience\")\n",
    "ax.set_ylabel(\"Count\");"
   ]
  },
  {
   "cell_type": "code",
   "execution_count": 67,
   "id": "423ee539",
   "metadata": {},
   "outputs": [
    {
     "data": {
      "text/plain": [
       "<AxesSubplot:>"
      ]
     },
     "execution_count": 67,
     "metadata": {},
     "output_type": "execute_result"
    },
    {
     "data": {
      "image/png": "[encoded data removed]",
      "text/plain": [
       "<Figure size 432x288 with 1 Axes>"
      ]
     },
     "metadata": {
      "needs_background": "light"
     },
     "output_type": "display_data"
    }
   ],
   "source": [
    "data['dist'][data['experience']<2].hist()"
   ]
  },
  {
   "cell_type": "markdown",
   "id": "93367ced",
   "metadata": {},
   "source": [
    "**Findings:**\n",
    "\n",
    "- Overexperienced individuals are not penalized by SMEs, and they are rated as excellent matches.\n",
    "- Candidates with less experience than the job requirements are rated as good matches.\n",
    "- For scoring, SMEs possibly considered other signals like skills, domain,  and education with experience.\n",
    "- Outliers are mostly bad parsing/ incorrect experiences mentioned by candidates.\n",
    "\n",
    "**Conclusion:**\n",
    "We can see some patterns above with SMEs scoring that corresponds to our scoring. We can see worst and good matches clusters easily, the patterns are a little bit clear not much but have a positive signal that we are moving in the right direction. We need to investigate more SMEs scoring techniques.\n",
    "\n",
    "**Next Steps:**\n",
    "- Understanding the product demand for the model. \n",
    "- Exploring potential signals like skills, education, domain, etc to align with SMEs scores.\n"
   ]
  }
 ],
 "metadata": {
  "kernelspec": {
   "display_name": "Custom (Python3.8)",
   "language": "python",
   "name": "python3.8"
  },
  "language_info": {
   "codemirror_mode": {
    "name": "ipython",
    "version": 3
   },
   "file_extension": ".py",
   "mimetype": "text/x-python",
   "name": "python",
   "nbconvert_exporter": "python",
   "pygments_lexer": "ipython3",
   "version": "3.8.12"
  }
 },
 "nbformat": 4,
 "nbformat_minor": 5
}
