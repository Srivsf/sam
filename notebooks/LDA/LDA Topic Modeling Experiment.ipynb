{
 "cells": [
  {
   "cell_type": "code",
   "execution_count": 1,
   "metadata": {},
   "outputs": [
    {
     "name": "stderr",
     "output_type": "stream",
     "text": [
      "/Users/tom.mctavish/Library/Caches/pypoetry/virtualenvs/match-2141-LieH_8B5-py3.9/lib/python3.9/site-packages/pandas/compat/__init__.py:124: UserWarning: Could not import the lzma module. Your installed Python is incomplete. Attempting to use lzma compression will result in a RuntimeError.\n",
      "  warnings.warn(msg)\n"
     ]
    },
    {
     "name": "stdout",
     "output_type": "stream",
     "text": [
      "Populating the interactive namespace from numpy and matplotlib\n"
     ]
    },
    {
     "name": "stderr",
     "output_type": "stream",
     "text": [
      "/Users/tom.mctavish/Library/Caches/pypoetry/virtualenvs/match-2141-LieH_8B5-py3.9/lib/python3.9/site-packages/IPython/core/magics/pylab.py:159: UserWarning: pylab import has clobbered these variables: ['trunc']\n",
      "`%matplotlib` prevents importing * from pylab and numpy\n",
      "  warn(\"pylab import has clobbered these variables: %s\"  % clobbered +\n"
     ]
    }
   ],
   "source": [
    "import logging\n",
    "from math import trunc\n",
    "from operator import itemgetter\n",
    "from pprint import pprint\n",
    "import re\n",
    "import boto3\n",
    "import gensim\n",
    "import gensim.corpora as corpora\n",
    "from gensim.utils import simple_preprocess\n",
    "from gensim.models import CoherenceModel, TfidfModel\n",
    "from gensim.models import TfidfModel\n",
    "from gensim.models.ldamodel import LdaModel\n",
    "from gensim.models.ldamulticore import LdaMulticore\n",
    "from gensim.models.phrases import Phrases, Phraser, ENGLISH_CONNECTOR_WORDS\n",
    "from gensim.test.utils import datapath\n",
    "import joblib\n",
    "from nltk.corpus import stopwords\n",
    "import pandas as pd\n",
    "import pyLDAvis\n",
    "import pyLDAvis.gensim_models\n",
    "from rdflib import Namespace, XSD\n",
    "from rdflib.namespace import SKOS\n",
    "from scipy.stats import percentileofscore\n",
    "from sklearn.feature_extraction.text import TfidfVectorizer\n",
    "import sparql_util as su\n",
    "from SPARQLWrapper import SPARQLWrapper, JSON, POST\n",
    "import spacy\n",
    "from tqdm.auto import tqdm\n",
    "\n",
    "###\n",
    "\n",
    "nlp = spacy.load('en_core_web_sm', disable=['parser', 'ner'])\n",
    "stop_words = stopwords.words('english')\n",
    "\n",
    "%pylab inline"
   ]
  },
  {
   "cell_type": "markdown",
   "metadata": {},
   "source": [
    "## S3 Config"
   ]
  },
  {
   "cell_type": "code",
   "execution_count": 2,
   "metadata": {},
   "outputs": [],
   "source": [
    "bucket = 'dev-matchology-datascience'\n",
    "fname = 'data/dice/research/LDA/'\n",
    "prod_jobs = 'all_prod_jobs.json'\n",
    "kgs = 'kg_jobs.csv'\n",
    "model = '22_topics.model'\n",
    "client = boto3.client('s3')"
   ]
  },
  {
   "cell_type": "markdown",
   "metadata": {},
   "source": [
    "## All Dice.com jobs in production\n",
    "Used Logstash to pull all job descriptions, skills, and titles from Dice.com. Later iterations will inlcude more historical data"
   ]
  },
  {
   "cell_type": "code",
   "execution_count": 3,
   "metadata": {},
   "outputs": [],
   "source": [
    "client.download_file(bucket,fname+prod_jobs, prod_jobs)\n",
    "df_prodjobs = pd.io.json.read_json('all_prod_jobs.json', lines=True)"
   ]
  },
  {
   "cell_type": "code",
   "execution_count": 4,
   "metadata": {
    "scrolled": true
   },
   "outputs": [],
   "source": [
    "assert len(df_prodjobs) == 77142"
   ]
  },
  {
   "cell_type": "code",
   "execution_count": 5,
   "metadata": {
    "scrolled": true
   },
   "outputs": [
    {
     "data": {
      "text/html": [
       "<div>\n",
       "<style scoped>\n",
       "    .dataframe tbody tr th:only-of-type {\n",
       "        vertical-align: middle;\n",
       "    }\n",
       "\n",
       "    .dataframe tbody tr th {\n",
       "        vertical-align: top;\n",
       "    }\n",
       "\n",
       "    .dataframe thead th {\n",
       "        text-align: right;\n",
       "    }\n",
       "</style>\n",
       "<table border=\"1\" class=\"dataframe\">\n",
       "  <thead>\n",
       "    <tr style=\"text-align: right;\">\n",
       "      <th></th>\n",
       "      <th>brandId</th>\n",
       "      <th>job_description</th>\n",
       "      <th>job_skills</th>\n",
       "      <th>enriched_epoch_datetime</th>\n",
       "      <th>job_title</th>\n",
       "      <th>id</th>\n",
       "    </tr>\n",
       "  </thead>\n",
       "  <tbody>\n",
       "    <tr>\n",
       "      <th>0</th>\n",
       "      <td>dice</td>\n",
       "      <td>Our client, a global network of professional f...</td>\n",
       "      <td>[Release, Management, PowerPoint, Excel, Adobe]</td>\n",
       "      <td>1.620001e+09</td>\n",
       "      <td>Release Management Coordinator</td>\n",
       "      <td>NaN</td>\n",
       "    </tr>\n",
       "    <tr>\n",
       "      <th>1</th>\n",
       "      <td>dice</td>\n",
       "      <td>Fully Remote Now offered for the following tim...</td>\n",
       "      <td>[Computer, HTTP, Test, Development, Python, Ja...</td>\n",
       "      <td>1.620001e+09</td>\n",
       "      <td>Back End Software Engineer</td>\n",
       "      <td>NaN</td>\n",
       "    </tr>\n",
       "    <tr>\n",
       "      <th>2</th>\n",
       "      <td>dice</td>\n",
       "      <td>If you have a strong interest in joining a hig...</td>\n",
       "      <td>[Manager]</td>\n",
       "      <td>1.620001e+09</td>\n",
       "      <td>Senior Product Manager</td>\n",
       "      <td>NaN</td>\n",
       "    </tr>\n",
       "    <tr>\n",
       "      <th>3</th>\n",
       "      <td>dice</td>\n",
       "      <td>DevOps Engineer - Must have active TS/SCI  Thi...</td>\n",
       "      <td>[Engineer, Systems, Python]</td>\n",
       "      <td>1.620002e+09</td>\n",
       "      <td>DevOps Engineer</td>\n",
       "      <td>NaN</td>\n",
       "    </tr>\n",
       "    <tr>\n",
       "      <th>4</th>\n",
       "      <td>dice</td>\n",
       "      <td>Senior DevOps Engineer - Fully Remote  This Jo...</td>\n",
       "      <td>[Engineer]</td>\n",
       "      <td>1.620001e+09</td>\n",
       "      <td>Senior Devops Engineer</td>\n",
       "      <td>NaN</td>\n",
       "    </tr>\n",
       "  </tbody>\n",
       "</table>\n",
       "</div>"
      ],
      "text/plain": [
       "  brandId                                    job_description  \\\n",
       "0    dice  Our client, a global network of professional f...   \n",
       "1    dice  Fully Remote Now offered for the following tim...   \n",
       "2    dice  If you have a strong interest in joining a hig...   \n",
       "3    dice  DevOps Engineer - Must have active TS/SCI  Thi...   \n",
       "4    dice  Senior DevOps Engineer - Fully Remote  This Jo...   \n",
       "\n",
       "                                          job_skills  enriched_epoch_datetime  \\\n",
       "0    [Release, Management, PowerPoint, Excel, Adobe]             1.620001e+09   \n",
       "1  [Computer, HTTP, Test, Development, Python, Ja...             1.620001e+09   \n",
       "2                                          [Manager]             1.620001e+09   \n",
       "3                        [Engineer, Systems, Python]             1.620002e+09   \n",
       "4                                         [Engineer]             1.620001e+09   \n",
       "\n",
       "                        job_title   id  \n",
       "0  Release Management Coordinator  NaN  \n",
       "1      Back End Software Engineer  NaN  \n",
       "2          Senior Product Manager  NaN  \n",
       "3                 DevOps Engineer  NaN  \n",
       "4          Senior Devops Engineer  NaN  "
      ]
     },
     "execution_count": 5,
     "metadata": {},
     "output_type": "execute_result"
    }
   ],
   "source": [
    "df_prodjobs.head()"
   ]
  },
  {
   "cell_type": "markdown",
   "metadata": {},
   "source": [
    "### Normalize Job Titles to match up with Exact Terms in Knowledge Graph\n",
    "\n",
    "At the time of this experiment, it wasn't fully clear if seniority was included in the knowledge graph. Also, I chose to make the assumption that there wouldn't be a significantly meaningful difference in the skills associated to a senior vs. junior role. For example, as a junior python developer, I will still have to have roughly all the same skills as a senior developer, with the difference in requisite years of experience."
   ]
  },
  {
   "cell_type": "code",
   "execution_count": 6,
   "metadata": {},
   "outputs": [],
   "source": [
    "seniority_patterns = [r'[sj]r._level_', r'^[seju]{2}nior[,_]*', r'[seju]{2}nior-?_', r',*_\\(*[seju]{2}nior\\)*_*', r'[seju]{2}nior\\.',\n",
    "                      r'senior[\\/-]lead_', r'-[seju]{2}nior', r'[seju]{2}nior\\/', r'[seju]{2}nior-level_', r'\\/contract\\/[seju]{2}nior',\n",
    "                      r'\\/[seju]{2}nior', r'[seju]{2}nior[-_]mid_', r'\\/*[seju]{2}nior[-_]*level_?', r'\\/*mid[-_]*level_?', r'mid[ -_to]{4}[seju]{2}nior[ -_]level[ -_]',\n",
    "                      r'mid\\/sr_level_', r'[-_]{,3}mid_level', r'[-_]{,3}mid', r'_level_\\d+']\n",
    "seniority_patterns = '|'.join(seniority_patterns)\n",
    "df_prodjobs['match_column'] = df_prodjobs['job_title'].str.lower().str.replace(r'[ \\(\\)]|\\\\\\/', '_', regex=True).str.replace(seniority_patterns, '', regex=True)"
   ]
  },
  {
   "cell_type": "code",
   "execution_count": 7,
   "metadata": {},
   "outputs": [
    {
     "data": {
      "text/html": [
       "<div>\n",
       "<style scoped>\n",
       "    .dataframe tbody tr th:only-of-type {\n",
       "        vertical-align: middle;\n",
       "    }\n",
       "\n",
       "    .dataframe tbody tr th {\n",
       "        vertical-align: top;\n",
       "    }\n",
       "\n",
       "    .dataframe thead th {\n",
       "        text-align: right;\n",
       "    }\n",
       "</style>\n",
       "<table border=\"1\" class=\"dataframe\">\n",
       "  <thead>\n",
       "    <tr style=\"text-align: right;\">\n",
       "      <th></th>\n",
       "      <th>job_title</th>\n",
       "    </tr>\n",
       "  </thead>\n",
       "  <tbody>\n",
       "    <tr>\n",
       "      <th>Java Developer</th>\n",
       "      <td>582</td>\n",
       "    </tr>\n",
       "    <tr>\n",
       "      <th>Software Engineer</th>\n",
       "      <td>565</td>\n",
       "    </tr>\n",
       "    <tr>\n",
       "      <th>Business Analyst</th>\n",
       "      <td>492</td>\n",
       "    </tr>\n",
       "    <tr>\n",
       "      <th>Senior Software Engineer</th>\n",
       "      <td>482</td>\n",
       "    </tr>\n",
       "    <tr>\n",
       "      <th>Project Manager</th>\n",
       "      <td>481</td>\n",
       "    </tr>\n",
       "    <tr>\n",
       "      <th>...</th>\n",
       "      <td>...</td>\n",
       "    </tr>\n",
       "    <tr>\n",
       "      <th>Electrical Engineer (Onsite Job)</th>\n",
       "      <td>1</td>\n",
       "    </tr>\n",
       "    <tr>\n",
       "      <th>Java Python Developer Remote Job.</th>\n",
       "      <td>1</td>\n",
       "    </tr>\n",
       "    <tr>\n",
       "      <th>Digital Marketing Compliance Associate</th>\n",
       "      <td>1</td>\n",
       "    </tr>\n",
       "    <tr>\n",
       "      <th>Tosca with Automation Tester</th>\n",
       "      <td>1</td>\n",
       "    </tr>\n",
       "    <tr>\n",
       "      <th>UI .NET Developer</th>\n",
       "      <td>1</td>\n",
       "    </tr>\n",
       "  </tbody>\n",
       "</table>\n",
       "<p>46198 rows × 1 columns</p>\n",
       "</div>"
      ],
      "text/plain": [
       "                                        job_title\n",
       "Java Developer                                582\n",
       "Software Engineer                             565\n",
       "Business Analyst                              492\n",
       "Senior Software Engineer                      482\n",
       "Project Manager                               481\n",
       "...                                           ...\n",
       "Electrical Engineer (Onsite Job)                1\n",
       "Java Python Developer Remote Job.               1\n",
       "Digital Marketing Compliance Associate          1\n",
       "Tosca with Automation Tester                    1\n",
       "UI .NET Developer                               1\n",
       "\n",
       "[46198 rows x 1 columns]"
      ]
     },
     "execution_count": 7,
     "metadata": {},
     "output_type": "execute_result"
    }
   ],
   "source": [
    "pd.DataFrame(df_prodjobs['job_title'].value_counts())"
   ]
  },
  {
   "cell_type": "markdown",
   "metadata": {},
   "source": [
    "### show simple aggregation of job titles"
   ]
  },
  {
   "cell_type": "code",
   "execution_count": 8,
   "metadata": {},
   "outputs": [
    {
     "data": {
      "text/html": [
       "<div>\n",
       "<style scoped>\n",
       "    .dataframe tbody tr th:only-of-type {\n",
       "        vertical-align: middle;\n",
       "    }\n",
       "\n",
       "    .dataframe tbody tr th {\n",
       "        vertical-align: top;\n",
       "    }\n",
       "\n",
       "    .dataframe thead th {\n",
       "        text-align: right;\n",
       "    }\n",
       "</style>\n",
       "<table border=\"1\" class=\"dataframe\">\n",
       "  <thead>\n",
       "    <tr style=\"text-align: right;\">\n",
       "      <th></th>\n",
       "      <th>match_column</th>\n",
       "    </tr>\n",
       "  </thead>\n",
       "  <tbody>\n",
       "    <tr>\n",
       "      <th>software_engineer</th>\n",
       "      <td>1096</td>\n",
       "    </tr>\n",
       "    <tr>\n",
       "      <th>java_developer</th>\n",
       "      <td>836</td>\n",
       "    </tr>\n",
       "    <tr>\n",
       "      <th>business_analyst</th>\n",
       "      <td>612</td>\n",
       "    </tr>\n",
       "    <tr>\n",
       "      <th>.net_developer</th>\n",
       "      <td>593</td>\n",
       "    </tr>\n",
       "    <tr>\n",
       "      <th>project_manager</th>\n",
       "      <td>589</td>\n",
       "    </tr>\n",
       "    <tr>\n",
       "      <th>...</th>\n",
       "      <td>...</td>\n",
       "    </tr>\n",
       "    <tr>\n",
       "      <th>associate_dca_engineer</th>\n",
       "      <td>1</td>\n",
       "    </tr>\n",
       "    <tr>\n",
       "      <th>technician_-_testing</th>\n",
       "      <td>1</td>\n",
       "    </tr>\n",
       "    <tr>\n",
       "      <th>motor_control_design_engineer</th>\n",
       "      <td>1</td>\n",
       "    </tr>\n",
       "    <tr>\n",
       "      <th>technical_services_operations_administrator</th>\n",
       "      <td>1</td>\n",
       "    </tr>\n",
       "    <tr>\n",
       "      <th>ui_.net_developer</th>\n",
       "      <td>1</td>\n",
       "    </tr>\n",
       "  </tbody>\n",
       "</table>\n",
       "<p>43601 rows × 1 columns</p>\n",
       "</div>"
      ],
      "text/plain": [
       "                                             match_column\n",
       "software_engineer                                    1096\n",
       "java_developer                                        836\n",
       "business_analyst                                      612\n",
       ".net_developer                                        593\n",
       "project_manager                                       589\n",
       "...                                                   ...\n",
       "associate_dca_engineer                                  1\n",
       "technician_-_testing                                    1\n",
       "motor_control_design_engineer                           1\n",
       "technical_services_operations_administrator             1\n",
       "ui_.net_developer                                       1\n",
       "\n",
       "[43601 rows x 1 columns]"
      ]
     },
     "execution_count": 8,
     "metadata": {},
     "output_type": "execute_result"
    }
   ],
   "source": [
    "df_top_jobs = pd.DataFrame(df_prodjobs['match_column'].value_counts())\n",
    "df_top_jobs"
   ]
  },
  {
   "cell_type": "markdown",
   "metadata": {},
   "source": [
    "## Load all unique job titles from Neptune\n",
    "Using our knowledge graph as the basis for normalizing job titles from Dice.com\n",
    "\n",
    "***NOTE:***\n",
    "\n",
    "must be connected to VPN in order to execute this query"
   ]
  },
  {
   "cell_type": "code",
   "execution_count": 9,
   "metadata": {},
   "outputs": [],
   "source": [
    "SPARQL_ENDPOINT = \"https://dev-taxonomy-neptune-cluster.cluster-cab44ucmi0fe.us-east-1.neptune.amazonaws.com:8182/sparql\"\n",
    "sparql = SPARQLWrapper(SPARQL_ENDPOINT)\n",
    "DHI = Namespace(\"https://dhigroupinc.com/ns/core#\")"
   ]
  },
  {
   "cell_type": "markdown",
   "metadata": {},
   "source": [
    "### Optional Query to obtain all job titles"
   ]
  },
  {
   "cell_type": "code",
   "execution_count": 10,
   "metadata": {},
   "outputs": [],
   "source": [
    "query = f\"\"\"\n",
    "PREFIX skos: <{SKOS}>\n",
    "PREFIX dhi: <{DHI}>\n",
    "\n",
    "SELECT DISTINCT ?title\n",
    "WHERE {{\n",
    "    ?title a dhi:JobTitle .\n",
    "    ?title skos:prefLabel ?prefLabel .\n",
    "    filter langMatches(lang(?prefLabel), 'en-US')\n",
    "\n",
    "}}\n",
    "Group BY ?title\n",
    "\n",
    "\"\"\"\n",
    "\n",
    "sparql.setQuery(query)\n",
    "sparql.setReturnFormat(JSON)\n",
    "results = sparql.query().convert()\n",
    "df_kg_jobs = su.sparql2df(results)"
   ]
  },
  {
   "cell_type": "markdown",
   "metadata": {},
   "source": [
    "## Optional download from S3"
   ]
  },
  {
   "cell_type": "code",
   "execution_count": 11,
   "metadata": {},
   "outputs": [],
   "source": [
    "client.download_file(bucket,fname+kgs, kgs)\n",
    "df_kg_jobs = pd.read_csv('kg_jobs.csv')"
   ]
  },
  {
   "cell_type": "code",
   "execution_count": 12,
   "metadata": {},
   "outputs": [
    {
     "data": {
      "text/html": [
       "<div>\n",
       "<style scoped>\n",
       "    .dataframe tbody tr th:only-of-type {\n",
       "        vertical-align: middle;\n",
       "    }\n",
       "\n",
       "    .dataframe tbody tr th {\n",
       "        vertical-align: top;\n",
       "    }\n",
       "\n",
       "    .dataframe thead th {\n",
       "        text-align: right;\n",
       "    }\n",
       "</style>\n",
       "<table border=\"1\" class=\"dataframe\">\n",
       "  <thead>\n",
       "    <tr style=\"text-align: right;\">\n",
       "      <th></th>\n",
       "      <th>title</th>\n",
       "    </tr>\n",
       "  </thead>\n",
       "  <tbody>\n",
       "    <tr>\n",
       "      <th>0</th>\n",
       "      <td>https://dice.com/jobs/titles/Tax_Manager</td>\n",
       "    </tr>\n",
       "    <tr>\n",
       "      <th>1</th>\n",
       "      <td>https://dice.com/jobs/titles/Microsoft_Systems...</td>\n",
       "    </tr>\n",
       "    <tr>\n",
       "      <th>2</th>\n",
       "      <td>https://dice.com/jobs/titles/Data_Scientist</td>\n",
       "    </tr>\n",
       "    <tr>\n",
       "      <th>3</th>\n",
       "      <td>https://dice.com/jobs/titles/Database_Architect</td>\n",
       "    </tr>\n",
       "    <tr>\n",
       "      <th>4</th>\n",
       "      <td>https://dice.com/jobs/titles/Account_Executive</td>\n",
       "    </tr>\n",
       "    <tr>\n",
       "      <th>...</th>\n",
       "      <td>...</td>\n",
       "    </tr>\n",
       "    <tr>\n",
       "      <th>1604</th>\n",
       "      <td>https://dice.com/jobs/titles/Wire_Technician</td>\n",
       "    </tr>\n",
       "    <tr>\n",
       "      <th>1605</th>\n",
       "      <td>https://dice.com/jobs/titles/Performance_Test_...</td>\n",
       "    </tr>\n",
       "    <tr>\n",
       "      <th>1606</th>\n",
       "      <td>https://dice.com/jobs/titles/Appian_Developer</td>\n",
       "    </tr>\n",
       "    <tr>\n",
       "      <th>1607</th>\n",
       "      <td>https://dice.com/jobs/titles/AEM_Developer</td>\n",
       "    </tr>\n",
       "    <tr>\n",
       "      <th>1608</th>\n",
       "      <td>https://dice.com/jobs/titles/Archer_Developer</td>\n",
       "    </tr>\n",
       "  </tbody>\n",
       "</table>\n",
       "<p>1609 rows × 1 columns</p>\n",
       "</div>"
      ],
      "text/plain": [
       "                                                  title\n",
       "0              https://dice.com/jobs/titles/Tax_Manager\n",
       "1     https://dice.com/jobs/titles/Microsoft_Systems...\n",
       "2           https://dice.com/jobs/titles/Data_Scientist\n",
       "3       https://dice.com/jobs/titles/Database_Architect\n",
       "4        https://dice.com/jobs/titles/Account_Executive\n",
       "...                                                 ...\n",
       "1604       https://dice.com/jobs/titles/Wire_Technician\n",
       "1605  https://dice.com/jobs/titles/Performance_Test_...\n",
       "1606      https://dice.com/jobs/titles/Appian_Developer\n",
       "1607         https://dice.com/jobs/titles/AEM_Developer\n",
       "1608      https://dice.com/jobs/titles/Archer_Developer\n",
       "\n",
       "[1609 rows x 1 columns]"
      ]
     },
     "execution_count": 12,
     "metadata": {},
     "output_type": "execute_result"
    }
   ],
   "source": [
    "df_kg_jobs"
   ]
  },
  {
   "cell_type": "markdown",
   "metadata": {},
   "source": [
    "#### Adjust RDF syntax to sync with dice.com titles"
   ]
  },
  {
   "cell_type": "code",
   "execution_count": 13,
   "metadata": {
    "scrolled": true
   },
   "outputs": [
    {
     "name": "stderr",
     "output_type": "stream",
     "text": [
      "/var/folders/dq/jyh0mg4961zdw50nt390kp8spy7t02/T/ipykernel_10464/4163198688.py:1: FutureWarning: The default value of regex will change from True to False in a future version.\n",
      "  df_kg_jobs['matching_column'] = df_kg_jobs['title'].str.lower().str.replace(r'https://dice.com/jobs/titles/', '')\n"
     ]
    }
   ],
   "source": [
    "df_kg_jobs['matching_column'] = df_kg_jobs['title'].str.lower().str.replace(r'https://dice.com/jobs/titles/', '')"
   ]
  },
  {
   "cell_type": "markdown",
   "metadata": {},
   "source": [
    "### Top 20 most common jobs histogram"
   ]
  },
  {
   "cell_type": "code",
   "execution_count": 15,
   "metadata": {},
   "outputs": [
    {
     "data": {
      "text/html": [
       "<div>\n",
       "<style scoped>\n",
       "    .dataframe tbody tr th:only-of-type {\n",
       "        vertical-align: middle;\n",
       "    }\n",
       "\n",
       "    .dataframe tbody tr th {\n",
       "        vertical-align: top;\n",
       "    }\n",
       "\n",
       "    .dataframe thead th {\n",
       "        text-align: right;\n",
       "    }\n",
       "</style>\n",
       "<table border=\"1\" class=\"dataframe\">\n",
       "  <thead>\n",
       "    <tr style=\"text-align: right;\">\n",
       "      <th></th>\n",
       "      <th>matching_column</th>\n",
       "      <th>count</th>\n",
       "    </tr>\n",
       "  </thead>\n",
       "  <tbody>\n",
       "    <tr>\n",
       "      <th>0</th>\n",
       "      <td>software_engineer</td>\n",
       "      <td>1096</td>\n",
       "    </tr>\n",
       "    <tr>\n",
       "      <th>1</th>\n",
       "      <td>java_developer</td>\n",
       "      <td>836</td>\n",
       "    </tr>\n",
       "    <tr>\n",
       "      <th>2</th>\n",
       "      <td>business_analyst</td>\n",
       "      <td>612</td>\n",
       "    </tr>\n",
       "    <tr>\n",
       "      <th>3</th>\n",
       "      <td>.net_developer</td>\n",
       "      <td>593</td>\n",
       "    </tr>\n",
       "    <tr>\n",
       "      <th>4</th>\n",
       "      <td>project_manager</td>\n",
       "      <td>589</td>\n",
       "    </tr>\n",
       "    <tr>\n",
       "      <th>...</th>\n",
       "      <td>...</td>\n",
       "      <td>...</td>\n",
       "    </tr>\n",
       "    <tr>\n",
       "      <th>95</th>\n",
       "      <td>mainframe_developer</td>\n",
       "      <td>48</td>\n",
       "    </tr>\n",
       "    <tr>\n",
       "      <th>96</th>\n",
       "      <td>cyber_security_analyst</td>\n",
       "      <td>48</td>\n",
       "    </tr>\n",
       "    <tr>\n",
       "      <th>97</th>\n",
       "      <td>controls_engineer</td>\n",
       "      <td>47</td>\n",
       "    </tr>\n",
       "    <tr>\n",
       "      <th>98</th>\n",
       "      <td>data_modeler</td>\n",
       "      <td>46</td>\n",
       "    </tr>\n",
       "    <tr>\n",
       "      <th>99</th>\n",
       "      <td>java_architect</td>\n",
       "      <td>46</td>\n",
       "    </tr>\n",
       "  </tbody>\n",
       "</table>\n",
       "<p>100 rows × 2 columns</p>\n",
       "</div>"
      ],
      "text/plain": [
       "           matching_column  count\n",
       "0        software_engineer   1096\n",
       "1           java_developer    836\n",
       "2         business_analyst    612\n",
       "3           .net_developer    593\n",
       "4          project_manager    589\n",
       "..                     ...    ...\n",
       "95     mainframe_developer     48\n",
       "96  cyber_security_analyst     48\n",
       "97       controls_engineer     47\n",
       "98            data_modeler     46\n",
       "99          java_architect     46\n",
       "\n",
       "[100 rows x 2 columns]"
      ]
     },
     "execution_count": 15,
     "metadata": {},
     "output_type": "execute_result"
    }
   ],
   "source": [
    "df_tj = df_top_jobs.iloc[:100].reset_index().rename(columns={'index': 'matching_column', 'match_column': 'count'})\n",
    "df_tj"
   ]
  },
  {
   "cell_type": "code",
   "execution_count": 17,
   "metadata": {},
   "outputs": [
    {
     "data": {
      "image/png": "[encoded data removed]",
      "text/plain": [
       "<Figure size 432x288 with 1 Axes>"
      ]
     },
     "metadata": {
      "needs_background": "light"
     },
     "output_type": "display_data"
    }
   ],
   "source": [
    "title = 'Top 25 Job Title Distribution'\n",
    "plt.bar(df_tj['matching_column'].iloc[:25], df_tj['count'].iloc[:25], align='center', alpha=0.5)\n",
    "plt.xticks(df_tj['matching_column'].iloc[:25], rotation=90)\n",
    "plt.ylabel('Count')\n",
    "plt.title(title)\n",
    "plt.show()"
   ]
  },
  {
   "cell_type": "markdown",
   "metadata": {},
   "source": [
    "## Build Training Data\n",
    "Start by selecting jobs from Dice.com that match up to KG titles"
   ]
  },
  {
   "cell_type": "code",
   "execution_count": 18,
   "metadata": {
    "scrolled": true
   },
   "outputs": [
    {
     "data": {
      "text/html": [
       "<div>\n",
       "<style scoped>\n",
       "    .dataframe tbody tr th:only-of-type {\n",
       "        vertical-align: middle;\n",
       "    }\n",
       "\n",
       "    .dataframe tbody tr th {\n",
       "        vertical-align: top;\n",
       "    }\n",
       "\n",
       "    .dataframe thead th {\n",
       "        text-align: right;\n",
       "    }\n",
       "</style>\n",
       "<table border=\"1\" class=\"dataframe\">\n",
       "  <thead>\n",
       "    <tr style=\"text-align: right;\">\n",
       "      <th></th>\n",
       "      <th>title</th>\n",
       "      <th>matching_column</th>\n",
       "      <th>count</th>\n",
       "      <th>job_description</th>\n",
       "      <th>job_skills</th>\n",
       "      <th>job_title</th>\n",
       "    </tr>\n",
       "  </thead>\n",
       "  <tbody>\n",
       "    <tr>\n",
       "      <th>0</th>\n",
       "      <td>https://dice.com/jobs/titles/Data_Scientist</td>\n",
       "      <td>data_scientist</td>\n",
       "      <td>263</td>\n",
       "      <td>Data Scientist – Ground-breaking Biopharma   M...</td>\n",
       "      <td>[python, r, RNAseq, Single-cell, T-cell]</td>\n",
       "      <td>Data Scientist</td>\n",
       "    </tr>\n",
       "    <tr>\n",
       "      <th>1</th>\n",
       "      <td>https://dice.com/jobs/titles/Data_Scientist</td>\n",
       "      <td>data_scientist</td>\n",
       "      <td>263</td>\n",
       "      <td>TOP Consulting is looking for a Data Scientist...</td>\n",
       "      <td>[Advanced analytics, Data mining, Data science...</td>\n",
       "      <td>Data Scientist</td>\n",
       "    </tr>\n",
       "    <tr>\n",
       "      <th>2</th>\n",
       "      <td>https://dice.com/jobs/titles/Data_Scientist</td>\n",
       "      <td>data_scientist</td>\n",
       "      <td>263</td>\n",
       "      <td>US Tech Solutions is seeking a “Data Scientist...</td>\n",
       "      <td>[Data analysis, Data QA, Data integration, Dat...</td>\n",
       "      <td>Data Scientist</td>\n",
       "    </tr>\n",
       "    <tr>\n",
       "      <th>3</th>\n",
       "      <td>https://dice.com/jobs/titles/Data_Scientist</td>\n",
       "      <td>data_scientist</td>\n",
       "      <td>263</td>\n",
       "      <td>SaaS, AWS, Spark  This Jobot Job is hosted by:...</td>\n",
       "      <td>[Security, Apache, Java, Python, SQL, API]</td>\n",
       "      <td>Senior Data Scientist</td>\n",
       "    </tr>\n",
       "    <tr>\n",
       "      <th>4</th>\n",
       "      <td>https://dice.com/jobs/titles/Data_Scientist</td>\n",
       "      <td>data_scientist</td>\n",
       "      <td>263</td>\n",
       "      <td>NLP / NLU Engineer    Minimum 3 years of produ...</td>\n",
       "      <td>[nlp, sql]</td>\n",
       "      <td>data scientist</td>\n",
       "    </tr>\n",
       "  </tbody>\n",
       "</table>\n",
       "</div>"
      ],
      "text/plain": [
       "                                         title matching_column  count  \\\n",
       "0  https://dice.com/jobs/titles/Data_Scientist  data_scientist    263   \n",
       "1  https://dice.com/jobs/titles/Data_Scientist  data_scientist    263   \n",
       "2  https://dice.com/jobs/titles/Data_Scientist  data_scientist    263   \n",
       "3  https://dice.com/jobs/titles/Data_Scientist  data_scientist    263   \n",
       "4  https://dice.com/jobs/titles/Data_Scientist  data_scientist    263   \n",
       "\n",
       "                                     job_description  \\\n",
       "0  Data Scientist – Ground-breaking Biopharma   M...   \n",
       "1  TOP Consulting is looking for a Data Scientist...   \n",
       "2  US Tech Solutions is seeking a “Data Scientist...   \n",
       "3  SaaS, AWS, Spark  This Jobot Job is hosted by:...   \n",
       "4  NLP / NLU Engineer    Minimum 3 years of produ...   \n",
       "\n",
       "                                          job_skills              job_title  \n",
       "0           [python, r, RNAseq, Single-cell, T-cell]         Data Scientist  \n",
       "1  [Advanced analytics, Data mining, Data science...         Data Scientist  \n",
       "2  [Data analysis, Data QA, Data integration, Dat...         Data Scientist  \n",
       "3         [Security, Apache, Java, Python, SQL, API]  Senior Data Scientist  \n",
       "4                                         [nlp, sql]         data scientist  "
      ]
     },
     "execution_count": 18,
     "metadata": {},
     "output_type": "execute_result"
    }
   ],
   "source": [
    "cols = ['title', 'matching_column', 'count', 'job_description', 'job_skills', 'job_title']\n",
    "df_lda_training = df_kg_jobs.merge(df_tj).merge(df_prodjobs, left_on='matching_column', right_on='match_column')[cols]\n",
    "df_lda_training.head()"
   ]
  },
  {
   "cell_type": "markdown",
   "metadata": {},
   "source": [
    "## Text Processing\n",
    "Define string patterns to adjust, stopwords to remove, and associated functions to apply said changes"
   ]
  },
  {
   "cell_type": "code",
   "execution_count": 19,
   "metadata": {},
   "outputs": [],
   "source": [
    "regex_ref = {\n",
    "    'punctuation': {\n",
    "        'pattern': r'[•™\\#\\*\\|\\(\\)\"\\?\\@,:;“”·–_]+|\\.(?!\\w+)',\n",
    "        'repl': r''\n",
    "    },\n",
    "    'slashes': {\n",
    "        'pattern': r'/|-',\n",
    "        'repl': r' '\n",
    "    }, \n",
    "    'ampersand': {\n",
    "        'pattern': r'&',\n",
    "        'repl': r'and'\n",
    "    }, \n",
    "    'info_tech': {\n",
    "        'pattern': r' IT |i\\.t\\.|I\\.T\\.',\n",
    "        'repl': r' information technology '\n",
    "    }, \n",
    "    'period_typos': {\n",
    "        'pattern': r'(?![a-z]+)\\.(?=[A-z][a-z]+)',\n",
    "        'repl': r' '\n",
    "    },\n",
    "    'camel_case': {\n",
    "        'pattern': r'(?<=[a-z])([A-Z])(?! )',\n",
    "        'repl': r' \\1'\n",
    "    },\n",
    "    'unicode': {\n",
    "        'pattern': r'\\x01',\n",
    "        'repl': r''\n",
    "    },\n",
    "    'urls': {\n",
    "        'pattern': r'https?:\\/\\/(www\\.)?[-a-zA-Z0-9@:%._\\+~#=]{1,256}\\.[a-zA-Z0-9()]{1,6}\\b([-a-zA-Z0-9()@:%_\\+.~#?&//=]*)|[-a-zA-Z0-9@:%._\\+~#=]{1,256}\\.[a-zA-Z0-9()]{1,6}\\b([-a-zA-Z0-9()@:%_\\+.~#?&//=]*)',\n",
    "        'repl': r''\n",
    "    }\n",
    "}"
   ]
  },
  {
   "cell_type": "code",
   "execution_count": 20,
   "metadata": {},
   "outputs": [],
   "source": [
    "custom_stopwords = open('stopwords/lda_stopwords.txt', 'r').read()\n",
    "custom_stopwords = custom_stopwords.split(',')"
   ]
  },
  {
   "cell_type": "code",
   "execution_count": 21,
   "metadata": {},
   "outputs": [],
   "source": [
    "lemma_exceptions = {\n",
    "    'datum': 'data',\n",
    "    'aw': 'aws',\n",
    "    'panda': 'pandas'\n",
    "}"
   ]
  },
  {
   "cell_type": "code",
   "execution_count": 22,
   "metadata": {},
   "outputs": [],
   "source": [
    "def IT_conversions(text, regex):\n",
    "    info_tech = regex['info_tech']\n",
    "    information_technology = re.sub(info_tech['pattern'], info_tech['repl'], text)\n",
    "    return information_technology"
   ]
  },
  {
   "cell_type": "code",
   "execution_count": 23,
   "metadata": {},
   "outputs": [],
   "source": [
    "def clean_urls(text, regex):\n",
    "    urls = regex['urls']\n",
    "    return re.sub(urls['pattern'], urls['repl'], text)"
   ]
  },
  {
   "cell_type": "code",
   "execution_count": 24,
   "metadata": {},
   "outputs": [],
   "source": [
    "def remove_punctuation(text, regex):\n",
    "    punc_regex = regex['punctuation']\n",
    "    slashes = regex['slashes']\n",
    "    ampersand = regex['ampersand']\n",
    "    period_typos = regex['period_typos']\n",
    "    unicode = regex['unicode']\n",
    "    \n",
    "    text = re.sub(punc_regex['pattern'], punc_regex['repl'], text)\n",
    "    text = re.sub(slashes['pattern'], slashes['repl'], text)\n",
    "    text = re.sub(ampersand['pattern'], ampersand['repl'], text)\n",
    "    text = re.sub(period_typos['pattern'], period_typos['repl'], text)\n",
    "    text = re.sub(unicode['pattern'], unicode['repl'], text)\n",
    "    return text"
   ]
  },
  {
   "cell_type": "code",
   "execution_count": 25,
   "metadata": {},
   "outputs": [],
   "source": [
    "def lowercase(text):\n",
    "    return text.lower().split(' ')"
   ]
  },
  {
   "cell_type": "code",
   "execution_count": 26,
   "metadata": {},
   "outputs": [],
   "source": [
    "def remove_stopwords(text, stopwords_file):\n",
    "    return [w for w in text if w not in stopwords_file]"
   ]
  },
  {
   "cell_type": "code",
   "execution_count": 27,
   "metadata": {},
   "outputs": [],
   "source": [
    "def camel_case(text, regex):\n",
    "    return re.sub(regex['camel_case']['pattern'], regex['camel_case']['repl'], text)"
   ]
  },
  {
   "cell_type": "code",
   "execution_count": 28,
   "metadata": {},
   "outputs": [],
   "source": [
    "def lemmatize(text, allowed_postags=['NOUN', 'PROPN', 'ADJ', 'VERB', 'ADV']):\n",
    "    doc = nlp(' '.join(text))\n",
    "    return [token.lemma_ for token in doc if token.pos_ in allowed_postags]"
   ]
  },
  {
   "cell_type": "code",
   "execution_count": 29,
   "metadata": {},
   "outputs": [],
   "source": [
    "def fix_lemmas(text, lemma, original):\n",
    "    indices = [i for i, x in enumerate(text) if x == lemma]\n",
    "    if len(indices) > 0:\n",
    "        for i in indices:\n",
    "            text[i] = original\n",
    "    return text"
   ]
  },
  {
   "cell_type": "code",
   "execution_count": 30,
   "metadata": {},
   "outputs": [],
   "source": [
    "def process_descriptions(text, regex, stopwords, lemma_exceptions):\n",
    "    text = IT_conversions(text, regex)\n",
    "    text = clean_urls(text, regex)\n",
    "    text = remove_punctuation(text, regex)\n",
    "    text = camel_case(text, regex)\n",
    "    text = lowercase(text)\n",
    "    text = lemmatize(text)\n",
    "    text = remove_stopwords(text, stopwords)\n",
    "    for lemma, original in lemma_exceptions.items():\n",
    "        text = fix_lemmas(text, lemma, original)\n",
    "    return text"
   ]
  },
  {
   "cell_type": "markdown",
   "metadata": {},
   "source": [
    "#### Begin initial text processing job"
   ]
  },
  {
   "cell_type": "code",
   "execution_count": 32,
   "metadata": {
    "scrolled": false
   },
   "outputs": [],
   "source": [
    "tqdm.pandas()\n",
    "df_lda_training['transformed_jds'] =df_lda_training.progress_apply(lambda x: process_descriptions(x['job_description'], \n",
    "                                                                                             regex_ref, \n",
    "                                                                                             custom_stopwords,\n",
    "                                                                                             lemma_exceptions),\n",
    "                                                              axis=1)"
   ]
  },
  {
   "cell_type": "markdown",
   "metadata": {},
   "source": [
    "### N-grams\n",
    "We take the inital cleaned tokens from the Job Descriptions and create bigrams and trigrams to ensure that longer key phrases are included as significant skills for model training"
   ]
  },
  {
   "cell_type": "markdown",
   "metadata": {},
   "source": [
    "#### Create the bigram and trigram models\n",
    "_Key Parameters_:\n",
    "- __min_count__: minimum # of times an n-gram needs to occur in the corpus in order for it to be counted\n",
    "- __threshold__: minimum score the n-gram needs to have in order to be counted. For more information on this class, see this [Gensim doc](https://radimrehurek.com/gensim/models/phrases.html#gensim.models.phrases.Phrases), and for more information on the default scoring mechanism that is PMI-like ([Point-wise Mutual Information](https://en.wikipedia.org/wiki/Pointwise_mutual_information)), see [this paper](https://arxiv.org/abs/1310.4546)"
   ]
  },
  {
   "cell_type": "code",
   "execution_count": 33,
   "metadata": {},
   "outputs": [],
   "source": [
    "bigram = Phrases(df_lda_training['transformed_jds'].values,\n",
    "                 min_count=5, \n",
    "                 threshold=10, \n",
    "                 connector_words=ENGLISH_CONNECTOR_WORDS)\n",
    "\n",
    "bigram_mod = Phraser(bigram)\n",
    "\n",
    "trigram = Phrases(bigram[df_lda_training['transformed_jds'].values],\n",
    "                         min_count=3, \n",
    "                         threshold=10, \n",
    "                         connector_words=ENGLISH_CONNECTOR_WORDS)\n",
    "\n",
    "trigram_mod = Phraser(trigram)"
   ]
  },
  {
   "cell_type": "code",
   "execution_count": 34,
   "metadata": {},
   "outputs": [],
   "source": [
    "def add_bigrams(bi_mod, documents):\n",
    "    new_docs = []\n",
    "    for idx in range(len(documents)):\n",
    "        new_list = []\n",
    "        for token in bi_mod[documents[idx]]:\n",
    "            if '_' in token:\n",
    "                # Token is a bigram, add to document.\n",
    "                new_list.append(token)\n",
    "\n",
    "        new_docs.append(new_list)\n",
    "    return new_docs"
   ]
  },
  {
   "cell_type": "code",
   "execution_count": 35,
   "metadata": {},
   "outputs": [],
   "source": [
    "def add_trigrams(tri_mod, bi_mod, documents, new_docs):\n",
    "    for idx in range(len(documents)):\n",
    "        new_list = []\n",
    "        for token in tri_mod[bi_mod[documents[idx]]]:\n",
    "            if '_' in token and token not in new_docs[idx]:\n",
    "                # Token is a trigram, add to document.\n",
    "                new_list.append(token)\n",
    "        new_docs[idx] = new_docs[idx] + new_list\n",
    "    return new_docs"
   ]
  },
  {
   "cell_type": "markdown",
   "metadata": {},
   "source": [
    "### Combine n-grams\n",
    "It's necessary to add the n-grams this way, otherwise the gensim Phraser model will clobber some lower-order ngrams in favor of higher-order ones. We want the complete picture to emcompass all combinations. For example, \"data_scientist\" is an obvious bigram of interest. However, we would not want to keep that at the expense of \"data\" and \"scientist\", as they can be useful unigrams on their own."
   ]
  },
  {
   "cell_type": "code",
   "execution_count": 36,
   "metadata": {
    "scrolled": true
   },
   "outputs": [],
   "source": [
    "docs =df_lda_training['transformed_jds'].copy().values\n",
    "bis = add_bigrams(bigram_mod, docs)\n",
    "tris = add_trigrams(trigram_mod, bigram_mod, docs, bis)\n",
    "for d in range(len(docs)):\n",
    "    docs[d] = docs[d] + tris[d]"
   ]
  },
  {
   "cell_type": "markdown",
   "metadata": {},
   "source": [
    "#### persist n-grams to dataframe"
   ]
  },
  {
   "cell_type": "code",
   "execution_count": 37,
   "metadata": {
    "scrolled": false
   },
   "outputs": [],
   "source": [
    "df_lda_training['n_grams'] = docs"
   ]
  },
  {
   "cell_type": "markdown",
   "metadata": {},
   "source": [
    "### Incorporate Taxonomy artifacts and filter out skills\n",
    "Using a massive file that combines all distinct skills and their higher level skills as defined in in [our taxonomy](https://confluence.dhigroupinc.com/display/MT/2021/01/29/Leveraging+the+Knowledge+Graph+for+Search), we are able to filter out anything that DHI doesn't officially recognize as a skill.\n",
    "\n",
    "We perform this on the tokens that are augmented with n-grams so that we don't miss longer skills"
   ]
  },
  {
   "cell_type": "code",
   "execution_count": 38,
   "metadata": {},
   "outputs": [],
   "source": [
    "dhi_skills = open('keepwords/dhi_skills_complete.txt', 'r').read()\n",
    "dhi_skills = dhi_skills.replace(' ', '_').split('\\n')"
   ]
  },
  {
   "cell_type": "code",
   "execution_count": 39,
   "metadata": {},
   "outputs": [],
   "source": [
    "def skills_filter(text, keepwords, stopwords):\n",
    "    keeps = [word for word in text if word in keepwords]\n",
    "    filtered = [word for word in keeps if word not in stopwords]\n",
    "    return filtered"
   ]
  },
  {
   "cell_type": "code",
   "execution_count": 41,
   "metadata": {
    "scrolled": false
   },
   "outputs": [
    {
     "data": {
      "application/vnd.jupyter.widget-view+json": {
       "model_id": "34355c97e4124e6a91c9be56aacf3641",
       "version_major": 2,
       "version_minor": 0
      },
      "text/plain": [
       "  0%|          | 0/10439 [00:00<?, ?it/s]"
      ]
     },
     "metadata": {},
     "output_type": "display_data"
    }
   ],
   "source": [
    "df_lda_training['skills_only'] =df_lda_training.progress_apply(lambda x: skills_filter(x['n_grams'], dhi_skills, custom_stopwords), axis=1)"
   ]
  },
  {
   "cell_type": "markdown",
   "metadata": {},
   "source": [
    "### Create the list of keepwords for our model to retain"
   ]
  },
  {
   "cell_type": "code",
   "execution_count": 42,
   "metadata": {},
   "outputs": [],
   "source": [
    "dictionary_data = df_lda_training['skills_only'].explode()"
   ]
  },
  {
   "cell_type": "markdown",
   "metadata": {},
   "source": [
    "### Create the model Corpus, Dictionary, & Bag of Words"
   ]
  },
  {
   "cell_type": "code",
   "execution_count": 46,
   "metadata": {
    "scrolled": false
   },
   "outputs": [
    {
     "name": "stdout",
     "output_type": "stream",
     "text": [
      "Number of unique tokens: 2797\n",
      "Number of documents: 10439\n"
     ]
    }
   ],
   "source": [
    "data =df_lda_training['skills_only'].values\n",
    "id2word = corpora.Dictionary(data)\n",
    "id2word.filter_extremes(no_below=20, no_above=0.4, keep_tokens=dictionary_data.tolist())\n",
    "corpus = [id2word.doc2bow(doc) for doc in data]\n",
    "print(f'Number of unique tokens: {len(id2word)}')\n",
    "print(f'Number of documents: {len(corpus)}')"
   ]
  },
  {
   "cell_type": "markdown",
   "metadata": {},
   "source": [
    "### Optional Model instantiation and training (quick load below)\n",
    "_Key Parameters_:\n",
    "- __num_topics__: this is the _k_ value that can be optimized through maximizing coherence score, but it is ultimately based upon human intuition to interpret the topic results and see if there is a more appropriate number of topics to assign in the corpus\n",
    "- __alpha__: a hyperparameter that can be tuned as a regularlizing mechanism. More tune-able in the single-core version of this Gensim model: LdaModel. Something to be revisited when scaling up the model"
   ]
  },
  {
   "cell_type": "code",
   "execution_count": 47,
   "metadata": {},
   "outputs": [],
   "source": [
    "logging.basicConfig(filename='gensim.log',\n",
    "                    format=\"%(asctime)s:%(levelname)s:%(message)s\",\n",
    "                    level=logging.INFO)\n",
    "\n",
    "lda_model = LdaMulticore(corpus=corpus,\n",
    "                         id2word=id2word,\n",
    "                         num_topics=22, \n",
    "                         random_state=100,\n",
    "                         eval_every=1,\n",
    "                         chunksize=100,\n",
    "                         passes=20,\n",
    "                         alpha='symmetric',\n",
    "                         per_word_topics=True)"
   ]
  },
  {
   "cell_type": "markdown",
   "metadata": {},
   "source": [
    "#### Plot perplexity over model iterations\n",
    "perplexity is a metric used for topic model utility. Further investigation is requiured, but essentially, the lower the perplexity, the better.\n"
   ]
  },
  {
   "cell_type": "code",
   "execution_count": 48,
   "metadata": {},
   "outputs": [
    {
     "data": {
      "image/png": "[encoded data removed]",
      "text/plain": [
       "<Figure size 432x288 with 1 Axes>"
      ]
     },
     "metadata": {
      "needs_background": "light"
     },
     "output_type": "display_data"
    }
   ],
   "source": [
    "p = re.compile(\"(-*\\\\d+\\\\.\\\\d+) per-word .* (\\\\d+\\\\.\\\\d+) perplexity\")\n",
    "matches = [p.findall(l) for l in open('gensim.log')]\n",
    "matches = [m for m in matches if len(m) > 0]\n",
    "tuples = [t[0] for t in matches]\n",
    "perplexity = [float(t[1]) for t in tuples]\n",
    "liklihood = [float(t[0]) for t in tuples]\n",
    "iter = list(range(0,len(tuples)*10,10))\n",
    "plt.plot(iter,liklihood,c=\"black\")\n",
    "plt.ylabel(\"log likelihood\")\n",
    "plt.xlabel(\"iteration\")\n",
    "plt.title(\"Topic Model Convergence\")\n",
    "plt.grid()\n",
    "plt.savefig(\"convergence_likelihood.pdf\")"
   ]
  },
  {
   "cell_type": "markdown",
   "metadata": {},
   "source": [
    "#### model load & save helper functions"
   ]
  },
  {
   "cell_type": "code",
   "execution_count": 49,
   "metadata": {},
   "outputs": [],
   "source": [
    "def save_model(model, path):\n",
    "    temp_file = datapath(path)\n",
    "    model.save(temp_file)"
   ]
  },
  {
   "cell_type": "code",
   "execution_count": 50,
   "metadata": {},
   "outputs": [],
   "source": [
    "def load_model(path):\n",
    "    return joblib.load(path)"
   ]
  },
  {
   "cell_type": "code",
   "execution_count": 52,
   "metadata": {
    "scrolled": true
   },
   "outputs": [],
   "source": [
    "# # save_model(lda_model, '22_topics.model')\n",
    "lda_model = load_model(model)"
   ]
  },
  {
   "cell_type": "markdown",
   "metadata": {},
   "source": [
    "### Generate word scores for tokens in cleaned Job Descriptions"
   ]
  },
  {
   "cell_type": "code",
   "execution_count": 53,
   "metadata": {},
   "outputs": [],
   "source": [
    "def truncate(values):\n",
    "    \"\"\"\n",
    "    provides a more contextually useful likelihood score than including all the significant digits that \n",
    "    come with standard floats\n",
    "    \"\"\"\n",
    "    docs = {}\n",
    "    for v in values:\n",
    "        if v[1] > 1:\n",
    "            res = v[1] - (trunc(v[1] - 0))\n",
    "        else:\n",
    "            res = v[1]\n",
    "        docs[v[0]] = round(res, 7)\n",
    "    return docs"
   ]
  },
  {
   "cell_type": "code",
   "execution_count": 54,
   "metadata": {},
   "outputs": [],
   "source": [
    "def word_scores(docs, phi, dictionary):\n",
    "    \"\"\"\n",
    "    Each collection of tokens will have a topic likelihood score, and then each token will have a likelihood score \n",
    "    associated to those said topics. The output scores are a result of multiplying the probability of the document's \n",
    "    topic with the word's probability of being in the prevailingly likely topic. For example:\n",
    "\n",
    "    tokens = ['data', 'machine_learning', 'python', 'sql']\n",
    "    document_probs = {'topic1': .75, 'topic2': .25}\n",
    "    word_probs = {'data': {'topic1': .9, 'topic2': .1}, \n",
    "                  'machine_learning': {'topic1': .85, 'topic2': .15}, \n",
    "                  'python': {'topic1': .92, 'topic2': .08},\n",
    "                  'sql': {'topic1': .55, 'topic2': .45}}\n",
    "\n",
    "    result_scores = {'data': .9 * .75, 'machine_learning': .85 * .75, ...}\n",
    "    \"\"\"\n",
    "    scores = {}\n",
    "    for doc_topic, doc_topic_prob in docs.items():\n",
    "        for word_id, word_topic_prob in phi.items():\n",
    "            if doc_topic in word_topic_prob.keys():\n",
    "                scores[dictionary[word_id]] = word_topic_prob[doc_topic] * doc_topic_prob\n",
    "                \n",
    "    return scores"
   ]
  },
  {
   "cell_type": "code",
   "execution_count": 55,
   "metadata": {},
   "outputs": [],
   "source": [
    "def jd_word_scores(lda_model, dictionary, text, corpus):\n",
    "    \"\"\"\n",
    "    takes a collection of tokens from a processed job description and returns a list of said tokens with \n",
    "    their respective word likelihood scores, scorted in descending order by score\n",
    "    \"\"\"\n",
    "    bow = corpus[text.name]\n",
    "    doc_topics, _, phi_values = lda_model.get_document_topics(bow, per_word_topics=True)\n",
    "    docs = truncate(doc_topics)\n",
    "    phi = {}\n",
    "    \n",
    "    for k, v in dict(phi_values).items():\n",
    "        phi[k] = truncate(v)\n",
    "\n",
    "    scores = word_scores(docs, phi, dictionary)\n",
    "\n",
    "    return [sorted(doc_topics, key=lambda x: x[1], reverse=True), scores]"
   ]
  },
  {
   "cell_type": "code",
   "execution_count": 56,
   "metadata": {},
   "outputs": [
    {
     "data": {
      "application/vnd.jupyter.widget-view+json": {
       "model_id": "6d1543f2aea24ab39d9c0d9f9bed30fd",
       "version_major": 2,
       "version_minor": 0
      },
      "text/plain": [
       "  0%|          | 0/10439 [00:00<?, ?it/s]"
      ]
     },
     "metadata": {},
     "output_type": "display_data"
    }
   ],
   "source": [
    "df_lda_training[['topics', 'word_scores']] =df_lda_training.progress_apply(lambda x: jd_word_scores(lda_model, id2word, x, corpus), \n",
    "                                                                      axis=1,\n",
    "                                                                      result_type='expand')"
   ]
  },
  {
   "cell_type": "markdown",
   "metadata": {},
   "source": [
    "### Compute average word likelihood scores by job title"
   ]
  },
  {
   "cell_type": "code",
   "execution_count": 57,
   "metadata": {},
   "outputs": [],
   "source": [
    "def get_avg(word_scores):\n",
    "    \"\"\"\n",
    "    Calculates the aggregate word likelihoods by job title. This helps normalize differences in word scores for varying \n",
    "    job descriptions with the same job titles. Also, it helps compensate for sub-optimal number of topics chosen at \n",
    "    model training time.\n",
    "    \"\"\"\n",
    "    length = len(word_scores.values)\n",
    "    agg_dict = {}\n",
    "    \n",
    "    for i in word_scores.values:\n",
    "        for k, v in i.items():\n",
    "            if k not in agg_dict.keys():\n",
    "                agg_dict[k] = {'sum': v, 'count': 1}\n",
    "            else:\n",
    "                agg_dict[k] = {'sum': agg_dict[k]['sum'] + v, 'count': agg_dict[k]['count'] + 1}\n",
    "\n",
    "    for v in agg_dict.values():\n",
    "        v['avg'] = v['sum'] / length\n",
    "\n",
    "    res_dict = {}\n",
    "\n",
    "    for k, v in agg_dict.items():\n",
    "        res_dict[k] = v['avg']\n",
    "\n",
    "    scores = list(res_dict.values())\n",
    "    for k, v in res_dict.items():\n",
    "        res_dict[k] = {'avg_likelihood': v, 'percentile': percentileofscore(scores, v, kind='strict')}\n",
    "    \n",
    "    return res_dict"
   ]
  },
  {
   "cell_type": "code",
   "execution_count": 58,
   "metadata": {
    "scrolled": true
   },
   "outputs": [
    {
     "data": {
      "text/html": [
       "<div>\n",
       "<style scoped>\n",
       "    .dataframe tbody tr th:only-of-type {\n",
       "        vertical-align: middle;\n",
       "    }\n",
       "\n",
       "    .dataframe tbody tr th {\n",
       "        vertical-align: top;\n",
       "    }\n",
       "\n",
       "    .dataframe thead th {\n",
       "        text-align: right;\n",
       "    }\n",
       "</style>\n",
       "<table border=\"1\" class=\"dataframe\">\n",
       "  <thead>\n",
       "    <tr style=\"text-align: right;\">\n",
       "      <th></th>\n",
       "      <th>matching_column</th>\n",
       "      <th>word_scores</th>\n",
       "    </tr>\n",
       "  </thead>\n",
       "  <tbody>\n",
       "    <tr>\n",
       "      <th>15</th>\n",
       "      <td>desktop_support</td>\n",
       "      <td>{'communication': {'avg_likelihood': 0.0194215...</td>\n",
       "    </tr>\n",
       "    <tr>\n",
       "      <th>16</th>\n",
       "      <td>desktop_support_technician</td>\n",
       "      <td>{'communication': {'avg_likelihood': 0.0330580...</td>\n",
       "    </tr>\n",
       "    <tr>\n",
       "      <th>17</th>\n",
       "      <td>developer</td>\n",
       "      <td>{'communication': {'avg_likelihood': 0.0146666...</td>\n",
       "    </tr>\n",
       "    <tr>\n",
       "      <th>18</th>\n",
       "      <td>devops_engineer</td>\n",
       "      <td>{'data': {'avg_likelihood': 0.0132890651292236...</td>\n",
       "    </tr>\n",
       "    <tr>\n",
       "      <th>19</th>\n",
       "      <td>electrical_engineer</td>\n",
       "      <td>{'communication': {'avg_likelihood': 0.0309259...</td>\n",
       "    </tr>\n",
       "    <tr>\n",
       "      <th>20</th>\n",
       "      <td>engineering_technician</td>\n",
       "      <td>{'system': {'avg_likelihood': 0.02423819375658...</td>\n",
       "    </tr>\n",
       "    <tr>\n",
       "      <th>21</th>\n",
       "      <td>enterprise_architect</td>\n",
       "      <td>{'most': {'avg_likelihood': 0.0132142145718847...</td>\n",
       "    </tr>\n",
       "    <tr>\n",
       "      <th>22</th>\n",
       "      <td>etl_developer</td>\n",
       "      <td>{'asap': {'avg_likelihood': 0.0178314510144685...</td>\n",
       "    </tr>\n",
       "    <tr>\n",
       "      <th>23</th>\n",
       "      <td>full_stack_developer</td>\n",
       "      <td>{'salary': {'avg_likelihood': 0.01487499712789...</td>\n",
       "    </tr>\n",
       "    <tr>\n",
       "      <th>24</th>\n",
       "      <td>full_stack_java_developer</td>\n",
       "      <td>{'management': {'avg_likelihood': 0.0310469203...</td>\n",
       "    </tr>\n",
       "    <tr>\n",
       "      <th>25</th>\n",
       "      <td>ios_developer</td>\n",
       "      <td>{'most': {'avg_likelihood': 0.0108790185439024...</td>\n",
       "    </tr>\n",
       "    <tr>\n",
       "      <th>26</th>\n",
       "      <td>it_project_manager</td>\n",
       "      <td>{'science': {'avg_likelihood': 0.0124505991061...</td>\n",
       "    </tr>\n",
       "    <tr>\n",
       "      <th>27</th>\n",
       "      <td>java_architect</td>\n",
       "      <td>{'communication': {'avg_likelihood': 0.0290837...</td>\n",
       "    </tr>\n",
       "    <tr>\n",
       "      <th>28</th>\n",
       "      <td>java_developer</td>\n",
       "      <td>{'system': {'avg_likelihood': 0.03789304998303...</td>\n",
       "    </tr>\n",
       "    <tr>\n",
       "      <th>29</th>\n",
       "      <td>machine_learning_engineer</td>\n",
       "      <td>{'data': {'avg_likelihood': 0.1666732774663193...</td>\n",
       "    </tr>\n",
       "  </tbody>\n",
       "</table>\n",
       "</div>"
      ],
      "text/plain": [
       "               matching_column  \\\n",
       "15             desktop_support   \n",
       "16  desktop_support_technician   \n",
       "17                   developer   \n",
       "18             devops_engineer   \n",
       "19         electrical_engineer   \n",
       "20      engineering_technician   \n",
       "21        enterprise_architect   \n",
       "22               etl_developer   \n",
       "23        full_stack_developer   \n",
       "24   full_stack_java_developer   \n",
       "25               ios_developer   \n",
       "26          it_project_manager   \n",
       "27              java_architect   \n",
       "28              java_developer   \n",
       "29   machine_learning_engineer   \n",
       "\n",
       "                                          word_scores  \n",
       "15  {'communication': {'avg_likelihood': 0.0194215...  \n",
       "16  {'communication': {'avg_likelihood': 0.0330580...  \n",
       "17  {'communication': {'avg_likelihood': 0.0146666...  \n",
       "18  {'data': {'avg_likelihood': 0.0132890651292236...  \n",
       "19  {'communication': {'avg_likelihood': 0.0309259...  \n",
       "20  {'system': {'avg_likelihood': 0.02423819375658...  \n",
       "21  {'most': {'avg_likelihood': 0.0132142145718847...  \n",
       "22  {'asap': {'avg_likelihood': 0.0178314510144685...  \n",
       "23  {'salary': {'avg_likelihood': 0.01487499712789...  \n",
       "24  {'management': {'avg_likelihood': 0.0310469203...  \n",
       "25  {'most': {'avg_likelihood': 0.0108790185439024...  \n",
       "26  {'science': {'avg_likelihood': 0.0124505991061...  \n",
       "27  {'communication': {'avg_likelihood': 0.0290837...  \n",
       "28  {'system': {'avg_likelihood': 0.03789304998303...  \n",
       "29  {'data': {'avg_likelihood': 0.1666732774663193...  "
      ]
     },
     "execution_count": 58,
     "metadata": {},
     "output_type": "execute_result"
    }
   ],
   "source": [
    "df_grouped = pd.DataFrame(df_lda_training.groupby('matching_column')['word_scores'].agg(lambda x: get_avg(x))).reset_index()\n",
    "df_grouped.iloc[15:30]"
   ]
  },
  {
   "cell_type": "markdown",
   "metadata": {},
   "source": [
    "### Visualize initial results\n",
    "We can plot the top scoring skills and their respective likelihoods for each job title in a basic ordered histogram\n",
    "\n",
    "_Key Parameters:_\n",
    "\n",
    "-__top_n:__ default is 25 but will control how many skills are plotted\n",
    "\n",
    "To make a different sample selection, choose any of the valid job titles in \"matching_column\" in the grouped DF, and insert in place of \"python_developer\" in the cell that shows the first histogram below"
   ]
  },
  {
   "cell_type": "code",
   "execution_count": 59,
   "metadata": {},
   "outputs": [],
   "source": [
    "def plot_skill_dist(example, top_n=25, show_plot=False):\n",
    "    scores = example['word_scores'].values[0]\n",
    "    new_scores = {}\n",
    "    for k, v in scores.items():\n",
    "        new_scores[k] = v['avg_likelihood']\n",
    "    sort_scores = dict(sorted(new_scores.items(), key=itemgetter(1),reverse=True))\n",
    "    if show_plot:\n",
    "        fig, axs = plt.subplots(figsize = (20,10))\n",
    "        t = example['matching_column'].values[0]\n",
    "        title = f'Top {top_n} skills for {t}'\n",
    "        skills = list(sort_scores.keys())[:top_n]\n",
    "        likelihoods = list(sort_scores.values())[:top_n]\n",
    "        plt.bar(skills, likelihoods, align='center', alpha=0.5)\n",
    "        plt.xticks(skills, rotation=70)\n",
    "        plt.ylabel('Likelihood')\n",
    "        plt.title(title, size=20)\n",
    "        plt.tick_params(labelsize=14)\n",
    "        plt.show()\n",
    "    return sort_scores"
   ]
  },
  {
   "cell_type": "markdown",
   "metadata": {},
   "source": [
    "### Adjust for different titles by replacing \"python_developer\" with other titles that appear in the grouped table a couple of cells up"
   ]
  },
  {
   "cell_type": "code",
   "execution_count": 60,
   "metadata": {
    "scrolled": false
   },
   "outputs": [
    {
     "data": {
      "image/png": "[encoded data removed]",
      "text/plain": [
       "<Figure size 1440x720 with 1 Axes>"
      ]
     },
     "metadata": {
      "needs_background": "light"
     },
     "output_type": "display_data"
    }
   ],
   "source": [
    "row = df_grouped[df_grouped['matching_column'] == 'python_developer']\n",
    "\n",
    "sorted_python_skills = plot_skill_dist(row, top_n=50, show_plot=True)"
   ]
  },
  {
   "cell_type": "markdown",
   "metadata": {},
   "source": [
    "### Persist results"
   ]
  },
  {
   "cell_type": "code",
   "execution_count": 61,
   "metadata": {},
   "outputs": [],
   "source": [
    "def top_skills(d, percentile, perc=False):\n",
    "    word_scores = d['word_scores']\n",
    "    scores = {k: round(v['avg_likelihood'], 4) for k, v in word_scores.items()}\n",
    "    skills = dict(sorted(scores.items(), key=itemgetter(1), reverse=True))\n",
    "    limit = np.percentile(list(skills.values()), percentile)\n",
    "    top_skills = dict(filter(lambda x: x[1]>limit, skills.items())) \n",
    "    if perc:\n",
    "        skills = {k: round(v['percentile'], 2) for k, v in word_scores.items()}\n",
    "        top_skills = dict(filter(lambda x: x[1] > percentile/100, skills.items()))\n",
    "        top_skills = dict(sorted(top_skills.items(), key=itemgetter(1), reverse=True))\n",
    "    return top_skills"
   ]
  },
  {
   "cell_type": "code",
   "execution_count": 62,
   "metadata": {},
   "outputs": [
    {
     "data": {
      "text/html": [
       "<div>\n",
       "<style scoped>\n",
       "    .dataframe tbody tr th:only-of-type {\n",
       "        vertical-align: middle;\n",
       "    }\n",
       "\n",
       "    .dataframe tbody tr th {\n",
       "        vertical-align: top;\n",
       "    }\n",
       "\n",
       "    .dataframe thead th {\n",
       "        text-align: right;\n",
       "    }\n",
       "</style>\n",
       "<table border=\"1\" class=\"dataframe\">\n",
       "  <thead>\n",
       "    <tr style=\"text-align: right;\">\n",
       "      <th></th>\n",
       "      <th>job_title</th>\n",
       "      <th>word_scores</th>\n",
       "      <th>top_skills</th>\n",
       "      <th>top_skills_percentile</th>\n",
       "      <th>top_skills_count</th>\n",
       "    </tr>\n",
       "  </thead>\n",
       "  <tbody>\n",
       "    <tr>\n",
       "      <th>0</th>\n",
       "      <td>.net_developer</td>\n",
       "      <td>{'salary': {'avg_likelihood': 0.01392943943531...</td>\n",
       "      <td>{'.net': 0.2091, 'developer': 0.1958, 'sql': 0...</td>\n",
       "      <td>{'.net': 99.86, 'developer': 99.73, 'sql': 99....</td>\n",
       "      <td>37</td>\n",
       "    </tr>\n",
       "    <tr>\n",
       "      <th>1</th>\n",
       "      <td>account_manager</td>\n",
       "      <td>{'professional': {'avg_likelihood': 0.33752095...</td>\n",
       "      <td>{'communication': 0.6002, 'representative': 0....</td>\n",
       "      <td>{'communication': 99.31, 'representative': 98....</td>\n",
       "      <td>8</td>\n",
       "    </tr>\n",
       "    <tr>\n",
       "      <th>2</th>\n",
       "      <td>agile_coach</td>\n",
       "      <td>{'leadership': {'avg_likelihood': 0.0509262359...</td>\n",
       "      <td>{'scrum': 0.6012, 'scrum_master': 0.4846, 'saf...</td>\n",
       "      <td>{'scrum': 99.57, 'scrum_master': 99.14, 'safe'...</td>\n",
       "      <td>12</td>\n",
       "    </tr>\n",
       "    <tr>\n",
       "      <th>3</th>\n",
       "      <td>android_developer</td>\n",
       "      <td>{'data': {'avg_likelihood': 0.0823627634640180...</td>\n",
       "      <td>{'android': 0.5312, 'kotlin': 0.4162, 'develop...</td>\n",
       "      <td>{'android': 99.78, 'kotlin': 99.56, 'developer...</td>\n",
       "      <td>23</td>\n",
       "    </tr>\n",
       "    <tr>\n",
       "      <th>4</th>\n",
       "      <td>application_developer</td>\n",
       "      <td>{'data': {'avg_likelihood': 0.0176977626174460...</td>\n",
       "      <td>{'developer': 0.1864, 'java': 0.1474, 'sql': 0...</td>\n",
       "      <td>{'developer': 99.76, 'java': 99.53, 'sql': 99....</td>\n",
       "      <td>22</td>\n",
       "    </tr>\n",
       "  </tbody>\n",
       "</table>\n",
       "</div>"
      ],
      "text/plain": [
       "               job_title                                        word_scores  \\\n",
       "0         .net_developer  {'salary': {'avg_likelihood': 0.01392943943531...   \n",
       "1        account_manager  {'professional': {'avg_likelihood': 0.33752095...   \n",
       "2            agile_coach  {'leadership': {'avg_likelihood': 0.0509262359...   \n",
       "3      android_developer  {'data': {'avg_likelihood': 0.0823627634640180...   \n",
       "4  application_developer  {'data': {'avg_likelihood': 0.0176977626174460...   \n",
       "\n",
       "                                          top_skills  \\\n",
       "0  {'.net': 0.2091, 'developer': 0.1958, 'sql': 0...   \n",
       "1  {'communication': 0.6002, 'representative': 0....   \n",
       "2  {'scrum': 0.6012, 'scrum_master': 0.4846, 'saf...   \n",
       "3  {'android': 0.5312, 'kotlin': 0.4162, 'develop...   \n",
       "4  {'developer': 0.1864, 'java': 0.1474, 'sql': 0...   \n",
       "\n",
       "                               top_skills_percentile  top_skills_count  \n",
       "0  {'.net': 99.86, 'developer': 99.73, 'sql': 99....                37  \n",
       "1  {'communication': 99.31, 'representative': 98....                 8  \n",
       "2  {'scrum': 99.57, 'scrum_master': 99.14, 'safe'...                12  \n",
       "3  {'android': 99.78, 'kotlin': 99.56, 'developer...                23  \n",
       "4  {'developer': 99.76, 'java': 99.53, 'sql': 99....                22  "
      ]
     },
     "execution_count": 62,
     "metadata": {},
     "output_type": "execute_result"
    }
   ],
   "source": [
    "df_grouped['top_skills'] = df_grouped.apply(lambda x: top_skills(x, 95), axis=1)\n",
    "\n",
    "df_grouped['top_skills_percentile'] = df_grouped.apply(lambda x: top_skills(x, 95, perc=True), axis=1)\n",
    "\n",
    "df_grouped['top_skills_count'] = df_grouped.apply(lambda x: len(x['top_skills']), axis=1)\n",
    "\n",
    "df_grouped = df_grouped.rename(columns={'matching_column': 'job_title'})\n",
    "df_grouped.head()"
   ]
  },
  {
   "cell_type": "code",
   "execution_count": 63,
   "metadata": {},
   "outputs": [
    {
     "data": {
      "text/html": [
       "<div>\n",
       "<style scoped>\n",
       "    .dataframe tbody tr th:only-of-type {\n",
       "        vertical-align: middle;\n",
       "    }\n",
       "\n",
       "    .dataframe tbody tr th {\n",
       "        vertical-align: top;\n",
       "    }\n",
       "\n",
       "    .dataframe thead th {\n",
       "        text-align: right;\n",
       "    }\n",
       "</style>\n",
       "<table border=\"1\" class=\"dataframe\">\n",
       "  <thead>\n",
       "    <tr style=\"text-align: right;\">\n",
       "      <th></th>\n",
       "      <th>job_title</th>\n",
       "      <th>word_scores</th>\n",
       "      <th>top_skills</th>\n",
       "      <th>top_skills_percentile</th>\n",
       "      <th>top_skills_count</th>\n",
       "    </tr>\n",
       "  </thead>\n",
       "  <tbody>\n",
       "    <tr>\n",
       "      <th>0</th>\n",
       "      <td>.net_developer</td>\n",
       "      <td>{'salary': {'avg_likelihood': 0.01392943943531...</td>\n",
       "      <td>{'.net': 0.2091, 'developer': 0.1958, 'sql': 0...</td>\n",
       "      <td>{'.net': 99.86, 'developer': 99.73, 'sql': 99....</td>\n",
       "      <td>37</td>\n",
       "    </tr>\n",
       "    <tr>\n",
       "      <th>1</th>\n",
       "      <td>account_manager</td>\n",
       "      <td>{'professional': {'avg_likelihood': 0.33752095...</td>\n",
       "      <td>{'communication': 0.6002, 'representative': 0....</td>\n",
       "      <td>{'communication': 99.31, 'representative': 98....</td>\n",
       "      <td>8</td>\n",
       "    </tr>\n",
       "    <tr>\n",
       "      <th>2</th>\n",
       "      <td>agile_coach</td>\n",
       "      <td>{'leadership': {'avg_likelihood': 0.0509262359...</td>\n",
       "      <td>{'scrum': 0.6012, 'scrum_master': 0.4846, 'saf...</td>\n",
       "      <td>{'scrum': 99.57, 'scrum_master': 99.14, 'safe'...</td>\n",
       "      <td>12</td>\n",
       "    </tr>\n",
       "    <tr>\n",
       "      <th>3</th>\n",
       "      <td>android_developer</td>\n",
       "      <td>{'data': {'avg_likelihood': 0.0823627634640180...</td>\n",
       "      <td>{'android': 0.5312, 'kotlin': 0.4162, 'develop...</td>\n",
       "      <td>{'android': 99.78, 'kotlin': 99.56, 'developer...</td>\n",
       "      <td>23</td>\n",
       "    </tr>\n",
       "    <tr>\n",
       "      <th>4</th>\n",
       "      <td>application_developer</td>\n",
       "      <td>{'data': {'avg_likelihood': 0.0176977626174460...</td>\n",
       "      <td>{'developer': 0.1864, 'java': 0.1474, 'sql': 0...</td>\n",
       "      <td>{'developer': 99.76, 'java': 99.53, 'sql': 99....</td>\n",
       "      <td>22</td>\n",
       "    </tr>\n",
       "  </tbody>\n",
       "</table>\n",
       "</div>"
      ],
      "text/plain": [
       "               job_title                                        word_scores  \\\n",
       "0         .net_developer  {'salary': {'avg_likelihood': 0.01392943943531...   \n",
       "1        account_manager  {'professional': {'avg_likelihood': 0.33752095...   \n",
       "2            agile_coach  {'leadership': {'avg_likelihood': 0.0509262359...   \n",
       "3      android_developer  {'data': {'avg_likelihood': 0.0823627634640180...   \n",
       "4  application_developer  {'data': {'avg_likelihood': 0.0176977626174460...   \n",
       "\n",
       "                                          top_skills  \\\n",
       "0  {'.net': 0.2091, 'developer': 0.1958, 'sql': 0...   \n",
       "1  {'communication': 0.6002, 'representative': 0....   \n",
       "2  {'scrum': 0.6012, 'scrum_master': 0.4846, 'saf...   \n",
       "3  {'android': 0.5312, 'kotlin': 0.4162, 'develop...   \n",
       "4  {'developer': 0.1864, 'java': 0.1474, 'sql': 0...   \n",
       "\n",
       "                               top_skills_percentile  top_skills_count  \n",
       "0  {'.net': 99.86, 'developer': 99.73, 'sql': 99....                37  \n",
       "1  {'communication': 99.31, 'representative': 98....                 8  \n",
       "2  {'scrum': 99.57, 'scrum_master': 99.14, 'safe'...                12  \n",
       "3  {'android': 99.78, 'kotlin': 99.56, 'developer...                23  \n",
       "4  {'developer': 99.76, 'java': 99.53, 'sql': 99....                22  "
      ]
     },
     "execution_count": 63,
     "metadata": {},
     "output_type": "execute_result"
    }
   ],
   "source": [
    "df_grouped['top_skills_percentile'] = df_grouped.apply(lambda x: top_skills(x, 95, perc=True), axis=1)\n",
    "df_grouped['top_skills_count'] = df_grouped.apply(lambda x: len(x['top_skills']), axis=1)\n",
    "df_grouped = df_grouped.rename(columns={'matching_column': 'job_title'})\n",
    "df_grouped.head()"
   ]
  },
  {
   "cell_type": "code",
   "execution_count": 64,
   "metadata": {},
   "outputs": [],
   "source": [
    "df_grouped['word_scores'] = df_grouped['word_scores'].astype('str')\n",
    "df_grouped['word_scores'] = df_grouped['top_skills'].astype('str')\n",
    "df_grouped['word_scores'] = df_grouped['top_skills_percentile'].astype('str')"
   ]
  },
  {
   "cell_type": "code",
   "execution_count": 65,
   "metadata": {},
   "outputs": [],
   "source": [
    "df_grouped.to_csv('data/top_skills_by_job_title_percentiles.csv', index=False)"
   ]
  },
  {
   "cell_type": "markdown",
   "metadata": {},
   "source": [
    "### Additional Model Evaluation & Visualization\n",
    "As mentioned in the spike report, more work needs to be done to build a thorough strategy on model evaluation and performance. Given that this is a generative statistical model (unsupervised), there is no error to minimize, but only some metrics like __perplexity__ and __coherence__ that can give us some sense of comparison between models.\n",
    "\n",
    "For perplexity, the lower the score, the better the model. The opposite is true for coherence."
   ]
  },
  {
   "cell_type": "code",
   "execution_count": 66,
   "metadata": {},
   "outputs": [],
   "source": [
    "def get_top_topic(row):\n",
    "    return max(row['topics'], key=itemgetter(1))[0]"
   ]
  },
  {
   "cell_type": "code",
   "execution_count": 67,
   "metadata": {},
   "outputs": [],
   "source": [
    "df_lda_training['top_topic'] =df_lda_training.apply(get_top_topic, axis=1)"
   ]
  },
  {
   "cell_type": "code",
   "execution_count": 68,
   "metadata": {
    "scrolled": true
   },
   "outputs": [
    {
     "name": "stdout",
     "output_type": "stream",
     "text": [
      "\n",
      "Perplexity:  -5.352781662292625\n",
      "\n",
      "Coherence Score:  0.5530641197342129\n"
     ]
    }
   ],
   "source": [
    "# Compute Perplexity\n",
    "print('\\nPerplexity: ', lda_model.log_perplexity(corpus))\n",
    "\n",
    "# Compute Coherence Score\n",
    "coherence_model_lda = CoherenceModel(model=lda_model, texts=data, dictionary=id2word, coherence='c_v')\n",
    "coherence_lda = coherence_model_lda.get_coherence()\n",
    "print('\\nCoherence Score: ', coherence_lda)"
   ]
  },
  {
   "cell_type": "markdown",
   "metadata": {},
   "source": [
    "### Topic Visualization\n",
    "with dimensionality reduction, we can see a simplified version of the topic space. It is an interactive tool, so feel free to play around with the UI\n",
    "\n",
    "The Intertopic Distance Map shows the semantic relationships between topics. If you click on one of the blobs, you'll see the associated words for that topic number on the right. The relevance metric can be adjusted as well to see what word associations are brought up at different thresholds of relevance. More information on this lambda parameter can be found at the below resources (original white paper).\n",
    "\n",
    "You can also click on the words on the right to see the topics in which they appear and with what degree of frequency.\n",
    "\n",
    "It should be noted that these topics are not in perfect alignment with what a naive expectation might be for the original number of job titles, which was 67. At the time of this experiment, very little job title normalization (just some seniority fixing) was inorporated into the pre-processing, so there is a massive cardinality of job titles (apprx 40k). I only took the titles that had direct matches with what we have in our knowledge graph, which is also missing some key titles.\n",
    "\n",
    "#### Resources:\n",
    "- [general usage tips & link to white paper](https://github.com/bmabey/pyLDAvis#usage)\n",
    "- [helpful video in describing use of the tool](https://www.youtube.com/watch?v=IksL96ls4o0&ab_channel=PyData)"
   ]
  },
  {
   "cell_type": "code",
   "execution_count": 69,
   "metadata": {},
   "outputs": [],
   "source": [
    "import warnings\n",
    "warnings.filterwarnings('ignore')"
   ]
  },
  {
   "cell_type": "code",
   "execution_count": 70,
   "metadata": {
    "scrolled": false
   },
   "outputs": [
    {
     "name": "stderr",
     "output_type": "stream",
     "text": [
      "/Users/tom.mctavish/Library/Caches/pypoetry/virtualenvs/match-2141-LieH_8B5-py3.9/lib/python3.9/site-packages/past/builtins/misc.py:45: DeprecationWarning: the imp module is deprecated in favour of importlib; see the module's documentation for alternative uses\n",
      "  from imp import reload\n",
      "/Users/tom.mctavish/Library/Caches/pypoetry/virtualenvs/match-2141-LieH_8B5-py3.9/lib/python3.9/site-packages/past/builtins/misc.py:45: DeprecationWarning: the imp module is deprecated in favour of importlib; see the module's documentation for alternative uses\n",
      "  from imp import reload\n",
      "/Users/tom.mctavish/Library/Caches/pypoetry/virtualenvs/match-2141-LieH_8B5-py3.9/lib/python3.9/site-packages/past/builtins/misc.py:45: DeprecationWarning: the imp module is deprecated in favour of importlib; see the module's documentation for alternative uses\n",
      "  from imp import reload\n",
      "/Users/tom.mctavish/Library/Caches/pypoetry/virtualenvs/match-2141-LieH_8B5-py3.9/lib/python3.9/site-packages/past/builtins/misc.py:45: DeprecationWarning: the imp module is deprecated in favour of importlib; see the module's documentation for alternative uses\n",
      "  from imp import reload\n",
      "/Users/tom.mctavish/Library/Caches/pypoetry/virtualenvs/match-2141-LieH_8B5-py3.9/lib/python3.9/site-packages/past/builtins/misc.py:45: DeprecationWarning: the imp module is deprecated in favour of importlib; see the module's documentation for alternative uses\n",
      "  from imp import reload\n",
      "/Users/tom.mctavish/Library/Caches/pypoetry/virtualenvs/match-2141-LieH_8B5-py3.9/lib/python3.9/site-packages/past/builtins/misc.py:45: DeprecationWarning: the imp module is deprecated in favour of importlib; see the module's documentation for alternative uses\n",
      "  from imp import reload\n",
      "/Users/tom.mctavish/Library/Caches/pypoetry/virtualenvs/match-2141-LieH_8B5-py3.9/lib/python3.9/site-packages/past/builtins/misc.py:45: DeprecationWarning: the imp module is deprecated in favour of importlib; see the module's documentation for alternative uses\n",
      "  from imp import reload\n",
      "/Users/tom.mctavish/Library/Caches/pypoetry/virtualenvs/match-2141-LieH_8B5-py3.9/lib/python3.9/site-packages/past/builtins/misc.py:45: DeprecationWarning: the imp module is deprecated in favour of importlib; see the module's documentation for alternative uses\n",
      "  from imp import reload\n",
      "/Users/tom.mctavish/Library/Caches/pypoetry/virtualenvs/match-2141-LieH_8B5-py3.9/lib/python3.9/site-packages/pandas/compat/__init__.py:124: UserWarning: Could not import the lzma module. Your installed Python is incomplete. Attempting to use lzma compression will result in a RuntimeError.\n",
      "  warnings.warn(msg)\n",
      "/Users/tom.mctavish/Library/Caches/pypoetry/virtualenvs/match-2141-LieH_8B5-py3.9/lib/python3.9/site-packages/pandas/compat/__init__.py:124: UserWarning: Could not import the lzma module. Your installed Python is incomplete. Attempting to use lzma compression will result in a RuntimeError.\n",
      "  warnings.warn(msg)\n",
      "/Users/tom.mctavish/Library/Caches/pypoetry/virtualenvs/match-2141-LieH_8B5-py3.9/lib/python3.9/site-packages/pandas/compat/__init__.py:124: UserWarning: Could not import the lzma module. Your installed Python is incomplete. Attempting to use lzma compression will result in a RuntimeError.\n",
      "  warnings.warn(msg)\n",
      "/Users/tom.mctavish/Library/Caches/pypoetry/virtualenvs/match-2141-LieH_8B5-py3.9/lib/python3.9/site-packages/pandas/compat/__init__.py:124: UserWarning: Could not import the lzma module. Your installed Python is incomplete. Attempting to use lzma compression will result in a RuntimeError.\n",
      "  warnings.warn(msg)\n",
      "/Users/tom.mctavish/Library/Caches/pypoetry/virtualenvs/match-2141-LieH_8B5-py3.9/lib/python3.9/site-packages/pandas/compat/__init__.py:124: UserWarning: Could not import the lzma module. Your installed Python is incomplete. Attempting to use lzma compression will result in a RuntimeError.\n",
      "  warnings.warn(msg)\n",
      "/Users/tom.mctavish/Library/Caches/pypoetry/virtualenvs/match-2141-LieH_8B5-py3.9/lib/python3.9/site-packages/pandas/compat/__init__.py:124: UserWarning: Could not import the lzma module. Your installed Python is incomplete. Attempting to use lzma compression will result in a RuntimeError.\n",
      "  warnings.warn(msg)\n",
      "/Users/tom.mctavish/Library/Caches/pypoetry/virtualenvs/match-2141-LieH_8B5-py3.9/lib/python3.9/site-packages/pandas/compat/__init__.py:124: UserWarning: Could not import the lzma module. Your installed Python is incomplete. Attempting to use lzma compression will result in a RuntimeError.\n",
      "  warnings.warn(msg)\n",
      "/Users/tom.mctavish/Library/Caches/pypoetry/virtualenvs/match-2141-LieH_8B5-py3.9/lib/python3.9/site-packages/pandas/compat/__init__.py:124: UserWarning: Could not import the lzma module. Your installed Python is incomplete. Attempting to use lzma compression will result in a RuntimeError.\n",
      "  warnings.warn(msg)\n"
     ]
    },
    {
     "data": {
      "text/html": [
       "\n",
       "<link rel=\"stylesheet\" type=\"text/css\" href=\"https://cdn.jsdelivr.net/gh/bmabey/pyLDAvis@3.3.1/pyLDAvis/js/ldavis.v1.0.0.css\">\n",
       "\n",
       "\n",
       "<div id=\"ldavis_el1046458835372163819546381\"></div>\n",
       "<script type=\"text/javascript\">\n",
       "\n",
       "var ldavis_el1046458835372163819546381_data = {\"mdsDat\": {\"x\": [-0.06460516453640291, -0.2335157820747617, -0.1901515945390188, 0.11956711763634688, 0.04207328403724579, -0.10214541036269062, 0.1328359672828185, -0.17247215769218555, -0.061147453320439686, 0.0028709080976358067, 0.13013300101377168, 0.04578685183399086, 0.21681427922612717, -0.08931269564726993, -0.09793702706157587, 0.15123753399001713, -0.011269800636836861, 0.021534499102709475, -0.16953656090719385, 0.21601528091352346, 0.016967113435088586, 0.09625781020909985], \"y\": [-0.09999720290095955, -0.12314461243021294, 0.04986169277259017, 0.17391480389530686, -0.04034008761047417, -0.1298750683944402, -0.01884565900548733, 0.12065348357355675, 0.01438704783598023, 0.12175452733108234, -0.08898140401964635, -0.18754621177697664, -0.16682696309660047, 0.03806519065264002, -0.08537126761802462, -0.02205220290772414, -0.0614388713697784, 0.22041460377542788, -0.009372050915041237, 0.02478630652374922, 0.22590415029674485, 0.044049795388286635], \"topics\": [1, 2, 3, 4, 5, 6, 7, 8, 9, 10, 11, 12, 13, 14, 15, 16, 17, 18, 19, 20, 21, 22], \"cluster\": [1, 1, 1, 1, 1, 1, 1, 1, 1, 1, 1, 1, 1, 1, 1, 1, 1, 1, 1, 1, 1, 1], \"Freq\": [9.600464828554193, 9.519517001153176, 7.885230718220286, 7.483294728816803, 5.724061512827114, 5.635061841411304, 5.404606259781377, 5.170875808494981, 4.665731971025249, 4.515202687538341, 4.190288568729621, 4.0595333101388515, 4.05169671628732, 3.806005617135613, 3.007513639463691, 2.9110199652184487, 2.7468732537635567, 2.6154202320120867, 2.192345167702465, 2.0801633523355805, 1.661669269955806, 1.0734235494341327]}, \"tinfo\": {\"Term\": [\"data\", \"system\", \"network\", \"java\", \"security\", \"design\", \"cloud\", \"agile\", \"scrum\", \"developer\", \"management\", \"engineering\", \"automation\", \"manager\", \"law\", \"architecture\", \"analyst\", \"engineer\", \"apex\", \"insurance\", \"salesforce\", \"software\", \"information_technology\", \"testing\", \"salary\", \"sql\", \"mobile\", \"research\", \"infrastructure\", \"spring\", \"terraform\", \"ansible\", \"bash\", \"puppet\", \"chef\", \"grafana\", \"bamboo\", \"django\", \"dynatrace\", \"kibana\", \"foundry\", \"hybrid_cloud\", \"golang\", \"nginx\", \"linux_administration\", \"google_cloud\", \"private_cloud\", \"yaml\", \"ubuntu\", \"cloud_foundry\", \"orchestration\", \"openshift\", \"sdn\", \"docker\", \"couchbase\", \"flask\", \"waf\", \"radius\", \"cdp\", \"oss\", \"low_latency\", \"tenant\", \"ruby\", \"redis\", \"perl\", \"scripting_language\", \"provisioning\", \"scripting\", \"cloud\", \"splunk\", \"google\", \"shell\", \"linux\", \"infrastructure\", \"configuration_management\", \"python\", \"unix\", \"automation\", \"engineer\", \"monitoring\", \"git\", \"production\", \"continuous_integration\", \"continuous_delivery\", \"configuration\", \"engineering\", \"software\", \"system\", \"design\", \"management\", \"senior\", \"security\", \"integration\", \"science\", \"architecture\", \"computer\", \"spring\", \"hibernate\", \"html5\", \"web_api\", \"spring_framework\", \"mvc\", \"entity_framework\", \"vue\", \"jms\", \"jquery\", \"mockito\", \"xslt\", \"mvc_framework\", \"ajax\", \"xpath\", \"css\", \"xquery\", \"restful\", \"concurrency\", \"firebase\", \"soa\", \"java\", \"oauth\", \"fiddler\", \"swagger\", \"html\", \"wordpress\", \"dart\", \"rpc\", \"uxd\", \"soap\", \"eclipse\", \"xml\", \"junit\", \"json\", \"api\", \"javascript\", \"framework\", \"developer\", \"apis\", \"oracle\", \"git\", \"sql\", \"database\", \"programming\", \"ui\", \"design\", \"software\", \"agile\", \"c\", \"integration\", \"architecture\", \".net\", \"testing\", \"communication\", \"senior\", \"warehouse\", \"data_warehouse\", \"data_warehousing\", \"etl\", \"informatica\", \"visualforce\", \"jboss\", \"teradata\", \"elt\", \"dba\", \"erwin\", \"talend\", \"data_dictionary\", \"pivot_table\", \"cognos\", \"dimensional_modeling\", \"ado\", \"netezza\", \"olap\", \"normalization\", \"apache_airflow\", \"ibm_db2\", \"oltp\", \"failover\", \"fbi\", \"csv\", \"oracle_dba\", \"data_profiling\", \"mpp\", \"bpmn\", \"data_extraction\", \"flowchart\", \"data_modeling\", \"alteryx\", \"oracle_database\", \"data\", \"bi\", \"business_intelligence\", \"database\", \"sql\", \"reporting\", \"modeling\", \"emr\", \"oracle\", \"streaming\", \"big_data\", \"extraction\", \"oracle_sql\", \"dashboard\", \"scala\", \"python\", \"engineer\", \"tableau\", \"design\", \"management\", \"transformation\", \"integration\", \"programming\", \"procedure\", \"analyst\", \"system\", \"engineering\", \"implementation\", \"senior\", \"developer\", \"workday\", \"spanish\", \"usd\", \"delegation\", \"bilingual\", \"payroll\", \"cpa\", \"plm\", \"platinum\", \"budget\", \"scp\", \"strategic_thinking\", \"message_broker\", \"concur\", \"editorial\", \"com\", \"netsuite\", \"bmc\", \"manager\", \"ott\", \"gsa\", \"online_training\", \"scheme\", \"conflict_resolution\", \"rcm\", \"jython\", \"strategic_planning\", \"recruiting\", \"b2c\", \"camtasia\", \"permanent_placement\", \"waterfall\", \"recruitment\", \"management\", \"onboarding\", \"billing\", \"slack\", \"escalation\", \"hiring\", \"information_technology\", \"exceed\", \"leadership\", \"finance\", \"partnership\", \"planning\", \"communication\", \"strategy\", \"level\", \"senior\", \"legal\", \"impact\", \"implementation\", \"professional\", \"consulting\", \"focus\", \"education\", \"accounting\", \"reporting\", \"go\", \"act\", \"email\", \"microsoft\", \"collaboration\", \"software\", \"agile\", \"infrastructure\", \"bootstrap\", \"csm\", \"regression_testing\", \"process_flow\", \"jad\", \"drupal\", \"code_coverage\", \"uft\", \"classroom\", \"xsd\", \"brainstorming\", \"spin\", \"credit_risk\", \"gap_analysis\", \"interviewing\", \"public_speaking\", \"lean_startup\", \"cmm\", \"vss\", \"sdm\", \"csp\", \"analyst\", \"cpt\", \"pmm\", \"pcr\", \"cra\", \"relationship_building\", \"w3c\", \"maximo\", \"shipping\", \"htc\", \"outsourcing\", \"translation\", \"mapping\", \"projection\", \"specification\", \"documentation\", \"business_owner\", \"gap\", \"writing\", \"technical_writing\", \"sdlc\", \"information_technology\", \"accounting\", \"workflow\", \"testing\", \"system\", \"material\", \"process_improvement\", \"communication\", \"implementation\", \"training\", \"procedure\", \"impact\", \"exist\", \"software\", \"design\", \"level\", \"senior\", \"production\", \"microsoft\", \"management\", \"data\", \"developer\", \"education\", \"agile\", \"salesforce\", \"orm\", \"wcf\", \"hit\", \"sass\", \"customization\", \"medicaid\", \"visual_basic\", \"wpf\", \"gui\", \"bpm\", \"microsoft_visual_studio\", \"razor\", \"openstack\", \"ood\", \"emotional_intelligence\", \"extranet\", \"typescript\", \"atl\", \"ecmascript\", \"laravel\", \"csc\", \"wcag\", \"podcast\", \"crm\", \"hydraulics\", \"oops\", \"microsoft_sql_server\", \"computer_hardware\", \"dfm\", \"revision_control\", \".net\", \"jersey\", \"developer\", \"erp\", \"software\", \"c\", \"programming\", \"redux\", \"code_review\", \"design\", \"integration\", \"microsoft\", \"computer\", \"workflow\", \"sql\", \"testing\", \"exist\", \"implementation\", \"computer_science\", \"database\", \"configuration\", \"system\", \"science\", \"education\", \"level\", \"agile\", \"communication\", \"professional\", \"cloud\", \"management\", \"production\", \"documentation\", \"laptop\", \"federal_government\", \"sop\", \"pmo\", \"spacecraft\", \"radar\", \"oms\", \"curriculum\", \"cis\", \"cbp\", \"checkpoint\", \"pms\", \"signal_processing\", \"calibration\", \"licensing\", \"site_survey\", \"sd\", \"rad\", \"residential\", \"wireless_lan\", \"internal_audit\", \"feasibility_study\", \"innovative_thinking\", \"gxp\", \"bid\", \"cbap\", \"ppt\", \"procurement\", \"filing\", \"sda\", \"risk_mitigation\", \"rfi\", \"satellite\", \"pmp\", \"change_control\", \"radio\", \"sla\", \"sow\", \"government\", \"training\", \"geospatial\", \"provision\", \"management\", \"procedure\", \"documentation\", \"evaluation\", \"system\", \"interpersonal_skill\", \"microsoft_office\", \"configuration\", \"governance\", \"level\", \"communication\", \"education\", \"process_improvement\", \"computer\", \"risk_management\", \"professional\", \"scheduling\", \"implementation\", \"science\", \"software\", \"planning\", \"engineering\", \"computer_science\", \"leadership\", \"exist\", \"installation\", \"compliance\", \"microsoft\", \"workflow\", \"design\", \"information_technology\", \"data\", \"focus\", \"data_science\", \"scientist\", \"deep_learning\", \"mathematics\", \"natural_language\", \"statistical_modeling\", \"looker\", \"microsoft_exchange\", \"numpy\", \"microsoft_power_bi\", \"natural_language_processing\", \"probability\", \"jupyter\", \"spss\", \"experimental_design\", \"tensorflow\", \"time_series\", \"image_processing\", \"matplotlib\", \"torch\", \"keras\", \"plotly\", \"machine_learning\", \"algebra\", \"data_visualization\", \"cnn\", \"logistic_regression\", \"epidemiology\", \"predictive_modeling\", \"linc\", \"r\", \"visualization\", \"py\", \"data_mining\", \"artificial_intelligence\", \"tableau\", \"data_collection\", \"big_data\", \"data\", \"science\", \"python\", \"sas\", \"scala\", \"natural\", \"computer_science\", \"computer\", \"modeling\", \"classification\", \"dashboard\", \"engineering\", \"bi\", \"sql\", \"programming\", \"research\", \"analyst\", \"engineer\", \"communication\", \"software\", \"focus\", \"senior\", \"professional\", \"design\", \"iaas\", \"real_estate\", \"fiserv\", \"asp\", \"cio\", \"acs\", \"commercial_real_estate\", \"treasury\", \"federation\", \"wave\", \"cto\", \"ebs\", \"da\", \"daas\", \"google_analytics\", \"chaos\", \"archiving\", \"istqb\", \"cobit\", \"cognitive_science\", \"war\", \"smb\", \"oidc\", \"financing\", \"clinical_research\", \"dax\", \"hl7\", \"centricity\", \"blueprint\", \"rbac\", \"paas\", \"sam\", \"architecture\", \"mortgage\", \"governance\", \"cloud\", \"strategy\", \"migration\", \"digital_transformation\", \"transformation\", \"pivotal\", \"information_technology\", \"design\", \"innovation\", \"leadership\", \"implementation\", \"data\", \"infrastructure\", \"data_center\", \"banking\", \"integration\", \"compliance\", \"saas\", \"management\", \"security\", \"framework\", \"professional\", \"consulting\", \"engineering\", \"focus\", \"microsoft\", \"level\", \"system\", \"api\", \"most\", \"scrum\", \"scrum_master\", \"sprint\", \"kanban\", \"atm\", \"fluent_english\", \"product_owner\", \"mortgage_servicing\", \"cspo\", \"ppm\", \"websocket\", \"po\", \"coaching\", \"press_release\", \"safe\", \"activex\", \"epic\", \"dhtml\", \"cue\", \"agile\", \"applets\", \"corba\", \"dcom\", \"isapi\", \"spc\", \"cadence\", \"confluence\", \"svg\", \"mentoring\", \"jira\", \"facilitation\", \"continuous_improvement\", \"planning\", \"art\", \"inspect\", \"collaboration\", \"iterative\", \"pmp\", \"leadership\", \"framework\", \"software\", \"level\", \"communication\", \"transformation\", \"management\", \"focus\", \"education\", \"training\", \"science\", \"manager\", \"integration\", \"computer_science\", \"computer\", \"engineering\", \"wan\", \"routing\", \"ccnp\", \"ospf\", \"mpls\", \"lan\", \"ipsec\", \"eigrp\", \"qos\", \"meraki\", \"ise\", \"voip\", \"cisco\", \"firewalls\", \"fortinet\", \"ipv6\", \"multicast\", \"linq\", \"udp\", \"loss_prevention\", \"palo_alto\", \"data_loss_prevention\", \"osi\", \"acl\", \"internet_protocol\", \"fiber_channel\", \"ip\", \"tandem\", \"tls\", \"vpn\", \"firewall\", \"tcp\", \"vlan\", \"network\", \"nac\", \"ethernet\", \"wide_area_network\", \"dns\", \"networking\", \"remote_access\", \"dhcp\", \"internet\", \"engineer\", \"infrastructure\", \"configuration\", \"security\", \"design\", \"hardware\", \"implementation\", \"communication\", \"monitoring\", \"installation\", \"data\", \"management\", \"level\", \"engineering\", \"mainframe\", \"cobol\", \"cic\", \"intelligence_community\", \"ftp\", \"cellular\", \"jcl\", \"vsam\", \"aircraft\", \"tso\", \"mvs\", \"mda\", \"active_dod_secret_clearance\", \"ispf\", \"ibm_mainframe\", \"schematic_capture\", \"sbc\", \"moq\", \"endevor\", \"ocean\", \"changeman\", \"qmf\", \"xilinx\", \"fea\", \"spectrum_analyzer\", \"emi\", \"soldering\", \"metallurgy\", \"pid\", \"secretary\", \"navy\", \"maritime\", \"system\", \"edi\", \"dod\", \"engineering\", \"simulation\", \"integration\", \"reverse_engineering\", \"engineer\", \"evaluation\", \"acquisition\", \"matlab\", \"design\", \"hardware\", \"specification\", \"exist\", \"level\", \"software\", \"architecture\", \"government\", \"transformation\", \"science\", \"senior\", \"modeling\", \"procedure\", \"education\", \"testing\", \"planning\", \"implementation\", \"documentation\", \"communication\", \"salary\", \"data\", \"research\", \"active_directory\", \"backup\", \"citrix\", \"asa\", \"xen\", \"ldap\", \"business_continuity\", \"aruba\", \"vdi\", \"ipv4\", \"cisco_asa\", \"av\", \"cisco_nexus\", \"vmware\", \"itil_v3\", \"ips\", \"virtual_server\", \"intrusion_detection\", \"osi_model\", \"veeam\", \"recovery\", \"disaster_recovery\", \"thin_client\", \"wap\", \"help_desk\", \"backup_exec\", \"noc\", \"pix\", \"administrator\", \"cctv\", \"virtualization\", \"administration\", \"storage\", \"microsoft\", \"installation\", \"hardware\", \"system\", \"capacity_planning\", \"dns\", \"configuration\", \"infrastructure\", \"information_technology\", \"linux\", \"network\", \"san\", \"troubleshooting\", \"itil\", \"computer\", \"software\", \"procedure\", \"management\", \"documentation\", \"security\", \"shell\", \"level\", \"database\", \"ux\", \"user_research\", \"adobe\", \"strategic_consulting\", \"visual_design\", \"design_thinking\", \"usability_testing\", \"market_research\", \"storyboard\", \"actimize\", \"psychology\", \"supply_chain_optimization\", \"scada\", \"grunt\", \"sketch\", \"wireframe\", \"valuation\", \"teaching\", \"commercialization\", \"windchill\", \"financial_forecasting\", \"eagle\", \"front_end_development\", \"sei\", \"seo\", \"macros\", \"personas\", \"balsamiq\", \"cost_estimation\", \"bt\", \"usability\", \"spa\", \"research\", \"value_proposition\", \"ideation\", \"benchmarking\", \"strategist\", \"entertainment\", \"design\", \"consulting\", \"ui\", \"accessibility\", \"innovation\", \"reach\", \"optimization\", \"affirmative_action\", \"idea\", \"strategy\", \"nice\", \"user_interface\", \"impact\", \"testing\", \"risk_management\", \"mobile\", \"focus\", \"agile\", \"manager\", \"senior\", \"management\", \"level\", \"collaboration\", \"communication\", \"software\", \"science\", \"data\", \"cgi\", \"selenium\", \"test_automation\", \"qa_automation\", \"bdd\", \"cucumber\", \"jasmine\", \"appium\", \"protractor\", \"sscp\", \"gsec\", \"spring_batch\", \"hypervisor\", \"ccna_security\", \"nunit\", \"ioc\", \"msi\", \"ooad\", \"wsdl\", \"quartz\", \"vtc\", \"manual_testing\", \"pervasive\", \"automation_anywhere\", \"rfq\", \"jstl\", \"quicken\", \"jdbc\", \"gherkin\", \"ios\", \"automated_testing\", \"qa\", \"automation\", \"jsp\", \"investigation\", \"spring_mvc\", \"testing\", \"postman\", \"military\", \"email\", \"quality_assurance\", \"digital_transformation\", \"professional\", \"framework\", \"software\", \"engineer\", \"government\", \"continuous_integration\", \"integration\", \"compliance\", \"api\", \"c\", \"java\", \"agile\", \"strategy\", \"design\", \"security\", \"communication\", \"cyber_security\", \"cissp\", \"army\", \"nist\", \"mcsa\", \"nuclear\", \"pki\", \"information_assurance\", \"isr\", \"cisa\", \"mta\", \"broadband\", \"security_awareness\", \"cip\", \"rmf\", \"security+\", \"security_audits\", \"hpc\", \"nerc\", \"talent_acquisition\", \"continuous_monitoring\", \"reconnaissance\", \"vmware_esx\", \"red_hat_linux\", \"nessus\", \"isp\", \"gpo\", \"google_earth\", \"nas\", \"symantec\", \"national_security\", \"security_clearance\", \"air_force\", \"security\", \"top_secret\", \"auditing\", \"contingency_plan\", \"mcse\", \"hipaa\", \"sec\", \"poc\", \"incident_response\", \"authentication\", \"data_center\", \"privacy\", \"dod\", \"remediation\", \"stig\", \"compliance\", \"pci\", \"government\", \"network\", \"acquisition\", \"management\", \"information_technology\", \"investigation\", \"system\", \"training\", \"professional\", \"safe\", \"engineer\", \"level\", \"engineering\", \"testing\", \"data\", \"most\", \"software\", \"computer\", \"electrical\", \"manufacturing\", \"electrical_engineering\", \"assembly\", \"plc\", \"cad\", \"instrumentation\", \"analog\", \"alm\", \"pcb\", \"hmi\", \"wiring\", \"gas\", \"schematic\", \"power_supply\", \"hvac\", \"failure_analysis\", \"beauty\", \"motion_control\", \"multimeter\", \"osha\", \"hp_alm\", \"altium\", \"catia\", \"drawing\", \"mep\", \"nec\", \"nfpa\", \"leed\", \"ppap\", \"mechanical_engineering\", \"oscilloscope\", \"aerospace\", \"heat\", \"inspection\", \"rf\", \"engineering\", \"design\", \"energy\", \"engineer\", \"layout\", \"material\", \"production\", \"salary\", \"installation\", \"fit\", \"system\", \"most\", \"professional\", \"testing\", \"programming\", \"specification\", \"communication\", \"software\", \"401k\", \"tax\", \"insurance\", \"accident\", \"fsa\", \"wealth_management\", \"jax\", \"investment_banking\", \"sybase\", \"ppo\", \"private_equity\", \"rtp\", \"online_banking\", \"cpu\", \"cryptography\", \"life_insurance\", \"trello\", \"rca\", \"graphite\", \"bloomberg\", \"critical_illness\", \"atlas\", \"commercial_insurance\", \"gpu\", \"401k\", \"eod\", \"pd\", \"max\", \"ps\", \"revenue_growth\", \"odd\", \"trading\", \"salary\", \"fit\", \"wellness\", \"transformer\", \"scratch\", \"wealth\", \"healthcare\", \"banking\", \"recruitment\", \"senior\", \"performance_monitoring\", \"food\", \"saas\", \"go\", \"engineer\", \"professional\", \"focus\", \"collaboration\", \"monitoring\", \"c\", \"flexibility\", \"level\", \"most\", \"impact\", \"management\", \"science\", \"information_technology\", \"computer_science\", \"android\", \"swift\", \"kotlin\", \"apple\", \"mvvm\", \"comscore\", \"siem\", \"wlan\", \"android_sdk\", \"cocoa\", \"xcode\", \"android_studio\", \"sdk\", \"government_contracting\", \"cdn\", \"dfs\", \"television\", \"n_tier\", \"asana\", \"dmz\", \"animation\", \"ofccp\", \"uikit\", \"cocoa_touch\", \"sqlite\", \"zephyr\", \"cryptocurrency\", \"satcom\", \"vcs\", \"resource_allocation\", \"mobile\", \"tablet\", \"mvp\", \"rtc\", \"new_relic\", \"io\", \"mac\", \"reasoning\", \"apis\", \"ui\", \"library\", \"developer\", \"google\", \"video\", \"design\", \"c\", \"software\", \"computer\", \"architecture\", \"nice\", \"programming\", \"data\", \"communication\", \"framework\", \"testing\", \"engineering\", \"science\", \"computer_science\", \"apex\", \"eeo\", \"history\", \"union\", \"mpi\", \"remote_desktop\", \"active_listening\", \"dmaic\", \"ncr\", \"zabbix\", \"law\", \"ep\", \"can\", \"lighting\", \"mpm\", \"patient_safety\", \"rfid\", \"linux_kernel\", \"directx\", \"los\", \"turnover\", \"gl\", \"pdca\", \"rma\", \"racf\", \"ipc\", \"compressor\", \"resin\", \"ts16949\", \"crf\", \"san\", \"minitab\", \"representative\", \"new_relic\", \"self_motivated\", \"system\", \"email\", \"mortgage\", \"professional\", \"sponsorship\", \"training\", \"manager\", \"communication\", \"nice\", \"management\", \"level\", \"reach\", \"information_technology\", \"design\", \"network\", \"salary\", \"focus\", \"consulting\", \"retail\", \"pricing\", \"twitter\", \"publisher\", \"pharmacy\", \"brd\", \"digital_marketing\", \"commerce\", \"graphic_design\", \"personalization\", \"ehr\", \"concrete\", \"fx\", \"merchandising\", \"mental_health\", \"prototyping\", \"ucd\", \"cpg\", \"pca\", \"health_care\", \"soma\", \"capital_market\", \"demand_forecasting\", \"branding\", \"ionic\", \"sep\", \"journalism\", \"graphical_user_interface\", \"predictive_modelling\", \"grocery\", \"marketing\", \"hospitality\", \"middle\", \"mulesoft\", \"facebook\", \"brand\", \"bind\", \"healthcare\", \"advertising\", \"most\", \"computer_engineering\", \"internet\", \"partnership\", \"cms\", \"fix\", \"computer\", \"education\", \"science\", \"go\", \"computer_science\", \"idea\", \"engineering\", \"strategy\", \"management\", \"email\", \"data\", \"system\", \"communication\", \"desktop_support\", \"scm\", \"audio\", \"engineering_technician\", \"ato\", \"webex\", \"a+\", \"smt\", \"extreme_programming\", \"bluetooth\", \"desktop\", \"preventive_maintenance\", \"propel\", \"technician\", \"pc\", \"electronics\", \"monetization\", \"ansys\", \"repair\", \"dsl\", \"pdm\", \"heat_transfer\", \"carbon\", \"emc\", \"internationalization\", \"windows\", \"saint\", \"service_desk\", \"components\", \"automotive\", \"video\", \"hardware\", \"mechanic\", \"troubleshooting\", \"computer\", \"email\", \"software\", \"level\", \"fix\", \"communication\", \"middleware\", \"information_technology\", \"go\", \"education\", \"expect\", \"science\", \"engineer\", \"c\", \"system\"], \"Freq\": [23055.0, 17737.0, 7382.0, 7042.0, 5434.0, 15735.0, 8810.0, 7017.0, 3484.0, 6391.0, 13431.0, 6883.0, 3193.0, 5068.0, 2342.0, 4597.0, 3179.0, 7452.0, 1767.0, 1834.0, 2233.0, 10837.0, 6755.0, 4735.0, 2289.0, 5818.0, 1687.0, 2576.0, 4274.0, 2022.0, 658.4394101724332, 628.8783733479917, 379.3261518984622, 267.7822904933226, 267.28231692110234, 133.38326308680922, 87.68015684260664, 87.41829698356985, 86.9433333005874, 85.5523289190059, 81.03563362681966, 75.06980175736632, 73.88808449087978, 61.27950272296928, 52.09364251840843, 400.73616619082156, 48.46141981890677, 44.47643945999667, 40.303668362876216, 39.2695874077064, 358.1736558951252, 29.65882406455436, 29.317913999375314, 1054.795237963105, 25.702871585441155, 48.084987353997334, 23.166477463937177, 23.056885943380337, 22.756525224902575, 19.586012190064785, 65.40007561299774, 43.88113988981967, 198.1140337055467, 100.49469820774895, 148.98374712597266, 244.8072727000023, 102.69254159144087, 894.6057355663354, 5717.0968007825795, 217.4797392439483, 745.272114969485, 505.61312898823377, 925.4828184449974, 2107.0957649534357, 323.8054615339081, 1307.757854382246, 291.1602182137528, 1230.8445567713056, 2208.896083332483, 519.1717502283772, 585.204217299034, 759.3996245622178, 313.1335359282606, 154.6950926713784, 537.1593843719303, 926.860217202238, 1171.3923607376666, 1190.6966524241745, 812.826699797862, 739.8153525671764, 424.204043904085, 449.49366885493487, 401.81051113128325, 392.1095684870225, 368.8032053314774, 363.29467021632115, 2021.631986714403, 338.8062976989755, 316.93223304139553, 198.42817201662592, 158.28903700569484, 581.604999722939, 113.93273560973215, 106.92326487564368, 88.86413548195955, 188.45559296369345, 64.52714164922266, 51.550016478480856, 42.44782826200354, 180.04715060722594, 27.642058732556016, 748.5999864138514, 23.619843523902848, 587.7923032949201, 59.90827973709142, 12.677690208739094, 159.0653047694605, 6444.60181511785, 74.08038594128058, 8.021709987752317, 70.16698727189305, 704.8474915020197, 6.9368926894185465, 12.09074735758548, 29.986366460644344, 5.605549919649149, 490.96733048748234, 112.11413111281696, 469.20988385210944, 226.37831858653254, 411.26689569177256, 1166.1419018329566, 273.3525227867298, 1936.8217018586458, 3089.917907325914, 609.5218181960313, 616.9145519379381, 633.9698063135958, 1798.0650921734623, 997.4809549454269, 696.9334731797378, 405.6782447745182, 2172.2020626824465, 1431.627740683541, 842.4483498905155, 397.4151404072519, 555.4870496118081, 528.3631528453409, 298.22330681530804, 456.7114231136787, 444.26316673697454, 391.9668757607514, 650.9137190609564, 531.170753589281, 252.3315187471133, 993.7672403672595, 205.17139201881466, 135.93755121055307, 106.31487227583219, 91.28186535326502, 87.34921524656806, 81.60830313267444, 48.94544896014296, 43.89478091687777, 40.0505667622326, 37.632770523468835, 31.5828410945816, 30.885433837396764, 28.99123242549326, 26.880881911567137, 26.04425185613212, 39.114447307070996, 25.521868681336173, 23.61206646435586, 21.750272036680318, 21.50773654281149, 20.604417492582673, 20.18264747771804, 18.729679942251188, 37.87267344687668, 17.060103965162206, 15.507101891172992, 34.701361461897974, 34.849475986609775, 249.48877792322313, 84.06765129438993, 87.95005236936262, 13198.193604913078, 414.9812978540014, 236.16874149075304, 1732.3389764454553, 2449.5783369820238, 444.78584597284237, 400.8378402569943, 106.25382510135859, 508.703384426205, 138.14505989726337, 304.0949188414161, 76.45122734473512, 120.16302159527802, 212.78200673508337, 137.39492380231593, 443.2813047497675, 658.2897378480058, 169.87151001242125, 810.2053762206389, 496.66856135919875, 197.61106818753663, 280.0509203890966, 212.58598277624301, 183.56966559549076, 195.84556347736603, 265.0230865302652, 208.40875892160014, 159.87961184705745, 153.07922614573425, 154.6977589253677, 57.41991594992754, 35.38983099634328, 27.017299744655592, 23.520749777893116, 21.898719432015557, 56.325804364200486, 14.355848852605204, 25.233919348369426, 46.02871440110925, 1131.7507369968034, 8.546975949791744, 29.60261634490507, 8.321451004112205, 8.010837659323576, 11.188683840552853, 184.1830804508212, 5.036095054422247, 5.031409102918885, 4247.577930041478, 4.49021794866075, 4.041932560159348, 47.289593827328055, 18.491892676534654, 98.7563753045212, 3.3342292620638636, 3.0785254084372418, 58.97635886270549, 273.5271894181023, 23.29540108913069, 2.5257278603119393, 64.17140389447349, 237.38463513504652, 214.50033468638875, 6351.091332034354, 34.04405829487009, 72.12401272286225, 31.04438601091226, 173.18607873836748, 117.96308461112726, 2325.3467711646126, 97.09314552489191, 847.5534244972459, 262.4512722706252, 197.53122829193595, 685.6947055628241, 1676.920487505553, 795.189355299421, 1173.69682483933, 911.2726732950154, 146.55001426495085, 430.30290909821605, 720.3732013755828, 668.2492308397414, 336.83049175142406, 433.11269260614404, 462.96509727498864, 115.5073481243509, 218.3148878795012, 227.1345417205357, 208.03459147687298, 230.48167149943703, 293.92127653400007, 201.05765355789956, 331.3072056971629, 278.3218859778395, 253.89847239509345, 251.00798126525672, 157.80402650323938, 43.72390785270552, 167.00424335685352, 38.050283818266934, 30.706064029598615, 29.425885646354285, 24.864314004450005, 21.0922329938407, 20.769022572590583, 17.930973999753544, 14.726045147750881, 14.457417871342386, 104.2496594769366, 11.789342527091499, 11.277613581209295, 10.84708031037683, 32.80438953697954, 7.49439141715955, 7.143328871863381, 32.97519827611823, 2764.075312290288, 14.817852566372778, 5.382382145815827, 5.071753753931738, 5.0321794168337135, 71.55766281948316, 4.842467251444082, 4.316198523060266, 26.64949015674335, 67.67108648097557, 75.01851159194541, 61.74219422430836, 291.05996303594964, 21.605912477085536, 811.2240411632682, 1383.355222866059, 78.00104120685592, 227.98427574048506, 215.124073010209, 64.9451710198383, 258.416571825112, 1248.3087173402162, 112.91180753472257, 303.0501410323276, 929.7782124848841, 2106.2079873732982, 182.2711904407607, 149.26707742308463, 819.8621143642606, 569.8925238430071, 373.84256733230063, 338.91897971522786, 298.6117145312054, 329.68996053420295, 738.4507439102786, 790.1078274974599, 399.2745606265604, 309.7663090577705, 237.72971943669742, 258.02964840734626, 464.13169010170355, 404.18386264576634, 271.0398176862507, 225.9648558496849, 216.18059585231217, 2232.634108466801, 102.8000135863479, 89.860216659428, 67.17018091115625, 53.28693887845977, 179.50465199269445, 44.30909096512473, 41.516627447970386, 33.58006261668262, 32.83979783452936, 32.053253604886386, 26.99181702091006, 29.93577372072802, 20.531583912233483, 18.02162302770209, 17.2031545634064, 8.984431062299356, 160.17193248679695, 8.277306348535294, 11.745315055349886, 7.479882425862923, 6.125473553232155, 23.354048463320844, 5.994503733769763, 267.7873535411022, 5.522920261493385, 3.730558505843292, 134.31127752402583, 19.634336001971807, 2.6186800493219096, 19.05863798000285, 567.7607243473489, 130.80448402011558, 2306.6450455453623, 113.54834273454773, 2807.8270135811044, 483.6376876140422, 683.2486224851643, 49.456431511574536, 182.6189330909322, 1772.481890025913, 648.5225206713385, 448.9915048099058, 564.1503950485505, 219.43467772966565, 647.8127728673238, 525.3227730883498, 304.8462051075138, 421.74864578898575, 311.05500290219186, 404.73561143109606, 265.8509685775901, 775.2001808466521, 379.55461500447007, 249.52684086879313, 292.8235147085515, 303.32365226154053, 296.72923328118713, 243.26212369517967, 285.0628763829121, 251.79333441244773, 200.80615476722963, 191.48548062295868, 145.8229163820509, 87.32490626400347, 63.07503105407077, 244.08848291296331, 49.303239017364064, 47.38504668246471, 47.06644474415875, 37.83727841517896, 35.91742512638606, 35.41793412130035, 29.123558575837404, 29.666245856793672, 26.702306623341855, 24.551276665430866, 24.295627461483996, 20.647363749251983, 21.728459705409374, 16.433034614862546, 18.55172330473232, 15.04187098263288, 14.797013676004713, 14.275345063749704, 13.760495255302924, 13.497921107143577, 28.303942374211747, 12.679017767422144, 11.700135020558395, 149.00245833179164, 11.049776188303392, 10.703547623966656, 78.51631411521905, 22.842770436448372, 120.30722218565992, 305.2724706263464, 109.998407139278, 36.22307793537341, 94.3130011483526, 57.43761584370831, 652.5613489149541, 738.4642089920802, 78.88957262439509, 116.59921576913251, 2215.528303099469, 544.5990015951663, 677.0419389398135, 178.3059306301535, 2003.42686614348, 127.63054289054837, 140.56446831341742, 402.70490956903797, 194.44499792080484, 718.9820173081205, 754.8099230438294, 455.74844463509834, 151.45975212317933, 523.0425165969094, 143.58328500452654, 368.6952750179347, 124.62565641033228, 355.3276656406155, 356.97911853365355, 486.33730591553467, 258.48369204836763, 349.0251287586635, 243.43392364592657, 245.77828404719128, 235.5213343659136, 166.57836835540476, 186.12661953204267, 214.1436930801599, 171.22697382244647, 241.28660573350479, 212.6508655869451, 232.83711812755658, 187.89393184796953, 697.2565424802015, 683.2248737335713, 97.282468124515, 55.98386795878903, 53.28078276832732, 39.90407164513512, 38.604187911296556, 36.435363814223535, 36.08381897731498, 32.15490485049036, 30.20358481502695, 27.72041344498383, 25.66209517812214, 25.52459895141034, 24.169738134767133, 21.64979324148713, 51.17499389968893, 18.611416735377368, 18.256313524555566, 33.6240041533588, 14.888929464521135, 14.17745778227282, 565.8113244325223, 13.019737467463433, 266.98601605780334, 12.724673754165115, 12.002441867576747, 11.279438748385509, 45.68545903805521, 10.761032523105843, 417.49349118923806, 540.5233703831927, 144.77670639650304, 142.1072205993664, 115.3913280135217, 400.041655607477, 92.52209114759543, 367.1318814593768, 6468.871688258312, 1463.4241507081108, 1045.45977398432, 89.82292524594831, 177.65987988130422, 74.001727889857, 505.35652501389103, 636.7998547767631, 232.21470048517392, 72.69217493018243, 149.50278685169496, 509.66422962192564, 153.169078437342, 393.50665319915174, 262.3799844070583, 260.10877300660417, 195.4038177529526, 241.1510742048378, 220.927368267159, 250.40994940410218, 142.5779743931187, 151.64283930686088, 132.6247044128696, 138.89275604580118, 186.10775255609212, 134.53826626374254, 72.01752009542423, 67.07181219705977, 53.83432091521467, 50.36534270471851, 46.45405534689092, 36.87767250928963, 31.952024094998233, 23.356973506566636, 22.955026022373808, 18.530641826752518, 17.37977845765106, 15.62519519761671, 15.561058092892498, 30.62976234041055, 15.365913983574846, 10.880240634671814, 10.866727724197167, 10.758306212782282, 33.4947172912332, 10.456792355328083, 10.292852507021736, 9.638619863417462, 7.279133574361835, 7.067777191897976, 19.11833022754381, 6.15642096702945, 56.90617582361359, 5.828361106532025, 183.1349072987106, 16.892368903628697, 2857.591406444016, 76.99553119258485, 284.6669814792639, 2086.1373687392447, 751.0960288850324, 274.4646189146074, 107.67524907777586, 330.9969998731569, 46.18817555318082, 1122.7429343005285, 1903.8497740477803, 272.4448220338526, 454.55733952951107, 612.0470929264002, 1514.8364470668985, 480.14226544952305, 120.3509906052718, 127.70152851349518, 428.69219499939607, 189.1070466146959, 121.41012145841125, 548.2861456287096, 321.471053017362, 267.63648940715484, 231.62239502256702, 158.38095912706243, 253.80515319644368, 167.13365992495167, 167.69096687505058, 194.3092979789982, 212.8564851653917, 146.16916127194264, 140.51167353723963, 3482.9920146359323, 1070.2271778802176, 883.9603383394473, 351.8111098254522, 11.754663108197889, 11.697616080274317, 878.4703644570359, 9.173199117294663, 23.555678499340296, 38.4556403426271, 4.499133320789216, 58.15161234056835, 145.60564201248295, 3.3835333164643684, 563.5505431709921, 3.006005523404147, 140.03018686084744, 9.582752129472418, 5.783996687273331, 4349.980567987736, 1.5113593418474727, 1.5113593418474727, 1.5113593418474727, 1.5113593418474727, 16.93274587316962, 31.624908521940696, 243.45746104197045, 3.1207074122362353, 13.612859770101613, 612.1933253395541, 139.53203342861295, 174.44960288769178, 516.753780633692, 80.69040692661274, 19.233029141220996, 273.55271546776396, 73.91017587146105, 107.63249823509916, 388.9924805905782, 404.97395975384785, 726.0205553879332, 444.16834394970715, 428.4505654429161, 139.67781268857618, 484.525204385468, 188.38240748739034, 176.94101233270834, 136.72182112508796, 126.47588875818239, 123.98284005141441, 101.06193450974861, 92.98021110774746, 96.39714198581534, 96.91799583809276, 509.37526058171295, 261.60947606332024, 178.25393822362116, 159.44513132255548, 121.69546686403194, 443.5902800601591, 92.43718539430444, 89.1724479877438, 72.27359818723315, 71.29442784638806, 57.005137620148524, 55.908858284126026, 1162.645044068587, 47.94795987153971, 48.19014022378035, 46.402176293458936, 40.358240970237794, 37.70898968920298, 33.82843476272519, 22.689315120951402, 146.3725700609104, 21.182927441217906, 34.391015664179044, 18.726498765225468, 17.989980290788555, 15.95719374958955, 499.5308632409162, 13.629569621840588, 32.279710893467595, 243.52626719064136, 640.8261153668016, 227.07659691016795, 81.73948975416123, 5921.347369002901, 38.60268696656441, 71.79182191417962, 43.9972983503685, 174.64265569690662, 183.21113570034217, 50.549530394443835, 90.23260755923404, 141.20078025899664, 749.9037474530645, 499.42766391368116, 229.54179752897537, 336.99124671225667, 477.8300019520142, 179.53535359410577, 244.2897642823059, 234.51096968625316, 134.24601745974243, 122.4509838008232, 229.13716720127687, 200.889536315448, 166.6547430811178, 165.72080696262844, 141.14367777010708, 59.24403485501545, 38.10357926239898, 41.220822883905676, 35.096185476842166, 30.67877022058582, 30.590426655847093, 18.531853277174626, 14.79040203859828, 12.106910236911098, 10.33958645070742, 9.056911151218214, 7.25504179912006, 7.152125855641626, 6.9505985627446805, 6.9500173267303325, 6.939761931696821, 6.327408512710339, 6.114949781037521, 6.060702522845761, 5.519437662099769, 4.650706908799321, 4.646835952359001, 4.634538420411316, 4.3999630927782665, 4.37039223920307, 4.199830981787866, 4.159174896218913, 4.052212386531227, 3.225929369387055, 83.68828120232934, 12.809754400203675, 6014.74071885822, 23.561375236852516, 206.90383484308077, 2443.290717066593, 85.17580583595783, 957.2295700032365, 12.122435002373111, 1468.0869808537243, 152.5971063492036, 115.48965464726106, 25.57279229242929, 1330.4591183936877, 267.0543910272545, 233.17410819800668, 263.91642760773493, 462.531222790701, 689.0079579420009, 382.2269396809675, 141.77179620595723, 125.6293583959444, 235.12707844398497, 226.6763312754188, 102.0237165689945, 138.40258811893133, 143.14163859246938, 160.4904875036699, 115.98101724489568, 128.77822470418536, 106.85473915758884, 118.67962441503755, 93.72451524421379, 114.86122593157377, 91.24182836517774, 440.3839142493551, 388.6043785653949, 175.18490115061343, 75.28827916473526, 70.77163532534685, 72.39832010449022, 55.373919791994155, 53.922458469269394, 47.91818516250308, 34.36340412797484, 33.741029456149256, 29.61630826023076, 29.13030714988034, 480.925165659783, 24.083293964183675, 27.321269802680504, 18.95696806741508, 18.06287854219757, 14.28519992013511, 13.823567898328935, 352.61774130961265, 170.7889640315896, 8.021376949194774, 7.827283390192079, 94.32403520619674, 4.0302341223377915, 15.185470159333658, 3.697471008553034, 519.0154306396839, 3.039583038075432, 236.76155237310329, 945.1864038379933, 473.6572309708306, 1018.636649633745, 316.8119920894508, 580.7788022207993, 3009.614654927248, 58.00898999264951, 127.49536369530037, 428.2573964297877, 728.4335387696549, 859.2578771661499, 310.90111337098256, 693.2118820746324, 182.4660144809283, 144.59574334841932, 103.49895026838878, 417.9099607851718, 663.2040124652771, 196.93296266131588, 325.8297269068808, 209.7014489192646, 207.98800188373602, 118.63963498281808, 142.8583992726133, 126.83157135800477, 823.879120165726, 207.10809615665147, 215.00933683312132, 112.95551941653697, 95.67851183546499, 88.40917518547487, 80.06095533733331, 56.12212379894112, 51.17593139443463, 48.62103513514744, 46.88419197019166, 38.142535099732044, 37.00976228581854, 23.949679762887705, 135.0397651612031, 209.89416262552348, 21.28109532297967, 18.418610486097194, 17.598432190244505, 16.45935144691066, 16.004570442277757, 15.887282348053374, 85.47471631836406, 14.047106309509148, 13.193060139602965, 12.939124819805874, 12.708868729696707, 12.655333650880447, 12.124636286391102, 11.321420209714681, 324.16893118869865, 29.177598739404466, 1741.7476775525051, 34.264612006691806, 52.22626982310346, 16.07905249312269, 59.74385910099013, 97.16259743013595, 3244.813148027302, 412.8182783879207, 346.60530585615135, 83.61407410433306, 319.82624753255106, 205.80991317110062, 222.4740627332429, 165.7512705218164, 216.38470584502684, 385.87056148579506, 185.1319609486896, 111.27652940858351, 217.78552879150283, 328.6854773388838, 115.48033962996024, 196.52814805089798, 219.65800102464848, 253.9699209868777, 205.9799131315748, 182.00550668939007, 227.72356907045966, 190.91827864507647, 141.88878058560024, 185.64251031187428, 185.3141949589859, 159.5264502180005, 156.45547745545045, 747.5621090777986, 395.58885762748156, 379.1019402678756, 125.55507539518166, 119.8927028441897, 164.58839838032202, 50.46180716068218, 45.66419188004848, 44.54319178681273, 40.80843189108877, 40.30396620510288, 36.87301336818003, 30.155949061708913, 24.317914808298184, 28.446573814871197, 20.96354109359736, 18.113532496119397, 11.119589614395142, 35.969774977162146, 9.75759962734117, 9.558281916996762, 39.526662254010276, 8.876882253923307, 7.987626911790266, 7.777722343725178, 6.851729072824988, 6.766351780167571, 104.33077546234796, 32.963739530999476, 6.2197569613679144, 60.96023780105774, 690.8876075168569, 1860.1083984787156, 99.17931776881228, 345.23063629271843, 74.07593697632049, 1508.1315712501575, 69.5367546827369, 185.26488908663424, 346.36689091134303, 144.34285280523335, 79.32600952548836, 311.95503143123904, 307.0159877358554, 432.8951563460376, 344.5739701600316, 156.78639506564383, 112.3858800233062, 193.47797919266188, 124.07122959025855, 140.22562511472455, 126.60786113315201, 173.3513027028134, 166.6237185844636, 125.86870945882723, 150.70752097339462, 126.65347784699793, 107.69345009082254, 189.34577558177725, 87.35223694245946, 74.07418810308117, 68.17098648210708, 53.34456175299169, 47.59212295001121, 43.10159615852144, 39.310785974231834, 33.36663268859193, 23.202704239558244, 23.014694936942156, 22.749117890983428, 20.977970755087686, 18.35380711908943, 17.83065053005117, 152.04339496544898, 17.704476634163353, 14.401971478837973, 13.341554512840021, 111.19135916084612, 12.987646469084149, 12.785969872859493, 12.550079075513214, 11.986819861189375, 11.929567258468003, 9.037309588066234, 34.78489464528088, 8.480276405012049, 29.358882513141005, 8.02711573496181, 70.60816677026355, 224.86315558253148, 55.93572178359974, 3574.474690625669, 89.45496833509434, 57.07138573379726, 22.280961130478385, 66.58149205554207, 52.270275856189315, 127.57500400428916, 54.77998991079885, 60.981447709473365, 154.52783715817827, 221.8599016574286, 133.77062127729067, 206.7097387534173, 105.18539519027973, 37.56027536238064, 356.3553043587097, 49.01210616214981, 222.37416457827277, 457.1918997569389, 111.18660021400147, 519.8671555356319, 274.88262881426226, 106.24330289339596, 306.17217279912643, 137.53810026114058, 149.7832536803641, 100.04144336544236, 134.8159332223947, 126.56039653700884, 121.3103510997879, 112.70024197222305, 131.10771239743642, 94.5455581507671, 108.49183729254024, 100.90385724045045, 1042.8009178163402, 453.8822360639306, 276.09626616187165, 173.01759511081778, 156.70936025154802, 131.89471754275354, 104.06731436326204, 83.7369956371741, 82.06558879875602, 60.08909223679017, 60.00042331524127, 49.65591408739899, 115.65836726168766, 137.73937814508722, 39.58074749786338, 38.22488689752646, 29.537572053365686, 28.264845856914565, 24.3136770071185, 22.779250938849124, 22.47719253609501, 20.715235973234094, 20.731128028694553, 18.683677250426882, 186.15188614936625, 18.251812830269117, 17.442695799254707, 16.615584295901495, 16.21054828973711, 16.63561411772863, 78.674340802434, 47.328308241164585, 112.00039517124308, 29.8563141983798, 124.50064860041549, 69.37845062931562, 1207.265647788166, 1423.2231101973778, 148.79069601644707, 831.0317264344608, 81.77162951233979, 129.58068263709032, 202.49198676681434, 198.42261747406098, 114.83816224151943, 121.08133144338477, 296.21359052116077, 131.0924399275341, 170.90952124392206, 172.91450961638878, 141.33385199705347, 116.39342585626962, 145.26666041983913, 146.4413311761125, 110.38035028968382, 331.41066992497537, 1816.0821302442848, 79.64046790880016, 57.941371992414986, 51.0081368733733, 50.15119789945075, 41.32919762782788, 36.71195330854899, 32.743790675010935, 29.224373782699715, 28.28520811477075, 22.35863640670199, 20.487490466714153, 19.195382484874166, 349.9834856122692, 18.256681868648542, 18.184986166348178, 16.677607833353854, 18.00685192897297, 16.223418904876894, 13.282605459719065, 11.307916799143435, 10.925251434425903, 1174.5937976098512, 9.86299907454959, 9.56624611211418, 50.66102228200143, 8.202487544930127, 7.423739726800236, 6.8360323719737295, 95.77644043488094, 1518.6540959798806, 617.5115883900654, 172.8584465268678, 31.932970947919163, 74.89261485979918, 81.54626922407797, 321.8651769186494, 159.73317152892326, 121.71839600257498, 606.8369998237389, 45.70739148945037, 52.03040658658184, 117.60981551890949, 171.42325532394395, 382.79804466260185, 244.37333672497175, 187.35529920757568, 125.47157148062283, 114.68173893756698, 96.68319963426443, 68.47169735572369, 118.39276823736598, 87.44309705812964, 89.98381749951407, 125.55244327772637, 96.23925989004344, 95.38441989574909, 72.61479439327519, 1066.052332597916, 312.49760048737255, 248.52034773519543, 142.96947813581377, 89.08073361622408, 78.07644361118976, 68.81269613136305, 67.04286210644256, 56.845123995615516, 40.20465233281507, 39.88393531315577, 36.93325076004408, 122.40774833291952, 29.95937429948407, 28.720869367797967, 28.71518142680812, 26.553721959119166, 26.5475289922722, 23.51242366523832, 22.312917435339013, 53.70674902637925, 20.368684250837735, 14.059063412798652, 13.04154685783954, 11.912594136564541, 10.104278072254857, 9.794381871594043, 9.356590199926071, 9.188042474728972, 71.78770338139984, 1425.3167610762475, 57.82179745712071, 58.40878645081061, 21.816672511671722, 67.80892814898885, 125.52375321672434, 86.9898148569649, 38.77673244970428, 192.85925569794014, 174.31662392642176, 120.78341761024349, 371.9832603225104, 127.46481195298088, 82.23046979794513, 293.0969181480694, 117.67298895663984, 209.69431359075753, 145.23774708132115, 129.53560415181443, 82.10378976359179, 105.48801366228923, 171.00382186990754, 129.53447773469532, 111.48628722306883, 112.29034424299577, 112.36473431901852, 101.85577460556924, 80.23412353052866, 1766.0429836909543, 837.3354992504858, 909.0693047032365, 600.4529637661166, 242.92827157200554, 22.429840495291383, 16.173949189733527, 15.349421827293991, 13.56787830332644, 8.93858191439523, 2058.8442277920503, 5.189026123144879, 4.8249783792213075, 18.900702625615327, 4.192101900989401, 3.7854310896301513, 3.755961562193647, 3.3592004152733685, 2.4487017936349877, 96.15966286464729, 8.007018803680467, 6.076486658850559, 1.870263465333558, 1.8449633337732312, 1.772457525685117, 2.7760083408097715, 2.763587929936525, 1.456454581987683, 1.4382990090609915, 1.3979272221791768, 193.9490099460633, 4.350156094096798, 47.46882571959012, 25.30825339443858, 51.817473875277685, 871.6098335262026, 116.42245978428821, 25.891135213955813, 227.9403563791723, 54.361246451743035, 134.1709947830026, 104.2001991395262, 108.81240279954405, 35.25264872164116, 103.48983234802697, 66.01504053883737, 27.737582747770503, 60.774399475362905, 76.7669488913853, 42.47230782216836, 29.821316797716587, 21.042214758633353, 19.863968050475794, 375.18138346077, 96.43057998252345, 132.04231714325252, 69.06287332862745, 42.740858211824744, 42.12248677645215, 38.110535775118045, 350.35866656340403, 35.55584422061297, 28.82503842321903, 27.65374211765049, 24.72698131891116, 23.661510461691563, 19.57291349239103, 18.312235404059685, 14.803308516027505, 13.007181141598236, 12.43761945183829, 11.330405285858443, 221.06680561816108, 10.850787201162225, 71.85684297253691, 8.556573046618716, 15.453304284872331, 8.413811089415367, 8.240107452524573, 7.32558157810949, 7.259517625788977, 7.207701645776509, 6.885386308494206, 813.1199513643722, 52.956523382419576, 64.38786264648425, 55.99244528404801, 66.66349521196057, 316.4965834008403, 26.336220313001498, 474.2581482445934, 36.33104963016095, 287.0125723997046, 61.877799362664554, 98.35307415755982, 108.91182665589243, 40.29265711982071, 95.64586328303336, 221.87772070011044, 161.62995040261518, 165.80371328246753, 97.52224040238598, 121.13971175712373, 84.61822818045478, 160.46385778868782, 105.90985751925025, 132.234589139486, 77.38265547404994, 120.05495901741948, 97.5469711674061, 69.13676927785876, 313.28528350426154, 84.07586449060842, 54.02248003158493, 39.52984624182604, 34.97583677383447, 22.259082099643475, 18.875422441880158, 18.834203143385718, 18.131121992061225, 17.84004580742853, 883.3041170409916, 12.766308309046494, 10.494663804506873, 282.11398125838707, 144.12502917407463, 9.884924029813392, 6.409451071035713, 10.639473183656294, 193.57850613665093, 3.665634049712949, 6.437502824572519, 3.455861800402263, 21.620248494491918, 63.844416807270136, 2.511058970878491, 267.1645018579462, 13.608038677862236, 57.868007096631636, 1.3847416110302866, 133.1755936571873, 202.7522289056363, 372.240660549466, 7.350311499653667, 63.712225162127545, 216.93384632044499, 95.22663678941554, 263.07038047781515, 148.5414844884583, 48.13036175235191, 86.11313455748362, 21.737380447352905, 47.49836517456791, 30.3940666957215, 31.583661598484866, 26.43939788379735, 28.706827360964873, 26.608003536699556, 23.022206025309853, 23.27289930779607], \"Total\": [23055.0, 17737.0, 7382.0, 7042.0, 5434.0, 15735.0, 8810.0, 7017.0, 3484.0, 6391.0, 13431.0, 6883.0, 3193.0, 5068.0, 2342.0, 4597.0, 3179.0, 7452.0, 1767.0, 1834.0, 2233.0, 10837.0, 6755.0, 4735.0, 2289.0, 5818.0, 1687.0, 2576.0, 4274.0, 2022.0, 659.4099468063988, 629.8488727227796, 380.29689373616964, 268.7527867688334, 268.25281337599006, 134.35379586699779, 88.65065174267944, 88.38881036308389, 87.9138294461116, 86.5245635623478, 82.0061283479626, 76.04030063851816, 74.85857947643836, 62.24999808338162, 53.06413805596027, 408.71516364101853, 49.43191455652709, 45.44828123451035, 41.274165130177195, 40.24008212291532, 367.1224632417844, 30.629318880462623, 30.288415880329733, 1092.0216608113767, 26.673366547359894, 50.05117411566623, 24.13706529988807, 24.027512621764, 23.72703176607596, 20.556506911207737, 68.94560911155459, 46.24348234248578, 216.32719305478238, 108.80329888972314, 163.5563937710505, 279.8276312853759, 113.70319056044472, 1147.082803139006, 8810.201438092621, 255.4281733460271, 1006.1661134400255, 669.7327599110298, 1393.0036171604747, 4274.297414330563, 465.42869794070634, 2845.3701248787197, 456.5664919916667, 3193.0760595224515, 7452.151803709952, 1085.4725577470304, 1392.4844952331784, 2104.16770779332, 636.8773803954568, 223.50213551046912, 1898.775335833645, 6883.60296523976, 10837.950092310075, 17737.84762314429, 15735.764615169877, 13431.572366186041, 4062.4813169236586, 5434.3643587110855, 3979.7735877716414, 4222.567256456991, 4597.034651328568, 4193.779397967796, 2022.5995554525769, 339.7736805389785, 317.89970203235555, 199.3955063667778, 159.25636278368518, 586.189559405674, 114.90006195536617, 107.89059548064618, 89.8314651216647, 191.18659016026686, 65.49449437814067, 52.517370294446664, 43.419631352966846, 185.34702679054098, 28.609397650455332, 779.1897227823989, 24.5871811348193, 619.6374573324538, 63.43500258191512, 13.64501564799104, 172.4135966417027, 7042.3703383439515, 82.05317551591773, 8.98903516655128, 79.46041927204516, 800.8710984361351, 7.904217871795804, 13.879204633725394, 35.1587971348894, 6.572875222091325, 584.349077167932, 135.01023523482607, 586.1018941994014, 280.73277361704186, 528.6616695851855, 1677.6933296051945, 368.37172829261425, 3481.9569777120228, 6391.683876788314, 1121.895097108082, 1280.0876364970989, 1392.4844952331784, 5818.18533779663, 3763.5127959357324, 2434.34549607704, 1033.025891306655, 15735.764615169877, 10837.950092310075, 7017.6332477435935, 1360.8646283449757, 3979.7735877716414, 4597.034651328568, 866.9073728521761, 4735.84612724076, 6496.975295041288, 4062.4813169236586, 651.9659372176268, 532.176679320264, 253.30167955833411, 997.6805776831802, 206.1342136967718, 136.90011969734007, 107.27744076463267, 92.25298809433713, 88.31181220741816, 82.57098050370085, 49.908023161607154, 44.85735641074965, 41.02045364826436, 38.59603797954185, 32.545416808801974, 31.848008113644557, 29.953800909359398, 27.8434561038959, 27.006820345420973, 40.58612274729175, 26.484438234332288, 24.574635264494265, 22.712840590455865, 22.470305028777783, 21.567069439087597, 21.161552773687095, 19.692248426117327, 39.865759913729974, 18.022673384197653, 16.46967037503913, 37.142573553208905, 37.31407950099997, 279.6305784129515, 92.59279926008591, 101.67148529796442, 23055.89735765566, 646.6105164106391, 355.6141683333101, 3763.5127959357324, 5818.18533779663, 930.8868946765914, 831.8742668968048, 160.04568522264273, 1280.0876364970989, 229.65191376450196, 705.5295936390468, 111.37623883040455, 219.67982641212973, 546.6509969701541, 345.3724959818622, 2845.3701248787197, 7452.151803709952, 570.8210270211334, 15735.764615169877, 13431.572366186041, 1048.1679478807994, 3979.7735877716414, 2434.34549607704, 1953.6045185131911, 3179.0863108058365, 17737.84762314429, 6883.60296523976, 3823.1816531313034, 4062.4813169236586, 6391.683876788314, 58.38925170851055, 36.35916708641143, 27.98663688623098, 24.49011249823724, 22.86805496562079, 59.6854152996248, 15.325184569055564, 27.241776916228616, 50.13164082564161, 1240.4381287145327, 9.516311406727352, 33.047170458310944, 9.290786465982164, 8.98017314656925, 12.77115970412641, 213.05402440763123, 6.005430541303961, 6.00074455985449, 5068.599568201015, 5.459553417205322, 5.011268045155434, 58.827378023603025, 23.404472513027134, 125.42747704436728, 4.303564728868168, 4.047860896133315, 79.09337530042082, 370.56606235749086, 31.804306527264785, 3.4950634263784535, 90.78108471678978, 368.15388012022044, 338.7668900273566, 13431.572366186041, 49.741873512415204, 114.3296998337385, 45.07841617552058, 305.8864418604172, 202.43838134565047, 6755.053884281665, 171.78052455045304, 2381.129678750029, 581.5328936958433, 438.6898827532312, 2080.8773206587007, 6496.975295041288, 2581.7037401430207, 5597.451249612714, 4062.4813169236586, 329.56168735877054, 1660.226517540648, 3823.1816531313034, 3480.8746081083495, 1238.1639929199916, 2352.2175006225675, 2852.7139188053206, 251.31362211233179, 930.8868946765914, 1017.7170575427457, 892.461786760919, 1207.4568480374617, 2644.582301568171, 1226.0860338100765, 10837.950092310075, 7017.6332477435935, 4274.297414330563, 252.0021028804499, 158.76758449549163, 44.68747037032247, 171.01836417097113, 39.01588632574211, 31.66962418993368, 30.38944385142361, 25.8278723832487, 22.060100407014197, 21.73258070403826, 18.89453270609047, 15.689603066025592, 15.420975966484544, 111.94629652998995, 12.752900609000543, 12.241171495032816, 11.81063832948295, 35.98059054778568, 8.457957888353999, 8.106886935761791, 37.75481077553965, 3179.0863108058365, 17.198058798984594, 6.345940088708268, 6.035405252279098, 5.995737405743045, 85.58410179218362, 5.806025183723834, 5.279756445075609, 33.565053193504866, 86.2032242999367, 98.46819115074781, 83.87497386578588, 443.68422838201593, 28.98269886611762, 1575.3682498037554, 3068.016197381734, 125.04149450147263, 487.68595368447444, 466.1131115461455, 118.94369243739858, 739.2450823087598, 6755.053884281665, 251.31362211233179, 974.3356597906528, 4735.84612724076, 17737.84762314429, 529.8360462864952, 424.8310956015982, 6496.975295041288, 3823.1816531313034, 2144.933374438907, 1953.6045185131911, 1660.226517540648, 2108.9657412532047, 10837.950092310075, 15735.764615169877, 5597.451249612714, 4062.4813169236586, 2104.16770779332, 2644.582301568171, 13431.572366186041, 23055.89735765566, 6391.683876788314, 2852.7139188053206, 7017.6332477435935, 2233.6001031981814, 103.76714458554315, 90.82621787765042, 68.13616676025931, 54.25625496746213, 183.05193736021823, 45.2750764291307, 42.643485619836135, 34.54604934962647, 33.805786923470485, 33.019239165629834, 27.957803516724418, 31.030299258242362, 21.497569579388173, 18.98988598616751, 18.169140035378508, 9.950416526305325, 177.87754215394565, 9.243291902460392, 13.141849988515988, 8.445867901074594, 7.091459017238123, 27.041880767138053, 6.960489218399917, 312.10100370397777, 6.488905757897722, 4.696543969849261, 170.63021113004115, 26.121755040366484, 3.5846655756351296, 27.05651507605358, 866.9073728521761, 216.16689185636582, 6391.683876788314, 211.6719558436663, 10837.950092310075, 1360.8646283449757, 2434.34549607704, 88.26692206504526, 492.48887710410946, 15735.764615169877, 3979.7735877716414, 2644.582301568171, 4193.779397967796, 974.3356597906528, 5818.18533779663, 4735.84612724076, 2108.9657412532047, 3823.1816531313034, 2265.1657716032973, 3763.5127959357324, 1898.775335833645, 17737.84762314429, 4222.567256456991, 2852.7139188053206, 5597.451249612714, 7017.6332477435935, 6496.975295041288, 3480.8746081083495, 8810.201438092621, 13431.572366186041, 2104.16770779332, 3068.016197381734, 146.7936332625058, 88.30263865167625, 64.04604913724019, 248.51624087320135, 50.27395599732488, 48.3557651788917, 48.03775176036744, 38.80800401590554, 36.88814197883385, 36.388661111361394, 30.09520123389254, 30.695468326253216, 27.67302471612335, 25.522000820326824, 25.26634458152218, 21.631646369066868, 22.94556989394262, 17.403751717314154, 19.666993848821445, 16.012587952129074, 15.76781654455517, 15.246134139553925, 14.731212152722458, 14.46863804811649, 30.35164900419485, 13.649734619869943, 12.670851905704058, 161.80031427205114, 12.02130204530039, 11.674274723835634, 89.40637183620188, 25.4083924573914, 144.98162038883513, 419.2685120472755, 142.41504118404373, 42.985858065045164, 125.06804884416992, 72.38681997676089, 1265.4062699712026, 2144.933374438907, 131.78520870528777, 231.4102039657737, 13431.572366186041, 1953.6045185131911, 3068.016197381734, 453.58563970094946, 17737.84762314429, 290.2415249302133, 342.05561806750393, 1898.775335833645, 602.1554663236655, 5597.451249612714, 6496.975295041288, 2852.7139188053206, 424.8310956015982, 4193.779397967796, 413.91744101155376, 3480.8746081083495, 358.8061897738808, 3823.1816531313034, 4222.567256456991, 10837.950092310075, 2080.8773206587007, 6883.60296523976, 2265.1657716032973, 2381.129678750029, 2108.9657412532047, 730.4783692315976, 1144.6323024425785, 2644.582301568171, 974.3356597906528, 15735.764615169877, 6755.053884281665, 23055.89735765566, 2352.2175006225675, 698.2155629048168, 684.2947933490624, 98.23873713874576, 56.94022906576749, 54.23704967733678, 40.860339252586776, 39.56055876842782, 37.391628526473276, 37.04010209917611, 33.11117191895751, 31.159850854988697, 28.676700165284306, 26.61840018960456, 26.481406835919337, 25.126005032620302, 22.606058456775575, 53.64454120833521, 19.56768620413053, 19.212579327318117, 35.71451985237484, 15.845194525008525, 15.133735894219123, 604.2637598267961, 13.976002187548405, 286.60271292723274, 13.680938970125599, 12.958706910666356, 12.235704439681156, 49.58518626152495, 11.717323659799266, 465.86503566082047, 638.9091585670893, 166.8559737535254, 170.71049508815793, 138.3037755397614, 570.8210270211334, 123.63571672682396, 705.5295936390468, 23055.89735765566, 4222.567256456991, 2845.3701248787197, 132.26372893398596, 345.3724959818622, 113.72450511866154, 2265.1657716032973, 4193.779397967796, 831.8742668968048, 134.49519491989312, 546.6509969701541, 6883.60296523976, 646.6105164106391, 5818.18533779663, 2434.34549607704, 2576.5571401633597, 3179.0863108058365, 7452.151803709952, 6496.975295041288, 10837.950092310075, 2352.2175006225675, 4062.4813169236586, 3480.8746081083495, 15735.764615169877, 187.07699979451408, 135.5231799252399, 72.98677029849186, 68.08062451931883, 54.80356684351769, 51.33458985489469, 47.42330129225821, 37.84691775305751, 32.92126880702136, 24.326218598212538, 23.92544191992354, 19.499886542655542, 18.349023110885962, 16.594439895411334, 16.53030704121283, 32.54137303387874, 16.335158625691772, 11.84957141170495, 11.835972458153645, 11.727584989884344, 36.55515976507451, 11.426036997445008, 11.262097667407385, 10.60786474234399, 8.248378841825417, 8.037021966284415, 22.082431534608094, 7.125665613091985, 66.20864684079709, 6.797609528408574, 231.40947217175312, 20.454668748727865, 4597.034651328568, 127.63653844058881, 602.1554663236655, 8810.201438092621, 2581.7037401430207, 754.8730538517914, 226.53937264047383, 1048.1679478807994, 80.77280216600212, 6755.053884281665, 15735.764615169877, 1081.7694964853695, 2381.129678750029, 3823.1816531313034, 23055.89735765566, 4274.297414330563, 413.20413865735975, 470.239545274747, 3979.7735877716414, 1144.6323024425785, 495.28281391779456, 13431.572366186041, 5434.3643587110855, 3481.9569777120228, 3480.8746081083495, 1238.1639929199916, 6883.60296523976, 2352.2175006225675, 2644.582301568171, 5597.451249612714, 17737.84762314429, 1677.6933296051945, 1380.0637106363001, 3484.2135933635413, 1071.1928413770615, 885.1400353911096, 352.77724563408236, 12.720281403492034, 12.663233971726681, 958.5564578512461, 10.138816788883291, 26.962547591084153, 45.747194041563716, 5.46475097955227, 73.87545760654038, 185.64574993511854, 4.349152157049402, 724.7581272666572, 3.97162327406781, 185.37189811072795, 14.627085110929688, 8.87505949679775, 7017.6332477435935, 2.476977034468647, 2.476977034468647, 2.476977034468647, 2.476977034468647, 29.45508092727348, 57.535355212340335, 452.5628879244585, 6.038121289938103, 26.38076033009307, 1202.1639373244418, 289.55318310236675, 415.3448679342056, 2080.8773206587007, 261.8031661495723, 48.81244656737663, 1226.0860338100765, 255.06105809550874, 419.2685120472755, 2381.129678750029, 3481.9569777120228, 10837.950092310075, 5597.451249612714, 6496.975295041288, 1048.1679478807994, 13431.572366186041, 2352.2175006225675, 2852.7139188053206, 2144.933374438907, 4222.567256456991, 5068.599568201015, 3979.7735877716414, 2265.1657716032973, 4193.779397967796, 6883.60296523976, 510.35025073962566, 262.5788341008564, 179.2231471178016, 160.41424179013325, 122.66457614126783, 448.0017771691857, 93.40801643981054, 90.14155564793234, 73.24277808964447, 72.26353666243612, 57.97424537366843, 56.9048972246875, 1185.5277134865848, 48.91860573550258, 49.18124898394237, 47.37128359754825, 41.32735176076662, 38.67809691830102, 34.797707541441866, 23.65842241265207, 153.0647064545897, 22.152034770744248, 36.04739812394772, 19.695605977718557, 18.959148557490458, 16.92630095683949, 533.8640378808836, 14.5986768166025, 34.64031386449236, 262.32826710643116, 695.9548053223796, 246.52704773385486, 88.20945802236236, 7382.087280634155, 41.58946899081083, 84.33238923455275, 49.643537002661034, 317.929935010766, 345.5596121126942, 61.43835204099842, 162.10804060774362, 367.7082737728281, 7452.151803709952, 4274.297414330563, 1898.775335833645, 5434.3643587110855, 15735.764615169877, 1566.6294834174857, 3823.1816531313034, 6496.975295041288, 1085.4725577470304, 730.4783692315976, 23055.89735765566, 13431.572366186041, 5597.451249612714, 6883.60296523976, 142.1161575610535, 60.21649902060399, 39.076044435097444, 42.29075266782901, 36.06864572254201, 31.65127734241937, 31.56288783146195, 19.504436581279048, 15.762865206534336, 13.079369818445514, 11.312046776191705, 10.029370245601854, 8.227509659466865, 8.124585135840341, 7.9230585729681104, 7.9224768405704475, 7.912220869577985, 7.299867392054364, 7.087409024941668, 7.033163350725107, 6.491896765478453, 5.623165974699399, 5.619295485853017, 5.6069997904267375, 5.372423306346306, 5.342866264369598, 5.1722900583571585, 5.1316343994572495, 5.024671562751009, 4.236727395773378, 118.69319807093802, 17.823853556386304, 17737.84762314429, 35.90808934548274, 415.667912461593, 6883.60296523976, 168.77434192352862, 3979.7735877716414, 18.303066194283428, 7452.151803709952, 453.58563970094946, 410.702261964516, 51.79491397310572, 15735.764615169877, 1566.6294834174857, 1575.3682498037554, 2108.9657412532047, 5597.451249612714, 10837.950092310075, 4597.034651328568, 1265.4062699712026, 1048.1679478807994, 4222.567256456991, 4062.4813169236586, 831.8742668968048, 1953.6045185131911, 2852.7139188053206, 4735.84612724076, 2080.8773206587007, 3823.1816531313034, 3068.016197381734, 6496.975295041288, 2289.861161423868, 23055.89735765566, 2576.5571401633597, 441.3651500755917, 389.5812453745895, 176.16170895977888, 76.26509372909021, 71.74844299161282, 73.45046926340167, 56.35072850588783, 54.8992670927284, 48.89499288187018, 35.34021277312447, 34.7178378099175, 30.593190354680353, 30.107116513362218, 497.70292994368543, 25.060879578108988, 28.582864736505222, 19.93377581579015, 19.112989486361432, 15.262008124288307, 14.800376142916493, 379.1273347156389, 187.78777288768416, 8.998184615460756, 8.80409135098702, 110.87484813868943, 5.007041954975819, 19.02197425485421, 4.674278759298291, 666.1378605919035, 4.016390765930443, 330.3484020463872, 1504.99683604453, 877.0778754044168, 2644.582301568171, 730.4783692315976, 1566.6294834174857, 17737.84762314429, 99.26974992810625, 317.929935010766, 1898.775335833645, 4274.297414330563, 6755.053884281665, 1393.0036171604747, 7382.087280634155, 717.45875965816, 494.8065996776665, 277.23500414039347, 4193.779397967796, 10837.950092310075, 1953.6045185131911, 13431.572366186041, 3068.016197381734, 5434.3643587110855, 669.7327599110298, 5597.451249612714, 3763.5127959357324, 825.1426130385748, 208.0709254992758, 216.17512409010024, 113.91835569133171, 96.64133860394652, 89.37203189709643, 81.02378330510274, 57.085164135794784, 52.163606741965054, 49.583861548286094, 47.84701914414486, 39.10536813458976, 37.972588715788476, 24.912713951079258, 140.9270891119363, 220.08610435856144, 22.314851346356257, 19.381438185683386, 18.56125893677853, 17.42217783961315, 16.96739690439154, 16.853988438391717, 90.93693438603984, 15.009935464064167, 14.156410112591457, 13.901951219962674, 13.671699435314281, 13.618160051037247, 13.087462790169242, 12.284246598329933, 369.4758234928723, 32.97733195881847, 2576.5571401633597, 39.99220468428047, 63.85898129582984, 17.62744386680991, 82.75524307576174, 154.500794032714, 15735.764615169877, 1238.1639929199916, 1033.025891306655, 158.91395333139, 1081.7694964853695, 588.8308782790127, 679.2318316904569, 471.5855992473637, 810.8417034810963, 2581.7037401430207, 781.5371965932592, 335.59578461780836, 1660.226517540648, 4735.84612724076, 413.91744101155376, 1687.0004485808186, 2352.2175006225675, 7017.6332477435935, 5068.599568201015, 4062.4813169236586, 13431.572366186041, 5597.451249612714, 1226.0860338100765, 6496.975295041288, 10837.950092310075, 4222.567256456991, 23055.89735765566, 748.5249301506371, 396.55170135822846, 380.06482690721396, 126.51789119973259, 120.85559780573116, 165.91248352382829, 51.42471747503642, 46.62702139998903, 45.50600755063565, 41.77124714566641, 41.26678145036224, 37.83582863377995, 31.118764463600755, 25.280730053557548, 29.736892932227825, 21.926356341253104, 19.076347749330875, 12.082404904026685, 39.22575110991671, 10.720414864464777, 10.521097162256124, 43.812801781713894, 9.839698223971215, 8.950442297786443, 8.740537630064777, 7.8145443099485945, 7.729167147707578, 119.36924987493816, 37.95976716688177, 7.182572200591678, 71.71386225815122, 921.8521526966348, 3193.0760595224515, 138.07306049517092, 567.3627966454404, 104.83004146047436, 4735.84612724076, 116.15686946852249, 432.25131516834733, 1207.4568480374617, 464.13665228385224, 226.53937264047383, 3480.8746081083495, 3481.9569777120228, 10837.950092310075, 7452.151803709952, 1265.4062699712026, 636.8773803954568, 3979.7735877716414, 1144.6323024425785, 1677.6933296051945, 1360.8646283449757, 7042.3703383439515, 7017.6332477435935, 2581.7037401430207, 15735.764615169877, 5434.3643587110855, 6496.975295041288, 190.31637699771818, 88.32275760498045, 75.05750683646075, 69.1415081965314, 54.315302993523915, 48.562640289120395, 44.07210826138079, 40.28129951531535, 34.337145003648345, 24.173216065140664, 23.98520692834225, 23.719641329007565, 21.94848245794097, 19.324322867152812, 18.80116278615674, 160.71986088887144, 18.795094778042774, 15.372483702043166, 14.312071156233406, 119.48908934154406, 13.958174415295224, 13.756481810619256, 13.5205922249175, 12.95733156887953, 12.900079745670565, 10.007823433872046, 38.625609022512116, 9.450788150073139, 32.896876291579034, 8.998331370117251, 79.4787388595695, 264.2107988211934, 64.38508716233903, 5434.3643587110855, 108.338422736535, 70.69522576588228, 25.252248621652004, 84.26377361373693, 67.53761759082073, 188.59230522441354, 71.9665209357319, 81.69674433175784, 249.2087788309085, 413.20413865735975, 231.750604653301, 415.667912461593, 183.47698651709018, 46.50463222926021, 1144.6323024425785, 68.48343126356657, 1265.4062699712026, 7382.087280634155, 410.702261964516, 13431.572366186041, 6755.053884281665, 567.3627966454404, 17737.84762314429, 2144.933374438907, 3480.8746081083495, 724.7581272666572, 7452.151803709952, 5597.451249612714, 6883.60296523976, 4735.84612724076, 23055.89735765566, 1380.0637106363001, 10837.950092310075, 4193.779397967796, 1043.7570748281676, 454.8382686816057, 277.0518355069561, 173.97327764446632, 157.66498455124483, 132.85241465988344, 105.23947333886115, 84.70523914633915, 83.02113223182567, 61.04497118509436, 60.9559660123194, 50.6125318799329, 118.04632347601672, 140.87185454448428, 40.536348228920495, 39.18043525357895, 30.493117338682758, 29.220388643437282, 25.269222543216667, 23.73479822248545, 23.44558348991165, 21.67077847739393, 21.68797341173913, 19.639220411167614, 195.72710145103915, 19.20735720621805, 18.398239198078286, 17.57112755807367, 17.16609200587958, 17.61769264211464, 84.05854303420253, 50.729581262560565, 123.50467288439705, 32.151659446183075, 160.7626315039208, 92.94935810104127, 6883.60296523976, 15735.764615169877, 468.2776024860853, 7452.151803709952, 198.36956161921242, 529.8360462864952, 2104.16770779332, 2289.861161423868, 730.4783692315976, 962.5934821844014, 17737.84762314429, 1380.0637106363001, 3480.8746081083495, 4735.84612724076, 2434.34549607704, 1575.3682498037554, 6496.975295041288, 10837.950092310075, 1286.9077392886127, 332.3855255620506, 1834.0495301927203, 80.60415563822603, 58.90501223464029, 51.97174911562318, 51.11480958983613, 42.292809574132505, 37.67590441262773, 33.70741352422241, 30.187985558782156, 29.252130809751748, 23.322250084798142, 21.451111303330634, 20.15899400284611, 367.9640755485599, 19.220294633836154, 19.14859964449177, 17.641219429090874, 19.04952914864591, 17.187030874633233, 14.246216985865475, 12.271528335669222, 11.888863013838241, 1286.9077392886127, 10.826610597358407, 10.529857667620863, 56.01181779519007, 9.166099105888836, 8.387356571858744, 7.799643933232489, 114.38118386057305, 2289.861161423868, 962.5934821844014, 251.43267335011495, 41.53142878773814, 122.43608835198879, 147.06918768912246, 994.0305369601167, 470.239545274747, 338.7668900273566, 4062.4813169236586, 82.34680216620481, 102.9584908735763, 495.28281391779456, 1017.7170575427457, 7452.151803709952, 3480.8746081083495, 2352.2175006225675, 1226.0860338100765, 1085.4725577470304, 1360.8646283449757, 380.23854898426237, 5597.451249612714, 1380.0637106363001, 1660.226517540648, 13431.572366186041, 4222.567256456991, 6755.053884281665, 2265.1657716032973, 1067.0070032293909, 313.45225768683747, 249.47467863896077, 143.92361176323567, 90.03777035505594, 79.03047565700727, 69.76671756242244, 67.99689378386549, 57.79915695112649, 41.1586754890472, 40.83800433965838, 37.88728304767874, 125.7281401718324, 30.91339574210223, 29.674892577016863, 29.66920262287447, 27.507743313799892, 27.50155018623839, 24.46644490668199, 23.266938646113754, 56.15200302311728, 21.322705539401362, 15.013088783251503, 13.995568357217088, 12.887937115832006, 11.058299349418846, 10.74840311319075, 10.310611411764693, 10.142065003843635, 79.32723518701712, 1687.0004485808186, 65.61791103270265, 78.99660154624779, 26.210225154036873, 94.02667999550218, 204.71457011610235, 151.20434004576794, 64.14740938737795, 1121.895097108082, 1033.025891306655, 536.3601109111115, 6391.683876788314, 1006.1661134400255, 376.0032132102855, 15735.764615169877, 1360.8646283449757, 10837.950092310075, 4193.779397967796, 4597.034651328568, 781.5371965932592, 2434.34549607704, 23055.89735765566, 6496.975295041288, 3481.9569777120228, 4735.84612724076, 6883.60296523976, 4222.567256456991, 2265.1657716032973, 1767.0082748567665, 838.3027340690556, 910.4920761170038, 601.4181778253298, 245.15021935401512, 23.399462056763483, 17.139157251662237, 16.314628551936504, 14.533082957307109, 9.903786122726103, 2342.57063034918, 6.154230341443987, 5.790182615171467, 22.92954357600389, 5.157306109320275, 4.750863830336855, 4.72116577052452, 4.324404653210339, 3.4139060315719587, 134.51530863524658, 11.523740798283908, 9.100786338225657, 2.8354676736644318, 2.810167542104105, 2.737661762492294, 4.4114749502049175, 4.403480355135882, 2.4216588237905046, 2.403503541656859, 2.3631314468589824, 717.45875965816, 8.898759813117877, 205.04487449421148, 94.02667999550218, 288.209965317509, 17737.84762314429, 1207.4568480374617, 127.63653844058881, 3480.8746081083495, 447.03301984971233, 2144.933374438907, 5068.599568201015, 6496.975295041288, 781.5371965932592, 13431.572366186041, 5597.451249612714, 588.8308782790127, 6755.053884281665, 15735.764615169877, 7382.087280634155, 2289.861161423868, 2352.2175006225675, 1238.1639929199916, 376.2040063672842, 97.3923828700495, 133.796306407965, 70.02464717979936, 43.70264205272866, 43.08425989936942, 39.07231039901367, 359.7455616560369, 36.51761709197714, 29.78681183290847, 28.643165208082998, 25.688944202113174, 24.623290605534493, 20.534686757408583, 19.27400956893058, 15.765081408516258, 13.96895404715955, 13.399392519200779, 12.29217846756483, 240.54779022065128, 11.81256008220014, 78.31593374885824, 9.518346142944049, 17.19379077394817, 9.375584180468309, 9.201880334237265, 8.287460297860122, 8.221290507510204, 8.169487352003452, 7.847159452313841, 952.8638781836836, 60.391111123583165, 74.72424363551359, 65.00851967378111, 85.00225469740982, 522.2036775245103, 34.059192699971625, 994.0305369601167, 63.85135945856106, 1380.0637106363001, 143.1350832941001, 367.7082737728281, 438.6898827532312, 90.51674637910902, 630.0823146983957, 4193.779397967796, 2852.7139188053206, 4222.567256456991, 1017.7170575427457, 2265.1657716032973, 810.8417034810963, 6883.60296523976, 2581.7037401430207, 13431.572366186041, 1207.4568480374617, 23055.89735765566, 17737.84762314429, 6496.975295041288, 314.2505159810879, 85.04109126982628, 55.015549743902284, 40.49507264270459, 35.94106312954762, 23.26777234835692, 19.84065146572037, 19.799430051212166, 19.096349666184572, 18.80534900183703, 937.7632398064621, 13.731882277595739, 11.459890201450497, 310.8411141652076, 160.02402825241296, 11.095091800595377, 7.374677776953736, 12.84243489307841, 237.54339116589796, 4.6308604110289515, 8.177974220343218, 4.421088362667757, 28.956020580947158, 87.47499522357761, 3.4762853895662236, 396.35685728707733, 21.32185645523539, 93.94301563068315, 2.3499680261284195, 230.7162193390769, 376.0032132102855, 1566.6294834174857, 13.57190682981347, 494.8065996776665, 4193.779397967796, 1207.4568480374617, 10837.950092310075, 5597.451249612714, 630.0823146983957, 6496.975295041288, 165.42891166342542, 6755.053884281665, 1017.7170575427457, 2852.7139188053206, 747.5933302286347, 4222.567256456991, 7452.151803709952, 1360.8646283449757, 17737.84762314429], \"Category\": [\"Default\", \"Default\", \"Default\", \"Default\", \"Default\", \"Default\", \"Default\", \"Default\", \"Default\", \"Default\", \"Default\", \"Default\", \"Default\", \"Default\", \"Default\", \"Default\", \"Default\", \"Default\", \"Default\", \"Default\", \"Default\", \"Default\", \"Default\", \"Default\", \"Default\", \"Default\", \"Default\", \"Default\", \"Default\", \"Default\", \"Topic1\", \"Topic1\", \"Topic1\", \"Topic1\", \"Topic1\", \"Topic1\", \"Topic1\", \"Topic1\", \"Topic1\", \"Topic1\", \"Topic1\", \"Topic1\", \"Topic1\", \"Topic1\", \"Topic1\", \"Topic1\", \"Topic1\", \"Topic1\", \"Topic1\", \"Topic1\", \"Topic1\", \"Topic1\", \"Topic1\", \"Topic1\", \"Topic1\", \"Topic1\", \"Topic1\", \"Topic1\", \"Topic1\", \"Topic1\", \"Topic1\", \"Topic1\", \"Topic1\", \"Topic1\", \"Topic1\", \"Topic1\", \"Topic1\", \"Topic1\", \"Topic1\", \"Topic1\", \"Topic1\", \"Topic1\", \"Topic1\", \"Topic1\", \"Topic1\", \"Topic1\", \"Topic1\", \"Topic1\", \"Topic1\", \"Topic1\", \"Topic1\", \"Topic1\", \"Topic1\", \"Topic1\", \"Topic1\", \"Topic1\", \"Topic1\", \"Topic1\", \"Topic1\", \"Topic1\", \"Topic1\", \"Topic1\", \"Topic1\", \"Topic1\", \"Topic1\", \"Topic1\", \"Topic2\", \"Topic2\", \"Topic2\", \"Topic2\", \"Topic2\", \"Topic2\", \"Topic2\", \"Topic2\", \"Topic2\", \"Topic2\", \"Topic2\", \"Topic2\", \"Topic2\", \"Topic2\", \"Topic2\", \"Topic2\", \"Topic2\", \"Topic2\", \"Topic2\", \"Topic2\", \"Topic2\", \"Topic2\", \"Topic2\", \"Topic2\", \"Topic2\", \"Topic2\", \"Topic2\", \"Topic2\", \"Topic2\", \"Topic2\", \"Topic2\", \"Topic2\", \"Topic2\", \"Topic2\", \"Topic2\", \"Topic2\", \"Topic2\", \"Topic2\", \"Topic2\", \"Topic2\", \"Topic2\", \"Topic2\", \"Topic2\", \"Topic2\", \"Topic2\", \"Topic2\", \"Topic2\", \"Topic2\", \"Topic2\", \"Topic2\", \"Topic2\", \"Topic2\", \"Topic2\", \"Topic2\", \"Topic2\", \"Topic2\", \"Topic3\", \"Topic3\", \"Topic3\", \"Topic3\", \"Topic3\", \"Topic3\", \"Topic3\", \"Topic3\", \"Topic3\", \"Topic3\", \"Topic3\", \"Topic3\", \"Topic3\", \"Topic3\", \"Topic3\", \"Topic3\", \"Topic3\", \"Topic3\", \"Topic3\", \"Topic3\", \"Topic3\", \"Topic3\", \"Topic3\", \"Topic3\", \"Topic3\", \"Topic3\", \"Topic3\", \"Topic3\", \"Topic3\", \"Topic3\", \"Topic3\", \"Topic3\", \"Topic3\", \"Topic3\", \"Topic3\", \"Topic3\", \"Topic3\", \"Topic3\", \"Topic3\", \"Topic3\", \"Topic3\", \"Topic3\", \"Topic3\", \"Topic3\", \"Topic3\", \"Topic3\", \"Topic3\", \"Topic3\", \"Topic3\", \"Topic3\", \"Topic3\", \"Topic3\", \"Topic3\", \"Topic3\", \"Topic3\", \"Topic3\", \"Topic3\", \"Topic3\", \"Topic3\", \"Topic3\", \"Topic3\", \"Topic3\", \"Topic3\", \"Topic3\", \"Topic3\", \"Topic4\", \"Topic4\", \"Topic4\", \"Topic4\", \"Topic4\", \"Topic4\", \"Topic4\", \"Topic4\", \"Topic4\", \"Topic4\", \"Topic4\", \"Topic4\", \"Topic4\", \"Topic4\", \"Topic4\", \"Topic4\", \"Topic4\", \"Topic4\", \"Topic4\", \"Topic4\", \"Topic4\", \"Topic4\", \"Topic4\", \"Topic4\", \"Topic4\", \"Topic4\", \"Topic4\", \"Topic4\", \"Topic4\", \"Topic4\", \"Topic4\", \"Topic4\", \"Topic4\", \"Topic4\", \"Topic4\", \"Topic4\", \"Topic4\", \"Topic4\", \"Topic4\", \"Topic4\", \"Topic4\", \"Topic4\", \"Topic4\", \"Topic4\", \"Topic4\", \"Topic4\", \"Topic4\", \"Topic4\", \"Topic4\", \"Topic4\", \"Topic4\", \"Topic4\", \"Topic4\", \"Topic4\", \"Topic4\", \"Topic4\", \"Topic4\", \"Topic4\", \"Topic4\", \"Topic4\", \"Topic4\", \"Topic4\", \"Topic4\", \"Topic4\", \"Topic4\", \"Topic4\", \"Topic5\", \"Topic5\", \"Topic5\", \"Topic5\", \"Topic5\", \"Topic5\", \"Topic5\", \"Topic5\", \"Topic5\", \"Topic5\", \"Topic5\", \"Topic5\", \"Topic5\", \"Topic5\", \"Topic5\", \"Topic5\", \"Topic5\", \"Topic5\", \"Topic5\", \"Topic5\", \"Topic5\", \"Topic5\", \"Topic5\", \"Topic5\", \"Topic5\", \"Topic5\", \"Topic5\", \"Topic5\", \"Topic5\", \"Topic5\", \"Topic5\", \"Topic5\", \"Topic5\", \"Topic5\", \"Topic5\", \"Topic5\", \"Topic5\", \"Topic5\", \"Topic5\", \"Topic5\", \"Topic5\", \"Topic5\", \"Topic5\", \"Topic5\", \"Topic5\", \"Topic5\", \"Topic5\", \"Topic5\", \"Topic5\", \"Topic5\", \"Topic5\", \"Topic5\", \"Topic5\", \"Topic5\", \"Topic5\", \"Topic5\", \"Topic5\", \"Topic5\", \"Topic5\", \"Topic5\", \"Topic5\", \"Topic5\", \"Topic5\", \"Topic5\", \"Topic5\", \"Topic5\", \"Topic6\", \"Topic6\", \"Topic6\", \"Topic6\", \"Topic6\", \"Topic6\", \"Topic6\", \"Topic6\", \"Topic6\", \"Topic6\", \"Topic6\", \"Topic6\", \"Topic6\", \"Topic6\", \"Topic6\", \"Topic6\", \"Topic6\", \"Topic6\", \"Topic6\", \"Topic6\", \"Topic6\", \"Topic6\", \"Topic6\", \"Topic6\", \"Topic6\", \"Topic6\", \"Topic6\", \"Topic6\", \"Topic6\", \"Topic6\", \"Topic6\", \"Topic6\", \"Topic6\", \"Topic6\", \"Topic6\", \"Topic6\", \"Topic6\", \"Topic6\", \"Topic6\", \"Topic6\", \"Topic6\", \"Topic6\", \"Topic6\", \"Topic6\", \"Topic6\", \"Topic6\", \"Topic6\", \"Topic6\", \"Topic6\", \"Topic6\", \"Topic6\", \"Topic6\", \"Topic6\", \"Topic6\", \"Topic6\", \"Topic6\", \"Topic6\", \"Topic6\", \"Topic6\", \"Topic6\", \"Topic6\", \"Topic6\", \"Topic6\", \"Topic7\", \"Topic7\", \"Topic7\", \"Topic7\", \"Topic7\", \"Topic7\", \"Topic7\", \"Topic7\", \"Topic7\", \"Topic7\", \"Topic7\", \"Topic7\", \"Topic7\", \"Topic7\", \"Topic7\", \"Topic7\", \"Topic7\", \"Topic7\", \"Topic7\", \"Topic7\", \"Topic7\", \"Topic7\", \"Topic7\", \"Topic7\", \"Topic7\", \"Topic7\", \"Topic7\", \"Topic7\", \"Topic7\", \"Topic7\", \"Topic7\", \"Topic7\", \"Topic7\", \"Topic7\", \"Topic7\", \"Topic7\", \"Topic7\", \"Topic7\", \"Topic7\", \"Topic7\", \"Topic7\", \"Topic7\", \"Topic7\", \"Topic7\", \"Topic7\", \"Topic7\", \"Topic7\", \"Topic7\", \"Topic7\", \"Topic7\", \"Topic7\", \"Topic7\", \"Topic7\", \"Topic7\", \"Topic7\", \"Topic7\", \"Topic7\", \"Topic7\", \"Topic7\", \"Topic7\", \"Topic7\", \"Topic7\", \"Topic7\", \"Topic7\", \"Topic7\", \"Topic7\", \"Topic7\", \"Topic7\", \"Topic7\", \"Topic7\", \"Topic7\", \"Topic7\", \"Topic7\", \"Topic7\", \"Topic7\", \"Topic8\", \"Topic8\", \"Topic8\", \"Topic8\", \"Topic8\", \"Topic8\", \"Topic8\", \"Topic8\", \"Topic8\", \"Topic8\", \"Topic8\", \"Topic8\", \"Topic8\", \"Topic8\", \"Topic8\", \"Topic8\", \"Topic8\", \"Topic8\", \"Topic8\", \"Topic8\", \"Topic8\", \"Topic8\", \"Topic8\", \"Topic8\", \"Topic8\", \"Topic8\", \"Topic8\", \"Topic8\", \"Topic8\", \"Topic8\", \"Topic8\", \"Topic8\", \"Topic8\", \"Topic8\", \"Topic8\", \"Topic8\", \"Topic8\", \"Topic8\", \"Topic8\", \"Topic8\", \"Topic8\", \"Topic8\", \"Topic8\", \"Topic8\", \"Topic8\", \"Topic8\", \"Topic8\", \"Topic8\", \"Topic8\", \"Topic8\", \"Topic8\", \"Topic8\", \"Topic8\", \"Topic8\", \"Topic8\", \"Topic8\", \"Topic8\", \"Topic8\", \"Topic8\", \"Topic8\", \"Topic8\", \"Topic8\", \"Topic9\", \"Topic9\", \"Topic9\", \"Topic9\", \"Topic9\", \"Topic9\", \"Topic9\", \"Topic9\", \"Topic9\", \"Topic9\", \"Topic9\", \"Topic9\", \"Topic9\", \"Topic9\", \"Topic9\", \"Topic9\", \"Topic9\", \"Topic9\", \"Topic9\", \"Topic9\", \"Topic9\", \"Topic9\", \"Topic9\", \"Topic9\", \"Topic9\", \"Topic9\", \"Topic9\", \"Topic9\", \"Topic9\", \"Topic9\", \"Topic9\", \"Topic9\", \"Topic9\", \"Topic9\", \"Topic9\", \"Topic9\", \"Topic9\", \"Topic9\", \"Topic9\", \"Topic9\", \"Topic9\", \"Topic9\", \"Topic9\", \"Topic9\", \"Topic9\", \"Topic9\", \"Topic9\", \"Topic9\", \"Topic9\", \"Topic9\", \"Topic9\", \"Topic9\", \"Topic9\", \"Topic9\", \"Topic9\", \"Topic9\", \"Topic9\", \"Topic9\", \"Topic9\", \"Topic9\", \"Topic9\", \"Topic9\", \"Topic9\", \"Topic9\", \"Topic9\", \"Topic10\", \"Topic10\", \"Topic10\", \"Topic10\", \"Topic10\", \"Topic10\", \"Topic10\", \"Topic10\", \"Topic10\", \"Topic10\", \"Topic10\", \"Topic10\", \"Topic10\", \"Topic10\", \"Topic10\", \"Topic10\", \"Topic10\", \"Topic10\", \"Topic10\", \"Topic10\", \"Topic10\", \"Topic10\", \"Topic10\", \"Topic10\", \"Topic10\", \"Topic10\", \"Topic10\", \"Topic10\", \"Topic10\", \"Topic10\", \"Topic10\", \"Topic10\", \"Topic10\", \"Topic10\", \"Topic10\", \"Topic10\", \"Topic10\", \"Topic10\", \"Topic10\", \"Topic10\", \"Topic10\", \"Topic10\", \"Topic10\", \"Topic10\", \"Topic10\", \"Topic10\", \"Topic10\", \"Topic10\", \"Topic10\", \"Topic10\", \"Topic10\", \"Topic10\", \"Topic10\", \"Topic10\", \"Topic11\", \"Topic11\", \"Topic11\", \"Topic11\", \"Topic11\", \"Topic11\", \"Topic11\", \"Topic11\", \"Topic11\", \"Topic11\", \"Topic11\", \"Topic11\", \"Topic11\", \"Topic11\", \"Topic11\", \"Topic11\", \"Topic11\", \"Topic11\", \"Topic11\", \"Topic11\", \"Topic11\", \"Topic11\", \"Topic11\", \"Topic11\", \"Topic11\", \"Topic11\", \"Topic11\", \"Topic11\", \"Topic11\", \"Topic11\", \"Topic11\", \"Topic11\", \"Topic11\", \"Topic11\", \"Topic11\", \"Topic11\", \"Topic11\", \"Topic11\", \"Topic11\", \"Topic11\", \"Topic11\", \"Topic11\", \"Topic11\", \"Topic11\", \"Topic11\", \"Topic11\", \"Topic11\", \"Topic11\", \"Topic11\", \"Topic11\", \"Topic11\", \"Topic11\", \"Topic11\", \"Topic11\", \"Topic11\", \"Topic11\", \"Topic12\", \"Topic12\", \"Topic12\", \"Topic12\", \"Topic12\", \"Topic12\", \"Topic12\", \"Topic12\", \"Topic12\", \"Topic12\", \"Topic12\", \"Topic12\", \"Topic12\", \"Topic12\", \"Topic12\", \"Topic12\", \"Topic12\", \"Topic12\", \"Topic12\", \"Topic12\", \"Topic12\", \"Topic12\", \"Topic12\", \"Topic12\", \"Topic12\", \"Topic12\", \"Topic12\", \"Topic12\", \"Topic12\", \"Topic12\", \"Topic12\", \"Topic12\", \"Topic12\", \"Topic12\", \"Topic12\", \"Topic12\", \"Topic12\", \"Topic12\", \"Topic12\", \"Topic12\", \"Topic12\", \"Topic12\", \"Topic12\", \"Topic12\", \"Topic12\", \"Topic12\", \"Topic12\", \"Topic12\", \"Topic12\", \"Topic12\", \"Topic12\", \"Topic12\", \"Topic12\", \"Topic12\", \"Topic12\", \"Topic12\", \"Topic12\", \"Topic12\", \"Topic12\", \"Topic12\", \"Topic12\", \"Topic12\", \"Topic12\", \"Topic12\", \"Topic12\", \"Topic13\", \"Topic13\", \"Topic13\", \"Topic13\", \"Topic13\", \"Topic13\", \"Topic13\", \"Topic13\", \"Topic13\", \"Topic13\", \"Topic13\", \"Topic13\", \"Topic13\", \"Topic13\", \"Topic13\", \"Topic13\", \"Topic13\", \"Topic13\", \"Topic13\", \"Topic13\", \"Topic13\", \"Topic13\", \"Topic13\", \"Topic13\", \"Topic13\", \"Topic13\", \"Topic13\", \"Topic13\", \"Topic13\", \"Topic13\", \"Topic13\", \"Topic13\", \"Topic13\", \"Topic13\", \"Topic13\", \"Topic13\", \"Topic13\", \"Topic13\", \"Topic13\", \"Topic13\", \"Topic13\", \"Topic13\", \"Topic13\", \"Topic13\", \"Topic13\", \"Topic13\", \"Topic13\", \"Topic13\", \"Topic13\", \"Topic13\", \"Topic13\", \"Topic13\", \"Topic13\", \"Topic13\", \"Topic13\", \"Topic13\", \"Topic14\", \"Topic14\", \"Topic14\", \"Topic14\", \"Topic14\", \"Topic14\", \"Topic14\", \"Topic14\", \"Topic14\", \"Topic14\", \"Topic14\", \"Topic14\", \"Topic14\", \"Topic14\", \"Topic14\", \"Topic14\", \"Topic14\", \"Topic14\", \"Topic14\", \"Topic14\", \"Topic14\", \"Topic14\", \"Topic14\", \"Topic14\", \"Topic14\", \"Topic14\", \"Topic14\", \"Topic14\", \"Topic14\", \"Topic14\", \"Topic14\", \"Topic14\", \"Topic14\", \"Topic14\", \"Topic14\", \"Topic14\", \"Topic14\", \"Topic14\", \"Topic14\", \"Topic14\", \"Topic14\", \"Topic14\", \"Topic14\", \"Topic14\", \"Topic14\", \"Topic14\", \"Topic14\", \"Topic14\", \"Topic14\", \"Topic14\", \"Topic14\", \"Topic14\", \"Topic14\", \"Topic14\", \"Topic14\", \"Topic14\", \"Topic14\", \"Topic14\", \"Topic14\", \"Topic14\", \"Topic14\", \"Topic14\", \"Topic14\", \"Topic14\", \"Topic14\", \"Topic15\", \"Topic15\", \"Topic15\", \"Topic15\", \"Topic15\", \"Topic15\", \"Topic15\", \"Topic15\", \"Topic15\", \"Topic15\", \"Topic15\", \"Topic15\", \"Topic15\", \"Topic15\", \"Topic15\", \"Topic15\", \"Topic15\", \"Topic15\", \"Topic15\", \"Topic15\", \"Topic15\", \"Topic15\", \"Topic15\", \"Topic15\", \"Topic15\", \"Topic15\", \"Topic15\", \"Topic15\", \"Topic15\", \"Topic15\", \"Topic15\", \"Topic15\", \"Topic15\", \"Topic15\", \"Topic15\", \"Topic15\", \"Topic15\", \"Topic15\", \"Topic15\", \"Topic15\", \"Topic15\", \"Topic15\", \"Topic15\", \"Topic15\", \"Topic15\", \"Topic15\", \"Topic15\", \"Topic15\", \"Topic15\", \"Topic15\", \"Topic15\", \"Topic15\", \"Topic15\", \"Topic15\", \"Topic15\", \"Topic15\", \"Topic15\", \"Topic15\", \"Topic16\", \"Topic16\", \"Topic16\", \"Topic16\", \"Topic16\", \"Topic16\", \"Topic16\", \"Topic16\", \"Topic16\", \"Topic16\", \"Topic16\", \"Topic16\", \"Topic16\", \"Topic16\", \"Topic16\", \"Topic16\", \"Topic16\", \"Topic16\", \"Topic16\", \"Topic16\", \"Topic16\", \"Topic16\", \"Topic16\", \"Topic16\", \"Topic16\", \"Topic16\", \"Topic16\", \"Topic16\", \"Topic16\", \"Topic16\", \"Topic16\", \"Topic16\", \"Topic16\", \"Topic16\", \"Topic16\", \"Topic16\", \"Topic16\", \"Topic16\", \"Topic16\", \"Topic16\", \"Topic16\", \"Topic16\", \"Topic16\", \"Topic16\", \"Topic16\", \"Topic16\", \"Topic16\", \"Topic16\", \"Topic16\", \"Topic16\", \"Topic16\", \"Topic16\", \"Topic16\", \"Topic16\", \"Topic16\", \"Topic16\", \"Topic16\", \"Topic16\", \"Topic16\", \"Topic16\", \"Topic16\", \"Topic16\", \"Topic16\", \"Topic16\", \"Topic16\", \"Topic16\", \"Topic16\", \"Topic16\", \"Topic17\", \"Topic17\", \"Topic17\", \"Topic17\", \"Topic17\", \"Topic17\", \"Topic17\", \"Topic17\", \"Topic17\", \"Topic17\", \"Topic17\", \"Topic17\", \"Topic17\", \"Topic17\", \"Topic17\", \"Topic17\", \"Topic17\", \"Topic17\", \"Topic17\", \"Topic17\", \"Topic17\", \"Topic17\", \"Topic17\", \"Topic17\", \"Topic17\", \"Topic17\", \"Topic17\", \"Topic17\", \"Topic17\", \"Topic17\", \"Topic17\", \"Topic17\", \"Topic17\", \"Topic17\", \"Topic17\", \"Topic17\", \"Topic17\", \"Topic17\", \"Topic17\", \"Topic17\", \"Topic17\", \"Topic17\", \"Topic17\", \"Topic17\", \"Topic17\", \"Topic17\", \"Topic17\", \"Topic17\", \"Topic17\", \"Topic17\", \"Topic17\", \"Topic17\", \"Topic17\", \"Topic17\", \"Topic17\", \"Topic18\", \"Topic18\", \"Topic18\", \"Topic18\", \"Topic18\", \"Topic18\", \"Topic18\", \"Topic18\", \"Topic18\", \"Topic18\", \"Topic18\", \"Topic18\", \"Topic18\", \"Topic18\", \"Topic18\", \"Topic18\", \"Topic18\", \"Topic18\", \"Topic18\", \"Topic18\", \"Topic18\", \"Topic18\", \"Topic18\", \"Topic18\", \"Topic18\", \"Topic18\", \"Topic18\", \"Topic18\", \"Topic18\", \"Topic18\", \"Topic18\", \"Topic18\", \"Topic18\", \"Topic18\", \"Topic18\", \"Topic18\", \"Topic18\", \"Topic18\", \"Topic18\", \"Topic18\", \"Topic18\", \"Topic18\", \"Topic18\", \"Topic18\", \"Topic18\", \"Topic18\", \"Topic18\", \"Topic18\", \"Topic18\", \"Topic18\", \"Topic18\", \"Topic18\", \"Topic18\", \"Topic18\", \"Topic18\", \"Topic18\", \"Topic18\", \"Topic18\", \"Topic18\", \"Topic19\", \"Topic19\", \"Topic19\", \"Topic19\", \"Topic19\", \"Topic19\", \"Topic19\", \"Topic19\", \"Topic19\", \"Topic19\", \"Topic19\", \"Topic19\", \"Topic19\", \"Topic19\", \"Topic19\", \"Topic19\", \"Topic19\", \"Topic19\", \"Topic19\", \"Topic19\", \"Topic19\", \"Topic19\", \"Topic19\", \"Topic19\", \"Topic19\", \"Topic19\", \"Topic19\", \"Topic19\", \"Topic19\", \"Topic19\", \"Topic19\", \"Topic19\", \"Topic19\", \"Topic19\", \"Topic19\", \"Topic19\", \"Topic19\", \"Topic19\", \"Topic19\", \"Topic19\", \"Topic19\", \"Topic19\", \"Topic19\", \"Topic19\", \"Topic19\", \"Topic19\", \"Topic19\", \"Topic19\", \"Topic19\", \"Topic19\", \"Topic19\", \"Topic19\", \"Topic19\", \"Topic19\", \"Topic19\", \"Topic19\", \"Topic19\", \"Topic19\", \"Topic20\", \"Topic20\", \"Topic20\", \"Topic20\", \"Topic20\", \"Topic20\", \"Topic20\", \"Topic20\", \"Topic20\", \"Topic20\", \"Topic20\", \"Topic20\", \"Topic20\", \"Topic20\", \"Topic20\", \"Topic20\", \"Topic20\", \"Topic20\", \"Topic20\", \"Topic20\", \"Topic20\", \"Topic20\", \"Topic20\", \"Topic20\", \"Topic20\", \"Topic20\", \"Topic20\", \"Topic20\", \"Topic20\", \"Topic20\", \"Topic20\", \"Topic20\", \"Topic20\", \"Topic20\", \"Topic20\", \"Topic20\", \"Topic20\", \"Topic20\", \"Topic20\", \"Topic20\", \"Topic20\", \"Topic20\", \"Topic20\", \"Topic20\", \"Topic20\", \"Topic20\", \"Topic20\", \"Topic20\", \"Topic20\", \"Topic20\", \"Topic20\", \"Topic20\", \"Topic20\", \"Topic21\", \"Topic21\", \"Topic21\", \"Topic21\", \"Topic21\", \"Topic21\", \"Topic21\", \"Topic21\", \"Topic21\", \"Topic21\", \"Topic21\", \"Topic21\", \"Topic21\", \"Topic21\", \"Topic21\", \"Topic21\", \"Topic21\", \"Topic21\", \"Topic21\", \"Topic21\", \"Topic21\", \"Topic21\", \"Topic21\", \"Topic21\", \"Topic21\", \"Topic21\", \"Topic21\", \"Topic21\", \"Topic21\", \"Topic21\", \"Topic21\", \"Topic21\", \"Topic21\", \"Topic21\", \"Topic21\", \"Topic21\", \"Topic21\", \"Topic21\", \"Topic21\", \"Topic21\", \"Topic21\", \"Topic21\", \"Topic21\", \"Topic21\", \"Topic21\", \"Topic21\", \"Topic21\", \"Topic21\", \"Topic21\", \"Topic21\", \"Topic21\", \"Topic21\", \"Topic21\", \"Topic21\", \"Topic21\", \"Topic21\", \"Topic21\", \"Topic21\", \"Topic22\", \"Topic22\", \"Topic22\", \"Topic22\", \"Topic22\", \"Topic22\", \"Topic22\", \"Topic22\", \"Topic22\", \"Topic22\", \"Topic22\", \"Topic22\", \"Topic22\", \"Topic22\", \"Topic22\", \"Topic22\", \"Topic22\", \"Topic22\", \"Topic22\", \"Topic22\", \"Topic22\", \"Topic22\", \"Topic22\", \"Topic22\", \"Topic22\", \"Topic22\", \"Topic22\", \"Topic22\", \"Topic22\", \"Topic22\", \"Topic22\", \"Topic22\", \"Topic22\", \"Topic22\", \"Topic22\", \"Topic22\", \"Topic22\", \"Topic22\", \"Topic22\", \"Topic22\", \"Topic22\", \"Topic22\", \"Topic22\", \"Topic22\", \"Topic22\", \"Topic22\", \"Topic22\", \"Topic22\", \"Topic22\"], \"logprob\": [30.0, 29.0, 28.0, 27.0, 26.0, 25.0, 24.0, 23.0, 22.0, 21.0, 20.0, 19.0, 18.0, 17.0, 16.0, 15.0, 14.0, 13.0, 12.0, 11.0, 10.0, 9.0, 8.0, 7.0, 6.0, 5.0, 4.0, 3.0, 2.0, 1.0, -4.1969, -4.2428, -4.7484, -5.0966, -5.0984, -5.7935, -6.2131, -6.216, -6.2215, -6.2376, -6.2919, -6.3683, -6.3842, -6.5713, -6.7337, -4.6934, -6.806, -6.8918, -6.9903, -7.0163, -4.8057, -7.297, -7.3086, -3.7256, -7.4401, -6.8138, -7.544, -7.5488, -7.5619, -7.7119, -6.5062, -6.9053, -5.3979, -6.0766, -5.6829, -5.1863, -6.055, -3.8904, -2.0355, -5.3046, -4.073, -4.461, -3.8564, -3.0337, -4.9066, -3.5107, -5.0129, -3.5713, -2.9865, -4.4345, -4.3148, -4.0542, -4.9401, -5.6453, -4.4005, -3.8549, -3.6208, -3.6045, -3.9862, -4.0804, -4.6365, -4.5786, -4.6908, -4.7152, -4.7765, -4.7915, -3.0666, -4.8529, -4.9196, -5.3879, -5.6139, -4.3125, -5.9427, -6.0062, -6.1912, -5.4394, -6.5112, -6.7357, -6.93, -5.4851, -7.3589, -4.0601, -7.5162, -4.3019, -6.5855, -8.1384, -5.609, -1.9073, -6.3731, -8.5961, -6.4274, -4.1203, -8.7414, -8.1858, -7.2775, -8.9545, -4.4819, -5.9588, -4.5272, -5.2561, -4.659, -3.6168, -5.0675, -3.1095, -2.6424, -4.2656, -4.2536, -4.2263, -3.1838, -3.7731, -4.1316, -4.6727, -2.9948, -3.4117, -3.942, -4.6933, -4.3584, -4.4085, -4.9804, -4.5542, -4.5819, -4.7071, -4.0116, -4.2148, -4.9592, -3.5884, -5.1661, -5.5777, -5.8235, -5.976, -6.02, -6.088, -6.5992, -6.7081, -6.7998, -6.8621, -7.0373, -7.0596, -7.1229, -7.1985, -7.2301, -6.8234, -7.2504, -7.3282, -7.4103, -7.4215, -7.4644, -7.4851, -7.5598, -6.8557, -7.6532, -7.7486, -6.9432, -6.9389, -4.9705, -6.0583, -6.0132, -1.0021, -4.4617, -5.0254, -3.0327, -2.6863, -4.3923, -4.4964, -5.8241, -4.2581, -5.5616, -4.7726, -6.1533, -5.7011, -5.1297, -5.5671, -4.3957, -4.0003, -5.3549, -3.7926, -4.282, -5.2036, -4.855, -5.1306, -5.2773, -5.2126, -4.9101, -5.1504, -5.4155, -5.459, -5.4485, -6.3872, -6.8712, -7.1411, -7.2797, -7.3512, -6.4065, -7.7735, -7.2094, -6.6083, -3.4061, -8.292, -7.0498, -8.3188, -8.3568, -8.0227, -5.2217, -8.821, -8.8219, -2.0835, -8.9357, -9.0409, -6.5813, -7.5203, -5.845, -9.2334, -9.3132, -6.3605, -4.8262, -7.2894, -9.5111, -6.2761, -4.9679, -5.0693, -1.6812, -6.91, -6.1592, -7.0022, -5.2832, -5.6672, -2.686, -5.8619, -3.6953, -4.8675, -5.1517, -3.9072, -3.0129, -3.759, -3.3697, -3.6228, -5.4502, -4.3731, -3.8578, -3.933, -4.618, -4.3666, -4.3, -5.6883, -5.0517, -5.0121, -5.0999, -4.9974, -4.7543, -5.134, -4.6346, -4.8088, -4.9007, -4.6441, -5.1083, -6.3917, -5.0516, -6.5307, -6.7452, -6.7877, -6.9562, -7.1207, -7.1362, -7.2831, -7.48, -7.4984, -5.5228, -7.7024, -7.7468, -7.7857, -6.6791, -8.1555, -8.2034, -6.6739, -2.2452, -7.4738, -8.4865, -8.5459, -8.5538, -5.8991, -8.5922, -8.7072, -6.8868, -5.955, -5.8519, -6.0467, -4.4961, -7.0967, -3.4711, -2.9374, -5.8129, -4.7403, -4.7984, -5.9961, -4.615, -3.0401, -5.443, -4.4557, -3.3347, -2.517, -4.9641, -5.1639, -3.4605, -3.8242, -4.2458, -4.3439, -4.4705, -4.3715, -3.5651, -3.4974, -4.18, -4.4338, -4.6985, -4.6165, -4.0294, -4.1677, -4.5674, -4.7492, -4.7935, -2.443, -5.5212, -5.6557, -5.9467, -6.1783, -4.9637, -6.3628, -6.4279, -6.64, -6.6623, -6.6865, -6.8584, -6.7549, -7.132, -7.2624, -7.3089, -7.9585, -5.0777, -8.0404, -7.6905, -8.1417, -8.3415, -7.0032, -8.3631, -4.5638, -8.445, -8.8374, -5.2538, -7.1767, -9.1913, -7.2064, -3.8122, -5.2802, -2.4104, -5.4217, -2.2138, -3.9726, -3.6271, -6.2529, -4.9465, -2.6738, -3.6793, -4.0469, -3.8186, -4.7629, -3.6803, -3.8899, -4.4341, -4.1095, -4.414, -4.1507, -4.571, -3.5008, -4.2149, -4.6344, -4.4744, -4.4391, -4.4611, -4.6598, -4.5012, -4.6253, -4.8516, -4.8991, -5.1298, -5.6426, -5.9679, -4.6147, -6.2142, -6.2539, -6.2606, -6.4789, -6.531, -6.545, -6.7406, -6.7222, -6.8274, -6.9114, -6.9219, -7.0846, -7.0336, -7.3129, -7.1916, -7.4014, -7.4178, -7.4537, -7.4904, -7.5097, -6.7692, -7.5722, -7.6526, -5.1082, -7.7098, -7.7416, -5.7489, -6.9836, -5.3221, -4.391, -5.4117, -6.5225, -5.5656, -6.0615, -3.6313, -3.5076, -5.7441, -5.3534, -2.4089, -3.8121, -3.5945, -4.9287, -2.5096, -5.2631, -5.1665, -4.114, -4.842, -3.5344, -3.4857, -3.9903, -5.0919, -3.8525, -5.1453, -4.2022, -5.2869, -4.2392, -4.2345, -3.9253, -4.5574, -4.257, -4.6173, -4.6078, -4.6504, -4.9967, -4.8858, -4.7455, -4.9692, -4.6262, -4.7525, -4.6619, -4.8763, -3.5208, -3.5412, -5.4904, -6.0429, -6.0924, -6.3815, -6.4146, -6.4724, -6.4821, -6.5974, -6.66, -6.7458, -6.823, -6.8283, -6.8829, -6.993, -6.1327, -7.1442, -7.1635, -6.5527, -7.3674, -7.4163, -3.7297, -7.5015, -4.4808, -7.5244, -7.5829, -7.645, -6.2462, -7.6921, -4.0337, -3.7754, -5.0928, -5.1114, -5.3197, -4.0764, -5.5405, -4.1623, -1.2932, -2.7794, -3.1158, -5.5701, -4.8881, -5.7639, -3.8427, -3.6115, -4.6203, -5.7817, -5.0607, -3.8342, -5.0364, -4.0929, -4.4982, -4.5069, -4.7929, -4.5826, -4.6701, -4.5449, -5.1081, -5.0465, -5.1805, -5.1343, -4.7389, -5.0633, -5.6883, -5.7594, -5.9793, -6.0459, -6.1267, -6.3576, -6.5009, -6.8143, -6.8316, -7.0458, -7.1099, -7.2163, -7.2204, -6.5432, -7.233, -7.5782, -7.5795, -7.5895, -6.4538, -7.6179, -7.6337, -7.6994, -7.9802, -8.0096, -7.0145, -8.1477, -5.9238, -8.2024, -4.755, -7.1383, -2.0075, -5.6214, -4.3139, -2.3221, -3.3437, -4.3504, -5.2861, -4.1631, -6.1325, -2.9417, -2.4136, -4.3577, -3.8459, -3.5484, -2.6421, -3.7911, -5.1748, -5.1155, -3.9044, -4.7229, -5.166, -3.6584, -4.1923, -4.3756, -4.5201, -4.9002, -4.4286, -4.8464, -4.8431, -4.6957, -4.6046, -4.9804, -5.0199, -1.7767, -2.9568, -3.148, -4.0693, -7.4681, -7.473, -3.1542, -7.7161, -6.773, -6.2829, -8.4285, -5.8693, -4.9515, -8.7135, -3.5981, -8.8318, -4.9905, -7.6724, -8.1773, -1.5545, -9.5194, -9.5194, -9.5194, -9.5194, -7.1031, -6.4784, -4.4374, -8.7943, -7.3214, -3.5153, -4.9941, -4.7708, -3.6848, -5.5418, -6.9758, -4.3209, -5.6295, -5.2537, -3.9688, -3.9286, -3.3448, -3.8362, -3.8722, -4.9931, -3.7492, -4.6939, -4.7566, -5.0144, -5.0923, -5.1122, -5.3167, -5.4, -5.3639, -5.3585, -3.6245, -4.2909, -4.6745, -4.786, -5.0562, -3.7628, -5.3312, -5.3671, -5.5773, -5.5909, -5.8146, -5.834, -2.7993, -5.9876, -5.9826, -6.0204, -6.1599, -6.2278, -6.3364, -6.7358, -4.8716, -6.8045, -6.3199, -6.9278, -6.9679, -7.0878, -3.644, -7.2455, -6.3833, -4.3625, -3.395, -4.4324, -5.4542, -1.1714, -6.2044, -5.5839, -6.0736, -4.695, -4.6471, -5.9348, -5.3553, -4.9075, -3.2378, -3.6442, -4.4216, -4.0377, -3.6885, -4.6673, -4.3594, -4.4002, -4.958, -5.05, -4.4234, -4.555, -4.7418, -4.7474, -4.8762, -5.7443, -6.1857, -6.1071, -6.2679, -6.4024, -6.4053, -6.9065, -7.132, -7.3322, -7.49, -7.6225, -7.8443, -7.8586, -7.8872, -7.8873, -7.8887, -7.9811, -8.0153, -8.0242, -8.1177, -8.289, -8.2898, -8.2925, -8.3444, -8.3512, -8.391, -8.4007, -8.4267, -8.6548, -5.3989, -7.2758, -1.124, -6.6664, -4.4938, -2.0249, -5.3813, -2.962, -7.3309, -2.5343, -4.7982, -5.0768, -6.5845, -2.6327, -4.2386, -4.3742, -4.2504, -3.6893, -3.2908, -3.88, -4.8718, -4.9927, -4.3659, -4.4025, -5.2008, -4.8958, -4.8622, -4.7478, -5.0726, -4.9679, -5.1545, -5.0496, -5.2856, -5.0823, -5.3125, -3.7364, -3.8615, -4.6582, -5.5028, -5.5646, -5.5419, -5.81, -5.8365, -5.9546, -6.2871, -6.3054, -6.4358, -6.4523, -3.6484, -6.6426, -6.5164, -6.8819, -6.9302, -7.1649, -7.1977, -3.9587, -4.6836, -7.742, -7.7665, -5.2773, -8.4303, -7.1037, -8.5164, -3.5721, -8.7124, -4.357, -2.9727, -3.6636, -2.8979, -4.0658, -3.4597, -1.8145, -5.7635, -4.976, -3.7644, -3.2332, -3.068, -4.0846, -3.2827, -4.6175, -4.8501, -5.1845, -3.7888, -3.327, -4.5412, -4.0377, -4.4784, -4.4866, -5.048, -4.8622, -4.9812, -3.0475, -4.4283, -4.3908, -5.0345, -5.2005, -5.2795, -5.3787, -5.734, -5.8263, -5.8775, -5.9138, -6.1202, -6.1503, -6.5856, -4.856, -4.4149, -6.7037, -6.8482, -6.8937, -6.9606, -6.9886, -6.996, -5.3133, -7.1191, -7.1818, -7.2013, -7.2192, -7.2234, -7.2663, -7.3348, -3.9803, -6.3881, -2.2989, -6.2274, -5.8059, -6.984, -5.6715, -5.1851, -1.6767, -3.7385, -3.9133, -5.3353, -3.9937, -4.4346, -4.3567, -4.651, -4.3845, -3.806, -4.5405, -5.0495, -4.378, -3.9664, -5.0124, -4.4807, -4.3694, -4.2243, -4.4337, -4.5575, -4.3334, -4.5097, -4.8065, -4.5377, -4.5395, -4.6893, -4.7087, -2.9092, -3.5457, -3.5882, -4.6933, -4.7395, -4.4226, -5.6048, -5.7047, -5.7296, -5.8172, -5.8296, -5.9186, -6.1197, -6.3348, -6.178, -6.4833, -6.6294, -7.1173, -5.9434, -7.248, -7.2686, -5.8491, -7.3426, -7.4482, -7.4748, -7.6016, -7.6141, -4.8785, -6.0306, -7.6983, -5.4158, -2.9881, -1.9977, -4.9291, -3.6818, -5.221, -2.2074, -5.2842, -4.3043, -3.6786, -4.5539, -5.1525, -3.7832, -3.7992, -3.4556, -3.6837, -4.4712, -4.8041, -4.2609, -4.7052, -4.5828, -4.685, -4.3707, -4.4103, -4.6908, -4.5107, -4.6846, -4.8468, -4.2499, -5.0235, -5.1884, -5.2714, -5.5167, -5.6308, -5.7299, -5.8219, -5.9859, -6.3492, -6.3573, -6.3689, -6.45, -6.5836, -6.6125, -4.4693, -6.6196, -6.8261, -6.9026, -4.7822, -6.9294, -6.9451, -6.9637, -7.0096, -7.0144, -7.2921, -5.9443, -7.3557, -6.1138, -7.4106, -5.2363, -4.078, -5.4692, -1.3119, -4.9997, -5.4491, -6.3897, -5.295, -5.537, -4.6447, -5.4901, -5.3829, -4.4531, -4.0914, -4.5973, -4.1621, -4.8377, -5.8675, -3.6175, -5.6014, -4.0891, -3.3683, -4.7822, -3.2399, -3.8771, -4.8277, -3.7693, -4.5695, -4.4843, -4.8879, -4.5895, -4.6527, -4.6951, -4.7687, -4.6174, -4.9444, -4.8068, -4.8793, -2.4857, -3.3176, -3.8147, -4.282, -4.381, -4.5534, -4.7904, -5.0077, -5.0279, -5.3396, -5.3411, -5.5303, -4.6848, -4.51, -5.7571, -5.7919, -6.0497, -6.0938, -6.2444, -6.3096, -6.3229, -6.4045, -6.4038, -6.5078, -4.2088, -6.5311, -6.5765, -6.6251, -6.6497, -6.6239, -5.0701, -5.5783, -4.7169, -6.039, -4.6111, -5.1958, -2.3393, -2.1747, -4.4329, -2.7127, -5.0315, -4.5711, -4.1247, -4.145, -4.6919, -4.6389, -3.7443, -4.5595, -4.2943, -4.2826, -4.4843, -4.6784, -4.4568, -4.4488, -4.7315, -3.583, -1.8819, -5.0088, -5.3269, -5.4544, -5.4713, -5.6648, -5.7833, -5.8977, -6.0114, -6.044, -6.2792, -6.3665, -6.4317, -3.5285, -6.4818, -6.4858, -6.5723, -6.4956, -6.5999, -6.7999, -6.9609, -6.9953, -2.3177, -7.0976, -7.1281, -5.4612, -7.2819, -7.3817, -7.4642, -4.8243, -2.0608, -2.9607, -4.2339, -5.9227, -5.0703, -4.9852, -3.6122, -4.3129, -4.5847, -2.9781, -5.5641, -5.4345, -4.619, -4.2422, -3.4389, -3.8877, -4.1534, -4.5543, -4.6442, -4.8149, -5.1599, -4.6124, -4.9154, -4.8867, -4.5536, -4.8195, -4.8284, -5.1012, -2.2382, -3.4653, -3.6944, -4.2473, -4.7204, -4.8522, -4.9785, -5.0046, -5.1696, -5.5159, -5.5239, -5.6008, -4.4026, -5.8101, -5.8523, -5.8525, -5.9307, -5.931, -6.0524, -6.1047, -5.2264, -6.1959, -6.5666, -6.6418, -6.7323, -6.897, -6.9281, -6.9738, -6.992, -4.9362, -1.9478, -5.1525, -5.1424, -6.1272, -4.9932, -4.3774, -4.7441, -5.5521, -3.948, -4.049, -4.4159, -3.2911, -4.3621, -4.8004, -3.5294, -4.442, -3.8643, -4.2315, -4.346, -4.8019, -4.5513, -4.0682, -4.346, -4.496, -4.4888, -4.4882, -4.5864, -4.825, -1.6809, -2.4272, -2.345, -2.7597, -3.6646, -6.047, -6.374, -6.4263, -6.5497, -6.967, -1.5275, -7.5108, -7.5836, -6.2182, -7.7242, -7.8262, -7.834, -7.9457, -8.2618, -4.5914, -7.0771, -7.353, -8.5313, -8.5449, -8.585, -8.1364, -8.1409, -8.7814, -8.7939, -8.8224, -3.8898, -7.6872, -5.2973, -5.9263, -5.2097, -2.387, -4.4002, -5.9035, -3.7283, -5.1617, -4.2583, -4.5111, -4.4678, -5.5948, -4.5179, -4.9675, -5.8346, -5.0502, -4.8166, -5.4085, -5.7622, -6.1109, -6.1685, -3.0054, -4.3639, -4.0496, -4.6977, -5.1776, -5.1922, -5.2923, -3.0738, -5.3617, -5.5715, -5.613, -5.7249, -5.7689, -5.9586, -6.0252, -6.2379, -6.3673, -6.412, -6.5053, -3.5343, -6.5485, -4.6581, -6.7861, -6.1949, -6.8029, -6.8237, -6.9414, -6.9504, -6.9576, -7.0034, -2.2319, -4.9633, -4.7678, -4.9075, -4.7331, -3.1754, -5.6618, -2.771, -5.3401, -3.2732, -4.8076, -4.3442, -4.2422, -5.2366, -4.3721, -3.5306, -3.8475, -3.822, -4.3527, -4.1358, -4.4946, -3.8547, -4.2702, -4.0482, -4.584, -4.1448, -4.3524, -4.6967, -2.7487, -4.0641, -4.5064, -4.8187, -4.9411, -5.393, -5.5579, -5.5601, -5.5982, -5.6143, -1.7121, -5.949, -6.1449, -2.8535, -3.5251, -6.2048, -6.638, -6.1312, -3.2301, -7.1968, -6.6337, -7.2557, -5.4222, -4.3393, -7.5751, -2.9079, -5.8851, -4.4376, -8.1703, -3.6041, -3.1838, -2.5763, -6.5011, -4.3414, -3.1162, -3.9395, -2.9234, -3.4949, -4.6219, -4.0401, -5.4168, -4.6351, -5.0815, -5.0432, -5.2209, -5.1387, -5.2146, -5.3593, -5.3485], \"loglift\": [30.0, 29.0, 28.0, 27.0, 26.0, 25.0, 24.0, 23.0, 22.0, 21.0, 20.0, 19.0, 18.0, 17.0, 16.0, 15.0, 14.0, 13.0, 12.0, 11.0, 10.0, 9.0, 8.0, 7.0, 6.0, 5.0, 4.0, 3.0, 2.0, 1.0, 2.3419, 2.3418, 2.3408, 2.3397, 2.3397, 2.3361, 2.3324, 2.3323, 2.3323, 2.3321, 2.3315, 2.3305, 2.3303, 2.3276, 2.3249, 2.3236, 2.3235, 2.3217, 2.3196, 2.3189, 2.3187, 2.3112, 2.3108, 2.3087, 2.3063, 2.3033, 2.3023, 2.3021, 2.3016, 2.295, 2.2906, 2.2909, 2.2554, 2.2639, 2.25, 2.2097, 2.2415, 2.0948, 1.9109, 2.1825, 2.0432, 2.0623, 1.9345, 1.636, 1.9805, 1.566, 1.8935, 1.3901, 1.1273, 1.6058, 1.4765, 1.3242, 1.6334, 1.9754, 1.0807, 0.3383, 0.1185, -0.3578, -0.6198, -0.5556, 0.084, -0.149, 0.0504, -0.0333, -0.1795, -0.1028, 2.3513, 2.349, 2.3488, 2.347, 2.3457, 2.344, 2.3434, 2.3428, 2.341, 2.3374, 2.3369, 2.3332, 2.3292, 2.3228, 2.3174, 2.3118, 2.3117, 2.2991, 2.2946, 2.2783, 2.2712, 2.2631, 2.2496, 2.238, 2.2274, 2.2241, 2.2213, 2.2139, 2.1927, 2.1926, 2.1777, 2.166, 2.1294, 2.1366, 2.1007, 1.9881, 2.0535, 1.7653, 1.625, 1.7417, 1.6219, 1.565, 1.1775, 1.024, 1.1011, 1.4171, 0.3716, 0.3276, 0.232, 1.1209, 0.3827, 0.1884, 1.2847, 0.013, -0.3308, 0.0135, 2.5386, 2.5383, 2.5363, 2.5362, 2.5355, 2.5331, 2.5312, 2.5296, 2.5292, 2.5285, 2.5207, 2.5185, 2.5163, 2.5149, 2.5102, 2.5095, 2.5075, 2.505, 2.5039, 2.5032, 2.5032, 2.5002, 2.4969, 2.4964, 2.4945, 2.4928, 2.4901, 2.4889, 2.4853, 2.48, 2.4722, 2.4718, 2.4261, 2.4436, 2.3952, 1.9823, 2.0967, 2.1309, 1.7643, 1.6751, 1.8016, 1.8101, 2.1306, 1.6174, 2.0319, 1.6986, 2.1639, 1.9369, 1.5966, 1.6184, 0.6809, 0.1136, 1.3281, -0.4262, -0.7573, 0.8717, -0.1138, 0.1021, 0.1753, -0.2468, -1.6635, -0.9572, -0.6342, -0.7384, -1.1811, 2.5758, 2.5655, 2.5572, 2.5521, 2.5492, 2.5346, 2.5272, 2.5159, 2.5071, 2.5008, 2.4851, 2.4824, 2.4823, 2.4783, 2.4602, 2.4469, 2.4165, 2.4163, 2.4158, 2.397, 2.3775, 2.3742, 2.3569, 2.3534, 2.3373, 2.3188, 2.299, 2.2889, 2.2812, 2.2677, 2.2456, 2.1537, 2.1355, 1.8435, 2.2133, 2.1318, 2.2195, 2.0236, 2.0524, 1.5261, 2.022, 1.5595, 1.7969, 1.7946, 1.4824, 1.2381, 1.4149, 1.0303, 1.0978, 1.7821, 1.2423, 0.9234, 0.9421, 1.2907, 0.9004, 0.7741, 1.8151, 1.1423, 1.0927, 1.1362, 0.9364, 0.3955, 0.7845, -0.8953, -0.6349, -0.2309, 2.8565, 2.8544, 2.8387, 2.8367, 2.8354, 2.8296, 2.8283, 2.8225, 2.8156, 2.8151, 2.8081, 2.7971, 2.796, 2.7893, 2.7819, 2.7785, 2.7754, 2.7681, 2.7395, 2.734, 2.7251, 2.7206, 2.7115, 2.6958, 2.6865, 2.6853, 2.6815, 2.679, 2.659, 2.6298, 2.6184, 2.5885, 2.5541, 2.4389, 2.5668, 2.1968, 2.064, 2.3886, 2.1001, 2.0873, 2.2554, 1.8094, 1.172, 2.0604, 1.6926, 1.2325, 0.7297, 1.7934, 1.8145, 0.7905, 0.9571, 1.1135, 1.1088, 1.1449, 1.0047, 0.1742, -0.131, 0.2201, 0.2868, 0.68, 0.5333, -0.5047, -1.1833, -0.3, 0.3248, -0.6196, 2.8757, 2.8668, 2.8655, 2.8619, 2.8581, 2.8566, 2.8546, 2.8494, 2.8478, 2.8472, 2.8465, 2.841, 2.8403, 2.8302, 2.8238, 2.8215, 2.774, 2.7713, 2.7658, 2.7638, 2.7547, 2.7297, 2.7295, 2.7268, 2.723, 2.715, 2.6459, 2.6368, 2.5907, 2.5622, 2.5258, 2.4529, 2.3738, 1.857, 2.2534, 1.5255, 1.8416, 1.6056, 2.2969, 1.8841, 0.6926, 1.0619, 1.1029, 0.8701, 1.3855, 0.681, 0.6773, 0.942, 0.6717, 0.8907, 0.6463, 0.9101, -0.2542, 0.467, 0.4397, -0.0743, -0.2652, -0.2101, 0.2153, -0.5548, -1.1006, 0.5268, 0.1022, 2.9113, 2.9068, 2.9026, 2.8999, 2.8984, 2.8976, 2.8975, 2.8926, 2.8913, 2.8909, 2.8851, 2.8838, 2.8822, 2.8791, 2.8787, 2.8713, 2.8634, 2.8605, 2.8595, 2.8554, 2.8544, 2.8521, 2.8498, 2.8485, 2.8481, 2.8441, 2.8382, 2.8355, 2.8336, 2.8311, 2.788, 2.8115, 2.7314, 2.6006, 2.6596, 2.7467, 2.6357, 2.6866, 2.2557, 1.8516, 2.4048, 2.2325, 1.1158, 1.6405, 1.4069, 1.9842, 0.7371, 2.0963, 2.0286, 1.3672, 1.7876, 0.8657, 0.7653, 1.0838, 1.8865, 0.8362, 1.8592, 0.6729, 1.8605, 0.5421, 0.4474, -0.186, 0.8322, -0.0638, 0.6874, 0.647, 0.7258, 1.4397, 1.1015, 0.4043, 1.1792, -1.2598, -0.5405, -1.6774, 0.3907, 2.9608, 2.9606, 2.9523, 2.9452, 2.9443, 2.9384, 2.9377, 2.9362, 2.936, 2.9328, 2.931, 2.9282, 2.9255, 2.9253, 2.9233, 2.9189, 2.915, 2.912, 2.9111, 2.9018, 2.8999, 2.8969, 2.8964, 2.8913, 2.8912, 2.8897, 2.8855, 2.8808, 2.8802, 2.877, 2.8525, 2.7949, 2.8202, 2.7787, 2.781, 2.6066, 2.6722, 2.3089, 1.6912, 1.9025, 1.9609, 2.5752, 2.2974, 2.5324, 1.462, 1.0772, 1.6861, 2.3468, 1.6656, 0.359, 1.5219, 0.2685, 0.7345, 0.669, 0.1728, -0.4687, -0.4191, -0.8056, 0.1589, -0.3259, -0.3054, -1.7679, 3.0597, 3.0576, 3.0516, 3.05, 3.0471, 3.0459, 3.0443, 3.039, 3.035, 3.0243, 3.0235, 3.0139, 3.0107, 3.0047, 3.0045, 3.0044, 3.0038, 2.9796, 2.9795, 2.9787, 2.9775, 2.9763, 2.9749, 2.9691, 2.9399, 2.9364, 2.9208, 2.9187, 2.9135, 2.9111, 2.831, 2.8736, 2.5895, 2.5595, 2.3157, 1.6243, 1.8303, 2.0532, 2.3211, 1.9122, 2.506, 1.2704, 0.9529, 1.686, 1.4089, 1.2329, 0.3423, 0.8786, 1.8314, 1.7614, 0.8367, 1.2644, 1.659, -0.1336, 0.2373, 0.4992, 0.355, 1.0085, -0.2354, 0.4206, 0.3068, -0.2957, -1.3579, 0.6245, 0.7803, 3.0974, 3.0968, 3.0964, 3.095, 3.0188, 3.0184, 3.0105, 2.9976, 2.9626, 2.9241, 2.9033, 2.8584, 2.8548, 2.8467, 2.8461, 2.8192, 2.8172, 2.6748, 2.6696, 2.6195, 2.6037, 2.6037, 2.6037, 2.6037, 2.5441, 2.4993, 2.4777, 2.4377, 2.4361, 2.4229, 2.3677, 2.2302, 1.7047, 1.9207, 2.1664, 1.5976, 1.8591, 1.7379, 1.2859, 0.9462, 0.3945, 0.5639, 0.3788, 1.0823, -0.2245, 0.5731, 0.3175, 0.3448, -0.4104, -0.613, -0.5755, -0.0953, -0.6752, -1.1653, 3.1705, 3.1687, 3.167, 3.1663, 3.1645, 3.1625, 3.162, 3.1616, 3.1591, 3.1589, 3.1555, 3.1547, 3.1529, 3.1524, 3.152, 3.1517, 3.1487, 3.147, 3.1442, 3.1306, 3.1277, 3.1277, 3.1254, 3.1219, 3.1199, 3.1134, 3.1059, 3.1037, 3.1018, 3.098, 3.0899, 3.0902, 3.0962, 2.9519, 3.0979, 3.0114, 3.0517, 2.5733, 2.5379, 2.9773, 2.5865, 2.2153, 0.8761, 1.0255, 1.0595, 0.392, -0.322, 1.0061, 0.4219, -0.1492, 1.0823, 1.3864, -1.439, -1.0302, -0.3417, -0.5542, 3.1972, 3.1878, 3.1789, 3.1785, 3.1768, 3.1729, 3.1728, 3.153, 3.1404, 3.1268, 3.1142, 3.1021, 3.0783, 3.0766, 3.0732, 3.0731, 3.073, 3.0611, 3.0565, 3.0553, 3.0418, 3.0142, 3.0141, 3.0136, 3.0044, 3.0032, 2.9958, 2.994, 2.989, 2.9315, 2.8547, 2.8738, 2.1226, 2.7827, 2.5065, 2.1683, 2.5203, 1.7792, 2.7921, 1.5796, 2.1147, 1.9354, 2.4983, 0.7337, 1.4349, 1.2936, 1.1258, 0.7107, 0.4485, 0.7169, 1.0152, 1.0826, 0.316, 0.3181, 1.1056, 0.5568, 0.2119, -0.1806, 0.317, -0.1866, -0.1532, -0.7986, 0.0082, -2.0979, -0.1366, 3.2038, 3.2035, 3.2005, 3.1931, 3.1923, 3.1916, 3.1885, 3.1881, 3.1859, 3.178, 3.1775, 3.1736, 3.1731, 3.1717, 3.1662, 3.1609, 3.1558, 3.1495, 3.1399, 3.1378, 3.1335, 3.1112, 3.0911, 3.0884, 3.0444, 2.989, 2.9808, 2.9716, 2.9565, 2.9274, 2.8729, 2.7409, 2.5899, 2.252, 2.3706, 2.2137, 1.4321, 2.6688, 2.2923, 1.7168, 1.4366, 1.1441, 1.7063, 0.8406, 1.8369, 1.9758, 2.2207, 0.8999, 0.4123, 0.9115, -0.513, 0.5229, -0.057, 1.4752, -0.4622, -0.1842, 3.2671, 3.264, 3.2632, 3.2601, 3.2586, 3.2578, 3.2566, 3.2516, 3.2495, 3.249, 3.2483, 3.2437, 3.2429, 3.2292, 3.2259, 3.2212, 3.2212, 3.2176, 3.2153, 3.2117, 3.2102, 3.2095, 3.2066, 3.2023, 3.1981, 3.1968, 3.1956, 3.1953, 3.1922, 3.187, 3.1378, 3.1462, 2.877, 3.114, 3.0675, 3.1767, 2.9428, 2.8048, 1.6897, 2.1702, 2.1765, 2.6264, 2.05, 2.2174, 2.1524, 2.223, 1.9476, 1.3679, 1.8284, 2.1647, 1.2374, 0.6008, 1.992, 1.1187, 0.8975, -0.0504, 0.0655, 0.1631, -0.8086, -0.1096, 1.1121, -0.2867, -0.8002, -0.0074, -1.7243, 3.5028, 3.5016, 3.5015, 3.4964, 3.4961, 3.496, 3.4852, 3.4832, 3.4827, 3.4807, 3.4804, 3.4783, 3.4726, 3.4652, 3.4597, 3.4592, 3.4523, 3.421, 3.4174, 3.41, 3.4081, 3.4011, 3.4011, 3.3902, 3.3873, 3.3726, 3.371, 3.3694, 3.3629, 3.3601, 3.3416, 3.2156, 2.9637, 3.1732, 3.0073, 3.1568, 2.3598, 2.991, 2.6568, 2.2553, 2.3361, 2.4547, 1.0919, 1.0756, 0.2837, 0.4301, 1.4158, 1.7694, 0.4802, 1.2821, 1.0221, 1.1293, -0.2003, -0.2364, 0.4831, -1.1443, -0.255, -0.5957, 3.5316, 3.5256, 3.5235, 3.5225, 3.5186, 3.5165, 3.5144, 3.5123, 3.508, 3.4957, 3.4954, 3.4949, 3.4914, 3.4851, 3.4837, 3.4812, 3.4769, 3.4715, 3.4664, 3.4647, 3.4646, 3.4635, 3.4622, 3.4588, 3.4585, 3.4347, 3.4319, 3.4283, 3.4229, 3.4225, 3.4183, 3.3754, 3.396, 3.1177, 3.3451, 3.3226, 3.4115, 3.3011, 3.2804, 3.1458, 3.2638, 3.2442, 3.0587, 2.9148, 2.9871, 2.8381, 2.9803, 3.3231, 2.3698, 3.2021, 1.7979, 0.755, 2.23, 0.2849, 0.335, 1.8614, -0.5226, 0.7897, 0.3908, 1.5564, -0.4757, -0.2527, -0.5019, -0.2015, -1.633, 0.8559, -1.0675, -0.1905, 3.5938, 3.5926, 3.5913, 3.5892, 3.5886, 3.5875, 3.5835, 3.5832, 3.5831, 3.5789, 3.5789, 3.5756, 3.5743, 3.5722, 3.5709, 3.57, 3.5629, 3.5615, 3.5562, 3.5536, 3.5525, 3.5496, 3.5496, 3.5448, 3.5445, 3.5437, 3.5414, 3.5388, 3.5374, 3.5373, 3.5285, 3.5253, 3.4969, 3.5206, 3.3391, 3.3022, 1.8539, 1.1917, 2.4482, 1.4011, 2.7085, 2.1864, 1.2537, 1.1489, 1.7445, 1.5215, -0.4977, 1.2407, 0.5808, 0.2846, 0.7484, 0.9894, -0.2058, -0.7095, 1.1386, 3.6408, 3.6339, 3.6317, 3.6273, 3.625, 3.6247, 3.6207, 3.6178, 3.6147, 3.6113, 3.6101, 3.6016, 3.5978, 3.5948, 3.5936, 3.5923, 3.5921, 3.5876, 3.5875, 3.586, 3.5737, 3.562, 3.5592, 3.5524, 3.5505, 3.5478, 3.5433, 3.5327, 3.5217, 3.5119, 3.4662, 3.2331, 3.1998, 3.269, 3.3809, 3.1522, 3.054, 2.5161, 2.564, 2.6201, 1.7425, 3.0551, 2.9612, 2.206, 1.8626, 0.675, 0.9874, 1.1136, 1.3642, 1.3961, 0.9993, 1.9294, -0.2123, 0.8848, 0.7287, -1.0289, -0.1376, -0.6164, 0.2035, 3.8193, 3.8171, 3.8164, 3.8135, 3.8095, 3.8081, 3.8064, 3.8061, 3.8036, 3.7967, 3.7966, 3.7947, 3.7934, 3.7889, 3.7875, 3.7875, 3.7849, 3.7849, 3.7804, 3.7783, 3.7757, 3.7744, 3.7545, 3.7496, 3.7415, 3.73, 3.7273, 3.7231, 3.7214, 3.7203, 3.6516, 3.6937, 3.5183, 3.6367, 3.4933, 3.3311, 3.2674, 3.3168, 2.0594, 2.0408, 2.3294, 0.9763, 1.7541, 2.3001, -0.163, 1.3722, -0.125, 0.4572, 0.251, 1.5669, 0.6814, -1.0838, -0.0949, 0.3788, 0.0784, -0.2949, 0.0956, 0.4797, 3.8722, 3.8716, 3.8712, 3.8711, 3.8636, 3.8304, 3.8148, 3.8117, 3.804, 3.7702, 3.7436, 3.7021, 3.6904, 3.6795, 3.6655, 3.6456, 3.644, 3.6202, 3.5404, 3.5371, 3.5086, 3.4688, 3.4566, 3.4519, 3.438, 3.4095, 3.4069, 3.3643, 3.3593, 3.3477, 2.5646, 3.157, 2.4096, 2.5603, 2.1568, 0.8596, 1.5337, 2.2774, 1.1468, 1.7657, 1.101, -0.0118, -0.2167, 0.774, -0.9932, -0.5675, 0.8174, -0.8382, -1.4502, -1.2852, -0.4683, -0.8439, -0.2598, 4.0946, 4.0874, 4.0842, 4.0835, 4.0751, 4.0748, 4.0724, 4.0709, 4.0707, 4.0645, 4.0622, 4.0592, 4.0575, 4.0494, 4.0462, 4.0344, 4.026, 4.0229, 4.0159, 4.0129, 4.0124, 4.0113, 3.9908, 3.9906, 3.9891, 3.987, 3.974, 3.9729, 3.9721, 3.9666, 3.9388, 3.966, 3.9485, 3.948, 3.8543, 3.5966, 3.8402, 3.3573, 3.5335, 2.527, 3.2587, 2.7786, 2.7041, 3.288, 2.2121, 1.1581, 1.2266, 0.86, 1.7521, 1.1689, 1.8374, 0.3385, 0.9037, -0.5234, 1.3498, -1.1604, -1.1058, -0.4457, 4.5312, 4.5229, 4.5161, 4.5102, 4.5071, 4.49, 4.4844, 4.4843, 4.4824, 4.4816, 4.4745, 4.4614, 4.4463, 4.4373, 4.4297, 4.4188, 4.394, 4.3461, 4.3296, 4.3006, 4.295, 4.288, 4.2422, 4.2194, 4.2091, 4.1399, 4.0852, 4.0498, 4.0054, 3.9848, 3.9167, 3.0972, 3.9211, 2.4845, 1.5726, 1.9943, 0.8159, 0.9051, 1.9624, 0.2109, 2.5048, -0.423, 1.0232, 0.0309, 1.1923, -0.4567, -1.1007, 0.4549, -2.1018]}, \"token.table\": {\"Topic\": [2, 6, 14, 17, 18, 22, 2, 7, 10, 14, 18, 4, 5, 13, 15, 11, 3, 4, 7, 8, 12, 16, 17, 18, 21, 9, 1, 3, 4, 5, 6, 7, 8, 9, 10, 13, 14, 15, 16, 17, 18, 19, 20, 14, 13, 12, 20, 10, 1, 3, 4, 5, 6, 7, 10, 11, 13, 16, 18, 6, 11, 13, 16, 3, 14, 8, 17, 19, 21, 7, 17, 1, 3, 4, 5, 6, 7, 8, 10, 14, 16, 17, 1, 2, 3, 4, 5, 6, 7, 8, 9, 10, 12, 14, 15, 18, 19, 20, 12, 16, 12, 2, 6, 8, 17, 3, 8, 17, 17, 3, 4, 5, 8, 9, 19, 19, 19, 14, 19, 1, 7, 22, 3, 20, 1, 2, 3, 6, 9, 15, 18, 1, 2, 3, 6, 8, 9, 15, 18, 19, 15, 19, 10, 1, 2, 3, 6, 7, 9, 11, 12, 13, 14, 16, 19, 9, 16, 1, 2, 3, 4, 6, 7, 8, 9, 10, 14, 16, 17, 18, 8, 9, 14, 21, 13, 13, 19, 9, 17, 6, 18, 10, 22, 22, 3, 16, 19, 1, 2, 11, 16, 2, 15, 1, 3, 9, 13, 15, 17, 21, 15, 17, 21, 22, 13, 4, 6, 13, 13, 14, 1, 2, 4, 5, 9, 10, 14, 18, 19, 20, 1, 15, 17, 2, 14, 3, 4, 5, 7, 8, 18, 6, 7, 3, 8, 9, 21, 4, 4, 5, 1, 7, 11, 19, 21, 18, 7, 9, 22, 4, 5, 6, 3, 5, 9, 14, 17, 18, 19, 21, 22, 14, 21, 21, 16, 14, 4, 7, 17, 13, 3, 4, 5, 8, 9, 21, 4, 5, 14, 18, 1, 2, 3, 4, 6, 7, 8, 12, 15, 17, 18, 19, 22, 17, 1, 3, 10, 14, 7, 4, 20, 3, 7, 11, 13, 18, 21, 9, 22, 17, 7, 7, 15, 11, 13, 19, 1, 12, 9, 15, 1, 5, 7, 11, 12, 9, 14, 7, 1, 12, 9, 16, 7, 16, 11, 13, 13, 13, 16, 13, 1, 3, 7, 8, 16, 21, 5, 9, 1, 2, 3, 6, 7, 8, 9, 11, 13, 14, 16, 18, 19, 21, 1, 5, 17, 2, 5, 21, 8, 3, 4, 5, 10, 14, 9, 12, 19, 19, 5, 1, 2, 3, 6, 8, 9, 15, 19, 9, 3, 1, 2, 3, 4, 5, 6, 7, 8, 9, 10, 11, 14, 15, 16, 17, 18, 19, 20, 21, 1, 3, 4, 19, 21, 18, 9, 14, 1, 2, 3, 4, 5, 6, 7, 8, 9, 10, 11, 12, 13, 14, 15, 16, 17, 18, 19, 20, 21, 22, 1, 2, 3, 4, 5, 6, 7, 9, 11, 13, 14, 15, 16, 17, 20, 22, 20, 22, 1, 2, 3, 4, 5, 6, 7, 8, 9, 10, 11, 13, 14, 15, 16, 17, 18, 19, 20, 21, 22, 1, 7, 17, 19, 21, 6, 16, 1, 2, 3, 4, 5, 6, 7, 8, 9, 10, 11, 13, 14, 15, 16, 18, 19, 21, 22, 19, 21, 4, 2, 4, 1, 5, 6, 7, 11, 13, 15, 16, 1, 6, 7, 4, 5, 15, 1, 2, 4, 5, 10, 14, 1, 2, 3, 4, 5, 6, 7, 8, 9, 11, 14, 15, 18, 20, 14, 16, 1, 6, 10, 15, 1, 2, 4, 5, 6, 7, 10, 14, 15, 16, 17, 1, 2, 6, 10, 15, 16, 10, 14, 1, 4, 21, 5, 9, 17, 18, 5, 5, 20, 18, 6, 21, 19, 18, 6, 5, 1, 5, 4, 10, 2, 6, 14, 3, 9, 15, 7, 10, 7, 3, 6, 16, 9, 9, 2, 7, 1, 3, 4, 5, 8, 9, 16, 18, 21, 1, 2, 3, 4, 5, 6, 7, 8, 9, 10, 11, 12, 13, 14, 15, 16, 17, 18, 19, 21, 22, 1, 7, 9, 16, 22, 3, 8, 12, 3, 3, 9, 11, 3, 8, 3, 8, 19, 3, 8, 8, 3, 8, 3, 3, 1, 2, 3, 4, 5, 6, 7, 8, 9, 12, 13, 15, 16, 21, 9, 3, 10, 8, 4, 21, 1, 2, 3, 4, 5, 6, 7, 8, 9, 10, 11, 12, 13, 14, 15, 16, 17, 19, 20, 21, 14, 13, 22, 22, 1, 2, 3, 5, 6, 9, 10, 14, 15, 19, 6, 19, 11, 13, 9, 10, 21, 4, 8, 9, 15, 18, 3, 20, 11, 13, 1, 20, 19, 1, 11, 13, 1, 18, 1, 2, 3, 4, 5, 6, 7, 9, 10, 11, 12, 13, 14, 16, 17, 7, 12, 16, 11, 17, 5, 22, 1, 14, 9, 2, 6, 15, 20, 6, 3, 12, 4, 7, 1, 2, 3, 4, 5, 6, 7, 8, 9, 10, 11, 12, 13, 14, 15, 16, 17, 18, 19, 21, 22, 20, 21, 11, 17, 17, 22, 3, 1, 2, 3, 4, 6, 7, 8, 9, 11, 13, 14, 15, 16, 17, 19, 20, 21, 22, 7, 16, 22, 12, 6, 1, 3, 8, 9, 12, 1, 2, 3, 4, 5, 6, 7, 8, 10, 11, 14, 16, 17, 20, 21, 1, 2, 3, 6, 7, 8, 9, 10, 11, 12, 13, 14, 15, 16, 17, 18, 19, 21, 22, 1, 2, 3, 4, 6, 7, 8, 9, 10, 11, 12, 13, 14, 15, 16, 17, 18, 19, 21, 22, 3, 14, 19, 2, 18, 20, 3, 4, 5, 10, 8, 3, 5, 6, 7, 17, 3, 1, 4, 13, 16, 11, 17, 3, 8, 5, 7, 8, 9, 12, 13, 14, 15, 16, 17, 1, 4, 6, 7, 14, 1, 2, 3, 4, 5, 6, 7, 8, 9, 10, 11, 12, 14, 15, 16, 17, 19, 1, 2, 3, 4, 5, 6, 7, 8, 9, 10, 14, 15, 16, 17, 18, 19, 21, 22, 8, 1, 3, 7, 8, 6, 22, 4, 16, 17, 19, 21, 4, 5, 10, 14, 3, 17, 3, 12, 7, 7, 9, 11, 2, 7, 3, 4, 5, 6, 8, 9, 13, 18, 21, 14, 9, 2, 11, 13, 16, 11, 9, 1, 4, 6, 9, 14, 17, 18, 19, 1, 2, 3, 5, 6, 7, 11, 12, 13, 14, 15, 19, 21, 22, 1, 6, 1, 3, 4, 5, 6, 7, 8, 10, 11, 14, 16, 17, 18, 19, 1, 3, 10, 1, 2, 3, 4, 5, 6, 7, 8, 9, 10, 11, 12, 14, 15, 16, 17, 18, 19, 20, 21, 22, 8, 14, 15, 17, 18, 11, 1, 1, 2, 3, 4, 5, 6, 8, 9, 10, 12, 15, 16, 18, 19, 1, 14, 18, 12, 21, 1, 3, 4, 5, 6, 9, 10, 11, 12, 14, 16, 21, 5, 7, 11, 4, 17, 7, 8, 5, 15, 1, 2, 3, 5, 6, 8, 15, 19, 2, 20, 1, 2, 3, 4, 5, 6, 7, 8, 10, 11, 12, 14, 17, 18, 19, 20, 21, 22, 1, 1, 3, 8, 14, 19, 21, 9, 1, 3, 8, 16, 3, 5, 7, 9, 14, 2, 5, 7, 8, 9, 12, 15, 16, 18, 19, 19, 7, 16, 18, 1, 21, 21, 18, 21, 14, 4, 15, 6, 7, 7, 11, 12, 13, 16, 17, 22, 5, 10, 21, 1, 2, 3, 4, 5, 8, 9, 17, 18, 21, 17, 22, 22, 5, 13, 2, 9, 16, 4, 8, 17, 22, 20, 6, 3, 9, 17, 17, 21, 17, 16, 5, 6, 14, 2, 5, 6, 14, 2, 17, 1, 6, 15, 9, 3, 12, 1, 2, 3, 4, 5, 6, 7, 8, 9, 10, 11, 13, 14, 15, 16, 17, 19, 21, 10, 14, 8, 1, 2, 3, 4, 5, 6, 7, 8, 9, 10, 11, 12, 14, 15, 16, 17, 18, 19, 21, 1, 2, 3, 4, 5, 6, 7, 8, 9, 10, 11, 12, 13, 14, 15, 16, 17, 19, 21, 1, 11, 16, 19, 3, 16, 1, 2, 3, 4, 5, 6, 7, 8, 9, 10, 11, 13, 14, 15, 16, 18, 19, 20, 21, 22, 1, 3, 4, 5, 6, 7, 8, 9, 11, 13, 15, 16, 17, 18, 19, 1, 2, 3, 4, 7, 8, 9, 10, 14, 16, 17, 19, 21, 7, 2, 5, 7, 10, 13, 17, 7, 10, 11, 16, 17, 6, 7, 11, 13, 17, 17, 18, 20, 1, 2, 3, 4, 5, 6, 7, 8, 9, 10, 12, 15, 19, 21, 12, 7, 22, 1, 2, 3, 4, 5, 6, 9, 11, 13, 16, 19, 21, 11, 1, 2, 5, 6, 7, 8, 14, 16, 5, 13, 3, 7, 15, 16, 18, 11, 19, 15, 21, 15, 11, 13, 20, 22, 13, 11, 13, 11, 10, 11, 16, 12, 16, 9, 1, 2, 3, 4, 5, 6, 9, 10, 14, 4, 5, 7, 9, 11, 13, 16, 13, 5, 15, 1, 2, 3, 6, 8, 15, 18, 1, 2, 3, 6, 18, 3, 12, 5, 15, 3, 4, 6, 9, 14, 15, 17, 1, 2, 4, 5, 7, 10, 14, 15, 18, 19, 2, 21, 2, 6, 1, 2, 3, 6, 9, 19, 5, 15, 15, 2, 15, 8, 4, 10, 8, 1, 19, 11, 13, 7, 6, 3, 4, 7, 8, 9, 14, 16, 20, 21, 2, 6, 14, 17, 19, 13, 1, 2, 3, 4, 5, 6, 7, 8, 9, 10, 11, 13, 14, 16, 17, 18, 19, 5, 17, 4, 6, 9, 11, 13, 15, 16, 18, 19, 1, 2, 3, 4, 5, 6, 7, 8, 9, 10, 11, 12, 13, 14, 15, 16, 17, 18, 19, 20, 21, 22, 1, 2, 4, 6, 8, 14, 15, 19, 7, 14, 18, 20, 20, 22, 8, 11, 1, 2, 3, 12, 13, 16, 19, 1, 20, 8, 8, 1, 3, 5, 14, 20, 11, 1, 3, 1, 7, 11, 16, 17, 19, 3, 8, 14, 12, 1, 2, 3, 4, 5, 6, 7, 8, 9, 10, 11, 12, 13, 14, 15, 16, 17, 18, 19, 20, 21, 22, 2, 3, 4, 5, 6, 7, 10, 11, 13, 14, 16, 17, 19, 20, 5, 15, 17, 3, 5, 9, 10, 14, 18, 7, 12, 14, 4, 8, 14, 21, 4, 5, 7, 12, 14, 17, 19, 21, 8, 8, 12, 8, 10, 18, 5, 16, 11, 16, 12, 7, 21, 22, 12, 17, 6, 21, 3, 5, 10, 17, 11, 21, 4, 12, 1, 2, 3, 4, 5, 6, 7, 8, 9, 10, 11, 12, 13, 14, 16, 17, 20, 22, 8, 5, 7, 10, 13, 14, 17, 20, 8, 1, 3, 6, 6, 18, 21, 2, 5, 6, 22, 1, 3, 4, 5, 7, 9, 12, 13, 16, 2, 5, 6, 7, 8, 15, 16, 17, 3, 20, 2, 14, 15, 19, 22, 2, 2, 3, 5, 7, 8, 9, 12, 17, 19, 22, 1, 3, 4, 6, 7, 8, 10, 11, 13, 16, 18, 19, 12, 5, 9, 10, 20, 10, 1, 2, 3, 4, 5, 6, 7, 8, 9, 10, 11, 12, 14, 15, 16, 17, 18, 19, 21, 22, 17, 3, 14, 20, 11, 20, 3, 15, 16, 3, 21, 11, 17, 2, 6, 2, 2, 4, 14, 19, 12, 19, 19, 8, 11, 16, 17, 7, 16, 8, 10, 19, 21, 8, 8, 7, 12, 20, 17, 16, 16, 3, 4, 1, 8, 11, 13, 14, 16, 19, 20, 1, 4, 11, 13, 16, 19, 22, 19, 20, 17, 1, 1, 2, 3, 4, 5, 6, 8, 11, 12, 14, 15, 16, 17, 18, 19, 20, 16, 13, 16, 3, 9, 16, 8, 15, 1, 2, 12, 18, 19, 9, 3, 3, 7, 3, 4, 7, 18, 4, 13, 15, 6, 6, 1, 6, 1, 2, 3, 7, 8, 9, 11, 12, 13, 14, 15, 17, 19, 21, 1, 2, 3, 4, 5, 15, 3, 5, 3, 1, 3, 5, 6, 18, 1, 3, 6, 17, 22, 17, 11, 13, 13, 11, 1, 4, 5, 14, 1, 9, 11, 17, 1, 3, 4, 5, 6, 8, 9, 10, 14, 21, 20, 2, 4, 17, 17, 22, 21, 17, 1, 5, 16, 19, 5, 18, 20, 3, 22, 3, 7, 11, 13, 18, 1, 15, 16, 2, 4, 11, 13, 21, 14, 15, 21, 12, 3, 3, 9, 20, 21, 13, 16, 1, 3, 4, 5, 6, 7, 9, 10, 11, 12, 13, 14, 15, 16, 21, 4, 5, 12, 17, 4, 7, 8, 5, 5, 7, 7, 10, 16, 20, 7, 3, 7, 10, 11, 3, 16, 6, 2, 15, 17, 17, 10, 20, 18, 7, 8, 21, 21, 10, 22, 21, 3, 8, 9, 16, 21, 1, 18, 8, 1, 2, 3, 4, 5, 6, 7, 8, 10, 11, 12, 13, 15, 16, 17, 20, 22, 5, 14, 1, 3, 5, 7, 9, 10, 14, 20, 21, 7, 11, 17, 5, 10, 14, 1, 2, 3, 4, 5, 6, 7, 8, 10, 11, 12, 13, 14, 15, 17, 18, 19, 21, 1, 2, 3, 4, 5, 6, 7, 8, 9, 10, 11, 13, 14, 15, 16, 17, 18, 19, 20, 21, 22, 1, 2, 3, 5, 6, 8, 10, 12, 15, 17, 19, 5, 17, 22, 21, 15, 1, 7, 19, 1, 4, 12, 18, 14, 5, 21, 1, 3, 8, 1, 3, 8, 18, 4, 5, 6, 10, 15, 17, 21, 15, 12, 11, 2, 4, 5, 6, 7, 9, 10, 14, 15, 16, 15, 15, 3, 8, 20, 7, 7, 1, 7, 1, 6, 9, 18, 4, 1, 2, 3, 4, 6, 7, 8, 10, 14, 15, 16, 17, 19, 20, 21, 9, 2, 11, 17, 19, 16, 3, 11, 13, 3, 4, 8, 16, 21, 4, 16, 18, 16, 1, 15, 6, 14, 15, 5, 5, 14, 16, 1, 4, 11, 13, 16, 11, 13, 20, 13, 17, 22, 1, 3, 4, 5, 6, 7, 9, 10, 14, 15, 16, 4, 5, 6, 7, 13, 14, 16, 17, 20, 1, 3, 4, 5, 6, 7, 8, 9, 11, 12, 13, 14, 16, 17, 21, 7, 20, 14, 19, 2, 19, 21, 18, 12, 16, 6, 20, 7, 12, 17, 7, 17, 20, 15, 4, 7, 14, 16, 5, 7, 16, 20, 16, 11, 1, 2, 5, 19, 18, 1, 15, 1, 4, 6, 9, 13, 14, 18, 1, 6, 10, 14, 16, 17, 3, 22, 1, 2, 3, 4, 6, 7, 10, 12, 14, 15, 16, 17, 18, 19, 20, 22, 6, 9, 14, 1, 2, 3, 4, 6, 7, 8, 11, 13, 14, 15, 16, 17, 18, 19, 20, 21, 3, 8, 18, 21, 6, 19, 7, 16, 17, 12, 14, 1, 3, 8, 1, 3, 4, 5, 7, 10, 11, 14, 15, 17, 18, 15, 17, 12, 3, 4, 1, 2, 3, 4, 5, 6, 7, 8, 9, 10, 11, 12, 13, 14, 15, 16, 17, 18, 19, 21, 22, 8, 22, 4, 1, 3, 5, 6, 15, 18, 1, 3, 8, 11, 15, 16, 22, 1, 3, 8, 10, 10, 7, 7, 6, 19, 1, 2, 4, 5, 6, 9, 10, 14, 15, 5, 1, 1, 16, 12, 1, 2, 3, 6, 7, 9, 11, 12, 13, 15, 16, 19, 1, 16, 16, 16, 7, 12, 16, 14, 15, 1, 2, 3, 5, 6, 7, 13, 14, 15, 17, 19, 20, 1, 2, 3, 4, 5, 6, 7, 8, 9, 10, 11, 12, 13, 14, 16, 17, 18, 19, 20, 21, 22, 14, 21, 7, 11, 16, 22, 1, 3, 13, 1, 5, 19, 7, 8, 12, 17, 7, 14, 17, 1, 5, 7, 1, 4, 14, 9, 22, 1, 2, 5, 7, 2, 6, 15, 1, 2, 3, 4, 5, 6, 7, 8, 9, 10, 11, 12, 13, 14, 15, 16, 17, 18, 19, 20, 21, 22, 12, 21, 7, 7, 14, 16, 9, 14, 7, 4, 7, 10, 2, 3, 5, 6, 7, 11, 12, 13, 14, 15, 17, 12, 5, 1, 12, 16, 18, 1, 2, 3, 4, 5, 6, 7, 9, 14, 15, 18, 19, 20, 22, 2, 15, 2, 5, 15, 10, 8, 1, 2, 3, 5, 6, 8, 9, 13, 15, 18, 19, 15, 8, 13, 16, 1, 3, 8, 9, 13, 17, 19, 14, 14, 4, 7, 4, 5, 3, 14, 1, 3, 4, 5, 6, 7, 8, 9, 10, 11, 13, 14, 15, 16, 18, 21, 1, 2, 3, 8, 9, 19, 14, 10, 15, 2, 15, 19, 18, 16, 1, 2, 3, 4, 5, 6, 7, 8, 9, 10, 11, 12, 13, 14, 15, 16, 17, 18, 19, 20, 21, 22, 3, 8, 14, 19, 3, 8, 16, 17, 11, 18, 1, 11, 13, 14, 5, 7, 17, 17, 22, 19, 1, 19, 8, 3, 1, 15, 1, 2, 3, 5, 6, 7, 8, 9, 10, 11, 12, 13, 14, 15, 16, 17, 19, 21, 22, 13, 1, 8, 11, 19, 7, 16, 8, 21, 2, 18, 1, 3, 4, 5, 6, 7, 8, 9, 10, 11, 13, 14, 15, 16, 17, 20, 21, 22, 1, 3, 4, 7, 8, 9, 10, 12, 15, 16, 18, 7, 18, 22, 3, 5, 7, 9, 18, 1, 2, 3, 5, 6, 7, 11, 13, 15, 17, 22, 20, 12, 9, 20, 4, 21, 1, 6, 1, 21, 11, 5, 2, 5, 6, 14, 15, 19, 19, 20, 1, 3, 5, 16, 5, 14, 19, 14, 4, 2, 5, 6, 12, 14, 15, 19, 14, 14, 2, 14, 5, 14, 19, 13, 13, 2, 3, 4, 5, 8, 11, 19, 22, 13, 1, 3, 9, 11, 13, 15, 6, 14, 3, 3, 8, 11, 13, 11, 13, 16, 11, 11, 13, 12, 5, 15, 2, 5, 1, 11, 13, 8, 9, 3, 2, 3, 4, 5, 10, 9, 4, 6, 6, 3, 6, 16, 17, 18, 18, 2, 22, 10, 9, 17, 18, 11, 13, 14, 1, 16, 22, 5, 14, 7, 17, 19, 2, 4, 1, 2, 3, 4, 5, 6, 7, 8, 14, 15, 21, 6, 1, 2, 4, 5, 6, 7, 8, 10, 14, 15, 16, 17, 21, 5, 15, 19, 13, 12, 2, 3, 5, 6, 9, 2, 2, 5, 2, 1, 20, 19], \"Freq\": [0.3437506812516342, 0.655202640774927, 0.0007770564815724771, 0.08547621297297248, 0.9130413658476606, 0.9576298456140514, 0.3775628177525699, 0.08809799080893298, 0.006292713629209499, 0.5285879448535978, 0.9925046589292784, 0.46157466127383456, 0.4496373855512354, 0.08356093005819419, 0.003979091907533056, 0.9646821743638917, 0.11930784058898979, 0.16557006449084297, 0.0852198861349927, 0.048697077791424404, 0.2800081973006903, 0.27026878174240543, 0.00973941555828488, 0.00730456166871366, 0.012174269447856101, 0.9740021327010283, 0.017927938470138922, 0.08291671542439251, 0.23306320011180598, 0.15014648468741348, 0.012325457698220509, 0.1602309500768666, 0.01680744231575524, 0.08627820388754356, 0.05378381541041677, 0.03137389232274312, 0.052663319256033084, 0.02128942693328997, 0.0448198461753473, 0.014566450006987874, 0.003361488463151048, 0.0022409923087673652, 0.01680744231575524, 0.9882247664854115, 0.9969069826302374, 0.8508042274913103, 0.933534815339199, 0.7553586513575202, 0.10166134329034099, 0.028571488637154658, 0.043189459567791924, 0.03455156765423354, 0.03654492732659317, 0.08903673203206335, 0.0006644532241198757, 0.015282424154757142, 0.6279082967932825, 0.0219269563959559, 0.0006644532241198757, 0.1125893068641347, 0.06605239336029235, 0.7791180034998121, 0.04053215047108849, 0.9681576000239298, 0.9945640179690127, 0.18793648407420185, 0.04698412101855046, 0.18793648407420185, 0.5638094522226056, 0.08906545593053171, 0.9068482785654137, 0.008482023213566909, 0.027566575444092453, 0.050892139281401454, 0.046651127674617994, 0.012723034820350363, 0.2671837312273576, 0.012723034820350363, 0.046651127674617994, 0.3520039633630267, 0.1569174294509878, 0.016964046427133818, 0.048591881046169384, 0.11998347167411912, 0.01994974588405781, 0.039614495398343365, 0.030779607935403477, 0.04317695002049655, 0.0001424981848861272, 0.0002849963697722544, 0.010544865681573415, 0.6198671042546534, 0.005557429210558962, 0.036194538961076314, 0.023797196875983244, 0.0001424981848861272, 0.0011399854790890176, 0.0001424981848861272, 0.12425237508538257, 0.869766625597678, 0.951603645876633, 0.9711512675270286, 0.021581139278378413, 0.9301658532639647, 0.9877003335852576, 0.9071979751260202, 0.08639980715485907, 0.9682785754723054, 0.9916741968566931, 0.06165293447170291, 0.002831002093088399, 0.8694321983662594, 0.06133837868358198, 0.004089225245572132, 0.9990562355951338, 0.9861735535035184, 0.9765809797825261, 0.0356176074284762, 0.9616754005688574, 0.9986522596776113, 0.07786685378011629, 0.8565353915812792, 0.9817085705180524, 0.9994293887181438, 0.03933972844460885, 0.6950018691880897, 0.024438316154984284, 0.06795044004068801, 0.08702424777140745, 0.08344790882189755, 0.0017881694747549476, 0.06863386799575426, 0.5437228503559753, 0.019609676570215503, 0.11230996581123424, 0.018718327635205707, 0.05258958716557794, 0.011587536155127342, 0.0008913489350097955, 0.17203034445689055, 0.9865524028521971, 0.9935826251723374, 0.8074358268844563, 0.08026913608174718, 0.11485665000315044, 0.019577838068718826, 0.022623279546075088, 0.0067434775570031505, 0.6217051244488712, 0.008918792897971909, 0.08309704602500656, 0.001305189204581255, 0.008918792897971909, 0.0034805045455500133, 0.02827909943259386, 0.9182647284739649, 0.985910711918997, 0.019098317539610735, 0.019098317539610735, 0.019098317539610735, 0.003819663507922147, 0.01145899052376644, 0.14514721330104158, 0.20626182942779595, 0.007639327015844294, 0.30939274414169393, 0.057294952618832204, 0.01145899052376644, 0.09549158769805367, 0.09549158769805367, 0.8315029691068576, 0.03615230300464598, 0.05061322420650438, 0.06507414540836277, 0.983619688561425, 0.9834118904569358, 0.9809353214796401, 0.984127282513218, 0.9944055911479962, 0.8654925198100202, 0.9125229534899039, 0.9433753562012944, 0.9738164915668852, 0.9815406780695699, 0.16974272123749598, 0.8062779258781059, 0.014145226769791332, 0.02006349865946162, 0.2808889812324627, 0.07624129490595416, 0.6219684584433102, 0.13944305445441782, 0.8506026321719488, 0.3855216653323646, 0.0037581315873179326, 0.015972059246101213, 0.0021922434259354605, 0.5825103960342796, 0.009395328968294831, 0.0003131776322764944, 0.8938105776044721, 0.22538510794326563, 0.190710475951994, 0.576465756854891, 0.9806103793751735, 0.7231725043362558, 0.2515382623778281, 0.9985080252668974, 0.79887487182426, 0.9546076673559022, 0.9926604967939994, 0.09144275599976684, 0.03827836297664658, 0.12121481609271417, 0.2722016922783757, 0.027645484372022532, 0.00637972716277443, 0.3402521153479696, 0.06167069590681949, 0.04040493869757139, 0.9965897861446396, 0.9929204950265813, 0.9582350303984963, 0.056729722559653965, 0.9076755609544634, 0.6418083057227117, 0.020104838492518682, 0.07577977585641657, 0.023197890568290788, 0.23661848379656603, 0.0015465260378860525, 0.03294713904545324, 0.9225198932726906, 0.4308819966459525, 0.5201766209508704, 0.04110387468004152, 0.005669499955867796, 0.9620407171958525, 0.6297576229510307, 0.35861197973600356, 0.029360648938717596, 0.029360648938717596, 0.05872129787743519, 0.08808194681615279, 0.7633768724066575, 0.9449052446149037, 0.12083013898828819, 0.8609147402915533, 0.9571744719144347, 0.8332299350734642, 0.9960234344515557, 0.9691319608996087, 0.9714827094687368, 0.9526565319182451, 0.021064577814053596, 0.12064258202594333, 0.16468669927350996, 0.0631937334421608, 0.005744884858378254, 0.605127871749176, 0.01723465457513476, 0.05816053092347665, 0.8724079638521497, 0.9748339671633702, 0.96966053073798, 0.895455810981153, 0.9125807839953233, 0.05240084007040284, 0.03466517112349726, 0.976029972607245, 0.663640599884091, 0.05905276524392335, 0.04218054660280239, 0.2052786601336383, 0.025308327961681434, 0.0028120364401868258, 0.1839389403629459, 0.6237929281873817, 0.1199601784975734, 0.07197610709854405, 0.01763584672575975, 0.29172629792194255, 0.010287577256693188, 0.011757231150506501, 0.35565624230282167, 0.010287577256693188, 0.002204480840719969, 0.013961711991226469, 0.09332302225714535, 0.018370673672666406, 0.07127821384994566, 0.08670957973498544, 0.016901019778853093, 0.9935837473329656, 0.05214185241280221, 0.08690308735467035, 0.5561797590698903, 0.2954704970058792, 0.9795470259560889, 0.8583535215292408, 0.863530622833721, 0.030220686585517527, 0.09066205975655257, 0.28205974146483026, 0.5842666073200055, 0.07661276208798919, 0.9193531450558703, 0.20721079345923502, 0.7597729093505284, 0.9674518439232889, 0.952399468710247, 0.9618380817279418, 0.9493396729111736, 0.993175283787436, 0.7469392733017639, 0.9772571181086747, 0.969358503278297, 0.9794233472673622, 0.8420266015537131, 0.9992987138711178, 0.01404346046156311, 0.1544780650771942, 0.772390325385971, 0.04915211161547088, 0.9242291146565699, 0.9526334358333921, 0.03073011083333523, 0.9636087751870838, 0.9953297288471152, 0.9724628106387616, 0.9853373258384415, 0.9314686017069257, 0.9759233745266037, 0.9514662814422729, 0.9809977335575464, 0.01855713683427861, 0.9793236602507418, 0.9632274145924651, 0.9850235925502188, 0.9934054399980639, 0.007435209864527959, 0.052046469051695715, 0.22305629593583878, 0.542770320110541, 0.14870419729055917, 0.014870419729055917, 0.9519448965573553, 0.8486516119391597, 0.648906842842598, 0.031100310466830833, 0.014642116971610136, 0.03234886307681309, 0.00011350478272565998, 0.010555944793486377, 0.2367709767657267, 0.003405143481769799, 0.0010215430445309397, 0.011690992620742977, 0.0026106100026901794, 0.004199676960849419, 0.0018160765236105597, 0.0005675239136282999, 0.9691829127205202, 0.9171611554338673, 0.055585524571749534, 0.3977164606560437, 0.14361983301468245, 0.44190717850671524, 0.9502271758091654, 0.010773206500547312, 0.09695885850492582, 0.04847942925246291, 0.7864440745399538, 0.04847942925246291, 0.9293701923429406, 0.9797979118615358, 0.9718485720135592, 0.9288654571356723, 0.9542787338189961, 0.03654904879444597, 0.43655808282254904, 0.03248804337284086, 0.3715819960768673, 0.006091508132407661, 0.0020305027108025535, 0.07512860029969448, 0.04061005421605107, 0.9379595210342178, 0.9832413635380308, 0.06361706915265489, 0.0008156034506750627, 0.017127672464176315, 0.1639362935856876, 0.019574482816201506, 0.017127672464176315, 0.06280146570197982, 0.05953905189927958, 0.07014189675805539, 0.22347534548496717, 0.016312069013501254, 0.11581568999585891, 0.004893620704050377, 0.007340431056075564, 0.0024468103520251883, 0.10195043133438284, 0.006524827605400502, 0.0016312069013501255, 0.04404258633645339, 0.04693645204686318, 0.08448561368435371, 0.8636307176622824, 0.022237939401317842, 0.9729098488076556, 0.8963838650827775, 0.9699873004730997, 0.969761806637673, 0.03971078667898189, 0.06833949335452698, 0.02324158445165219, 0.2581201134133823, 0.1262125778169192, 0.04571358001417683, 0.11620792225826096, 0.03401582889943797, 0.014622188893423564, 0.0658768089093188, 0.03617067778899513, 0.018316215561235832, 0.014314353337772541, 0.028628706675545082, 0.01662312000515521, 0.008003724446926583, 0.022318077784699124, 0.0032322733343357352, 0.020009311117316457, 0.01677703778298072, 0.010620326669960272, 0.013236928892993964, 0.00786278701098556, 0.0034945720048824703, 0.01135735901586803, 0.13192009318431328, 0.06377593908910509, 0.0017472860024412352, 0.16249759822703488, 0.16511852723069673, 0.0017472860024412352, 0.005241858007323706, 0.0017472860024412352, 0.10833173215135658, 0.3110169084345399, 0.021841075030515442, 0.0008736430012206176, 0.42553770471826524, 0.6812792968409704, 0.22709309894699012, 0.08655677029075516, 0.07415745333450373, 0.021698804673439997, 0.0019075872240386811, 0.037197950868754284, 0.134484899294727, 0.12470851477152878, 0.15189163271408, 0.009537936120193406, 0.022891046688464173, 0.011922420150241758, 0.09967143245602109, 0.019791217449401318, 0.018598975434377142, 0.02408328870348835, 0.004530519657091868, 0.01669138821033846, 0.0345750184357011, 0.00023844840300483514, 0.0529355454670734, 0.05174330345204923, 0.2724698872034509, 0.06287766627771943, 0.1606873693763941, 0.06986407364191048, 0.433157256579845, 0.7656453392619902, 0.22969360177859707, 0.128908887667555, 0.08343760194920512, 0.019866095702191694, 0.0004414687933820377, 0.03443456588379894, 0.13729679474181372, 0.10727691679183515, 0.22294174065792902, 0.021190502082337807, 0.041056597784529504, 0.011036719834550941, 0.026046658809540223, 0.002648812760292226, 0.021190502082337807, 0.014127001388225206, 0.03222722191688875, 0.03531750347056301, 0.053417723999226556, 0.007063500694112603, 0.9869610343549046, 0.9731812955529523, 0.8908514200593436, 0.945850044264136, 0.0472925022132068, 0.2828138694798422, 0.006319863005136138, 0.14009029661385108, 0.21224206592248865, 0.12113070759844266, 0.22540844718318895, 0.0005266552504280116, 0.011059760258988242, 0.6961324074633581, 0.004297113626317025, 0.29864939702903326, 0.789300736432583, 0.15945469422880465, 0.0478364082686414, 0.16572282438793115, 0.10385296994977018, 0.06186985443816096, 0.11932043355931042, 0.5369419510168969, 0.008838550634022994, 0.012114711852203957, 0.03149825081573029, 0.015345301679458346, 0.27217719294618226, 0.08884122024949569, 0.06380414908827418, 0.005653532197695181, 0.013730006765831151, 0.12760829817654837, 0.004038237284067986, 0.3335583996640156, 0.0016152949136271943, 0.013730006765831151, 0.016152949136271945, 0.07920086761244471, 0.8712095437368919, 0.6935056779031966, 0.022371150900103116, 0.11632998468053621, 0.16554651666076306, 0.07463677149589984, 0.0072229133705709525, 0.2070568499563673, 0.050560393593996666, 0.004815275580380635, 0.08667496044685143, 0.41892897549311525, 0.016853464531332223, 0.06259858254494825, 0.0072229133705709525, 0.06259858254494825, 0.49146038096948685, 0.23709430519614222, 0.018841931538766267, 0.07379756519350121, 0.17585802769515183, 0.9313538872071074, 0.8074358268844563, 0.9169080510405654, 0.974755097142901, 0.9135289651433393, 0.8955629878596729, 0.8721914592410643, 0.058146097282737626, 0.058146097282737626, 0.9323526281314234, 0.8339257812076171, 0.9078543427100303, 0.4231673195027623, 0.9309345003629916, 0.8586963733516001, 0.13777591064969702, 0.9303707624928684, 0.9425073491920043, 0.8460882288701136, 0.9951653576016115, 0.10594676328219065, 0.8740607970780728, 0.07417696689245161, 0.8901236027094193, 0.9612549782168651, 0.007700306901603725, 0.02951784312281428, 0.9451102295701379, 0.9613197564742622, 0.9945002117716041, 0.2253506019561479, 0.6760518058684437, 0.9791794492812778, 0.01638879130842772, 0.9833274785056632, 0.9930832174378038, 0.9264798402218141, 0.9641783694322996, 0.8646028584981684, 0.0720502382081807, 0.05670894258278016, 0.389645315165554, 0.10427128152317643, 0.12988177172185134, 0.2743981092715169, 0.014634565827814234, 0.0018293207284767793, 0.02743981092715169, 0.0018293207284767793, 0.0022120153993080457, 0.0001734914038672977, 0.5724348870601488, 0.0037300651831469007, 0.017522631790597067, 0.0001734914038672977, 0.01010587427527009, 0.2805789729043872, 0.06570986921473901, 0.0011710669761042594, 0.009932382871402794, 0.004987877861184809, 0.0026023710580094653, 0.006766164750824611, 0.0003469828077345954, 0.005681843476654, 8.674570193364884e-05, 0.002775862461876763, 0.007416757515326977, 0.005204742116018931, 0.0003469828077345954, 0.05566255961214424, 0.10890500793680394, 0.29041335449814387, 0.5372647058215662, 0.0048402225749690645, 0.21838349560149467, 0.7522098181829261, 0.024264832844610517, 0.9751232968554082, 0.9423148869816589, 0.053846564970380505, 0.947994178292564, 0.1640203783929061, 0.8318176332783095, 0.8904605548263145, 0.06794678932409629, 0.035761468065313835, 0.9531989376907024, 0.02508418257080796, 0.9982590435255272, 0.06629385955890803, 0.9316031843278127, 0.9977889310712243, 0.9948611491222491, 0.0587217347151472, 0.2649120792353021, 0.4602083462743663, 0.0010628368274234789, 0.014879715583928702, 0.10761222877662723, 0.005314184137117393, 0.029493721961001536, 0.007439857791964351, 0.0013285460342793484, 0.03374506927069545, 0.009565531446811309, 0.004782765723405654, 0.0005314184137117394, 0.8709693751448288, 0.9930849736769777, 0.8074358268844563, 0.9873905429281298, 0.9799873316926364, 0.9455424151255206, 0.05166574487370235, 0.13802951766996496, 0.051475096368633344, 0.00031774750844835395, 0.050204106334839925, 0.11260971699409665, 0.015315429907210661, 0.00883338073486424, 0.12099825121713319, 0.00038129701013802476, 0.03037666180766264, 0.08452083724726216, 0.002478430565897161, 0.20621813298298172, 0.009595974755140289, 0.0017793860473107822, 0.09043094090440154, 0.018620003995073544, 0.004893311630104651, 0.0012074405321037451, 0.9846480843282583, 0.05758383108634611, 0.9416022749859929, 0.9960206398478494, 0.008604931198136215, 0.4834406800407438, 0.024250260649292973, 0.04239884281263481, 0.3609377504381864, 0.0023467994176735135, 0.002659706006696649, 0.01674050251273773, 0.0003129065890231351, 0.05820062555830314, 0.8368981531752683, 0.9774445362964179, 0.5551852928614132, 0.4379795088128926, 0.27346528509710455, 0.6836632127427613, 0.972555746305682, 0.11035609266772317, 0.044142437067089264, 0.4767383203245641, 0.3487252528300052, 0.017656974826835706, 0.9733732762620955, 0.5858392063237561, 0.08520256539582903, 0.9106024176679228, 0.9842874866470209, 0.9194202584661076, 0.9455476861230573, 0.04718020654296696, 0.5504357430012812, 0.3994590820637869, 0.966098052685265, 0.03296637904897587, 0.05541039846695697, 0.006518870407877291, 0.01140802321378526, 0.02998680387623554, 0.4507798887047147, 0.06225521239522813, 0.2206637633066463, 0.0016297176019693228, 0.00032594352039386454, 0.030312747396629404, 0.03487595668214351, 0.06844813928271155, 0.0026075481631509163, 0.01075613617299753, 0.014015571376936176, 0.0024057666469321187, 0.4979936959149486, 0.4979936959149486, 0.04598239044709573, 0.9503027359066452, 0.978855947708198, 0.8637703676996004, 0.9896053959670617, 0.9493301872424206, 0.9743646435294866, 0.8295667347382671, 0.02962738338350954, 0.11850953353403816, 0.01481369169175477, 0.913113451339515, 0.3063376581851968, 0.6683730724040657, 0.8613156717824035, 0.07830142470749123, 0.056086941962622705, 0.059942919222553015, 0.034002708564840015, 0.16230158830433947, 0.07922280552220456, 0.08763584681659797, 0.1598477845934747, 0.04031248953563507, 0.008413041294393405, 0.06204617954615137, 0.030847818079442486, 0.05012770437909404, 0.014021735490655676, 0.039260859373835895, 0.004557064034463095, 0.011567931779790933, 0.012269018554323717, 0.0003505433872663919, 0.01998097307418434, 0.05678802873715549, 0.01121738839252454, 0.9984459861382865, 0.9775455958372401, 0.9873359668609345, 0.9992746637637956, 0.9962034703540895, 0.9012994376002718, 0.9851456767262674, 0.04389390816420767, 0.0422375342712187, 0.0894441902214043, 0.1904829976937314, 0.009110056411439327, 0.0033127477859779372, 0.027330169234317983, 0.002484560839483453, 0.015735551983395202, 0.012422804197417266, 0.0016563738929889686, 0.28655268348709156, 0.01159461725092278, 0.013250991143911749, 0.010766430304428297, 0.09606968579336018, 0.0637703948800753, 0.07867775991697601, 0.24006860413454195, 0.022863676584242088, 0.7316376506957468, 0.7486618234626462, 0.935652428617866, 0.03124107965200312, 0.6623108886224661, 0.2874179327984287, 0.012496431860801247, 0.846571713144407, 0.023490339793321338, 0.042709708715129704, 0.00854194174302594, 0.22636145619018744, 0.00427097087151297, 0.00427097087151297, 0.032032281536347275, 0.03630325240786025, 0.05125165045815564, 0.02562582522907782, 0.03630325240786025, 0.09396135917328535, 0.3181873299277163, 0.01281291261453891, 0.08541941743025941, 0.29642445003606605, 0.0009393260073573844, 0.08829664469159414, 0.0020128414443372523, 0.013418942962248348, 0.03233965253901852, 0.0006709471481124174, 0.004830819466409405, 0.10064207221686261, 0.19699008268580576, 0.013418942962248348, 0.013016374673380899, 0.0462953532197568, 0.01811557299903527, 0.11151141601628378, 0.05139455154541118, 0.005635956044144306, 0.0004025682888674505, 0.003623114599807054, 0.1346678483173836, 0.01133127526295137, 0.03021673403453699, 0.0004358182793442835, 0.012929275620547078, 0.050700193163718314, 0.07408910748852819, 0.03689928098448267, 0.0140914576987985, 0.02411527812371702, 0.3549013521460282, 0.00014527275978142782, 0.011186002503169944, 0.004939273832568546, 0.017578003933552768, 0.17534422105618339, 0.00668254694994568, 0.016270549095519917, 0.023243641565028453, 0.987774496737598, 0.2006462179957215, 0.6278284885672576, 0.16181146612558187, 0.9921665668403573, 0.9236501036104419, 0.8124492783977978, 0.02157824374010933, 0.07012929215535532, 0.1510477061807653, 0.7552385309038265, 0.8990083124536999, 0.05669149676522473, 0.3732190203710628, 0.538569219269635, 0.009448582794204121, 0.023621456985510304, 0.9818060683616563, 0.06865292842754621, 0.5655693627602617, 0.2942268361180552, 0.06538374135956783, 0.8537644984745681, 0.1422940830790947, 0.9963108656562932, 0.003006974443630664, 0.015432587338115738, 0.39242864945494305, 0.07495828135656216, 0.03527448534426454, 0.3373122661045297, 0.01102327667008267, 0.09259552402869443, 0.008818621336066135, 0.019841898006148807, 0.01102327667008267, 0.02328552675262774, 0.5646740237512227, 0.1338917788276095, 0.1338917788276095, 0.14553454220392337, 0.07918573390422362, 0.06496075176574034, 0.06116742319547813, 0.027027466063118243, 0.15647480352331614, 0.14462065174124675, 0.11190319282273518, 0.03651078748877377, 0.025130801777987138, 0.008060823211807195, 0.03461412320364266, 0.1251798428186529, 0.03366579106107711, 0.022285805350290483, 0.03603662141749099, 0.02892413034824935, 0.004267494641544986, 0.06821890717564694, 0.07624466096101716, 0.04681689708132633, 0.19930621900336065, 0.10165954794802289, 0.060193153390276706, 0.08293278911549236, 0.04280402018864122, 0.00668812815447519, 0.008025753785370227, 0.03477826640327099, 0.01337625630895038, 0.04012876892685114, 0.04547927145043129, 0.06286840465206679, 0.005350502523580152, 0.07089415843743702, 0.03477826640327099, 0.9551856719300006, 0.08080718198523952, 0.6823717589864671, 0.008978575776137724, 0.21548581862730537, 0.9044847495787974, 0.9425885216101816, 0.011764393821784963, 0.11764393821784963, 0.04705757528713985, 0.023528787643569925, 0.7882143860595925, 0.3453596984449197, 0.14159747636241707, 0.4835035778228876, 0.031082372860042774, 0.9790699312637072, 0.9838285691421519, 0.9737066994340986, 0.8917424981068993, 0.9182655663299585, 0.9852480212192218, 0.9720159993704471, 0.9452744601905949, 0.889973156381506, 0.9150423106039784, 0.051587795506011, 0.4505334140858294, 0.23902345251118431, 0.0498682023224773, 0.0997364046449546, 0.0068783727341348005, 0.013756745468269601, 0.015476338651803302, 0.07222291370841541, 0.9429849546254703, 0.9426967861008311, 0.9527288451233102, 0.9210368189110736, 0.04885374702492434, 0.028737498249955494, 0.9812217514851225, 0.9864801484644916, 0.052981867157739664, 0.10804145459617501, 0.03220466435078293, 0.00311658042104351, 0.023893783228000242, 0.12570207698208824, 0.6420155667349631, 0.011427461543826203, 0.09839984166144675, 0.07141923991556619, 0.004761282661037746, 0.20156096598393122, 0.1142707838649059, 0.034916072847610134, 0.0206322248644969, 0.0015870942203459152, 0.05713539193245295, 0.0015870942203459152, 0.07776761679694985, 0.08887727633937126, 0.15236104515320786, 0.07618052257660393, 0.959018461566435, 0.019979551282634064, 0.07626791149258325, 0.028929207807531575, 0.25510301430277843, 0.14464603903765788, 0.07363798351008037, 0.044708775702548796, 0.018409495877520093, 0.03944891973754305, 0.05522848763256028, 0.023669351842525835, 0.028929207807531575, 0.01577956789501722, 0.17883510281019518, 0.013149639912514352, 0.05359907109450207, 0.9379837441537863, 0.9476252296050527, 0.08162510479969767, 0.04846490597482049, 0.031034545054051718, 0.18408161655348484, 0.037411506366528104, 0.034860721841537545, 0.07992458178303731, 0.06079369784560816, 0.07099683594557037, 0.07992458178303731, 0.016154968658273497, 0.0034010460333207364, 0.09352876591632026, 0.010628268854127302, 0.031034545054051718, 0.01020313809996221, 0.07949945102887221, 0.018705753183264052, 0.008927745837466933, 0.01232879187078767, 0.007227222820806565, 0.01942530414957052, 0.12626447697220838, 0.01942530414957052, 0.32051751846791354, 0.5050579078888335, 0.9759817205063652, 0.9877310590289854, 0.03417618332498592, 0.5562963621890565, 0.01206218234999503, 0.00890303935356776, 0.0002871948178570245, 0.036473741867842115, 0.028719481785702453, 0.07696821118568258, 0.11631390123209494, 0.0002871948178570245, 0.08816880908210653, 0.009477428989281809, 0.0002871948178570245, 0.03187862478212972, 0.043986527883372976, 0.9347137175216758, 0.9846360742438132, 0.9703718922312037, 0.9746869492173236, 0.004100999803028919, 0.008201999606057837, 0.1004744951742085, 0.4675139775452967, 0.010252499507572297, 0.18249449123478687, 0.09432299546966513, 0.02255549891665905, 0.04100999803028919, 0.04100999803028919, 0.02255549891665905, 0.006151499704543378, 0.9290168877729584, 0.0267985640703738, 0.0357314187604984, 0.008471250696792504, 0.9826650808279305, 0.5994602943390125, 0.39458145956491963, 0.10537472430784098, 0.869341475539688, 0.4201123976623085, 0.45530129934684377, 0.006463267656343208, 0.0007181408507048009, 0.03734332423664965, 0.04237031019158325, 0.02298050722255363, 0.014362817014096018, 0.2197612300378356, 0.6592836901135067, 0.1817794038420445, 0.0727117615368178, 0.028495149791455624, 0.22304824147104918, 0.01572146195390655, 0.03930365488476638, 0.008843322349072435, 0.01866923607026403, 0.025547375675098145, 0.01965182744238319, 0.004912956860595797, 0.03242551527993226, 0.02063441881450235, 0.16802312463237626, 0.007860730976953275, 0.005895548232714956, 0.09629395446767762, 0.029477741163574784, 0.9885306469553219, 0.7404343975100561, 0.027828406886283987, 0.06658940219217954, 0.026834535211773845, 0.1262217026627881, 0.010932588419611566, 0.9679191051992752, 0.9811233731279055, 0.002446691703560862, 0.017126841924926032, 0.8464902474761419, 0.1727128720344437, 0.023249809696944342, 0.32217593437194303, 0.4732996974020813, 0.008303503463194408, 0.00553182022731664, 0.0007902600324738057, 0.5160398012053952, 0.010273380422159474, 0.002370780097421417, 0.11221692461128042, 0.1240708250983875, 0.17543772720918488, 0.05136690211079738, 0.0015805200649476115, 0.9704530764034364, 0.07766867826605695, 0.9061345797706645, 0.9252356585483713, 0.9899236500296726, 0.9858255512490475, 0.8514478345711605, 0.963652204901806, 0.8920425336757947, 0.9633635278407827, 0.798201166642231, 0.9693026350531847, 0.9761642311331304, 0.8984950730516287, 0.050426728742310765, 0.114896343969822, 0.1704295768885693, 0.3708598658137032, 0.0025532520882182667, 0.05234166780847447, 0.2374524442042988, 0.06235767115649119, 0.01662871230839765, 0.9187363550389702, 0.0010060053115250752, 0.008048042492200601, 0.02917415403422718, 0.07947441961048095, 0.01710209029592628, 0.020120106230501505, 0.03420418059185256, 0.010060053115250753, 0.3239337103110742, 0.47684651766288566, 0.9330778105004309, 0.031102593683347696, 0.6785659443797569, 0.14430684928637888, 0.8478027395574759, 0.9977229532971735, 0.20729188412922028, 0.7699412839085324, 0.5828934178174573, 0.08397617036353199, 0.311205807817795, 0.009879549454533175, 0.9983612420622406, 0.9833250560710735, 0.09056973625687706, 0.8604124944403321, 0.9843171050373282, 0.11591109800373335, 0.877612599171124, 0.9690468675089979, 0.9107181553322611, 0.7888336028290525, 0.023200988318501543, 0.18560790654801235, 0.8802914743416974, 0.0012486403891371594, 0.08365890607218968, 0.033713290506703304, 0.9971698556915791, 0.969871818780494, 0.9863190883020891, 0.924655130442807, 0.9640485577469067, 0.994243013327683, 0.9766167327282979, 0.8834971918398532, 0.03576530397424989, 0.06413088988486186, 0.02713229956667233, 0.051798026445465356, 0.06659746257274117, 0.02219915419091372, 0.04069844935000849, 0.06536417622880152, 0.0456315947257671, 0.07029732160456012, 0.008633004407577558, 0.017266008815155116, 0.2663898502909647, 0.036998590318189535, 0.033298731286370585, 0.02096586784697407, 0.02219915419091372, 0.10482933923487035, 0.17225454864433187, 0.8142942299550233, 0.9709885881136678, 0.03192335469891829, 0.006625601918643419, 0.01023956660153983, 0.25900080227424277, 0.18009590669767112, 0.01806982341448205, 0.060835072162089575, 0.036741974276113504, 0.06384670939783658, 0.040355938959009914, 0.022888442991677267, 0.0036139646828964103, 0.13130738347856957, 0.002409309788597607, 0.02770706256887248, 0.012648876390137436, 0.054209470243446155, 0.008432584260091625, 0.028911717463171283, 0.04211152244574517, 0.03478777941170253, 0.041849960194529356, 0.1883248208753821, 0.14909048319301085, 0.11037927001307118, 0.09285459918161201, 0.008893116541337488, 0.1600760977440748, 0.013078112560790426, 0.06382118929665727, 0.0337415304068393, 0.03295684365319187, 0.008893116541337488, 0.0052312450243161696, 0.011508739053495573, 0.0018309357585106596, 0.0002615622512158085, 0.0002615622512158085, 0.20808662742992096, 0.012240389848818879, 0.7466637807779516, 0.012240389848818879, 0.994497693146465, 0.9681912070679799, 0.014803730912153047, 0.005329343128375097, 0.0014803730912153047, 0.34418674370755836, 0.18475056178367003, 0.02161344713174345, 0.03153194684288599, 0.0032568208006736703, 0.16624589814347873, 0.009474387783777951, 0.015247842839517639, 0.12716404853539467, 0.000296074618243061, 0.001184298472972244, 0.04071026000842088, 0.014063544366545395, 0.002220559636822957, 0.00903027585641336, 0.00044411192736459144, 0.006957753528711932, 0.4929465116151719, 0.0018716526307173114, 0.05942497102527464, 0.00023395657883966393, 0.003509348682594959, 0.014739264466898827, 0.005147044734472607, 0.11229915784303869, 0.1167443328409923, 0.17032038939527533, 0.0021056092095569755, 0.016376960518776476, 0.003509348682594959, 0.00023395657883966393, 0.00023395657883966393, 0.08874348954366025, 0.02311028373532819, 0.014790581590610042, 0.07765055335070271, 0.021261461036501936, 0.06101114906126642, 0.25143988704037074, 0.07857496470011585, 0.2958116318122008, 0.01571499294002317, 0.03050557453063321, 0.01848822698826255, 0.02033704968708881, 0.9503630695735161, 0.08194631249385817, 0.16389262498771634, 0.1434060468642518, 0.38924498434582633, 0.06145973437039363, 0.1434060468642518, 0.12440702054265779, 0.03732210616279734, 0.03732210616279734, 0.01866105308139867, 0.7775438783916112, 0.012320693369014129, 0.22861731029170662, 0.16701384344663597, 0.43396219977527545, 0.15743108193740277, 0.988222353271665, 0.9901586462657724, 0.009269106270109104, 0.10101077137533551, 0.13945516943609754, 0.07035576115695011, 0.01281479935358734, 0.043218538996412204, 0.16307460353878792, 0.04422362129865435, 0.0002512705755605361, 0.10779507691546998, 0.025378328131614145, 0.24046594081143302, 0.048495221083183465, 0.002763976331165897, 0.0002512705755605361, 0.9694790802621278, 0.9513048276287621, 0.8629901356788042, 0.04623230210616006, 0.03263456619258357, 0.03535411337529887, 0.03535411337529887, 0.013597735913576488, 0.09246460421232013, 0.013597735913576488, 0.383456152762857, 0.04079320774072947, 0.027195471827152977, 0.010878188730861191, 0.2665156239060992, 0.9494097240399799, 0.013781625496082183, 0.11369841034267801, 0.22050600793731492, 0.11025300396865746, 0.44101201587462985, 0.017227031870102726, 0.037899470114226, 0.04134487648824655, 0.9409624028223688, 0.9417679015019793, 0.005287621990263801, 0.1974045543031819, 0.6080765288803371, 0.18682931032265432, 0.969431929749987, 0.38101831225673327, 0.6154911197993383, 0.9577514691982716, 0.8532801632420948, 0.8353553340550811, 0.9365680482706733, 0.06181349118586444, 0.6800446639418517, 0.2266815546472839, 0.9446219001805081, 0.9849261712915419, 0.9620768335004571, 0.9710524289525644, 0.8074358268844563, 0.9831952038808093, 0.8992964413759529, 0.8615824541145604, 0.961058352303132, 0.9283036168830758, 0.003920629858069301, 0.078412597161386, 0.156825194322772, 0.1136982658840097, 0.015682519432277203, 0.015682519432277203, 0.058809447871039505, 0.2901266094971282, 0.2626822004906431, 0.16953126155815057, 0.03967752930084375, 0.22724403145028693, 0.018035240591292613, 0.02885638494606818, 0.37152595618062784, 0.1406748766120824, 0.9576679032831841, 0.9739622389387617, 0.9722950840570387, 0.047569210919796205, 0.9151748190390643, 0.007667872804982075, 0.0028399528907341017, 0.001987967023513871, 0.024565592504849982, 0.00014199764453670508, 0.07601017626889743, 0.74109921862175, 0.035290438981988095, 0.14116175592795238, 0.9781900862238994, 0.9880921771107927, 0.9821661492298286, 0.11728313627393692, 0.8712461551778171, 0.05088660851592878, 0.21742460002260477, 0.6060132468715155, 0.06013871915518856, 0.009252110639259778, 0.041634497876669, 0.013878165958889667, 0.13558882856091642, 0.06405116441221205, 0.07652866397303258, 0.12227949569604118, 0.0016636666081094038, 0.5090819820814776, 0.0016636666081094038, 0.07569683066897788, 0.0016636666081094038, 0.010813832952711124, 0.9907441660832471, 0.8446495969105816, 0.9833325644984011, 0.010460984728706395, 0.02459039636862732, 0.7774348390389099, 0.09457844757164353, 0.030265103222925933, 0.02648196532006019, 0.04350608588295603, 0.27521661259423624, 0.7170117012323524, 0.8957656035155359, 0.8050360386788865, 0.18879163738929639, 0.9767679430319006, 0.741132187340164, 0.9977967807059513, 0.9466592521994885, 0.9939374029668487, 0.9980972873016595, 0.9910674971102303, 0.006696402007501556, 0.9945935443869928, 0.8288076586077516, 0.008110747976537163, 0.004268814724493244, 0.03415051779594595, 0.01067203681123311, 0.017075258897972977, 0.002561288834695946, 0.03201611043369933, 0.8789489517731589, 0.012379562701030408, 0.005041095981850213, 0.1613150714192068, 0.21172603123770894, 0.4133698705117175, 0.21172603123770894, 0.9802524166564529, 0.004199687269972414, 0.004199687269972414, 0.010499218174931034, 0.35613348049366067, 0.05921559050661103, 0.01217909308292, 0.10331230684132138, 0.0415769039727269, 0.1910857707837448, 0.16336783480192688, 0.005459593450964138, 0.001259906180991724, 0.02435818616584, 0.002519812361983448, 0.004199687269972414, 0.011759124355922758, 0.004619655996969655, 0.9313637157562136, 0.9320700363553812, 0.44604699404870896, 0.018205999757090162, 0.012137333171393441, 0.018205999757090162, 0.03337766622133196, 0.2427466634278688, 0.07282399902836065, 0.14868233134956965, 0.006068666585696721, 0.055561001986666345, 0.04573510131378323, 0.02179563421984982, 0.20973831618117778, 0.07128244306327933, 0.052345252675540965, 0.12845131970550838, 0.015006830118585123, 0.03465863146435135, 0.0793218163410928, 0.02983500749766328, 0.08271621839172513, 0.025547341749496102, 0.03412267324583046, 0.015364135597599055, 0.02268889791738465, 0.006967456840771664, 0.021081023261821957, 0.0035730547901393146, 0.011791080807459739, 0.005895540403729869, 0.026619258186537896, 0.009322095171295515, 0.4791556918045895, 0.02983070454814565, 0.0074576761370364125, 0.15288236080924647, 0.0596614090962913, 0.03355954261666386, 0.2255947031453515, 0.9498801824127624, 0.0027176566041377886, 0.951179811448226, 0.04620016227034241, 0.8286253032914176, 0.13083557420390804, 0.9387809297902798, 0.9824681933101995, 0.6640327337308267, 0.05886560450370572, 0.008614478707859374, 0.012203844836134113, 0.22325857317868877, 0.02297194322095833, 0.008614478707859374, 0.9799461916287407, 0.6937371131013073, 0.9260183197848821, 0.9858303627178496, 0.1115114714613947, 0.037170490487131565, 0.04460458858455788, 0.08920917716911576, 0.7136734173529261, 0.9721696400052457, 0.9427721480396154, 0.04351256067875148, 0.006613566777893483, 0.0793628013347218, 0.15211203589155012, 0.13888490233576314, 0.0396814006673609, 0.575380309676733, 0.06288644550004484, 0.9366770566585627, 0.9351205305146297, 0.9921461600129879, 0.05509407088204719, 0.008040756290893373, 0.037002369227537094, 0.4728411407728131, 0.03454547147198635, 0.018761764678751205, 0.16498440685758994, 0.0020101890727233433, 0.040799393031570076, 0.03610895186188228, 0.014964740874718222, 0.001712383284171737, 0.024271171766955923, 0.016974929947441566, 0.004318183933998293, 0.03871475251170883, 0.00037225723568950803, 0.009380882339375602, 0.0009678688127927208, 0.007668499055203865, 0.009827591022203012, 0.0008934173656548192, 0.001775638394570267, 0.0067079672683765645, 0.838101322237166, 0.02071578126998645, 0.005918794648567557, 0.026239989608649504, 0.024464351214079236, 0.004537742563901794, 0.0011837589297135115, 0.04064238992016389, 0.0009864657747612594, 0.0001972931549522519, 0.007891726198090076, 0.0205184881150342, 0.06847313748494639, 0.912975166465952, 0.9981569961471458, 0.17805455985688165, 0.6558718597259817, 0.009015420752247172, 0.06761565564185379, 0.04958481413735944, 0.03831553819705048, 0.22441836089742762, 0.7293596729166397, 0.9809904350416969, 0.10389731657024338, 0.01259361412972647, 0.028335631791884558, 0.8532173572889684, 0.10191832054174906, 0.34350248775182085, 0.2019492647771694, 0.001887376306328686, 0.03774752612657372, 0.2453589198227292, 0.03963490243290241, 0.028310644594930292, 0.9834874379468775, 0.4826728742706502, 0.5019797892414762, 0.9368861771936073, 0.07141350089058338, 0.9105221363549381, 0.7576107045109574, 0.9757839334214753, 0.20174743274526943, 0.7951222349372383, 0.8973644186629505, 0.2210448419384877, 0.1473632279589918, 0.5157712978564712, 0.047585883071664024, 0.9398211906653645, 0.9718371225474002, 0.9339001278185384, 0.15162565255699315, 0.26534489197473804, 0.5306897839494761, 0.937140899018258, 0.9825148792766888, 0.9739617767865061, 0.8610681161698931, 0.7794787564022609, 0.007184499415553631, 0.0022687892891221995, 0.040460075656012555, 0.11117067516698777, 0.09755793943225458, 0.1697810651359779, 0.08092015131202511, 0.012100209541985063, 0.06352610009542158, 0.0022687892891221995, 0.0011343946445610997, 0.001512526192748133, 0.38531604760258686, 0.004159447030057366, 0.001890657740935166, 0.013234604186546163, 0.004537578578244399, 0.0007562630963740665, 0.9627823504534443, 0.27480911008293774, 0.41221366512440666, 0.008770503513285248, 0.21341558548994102, 0.01169400468438033, 0.07308752927737706, 0.0029235011710950823, 0.9664411781716092, 0.023442507475721925, 0.1816794329368449, 0.7853240004366845, 0.9657411027961672, 0.12044283838990433, 0.8564824063282085, 0.5319505467039585, 0.06044892576181346, 0.2720201659281606, 0.13298763667598962, 0.3020375397381247, 0.17883801695020543, 0.04371595969893911, 0.035767603390041085, 0.02516979497817706, 0.36297493810634285, 0.0013247260514830032, 0.04769013785338811, 0.0013247260514830032, 0.0023134689587017998, 0.138808137522108, 0.0023134689587017998, 0.2567950544158998, 0.0046269379174035995, 0.42799175735983297, 0.1249273237698972, 0.0416424412566324, 0.4495008387689601, 0.4495008387689601, 0.009484289120053245, 0.11677530979065558, 0.017190274030096504, 0.8446944997547421, 0.011262593330063228, 0.9924498328777737, 0.02644630429796566, 0.482044001067465, 0.05289260859593132, 0.0012021047408166208, 0.278888299869456, 0.006010523704083105, 0.12261468356329533, 0.021637885334699177, 0.008414733185716346, 0.8135948690192705, 0.47813276926799386, 0.012897608419560528, 0.05251169142249643, 0.008291319698288911, 0.04882666044547914, 0.01842515488508647, 0.0036850309770172936, 0.12344853773007934, 0.1059446405892472, 0.04053534074719023, 0.1059446405892472, 0.0009212577442543234, 0.8219327390153386, 0.07834747104689553, 0.6032755270610956, 0.10968645946565374, 0.20370342472192837, 0.8876775453589468, 0.05217150443496791, 0.060866755174129226, 0.004347625369580659, 0.1391240118265811, 0.026085752217483955, 0.05289610866323135, 0.005796833826107546, 0.030433377587064613, 0.10216919618514549, 0.010869063423951648, 0.009419854967424762, 0.007246042282634432, 0.031157981815328056, 0.005796833826107546, 0.0688374016850271, 0.09492315390251105, 0.06304056785891955, 0.019564314163112967, 0.20796141351160818, 0.007970646510897874, 0.9497719986815589, 0.004079131573428966, 0.004079131573428966, 0.9912289723432389, 0.9945821673854524, 0.775598716696534, 0.9432562882100313, 0.9435768437714379, 0.9589243932193023, 0.1230607932644022, 0.8614255528508153, 0.9678820029783105, 0.9690413115966864, 0.9928528931666376, 0.006823731224512973, 0.967304389541533, 0.012658772408260624, 0.1772228137156487, 0.06329386204130312, 0.7342087996791161, 0.8840133176470636, 0.9884740553773868, 0.9817628394457065, 0.04808909679616008, 0.9377373875251216, 0.8815426651138741, 0.09119406880488352, 0.10065584978814461, 0.8933206668697834, 0.6506952914219103, 0.026379538841428796, 0.05275907768285759, 0.26379538841428796, 0.9771917962961454, 0.9627773938846371, 0.2864528090285309, 0.707706939952841, 0.9633193480782356, 0.9240014664977106, 0.9083241592421826, 0.930226807630965, 0.9697072051418976, 0.8325797735251714, 0.016255565050660233, 0.003115649968043211, 0.8020766722079936, 0.09387588816756284, 0.009076023819951963, 0.06190661023459772, 0.00772139339906361, 0.005689447767731081, 0.13890512177200326, 0.09260341451466884, 0.5295757767557624, 0.12732969495766966, 0.05787713407166802, 0.017363140221500407, 0.034726280443000815, 0.7231989899383113, 0.2658819815949674, 0.9674962488214796, 0.9799197088856566, 0.10748048892126717, 0.1586616741218706, 0.06781507039079952, 0.11003954818129735, 0.03326777038039222, 0.024311062970286623, 0.03326777038039222, 0.0012795296300150854, 0.015354355560181025, 0.2367129815527908, 0.0012795296300150854, 0.024311062970286623, 0.005118118520060342, 0.029429181490346963, 0.104921429661237, 0.04478353705052799, 0.98349026183683, 0.7885616812972058, 0.15771233625944117, 0.9609195794048203, 0.024638963574482572, 0.9884141330502072, 0.9719195671655764, 0.9415913109622344, 0.08531053132297177, 0.9018541882714158, 0.8531011865921485, 0.8974768668829368, 0.9379672745113331, 0.8879340505934425, 0.9627197747626858, 0.9686150841583678, 0.9783971621831058, 0.12062271837232758, 0.6835287374431896, 0.16083029116310343, 0.943305209403444, 0.7989477277253869, 0.16998887823944403, 0.9104147797872629, 0.9478729895014347, 0.8516900992898366, 0.9794537096003123, 0.9768546124458068, 0.035334033065366414, 0.05152879822032602, 0.12366911572878245, 0.0014722513777236006, 0.15311414328325446, 0.16783665706049047, 0.04122303857626081, 0.02502827342130121, 0.004416754133170802, 0.32683980585463934, 0.002944502755447201, 0.014722513777236006, 0.030917278932195612, 0.017667016532683207, 0.07187007934218768, 0.48199824950141085, 0.39762902592579924, 0.007811965145889966, 0.03202905709814886, 0.007811965145889966, 0.8655327473785008, 0.12786279222636943, 0.964846653813324, 0.040968714091732646, 0.5462495212231019, 0.24581228455039586, 0.14111445964930133, 0.027312476061155094, 0.9751514435776261, 0.021791093711231866, 0.9926070569966322, 0.9264811344833026, 0.03942472912694905, 0.938343036310712, 0.9432026101604389, 0.02774125324001291, 0.9173104801143489, 0.9911838140158187, 0.9729279437595343, 0.7326606581766079, 0.7616672869026336, 0.2335779679834743, 0.20310318138194616, 0.7908060041041733, 0.9538449678033021, 0.03919910826588913, 0.041031263103291665, 0.03191320463589351, 0.4513438941362083, 0.054708350804388885, 0.018236116934796293, 0.07750349697288425, 0.05926738003808796, 0.009118058467398146, 0.006838543850548611, 0.24846709323659952, 0.8419521465670768, 0.03350902377004274, 0.9382526655611967, 0.01675451188502137, 0.09373592305987848, 0.8998648613748333, 0.8948779932723496, 0.9828819448218609, 0.16062279294483947, 0.08761243251536699, 0.7155015322088304, 0.014602072085894497, 0.8284447839044268, 0.9496804530178821, 0.7053510144290551, 0.12227967135338211, 0.7336780281202927, 0.024287524802278256, 0.09715009920911302, 0.07286257440683476, 0.24287524802278254, 0.5586130704523998, 0.9110007659411541, 0.03057049550138101, 0.048912792802209615, 0.14320163766004965, 0.7049926777110136, 0.011015510589234587, 0.13218612707081506, 0.9735852283446058, 0.9508693532583617, 0.9146621974721172, 0.9839222065366002, 0.7960719322737184, 0.9845570164518498, 0.14856485943545597, 0.5694986278359147, 0.049521619811818664, 0.2104668842002293, 0.8557469945588965, 0.97567376956368, 0.004325098798785051, 0.007689064531173423, 0.32966864177406047, 0.05670685091740399, 0.006247364931578406, 0.12398616556517143, 0.029314558525098674, 0.24845289766354123, 0.04853721985303223, 0.05574571785100731, 0.054304018251412296, 0.019703227861131895, 0.0014416995995950167, 0.01297529639635515, 0.0014416995995950167, 0.9175841692472922, 0.039894963880317054, 0.019947481940158527, 0.995782294000551, 0.917708124432473, 0.036708324977298916, 0.9250855240144508, 0.7879053268871566, 0.016095527543573667, 0.9818271801579936, 0.7274574437052146, 0.25759148826283007, 0.0047702127456079645, 0.007155319118411946, 0.9773429641515391, 0.06768147585128918, 0.10829036136206269, 0.7851051198749545, 0.027072590340515672, 0.22232560073716007, 0.7642442525339878, 0.8620083749485765, 0.3960161823443908, 0.6026333209588556, 0.9867687087674603, 0.96493907263213, 0.8306520387999101, 0.13115558507367, 0.979013117582752, 0.9470555010273571, 0.9276964244398365, 0.06050194072433716, 0.8568469107530166, 0.689789616842307, 0.9467019697081265, 0.9857033699246546, 0.04314983348138403, 0.13376448379229047, 0.13376448379229047, 0.5782077686505459, 0.10787458370346006, 0.971032589585628, 0.9606470740994325, 0.9764024395629902, 0.004606868951577535, 0.06705553696185079, 0.09418487634336294, 0.03583120295671416, 0.17352539717608714, 0.0783167721768181, 0.2789715087344174, 0.0015356229838591783, 0.005118743279530594, 0.0189393501342632, 0.0706386572575222, 0.10083924260675271, 0.02661746505355909, 0.02866496236537133, 0.006654366263389773, 0.003583120295671416, 0.004606868951577535, 0.9765033176966079, 0.017541975767004933, 0.018831013272866237, 0.06355466979592354, 0.35072762220713366, 0.3554353755253502, 0.056493039818598705, 0.11769383295541397, 0.0023538766591082796, 0.028246519909299352, 0.0023538766591082796, 0.9208881989528853, 0.03090228855546595, 0.04326320397765233, 0.04485912086638194, 0.9159606539693802, 0.03755647328348256, 0.360712692809062, 0.06986135157171557, 0.024712859059382378, 0.02899008466581394, 0.11310885492563473, 0.09552470521030496, 0.05180195456678229, 0.06130690035885244, 0.018059397004933277, 0.018534644294536783, 0.011405934950484174, 0.009029698502466639, 0.017584149715329768, 0.002376236448017536, 0.09599995249990846, 0.005702967475242087, 0.0004752472896035073, 0.014732665977708725, 0.04194348157785046, 0.032175821484378433, 0.006032966528320956, 0.19190579242468567, 0.0318885373639822, 0.06981004125628536, 0.1060078404262111, 0.03820878801269939, 0.06664991593192676, 0.02298272963169888, 0.024993718474472536, 0.01867346782575534, 0.01666247898298169, 0.08963264556362564, 0.04309261805943541, 0.049125584587756364, 0.07009732537668159, 0.006894818889509664, 0.06550077945034181, 0.003160125324358596, 0.00430926180594354, 0.10721567683001562, 0.28631925958053983, 0.0874978512061047, 0.00164315213532591, 0.28056822710689916, 0.10762646486384711, 0.005340244439809207, 0.004518668372146252, 0.017663885454753534, 0.05792111277023833, 0.04313274355230514, 0.759073545967081, 0.2070200579910221, 0.8726087095262295, 0.9514698726450621, 0.9888804230941902, 0.4796676987347423, 0.5055956824501338, 0.008642661238463824, 0.9058672803490514, 0.026384483893661693, 0.06156379575187728, 0.8727813116116466, 0.9822973476865275, 0.8986068044601405, 0.9853673353445336, 0.9971989619981841, 0.12585704621532198, 0.8690129381534137, 0.4596941496515332, 0.15569152010369205, 0.36726329234392374, 0.01686951007895535, 0.001084772647191596, 0.169224532961889, 0.0553234050067714, 0.001084772647191596, 0.7495778992093929, 0.0032543179415747883, 0.018441135002257133, 0.9959065773637106, 0.889178804697702, 0.9830320733038909, 0.008618151529980266, 0.0193908409424556, 0.27362631107687346, 0.129272272949704, 0.21114471248451652, 0.0021545378824950664, 0.010772689412475332, 0.0064636136474852, 0.3102534550792896, 0.0258544545899408, 0.9327997215058575, 0.9056603209928195, 0.100887588469333, 0.8951090296108907, 0.7305504381152088, 0.919342005096658, 0.9719626982661517, 0.13958078935916424, 0.8374847361549854, 0.9572359970031487, 0.9667969925243731, 0.882663232556209, 0.94001651996405, 0.6970965209088411, 0.03906045156331227, 0.025474207541290612, 0.025474207541290612, 0.16982805027527073, 0.005094841508258122, 0.00679312201101083, 0.022077646535785197, 0.07472434212111913, 0.34984578356705776, 0.011887963519268952, 0.08831058614314079, 0.011887963519268952, 0.03226732955230144, 0.04755185407707581, 0.0900088666458935, 0.9961395539454689, 0.1091236585678449, 0.2494255052979312, 0.0155890940811207, 0.6079746691637073, 0.9450090640155324, 0.0342892712015886, 0.0342892712015886, 0.9310855949354444, 0.09445009555741495, 0.7394093195066199, 0.045875760699315836, 0.024287167429049558, 0.09445009555741495, 0.6346547030692344, 0.002951882339856904, 0.3601296454625423, 0.9261166109865695, 0.9190897796339276, 0.06433628457437493, 0.5551343453880848, 0.35120744300062506, 0.07930490648401212, 0.9846160374569103, 0.841277743088679, 0.08179089168917712, 0.07010647859072325, 0.14170714536767368, 0.13625687054584007, 0.027251374109168013, 0.11445577125850566, 0.5722788562925283, 0.830100390159671, 0.1627647823842492, 0.9401925542831453, 0.004209757194640746, 0.17680980217491135, 0.8166928957603048, 0.004296977455450889, 0.4780387419189115, 0.23418527132207348, 0.13750327857442846, 0.010742443638627225, 0.10205321456695862, 0.0021484887277254446, 0.010742443638627225, 0.006445466183176335, 0.008593954910901778, 0.004296977455450889, 0.14630943628316306, 0.04876981209438768, 0.07803169935102029, 0.25848000410025473, 0.06827773693214276, 0.039015849675510146, 0.08778566176989783, 0.039015849675510146, 0.22921811684362212, 0.0023286888951430692, 0.0042692629744289605, 0.0007762296317143564, 0.06792009277500619, 0.0015524592634287128, 0.024839348214859405, 0.10090985212286632, 0.011643444475715345, 0.0034930333427146036, 0.03531844824300322, 0.04191640011257525, 0.6760960092232045, 0.019793855608716087, 0.007762296317143564, 0.0007762296317143564, 0.9660856227469957, 0.41294008477823013, 0.08824207705584622, 0.9076327925744182, 0.9489419870311692, 0.05002925441830994, 0.9967995918520104, 0.8345895324739618, 0.6556278534220645, 0.27317827225919356, 0.7022338223009358, 0.25871772400560794, 0.09682691934479509, 0.15061965231412572, 0.7423397149767624, 0.9052127181430248, 0.07871414940374129, 0.8472483692424131, 0.9152755057632206, 0.316488234175045, 0.34789546352066014, 0.2778331826727494, 0.055566636534549886, 0.06710931085529763, 0.8836059262614189, 0.044739540570198424, 0.7117013380997581, 0.957387593774432, 0.9977955797433616, 0.11376953496599147, 0.853271512244936, 0.1144591464731444, 0.8393670741363922, 0.9571952273188138, 0.9152802160653875, 0.07858466501571508, 0.34727633418055165, 0.06259050209068082, 0.048457162908914185, 0.244304862999109, 0.008076193818152364, 0.050476211363452275, 0.23824771763549474, 0.034494266513829454, 0.0013797706605531781, 0.7781906525519925, 0.0027595413211063563, 0.13797706605531782, 0.0441526611377017, 0.3283016192654844, 0.6566032385309688, 0.04716443154695199, 0.007860738591158664, 0.005677200093614591, 0.06288590872926932, 0.021835384975440734, 0.006550615492632221, 0.018778431078879033, 0.04105052375382858, 0.015284769482808516, 0.003930369295579332, 0.0030569538965617028, 0.08646812450274531, 0.6633589955538896, 0.0017468307980352587, 0.013101230985264441, 0.0008734153990176294, 0.9997313291679553, 0.831106101439911, 0.14666578260704313, 0.022300933377164912, 0.04320805841825702, 0.03623901673789298, 0.08223469182829561, 0.008362850016436841, 0.020907125041092104, 0.07944707515615, 0.015331891696800878, 0.25367311716525087, 0.03623901673789298, 0.01393808336072807, 0.01811950836894649, 0.005575233344291228, 0.011150466688582456, 0.07108422513971316, 0.2703988171981246, 0.011150466688582456, 0.143652384165602, 0.6804586618370622, 0.007560651798189579, 0.15877368776198117, 0.9768458960498562, 0.8728871296352756, 0.8276911216619363, 0.1310510942631399, 0.03448713006924735, 0.8847073552906719, 0.9743870842446913, 0.08396731163422748, 0.3966731618582471, 0.51538556796181, 0.0752495379664865, 0.06967549811711712, 0.3650996101336937, 0.027870199246846847, 0.3483774905855856, 0.025083179322162162, 0.011148079698738739, 0.008361059774054054, 0.016722119548108108, 0.008361059774054054, 0.044592318794954955, 0.014197300138250423, 0.9796137095392792, 0.8835620653573251, 0.17090750487000145, 0.7690837719150065, 0.0928345189530299, 0.05612699232619409, 0.013498896888578327, 0.0016577592670183909, 0.013972542393440724, 0.0899926459238555, 0.08454572261793794, 0.3464716868068437, 0.016340769917752712, 0.029839666806331037, 0.013735719641009525, 0.055653346821331696, 0.020366756709083087, 0.037891640388991794, 0.011841137621559935, 0.01681441542261511, 0.00544692330591757, 0.022734984233395077, 0.024155920747982267, 0.039312576903578984, 0.006867859820504763, 0.9981078427577602, 0.9877577856271504, 0.9457445868824388, 0.04083763265635873, 0.04083763265635873, 0.016335053062543493, 0.2123556898130654, 0.06534021225017397, 0.6125644898453809, 0.7802400991025422, 0.09066477129236244, 0.028768629352384237, 0.013076649705629198, 0.05143482217547485, 0.03399928923463592, 0.00261532994112584, 0.8755389840331467, 0.0857670841501858, 0.035736285062577415, 0.9996516880119368, 0.9988864363810273, 0.9587907426874485, 0.9422426883223031, 0.015907337826413435, 0.9703476074112195, 0.04464013463158476, 0.19614604610847852, 0.2042624342233121, 0.34900468893784453, 0.08386934385328047, 0.01217458217225039, 0.08386934385328047, 0.002705462704944531, 0.02164370163955625, 0.8634633806376407, 0.9574617607794249, 0.31814659632376624, 0.6787127388240346, 0.7080937052954704, 0.08262235845122706, 0.03772290307906804, 0.0020241557749743825, 0.012880991295291525, 0.012144934649846294, 0.059068545796979705, 0.06201277237876063, 0.01104084968167845, 0.03827494556315196, 0.023369798492886052, 0.657666612705313, 0.0009200708068065374, 0.049776051047801376, 0.9457449699082261, 0.9576966869583633, 0.9567859664212088, 0.0037848566540868655, 0.140039696201214, 0.8515927471695447, 0.9327155358874066, 0.9986087530167218, 0.05898477514915837, 0.05551508249332553, 0.04163631186999414, 0.1977724813824722, 0.07286354577248975, 0.19083309607080648, 0.05898477514915837, 0.05551508249332553, 0.034696926558328456, 0.010409077967498535, 0.04163631186999414, 0.18042401810330796, 0.10436971075625201, 0.09649275145389337, 0.037661711664402256, 0.2242471851390226, 0.07630804324159934, 0.04258481122837641, 0.018953933321300482, 0.03741555668620355, 0.027569357558255247, 0.018707778343101774, 0.026830892623659126, 0.05587718005110662, 0.005907719476768982, 0.04480020603216478, 0.0054154095203715665, 0.007384649345961227, 0.1494160717666155, 0.011815438953537963, 0.0002461549781987076, 0.006400029433166397, 0.0019692398255896607, 0.9183119093474916, 0.8693875283548895, 0.010644750898047449, 0.031934252694142344, 0.3299872778394709, 0.617395552086752, 0.755525233777155, 0.06569784641540478, 0.17768281189620838, 0.17875735114762317, 0.8044080801643043, 0.9890102675142135, 0.9756793945357473, 0.18960227979735894, 0.5036310557117347, 0.3021786334270408, 0.9707998939012743, 0.9579421589611596, 0.03547933922078369, 0.23187377006363077, 0.007995647243573475, 0.7515908408959067, 0.266202786568098, 0.6876905319675864, 0.022183565547341497, 0.8751940854240288, 0.9596235826412981, 0.011600013217961305, 0.9222010508279237, 0.005800006608980652, 0.052200059480825865, 0.8402511772238068, 0.1283479394944715, 0.029092199618746876, 0.10804626244135113, 0.13212830727242938, 0.004890223663015892, 0.03054083080109925, 0.0680940577982213, 0.259089585768842, 0.044842428306145724, 0.02306709275007496, 0.00590517574401919, 0.06698683734621769, 0.004152076695013493, 0.0635729076192066, 0.0611739299731988, 0.017069648635055473, 0.03995220464312983, 0.009964984068032383, 0.013471182166043778, 0.002398977646007796, 0.01937635791006297, 0.0001845367420005997, 0.0006458785970020989, 0.02426658157307886, 0.773351833495296, 0.9312121947701623, 0.983667233946021, 0.787436166118353, 0.13814669581023736, 0.055258678324094944, 0.09097158022808968, 0.8793919422048669, 0.9746597224735473, 0.9626183107225414, 0.37345000094074493, 0.5771500014538785, 0.05014700531754469, 0.0044434055344659855, 0.5148002697788449, 0.10664173282718366, 0.05966858860568609, 0.0025390888768377063, 0.14790192707579639, 0.005078177753675413, 0.03300815539889018, 0.0019043166576282796, 0.07363357742829348, 0.7445429691429755, 0.9560471311400563, 0.8495538967270901, 0.003914994915793042, 0.03914994915793042, 0.10178986781061909, 0.11184856102309726, 0.058161251732010574, 0.04026548196831502, 0.17895769763695563, 0.0693461078343203, 0.1386922156686406, 0.01789576976369556, 0.033554568306929176, 0.03802851074785307, 0.00447394244092389, 0.14092918688910255, 0.013421827322771671, 0.12079644590494504, 0.03131759708646723, 0.999703571845964, 0.9779090702130488, 0.9921110669506394, 0.286177507726269, 0.7059045190581301, 0.9987120282152803, 0.98182094935884, 0.04932809515976816, 0.309031063056666, 0.4210934952663135, 0.010140618865596938, 0.11137493262553926, 0.0677187090346643, 0.00017187489602706675, 0.012031242721894672, 0.008765619697380404, 0.010312493761624004, 0.931103239575771, 0.9815364108479481, 0.9789443928189532, 0.17202587390781443, 0.8171229010621186, 0.12313615817774638, 0.14023840236910004, 0.0068408976765414655, 0.08665137056952524, 0.5404309164467758, 0.03762493722097806, 0.06384837831438701, 0.9776931310037473, 0.9919384748335023, 0.7459537511947109, 0.24022239445253402, 0.907793302238842, 0.09077933022388421, 0.2658441831879967, 0.7250295905127183, 0.02401514900255958, 0.04067081685917348, 0.3079361847908849, 0.03679740572972839, 0.0007746822258890187, 0.016655667856613904, 0.012782256727168808, 0.2908931758213265, 0.015493644517780373, 0.012782256727168808, 0.00038734111294450935, 0.1495136695965806, 0.048804980231008176, 0.00038734111294450935, 0.001162023338833528, 0.04105815797211799, 0.12192365193487036, 0.026126496843186506, 0.6009094273932897, 0.13063248421593254, 0.017417664562124336, 0.09579715509168385, 0.971733595991594, 0.49684328219759116, 0.3312288547983941, 0.8809417398156945, 0.1006790559789365, 0.9953668935181562, 0.982060034837513, 0.8890537224009519, 0.06714456146561924, 0.014996182493580788, 0.01493980586766507, 0.0010147792664829103, 0.11872917417850053, 0.043691885084680866, 0.11292238170918165, 0.0041718703177630765, 0.012008221320047774, 0.0019731819070501035, 0.003382597554943035, 0.33910540488303925, 0.1696936440063089, 0.003946363814100207, 0.0016349221515558, 0.017251247530209478, 0.016687481271052306, 0.0006201428850728897, 0.0001127532518314345, 0.04916041779850544, 0.00552490933974029, 0.0012966623960614966, 0.29781663945905434, 0.7007450340213043, 0.10667819029641679, 0.8839050053131676, 0.9808870499879883, 0.05021378966953023, 0.9289551088863093, 0.01673792988984341, 0.9589910219862084, 0.9958315707048082, 0.01216905012077512, 0.9207914591386507, 0.0608452506038756, 0.9287236492747054, 0.546477065475416, 0.3447009182229547, 0.10088807362623063, 0.09007817410253652, 0.9072158963184035, 0.9815418041382853, 0.9514854368909714, 0.02162466902024935, 0.9731904410521452, 0.9864179131731122, 0.9978618053712606, 0.9971983018900249, 0.02639443863705694, 0.09649806765708017, 0.0014780885636751886, 0.19637462345970363, 0.11085664227563914, 0.025760972109767574, 0.00802390934566531, 0.0006334665272893665, 0.004645421200122022, 0.010768930963919232, 0.03378488145543288, 0.007179287309279488, 0.06947016249273387, 0.3184225077174549, 0.023860572527899474, 0.0365299030736868, 0.023649417018803017, 0.0052788877274113875, 0.0002111555090964555, 0.8890682223005664, 0.037282451391144396, 0.9507025104741821, 0.9237791587333513, 0.028868098710417227, 0.1661460407613065, 0.8214998682086823, 0.9519937588560123, 0.02799981643694154, 0.15736854080773824, 0.8392988843079373, 0.02004724273137312, 0.0009324298944824709, 0.06480387766653173, 0.17436439026822204, 0.061540373035843074, 0.34406663106403174, 0.026108037045509184, 0.03449990609585142, 0.06387144777204926, 0.027972896834474126, 0.010722943786548414, 0.011655373681030885, 0.003263504630688648, 0.06433766271929049, 0.007925654103101002, 0.06247280293032555, 0.01724995304792571, 0.004662149472412354, 0.0028621367463729855, 0.18890102526061703, 0.06392105400233, 0.027667321881605526, 0.07059937307720031, 0.3157890876831527, 0.133566381497406, 0.12020974334766539, 0.06869128191295165, 0.0009540455821243285, 0.008586410239118956, 0.1444689040356699, 0.7705008215235728, 0.07223445201783495, 0.04769002976264023, 0.7391954613209236, 0.20268262649122099, 0.9776225435692424, 0.9365100974213008, 0.1919942055378529, 0.05254578256825448, 0.024251899646886683, 0.02020991637240557, 0.08083966548962228, 0.01818892473516501, 0.13338544805787675, 0.29304378739988074, 0.02020991637240557, 0.03637784947033002, 0.12934346478339565, 0.4160592995467976, 0.9174753957240886, 0.2603321310773281, 0.6942190162062083, 0.007474047878054646, 0.9865743199032132, 0.09557136777439393, 0.8994952261119429, 0.9691292331132919, 0.9306351754119646, 0.9770758593653951, 0.9679465512697191, 0.3930201589492188, 0.0019360598963015705, 0.025168778651920416, 0.3359063920083225, 0.07550633595576126, 0.16843721097823663, 0.9325196301788545, 0.9976419438626584, 0.6373660903816643, 0.28035346930877325, 0.015331830352823537, 0.06570784436924373, 0.054130740709712036, 0.876917999497335, 0.06495688885165445, 0.987364410012211, 0.964746143302542, 0.2920179707012912, 0.0774741554921793, 0.11025168281579362, 0.05959550422475331, 0.33075504844738085, 0.044696628168564984, 0.08045393070341697, 0.9948530747546488, 0.9986152538718523, 0.9128425228329452, 0.9410772975383968, 0.12502436510996665, 0.8501656827477732, 0.8873932474884734, 0.9816956127996076, 0.9459219052821468, 0.01063820696064887, 0.005319103480324435, 0.01063820696064887, 0.061169690023731, 0.03723372436227104, 0.11702027656713757, 0.21808324269330182, 0.5398890032529301, 0.95315609925489, 0.17557221297488126, 0.018162642721539442, 0.0575150352848749, 0.021189749841796016, 0.717424387500808, 0.009081321360769721, 0.9849101073591224, 0.9933637239176204, 0.9934249896981093, 0.15182127020615313, 0.8467557441394726, 0.9296055302733164, 0.06801991684926706, 0.03214769099673651, 0.9664399605893914, 0.9614963445197255, 0.9840980782178634, 0.930132321199701, 0.06861631877702713, 0.9741373415644714, 0.8276229430792624, 0.9504712147203115, 0.9917453835834473, 0.8611743562560866, 0.9528913193977503, 0.9973542665303509, 0.9086684452794922, 0.054711838570894115, 0.9027453364197529, 0.9985184237971862, 0.029878810448522114, 0.008148766485960576, 0.6437525523908856, 0.17927286269113268, 0.1385290302613298, 0.9454819254847119, 0.11093902919820844, 0.8505325571862647, 0.9909033107735103, 0.013599041590055129, 0.04079712477016539, 0.265181311006075, 0.12239137431049615, 0.5575607051922603, 0.9813023588361188, 0.9930013148630801, 0.9455138064196142, 0.7319638195714678, 0.0119316235238153, 0.29431338025411075, 0.6880569565400156, 0.8863187971002444, 0.10071804512502777, 0.9183696864590881, 0.1311949043998422, 0.19174639873823088, 0.6736353745145742, 0.04089308603208004, 0.954172007415201, 0.9367630045089346, 0.9878976242210922, 0.9853391275925896, 0.8856031189344773, 0.976207064350714, 0.08929161026364667, 0.010263403478580076, 0.07800186643720858, 0.018474126261444138, 0.31098112540097633, 0.22476853618090367, 0.17550419948371931, 0.023605828000734175, 0.049264336697184365, 0.014368764870012107, 0.004105361391432031, 0.9841935804554631, 0.040762637929182104, 0.04290803992545485, 0.01930861796645468, 0.4612614291986396, 0.015017813973909198, 0.2338488175937289, 0.021454019962727423, 0.02574482395527291, 0.010727009981363712, 0.05792585389936405, 0.027890225951545652, 0.01716321597018194, 0.023599421959000166, 0.05098691404010815, 0.9177644527219467, 0.9794797920905115, 0.9895685124247182, 0.8897912581012801, 0.8002021570679971, 0.11602078183501877, 0.01876806764978245, 0.05289182701302326, 0.010237127808972244, 0.978699388994454, 0.9761184036673582, 0.9662911315496859, 0.9901485871903725, 0.9681334212170246, 0.9087433723298814, 0.9042981822087803], \"Term\": [\".net\", \".net\", \"401k\", \"401k\", \"401k\", \"a+\", \"accessibility\", \"accessibility\", \"accessibility\", \"accessibility\", \"accident\", \"accounting\", \"accounting\", \"accounting\", \"accounting\", \"acl\", \"acquisition\", \"acquisition\", \"acquisition\", \"acquisition\", \"acquisition\", \"acquisition\", \"acquisition\", \"acquisition\", \"acquisition\", \"acs\", \"act\", \"act\", \"act\", \"act\", \"act\", \"act\", \"act\", \"act\", \"act\", \"act\", \"act\", \"act\", \"act\", \"act\", \"act\", \"act\", \"act\", \"actimize\", \"active_directory\", \"active_dod_secret_clearance\", \"active_listening\", \"activex\", \"administration\", \"administration\", \"administration\", \"administration\", \"administration\", \"administration\", \"administration\", \"administration\", \"administration\", \"administration\", \"administration\", \"administrator\", \"administrator\", \"administrator\", \"administrator\", \"ado\", \"adobe\", \"advertising\", \"advertising\", \"advertising\", \"advertising\", \"aerospace\", \"aerospace\", \"affirmative_action\", \"affirmative_action\", \"affirmative_action\", \"affirmative_action\", \"affirmative_action\", \"affirmative_action\", \"affirmative_action\", \"affirmative_action\", \"affirmative_action\", \"affirmative_action\", \"affirmative_action\", \"agile\", \"agile\", \"agile\", \"agile\", \"agile\", \"agile\", \"agile\", \"agile\", \"agile\", \"agile\", \"agile\", \"agile\", \"agile\", \"agile\", \"agile\", \"agile\", \"air_force\", \"air_force\", \"aircraft\", \"ajax\", \"ajax\", \"algebra\", \"alm\", \"alteryx\", \"alteryx\", \"altium\", \"analog\", \"analyst\", \"analyst\", \"analyst\", \"analyst\", \"analyst\", \"android\", \"android_sdk\", \"android_studio\", \"animation\", \"animation\", \"ansible\", \"ansys\", \"ansys\", \"apache_airflow\", \"apex\", \"api\", \"api\", \"api\", \"api\", \"api\", \"api\", \"api\", \"apis\", \"apis\", \"apis\", \"apis\", \"apis\", \"apis\", \"apis\", \"apis\", \"apis\", \"appium\", \"apple\", \"applets\", \"architecture\", \"architecture\", \"architecture\", \"architecture\", \"architecture\", \"architecture\", \"architecture\", \"architecture\", \"architecture\", \"architecture\", \"architecture\", \"architecture\", \"archiving\", \"army\", \"art\", \"art\", \"art\", \"art\", \"art\", \"art\", \"art\", \"art\", \"art\", \"art\", \"art\", \"art\", \"art\", \"artificial_intelligence\", \"artificial_intelligence\", \"artificial_intelligence\", \"artificial_intelligence\", \"aruba\", \"asa\", \"asana\", \"asp\", \"assembly\", \"atl\", \"atlas\", \"atm\", \"ato\", \"audio\", \"auditing\", \"auditing\", \"auditing\", \"authentication\", \"authentication\", \"authentication\", \"authentication\", \"automated_testing\", \"automated_testing\", \"automation\", \"automation\", \"automation\", \"automation\", \"automation\", \"automation\", \"automation\", \"automation_anywhere\", \"automotive\", \"automotive\", \"automotive\", \"av\", \"b2c\", \"b2c\", \"backup\", \"backup_exec\", \"balsamiq\", \"bamboo\", \"banking\", \"banking\", \"banking\", \"banking\", \"banking\", \"banking\", \"banking\", \"banking\", \"banking\", \"bash\", \"bdd\", \"beauty\", \"benchmarking\", \"benchmarking\", \"bi\", \"bi\", \"bi\", \"bi\", \"bi\", \"bi\", \"bid\", \"bid\", \"big_data\", \"big_data\", \"big_data\", \"big_data\", \"bilingual\", \"billing\", \"billing\", \"bind\", \"bind\", \"bind\", \"bind\", \"bind\", \"bloomberg\", \"blueprint\", \"blueprint\", \"bluetooth\", \"bmc\", \"bootstrap\", \"bpm\", \"bpmn\", \"brainstorming\", \"brand\", \"brand\", \"brand\", \"brand\", \"brand\", \"brand\", \"brand\", \"branding\", \"branding\", \"brd\", \"broadband\", \"bt\", \"budget\", \"budget\", \"budget\", \"business_continuity\", \"business_intelligence\", \"business_intelligence\", \"business_intelligence\", \"business_intelligence\", \"business_intelligence\", \"business_intelligence\", \"business_owner\", \"business_owner\", \"business_owner\", \"business_owner\", \"c\", \"c\", \"c\", \"c\", \"c\", \"c\", \"c\", \"c\", \"c\", \"c\", \"c\", \"c\", \"c\", \"cad\", \"cadence\", \"cadence\", \"cadence\", \"cadence\", \"calibration\", \"camtasia\", \"can\", \"capacity_planning\", \"capacity_planning\", \"capacity_planning\", \"capacity_planning\", \"capital_market\", \"capital_market\", \"carbon\", \"carbon\", \"catia\", \"cbap\", \"cbp\", \"ccna_security\", \"ccnp\", \"cctv\", \"cdn\", \"cdp\", \"cellular\", \"centricity\", \"cgi\", \"change_control\", \"change_control\", \"change_control\", \"change_control\", \"changeman\", \"chaos\", \"chaos\", \"checkpoint\", \"chef\", \"cic\", \"cio\", \"cip\", \"cis\", \"cisa\", \"cisco\", \"cisco\", \"cisco_asa\", \"cisco_nexus\", \"cissp\", \"citrix\", \"classification\", \"classification\", \"classification\", \"classification\", \"classification\", \"classification\", \"classroom\", \"clinical_research\", \"cloud\", \"cloud\", \"cloud\", \"cloud\", \"cloud\", \"cloud\", \"cloud\", \"cloud\", \"cloud\", \"cloud\", \"cloud\", \"cloud\", \"cloud\", \"cloud\", \"cloud_foundry\", \"cmm\", \"cmm\", \"cms\", \"cms\", \"cms\", \"cnn\", \"coaching\", \"coaching\", \"coaching\", \"coaching\", \"coaching\", \"cobit\", \"cobol\", \"cocoa\", \"cocoa_touch\", \"code_coverage\", \"code_review\", \"code_review\", \"code_review\", \"code_review\", \"code_review\", \"code_review\", \"code_review\", \"code_review\", \"cognitive_science\", \"cognos\", \"collaboration\", \"collaboration\", \"collaboration\", \"collaboration\", \"collaboration\", \"collaboration\", \"collaboration\", \"collaboration\", \"collaboration\", \"collaboration\", \"collaboration\", \"collaboration\", \"collaboration\", \"collaboration\", \"collaboration\", \"collaboration\", \"collaboration\", \"collaboration\", \"collaboration\", \"com\", \"com\", \"com\", \"commerce\", \"commerce\", \"commercial_insurance\", \"commercial_real_estate\", \"commercialization\", \"communication\", \"communication\", \"communication\", \"communication\", \"communication\", \"communication\", \"communication\", \"communication\", \"communication\", \"communication\", \"communication\", \"communication\", \"communication\", \"communication\", \"communication\", \"communication\", \"communication\", \"communication\", \"communication\", \"communication\", \"communication\", \"communication\", \"compliance\", \"compliance\", \"compliance\", \"compliance\", \"compliance\", \"compliance\", \"compliance\", \"compliance\", \"compliance\", \"compliance\", \"compliance\", \"compliance\", \"compliance\", \"compliance\", \"compliance\", \"components\", \"compressor\", \"compressor\", \"computer\", \"computer\", \"computer\", \"computer\", \"computer\", \"computer\", \"computer\", \"computer\", \"computer\", \"computer\", \"computer\", \"computer\", \"computer\", \"computer\", \"computer\", \"computer\", \"computer\", \"computer\", \"computer\", \"computer\", \"computer\", \"computer_engineering\", \"computer_engineering\", \"computer_engineering\", \"computer_engineering\", \"computer_engineering\", \"computer_hardware\", \"computer_hardware\", \"computer_science\", \"computer_science\", \"computer_science\", \"computer_science\", \"computer_science\", \"computer_science\", \"computer_science\", \"computer_science\", \"computer_science\", \"computer_science\", \"computer_science\", \"computer_science\", \"computer_science\", \"computer_science\", \"computer_science\", \"computer_science\", \"computer_science\", \"computer_science\", \"computer_science\", \"comscore\", \"concrete\", \"concur\", \"concurrency\", \"concurrency\", \"configuration\", \"configuration\", \"configuration\", \"configuration\", \"configuration\", \"configuration\", \"configuration\", \"configuration\", \"configuration_management\", \"configuration_management\", \"configuration_management\", \"conflict_resolution\", \"conflict_resolution\", \"conflict_resolution\", \"confluence\", \"confluence\", \"confluence\", \"confluence\", \"confluence\", \"confluence\", \"consulting\", \"consulting\", \"consulting\", \"consulting\", \"consulting\", \"consulting\", \"consulting\", \"consulting\", \"consulting\", \"consulting\", \"consulting\", \"consulting\", \"consulting\", \"consulting\", \"contingency_plan\", \"contingency_plan\", \"continuous_delivery\", \"continuous_delivery\", \"continuous_delivery\", \"continuous_delivery\", \"continuous_improvement\", \"continuous_improvement\", \"continuous_improvement\", \"continuous_improvement\", \"continuous_improvement\", \"continuous_improvement\", \"continuous_improvement\", \"continuous_improvement\", \"continuous_improvement\", \"continuous_improvement\", \"continuous_improvement\", \"continuous_integration\", \"continuous_integration\", \"continuous_integration\", \"continuous_integration\", \"continuous_integration\", \"continuous_monitoring\", \"corba\", \"cost_estimation\", \"couchbase\", \"cpa\", \"cpg\", \"cpt\", \"cpt\", \"cpt\", \"cpu\", \"cra\", \"credit_risk\", \"crf\", \"critical_illness\", \"crm\", \"crm\", \"cryptocurrency\", \"cryptography\", \"csc\", \"csm\", \"csp\", \"csp\", \"cspo\", \"cspo\", \"css\", \"css\", \"css\", \"csv\", \"cto\", \"cucumber\", \"cue\", \"cue\", \"curriculum\", \"customization\", \"customization\", \"cyber_security\", \"da\", \"daas\", \"dart\", \"dart\", \"dashboard\", \"dashboard\", \"dashboard\", \"dashboard\", \"dashboard\", \"dashboard\", \"dashboard\", \"dashboard\", \"dashboard\", \"data\", \"data\", \"data\", \"data\", \"data\", \"data\", \"data\", \"data\", \"data\", \"data\", \"data\", \"data\", \"data\", \"data\", \"data\", \"data\", \"data\", \"data\", \"data\", \"data\", \"data\", \"data_center\", \"data_center\", \"data_center\", \"data_center\", \"data_center\", \"data_collection\", \"data_collection\", \"data_collection\", \"data_dictionary\", \"data_extraction\", \"data_extraction\", \"data_loss_prevention\", \"data_mining\", \"data_mining\", \"data_modeling\", \"data_modeling\", \"data_modeling\", \"data_profiling\", \"data_profiling\", \"data_science\", \"data_visualization\", \"data_visualization\", \"data_warehouse\", \"data_warehousing\", \"database\", \"database\", \"database\", \"database\", \"database\", \"database\", \"database\", \"database\", \"database\", \"database\", \"database\", \"database\", \"database\", \"database\", \"dax\", \"dba\", \"dcom\", \"deep_learning\", \"delegation\", \"demand_forecasting\", \"design\", \"design\", \"design\", \"design\", \"design\", \"design\", \"design\", \"design\", \"design\", \"design\", \"design\", \"design\", \"design\", \"design\", \"design\", \"design\", \"design\", \"design\", \"design\", \"design\", \"design_thinking\", \"desktop\", \"desktop\", \"desktop_support\", \"developer\", \"developer\", \"developer\", \"developer\", \"developer\", \"developer\", \"developer\", \"developer\", \"developer\", \"developer\", \"dfm\", \"dfs\", \"dhcp\", \"dhcp\", \"dhtml\", \"dhtml\", \"digital_marketing\", \"digital_transformation\", \"digital_transformation\", \"digital_transformation\", \"digital_transformation\", \"digital_transformation\", \"dimensional_modeling\", \"directx\", \"disaster_recovery\", \"disaster_recovery\", \"django\", \"dmaic\", \"dmz\", \"dns\", \"dns\", \"dns\", \"docker\", \"docker\", \"documentation\", \"documentation\", \"documentation\", \"documentation\", \"documentation\", \"documentation\", \"documentation\", \"documentation\", \"documentation\", \"documentation\", \"documentation\", \"documentation\", \"documentation\", \"documentation\", \"documentation\", \"dod\", \"dod\", \"dod\", \"drawing\", \"drawing\", \"drupal\", \"dsl\", \"dynatrace\", \"eagle\", \"ebs\", \"eclipse\", \"eclipse\", \"eclipse\", \"eclipse\", \"ecmascript\", \"edi\", \"edi\", \"editorial\", \"editorial\", \"education\", \"education\", \"education\", \"education\", \"education\", \"education\", \"education\", \"education\", \"education\", \"education\", \"education\", \"education\", \"education\", \"education\", \"education\", \"education\", \"education\", \"education\", \"education\", \"education\", \"education\", \"eeo\", \"ehr\", \"eigrp\", \"electrical\", \"electrical_engineering\", \"electronics\", \"elt\", \"email\", \"email\", \"email\", \"email\", \"email\", \"email\", \"email\", \"email\", \"email\", \"email\", \"email\", \"email\", \"email\", \"email\", \"email\", \"email\", \"email\", \"email\", \"emc\", \"emc\", \"emc\", \"emi\", \"emotional_intelligence\", \"emr\", \"emr\", \"emr\", \"emr\", \"endevor\", \"energy\", \"energy\", \"energy\", \"energy\", \"energy\", \"energy\", \"energy\", \"energy\", \"energy\", \"energy\", \"energy\", \"energy\", \"energy\", \"energy\", \"energy\", \"engineer\", \"engineer\", \"engineer\", \"engineer\", \"engineer\", \"engineer\", \"engineer\", \"engineer\", \"engineer\", \"engineer\", \"engineer\", \"engineer\", \"engineer\", \"engineer\", \"engineer\", \"engineer\", \"engineer\", \"engineer\", \"engineer\", \"engineering\", \"engineering\", \"engineering\", \"engineering\", \"engineering\", \"engineering\", \"engineering\", \"engineering\", \"engineering\", \"engineering\", \"engineering\", \"engineering\", \"engineering\", \"engineering\", \"engineering\", \"engineering\", \"engineering\", \"engineering\", \"engineering\", \"engineering_technician\", \"entertainment\", \"entertainment\", \"entertainment\", \"entity_framework\", \"eod\", \"ep\", \"epic\", \"epic\", \"epic\", \"epic\", \"epidemiology\", \"erp\", \"erp\", \"erp\", \"erp\", \"erp\", \"erwin\", \"escalation\", \"escalation\", \"escalation\", \"escalation\", \"ethernet\", \"ethernet\", \"etl\", \"etl\", \"evaluation\", \"evaluation\", \"evaluation\", \"evaluation\", \"evaluation\", \"evaluation\", \"evaluation\", \"evaluation\", \"evaluation\", \"evaluation\", \"exceed\", \"exceed\", \"exceed\", \"exceed\", \"exceed\", \"exist\", \"exist\", \"exist\", \"exist\", \"exist\", \"exist\", \"exist\", \"exist\", \"exist\", \"exist\", \"exist\", \"exist\", \"exist\", \"exist\", \"exist\", \"exist\", \"exist\", \"expect\", \"expect\", \"expect\", \"expect\", \"expect\", \"expect\", \"expect\", \"expect\", \"expect\", \"expect\", \"expect\", \"expect\", \"expect\", \"expect\", \"expect\", \"expect\", \"expect\", \"expect\", \"experimental_design\", \"extraction\", \"extraction\", \"extraction\", \"extraction\", \"extranet\", \"extreme_programming\", \"facebook\", \"facebook\", \"facebook\", \"facebook\", \"facebook\", \"facilitation\", \"facilitation\", \"facilitation\", \"facilitation\", \"failover\", \"failure_analysis\", \"fbi\", \"fea\", \"feasibility_study\", \"federal_government\", \"federation\", \"fiber_channel\", \"fiddler\", \"filing\", \"finance\", \"finance\", \"finance\", \"finance\", \"finance\", \"finance\", \"finance\", \"finance\", \"finance\", \"financial_forecasting\", \"financing\", \"firebase\", \"firewall\", \"firewall\", \"firewall\", \"firewalls\", \"fiserv\", \"fit\", \"fit\", \"fit\", \"fit\", \"fit\", \"fit\", \"fit\", \"fit\", \"fix\", \"fix\", \"fix\", \"fix\", \"fix\", \"fix\", \"fix\", \"fix\", \"fix\", \"fix\", \"fix\", \"fix\", \"fix\", \"fix\", \"flask\", \"flask\", \"flexibility\", \"flexibility\", \"flexibility\", \"flexibility\", \"flexibility\", \"flexibility\", \"flexibility\", \"flexibility\", \"flexibility\", \"flexibility\", \"flexibility\", \"flexibility\", \"flexibility\", \"flexibility\", \"flowchart\", \"flowchart\", \"fluent_english\", \"focus\", \"focus\", \"focus\", \"focus\", \"focus\", \"focus\", \"focus\", \"focus\", \"focus\", \"focus\", \"focus\", \"focus\", \"focus\", \"focus\", \"focus\", \"focus\", \"focus\", \"focus\", \"focus\", \"focus\", \"focus\", \"food\", \"food\", \"food\", \"food\", \"food\", \"fortinet\", \"foundry\", \"framework\", \"framework\", \"framework\", \"framework\", \"framework\", \"framework\", \"framework\", \"framework\", \"framework\", \"framework\", \"framework\", \"framework\", \"framework\", \"framework\", \"front_end_development\", \"front_end_development\", \"fsa\", \"ftp\", \"fx\", \"gap\", \"gap\", \"gap\", \"gap\", \"gap\", \"gap\", \"gap\", \"gap\", \"gap\", \"gap\", \"gap\", \"gap\", \"gap_analysis\", \"gap_analysis\", \"gap_analysis\", \"gas\", \"gas\", \"geospatial\", \"geospatial\", \"gherkin\", \"gherkin\", \"git\", \"git\", \"git\", \"git\", \"git\", \"git\", \"git\", \"git\", \"gl\", \"gl\", \"go\", \"go\", \"go\", \"go\", \"go\", \"go\", \"go\", \"go\", \"go\", \"go\", \"go\", \"go\", \"go\", \"go\", \"go\", \"go\", \"go\", \"go\", \"golang\", \"google\", \"google\", \"google\", \"google\", \"google\", \"google\", \"google_analytics\", \"google_cloud\", \"google_cloud\", \"google_cloud\", \"google_earth\", \"governance\", \"governance\", \"governance\", \"governance\", \"governance\", \"government\", \"government\", \"government\", \"government\", \"government\", \"government\", \"government\", \"government\", \"government\", \"government\", \"government_contracting\", \"gpo\", \"gpo\", \"gpu\", \"grafana\", \"graphic_design\", \"graphical_user_interface\", \"graphite\", \"grocery\", \"grunt\", \"gsa\", \"gsec\", \"gui\", \"gxp\", \"hardware\", \"hardware\", \"hardware\", \"hardware\", \"hardware\", \"hardware\", \"hardware\", \"health_care\", \"health_care\", \"health_care\", \"healthcare\", \"healthcare\", \"healthcare\", \"healthcare\", \"healthcare\", \"healthcare\", \"healthcare\", \"healthcare\", \"healthcare\", \"healthcare\", \"heat\", \"heat\", \"heat_transfer\", \"help_desk\", \"help_desk\", \"hibernate\", \"hipaa\", \"hipaa\", \"hiring\", \"hiring\", \"hiring\", \"hiring\", \"history\", \"hit\", \"hl7\", \"hl7\", \"hmi\", \"hospitality\", \"hospitality\", \"hp_alm\", \"hpc\", \"htc\", \"htc\", \"htc\", \"html\", \"html\", \"html\", \"html\", \"html5\", \"hvac\", \"hybrid_cloud\", \"hydraulics\", \"hypervisor\", \"iaas\", \"ibm_db2\", \"ibm_mainframe\", \"idea\", \"idea\", \"idea\", \"idea\", \"idea\", \"idea\", \"idea\", \"idea\", \"idea\", \"idea\", \"idea\", \"idea\", \"idea\", \"idea\", \"idea\", \"idea\", \"idea\", \"idea\", \"ideation\", \"ideation\", \"image_processing\", \"impact\", \"impact\", \"impact\", \"impact\", \"impact\", \"impact\", \"impact\", \"impact\", \"impact\", \"impact\", \"impact\", \"impact\", \"impact\", \"impact\", \"impact\", \"impact\", \"impact\", \"impact\", \"impact\", \"implementation\", \"implementation\", \"implementation\", \"implementation\", \"implementation\", \"implementation\", \"implementation\", \"implementation\", \"implementation\", \"implementation\", \"implementation\", \"implementation\", \"implementation\", \"implementation\", \"implementation\", \"implementation\", \"implementation\", \"implementation\", \"implementation\", \"incident_response\", \"incident_response\", \"incident_response\", \"incident_response\", \"informatica\", \"information_assurance\", \"information_technology\", \"information_technology\", \"information_technology\", \"information_technology\", \"information_technology\", \"information_technology\", \"information_technology\", \"information_technology\", \"information_technology\", \"information_technology\", \"information_technology\", \"information_technology\", \"information_technology\", \"information_technology\", \"information_technology\", \"information_technology\", \"information_technology\", \"information_technology\", \"information_technology\", \"information_technology\", \"infrastructure\", \"infrastructure\", \"infrastructure\", \"infrastructure\", \"infrastructure\", \"infrastructure\", \"infrastructure\", \"infrastructure\", \"infrastructure\", \"infrastructure\", \"infrastructure\", \"infrastructure\", \"infrastructure\", \"infrastructure\", \"infrastructure\", \"innovation\", \"innovation\", \"innovation\", \"innovation\", \"innovation\", \"innovation\", \"innovation\", \"innovation\", \"innovation\", \"innovation\", \"innovation\", \"innovation\", \"innovation\", \"innovative_thinking\", \"inspect\", \"inspect\", \"inspect\", \"inspect\", \"inspect\", \"inspect\", \"inspection\", \"inspection\", \"inspection\", \"inspection\", \"inspection\", \"installation\", \"installation\", \"installation\", \"installation\", \"installation\", \"instrumentation\", \"insurance\", \"insurance\", \"integration\", \"integration\", \"integration\", \"integration\", \"integration\", \"integration\", \"integration\", \"integration\", \"integration\", \"integration\", \"integration\", \"integration\", \"integration\", \"integration\", \"intelligence_community\", \"internal_audit\", \"internationalization\", \"internet\", \"internet\", \"internet\", \"internet\", \"internet\", \"internet\", \"internet\", \"internet\", \"internet\", \"internet\", \"internet\", \"internet\", \"internet_protocol\", \"interpersonal_skill\", \"interpersonal_skill\", \"interpersonal_skill\", \"interpersonal_skill\", \"interpersonal_skill\", \"interpersonal_skill\", \"interpersonal_skill\", \"interpersonal_skill\", \"interviewing\", \"intrusion_detection\", \"investigation\", \"investigation\", \"investigation\", \"investigation\", \"investment_banking\", \"io\", \"io\", \"ioc\", \"ionic\", \"ios\", \"ip\", \"ip\", \"ipc\", \"ipc\", \"ips\", \"ipsec\", \"ipv4\", \"ipv6\", \"isapi\", \"ise\", \"isp\", \"ispf\", \"isr\", \"istqb\", \"iterative\", \"iterative\", \"iterative\", \"iterative\", \"iterative\", \"iterative\", \"iterative\", \"iterative\", \"iterative\", \"itil\", \"itil\", \"itil\", \"itil\", \"itil\", \"itil\", \"itil\", \"itil_v3\", \"jad\", \"jasmine\", \"java\", \"java\", \"java\", \"java\", \"java\", \"java\", \"java\", \"javascript\", \"javascript\", \"javascript\", \"javascript\", \"jax\", \"jboss\", \"jcl\", \"jdbc\", \"jdbc\", \"jersey\", \"jersey\", \"jersey\", \"jersey\", \"jersey\", \"jersey\", \"jersey\", \"jira\", \"jira\", \"jira\", \"jira\", \"jira\", \"jira\", \"jira\", \"jira\", \"jira\", \"jira\", \"jms\", \"journalism\", \"jquery\", \"jquery\", \"json\", \"json\", \"json\", \"json\", \"json\", \"json\", \"jsp\", \"jsp\", \"jstl\", \"junit\", \"junit\", \"jupyter\", \"jython\", \"kanban\", \"keras\", \"kibana\", \"kotlin\", \"lan\", \"lan\", \"laptop\", \"laravel\", \"law\", \"law\", \"law\", \"law\", \"law\", \"law\", \"law\", \"law\", \"law\", \"layout\", \"layout\", \"layout\", \"layout\", \"layout\", \"ldap\", \"leadership\", \"leadership\", \"leadership\", \"leadership\", \"leadership\", \"leadership\", \"leadership\", \"leadership\", \"leadership\", \"leadership\", \"leadership\", \"leadership\", \"leadership\", \"leadership\", \"leadership\", \"leadership\", \"leadership\", \"lean_startup\", \"leed\", \"legal\", \"legal\", \"legal\", \"legal\", \"legal\", \"legal\", \"legal\", \"legal\", \"legal\", \"level\", \"level\", \"level\", \"level\", \"level\", \"level\", \"level\", \"level\", \"level\", \"level\", \"level\", \"level\", \"level\", \"level\", \"level\", \"level\", \"level\", \"level\", \"level\", \"level\", \"level\", \"level\", \"library\", \"library\", \"library\", \"library\", \"library\", \"library\", \"library\", \"library\", \"licensing\", \"life_insurance\", \"life_insurance\", \"life_insurance\", \"lighting\", \"lighting\", \"linc\", \"linq\", \"linux\", \"linux\", \"linux\", \"linux\", \"linux\", \"linux\", \"linux\", \"linux_administration\", \"linux_kernel\", \"logistic_regression\", \"looker\", \"los\", \"los\", \"los\", \"los\", \"los\", \"loss_prevention\", \"low_latency\", \"low_latency\", \"mac\", \"mac\", \"mac\", \"mac\", \"mac\", \"mac\", \"machine_learning\", \"machine_learning\", \"macros\", \"mainframe\", \"management\", \"management\", \"management\", \"management\", \"management\", \"management\", \"management\", \"management\", \"management\", \"management\", \"management\", \"management\", \"management\", \"management\", \"management\", \"management\", \"management\", \"management\", \"management\", \"management\", \"management\", \"management\", \"manager\", \"manager\", \"manager\", \"manager\", \"manager\", \"manager\", \"manager\", \"manager\", \"manager\", \"manager\", \"manager\", \"manager\", \"manager\", \"manager\", \"manual_testing\", \"manual_testing\", \"manufacturing\", \"mapping\", \"mapping\", \"mapping\", \"mapping\", \"mapping\", \"mapping\", \"maritime\", \"maritime\", \"market_research\", \"marketing\", \"marketing\", \"marketing\", \"marketing\", \"material\", \"material\", \"material\", \"material\", \"material\", \"material\", \"material\", \"material\", \"mathematics\", \"matlab\", \"matlab\", \"matplotlib\", \"max\", \"max\", \"maximo\", \"mcsa\", \"mcse\", \"mcse\", \"mda\", \"mechanic\", \"mechanic\", \"mechanic\", \"mechanical_engineering\", \"mechanical_engineering\", \"medicaid\", \"mental_health\", \"mentoring\", \"mentoring\", \"mentoring\", \"mep\", \"meraki\", \"merchandising\", \"message_broker\", \"metallurgy\", \"microsoft\", \"microsoft\", \"microsoft\", \"microsoft\", \"microsoft\", \"microsoft\", \"microsoft\", \"microsoft\", \"microsoft\", \"microsoft\", \"microsoft\", \"microsoft\", \"microsoft\", \"microsoft\", \"microsoft\", \"microsoft\", \"microsoft\", \"microsoft\", \"microsoft_exchange\", \"microsoft_office\", \"microsoft_office\", \"microsoft_office\", \"microsoft_office\", \"microsoft_office\", \"microsoft_office\", \"microsoft_office\", \"microsoft_power_bi\", \"microsoft_sql_server\", \"microsoft_sql_server\", \"microsoft_sql_server\", \"microsoft_visual_studio\", \"middle\", \"middle\", \"middleware\", \"middleware\", \"middleware\", \"middleware\", \"migration\", \"migration\", \"migration\", \"migration\", \"migration\", \"migration\", \"migration\", \"migration\", \"migration\", \"military\", \"military\", \"military\", \"military\", \"military\", \"military\", \"military\", \"military\", \"minitab\", \"minitab\", \"mobile\", \"mobile\", \"mobile\", \"mobile\", \"mobile\", \"mockito\", \"modeling\", \"modeling\", \"modeling\", \"modeling\", \"modeling\", \"modeling\", \"modeling\", \"modeling\", \"modeling\", \"monetization\", \"monitoring\", \"monitoring\", \"monitoring\", \"monitoring\", \"monitoring\", \"monitoring\", \"monitoring\", \"monitoring\", \"monitoring\", \"monitoring\", \"monitoring\", \"monitoring\", \"moq\", \"mortgage\", \"mortgage\", \"mortgage\", \"mortgage\", \"mortgage_servicing\", \"most\", \"most\", \"most\", \"most\", \"most\", \"most\", \"most\", \"most\", \"most\", \"most\", \"most\", \"most\", \"most\", \"most\", \"most\", \"most\", \"most\", \"most\", \"most\", \"most\", \"motion_control\", \"mpi\", \"mpi\", \"mpi\", \"mpls\", \"mpm\", \"mpp\", \"msi\", \"mta\", \"mulesoft\", \"mulesoft\", \"multicast\", \"multimeter\", \"mvc\", \"mvc\", \"mvc_framework\", \"mvp\", \"mvp\", \"mvp\", \"mvp\", \"mvs\", \"mvvm\", \"n_tier\", \"nac\", \"nac\", \"nas\", \"nas\", \"national_security\", \"national_security\", \"natural\", \"natural\", \"natural\", \"natural\", \"natural_language\", \"natural_language_processing\", \"navy\", \"navy\", \"ncr\", \"nec\", \"nerc\", \"nessus\", \"netezza\", \"netsuite\", \"network\", \"network\", \"network\", \"network\", \"network\", \"network\", \"network\", \"network\", \"networking\", \"networking\", \"networking\", \"networking\", \"networking\", \"networking\", \"networking\", \"new_relic\", \"new_relic\", \"nfpa\", \"nginx\", \"nice\", \"nice\", \"nice\", \"nice\", \"nice\", \"nice\", \"nice\", \"nice\", \"nice\", \"nice\", \"nice\", \"nice\", \"nice\", \"nice\", \"nice\", \"nice\", \"nist\", \"noc\", \"noc\", \"normalization\", \"normalization\", \"nuclear\", \"numpy\", \"nunit\", \"oauth\", \"oauth\", \"ocean\", \"odd\", \"ofccp\", \"oidc\", \"olap\", \"oltp\", \"oms\", \"onboarding\", \"onboarding\", \"onboarding\", \"online_banking\", \"online_training\", \"online_training\", \"ooad\", \"ood\", \"oops\", \"openshift\", \"openstack\", \"optimization\", \"optimization\", \"optimization\", \"optimization\", \"optimization\", \"optimization\", \"optimization\", \"optimization\", \"optimization\", \"optimization\", \"optimization\", \"optimization\", \"optimization\", \"optimization\", \"oracle\", \"oracle\", \"oracle\", \"oracle\", \"oracle\", \"oracle\", \"oracle_database\", \"oracle_database\", \"oracle_dba\", \"oracle_sql\", \"oracle_sql\", \"oracle_sql\", \"oracle_sql\", \"oracle_sql\", \"orchestration\", \"orchestration\", \"orm\", \"oscilloscope\", \"oscilloscope\", \"osha\", \"osi\", \"osi\", \"osi_model\", \"ospf\", \"oss\", \"ott\", \"outsourcing\", \"outsourcing\", \"paas\", \"paas\", \"palo_alto\", \"palo_alto\", \"partnership\", \"partnership\", \"partnership\", \"partnership\", \"partnership\", \"partnership\", \"partnership\", \"partnership\", \"partnership\", \"partnership\", \"patient_safety\", \"payroll\", \"payroll\", \"payroll\", \"pc\", \"pc\", \"pca\", \"pcb\", \"pci\", \"pci\", \"pci\", \"pci\", \"pcr\", \"pd\", \"pdca\", \"pdm\", \"pdm\", \"performance_monitoring\", \"performance_monitoring\", \"performance_monitoring\", \"performance_monitoring\", \"performance_monitoring\", \"perl\", \"perl\", \"perl\", \"permanent_placement\", \"permanent_placement\", \"permanent_placement\", \"permanent_placement\", \"personalization\", \"personas\", \"pervasive\", \"pharmacy\", \"pid\", \"pivot_table\", \"pivotal\", \"pivotal\", \"pivotal\", \"pivotal\", \"pix\", \"pki\", \"planning\", \"planning\", \"planning\", \"planning\", \"planning\", \"planning\", \"planning\", \"planning\", \"planning\", \"planning\", \"planning\", \"planning\", \"planning\", \"planning\", \"planning\", \"platinum\", \"platinum\", \"platinum\", \"plc\", \"plm\", \"plm\", \"plotly\", \"pmm\", \"pmo\", \"pmo\", \"pmp\", \"pmp\", \"pmp\", \"pmp\", \"pms\", \"po\", \"po\", \"po\", \"po\", \"poc\", \"poc\", \"podcast\", \"postman\", \"postman\", \"power_supply\", \"ppap\", \"ppm\", \"ppm\", \"ppo\", \"ppt\", \"predictive_modeling\", \"predictive_modeling\", \"predictive_modelling\", \"press_release\", \"preventive_maintenance\", \"pricing\", \"privacy\", \"privacy\", \"privacy\", \"privacy\", \"privacy\", \"private_cloud\", \"private_equity\", \"probability\", \"procedure\", \"procedure\", \"procedure\", \"procedure\", \"procedure\", \"procedure\", \"procedure\", \"procedure\", \"procedure\", \"procedure\", \"procedure\", \"procedure\", \"procedure\", \"procedure\", \"procedure\", \"procedure\", \"procedure\", \"process_flow\", \"process_flow\", \"process_improvement\", \"process_improvement\", \"process_improvement\", \"process_improvement\", \"process_improvement\", \"process_improvement\", \"process_improvement\", \"process_improvement\", \"process_improvement\", \"procurement\", \"procurement\", \"procurement\", \"product_owner\", \"product_owner\", \"product_owner\", \"production\", \"production\", \"production\", \"production\", \"production\", \"production\", \"production\", \"production\", \"production\", \"production\", \"production\", \"production\", \"production\", \"production\", \"production\", \"production\", \"production\", \"production\", \"professional\", \"professional\", \"professional\", \"professional\", \"professional\", \"professional\", \"professional\", \"professional\", \"professional\", \"professional\", \"professional\", \"professional\", \"professional\", \"professional\", \"professional\", \"professional\", \"professional\", \"professional\", \"professional\", \"professional\", \"professional\", \"programming\", \"programming\", \"programming\", \"programming\", \"programming\", \"programming\", \"programming\", \"programming\", \"programming\", \"programming\", \"programming\", \"projection\", \"projection\", \"propel\", \"prototyping\", \"protractor\", \"provision\", \"provision\", \"provision\", \"provisioning\", \"provisioning\", \"provisioning\", \"ps\", \"psychology\", \"public_speaking\", \"publisher\", \"puppet\", \"py\", \"py\", \"python\", \"python\", \"python\", \"python\", \"qa\", \"qa\", \"qa\", \"qa\", \"qa\", \"qa\", \"qa\", \"qa_automation\", \"qmf\", \"qos\", \"quality_assurance\", \"quality_assurance\", \"quality_assurance\", \"quality_assurance\", \"quality_assurance\", \"quality_assurance\", \"quality_assurance\", \"quality_assurance\", \"quality_assurance\", \"quality_assurance\", \"quartz\", \"quicken\", \"r\", \"r\", \"racf\", \"rad\", \"radar\", \"radio\", \"radio\", \"radius\", \"razor\", \"rbac\", \"rca\", \"rcm\", \"reach\", \"reach\", \"reach\", \"reach\", \"reach\", \"reach\", \"reach\", \"reach\", \"reach\", \"reach\", \"reach\", \"reach\", \"reach\", \"reach\", \"reach\", \"real_estate\", \"reasoning\", \"reasoning\", \"reasoning\", \"reasoning\", \"reconnaissance\", \"recovery\", \"recovery\", \"recovery\", \"recruiting\", \"recruiting\", \"recruiting\", \"recruiting\", \"recruiting\", \"recruitment\", \"recruitment\", \"recruitment\", \"red_hat_linux\", \"redis\", \"redis\", \"redux\", \"redux\", \"redux\", \"regression_testing\", \"relationship_building\", \"relationship_building\", \"relationship_building\", \"remediation\", \"remediation\", \"remediation\", \"remediation\", \"remediation\", \"remote_access\", \"remote_access\", \"remote_desktop\", \"repair\", \"repair\", \"repair\", \"reporting\", \"reporting\", \"reporting\", \"reporting\", \"reporting\", \"reporting\", \"reporting\", \"reporting\", \"reporting\", \"reporting\", \"reporting\", \"representative\", \"representative\", \"representative\", \"representative\", \"representative\", \"representative\", \"representative\", \"representative\", \"representative\", \"research\", \"research\", \"research\", \"research\", \"research\", \"research\", \"research\", \"research\", \"research\", \"research\", \"research\", \"research\", \"research\", \"research\", \"research\", \"residential\", \"resin\", \"resource_allocation\", \"resource_allocation\", \"restful\", \"restful\", \"retail\", \"revenue_growth\", \"reverse_engineering\", \"reverse_engineering\", \"revision_control\", \"revision_control\", \"rf\", \"rf\", \"rf\", \"rfi\", \"rfi\", \"rfid\", \"rfq\", \"risk_management\", \"risk_management\", \"risk_management\", \"risk_management\", \"risk_mitigation\", \"risk_mitigation\", \"risk_mitigation\", \"rma\", \"rmf\", \"routing\", \"rpc\", \"rpc\", \"rtc\", \"rtc\", \"rtp\", \"ruby\", \"ruby\", \"saas\", \"saas\", \"saas\", \"saas\", \"saas\", \"saas\", \"saas\", \"safe\", \"safe\", \"safe\", \"safe\", \"safe\", \"safe\", \"saint\", \"saint\", \"salary\", \"salary\", \"salary\", \"salary\", \"salary\", \"salary\", \"salary\", \"salary\", \"salary\", \"salary\", \"salary\", \"salary\", \"salary\", \"salary\", \"salary\", \"salary\", \"salesforce\", \"sam\", \"sam\", \"san\", \"san\", \"san\", \"san\", \"san\", \"san\", \"san\", \"san\", \"san\", \"san\", \"san\", \"san\", \"san\", \"san\", \"san\", \"san\", \"san\", \"sas\", \"sas\", \"sas\", \"sas\", \"sass\", \"satcom\", \"satellite\", \"satellite\", \"satellite\", \"sbc\", \"scada\", \"scala\", \"scala\", \"scala\", \"scheduling\", \"scheduling\", \"scheduling\", \"scheduling\", \"scheduling\", \"scheduling\", \"scheduling\", \"scheduling\", \"scheduling\", \"scheduling\", \"scheduling\", \"schematic\", \"schematic\", \"schematic_capture\", \"scheme\", \"scheme\", \"science\", \"science\", \"science\", \"science\", \"science\", \"science\", \"science\", \"science\", \"science\", \"science\", \"science\", \"science\", \"science\", \"science\", \"science\", \"science\", \"science\", \"science\", \"science\", \"science\", \"science\", \"scientist\", \"scm\", \"scp\", \"scratch\", \"scratch\", \"scratch\", \"scratch\", \"scratch\", \"scratch\", \"scripting\", \"scripting\", \"scripting\", \"scripting\", \"scripting\", \"scripting\", \"scripting\", \"scripting_language\", \"scripting_language\", \"scripting_language\", \"scrum\", \"scrum_master\", \"sd\", \"sda\", \"sdk\", \"sdk\", \"sdlc\", \"sdlc\", \"sdlc\", \"sdlc\", \"sdlc\", \"sdlc\", \"sdlc\", \"sdlc\", \"sdlc\", \"sdm\", \"sdn\", \"sec\", \"sec\", \"secretary\", \"security\", \"security\", \"security\", \"security\", \"security\", \"security\", \"security\", \"security\", \"security\", \"security\", \"security\", \"security\", \"security+\", \"security+\", \"security_audits\", \"security_awareness\", \"security_clearance\", \"security_clearance\", \"security_clearance\", \"sei\", \"selenium\", \"self_motivated\", \"self_motivated\", \"self_motivated\", \"self_motivated\", \"self_motivated\", \"self_motivated\", \"self_motivated\", \"self_motivated\", \"self_motivated\", \"self_motivated\", \"self_motivated\", \"self_motivated\", \"senior\", \"senior\", \"senior\", \"senior\", \"senior\", \"senior\", \"senior\", \"senior\", \"senior\", \"senior\", \"senior\", \"senior\", \"senior\", \"senior\", \"senior\", \"senior\", \"senior\", \"senior\", \"senior\", \"senior\", \"senior\", \"seo\", \"sep\", \"service_desk\", \"service_desk\", \"service_desk\", \"service_desk\", \"shell\", \"shell\", \"shell\", \"shipping\", \"shipping\", \"siem\", \"signal_processing\", \"simulation\", \"simulation\", \"simulation\", \"site_survey\", \"sketch\", \"sketch\", \"sla\", \"sla\", \"sla\", \"slack\", \"slack\", \"slack\", \"smb\", \"smt\", \"soa\", \"soa\", \"soa\", \"soa\", \"soap\", \"soap\", \"soap\", \"software\", \"software\", \"software\", \"software\", \"software\", \"software\", \"software\", \"software\", \"software\", \"software\", \"software\", \"software\", \"software\", \"software\", \"software\", \"software\", \"software\", \"software\", \"software\", \"software\", \"software\", \"software\", \"soldering\", \"soma\", \"sop\", \"sow\", \"sow\", \"sow\", \"spa\", \"spa\", \"spacecraft\", \"spanish\", \"spc\", \"spc\", \"specification\", \"specification\", \"specification\", \"specification\", \"specification\", \"specification\", \"specification\", \"specification\", \"specification\", \"specification\", \"specification\", \"spectrum_analyzer\", \"spin\", \"splunk\", \"splunk\", \"splunk\", \"splunk\", \"sponsorship\", \"sponsorship\", \"sponsorship\", \"sponsorship\", \"sponsorship\", \"sponsorship\", \"sponsorship\", \"sponsorship\", \"sponsorship\", \"sponsorship\", \"sponsorship\", \"sponsorship\", \"sponsorship\", \"sponsorship\", \"spring\", \"spring_batch\", \"spring_framework\", \"spring_mvc\", \"spring_mvc\", \"sprint\", \"spss\", \"sql\", \"sql\", \"sql\", \"sql\", \"sql\", \"sql\", \"sql\", \"sql\", \"sql\", \"sql\", \"sqlite\", \"sscp\", \"statistical_modeling\", \"stig\", \"stig\", \"storage\", \"storage\", \"storage\", \"storage\", \"storage\", \"storage\", \"storage\", \"storyboard\", \"strategic_consulting\", \"strategic_planning\", \"strategic_planning\", \"strategic_thinking\", \"strategic_thinking\", \"strategist\", \"strategist\", \"strategy\", \"strategy\", \"strategy\", \"strategy\", \"strategy\", \"strategy\", \"strategy\", \"strategy\", \"strategy\", \"strategy\", \"strategy\", \"strategy\", \"strategy\", \"strategy\", \"strategy\", \"strategy\", \"streaming\", \"streaming\", \"streaming\", \"streaming\", \"streaming\", \"streaming\", \"supply_chain_optimization\", \"svg\", \"svg\", \"swagger\", \"swagger\", \"swift\", \"sybase\", \"symantec\", \"system\", \"system\", \"system\", \"system\", \"system\", \"system\", \"system\", \"system\", \"system\", \"system\", \"system\", \"system\", \"system\", \"system\", \"system\", \"system\", \"system\", \"system\", \"system\", \"system\", \"system\", \"system\", \"tableau\", \"tableau\", \"tablet\", \"tablet\", \"talend\", \"talent_acquisition\", \"talent_acquisition\", \"talent_acquisition\", \"tandem\", \"tax\", \"tcp\", \"tcp\", \"tcp\", \"teaching\", \"technical_writing\", \"technical_writing\", \"technical_writing\", \"technician\", \"technician\", \"television\", \"tenant\", \"tenant\", \"tensorflow\", \"teradata\", \"terraform\", \"test_automation\", \"testing\", \"testing\", \"testing\", \"testing\", \"testing\", \"testing\", \"testing\", \"testing\", \"testing\", \"testing\", \"testing\", \"testing\", \"testing\", \"testing\", \"testing\", \"testing\", \"testing\", \"testing\", \"testing\", \"thin_client\", \"time_series\", \"time_series\", \"tls\", \"tls\", \"top_secret\", \"top_secret\", \"torch\", \"torch\", \"trading\", \"trading\", \"training\", \"training\", \"training\", \"training\", \"training\", \"training\", \"training\", \"training\", \"training\", \"training\", \"training\", \"training\", \"training\", \"training\", \"training\", \"training\", \"training\", \"training\", \"transformation\", \"transformation\", \"transformation\", \"transformation\", \"transformation\", \"transformation\", \"transformation\", \"transformation\", \"transformation\", \"transformation\", \"transformation\", \"transformer\", \"transformer\", \"transformer\", \"translation\", \"translation\", \"translation\", \"treasury\", \"trello\", \"troubleshooting\", \"troubleshooting\", \"troubleshooting\", \"troubleshooting\", \"troubleshooting\", \"troubleshooting\", \"troubleshooting\", \"troubleshooting\", \"troubleshooting\", \"troubleshooting\", \"troubleshooting\", \"ts16949\", \"tso\", \"turnover\", \"turnover\", \"twitter\", \"twitter\", \"typescript\", \"typescript\", \"ubuntu\", \"ucd\", \"udp\", \"uft\", \"ui\", \"ui\", \"ui\", \"ui\", \"ui\", \"ui\", \"uikit\", \"union\", \"unix\", \"unix\", \"unix\", \"unix\", \"usability\", \"usability\", \"usability\", \"usability_testing\", \"usd\", \"user_interface\", \"user_interface\", \"user_interface\", \"user_interface\", \"user_interface\", \"user_interface\", \"user_interface\", \"user_research\", \"ux\", \"uxd\", \"valuation\", \"value_proposition\", \"value_proposition\", \"vcs\", \"vdi\", \"veeam\", \"video\", \"video\", \"video\", \"video\", \"video\", \"video\", \"video\", \"video\", \"virtual_server\", \"virtualization\", \"virtualization\", \"virtualization\", \"virtualization\", \"virtualization\", \"virtualization\", \"visual_basic\", \"visual_design\", \"visualforce\", \"visualization\", \"visualization\", \"vlan\", \"vlan\", \"vmware\", \"vmware\", \"vmware_esx\", \"voip\", \"vpn\", \"vpn\", \"vsam\", \"vss\", \"vtc\", \"vue\", \"w3c\", \"waf\", \"wan\", \"wap\", \"war\", \"war\", \"warehouse\", \"waterfall\", \"waterfall\", \"waterfall\", \"waterfall\", \"waterfall\", \"wave\", \"wcag\", \"wcag\", \"wcf\", \"wealth\", \"wealth\", \"wealth\", \"wealth\", \"wealth\", \"wealth_management\", \"web_api\", \"webex\", \"websocket\", \"wellness\", \"wellness\", \"wellness\", \"wide_area_network\", \"wide_area_network\", \"windchill\", \"windows\", \"windows\", \"windows\", \"wireframe\", \"wireframe\", \"wireless_lan\", \"wiring\", \"wlan\", \"wordpress\", \"workday\", \"workflow\", \"workflow\", \"workflow\", \"workflow\", \"workflow\", \"workflow\", \"workflow\", \"workflow\", \"workflow\", \"workflow\", \"workflow\", \"wpf\", \"writing\", \"writing\", \"writing\", \"writing\", \"writing\", \"writing\", \"writing\", \"writing\", \"writing\", \"writing\", \"writing\", \"writing\", \"writing\", \"wsdl\", \"wsdl\", \"xcode\", \"xen\", \"xilinx\", \"xml\", \"xml\", \"xml\", \"xml\", \"xml\", \"xpath\", \"xquery\", \"xsd\", \"xslt\", \"yaml\", \"zabbix\", \"zephyr\"]}, \"R\": 30, \"lambda.step\": 0.01, \"plot.opts\": {\"xlab\": \"PC1\", \"ylab\": \"PC2\"}, \"topic.order\": [19, 11, 5, 22, 9, 15, 13, 14, 3, 7, 21, 1, 18, 20, 6, 4, 8, 2, 16, 10, 17, 12]};\n",
       "\n",
       "function LDAvis_load_lib(url, callback){\n",
       "  var s = document.createElement('script');\n",
       "  s.src = url;\n",
       "  s.async = true;\n",
       "  s.onreadystatechange = s.onload = callback;\n",
       "  s.onerror = function(){console.warn(\"failed to load library \" + url);};\n",
       "  document.getElementsByTagName(\"head\")[0].appendChild(s);\n",
       "}\n",
       "\n",
       "if(typeof(LDAvis) !== \"undefined\"){\n",
       "   // already loaded: just create the visualization\n",
       "   !function(LDAvis){\n",
       "       new LDAvis(\"#\" + \"ldavis_el1046458835372163819546381\", ldavis_el1046458835372163819546381_data);\n",
       "   }(LDAvis);\n",
       "}else if(typeof define === \"function\" && define.amd){\n",
       "   // require.js is available: use it to load d3/LDAvis\n",
       "   require.config({paths: {d3: \"https://d3js.org/d3.v5\"}});\n",
       "   require([\"d3\"], function(d3){\n",
       "      window.d3 = d3;\n",
       "      LDAvis_load_lib(\"https://cdn.jsdelivr.net/gh/bmabey/pyLDAvis@3.3.1/pyLDAvis/js/ldavis.v3.0.0.js\", function(){\n",
       "        new LDAvis(\"#\" + \"ldavis_el1046458835372163819546381\", ldavis_el1046458835372163819546381_data);\n",
       "      });\n",
       "    });\n",
       "}else{\n",
       "    // require.js not available: dynamically load d3 & LDAvis\n",
       "    LDAvis_load_lib(\"https://d3js.org/d3.v5.js\", function(){\n",
       "         LDAvis_load_lib(\"https://cdn.jsdelivr.net/gh/bmabey/pyLDAvis@3.3.1/pyLDAvis/js/ldavis.v3.0.0.js\", function(){\n",
       "                 new LDAvis(\"#\" + \"ldavis_el1046458835372163819546381\", ldavis_el1046458835372163819546381_data);\n",
       "            })\n",
       "         });\n",
       "}\n",
       "</script>"
      ],
      "text/plain": [
       "PreparedData(topic_coordinates=              x         y  topics  cluster      Freq\n",
       "topic                                               \n",
       "18    -0.064605 -0.099997       1        1  9.600465\n",
       "10    -0.233516 -0.123145       2        1  9.519517\n",
       "4     -0.190152  0.049862       3        1  7.885231\n",
       "21     0.119567  0.173915       4        1  7.483295\n",
       "8      0.042073 -0.040340       5        1  5.724062\n",
       "14    -0.102145 -0.129875       6        1  5.635062\n",
       "12     0.132836 -0.018846       7        1  5.404606\n",
       "13    -0.172472  0.120653       8        1  5.170876\n",
       "2     -0.061147  0.014387       9        1  4.665732\n",
       "6      0.002871  0.121755      10        1  4.515203\n",
       "20     0.130133 -0.088981      11        1  4.190289\n",
       "0      0.045787 -0.187546      12        1  4.059533\n",
       "17     0.216814 -0.166827      13        1  4.051697\n",
       "19    -0.089313  0.038065      14        1  3.806006\n",
       "5     -0.097937 -0.085371      15        1  3.007514\n",
       "3      0.151238 -0.022052      16        1  2.911020\n",
       "7     -0.011270 -0.061439      17        1  2.746873\n",
       "1      0.021534  0.220415      18        1  2.615420\n",
       "15    -0.169537 -0.009372      19        1  2.192345\n",
       "9      0.216015  0.024786      20        1  2.080163\n",
       "16     0.016967  0.225904      21        1  1.661669\n",
       "11     0.096258  0.044050      22        1  1.073424, topic_info=         Term          Freq         Total Category  logprob  loglift\n",
       "4        data  23055.000000  23055.000000  Default  30.0000  30.0000\n",
       "19     system  17737.000000  17737.000000  Default  29.0000  29.0000\n",
       "112   network   7382.000000   7382.000000  Default  28.0000  28.0000\n",
       "69       java   7042.000000   7042.000000  Default  27.0000  27.0000\n",
       "76   security   5434.000000   5434.000000  Default  26.0000  26.0000\n",
       "..        ...           ...           ...      ...      ...      ...\n",
       "179    expect     26.439398    747.593330  Topic22  -5.2209   1.1923\n",
       "17    science     28.706827   4222.567256  Topic22  -5.1387  -0.4567\n",
       "65   engineer     26.608004   7452.151804  Topic22  -5.2146  -1.1007\n",
       "409         c     23.022206   1360.864628  Topic22  -5.3593   0.4549\n",
       "19     system     23.272899  17737.847623  Topic22  -5.3485  -2.1018\n",
       "\n",
       "[1368 rows x 6 columns], token_table=      Topic      Freq    Term\n",
       "term                         \n",
       "1342      2  0.343751    .net\n",
       "1342      6  0.655203    .net\n",
       "210      14  0.000777    401k\n",
       "210      17  0.085476    401k\n",
       "210      18  0.913041    401k\n",
       "...     ...       ...     ...\n",
       "1391      5  0.966291     xsd\n",
       "1349      2  0.990149    xslt\n",
       "1117      1  0.968133    yaml\n",
       "1743     20  0.908743  zabbix\n",
       "1372     19  0.904298  zephyr\n",
       "\n",
       "[2985 rows x 3 columns], R=30, lambda_step=0.01, plot_opts={'xlab': 'PC1', 'ylab': 'PC2'}, topic_order=[19, 11, 5, 22, 9, 15, 13, 14, 3, 7, 21, 1, 18, 20, 6, 4, 8, 2, 16, 10, 17, 12])"
      ]
     },
     "execution_count": 70,
     "metadata": {},
     "output_type": "execute_result"
    }
   ],
   "source": [
    "pyLDAvis.enable_notebook()\n",
    "vis = pyLDAvis.gensim_models.prepare(lda_model, corpus, id2word)\n",
    "vis"
   ]
  },
  {
   "cell_type": "markdown",
   "metadata": {},
   "source": [
    "### Explore topic groupings\n",
    "It can be obsserved that for a given topic number, there can be any collection of job titles. This is partly why it was necessary to collect averages by job title and not be overly committed to the exact topic number assignment that the model provides"
   ]
  },
  {
   "cell_type": "code",
   "execution_count": 71,
   "metadata": {
    "scrolled": false
   },
   "outputs": [
    {
     "data": {
      "text/html": [
       "<div>\n",
       "<style scoped>\n",
       "    .dataframe tbody tr th:only-of-type {\n",
       "        vertical-align: middle;\n",
       "    }\n",
       "\n",
       "    .dataframe tbody tr th {\n",
       "        vertical-align: top;\n",
       "    }\n",
       "\n",
       "    .dataframe thead th {\n",
       "        text-align: right;\n",
       "    }\n",
       "</style>\n",
       "<table border=\"1\" class=\"dataframe\">\n",
       "  <thead>\n",
       "    <tr style=\"text-align: right;\">\n",
       "      <th></th>\n",
       "      <th>matching_column</th>\n",
       "      <th>job_skills</th>\n",
       "      <th>skills_only</th>\n",
       "      <th>word_scores</th>\n",
       "      <th>topics</th>\n",
       "      <th>top_topic</th>\n",
       "    </tr>\n",
       "  </thead>\n",
       "  <tbody>\n",
       "    <tr>\n",
       "      <th>111</th>\n",
       "      <td>data_scientist</td>\n",
       "      <td>[IT, SAS, Python, SQL, Management, Analysis]</td>\n",
       "      <td>[data, scientist, salary, fit, salary, governm...</td>\n",
       "      <td>{'data': 0.26117473032488825, 'professional': ...</td>\n",
       "      <td>[(1, 0.64517874), (13, 0.33461878)]</td>\n",
       "      <td>1</td>\n",
       "    </tr>\n",
       "    <tr>\n",
       "      <th>113</th>\n",
       "      <td>data_scientist</td>\n",
       "      <td>[IT, SAS, Python, SQL, Management, Analysis]</td>\n",
       "      <td>[data, scientist, salary, fit, salary, governm...</td>\n",
       "      <td>{'data': 0.26122391380066873, 'professional': ...</td>\n",
       "      <td>[(1, 0.64513427), (13, 0.3346632)]</td>\n",
       "      <td>1</td>\n",
       "    </tr>\n",
       "    <tr>\n",
       "      <th>122</th>\n",
       "      <td>data_scientist</td>\n",
       "      <td>[IT, SAS, Python, SQL, Management, Analysis]</td>\n",
       "      <td>[data, scientist, salary, fit, salary, governm...</td>\n",
       "      <td>{'data': 0.26118606538622974, 'professional': ...</td>\n",
       "      <td>[(1, 0.6451685), (13, 0.33462897)]</td>\n",
       "      <td>1</td>\n",
       "    </tr>\n",
       "    <tr>\n",
       "      <th>140</th>\n",
       "      <td>data_scientist</td>\n",
       "      <td>[IT, SAS, Python, SQL, Management, Analysis]</td>\n",
       "      <td>[data, scientist, salary, fit, salary, governm...</td>\n",
       "      <td>{'data': 0.26118975617763396, 'professional': ...</td>\n",
       "      <td>[(1, 0.6451653), (13, 0.3346321)]</td>\n",
       "      <td>1</td>\n",
       "    </tr>\n",
       "    <tr>\n",
       "      <th>142</th>\n",
       "      <td>data_scientist</td>\n",
       "      <td>[IT, SAS, Python, SQL, Management, Analysis]</td>\n",
       "      <td>[data, scientist, salary, fit, salary, governm...</td>\n",
       "      <td>{'data': 0.26116436832146644, 'professional': ...</td>\n",
       "      <td>[(1, 0.64518803), (13, 0.33460942)]</td>\n",
       "      <td>1</td>\n",
       "    </tr>\n",
       "    <tr>\n",
       "      <th>144</th>\n",
       "      <td>data_scientist</td>\n",
       "      <td>[IT, SAS, Python, SQL, Management, Analysis]</td>\n",
       "      <td>[data, scientist, salary, fit, salary, governm...</td>\n",
       "      <td>{'data': 0.2612160755631924, 'professional': 0...</td>\n",
       "      <td>[(1, 0.64514154), (13, 0.33465594)]</td>\n",
       "      <td>1</td>\n",
       "    </tr>\n",
       "    <tr>\n",
       "      <th>146</th>\n",
       "      <td>data_scientist</td>\n",
       "      <td>[IT, SAS, Python, SQL, Management, Analysis]</td>\n",
       "      <td>[data, scientist, salary, fit, salary, governm...</td>\n",
       "      <td>{'data': 0.2611636704954386, 'professional': 0...</td>\n",
       "      <td>[(1, 0.645189), (13, 0.33460853)]</td>\n",
       "      <td>1</td>\n",
       "    </tr>\n",
       "    <tr>\n",
       "      <th>148</th>\n",
       "      <td>data_scientist</td>\n",
       "      <td>[IT, SAS, Python, SQL, Management, Analysis]</td>\n",
       "      <td>[data, scientist, salary, fit, salary, governm...</td>\n",
       "      <td>{'data': 0.26117629654831886, 'professional': ...</td>\n",
       "      <td>[(1, 0.6451774), (13, 0.33462)]</td>\n",
       "      <td>1</td>\n",
       "    </tr>\n",
       "    <tr>\n",
       "      <th>150</th>\n",
       "      <td>data_scientist</td>\n",
       "      <td>[IT, SAS, Python, SQL, Management, Analysis]</td>\n",
       "      <td>[data, scientist, salary, fit, salary, governm...</td>\n",
       "      <td>{'data': 0.26122132390126585, 'professional': ...</td>\n",
       "      <td>[(1, 0.64513683), (13, 0.33466068)]</td>\n",
       "      <td>1</td>\n",
       "    </tr>\n",
       "    <tr>\n",
       "      <th>312</th>\n",
       "      <td>mechanical_engineer</td>\n",
       "      <td>[Engineer, Management, Mechanical, Engineering...</td>\n",
       "      <td>[oil, automotive, focus, innovation, engineer,...</td>\n",
       "      <td>{'communication': 0.09822851, 'data': 0.002035...</td>\n",
       "      <td>[(1, 0.20140554), (11, 0.16593198), (4, 0.1608...</td>\n",
       "      <td>1</td>\n",
       "    </tr>\n",
       "  </tbody>\n",
       "</table>\n",
       "</div>"
      ],
      "text/plain": [
       "         matching_column                                         job_skills  \\\n",
       "111       data_scientist       [IT, SAS, Python, SQL, Management, Analysis]   \n",
       "113       data_scientist       [IT, SAS, Python, SQL, Management, Analysis]   \n",
       "122       data_scientist       [IT, SAS, Python, SQL, Management, Analysis]   \n",
       "140       data_scientist       [IT, SAS, Python, SQL, Management, Analysis]   \n",
       "142       data_scientist       [IT, SAS, Python, SQL, Management, Analysis]   \n",
       "144       data_scientist       [IT, SAS, Python, SQL, Management, Analysis]   \n",
       "146       data_scientist       [IT, SAS, Python, SQL, Management, Analysis]   \n",
       "148       data_scientist       [IT, SAS, Python, SQL, Management, Analysis]   \n",
       "150       data_scientist       [IT, SAS, Python, SQL, Management, Analysis]   \n",
       "312  mechanical_engineer  [Engineer, Management, Mechanical, Engineering...   \n",
       "\n",
       "                                           skills_only  \\\n",
       "111  [data, scientist, salary, fit, salary, governm...   \n",
       "113  [data, scientist, salary, fit, salary, governm...   \n",
       "122  [data, scientist, salary, fit, salary, governm...   \n",
       "140  [data, scientist, salary, fit, salary, governm...   \n",
       "142  [data, scientist, salary, fit, salary, governm...   \n",
       "144  [data, scientist, salary, fit, salary, governm...   \n",
       "146  [data, scientist, salary, fit, salary, governm...   \n",
       "148  [data, scientist, salary, fit, salary, governm...   \n",
       "150  [data, scientist, salary, fit, salary, governm...   \n",
       "312  [oil, automotive, focus, innovation, engineer,...   \n",
       "\n",
       "                                           word_scores  \\\n",
       "111  {'data': 0.26117473032488825, 'professional': ...   \n",
       "113  {'data': 0.26122391380066873, 'professional': ...   \n",
       "122  {'data': 0.26118606538622974, 'professional': ...   \n",
       "140  {'data': 0.26118975617763396, 'professional': ...   \n",
       "142  {'data': 0.26116436832146644, 'professional': ...   \n",
       "144  {'data': 0.2612160755631924, 'professional': 0...   \n",
       "146  {'data': 0.2611636704954386, 'professional': 0...   \n",
       "148  {'data': 0.26117629654831886, 'professional': ...   \n",
       "150  {'data': 0.26122132390126585, 'professional': ...   \n",
       "312  {'communication': 0.09822851, 'data': 0.002035...   \n",
       "\n",
       "                                                topics  top_topic  \n",
       "111                [(1, 0.64517874), (13, 0.33461878)]          1  \n",
       "113                 [(1, 0.64513427), (13, 0.3346632)]          1  \n",
       "122                 [(1, 0.6451685), (13, 0.33462897)]          1  \n",
       "140                  [(1, 0.6451653), (13, 0.3346321)]          1  \n",
       "142                [(1, 0.64518803), (13, 0.33460942)]          1  \n",
       "144                [(1, 0.64514154), (13, 0.33465594)]          1  \n",
       "146                  [(1, 0.645189), (13, 0.33460853)]          1  \n",
       "148                    [(1, 0.6451774), (13, 0.33462)]          1  \n",
       "150                [(1, 0.64513683), (13, 0.33466068)]          1  \n",
       "312  [(1, 0.20140554), (11, 0.16593198), (4, 0.1608...          1  "
      ]
     },
     "execution_count": 71,
     "metadata": {},
     "output_type": "execute_result"
    }
   ],
   "source": [
    "df_lda_training[df_lda_training['top_topic'] == 1].iloc[:10][['matching_column', 'job_skills', 'skills_only',\n",
    "                                                        'word_scores','topics', 'top_topic']]"
   ]
  },
  {
   "cell_type": "markdown",
   "metadata": {},
   "source": [
    "### Finding an optimal Coherence Value\n",
    "Here we can begin tuning the model for coherence. As previously mentioned, this is still very much a work in progress, and should be used with scrutiny"
   ]
  },
  {
   "cell_type": "code",
   "execution_count": 72,
   "metadata": {},
   "outputs": [],
   "source": [
    "def compute_coherence_values(dictionary, corpus, texts, limit, start=2, step=3):\n",
    "    \"\"\"\n",
    "    Compute c_v coherence for various number of topics\n",
    "\n",
    "    Parameters:\n",
    "    ----------\n",
    "    dictionary : Gensim dictionary\n",
    "    corpus : Gensim corpus\n",
    "    texts : List of input texts\n",
    "    limit : Max num of topics\n",
    "\n",
    "    Returns:\n",
    "    -------\n",
    "    model_list : List of LDA topic models\n",
    "    coherence_values : Coherence values corresponding to the LDA model with respective number of topics\n",
    "    \"\"\"\n",
    "    coherence_values = []\n",
    "    model_list = []\n",
    "    for num_topics in range(start, limit, step):\n",
    "        model = LdaMulticore(corpus=corpus,\n",
    "                         id2word=id2word,\n",
    "                         num_topics=num_topics, \n",
    "                         random_state=100,\n",
    "                         chunksize=100,\n",
    "                         passes=15,\n",
    "                         alpha='symmetric',\n",
    "                         per_word_topics=True)\n",
    "        model_list.append(model)\n",
    "        coherencemodel = CoherenceModel(model=model, texts=texts, dictionary=dictionary, coherence='c_v')\n",
    "        coherence_values.append(coherencemodel.get_coherence())\n",
    "\n",
    "    return model_list, coherence_values"
   ]
  },
  {
   "cell_type": "markdown",
   "metadata": {},
   "source": [
    "### Note: running this may take some time as it has to retrain the model 12 times\n",
    "It would make sense to see a more granular approach once a trend is established. We can use a smaller step size to see how coherence changes for additional values of _k_."
   ]
  },
  {
   "cell_type": "code",
   "execution_count": 73,
   "metadata": {},
   "outputs": [
    {
     "data": {
      "image/png": "[encoded data removed]",
      "text/plain": [
       "<Figure size 432x288 with 1 Axes>"
      ]
     },
     "metadata": {
      "needs_background": "light"
     },
     "output_type": "display_data"
    },
    {
     "name": "stdout",
     "output_type": "stream",
     "text": [
      "CPU times: user 2min 29s, sys: 29.2 s, total: 2min 58s\n",
      "Wall time: 7min 28s\n"
     ]
    }
   ],
   "source": [
    "%%time\n",
    "model_list, coherence_values = compute_coherence_values(dictionary=id2word, corpus=corpus, texts=docs, start=10, limit=70, step=5)\n",
    "limit=70; start=10; step=5;\n",
    "x = range(start, limit, step)\n",
    "plt.plot(x, coherence_values)\n",
    "plt.xlabel(\"Num Topics\")\n",
    "plt.ylabel(\"Coherence score\")\n",
    "plt.legend((\"coherence_values\"), loc='best')\n",
    "plt.show()"
   ]
  },
  {
   "cell_type": "code",
   "execution_count": 74,
   "metadata": {},
   "outputs": [
    {
     "data": {
      "text/plain": [
       "0"
      ]
     },
     "execution_count": 74,
     "metadata": {},
     "output_type": "execute_result"
    }
   ],
   "source": [
    "coherence_values.index(max(coherence_values))"
   ]
  },
  {
   "cell_type": "code",
   "execution_count": 75,
   "metadata": {},
   "outputs": [
    {
     "name": "stdout",
     "output_type": "stream",
     "text": [
      "15\n",
      "0.46942703697673294\n"
     ]
    }
   ],
   "source": [
    "# ideal number of topics and corresponding coherence score\n",
    "print(model_list[1].num_topics)\n",
    "print(coherence_values[1])"
   ]
  },
  {
   "cell_type": "code",
   "execution_count": null,
   "metadata": {},
   "outputs": [],
   "source": []
  }
 ],
 "metadata": {
  "kernelspec": {
   "display_name": "Python 3 (ipykernel)",
   "language": "python",
   "name": "python3"
  },
  "language_info": {
   "codemirror_mode": {
    "name": "ipython",
    "version": 3
   },
   "file_extension": ".py",
   "mimetype": "text/x-python",
   "name": "python",
   "nbconvert_exporter": "python",
   "pygments_lexer": "ipython3",
   "version": "3.9.4"
  }
 },
 "nbformat": 4,
 "nbformat_minor": 4
}
