{
 "cells": [
  {
   "cell_type": "markdown",
   "id": "60d09b68",
   "metadata": {},
   "source": [
    "### 荃者所以在鱼 得鱼而忘荃  言者所以在意 得意而忘言 (庄子)\n",
    "### Nets are for fish; Once you get the fish, you can forget the net. Words are for meaning; Once you get the meaning, you can forget the words. (Zhuangzi/ Chuang Tzu)"
   ]
  },
  {
   "cell_type": "markdown",
   "id": "5944e144",
   "metadata": {},
   "source": [
    "##  <s>Word2Vec<s>\n",
    "##  <s>TF-IDF<s>\n",
    "##  <s>GloVec<s>\n",
    "##  <s>Cosine Simiarity<s>\n",
    "##  <s>ASCII      (ASCI27)<s>\n",
    "##  <s>One-hot<s>\n"
   ]
  },
  {
   "cell_type": "markdown",
   "id": "a755a960",
   "metadata": {},
   "source": [
    " <mark> • In vector semantics, a word is modeled as a vector—a point in high-dimensional space, also called an embedding. **static embeddings**: in each each word is mapped to a fixed embedding.<mark>\n",
    "\n",
    "<mark> • Vector semantic models fall into two classes: sparse and dense. In sparse models each dimension corresponds to a word in the vocabulary V and cells are functions of co-occurrence counts. The term-document matrix has a row for each word (term) in the vocabulary and a column for each document. The word-context or term-term matrix has a row for each (target) word in the  vocabulary and a column for each context term in the vocabulary. Two sparse weightings are common: the tf-idf weighting which weights each cell by its term frequency and inverse document frequency, and \n",
    "**PPMI (pointwise positive mutual information)**, which is most common for for word-context matrices.<mark>\n",
    "    \n",
    "<mark>• Dense vector models have dimensionality 50–1000. Word2vec algorithms like **skip-gram** are a popular way to compute dense embeddings. Skip-gram trains a logistic regression classifier to compute the probability that two words are ‘likely to occur nearby in text’. This probability is computed from the dot product between the embeddings for the two words.<mark>\n",
    "    \n",
    "<mark> •Skip-gram uses stochastic gradient descent to train the classifier, by learning embeddings that have a high dot product with embeddings of words that occur nearby and a low dot product with noise words.<mark>\n",
    "    \n",
    " <mark>•Other important embedding algorithms include GloVe, a method based on ratios of word co-occurrence probabilities.<mark>\n",
    "     \n",
    "<mark>•Whether using sparse or dense vectors, word and document similarities are computed by some function of the dot product between vectors. The cosine of two vectors—a normalized dot product—is the most popular such metric.<mark>"
   ]
  },
  {
   "cell_type": "code",
   "execution_count": 1,
   "id": "7e5744a0",
   "metadata": {},
   "outputs": [],
   "source": [
    "import spacy\n",
    "import numpy as np\n",
    "import pandas as pd\n",
    "from spacy import displacy\n"
   ]
  },
  {
   "cell_type": "code",
   "execution_count": 4,
   "id": "a053bcc7",
   "metadata": {},
   "outputs": [],
   "source": [
    "nlp1 = spacy.load(\"en_core_web_sm\")\n",
    "nlp2 = spacy.load(\"en_core_web_md\")\n",
    "nlp3 = spacy.load(\"en_core_web_lg\")"
   ]
  },
  {
   "cell_type": "code",
   "execution_count": 2,
   "id": "ccbd51b2",
   "metadata": {},
   "outputs": [],
   "source": [
    "text1 = \"\"\"Word Embedding demo on a Tuesday afternoon\"\"\"\n",
    "text2 = \"\"\"Word Embedding demo on a Thurdays afternoon\"\"\"\n",
    "text3 = \"\"\"Word Embedding demo on a Tuesday afternoon every two weeks\"\"\""
   ]
  },
  {
   "cell_type": "code",
   "execution_count": 5,
   "id": "e78bf91d",
   "metadata": {},
   "outputs": [],
   "source": [
    "doc1 = nlp1(text1)\n",
    "doc2 = nlp1(text2)\n",
    "doc3 = nlp1(text3)"
   ]
  },
  {
   "cell_type": "code",
   "execution_count": 6,
   "id": "9857d473",
   "metadata": {},
   "outputs": [
    {
     "data": {
      "text/html": [
       "<div>\n",
       "<style scoped>\n",
       "    .dataframe tbody tr th:only-of-type {\n",
       "        vertical-align: middle;\n",
       "    }\n",
       "\n",
       "    .dataframe tbody tr th {\n",
       "        vertical-align: top;\n",
       "    }\n",
       "\n",
       "    .dataframe thead th {\n",
       "        text-align: right;\n",
       "    }\n",
       "</style>\n",
       "<table border=\"1\" class=\"dataframe\">\n",
       "  <thead>\n",
       "    <tr style=\"text-align: right;\">\n",
       "      <th></th>\n",
       "      <th>0</th>\n",
       "      <th>1</th>\n",
       "      <th>2</th>\n",
       "      <th>3</th>\n",
       "      <th>4</th>\n",
       "      <th>5</th>\n",
       "      <th>6</th>\n",
       "      <th>7</th>\n",
       "      <th>8</th>\n",
       "      <th>9</th>\n",
       "      <th>...</th>\n",
       "      <th>86</th>\n",
       "      <th>87</th>\n",
       "      <th>88</th>\n",
       "      <th>89</th>\n",
       "      <th>90</th>\n",
       "      <th>91</th>\n",
       "      <th>92</th>\n",
       "      <th>93</th>\n",
       "      <th>94</th>\n",
       "      <th>95</th>\n",
       "    </tr>\n",
       "  </thead>\n",
       "  <tbody>\n",
       "    <tr>\n",
       "      <th>0</th>\n",
       "      <td>1.604855</td>\n",
       "      <td>0.870129</td>\n",
       "      <td>0.120647</td>\n",
       "      <td>-0.967765</td>\n",
       "      <td>0.157772</td>\n",
       "      <td>-1.040268</td>\n",
       "      <td>0.443886</td>\n",
       "      <td>1.090996</td>\n",
       "      <td>-1.688075</td>\n",
       "      <td>2.247317</td>\n",
       "      <td>...</td>\n",
       "      <td>-0.186533</td>\n",
       "      <td>0.798131</td>\n",
       "      <td>0.428295</td>\n",
       "      <td>-0.068810</td>\n",
       "      <td>-0.931450</td>\n",
       "      <td>-1.342759</td>\n",
       "      <td>-1.490826</td>\n",
       "      <td>0.51776</td>\n",
       "      <td>1.276725</td>\n",
       "      <td>-0.960276</td>\n",
       "    </tr>\n",
       "    <tr>\n",
       "      <th>1</th>\n",
       "      <td>1.681090</td>\n",
       "      <td>0.971054</td>\n",
       "      <td>0.421737</td>\n",
       "      <td>-0.955669</td>\n",
       "      <td>0.252836</td>\n",
       "      <td>-0.803135</td>\n",
       "      <td>0.247960</td>\n",
       "      <td>1.519428</td>\n",
       "      <td>-1.447631</td>\n",
       "      <td>2.360409</td>\n",
       "      <td>...</td>\n",
       "      <td>-0.387708</td>\n",
       "      <td>0.766207</td>\n",
       "      <td>0.514951</td>\n",
       "      <td>-0.023413</td>\n",
       "      <td>-0.101163</td>\n",
       "      <td>-1.337172</td>\n",
       "      <td>-1.350518</td>\n",
       "      <td>0.19408</td>\n",
       "      <td>1.533168</td>\n",
       "      <td>-0.610841</td>\n",
       "    </tr>\n",
       "    <tr>\n",
       "      <th>2</th>\n",
       "      <td>1.279288</td>\n",
       "      <td>0.591502</td>\n",
       "      <td>-0.130218</td>\n",
       "      <td>-1.383584</td>\n",
       "      <td>-0.223938</td>\n",
       "      <td>-1.321685</td>\n",
       "      <td>0.487777</td>\n",
       "      <td>0.471892</td>\n",
       "      <td>-1.597132</td>\n",
       "      <td>1.744678</td>\n",
       "      <td>...</td>\n",
       "      <td>1.025017</td>\n",
       "      <td>0.045974</td>\n",
       "      <td>0.886794</td>\n",
       "      <td>-0.137476</td>\n",
       "      <td>-0.312957</td>\n",
       "      <td>-1.715649</td>\n",
       "      <td>-0.816762</td>\n",
       "      <td>1.14616</td>\n",
       "      <td>1.498479</td>\n",
       "      <td>-0.997208</td>\n",
       "    </tr>\n",
       "  </tbody>\n",
       "</table>\n",
       "<p>3 rows × 96 columns</p>\n",
       "</div>"
      ],
      "text/plain": [
       "         0         1         2         3         4         5         6   \\\n",
       "0  1.604855  0.870129  0.120647 -0.967765  0.157772 -1.040268  0.443886   \n",
       "1  1.681090  0.971054  0.421737 -0.955669  0.252836 -0.803135  0.247960   \n",
       "2  1.279288  0.591502 -0.130218 -1.383584 -0.223938 -1.321685  0.487777   \n",
       "\n",
       "         7         8         9   ...        86        87        88        89  \\\n",
       "0  1.090996 -1.688075  2.247317  ... -0.186533  0.798131  0.428295 -0.068810   \n",
       "1  1.519428 -1.447631  2.360409  ... -0.387708  0.766207  0.514951 -0.023413   \n",
       "2  0.471892 -1.597132  1.744678  ...  1.025017  0.045974  0.886794 -0.137476   \n",
       "\n",
       "         90        91        92       93        94        95  \n",
       "0 -0.931450 -1.342759 -1.490826  0.51776  1.276725 -0.960276  \n",
       "1 -0.101163 -1.337172 -1.350518  0.19408  1.533168 -0.610841  \n",
       "2 -0.312957 -1.715649 -0.816762  1.14616  1.498479 -0.997208  \n",
       "\n",
       "[3 rows x 96 columns]"
      ]
     },
     "execution_count": 6,
     "metadata": {},
     "output_type": "execute_result"
    }
   ],
   "source": [
    "pd.DataFrame(list((doc1.vector, doc2.vector, doc3.vector)))"
   ]
  },
  {
   "cell_type": "code",
   "execution_count": 10,
   "id": "8cbd6900",
   "metadata": {},
   "outputs": [
    {
     "name": "stdout",
     "output_type": "stream",
     "text": [
      "Word Embedding demo on a Tuesday afternoon <-similarity to> Word Embedding demo on a Thurdays afternoon 1.0\n"
     ]
    }
   ],
   "source": [
    "print(doc1, \"<-similarity to>\", doc2, doc2.similarity(doc2))\n"
   ]
  },
  {
   "cell_type": "code",
   "execution_count": 7,
   "id": "d9acd28a",
   "metadata": {},
   "outputs": [
    {
     "data": {
      "text/html": [
       "<span class=\"tex2jax_ignore\"><svg xmlns=\"http://www.w3.org/2000/svg\" xmlns:xlink=\"http://www.w3.org/1999/xlink\" xml:lang=\"en\" id=\"ea60f892d1fe4c339fedc2e5e3a80647-0\" class=\"displacy\" width=\"1800\" height=\"487.0\" direction=\"ltr\" style=\"max-width: none; height: 487.0px; color: #000000; background: #ffffff; font-family: Arial; direction: ltr\">\n",
       "<text class=\"displacy-token\" fill=\"currentColor\" text-anchor=\"middle\" y=\"397.0\">\n",
       "    <tspan class=\"displacy-word\" fill=\"currentColor\" x=\"50\">Word</tspan>\n",
       "    <tspan class=\"displacy-tag\" dy=\"2em\" fill=\"currentColor\" x=\"50\">NOUN</tspan>\n",
       "</text>\n",
       "\n",
       "<text class=\"displacy-token\" fill=\"currentColor\" text-anchor=\"middle\" y=\"397.0\">\n",
       "    <tspan class=\"displacy-word\" fill=\"currentColor\" x=\"225\">Embedding</tspan>\n",
       "    <tspan class=\"displacy-tag\" dy=\"2em\" fill=\"currentColor\" x=\"225\">PROPN</tspan>\n",
       "</text>\n",
       "\n",
       "<text class=\"displacy-token\" fill=\"currentColor\" text-anchor=\"middle\" y=\"397.0\">\n",
       "    <tspan class=\"displacy-word\" fill=\"currentColor\" x=\"400\">demo</tspan>\n",
       "    <tspan class=\"displacy-tag\" dy=\"2em\" fill=\"currentColor\" x=\"400\">NOUN</tspan>\n",
       "</text>\n",
       "\n",
       "<text class=\"displacy-token\" fill=\"currentColor\" text-anchor=\"middle\" y=\"397.0\">\n",
       "    <tspan class=\"displacy-word\" fill=\"currentColor\" x=\"575\">on</tspan>\n",
       "    <tspan class=\"displacy-tag\" dy=\"2em\" fill=\"currentColor\" x=\"575\">ADP</tspan>\n",
       "</text>\n",
       "\n",
       "<text class=\"displacy-token\" fill=\"currentColor\" text-anchor=\"middle\" y=\"397.0\">\n",
       "    <tspan class=\"displacy-word\" fill=\"currentColor\" x=\"750\">a</tspan>\n",
       "    <tspan class=\"displacy-tag\" dy=\"2em\" fill=\"currentColor\" x=\"750\">DET</tspan>\n",
       "</text>\n",
       "\n",
       "<text class=\"displacy-token\" fill=\"currentColor\" text-anchor=\"middle\" y=\"397.0\">\n",
       "    <tspan class=\"displacy-word\" fill=\"currentColor\" x=\"925\">Tuesday</tspan>\n",
       "    <tspan class=\"displacy-tag\" dy=\"2em\" fill=\"currentColor\" x=\"925\">PROPN</tspan>\n",
       "</text>\n",
       "\n",
       "<text class=\"displacy-token\" fill=\"currentColor\" text-anchor=\"middle\" y=\"397.0\">\n",
       "    <tspan class=\"displacy-word\" fill=\"currentColor\" x=\"1100\">afternoon</tspan>\n",
       "    <tspan class=\"displacy-tag\" dy=\"2em\" fill=\"currentColor\" x=\"1100\">NOUN</tspan>\n",
       "</text>\n",
       "\n",
       "<text class=\"displacy-token\" fill=\"currentColor\" text-anchor=\"middle\" y=\"397.0\">\n",
       "    <tspan class=\"displacy-word\" fill=\"currentColor\" x=\"1275\">every</tspan>\n",
       "    <tspan class=\"displacy-tag\" dy=\"2em\" fill=\"currentColor\" x=\"1275\">DET</tspan>\n",
       "</text>\n",
       "\n",
       "<text class=\"displacy-token\" fill=\"currentColor\" text-anchor=\"middle\" y=\"397.0\">\n",
       "    <tspan class=\"displacy-word\" fill=\"currentColor\" x=\"1450\">two</tspan>\n",
       "    <tspan class=\"displacy-tag\" dy=\"2em\" fill=\"currentColor\" x=\"1450\">NUM</tspan>\n",
       "</text>\n",
       "\n",
       "<text class=\"displacy-token\" fill=\"currentColor\" text-anchor=\"middle\" y=\"397.0\">\n",
       "    <tspan class=\"displacy-word\" fill=\"currentColor\" x=\"1625\">weeks</tspan>\n",
       "    <tspan class=\"displacy-tag\" dy=\"2em\" fill=\"currentColor\" x=\"1625\">NOUN</tspan>\n",
       "</text>\n",
       "\n",
       "<g class=\"displacy-arrow\">\n",
       "    <path class=\"displacy-arc\" id=\"arrow-ea60f892d1fe4c339fedc2e5e3a80647-0-0\" stroke-width=\"2px\" d=\"M70,352.0 C70,264.5 210.0,264.5 210.0,352.0\" fill=\"none\" stroke=\"currentColor\"/>\n",
       "    <text dy=\"1.25em\" style=\"font-size: 0.8em; letter-spacing: 1px\">\n",
       "        <textPath xlink:href=\"#arrow-ea60f892d1fe4c339fedc2e5e3a80647-0-0\" class=\"displacy-label\" startOffset=\"50%\" side=\"left\" fill=\"currentColor\" text-anchor=\"middle\">compound</textPath>\n",
       "    </text>\n",
       "    <path class=\"displacy-arrowhead\" d=\"M70,354.0 L62,342.0 78,342.0\" fill=\"currentColor\"/>\n",
       "</g>\n",
       "\n",
       "<g class=\"displacy-arrow\">\n",
       "    <path class=\"displacy-arc\" id=\"arrow-ea60f892d1fe4c339fedc2e5e3a80647-0-1\" stroke-width=\"2px\" d=\"M245,352.0 C245,264.5 385.0,264.5 385.0,352.0\" fill=\"none\" stroke=\"currentColor\"/>\n",
       "    <text dy=\"1.25em\" style=\"font-size: 0.8em; letter-spacing: 1px\">\n",
       "        <textPath xlink:href=\"#arrow-ea60f892d1fe4c339fedc2e5e3a80647-0-1\" class=\"displacy-label\" startOffset=\"50%\" side=\"left\" fill=\"currentColor\" text-anchor=\"middle\">compound</textPath>\n",
       "    </text>\n",
       "    <path class=\"displacy-arrowhead\" d=\"M245,354.0 L237,342.0 253,342.0\" fill=\"currentColor\"/>\n",
       "</g>\n",
       "\n",
       "<g class=\"displacy-arrow\">\n",
       "    <path class=\"displacy-arc\" id=\"arrow-ea60f892d1fe4c339fedc2e5e3a80647-0-2\" stroke-width=\"2px\" d=\"M420,352.0 C420,264.5 560.0,264.5 560.0,352.0\" fill=\"none\" stroke=\"currentColor\"/>\n",
       "    <text dy=\"1.25em\" style=\"font-size: 0.8em; letter-spacing: 1px\">\n",
       "        <textPath xlink:href=\"#arrow-ea60f892d1fe4c339fedc2e5e3a80647-0-2\" class=\"displacy-label\" startOffset=\"50%\" side=\"left\" fill=\"currentColor\" text-anchor=\"middle\">prep</textPath>\n",
       "    </text>\n",
       "    <path class=\"displacy-arrowhead\" d=\"M560.0,354.0 L568.0,342.0 552.0,342.0\" fill=\"currentColor\"/>\n",
       "</g>\n",
       "\n",
       "<g class=\"displacy-arrow\">\n",
       "    <path class=\"displacy-arc\" id=\"arrow-ea60f892d1fe4c339fedc2e5e3a80647-0-3\" stroke-width=\"2px\" d=\"M770,352.0 C770,177.0 1090.0,177.0 1090.0,352.0\" fill=\"none\" stroke=\"currentColor\"/>\n",
       "    <text dy=\"1.25em\" style=\"font-size: 0.8em; letter-spacing: 1px\">\n",
       "        <textPath xlink:href=\"#arrow-ea60f892d1fe4c339fedc2e5e3a80647-0-3\" class=\"displacy-label\" startOffset=\"50%\" side=\"left\" fill=\"currentColor\" text-anchor=\"middle\">det</textPath>\n",
       "    </text>\n",
       "    <path class=\"displacy-arrowhead\" d=\"M770,354.0 L762,342.0 778,342.0\" fill=\"currentColor\"/>\n",
       "</g>\n",
       "\n",
       "<g class=\"displacy-arrow\">\n",
       "    <path class=\"displacy-arc\" id=\"arrow-ea60f892d1fe4c339fedc2e5e3a80647-0-4\" stroke-width=\"2px\" d=\"M945,352.0 C945,264.5 1085.0,264.5 1085.0,352.0\" fill=\"none\" stroke=\"currentColor\"/>\n",
       "    <text dy=\"1.25em\" style=\"font-size: 0.8em; letter-spacing: 1px\">\n",
       "        <textPath xlink:href=\"#arrow-ea60f892d1fe4c339fedc2e5e3a80647-0-4\" class=\"displacy-label\" startOffset=\"50%\" side=\"left\" fill=\"currentColor\" text-anchor=\"middle\">compound</textPath>\n",
       "    </text>\n",
       "    <path class=\"displacy-arrowhead\" d=\"M945,354.0 L937,342.0 953,342.0\" fill=\"currentColor\"/>\n",
       "</g>\n",
       "\n",
       "<g class=\"displacy-arrow\">\n",
       "    <path class=\"displacy-arc\" id=\"arrow-ea60f892d1fe4c339fedc2e5e3a80647-0-5\" stroke-width=\"2px\" d=\"M595,352.0 C595,89.5 1095.0,89.5 1095.0,352.0\" fill=\"none\" stroke=\"currentColor\"/>\n",
       "    <text dy=\"1.25em\" style=\"font-size: 0.8em; letter-spacing: 1px\">\n",
       "        <textPath xlink:href=\"#arrow-ea60f892d1fe4c339fedc2e5e3a80647-0-5\" class=\"displacy-label\" startOffset=\"50%\" side=\"left\" fill=\"currentColor\" text-anchor=\"middle\">pobj</textPath>\n",
       "    </text>\n",
       "    <path class=\"displacy-arrowhead\" d=\"M1095.0,354.0 L1103.0,342.0 1087.0,342.0\" fill=\"currentColor\"/>\n",
       "</g>\n",
       "\n",
       "<g class=\"displacy-arrow\">\n",
       "    <path class=\"displacy-arc\" id=\"arrow-ea60f892d1fe4c339fedc2e5e3a80647-0-6\" stroke-width=\"2px\" d=\"M1295,352.0 C1295,177.0 1615.0,177.0 1615.0,352.0\" fill=\"none\" stroke=\"currentColor\"/>\n",
       "    <text dy=\"1.25em\" style=\"font-size: 0.8em; letter-spacing: 1px\">\n",
       "        <textPath xlink:href=\"#arrow-ea60f892d1fe4c339fedc2e5e3a80647-0-6\" class=\"displacy-label\" startOffset=\"50%\" side=\"left\" fill=\"currentColor\" text-anchor=\"middle\">det</textPath>\n",
       "    </text>\n",
       "    <path class=\"displacy-arrowhead\" d=\"M1295,354.0 L1287,342.0 1303,342.0\" fill=\"currentColor\"/>\n",
       "</g>\n",
       "\n",
       "<g class=\"displacy-arrow\">\n",
       "    <path class=\"displacy-arc\" id=\"arrow-ea60f892d1fe4c339fedc2e5e3a80647-0-7\" stroke-width=\"2px\" d=\"M1470,352.0 C1470,264.5 1610.0,264.5 1610.0,352.0\" fill=\"none\" stroke=\"currentColor\"/>\n",
       "    <text dy=\"1.25em\" style=\"font-size: 0.8em; letter-spacing: 1px\">\n",
       "        <textPath xlink:href=\"#arrow-ea60f892d1fe4c339fedc2e5e3a80647-0-7\" class=\"displacy-label\" startOffset=\"50%\" side=\"left\" fill=\"currentColor\" text-anchor=\"middle\">nummod</textPath>\n",
       "    </text>\n",
       "    <path class=\"displacy-arrowhead\" d=\"M1470,354.0 L1462,342.0 1478,342.0\" fill=\"currentColor\"/>\n",
       "</g>\n",
       "\n",
       "<g class=\"displacy-arrow\">\n",
       "    <path class=\"displacy-arc\" id=\"arrow-ea60f892d1fe4c339fedc2e5e3a80647-0-8\" stroke-width=\"2px\" d=\"M420,352.0 C420,2.0 1625.0,2.0 1625.0,352.0\" fill=\"none\" stroke=\"currentColor\"/>\n",
       "    <text dy=\"1.25em\" style=\"font-size: 0.8em; letter-spacing: 1px\">\n",
       "        <textPath xlink:href=\"#arrow-ea60f892d1fe4c339fedc2e5e3a80647-0-8\" class=\"displacy-label\" startOffset=\"50%\" side=\"left\" fill=\"currentColor\" text-anchor=\"middle\">npadvmod</textPath>\n",
       "    </text>\n",
       "    <path class=\"displacy-arrowhead\" d=\"M1625.0,354.0 L1633.0,342.0 1617.0,342.0\" fill=\"currentColor\"/>\n",
       "</g>\n",
       "</svg></span>"
      ],
      "text/plain": [
       "<IPython.core.display.HTML object>"
      ]
     },
     "metadata": {},
     "output_type": "display_data"
    }
   ],
   "source": [
    "nlp = spacy.load(\"en_core_web_sm\")\n",
    "doc = nlp(text3)\n",
    "# Since this is an interactive Jupyter environment, we can use displacy.render here\n",
    "displacy.render(doc, style='dep')"
   ]
  },
  {
   "cell_type": "code",
   "execution_count": 22,
   "id": "45d0701f",
   "metadata": {},
   "outputs": [
    {
     "name": "stdout",
     "output_type": "stream",
     "text": [
      "Word word NOUN NN compound Xxxx True False Embedding\n",
      "Embedding Embedding PROPN NNP compound Xxxxx True False demo\n",
      "demo demo NOUN NNS ROOT xxxx True False demo\n",
      "on on ADP IN prep xx True True demo\n",
      "a a DET DT det x True True afternoon\n",
      "Tuesday Tuesday PROPN NNP compound Xxxxx True False afternoon\n",
      "afternoon afternoon NOUN NN pobj xxxx True False on\n",
      "every every DET DT det xxxx True True weeks\n",
      "two two NUM CD nummod xxx True True weeks\n",
      "weeks week NOUN NNS npadvmod xxxx True False demo\n"
     ]
    }
   ],
   "source": [
    "for token in doc3:\n",
    "    print(token.text, token.lemma_, token.pos_, token.tag_, token.dep_,\n",
    "            token.shape_, token.is_alpha, token.is_stop, token.head)"
   ]
  },
  {
   "cell_type": "code",
   "execution_count": 11,
   "id": "e0560379",
   "metadata": {},
   "outputs": [],
   "source": [
    "text_job = \"\"\"We are looking for a Mobile developer responsible for the development\n",
    "and maintenance of applications aimed at a vast number of diverse devices. Familiarity \n",
    "with RESTful APIs to connect iOS or Android applications to back-end services, work from home. \"\"\""
   ]
  },
  {
   "cell_type": "code",
   "execution_count": 27,
   "id": "ae0618e7",
   "metadata": {},
   "outputs": [],
   "source": [
    "text_job_new = text_job + text_job\n",
    "text_job_new_2 = text_job + \"hahaha.  what is that\""
   ]
  },
  {
   "cell_type": "code",
   "execution_count": 30,
   "id": "0e17556e",
   "metadata": {},
   "outputs": [],
   "source": [
    "doc_job_new_2 = nlp2(text_job_new_2)"
   ]
  },
  {
   "cell_type": "code",
   "execution_count": 12,
   "id": "259d5c85",
   "metadata": {},
   "outputs": [],
   "source": [
    "profile_description_tech = \"founder,full stack developer,web developer,mobile developer,lead developer,tech lead,technician lead\"\n",
    "profile_description_nontech = 'account executive,account coordinator,waitress,director of marketing,senior vice president.'\n"
   ]
  },
  {
   "cell_type": "code",
   "execution_count": 15,
   "id": "818568d2",
   "metadata": {},
   "outputs": [],
   "source": [
    "doc_job = nlp2(text_job)\n",
    "doc_profile_tech = nlp2(profile_description_tech)\n",
    "doc_profile_nontech = nlp2(profile_description_nontech)\n"
   ]
  },
  {
   "cell_type": "code",
   "execution_count": 31,
   "id": "271e250a",
   "metadata": {},
   "outputs": [
    {
     "data": {
      "text/plain": [
       "0.9959470979394311"
      ]
     },
     "execution_count": 31,
     "metadata": {},
     "output_type": "execute_result"
    }
   ],
   "source": [
    "doc_job_new.similarity(doc_job_new_2)"
   ]
  },
  {
   "cell_type": "code",
   "execution_count": 18,
   "id": "19670992",
   "metadata": {},
   "outputs": [
    {
     "data": {
      "text/plain": [
       "(0.7751471282917346, 0.6852704822774701)"
      ]
     },
     "execution_count": 18,
     "metadata": {},
     "output_type": "execute_result"
    }
   ],
   "source": [
    "doc_job.similarity(doc_profile_tech),doc_job.similarity(doc_profile_nontech)"
   ]
  },
  {
   "cell_type": "code",
   "execution_count": null,
   "id": "bc10b6d9",
   "metadata": {},
   "outputs": [],
   "source": [
    "doc_job = nlp2(text_job)\n",
    "doc_profile_tech = nlp2(profile_description_tech)\n",
    "doc_profile_nontech = nlp2(profile_description_nontech)"
   ]
  },
  {
   "cell_type": "markdown",
   "id": "f2f11bb5",
   "metadata": {},
   "source": [
    "aws lambda invoke --function-name prod-dhi-pac-tech-profile-classifier-model:live --payload '{\"profile_description\": \"We are looking for a Mobile developer responsible for the developmentand maintenance of applications aimed at a vast number of diverse devices. Familiarity with RESTful APIs to connect iOS or Android applications to back-end services, work from home.\"}' --profile dhi-profileacquisition-prod outfile_job.json\n",
    "\n",
    "\n",
    "aws lambda invoke --function-name prod-dhi-pac-tech-profile-classifier-model:live --payload '{\"profile_description\": \"founder,full stack developer,web developer,mobile developer,lead developer,python developer, aws,tech lead,technician lead, agile\"}' --profile dhi-profileacquisition-prod outfile_profiletech.json\n",
    "\n",
    "aws lambda invoke --function-name prod-dhi-pac-tech-profile-classifier-model:live --payload '{\"profile_description\": \"account executive,account coordinator,waitress,director of marketing,self employed,renovation , senior vice president.\"}' --profile dhi-profileacquisition-prod outfile_profile_nontech.json"
   ]
  },
  {
   "cell_type": "markdown",
   "id": "d8a31789",
   "metadata": {},
   "source": [
    "aws lambda invoke --function-name prod-dhi-pac-tech-profile-classifier-model:live --payload '{\"profile_description\": \"荃 者 所 以 在 鱼 得 鱼 而 忘 荃  言 者 所 以 在 意 得 意 而 忘 言\"}' --profile dhi-profileacquisition-prod outfile.json\n",
    "\n",
    "\n",
    "aws lambda invoke --function-name prod-dhi-pac-tech-profile-classifier-model:live --payload '{\"profile_description\": \"Nets are for fish; Once you get the fish, you can forget the net. Words are for meaning; Once you get the meaning, you can forget the words.\"}' --profile dhi-profileacquisition-prod outfile_trnsl.json"
   ]
  },
  {
   "cell_type": "code",
   "execution_count": 20,
   "id": "709e7cf7",
   "metadata": {},
   "outputs": [],
   "source": [
    "doc_zz = nlp2(\"荃 者 所 以 在 鱼 得 鱼 而 忘 荃  言 者 所 以 在 意 得 意 而 忘 言\")\n",
    "doc_zz_tr = nlp2(\"Nets are for fish; Once you get the fish, you can forget the net. Words are for meaning; Once you get the meaning, you can forget the words.\")"
   ]
  },
  {
   "cell_type": "code",
   "execution_count": 21,
   "id": "95e4f34d",
   "metadata": {},
   "outputs": [
    {
     "name": "stderr",
     "output_type": "stream",
     "text": [
      "<ipython-input-21-311176853c96>:1: UserWarning: [W008] Evaluating Doc.similarity based on empty vectors.\n",
      "  doc_zz.similarity(doc_zz_tr)\n"
     ]
    },
    {
     "data": {
      "text/plain": [
       "0.0"
      ]
     },
     "execution_count": 21,
     "metadata": {},
     "output_type": "execute_result"
    }
   ],
   "source": [
    "doc_zz.similarity(doc_zz_tr)"
   ]
  },
  {
   "cell_type": "markdown",
   "id": "51a726b7",
   "metadata": {},
   "source": [
    "## Future work\n",
    "### 1. Our own pretrain\n",
    "### 2. Richard's tagging machine "
   ]
  },
  {
   "cell_type": "code",
   "execution_count": null,
   "id": "59700226",
   "metadata": {},
   "outputs": [],
   "source": [
    " "
   ]
  }
 ],
 "metadata": {
  "kernelspec": {
   "display_name": "Python 3",
   "language": "python",
   "name": "python3"
  },
  "language_info": {
   "codemirror_mode": {
    "name": "ipython",
    "version": 3
   },
   "file_extension": ".py",
   "mimetype": "text/x-python",
   "name": "python",
   "nbconvert_exporter": "python",
   "pygments_lexer": "ipython3",
   "version": "3.8.10"
  }
 },
 "nbformat": 4,
 "nbformat_minor": 5
}
