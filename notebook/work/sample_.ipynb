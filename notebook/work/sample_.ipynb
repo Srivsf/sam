{
  "nbformat": 4,
  "nbformat_minor": 0,
  "metadata": {
    "colab": {
      "provenance": [],
      "authorship_tag": "ABX9TyMEHCbfPUCOMkqbESdtOTt+",
      "include_colab_link": true
    },
    "kernelspec": {
      "name": "python3",
      "display_name": "Python 3"
    },
    "language_info": {
      "name": "python"
    }
  },
  "cells": [
    {
      "cell_type": "markdown",
      "metadata": {
        "id": "view-in-github",
        "colab_type": "text"
      },
      "source": [
        "<a href=\"https://colab.research.google.com/github/Srivsf/Srivsf/blob/main/notebook/work/sample_.ipynb\" target=\"_parent\"><img src=\"https://colab.research.google.com/assets/colab-badge.svg\" alt=\"Open In Colab\"/></a>"
      ]
    },
    {
      "cell_type": "code",
      "execution_count": 1,
      "metadata": {
        "colab": {
          "base_uri": "https://localhost:8080/"
        },
        "id": "JBBoDWyoV2kY",
        "outputId": "a88b9ecb-ab4f-4850-8e35-00faee5e1daa"
      },
      "outputs": [
        {
          "output_type": "stream",
          "name": "stdout",
          "text": [
            "Cloning into 'Srivsf'...\n",
            "remote: Enumerating objects: 180, done.\u001b[K\n",
            "remote: Counting objects: 100% (180/180), done.\u001b[K\n",
            "remote: Compressing objects: 100% (169/169), done.\u001b[K\n",
            "remote: Total 180 (delta 67), reused 0 (delta 0), pack-reused 0\u001b[K\n",
            "Receiving objects: 100% (180/180), 657.05 KiB | 9.25 MiB/s, done.\n",
            "Resolving deltas: 100% (67/67), done.\n"
          ]
        }
      ],
      "source": [
        "! git clone https://github.com/Srivsf/Srivsf.git"
      ]
    },
    {
      "cell_type": "code",
      "source": [
        "! git pull https://github.com/Srivsf/Srivsf.git"
      ],
      "metadata": {
        "colab": {
          "base_uri": "https://localhost:8080/"
        },
        "id": "SlqhZl4kV6A5",
        "outputId": "f488a139-6f3b-4408-cefb-b666d7c010fe"
      },
      "execution_count": 5,
      "outputs": [
        {
          "output_type": "stream",
          "name": "stdout",
          "text": [
            "fatal: not a git repository (or any of the parent directories): .git\n"
          ]
        }
      ]
    },
    {
      "cell_type": "code",
      "source": [
        "from Srivsf.util.stringsimilarity import levenshtein"
      ],
      "metadata": {
        "id": "Vy-PBB3nWWNk"
      },
      "execution_count": 8,
      "outputs": []
    },
    {
      "cell_type": "code",
      "source": [
        "levenshtein('sfurti', 'shur]]ti')"
      ],
      "metadata": {
        "colab": {
          "base_uri": "https://localhost:8080/"
        },
        "id": "0LgtPQwBXUc-",
        "outputId": "79132f80-1e2a-4a33-af6b-d21f1ff89562"
      },
      "execution_count": 12,
      "outputs": [
        {
          "output_type": "execute_result",
          "data": {
            "text/plain": [
              "3.0"
            ]
          },
          "metadata": {},
          "execution_count": 12
        }
      ]
    },
    {
      "cell_type": "code",
      "source": [],
      "metadata": {
        "id": "TSgMk1uiXmsw"
      },
      "execution_count": null,
      "outputs": []
    }
  ]
}